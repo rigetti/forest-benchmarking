{
 "cells": [
  {
   "cell_type": "markdown",
   "metadata": {},
   "source": [
    "# Hinton Plots\n",
    "Hinton plots show matrix elements visually"
   ]
  },
  {
   "cell_type": "markdown",
   "metadata": {},
   "source": [
    "### Some states"
   ]
  },
  {
   "cell_type": "code",
   "execution_count": 1,
   "metadata": {},
   "outputs": [],
   "source": [
    "import numpy as np\n",
    "from pyquil.gate_matrices import X, Y, Z\n",
    "PROJ_ZERO = np.array([[1, 0], [0, 0]])\n",
    "PROJ_ONE = np.array([[0, 0], [0, 1]])\n",
    "ID = PROJ_ZERO + PROJ_ONE\n",
    "PLUS = np.array([[1], [1]]) / np.sqrt(2)\n",
    "PROJ_PLUS = PLUS @ PLUS.T.conj()\n",
    "PROJ_MINUS = ID - PROJ_PLUS\n",
    "Z_EFFECTS = [PROJ_ZERO, PROJ_ONE]\n",
    "X_EFFECTS = [PROJ_PLUS, PROJ_MINUS]\n",
    "\n",
    "# Two qubit defs\n",
    "P00 = np.kron(PROJ_ZERO, PROJ_ZERO)\n",
    "P01 = np.kron(PROJ_ZERO, PROJ_ONE)\n",
    "P10 = np.kron(PROJ_ONE, PROJ_ZERO)\n",
    "P11 = np.kron(PROJ_ONE, PROJ_ONE)\n",
    "ID_2Q = P00 + P01 + P10 + P11\n",
    "ZZ_EFFECTS = [P00, P01, P10, P11]"
   ]
  },
  {
   "cell_type": "code",
   "execution_count": 2,
   "metadata": {},
   "outputs": [],
   "source": [
    "from forest.benchmarking.plotting import hinton\n",
    "from matplotlib import pyplot as plt"
   ]
  },
  {
   "cell_type": "code",
   "execution_count": 3,
   "metadata": {},
   "outputs": [
    {
     "data": {
      "image/png": "[encoded data removed]",
      "text/plain": [
       "<Figure size 432x288 with 1 Axes>"
      ]
     },
     "metadata": {},
     "output_type": "display_data"
    }
   ],
   "source": [
    "hinton(PROJ_ZERO)\n",
    "_ = plt.title(r'$\\Pi_0$', fontsize=18)"
   ]
  },
  {
   "cell_type": "code",
   "execution_count": 4,
   "metadata": {},
   "outputs": [
    {
     "data": {
      "image/png": "[encoded data removed]",
      "text/plain": [
       "<Figure size 432x288 with 1 Axes>"
      ]
     },
     "metadata": {},
     "output_type": "display_data"
    }
   ],
   "source": [
    "hinton(PROJ_ONE)\n",
    "_ = plt.title(r'$\\Pi_1$', fontsize=18)"
   ]
  },
  {
   "cell_type": "code",
   "execution_count": 5,
   "metadata": {},
   "outputs": [
    {
     "data": {
      "image/png": "[encoded data removed]",
      "text/plain": [
       "<Figure size 432x288 with 1 Axes>"
      ]
     },
     "metadata": {},
     "output_type": "display_data"
    }
   ],
   "source": [
    "hinton(ID)\n",
    "_ = plt.title(r'$I$', fontsize=18)"
   ]
  },
  {
   "cell_type": "code",
   "execution_count": 6,
   "metadata": {},
   "outputs": [
    {
     "data": {
      "image/png": "[encoded data removed]",
      "text/plain": [
       "<Figure size 432x288 with 1 Axes>"
      ]
     },
     "metadata": {},
     "output_type": "display_data"
    }
   ],
   "source": [
    "hinton(PROJ_PLUS)\n",
    "_ = plt.title(r'$\\Pi_+$', fontsize=18)"
   ]
  },
  {
   "cell_type": "code",
   "execution_count": 7,
   "metadata": {},
   "outputs": [
    {
     "data": {
      "image/png": "[encoded data removed]",
      "text/plain": [
       "<Figure size 432x288 with 1 Axes>"
      ]
     },
     "metadata": {},
     "output_type": "display_data"
    }
   ],
   "source": [
    "hinton(PROJ_MINUS)\n",
    "_ = plt.title(r'$\\Pi_-$', fontsize=18)"
   ]
  },
  {
   "cell_type": "code",
   "execution_count": 8,
   "metadata": {},
   "outputs": [
    {
     "data": {
      "image/png": "[encoded data removed]",
      "text/plain": [
       "<Figure size 432x288 with 1 Axes>"
      ]
     },
     "metadata": {},
     "output_type": "display_data"
    }
   ],
   "source": [
    "hinton(X)\n",
    "_ = plt.title(r'$X$', fontsize=18)"
   ]
  },
  {
   "cell_type": "code",
   "execution_count": 9,
   "metadata": {},
   "outputs": [
    {
     "data": {
      "image/png": "[encoded data removed]",
      "text/plain": [
       "<Figure size 432x288 with 1 Axes>"
      ]
     },
     "metadata": {},
     "output_type": "display_data"
    }
   ],
   "source": [
    "hinton(Y) # this seems wrong\n",
    "_ = plt.title(r'$Y$', fontsize=18)"
   ]
  },
  {
   "cell_type": "code",
   "execution_count": 10,
   "metadata": {},
   "outputs": [
    {
     "data": {
      "image/png": "[encoded data removed]",
      "text/plain": [
       "<Figure size 432x288 with 1 Axes>"
      ]
     },
     "metadata": {},
     "output_type": "display_data"
    }
   ],
   "source": [
    "hinton(Z)\n",
    "_ = plt.title(r'$Z$', fontsize=18)"
   ]
  },
  {
   "cell_type": "code",
   "execution_count": 11,
   "metadata": {},
   "outputs": [
    {
     "data": {
      "image/png": "[encoded data removed]",
      "text/plain": [
       "<Figure size 432x288 with 1 Axes>"
      ]
     },
     "metadata": {},
     "output_type": "display_data"
    }
   ],
   "source": [
    "bell = 1/np.sqrt(2) * np.array([1, 0, 0, 1])\n",
    "rho_bell = np.outer(bell, bell)\n",
    "hinton(rho_bell)\n",
    "_ = plt.title(r'$\\rho_\\mathrm{bell}$', fontsize=18)"
   ]
  }
 ],
 "metadata": {
  "kernelspec": {
   "display_name": "Python 3",
   "language": "python",
   "name": "python3"
  },
  "language_info": {
   "codemirror_mode": {
    "name": "ipython",
    "version": 3
   },
   "file_extension": ".py",
   "mimetype": "text/x-python",
   "name": "python",
   "nbconvert_exporter": "python",
   "pygments_lexer": "ipython3",
   "version": "3.6.5"
  }
 },
 "nbformat": 4,
 "nbformat_minor": 2
}
