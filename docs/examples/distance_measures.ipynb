{
 "cells": [
  {
   "cell_type": "markdown",
   "metadata": {},
   "source": [
    "# Distance measures\n",
    "\n",
    "It is often the case that we wish to measure how close an experimentally prepared quantum state is to the ideal, or how close an ideal quantum gate is to its experimental implementation. In this notebook we explore some quantitative measures of comparing quantum states and processes using the forest.benchmarking module `distance_measures.py`.\n",
    "\n",
    "Distance measures between states or processes can be subtle. We recommend thinking about the *operational interpretation* of each measure before using the measure. \n",
    "\n",
    "**More information**  \n",
    "\n",
    "The following references are good starting points for further reading of the literature.\n",
    "\n",
    "| *Quantum Computation and Quantum Information.*  \n",
    "|     Michael A. Nielsen & Isaac L. Chuang.  \n",
    "|     Cambridge: Cambridge University Press (2000).  \n",
    "\n",
    "\n",
    "| *Distinguishability and Accessible Information in Quantum Theory.*  \n",
    "|     Christopher A. Fuchs.  \n",
    "|     Ph.D. thesis, The University of New Mexico (1996).  \n",
    "|     https://arxiv.org/abs/quant-ph/9601020  \n",
    "\n",
    "\n",
    "| *Distance measures to compare real and ideal quantum processes.*  \n",
    "|     Alexei Gilchrist, Nathan K. Langford, Michael A. Nielsen.  \n",
    "|     Phys. Rev. A 71, 062310 (2005).  \n",
    "|     https://doi.org/10.1103/PhysRevA.71.062310  \n",
    "|     https://arxiv.org/abs/quant-ph/0408063  \n",
    "\n",
    "\n",
    "| *Characterizing Quantum Gates via Randomized Benchmarking.*  \n",
    "|     Easwar Magesan, Jay M. Gambetta, and Joseph Emerson.  \n",
    "|     Phys. Rev. A 85, 042311 (2012).  \n",
    "|     https://doi.org/10.1103/PhysRevA.85.042311  \n",
    "|     https://arxiv.org/abs/1109.6887  \n",
    " \n",
    "\n"
   ]
  },
  {
   "cell_type": "code",
   "execution_count": 1,
   "metadata": {},
   "outputs": [],
   "source": [
    "import numpy as np\n",
    "import forest.benchmarking.operator_tools.random_operators as rand_ops\n",
    "from forest.benchmarking.operator_tools.calculational import outer_product\n",
    "import forest.benchmarking.distance_measures as dm"
   ]
  },
  {
   "cell_type": "markdown",
   "metadata": {},
   "source": [
    "## Distance measures between quantum states\n",
    "\n",
    "When comparing quantum states there are a variety of different measures of (in-)distinguishability, with each usually being the answer to a particular question, such as “With what probability can I distinguish two states in a single experiment?”, or “How indistinguishable are measurement samples of two states going to be?”."
   ]
  },
  {
   "cell_type": "code",
   "execution_count": 2,
   "metadata": {},
   "outputs": [],
   "source": [
    "# some pure states \n",
    "psi1 = rand_ops.haar_rand_state(2)\n",
    "rho_haar1 = outer_product(psi1,psi1)\n",
    "psi2 = rand_ops.haar_rand_state(2)\n",
    "rho_haar2 = outer_product(psi2,psi2)\n",
    "\n",
    "# some mixed states\n",
    "rho = rand_ops.bures_measure_state_matrix(2) \n",
    "sigma = rand_ops.bures_measure_state_matrix(2) "
   ]
  },
  {
   "cell_type": "markdown",
   "metadata": {},
   "source": [
    "The [fidelity](https://en.wikipedia.org/wiki/Fidelity_of_quantum_states) between $\\rho$ and $\\sigma$ is\n",
    "\n",
    "$$F(\\rho, \\sigma) = \\left(\\mathrm{Tr} \\sqrt{\\sqrt{\\rho} \\sigma \\sqrt{\\rho}}\\right)^2.$$  \n",
    "\n",
    "When $\\rho = |\\psi\\rangle \\langle \\psi|$ and $\\sigma= |\\phi\\rangle \\langle \\phi|$ are pure states, the definition reduces to the squared overlap between the states: $F(\\rho, \\sigma)=|\\langle\\psi|\\phi\\rangle|^2$. \n",
    "\n",
    "In this case, it is easy to see that the fidelity is a probability. Suppose you are trying to prepare the state $|\\psi\\rangle$ but end up preparing $|\\phi\\rangle$, next you perform the measurement $\\Pi_\\psi = |\\psi \\rangle \\langle \\psi|$ vs $\\Pi_{\\neg \\psi} = I - \\Pi_\\psi$ then the fidelity is equal to the probability that you measure $\\Pi_\\psi$ i.e.\n",
    "\n",
    "$$\\Pr(\\Pi_\\psi|\\phi) = \\langle \\phi | \\Pi_\\psi |\\phi \\rangle =|\\langle\\psi|\\phi\\rangle|^2 = F(\\psi, \\phi).$$\n",
    " \n",
    "Be careful not to confuse this definition with the **square root fidelity** $\\sqrt{F}$, which has a [subtle operational interpretation](https://arxiv.org/abs/quant-ph/0111053). "
   ]
  },
  {
   "cell_type": "code",
   "execution_count": 3,
   "metadata": {},
   "outputs": [
    {
     "data": {
      "text/plain": [
       "0.44391492439312213"
      ]
     },
     "execution_count": 3,
     "metadata": {},
     "output_type": "execute_result"
    }
   ],
   "source": [
    "dm.fidelity(rho, sigma)"
   ]
  },
  {
   "cell_type": "code",
   "execution_count": 4,
   "metadata": {},
   "outputs": [
    {
     "name": "stdout",
     "output_type": "stream",
     "text": [
      "Infidelity is 1 - fidelity: 0.5560850756068778 \n",
      "\n"
     ]
    }
   ],
   "source": [
    "print('Infidelity is 1 - fidelity:', dm.infidelity(rho, sigma), '\\n')"
   ]
  },
  {
   "cell_type": "markdown",
   "metadata": {},
   "source": [
    "Another important measure is the [Trace distance](https://en.wikipedia.org/wiki/Trace_distance) between $\\rho$ and $\\sigma$ which we denote by \n",
    "$$T(\\rho,\\sigma)={\\frac{1}{2}}\\|\\rho-\\sigma\\|_{{1}}=\n",
    "{\\frac{1}{2}}{\\mathrm {Tr}}\\left[{\\sqrt{(\\rho-\\sigma )^{\\dagger}(\\rho-\\sigma)}}\\right].$$\n",
    "\n",
    "\n",
    "\n",
    "\n",
    "The Trace distance has the physical / operational interpretation of being related to the measurement that achieves the maximum probability of distinguishing between $\\rho$ and $\\sigma$ in a single measurement \n",
    "\n",
    "$$ \\Pr({\\rm correct\\ guess}|\\rho, \\sigma) = \\frac 1 2 \\Big [1 + T(\\rho, \\sigma)\\Big]$$\n",
    "\n",
    "see the Wikipedia entry and Fuchs' PhD thesis for more information."
   ]
  },
  {
   "cell_type": "code",
   "execution_count": 5,
   "metadata": {},
   "outputs": [
    {
     "data": {
      "text/plain": [
       "0.5148017705415839"
      ]
     },
     "execution_count": 5,
     "metadata": {},
     "output_type": "execute_result"
    }
   ],
   "source": [
    "dm.trace_distance(rho, sigma)"
   ]
  },
  {
   "cell_type": "markdown",
   "metadata": {},
   "source": [
    "More information about the `bures_distance` and `bures_angle` can be found on the [Bures metric Wikipedia article](https://en.wikipedia.org/wiki/Bures_metric)."
   ]
  },
  {
   "cell_type": "code",
   "execution_count": 6,
   "metadata": {},
   "outputs": [
    {
     "data": {
      "text/plain": [
       "0.8169829762394096"
      ]
     },
     "execution_count": 6,
     "metadata": {},
     "output_type": "execute_result"
    }
   ],
   "source": [
    "dm.bures_distance(rho, sigma)"
   ]
  },
  {
   "cell_type": "code",
   "execution_count": 7,
   "metadata": {},
   "outputs": [
    {
     "data": {
      "text/plain": [
       "0.8416015216867558"
      ]
     },
     "execution_count": 7,
     "metadata": {},
     "output_type": "execute_result"
    }
   ],
   "source": [
    "dm.bures_angle(rho, sigma)"
   ]
  },
  {
   "cell_type": "markdown",
   "metadata": {},
   "source": [
    "The [Hilbert Schmidt inner product](https://en.wikipedia.org/wiki/Hilbert%E2%80%93Schmidt_operator) is a useful concept in quantum information."
   ]
  },
  {
   "cell_type": "code",
   "execution_count": 8,
   "metadata": {},
   "outputs": [
    {
     "data": {
      "text/plain": [
       "0.3510710632692492"
      ]
     },
     "execution_count": 8,
     "metadata": {},
     "output_type": "execute_result"
    }
   ],
   "source": [
    "dm.hilbert_schmidt_ip(rho, sigma)"
   ]
  },
  {
   "cell_type": "markdown",
   "metadata": {},
   "source": [
    "Above we mentioned in passing how the trace distance is related to the optimal probability for distinguishing two states in a single measurement.\n",
    "\n",
    "A basic question in statistics and information theory is \"What is the optimal probability if you are given $n$ measurements?\". Herman Chernoff solved this problem in 1952, see the [open access paper here](https://dx.doi.org/10.1214/aoms/1177729330); the problem is [still interesting today](https://arxiv.org/abs/1102.2684).\n",
    "\n",
    "He showed, in the limit of large $n$, that the probability of error $P_{\\rm err}$ in discriminating two probability\n",
    "distributions decreases exponentially in $n$:\n",
    "\n",
    "$$P_{\\rm err}∼ \\exp(−n \\xi_{CB})$$\n",
    "\n",
    "where the exponent $\\xi_{CB}$ is called the Chernoff bound. $P_{\\rm err}$ is one minus the optimal probability for distinguishing two states.\n",
    "\n",
    "In `distance_measures` we provide a utility to calculate [The Quantum Chernoff Bound](https://arxiv.org/pdf/quant-ph/0610027.pdf)."
   ]
  },
  {
   "cell_type": "code",
   "execution_count": 9,
   "metadata": {},
   "outputs": [
    {
     "name": "stdout",
     "output_type": "stream",
     "text": [
      "The non-logarithmic quantum Chernoff bound is: 0.6157194691457855\n",
      "The s achieving the minimum qcb_exp is: 0.4601758017841054 \n",
      "\n"
     ]
    }
   ],
   "source": [
    "qcb_exp, s_opt = dm.quantum_chernoff_bound(rho,sigma)\n",
    "print('The non-logarithmic quantum Chernoff bound is:', qcb_exp)\n",
    "print('The s achieving the minimum qcb_exp is:', s_opt, '\\n')"
   ]
  },
  {
   "cell_type": "markdown",
   "metadata": {},
   "source": [
    "Next we calculate the [total variation distance (TVD)](https://en.wikipedia.org/wiki/Total_variation_distance_of_probability_measures) between the classical outcome distributions associated with two random states in the Z basis."
   ]
  },
  {
   "cell_type": "code",
   "execution_count": 10,
   "metadata": {},
   "outputs": [
    {
     "data": {
      "text/plain": [
       "0.02833199827251809"
      ]
     },
     "execution_count": 10,
     "metadata": {},
     "output_type": "execute_result"
    }
   ],
   "source": [
    "Proj_zero = np.array([[1, 0], [0, 0]])\n",
    "\n",
    "# Pr(0|rho) = Tr[ rho * Proj_zero ]\n",
    "p = np.trace(rho_haar1 @ Proj_zero)\n",
    "q = np.trace(rho_haar2 @ Proj_zero)\n",
    "\n",
    "# Pr(Proj_one) = 1 - p or Pr(Proj_one) = 1 - q \n",
    "P = np.array([[p], [1-p]])\n",
    "Q = np.array([[q], [1-q]])\n",
    "\n",
    "dm.total_variation_distance(P,Q)"
   ]
  },
  {
   "cell_type": "markdown",
   "metadata": {},
   "source": [
    "The next two measures are not really measures between states; however you can think of them as a measure of how close (or how far, respectively) the given state is to a pure state. \n",
    "\n",
    "The purity is defined as\n",
    "\n",
    "$$P(\\rho) = {\\rm Tr}[\\rho^2]$$\n",
    "\n",
    "while the impurity is defined as\n",
    "\n",
    "$$L(\\rho) = 1 - P(\\rho) = 1 - {\\rm Tr}[\\rho^2]$$\n",
    "\n",
    "and is sometimes referred to as the [linear entropy](https://en.wikipedia.org/wiki/Linear_entropy)."
   ]
  },
  {
   "cell_type": "code",
   "execution_count": 11,
   "metadata": {},
   "outputs": [
    {
     "name": "stdout",
     "output_type": "stream",
     "text": [
      "Pure states have purity P =  1.0\n",
      "Mixed states have purity <=1. In this case P =  0.9461 \n",
      "\n",
      "Pure states have impurity L = 1 - Purity =  0.0\n",
      "Mixed states have impurity >= 0. In this case L =  0.0539\n"
     ]
    }
   ],
   "source": [
    "print('Pure states have purity P = ', np.round(dm.purity(rho_haar1),4))\n",
    "print('Mixed states have purity <=1. In this case P = ', np.round(dm.purity(rho),4), '\\n')\n",
    "\n",
    "print('Pure states have impurity L = 1 - Purity = ', np.round(dm.impurity(rho_haar1),4))\n",
    "print('Mixed states have impurity >= 0. In this case L = ', np.round(dm.impurity(rho),4))"
   ]
  },
  {
   "cell_type": "markdown",
   "metadata": {},
   "source": [
    "Some researchers us a dimensional renormalization that makes the purity lie between [0,1]. In this case maximally mixed state has purity = 0, independent of dimension D. The mathematical expression for dimensional renormalization for the purity is \n",
    "\n",
    "$$ P_R(\\rho) = \\frac{d}{d- 1} \\Big[P(\\rho) - \\frac{1}{d} \\Big]. $$\n",
    "\n",
    "\n",
    "The dimensional renormalization for the impurity gives\n",
    "$$L_R(\\rho) =  \\frac{d}{d-1} L(\\rho) = \\frac{d}{d-1} \\Big[ 1 - P(\\rho)\\Big].$$\n"
   ]
  },
  {
   "cell_type": "code",
   "execution_count": 12,
   "metadata": {},
   "outputs": [
    {
     "name": "stdout",
     "output_type": "stream",
     "text": [
      "0.892259133986272\n",
      "0.946129566993136\n",
      "0.10774086601372801\n",
      "0.053870433006864005\n"
     ]
    }
   ],
   "source": [
    "# calculate purity WITH and WITHOUT dimensional renormalization\n",
    "print(dm.purity(rho, dim_renorm=True))\n",
    "print(dm.purity(rho, dim_renorm=False))\n",
    "\n",
    "# calculate impurity WITH and WITHOUT dimensional renormalization\n",
    "print(dm.impurity(rho, dim_renorm=True))\n",
    "print(dm.impurity(rho, dim_renorm=False))"
   ]
  },
  {
   "cell_type": "code",
   "execution_count": 13,
   "metadata": {},
   "outputs": [
    {
     "data": {
      "text/plain": [
       "1.0"
      ]
     },
     "execution_count": 13,
     "metadata": {},
     "output_type": "execute_result"
    }
   ],
   "source": [
    "dm.purity(rho, dim_renorm=True)+dm.impurity(rho, dim_renorm=True)"
   ]
  },
  {
   "cell_type": "markdown",
   "metadata": {},
   "source": [
    "## Distance measures between quantum processes\n",
    "\n",
    "For processes the two most popular metrics are: the average gate fidelity $F_{\\rm avg}(P,U)$ of an actual process P relative to some ideal unitary gate U, and the diamond norm distance."
   ]
  },
  {
   "cell_type": "markdown",
   "metadata": {},
   "source": [
    "This example is related to test cases borrowed from [qutip](https://github.com/qutip/qutip/blob/master/qutip/tests/test_metrics.py),\n",
    "which were in turn generated using [QuantumUtils for MATLAB](https://goo.gl/oWXhO9) by C. Granade."
   ]
  },
  {
   "cell_type": "code",
   "execution_count": 14,
   "metadata": {},
   "outputs": [
    {
     "name": "stdout",
     "output_type": "stream",
     "text": [
      "[[0.98006658+0.j         0.        -0.19866933j]\n",
      " [0.        -0.19866933j 0.98006658+0.j        ]]\n"
     ]
    }
   ],
   "source": [
    "Id = np.asarray([[1, 0], [0, 1]])\n",
    "Xd = np.asarray([[0, 1], [1, 0]])\n",
    "\n",
    "from scipy.linalg import expm\n",
    "\n",
    "# Define unitary\n",
    "theta = 0.4\n",
    "Ud = expm(-theta*1j*Xd/2)\n",
    "\n",
    "# This unitary is:\n",
    "# close to Id for theta small\n",
    "# close to X for theta np.pi (up to global phase -1j)\n",
    "print(Ud)"
   ]
  },
  {
   "cell_type": "markdown",
   "metadata": {},
   "source": [
    "**Process Fidelity between Pauli-Liouville matrices**\n",
    "\n",
    "In some sense the Process Fidelity measures the average fidelity (averaged over all input states) with which a physical channel implements the ideal operation. Given the Pauli transfer matrices $\\mathcal{R}_P$ and $\\mathcal{R}_U$ for the actual and ideal processes, respectively, the [average gate fidelity](https://arxiv.org/abs/1202.5344) is\n",
    "\n",
    "$$ \n",
    "F_{\\rm avg}(P, U) = \\frac{{\\rm Tr}\\big[ \\mathcal{R}_P^T\\mathcal{R}_U \\big ]/d + 1}{d+1}\n",
    "$$\n",
    "\n",
    "The corresponding infidelity \n",
    "\n",
    "$$1-F_{\\rm avg}(P, U)$$\n",
    "\n",
    "can be seen as a measure of the average gate error, but it is not a proper metric."
   ]
  },
  {
   "cell_type": "code",
   "execution_count": 15,
   "metadata": {},
   "outputs": [],
   "source": [
    "from forest.benchmarking.operator_tools import kraus2pauli_liouville"
   ]
  },
  {
   "cell_type": "code",
   "execution_count": 16,
   "metadata": {},
   "outputs": [],
   "source": [
    "plio0 = kraus2pauli_liouville(Id) \n",
    "plio1 = kraus2pauli_liouville(Ud)\n",
    "plio2 = kraus2pauli_liouville(Xd)"
   ]
  },
  {
   "cell_type": "code",
   "execution_count": 17,
   "metadata": {},
   "outputs": [
    {
     "data": {
      "text/plain": [
       "0.9736869980009618"
      ]
     },
     "execution_count": 17,
     "metadata": {},
     "output_type": "execute_result"
    }
   ],
   "source": [
    "dm.process_fidelity(plio0, plio1)"
   ]
  },
  {
   "cell_type": "code",
   "execution_count": 18,
   "metadata": {},
   "outputs": [
    {
     "data": {
      "text/plain": [
       "0.026313001999038188"
      ]
     },
     "execution_count": 18,
     "metadata": {},
     "output_type": "execute_result"
    }
   ],
   "source": [
    "dm.process_infidelity(plio0, plio1)"
   ]
  },
  {
   "cell_type": "markdown",
   "metadata": {},
   "source": [
    "**Diamond norm distance between Choi matrices**\n",
    "\n",
    "\n",
    "The diamond norm distance has an operational interpretation related to the trace distance, i.e. single measurement channel discrimination. \n",
    "\n",
    "Readers interested in the subtle issues here are referred to \n",
    "\n",
    "* John Watrous's Lecture Notes [Lecture 20: Channel distinguishability and the completely\n",
    "bounded trace norm](https://cs.uwaterloo.ca/~watrous/LectureNotes/CS766.Fall2011/20.pdf)\n",
    "* [Fundamental limits to quantum channel discrimination, by Pirandola et al.](https://arxiv.org/abs/1803.02834)\n",
    "* [slides from an over view talk by Blume-Kohout](https://www.osti.gov/servlets/purl/1255785)"
   ]
  },
  {
   "cell_type": "code",
   "execution_count": 19,
   "metadata": {},
   "outputs": [],
   "source": [
    "from forest.benchmarking.operator_tools import kraus2choi"
   ]
  },
  {
   "cell_type": "code",
   "execution_count": 20,
   "metadata": {},
   "outputs": [],
   "source": [
    "choi0 = kraus2choi(Id) \n",
    "choi1 = kraus2choi(Ud)\n",
    "choi2 = kraus2choi(Xd)"
   ]
  },
  {
   "cell_type": "code",
   "execution_count": 21,
   "metadata": {},
   "outputs": [
    {
     "name": "stdout",
     "output_type": "stream",
     "text": [
      "This gate is close to the identity as the diamond norm is close to zero. Dnorm=  0.3973386615692544\n"
     ]
    }
   ],
   "source": [
    "# NBVAL_SKIP\n",
    "# our build environment has problems with cvxpy so we skip this cell\n",
    "\n",
    "dnorm = dm.diamond_norm_distance(choi0, choi1)\n",
    "print(\"This gate is close to the identity as the diamond norm is close to zero. Dnorm= \",dnorm)"
   ]
  },
  {
   "cell_type": "code",
   "execution_count": 22,
   "metadata": {},
   "outputs": [
    {
     "name": "stdout",
     "output_type": "stream",
     "text": [
      "This gate is far from identity as diamond norm =  2.0000000004366494\n"
     ]
    }
   ],
   "source": [
    "# NBVAL_SKIP\n",
    "\n",
    "dnorm = dm.diamond_norm_distance(choi0, choi2)\n",
    "print(\"This gate is far from identity as diamond norm = \",dnorm)"
   ]
  },
  {
   "cell_type": "code",
   "execution_count": 23,
   "metadata": {},
   "outputs": [
    {
     "data": {
      "text/plain": [
       "(0.3973386615901225, 1.58935464636049)"
      ]
     },
     "execution_count": 23,
     "metadata": {},
     "output_type": "execute_result"
    }
   ],
   "source": [
    "dm.watrous_bounds((choi0 - choi1)/2)"
   ]
  },
  {
   "cell_type": "code",
   "execution_count": null,
   "metadata": {},
   "outputs": [],
   "source": []
  }
 ],
 "metadata": {
  "kernelspec": {
   "display_name": "Python 3",
   "language": "python",
   "name": "python3"
  },
  "language_info": {
   "codemirror_mode": {
    "name": "ipython",
    "version": 3
   },
   "file_extension": ".py",
   "mimetype": "text/x-python",
   "name": "python",
   "nbconvert_exporter": "python",
   "pygments_lexer": "ipython3",
   "version": "3.6.5"
  }
 },
 "nbformat": 4,
 "nbformat_minor": 2
}
