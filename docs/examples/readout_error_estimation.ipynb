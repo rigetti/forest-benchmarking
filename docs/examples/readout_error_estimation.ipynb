{
 "cells": [
  {
   "cell_type": "markdown",
   "metadata": {},
   "source": [
    "# Readout Error Estimation\n",
    "\n",
    "In this notebook we explore the module `readout.py` that enables \n",
    "easy estimation of readout imperfections in the computational basis.\n",
    "\n",
    "The basic idea is to prepare all possible computational basis states \n",
    "and measure the resulting distribution over output strings. For \n",
    "input bit strings $i$ and measured output strings $j$ we want to learn all \n",
    "values of $\\Pr( {\\rm detected \\ } j\n",
    "| {\\rm prepared \\ } i)$. It is convenient to collect these probabilities \n",
    "into a matrix which is called a \n",
    "[confusion matrix](https://en.wikipedia.org/wiki/Confusion_matrix). \n",
    "For a single bit $i,j \\in \\{0, 1 \\}$ it is\n",
    "\n",
    "$$C = \n",
    "\\begin{pmatrix}\n",
    "\\Pr(0|0) &  \\Pr(0|1)\\\\\n",
    "\\Pr(1|0) &  \\Pr(1|1)\n",
    "\\end{pmatrix}\n",
    "$$\n",
    "the ideal confusion matrix $ \\Pr( j | i ) = \\delta_{i,j} $ i.e.\n",
    "$$\n",
    "C_{\\rm ideal} = \n",
    "\\begin{pmatrix}\n",
    "1 &  0\\\\\n",
    "0 &  1\n",
    "\\end{pmatrix}$$\n",
    "\n",
    "Imperfect measurements have $\\Pr( j | i ) = C_{j,i}$  where $\\sum_j  \\Pr( j | i ) =1$ for any $i$.  \n",
    "  \n",
    "  \n",
    "**In summary the functionality of `readout.py` is:**\n",
    "\n",
    "- estimation of a single qubit confusion matrix\n",
    "- estimation of the joint confusion matrix over `n` bits\n",
    "- marginalize a joint confusion matrix over `m` qubits to a smaller matrix over a subset of those qubits\n",
    "- estimate joint reset confusion matrix\n"
   ]
  },
  {
   "cell_type": "markdown",
   "metadata": {},
   "source": [
    "## More Details\n",
    "\n",
    "Some of the assumptions in the measurement of the confusion matrix\n",
    "are that the measurement error (aka classical misclassification error) is larger than:\n",
    "* the ground state preparation error (how thermal is the state)\n",
    "* the errors introduced by applying $X$ gates to prepare the bit strings\n",
    "* the quantum aspects of the measurement errors e.g. slightly wrong basis  \n",
    "\n",
    "\n",
    "When measuring `n` (qu)bits there are $d= 2^n$ possible input and \n",
    "output strings. Given perfect preparation of basis state $|k\\rangle$ the \n",
    "confusion matrix is\n",
    "\n",
    "$$C = \\begin{pmatrix}\n",
    "p(0 | 0)   & p(0 | 1)   & \\cdots & p(0 | {d-1})  \\\\\n",
    "p(1 | 0)   & p(1 | 1)   & \\cdots & p(1 | {d-1})  \\\\\n",
    "\\vdots       &              &        & \\vdots          \\\\\n",
    "p(d-1 | 0) & p(d-1 | 1) & \\cdots & p(d-1 | {d-1})\n",
    "\\end{pmatrix}$$\n",
    "\n",
    "The trace of the confusion matrix divided by the number of states\n",
    "is the average probability to correctly report the input string\n",
    "\n",
    "$$F(C):=\\frac{\\mathrm{Tr}\\left( C\\right)}{d} = \\frac{1}{d} \\sum_{j=0}^{d-1} p(j|j)$$\n",
    "\n",
    "this is some times called the \"joint assignment fidelity\" or \"readout fidelity\" of our simultaneous qubit readout.\n",
    "\n",
    "This matrix can be related to the quantum measurement operators (well the [POVM](https://en.wikipedia.org/wiki/POVM)).\n",
    "Given the coefficients appearing in the confusion matrix the equivalent readout POVM is\n",
    "\n",
    "$$\\hat N_j := \\sum_{k=0}^{d-1} p(j | k) \\Pi_{k}$$\n",
    "\n",
    "where we have introduced the bitstring projectors $\\Pi_{k}=|k\\rangle \\langle k|$. \n",
    "\n",
    "\n",
    "To be a valid POVM we must have \n",
    "\n",
    "1. $\\hat N_j\\ge 0$ for all $j$, and \n",
    "2. $\\sum_j\\hat N_j\\le I$, \n",
    "\n",
    "where $I$ is the identity operator. We can immediately see \n",
    "condition one is true. Condition two is easy to verify:\n",
    "\n",
    "$$\\sum_{j=0}^{d-1}\\hat N_j \n",
    "= \\sum_{k=0}^{d-1} \\underbrace{\\sum_{j=0}^{d-1} p(j | k)}_{1} \\hat \\Pi_{k}\n",
    "= \\sum_{k=0}^{d-1} \\hat \\Pi_{k} = I$$"
   ]
  },
  {
   "cell_type": "markdown",
   "metadata": {},
   "source": [
    "## Simple readout fidelity and confusion matrix estimation\n",
    "\n",
    "The simple example below should help with understanding the more general code in `readout.py`."
   ]
  },
  {
   "cell_type": "code",
   "execution_count": 1,
   "metadata": {},
   "outputs": [],
   "source": [
    "import numpy as np\n",
    "\n",
    "from pyquil import get_qc\n",
    "from forest.benchmarking.readout import estimate_confusion_matrix\n",
    "\n",
    "qc_1q = get_qc('1q-qvm', noisy=True)"
   ]
  },
  {
   "cell_type": "markdown",
   "metadata": {},
   "source": [
    "`estimate_confusion_matrix` constructs and measures a program for a single qubit for each of the target prep states, either $| 0 \\rangle$ or $|1 \\rangle$. When $|0 \\rangle$ is targeted, we prepare a qubit in the ground state with an identity operation. Similarly, when $|1\\rangle$ is targeted, we prepare a qubit in the excited state with an `X` gate. To estimate the confusion matrix we measure each target state many times (default 1000). When we prepare the $|0\\rangle$ state we expect to measure the $|0\\rangle$ state, so the percentage of the time we do in fact measure $|0\\rangle$ gives us an estimate of `p(0|0)`; the remaining fraction of results where we instead measured $|1\\rangle$ after preparing $|0\\rangle$ gives us an estimate of `p(1|0)`."
   ]
  },
  {
   "cell_type": "code",
   "execution_count": 2,
   "metadata": {},
   "outputs": [
    {
     "name": "stdout",
     "output_type": "stream",
     "text": [
      "[[0.9735 0.0265]\n",
      " [0.0928 0.9072]]\n",
      "readout fidelity: 0.94035\n"
     ]
    }
   ],
   "source": [
    "confusion_matrix_q0 = estimate_confusion_matrix(qc_1q, 0)\n",
    "print(confusion_matrix_q0)\n",
    "print(f'readout fidelity: {np.trace(confusion_matrix_q0)/2}')"
   ]
  },
  {
   "cell_type": "markdown",
   "metadata": {},
   "source": [
    "## Generalizing to larger groups of qubits\n",
    "\n",
    "**Convenient estimation of (possibly joint) confusion matrices for groups of qubits**"
   ]
  },
  {
   "cell_type": "markdown",
   "metadata": {},
   "source": [
    "The readout module also includes a convenience function for estimating all $k$-qubit confusion matrices for a group of $n \\geq k$ qubits; this generalizes the above example, since one could use it to measure a 1-qubit confusion matrix for a group of 1 qubit."
   ]
  },
  {
   "cell_type": "code",
   "execution_count": 3,
   "metadata": {},
   "outputs": [],
   "source": [
    "from forest.benchmarking.readout import (estimate_joint_confusion_in_set, \n",
    "                                        estimate_joint_reset_confusion, \n",
    "                                        marginalize_confusion_matrix)\n",
    "\n",
    "qc = get_qc('9q-square-noisy-qvm')\n",
    "qubits = qc.qubits()"
   ]
  },
  {
   "cell_type": "code",
   "execution_count": 16,
   "metadata": {},
   "outputs": [],
   "source": [
    "# get all single qubit confusion matrices\n",
    "one_q_ro_conf_matxs = estimate_joint_confusion_in_set(qc, use_active_reset=True)\n",
    "\n",
    "# get all pairwise confusion matrices from subset of qubits.\n",
    "subset = qubits[:4]  # only look at 4 qubits of interest, this will mean (4 choose 2) = 6 matrices\n",
    "\n",
    "two_q_ro_conf_matxs = estimate_joint_confusion_in_set(qc, qubits=subset, joint_group_size=2, use_active_reset=True)"
   ]
  },
  {
   "cell_type": "markdown",
   "metadata": {},
   "source": [
    "### Extract the one qubit readout (ro) fidelities "
   ]
  },
  {
   "cell_type": "code",
   "execution_count": 17,
   "metadata": {},
   "outputs": [
    {
     "name": "stdout",
     "output_type": "stream",
     "text": [
      "Qubit      Readout fidelity\n",
      "q0         0.933500\n",
      "q1         0.938000\n",
      "q2         0.934500\n",
      "q3         0.933000\n",
      "q4         0.936000\n",
      "q5         0.942000\n",
      "q6         0.936500\n",
      "q7         0.938000\n",
      "q8         0.939500\n"
     ]
    }
   ],
   "source": [
    "print('Qubit      Readout fidelity')\n",
    "for qubit in qubits:\n",
    "    conf_mat = one_q_ro_conf_matxs[(qubit,)]\n",
    "    ro_fidelity = np.trace(conf_mat)/2 # average P(0 | 0) and P(1 | 1)\n",
    "    print(f'q{qubit:<3d}{ro_fidelity:15f}')"
   ]
  },
  {
   "cell_type": "markdown",
   "metadata": {},
   "source": [
    "### Pick a single two qubit joint confusion matrix and compare marginal to one qubit confusion matrix"
   ]
  },
  {
   "cell_type": "markdown",
   "metadata": {},
   "source": [
    "Comparing a marginalized joint $n$-qubit matrix to the estimated $k$-qubit ($k<n$) matrices can help reveal correlated errors"
   ]
  },
  {
   "cell_type": "code",
   "execution_count": 6,
   "metadata": {},
   "outputs": [
    {
     "name": "stdout",
     "output_type": "stream",
     "text": [
      "Two qubit confusion matrix:\n",
      " [[0.947 0.027 0.026 0.   ]\n",
      " [0.091 0.888 0.003 0.018]\n",
      " [0.083 0.004 0.887 0.026]\n",
      " [0.01  0.085 0.091 0.814]] \n",
      "\n",
      "Marginal confusion matrix:\n",
      " [[0.9765 0.0235]\n",
      " [0.091  0.909 ]] \n",
      "\n",
      "One qubit confusion matrix:\n",
      " [[0.971 0.029]\n",
      " [0.104 0.896]]\n"
     ]
    }
   ],
   "source": [
    "two_q_conf_mat = two_q_ro_conf_matxs[(subset[0],subset[-1])]\n",
    "print('Two qubit confusion matrix:\\n',two_q_conf_mat,'\\n')\n",
    "\n",
    "marginal = marginalize_confusion_matrix(two_q_conf_mat, [subset[0], subset[-1]], [subset[0]])\n",
    "\n",
    "print('Marginal confusion matrix:\\n',marginal,'\\n')\n",
    "\n",
    "print('One qubit confusion matrix:\\n', one_q_ro_conf_matxs[(subset[0],)])"
   ]
  },
  {
   "cell_type": "markdown",
   "metadata": {},
   "source": [
    "## Plot the confusion matrix\n",
    "\n",
    "Here we make up a two bit confusion matrix that might represent correlated readout errors, that is a kind of **measurement error crosstalk**.\n",
    "\n",
    "We can then marginalize and recombine to see how different the independent readout error model would look."
   ]
  },
  {
   "cell_type": "code",
   "execution_count": 39,
   "metadata": {},
   "outputs": [],
   "source": [
    "confusion_ideal = np.eye(4)\n",
    "\n",
    "# if the qubit is in |00> there is probablity to flip\n",
    "# to |01>, |10>, |11>.\n",
    "confusion_correlated_two_q_ro_errors = np.array(\n",
    "    [[0.925, 0.025, 0.025, 0.025],\n",
    "     [0.000, 1.000, 0.000, 0.000],\n",
    "     [0.000, 0.000, 1.000, 0.000],\n",
    "     [0.000, 0.000, 0.000, 1.000]])\n",
    "\n",
    "\n",
    "marginal1 = marginalize_confusion_matrix(confusion_correlated_two_q_ro_errors, [0, 1], [0])\n",
    "marginal2 = marginalize_confusion_matrix(confusion_correlated_two_q_ro_errors, [0, 1], [1])\n",
    "\n",
    "# take the two marginal confusion matrices and recombine\n",
    "recombine = np.kron(marginal1, marginal2)"
   ]
  },
  {
   "cell_type": "code",
   "execution_count": 40,
   "metadata": {},
   "outputs": [],
   "source": [
    "from forest.benchmarking.plotting.hinton import hinton_real\n",
    "import itertools\n",
    "import matplotlib.pyplot as plt"
   ]
  },
  {
   "cell_type": "code",
   "execution_count": 41,
   "metadata": {},
   "outputs": [],
   "source": [
    "one_bit_labels = ['0','1']\n",
    "two_bit_labels = [''.join(x) for x in itertools.product('01', repeat=2)]"
   ]
  },
  {
   "cell_type": "code",
   "execution_count": 42,
   "metadata": {},
   "outputs": [
    {
     "data": {
      "image/png": "[encoded data removed]",
      "text/plain": [
       "<Figure size 576x432 with 2 Axes>"
      ]
     },
     "metadata": {
      "needs_background": "light"
     },
     "output_type": "display_data"
    }
   ],
   "source": [
    "fig0, ax0 = hinton_real(confusion_ideal, xlabels=two_bit_labels, ylabels=two_bit_labels, title='Ideal Confusion matrix')\n",
    "ax0.set_xlabel(\"Input bit string\", fontsize=14)\n",
    "ax0.set_ylabel(\"Output bit string\", fontsize=14);"
   ]
  },
  {
   "cell_type": "code",
   "execution_count": 43,
   "metadata": {},
   "outputs": [
    {
     "data": {
      "image/png": "[encoded data removed]",
      "text/plain": [
       "<Figure size 576x432 with 2 Axes>"
      ]
     },
     "metadata": {
      "needs_background": "light"
     },
     "output_type": "display_data"
    }
   ],
   "source": [
    "fig1, ax1 = hinton_real(confusion_correlated_two_q_ro_errors, xlabels=two_bit_labels, ylabels=two_bit_labels, title='Correlated two bit error Confusion matrix')\n",
    "ax1.set_xlabel(\"Input bit string\", fontsize=14)\n",
    "ax1.set_ylabel(\"Output bit string\", fontsize=14);"
   ]
  },
  {
   "cell_type": "code",
   "execution_count": 44,
   "metadata": {},
   "outputs": [
    {
     "data": {
      "image/png": "[encoded data removed]",
      "text/plain": [
       "<Figure size 576x432 with 2 Axes>"
      ]
     },
     "metadata": {
      "needs_background": "light"
     },
     "output_type": "display_data"
    }
   ],
   "source": [
    "fig2, ax2 = hinton_real(marginal1, xlabels=one_bit_labels, ylabels=one_bit_labels, title='Marginal Confusion matrix')\n",
    "ax2.set_xlabel(\"Input bit string\", fontsize=14)\n",
    "ax2.set_ylabel(\"Output bit string\", fontsize=14);"
   ]
  },
  {
   "cell_type": "code",
   "execution_count": 45,
   "metadata": {},
   "outputs": [
    {
     "data": {
      "image/png": "[encoded data removed]",
      "text/plain": [
       "<Figure size 576x432 with 2 Axes>"
      ]
     },
     "metadata": {
      "needs_background": "light"
     },
     "output_type": "display_data"
    }
   ],
   "source": [
    "fig3, ax3 = hinton_real(recombine, xlabels=two_bit_labels, ylabels=two_bit_labels, title='Marginalized then recombined Confusion matrix')\n",
    "ax2.set_xlabel(\"Input bit string\", fontsize=14)\n",
    "ax2.set_ylabel(\"Output bit string\", fontsize=14);"
   ]
  },
  {
   "cell_type": "markdown",
   "metadata": {},
   "source": [
    "## Estimate confusion matrix for active reset error\n",
    "\n",
    "Similarly to readout, we can estimate a confusion matrix to see how well active reset is able to reset any given bitstring to the ground state ($|0\\dots 0\\rangle$). "
   ]
  },
  {
   "cell_type": "code",
   "execution_count": 7,
   "metadata": {},
   "outputs": [
    {
     "name": "stderr",
     "output_type": "stream",
     "text": [
      "100%|██████████| 16/16 [00:40<00:00,  2.61s/it]\n"
     ]
    }
   ],
   "source": [
    "subset = tuple(qubits[:4])\n",
    "subset_reset_conf_matx = estimate_joint_reset_confusion(qc, subset, \n",
    "                                                        joint_group_size=len(subset), \n",
    "                                                        show_progress_bar=True)"
   ]
  },
  {
   "cell_type": "code",
   "execution_count": 8,
   "metadata": {},
   "outputs": [
    {
     "name": "stdout",
     "output_type": "stream",
     "text": [
      "0.7\n",
      "0.8999999999999999\n",
      "0.8999999999999999\n",
      "0.9999999999999999\n",
      "0.9999999999999999\n",
      "0.9999999999999999\n",
      "0.9999999999999999\n",
      "0.9999999999999999\n",
      "0.7999999999999999\n",
      "0.9999999999999999\n",
      "0.7\n",
      "0.9999999999999999\n",
      "0.7999999999999999\n",
      "0.8999999999999999\n",
      "0.7\n",
      "0.8999999999999999\n"
     ]
    }
   ],
   "source": [
    "for row in subset_reset_conf_matx[subset]:\n",
    "    pr_sucess = row[0]\n",
    "    print(pr_sucess)"
   ]
  }
 ],
 "metadata": {
  "kernelspec": {
   "display_name": "Python 3",
   "language": "python",
   "name": "python3"
  },
  "language_info": {
   "codemirror_mode": {
    "name": "ipython",
    "version": 3
   },
   "file_extension": ".py",
   "mimetype": "text/x-python",
   "name": "python",
   "nbconvert_exporter": "python",
   "pygments_lexer": "ipython3",
   "version": "3.6.5"
  }
 },
 "nbformat": 4,
 "nbformat_minor": 2
}
