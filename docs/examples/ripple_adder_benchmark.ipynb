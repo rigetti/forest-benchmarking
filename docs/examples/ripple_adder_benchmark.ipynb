{
 "cells": [
  {
   "cell_type": "markdown",
   "metadata": {},
   "source": [
    "# Ripple Carry Adder\n",
    "\n",
    "In this notebook use a \"simple\" reversible binary adder to benchmark a quantum computer. The code is contained in the module `classical_logic`.\n",
    "\n",
    "The benchmark is simplistic and not very rigorous as it does not test any specific feature of the hardware. Further the whole circuit is classical in the sense that we start and end in computational basis states and all gates simply perform classical not, controlled not (`CNOT`), or doubly controlled not (`CCNOT` aka a [Toffoli gate](https://en.wikipedia.org/wiki/Toffoli_gate)). Finally, even for the modest task of adding two one bit numbers, the `CZ` gate (our fundamental two qubit gate) count is very high for the circuit. This in turn implies a low probability of the entire circuit working.\n",
    "\n",
    "However it is very easy to explain the performance of hardware to non-experts, e.g. *\"At the moment quantum hardware is pretty noisy, so much so that when we run circuits to add two classical bits it gives the correct answer 40% of the time.\"*\n",
    "\n",
    "Moreover the simplicity of the benchmark is also its strength. At the bottom of this notebook we provide code for examining the \"error distribution\". When run on hardware we can observe that low weight errors dominate which gives some insight that the hardware is approximately doing the correct thing.\n",
    "\n",
    "The module  `classical_logic` is based on the circuits found in  [QRCA]\n",
    "\n",
    "| [QRCA] *A new quantum ripple-carry addition circuit*.  \n",
    "|    Cuccaro, Draper, Kutin, and Moulton.  \n",
    "|    https://arxiv.org/abs/quant-ph/0410184v1.  \n",
    "\n"
   ]
  },
  {
   "cell_type": "markdown",
   "metadata": {},
   "source": [
    "![alt txt](figs/binary_adder.png) Figures from QRCA"
   ]
  },
  {
   "cell_type": "code",
   "execution_count": 1,
   "metadata": {},
   "outputs": [],
   "source": [
    "import numpy as np\n",
    "from pyquil.quil import Program\n",
    "\n",
    "from pyquil.gates import *\n",
    "from pyquil.api import get_qc\n",
    "from forest.benchmarking.classical_logic.ripple_carry_adder import *\n",
    "\n",
    "import matplotlib.pyplot as plt\n",
    "import networkx as nx"
   ]
  },
  {
   "cell_type": "code",
   "execution_count": 2,
   "metadata": {},
   "outputs": [],
   "source": [
    "# noiseless QVM\n",
    "qc = get_qc(\"9q-generic\", as_qvm=True, noisy=False)\n",
    "\n",
    "# noisy QVM\n",
    "noisy_qc = get_qc(\"9q-generic-noisy-qvm\", as_qvm=True, noisy=True)"
   ]
  },
  {
   "cell_type": "markdown",
   "metadata": {},
   "source": [
    "## Draw the noiseless qc topology"
   ]
  },
  {
   "cell_type": "code",
   "execution_count": 3,
   "metadata": {},
   "outputs": [
    {
     "name": "stderr",
     "output_type": "stream",
     "text": [
      "/home/kylegulshen/anaconda3/lib/python3.6/site-packages/networkx/drawing/nx_pylab.py:518: MatplotlibDeprecationWarning: \n",
      "The iterable function was deprecated in Matplotlib 3.1 and will be removed in 3.3. Use np.iterable instead.\n",
      "  if not cb.iterable(width):\n",
      "/home/kylegulshen/anaconda3/lib/python3.6/site-packages/networkx/drawing/nx_pylab.py:565: MatplotlibDeprecationWarning: \n",
      "The is_numlike function was deprecated in Matplotlib 3.0 and will be removed in 3.2. Use isinstance(..., numbers.Number) instead.\n",
      "  if cb.is_numlike(alpha):\n"
     ]
    },
    {
     "data": {
      "image/png": "[encoded data removed]",
      "text/plain": [
       "<Figure size 432x288 with 1 Axes>"
      ]
     },
     "metadata": {},
     "output_type": "display_data"
    }
   ],
   "source": [
    "nx.draw(qc.qubit_topology(),with_labels=True)"
   ]
  },
  {
   "cell_type": "markdown",
   "metadata": {},
   "source": [
    "## One bit addtion: 1+1 = 10  i.e.  2"
   ]
  },
  {
   "cell_type": "markdown",
   "metadata": {},
   "source": [
    "There is a small bit of setup that needs to happen before creating the program for the circuit. Specifically you have to pick registers of qubits for the two input numbers `reg_a` and `reg_b`, a carry bit `c`, and an extra digit `z` that will hold the most significant bit of the answer.\n",
    "\n",
    "If you have a specific line of qubits in mind for the registers there is a helper `assign_registers_to_line_or_cycle()` which will provide these registers for you--`c` is assigned to the provided start qubit and assignments go down the line in the circuit diagram above; however, you have to provide a subgraph that is sufficiently simple so that the assignment can be done by simpling moving to the next neighbor--e.g. the graph is a line or a cycle. \n",
    "\n",
    "If you don't care about the particular arrangement of qubits then you can instead use `get_qubit_registers_for_adder()` which will find a suitable assignment for you if one exists."
   ]
  },
  {
   "cell_type": "code",
   "execution_count": 4,
   "metadata": {},
   "outputs": [
    {
     "name": "stdout",
     "output_type": "stream",
     "text": [
      "Registers c, a, b, z on target qubits [3, 6, 7, 4, 1] :  3 [7] [6] 4\n",
      "Registers c, a, b, z on any qubits excluding q0:  4 [2] [1] 5\n",
      "\n",
      "The answer of 1+1 is 10\n",
      "The circuit on an ideal qc gave:  [[1 0]]\n"
     ]
    }
   ],
   "source": [
    "\n",
    "# the input numbers\n",
    "num_a = [1]\n",
    "num_b = [1]\n",
    "\n",
    "# There are two easy routes to assign registers\n",
    "\n",
    "# 1) if you have particular target qubits in mind\n",
    "target_qubits = [3,6,7,4,1]\n",
    "start = 3\n",
    "reg_a, reg_b, c, z = assign_registers_to_line_or_cycle(start, \n",
    "                                                       qc.qubit_topology().subgraph(target_qubits), \n",
    "                                                       len(num_a))\n",
    "print('Registers c, a, b, z on target qubits', target_qubits,': ', c, reg_a, reg_b, z)\n",
    "\n",
    "# 2) if you don't care about a particular arrangement\n",
    "# you can still exclude qubits. Here we exclude 0.\n",
    "reg_a, reg_b, c, z = get_qubit_registers_for_adder(qc, len(num_a), qubits = list(range(1,10)))\n",
    "print('Registers c, a, b, z on any qubits excluding q0: ', c, reg_a, reg_b, z)\n",
    "\n",
    "\n",
    "# given the numbers and registers construct the circuit to add\n",
    "ckt = adder(num_a, num_b, reg_a, reg_b, c, z)\n",
    "exe = qc.compile(ckt)\n",
    "result = qc.run(exe)\n",
    "\n",
    "print('\\nThe answer of 1+1 is 10')\n",
    "print('The circuit on an ideal qc gave: ', result)"
   ]
  },
  {
   "cell_type": "markdown",
   "metadata": {},
   "source": [
    "## Two bit addition"
   ]
  },
  {
   "cell_type": "markdown",
   "metadata": {},
   "source": [
    "We will start with 1+1=2 on a noiseless simulation.\n",
    "\n",
    "We choose to represent 1 (decimal) as a two digit binary number 01 so the addition becomes\n",
    "\n",
    "01 + 01 = 010 \n",
    "\n",
    "where the bits are ordered from most significant to least i.e. (MSB...LSB).\n",
    "\n",
    "The MSB is necessary for representing other two bit additions e.g. 2 + 2 = 4  -> 10 + 10 = 100\n"
   ]
  },
  {
   "cell_type": "code",
   "execution_count": 5,
   "metadata": {},
   "outputs": [
    {
     "name": "stdout",
     "output_type": "stream",
     "text": [
      "The answer of 01+01 is 010\n",
      "The circuit on an ideal qc gave:  [[0 1 0]]\n"
     ]
    }
   ],
   "source": [
    "# the input numbers\n",
    "num_a = [0,1]\n",
    "num_b = [0,1]\n",
    "\n",
    "# \n",
    "reg_a, reg_b, c, z = get_qubit_registers_for_adder(qc, len(num_a))\n",
    "\n",
    "# given the numbers and registers construct the circuit to add\n",
    "ckt = adder(num_a, num_b, reg_a, reg_b, c, z)\n",
    "exe = qc.compile(ckt)\n",
    "result = qc.run(exe)\n",
    "\n",
    "print('The answer of 01+01 is 010')\n",
    "print('The circuit on an ideal qc gave: ', result)"
   ]
  },
  {
   "cell_type": "markdown",
   "metadata": {},
   "source": [
    "## Draw the noisy qc topology"
   ]
  },
  {
   "cell_type": "code",
   "execution_count": 6,
   "metadata": {},
   "outputs": [
    {
     "name": "stderr",
     "output_type": "stream",
     "text": [
      "/home/kylegulshen/anaconda3/lib/python3.6/site-packages/networkx/drawing/nx_pylab.py:518: MatplotlibDeprecationWarning: \n",
      "The iterable function was deprecated in Matplotlib 3.1 and will be removed in 3.3. Use np.iterable instead.\n",
      "  if not cb.iterable(width):\n",
      "/home/kylegulshen/anaconda3/lib/python3.6/site-packages/networkx/drawing/nx_pylab.py:565: MatplotlibDeprecationWarning: \n",
      "The is_numlike function was deprecated in Matplotlib 3.0 and will be removed in 3.2. Use isinstance(..., numbers.Number) instead.\n",
      "  if cb.is_numlike(alpha):\n"
     ]
    },
    {
     "data": {
      "image/png": "[encoded data removed]",
      "text/plain": [
       "<Figure size 432x288 with 1 Axes>"
      ]
     },
     "metadata": {},
     "output_type": "display_data"
    }
   ],
   "source": [
    "nx.draw(noisy_qc.qubit_topology(),with_labels=True)"
   ]
  },
  {
   "cell_type": "markdown",
   "metadata": {},
   "source": [
    "## Now try 1+1=2 on a noisy qc\n",
    "The output is now stochastic--try re-running this cell multiple times!\n",
    "Note in particular that the MSB is sometimes (rarely) 1 due to some combination of readout error and error propagation through the CNOT"
   ]
  },
  {
   "cell_type": "code",
   "execution_count": 7,
   "metadata": {},
   "outputs": [
    {
     "data": {
      "text/plain": [
       "array([[0, 1, 1]])"
      ]
     },
     "execution_count": 7,
     "metadata": {},
     "output_type": "execute_result"
    }
   ],
   "source": [
    "reg_a, reg_b, c, z = get_qubit_registers_for_adder(noisy_qc, len(num_a))\n",
    "ckt = adder(num_a, num_b, reg_a, reg_b, c, z)\n",
    "exe = noisy_qc.compile(ckt)\n",
    "noisy_qc.run(exe)"
   ]
  },
  {
   "cell_type": "markdown",
   "metadata": {},
   "source": [
    "## Get results for all summations of pairs of 2-bit strings"
   ]
  },
  {
   "cell_type": "markdown",
   "metadata": {},
   "source": [
    "Because classical binary addition is easy we can caculate the ideal output of the circuit. In order to see how well the QPU excutes the circuit we average the circuit over all possible input strings. Here we look at two bit strings e.g.\n",
    "\n",
    "\n",
    " \n",
    "| Register a| Register b| a + b + carry|\n",
    "|-----------|-----------|--------------|\n",
    "| 00        | 00        | 000          |\n",
    "| 00        | 01        | 001          |\n",
    "| 00        | 10        | 010          |\n",
    "| 00        | 11        | 011          |\n",
    "| 01        | 00        | 001          |\n",
    "| $\\vdots$  | $\\vdots$  | $\\vdots$     |\n",
    "| 11        | 11        | 110          |\n",
    "\n",
    "The rough measure of goodness is the success probability, which we define as number of times the QPU correctly returns the string listed in the (a+b+carry) column divided by the total number of trials.\n",
    "\n",
    "You might wonder how well you can do just by generating a random binary number and reporting that as the answer.\n",
    "Well if you are doing addition of two $n$ bit strings the probability that you can get the correct answer by guessing \n",
    "\n",
    "$\\Pr({\\rm correct}\\, |\\, n)= 1/ 2^{n +1}$,\n",
    "\n",
    "explicitly $\\Pr({\\rm correct}\\, |\\, 1)= 0.25$ and $\\Pr({\\rm correct}\\, |\\, 2)= 0.125$.\n",
    "\n",
    "A zeroth order performance criterion is to do better than these numbers.\n"
   ]
  },
  {
   "cell_type": "code",
   "execution_count": 8,
   "metadata": {},
   "outputs": [
    {
     "name": "stderr",
     "output_type": "stream",
     "text": [
      "100%|██████████| 16/16 [00:35<00:00,  2.21s/it]\n"
     ]
    }
   ],
   "source": [
    "n_bits = 2\n",
    "nshots = 100\n",
    "results = get_n_bit_adder_results(noisy_qc, n_bits, use_param_program=False, num_shots = nshots, \n",
    "                                  show_progress_bar=True)"
   ]
  },
  {
   "cell_type": "code",
   "execution_count": 9,
   "metadata": {},
   "outputs": [
    {
     "name": "stdout",
     "output_type": "stream",
     "text": [
      "The probability of getting the correct answer for each output in the above table is:\n",
      "[0.61 0.59 0.63 0.59 0.53 0.53 0.55 0.59 0.5  0.49 0.61 0.54 0.62 0.6\n",
      " 0.6  0.62] \n",
      "\n",
      "The success probability averaged over all inputs is 0.575\n"
     ]
    }
   ],
   "source": [
    "# success probabilities of different input strings\n",
    "pr_correct = get_success_probabilities_from_results(results)\n",
    "\n",
    "print('The probability of getting the correct answer for each output in the above table is:')\n",
    "print(np.round(pr_correct, 4),'\\n')\n",
    "print('The success probability averaged over all inputs is', np.round(np.mean(pr_correct), 5))"
   ]
  },
  {
   "cell_type": "code",
   "execution_count": 10,
   "metadata": {},
   "outputs": [
    {
     "data": {
      "text/plain": [
       "array([ True,  True,  True,  True,  True,  True,  True,  True,  True,\n",
       "        True,  True,  True,  True,  True,  True,  True])"
      ]
     },
     "execution_count": 10,
     "metadata": {},
     "output_type": "execute_result"
    }
   ],
   "source": [
    "# For which outputs did we do better than random ?\n",
    "np.asarray(pr_correct)> 1/2**(n_bits+1)"
   ]
  },
  {
   "cell_type": "markdown",
   "metadata": {},
   "source": [
    "## Get the distribution of the hamming weight of errors"
   ]
  },
  {
   "cell_type": "markdown",
   "metadata": {},
   "source": [
    "Even if the success probability of the circuit is worse than random there might be a way in which the circuit is not absolutely random. This could indicate that the computation is actually doing something 'close' to what is desired. To look for such situations we consider the full distribution of errors in our outputs.\n",
    "\n",
    "The output of our circuit is in the computational basis so all errors manifest as bit flips from the actual answer. The number of bits you need to flip to transform one binary string $B_1$ to another binary string $B_2$ is called the Hamming distance. We are interested in the distance ${\\rm dist}(B_t, B_o)$ between the true ideal answer $B_{t}$ and the noisy output answer $B_{o}$, which is equivalent to the Hamming weight ${\\rm wt}(\\cdot) $ of the error in our output. \n",
    "\n",
    "For example, for various ideal answers and measured outputs for 4 bit addition (remember there's an extra fifth MSB for the answer) we have\n",
    "\n",
    "${\\rm dist}(00000,00001) = {\\rm wt}(00001) = 1$\n",
    "\n",
    "\n",
    "${\\rm dist}(00000,10001) = {\\rm wt}(10001) = 2$\n",
    "\n",
    "\n",
    "${\\rm dist}(11000,10101) = {\\rm wt}(01101) = 3$\n",
    "\n",
    "\n",
    "${\\rm dist}(00001,11110) = {\\rm wt}(11111) = 5$\n",
    "\n",
    "\n",
    "In order to see if our near term devices are doing interesting things we calculate the distribution of the Hamming weight of the errors observed in our QPU data with respect to the known ideal output. The entry corresponding to zero Hamming weight is the success probability."
   ]
  },
  {
   "cell_type": "code",
   "execution_count": 11,
   "metadata": {},
   "outputs": [],
   "source": [
    "distributions = get_error_hamming_distributions_from_results(results)"
   ]
  },
  {
   "cell_type": "markdown",
   "metadata": {},
   "source": [
    "## Plot distribution of 00+00 and 11+11 and compare to random"
   ]
  },
  {
   "cell_type": "code",
   "execution_count": 12,
   "metadata": {},
   "outputs": [
    {
     "data": {
      "image/png": "[encoded data removed]",
      "text/plain": [
       "<Figure size 432x288 with 1 Axes>"
      ]
     },
     "metadata": {},
     "output_type": "display_data"
    }
   ],
   "source": [
    "from scipy.special import comb\n",
    "\n",
    "zeros_distribution = distributions[0]\n",
    "\n",
    "rand_ans_distr = [comb(n_bits + 1, x)/2**(n_bits + 1) for x in range(len(zeros_distribution))]\n",
    "\n",
    "x_labels = np.arange(0, len(zeros_distribution))\n",
    "plt.bar(x_labels, zeros_distribution, width=0.61, align='center')\n",
    "plt.bar(x_labels, rand_ans_distr, width=0.31, align='center')\n",
    "plt.xticks(x_labels)\n",
    "plt.xlabel('Hamming Weight of Error')\n",
    "plt.ylabel('Relative Frequency of Occurrence')\n",
    "plt.grid(axis='y', alpha=0.75)\n",
    "plt.legend(['data','random'])\n",
    "plt.title('Z basis Error Hamming Wt Distr for 00+00=000')\n",
    "#name = 'numbits'+str(n_bits) + '_basisZ' + '_shots' + str(nshots)\n",
    "#plt.savefig(name)\n",
    "plt.show()"
   ]
  },
  {
   "cell_type": "code",
   "execution_count": 13,
   "metadata": {},
   "outputs": [
    {
     "data": {
      "image/png": "[encoded data removed]",
      "text/plain": [
       "<Figure size 432x288 with 1 Axes>"
      ]
     },
     "metadata": {},
     "output_type": "display_data"
    }
   ],
   "source": [
    "from scipy.special import comb\n",
    "\n",
    "ones_distribution = distributions[-1]\n",
    "\n",
    "rand_ans_distr = [comb(n_bits + 1, x)/2**(n_bits + 1) for x in range(len(zeros_distribution))]\n",
    "\n",
    "x_labels = np.arange(0, len(ones_distribution))\n",
    "plt.bar(x_labels, ones_distribution, width=0.61, align='center')\n",
    "plt.bar(x_labels, rand_ans_distr, width=0.31, align='center')\n",
    "plt.xticks(x_labels)\n",
    "plt.xlabel('Hamming Weight of Error')\n",
    "plt.ylabel('Relative Frequency of Occurrence')\n",
    "plt.grid(axis='y', alpha=0.75)\n",
    "plt.legend(['data','random'])\n",
    "plt.title('Z basis Error Hamming Wt Distr for 11+11=110')\n",
    "#name = 'numbits'+str(n_bits) + '_basisZ' + '_shots' + str(nshots)\n",
    "#plt.savefig(name)\n",
    "plt.show()"
   ]
  },
  {
   "cell_type": "markdown",
   "metadata": {},
   "source": [
    "## Plot average distribution over all summations; compare to random"
   ]
  },
  {
   "cell_type": "code",
   "execution_count": 14,
   "metadata": {},
   "outputs": [
    {
     "data": {
      "image/png": "[encoded data removed]",
      "text/plain": [
       "<Figure size 432x288 with 1 Axes>"
      ]
     },
     "metadata": {},
     "output_type": "display_data"
    }
   ],
   "source": [
    "from scipy.special import comb\n",
    "\n",
    "averaged_distr = np.mean(distributions, axis=0)\n",
    "\n",
    "rand_ans_distr = [comb(n_bits + 1, x)/2**(n_bits + 1) for x in range(len(averaged_distr))]\n",
    "\n",
    "x_labels = np.arange(0, len(averaged_distr))\n",
    "plt.bar(x_labels, averaged_distr, width=0.61, align='center')\n",
    "plt.bar(x_labels, rand_ans_distr, width=0.31, align='center')\n",
    "plt.xticks(x_labels)\n",
    "plt.xlabel('Hamming Weight of Error')\n",
    "plt.ylabel('Relative Frequency of Occurrence')\n",
    "plt.grid(axis='y', alpha=0.75)\n",
    "plt.legend(['data','random'])\n",
    "plt.title('Z basis Error Hamming Wt Distr Avgd Over {}-bit Strings'.format(n_bits))\n",
    "#name = 'numbits'+str(n_bits) + '_basisZ' + '_shots' + str(nshots)\n",
    "#plt.savefig(name)\n",
    "plt.show()"
   ]
  },
  {
   "cell_type": "markdown",
   "metadata": {},
   "source": [
    "## Now do the same, but with addition in the X basis"
   ]
  },
  {
   "cell_type": "markdown",
   "metadata": {},
   "source": [
    "In this section we do classical logic in the X basis. This means the inputs to the circuits are no longer $|0\\rangle$ and $|1\\rangle$, instead they are $|+\\rangle = H|0\\rangle$ and $|-\\rangle = H|1\\rangle$.\n",
    "\n",
    "Originally all the logic was done with X, CNOT, and Toffoli gates. In this case we have to convert them to the corresponding gates in the X basis. E.g. \n",
    "\n",
    "CNOT = $|0\\rangle\\langle 0|\\otimes I + |1\\rangle\\langle 1|\\otimes X$ \n",
    "\n",
    "becomes\n",
    "\n",
    "CNOT_in_X_basis = $(H\\otimes I)$ CZ $(H\\otimes I)$ = $|+\\rangle\\langle +|\\otimes I + |-\\rangle\\langle -|\\otimes Z$. "
   ]
  },
  {
   "cell_type": "markdown",
   "metadata": {},
   "source": [
    "**Note:** in some of the cells below there is a comment `# NBVAL_SKIP` this is used in testing to speed up our tests by skipping that particular cell."
   ]
  },
  {
   "cell_type": "code",
   "execution_count": 15,
   "metadata": {},
   "outputs": [
    {
     "name": "stderr",
     "output_type": "stream",
     "text": [
      "100%|██████████| 16/16 [00:35<00:00,  2.23s/it]\n"
     ]
    },
    {
     "data": {
      "image/png": "[encoded data removed]",
      "text/plain": [
       "<Figure size 432x288 with 1 Axes>"
      ]
     },
     "metadata": {},
     "output_type": "display_data"
    }
   ],
   "source": [
    "# NBVAL_SKIP\n",
    "\n",
    "n_bits = 2\n",
    "# set in_x_basis to true here\n",
    "results = get_n_bit_adder_results(noisy_qc, n_bits, in_x_basis=True, show_progress_bar=True)\n",
    "distributions = get_error_hamming_distributions_from_results(results)\n",
    "\n",
    "averaged_distr = np.mean(distributions, axis=0)\n",
    "x_labels = np.arange(0, len(averaged_distr))\n",
    "plt.bar(x_labels, averaged_distr, width=0.61, align='center')\n",
    "plt.bar(x_labels, rand_ans_distr, width=0.31, align='center')\n",
    "plt.xticks(x_labels)\n",
    "plt.xlabel('Hamming Weight of Error')\n",
    "plt.ylabel('Relative Frequency of Occurrence')\n",
    "plt.grid(axis='y', alpha=0.75)\n",
    "plt.legend(['data','random'])\n",
    "plt.title('X basis Error Hamming Wt Distr Avgd Over {}-bit Strings'.format(n_bits))\n",
    "#plt.savefig(name)\n",
    "plt.show()"
   ]
  },
  {
   "cell_type": "markdown",
   "metadata": {},
   "source": [
    "## Error probability to random guess probability as a function of number of added bits"
   ]
  },
  {
   "cell_type": "markdown",
   "metadata": {},
   "source": [
    "Here we compare the average probability of the adder working as a function of input size (averaged over all possible input strings) to random guessing. To provide context we also compare this to the error probability of the best input string (likely the all zero input string) and the worst input string (likely all ones)."
   ]
  },
  {
   "cell_type": "code",
   "execution_count": 16,
   "metadata": {},
   "outputs": [
    {
     "name": "stderr",
     "output_type": "stream",
     "text": [
      "100%|██████████| 4/4 [00:02<00:00,  1.62it/s]\n",
      "100%|██████████| 16/16 [00:34<00:00,  2.15s/it]\n",
      "100%|██████████| 64/64 [03:27<00:00,  3.24s/it]\n"
     ]
    }
   ],
   "source": [
    "# NBVAL_SKIP\n",
    "summand_lengths = [1,2,3]\n",
    "avg_n = []\n",
    "med_n = []\n",
    "min_n = []\n",
    "max_n = []\n",
    "rand_n = []\n",
    "\n",
    "for n_bits in summand_lengths:\n",
    "    results = get_n_bit_adder_results(noisy_qc, n_bits, show_progress_bar=True)\n",
    "    output_len = n_bits + 1\n",
    "    # success probability average over all input strings\n",
    "    avg_n.append(np.average(get_success_probabilities_from_results(results)))\n",
    "    # median success probability average over all input strings\n",
    "    med_n.append(np.median(get_success_probabilities_from_results(results)))\n",
    "    # success probability input bit string with most errors\n",
    "    min_n.append(np.min(get_success_probabilities_from_results(results)))\n",
    "    # success probability input bit string with least errors\n",
    "    max_n.append(np.max(get_success_probabilities_from_results(results)))\n",
    "    # success probability of randomly guessing the correct answer\n",
    "    rand_n.append(1 / 2**output_len)"
   ]
  },
  {
   "cell_type": "code",
   "execution_count": 17,
   "metadata": {},
   "outputs": [
    {
     "data": {
      "image/png": "[encoded data removed]",
      "text/plain": [
       "<Figure size 432x288 with 1 Axes>"
      ]
     },
     "metadata": {},
     "output_type": "display_data"
    }
   ],
   "source": [
    "# NBVAL_SKIP\n",
    "plt.scatter(summand_lengths, avg_n, c='b', label='mean')\n",
    "plt.scatter(summand_lengths, rand_n, c='m', marker='D', label='random')\n",
    "plt.scatter(summand_lengths, min_n, c='r', marker='_', label='min/max')\n",
    "plt.scatter(summand_lengths, max_n, c='r', marker='_')\n",
    "plt.xticks(summand_lengths)\n",
    "plt.xlabel('Number of bits added n (n+1 including carry bit)')\n",
    "plt.ylabel('Probablity of working')\n",
    "plt.legend()\n",
    "name = 'Pr_suc_fn_nbits' + '_basisZ' + '_shots' + str(nshots)\n",
    "plt.savefig(name)\n",
    "plt.show()"
   ]
  },
  {
   "cell_type": "code",
   "execution_count": 18,
   "metadata": {},
   "outputs": [
    {
     "name": "stdout",
     "output_type": "stream",
     "text": [
      "n bit: [1 2 3]\n",
      "average: [0.745   0.55938 0.45969]\n",
      "median: [0.755 0.555 0.47 ]\n",
      "min: [0.64 0.49 0.33]\n",
      "max: [0.83 0.63 0.55]\n",
      "rand: [0.25   0.125  0.0625]\n"
     ]
    }
   ],
   "source": [
    "# NBVAL_SKIP\n",
    "print('n bit:',  np.round(summand_lengths, 5))\n",
    "print('average:',  np.round(avg_n, 5))\n",
    "print('median:',  np.round(med_n, 5))\n",
    "print('min:',  np.round(min_n, 5))\n",
    "print('max:',  np.round(max_n, 5))\n",
    "print('rand:',  np.round(rand_n, 5))"
   ]
  },
  {
   "cell_type": "code",
   "execution_count": null,
   "metadata": {},
   "outputs": [],
   "source": []
  }
 ],
 "metadata": {
  "kernelspec": {
   "display_name": "Python 3",
   "language": "python",
   "name": "python3"
  },
  "language_info": {
   "codemirror_mode": {
    "name": "ipython",
    "version": 3
   },
   "file_extension": ".py",
   "mimetype": "text/x-python",
   "name": "python",
   "nbconvert_exporter": "python",
   "pygments_lexer": "ipython3",
   "version": "3.6.5"
  }
 },
 "nbformat": 4,
 "nbformat_minor": 2
}
