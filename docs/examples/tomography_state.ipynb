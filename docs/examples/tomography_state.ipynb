{
 "cells": [
  {
   "cell_type": "markdown",
   "metadata": {},
   "source": [
    "# State tomography\n",
    "\n",
    "It is not possible to learn (or estimate) a quantum state in a single experiment due to the [no cloning theorem](https://en.wikipedia.org/wiki/No-cloning_theorem). In general one needs to re-prepare the state and measure it many times in [different bases](https://quantumcomputing.stackexchange.com/questions/1870/what-does-measurement-in-a-certain-basis-mean)."
   ]
  },
  {
   "cell_type": "markdown",
   "metadata": {},
   "source": [
    "### Classical \"state\" tomography \n",
    "The simplest classical analogy to estimating a quantum state using tomography is estimating the bias of a coin. The bias, denoted by $p$, is analogous to the quantum state in a way that will be explained shortly.\n",
    "\n",
    "The coin toss is a random variable $R$ with outcome Heads (denoted by $1$) and tails (denoted by $0$). Given the bias $p$, the probability distribution for the random variable $R$ is\n",
    "$$\n",
    "\\Pr(R|p) = p^R(1-p)^{1-R}.\n",
    "$$\n",
    "\n",
    "If we have access to $n_{\\rm Tot}$ independent experiments (or measurements) and observe $n_{\\rm H}$ heads then the [maximum likelihood estimate](http://mathworld.wolfram.com/MaximumLikelihood.html) for the bias of the coin is\n",
    "\n",
    "$$ p_{\\rm Max-Like} = \\frac{n_H}{n_{\\rm Tot}},$$\n",
    "\n",
    "and the variance of this estimator is $ {\\rm Var}[p_{\\rm Max-Like}] = p(1-p)/n_{\\rm Tot}$.\n",
    "\n",
    "The things to learn from this example are:\n",
    "* it takes many measurements to estimate $p$, it can't be done in a single shot because of the [classical no-cloning theorem](https://doi.org/10.1103/PhysRevLett.88.210601)\n",
    "* $p_{\\rm Max-Like}$ is an estimator, there are other choices of estimators see e.g. [Beta distribution](https://en.wikipedia.org/wiki/Beta_distribution#Bayesian_inference) and [Bayes estimator](https://en.wikipedia.org/wiki/Bayes_estimator)\n",
    "\n",
    "\n",
    "Let's take the analogy a little further by defining a \"quantum\" state \n",
    "\n",
    "$$\\begin{align}\n",
    "\\rho \n",
    "&= \\begin{pmatrix} p & 0\\\\ 0 & 1-p\\end{pmatrix} \\\\\n",
    "&= \\frac{1}{2} (I +z Z)\\\\\n",
    "&=\\frac{1}{2} \\begin{pmatrix} 1+z & 0\\\\ 0 & 1-z\\end{pmatrix},\n",
    "\\end{align}\n",
    "$$ \n",
    "where $I$ and $Z$ are the identity and the Pauli-z matrix. This parameterizes the states along the z-axis of the Bloch sphere, see Figure 1.\n",
    "<figure>\n",
    "  <img src=\"figs/bloch.png\" alt=\"Drawing\" style=\"width: 350px;\"/>\n",
    "  <figcaption>Figure 1. A cross section through the <a href=\"https://en.wikipedia.org/wiki/Bloch_sphere\">Bloch sphere</a>. The states along the z-axis are equivalent to the allowed states (biases) of a coin.</figcaption>\n",
    "</figure>\n",
    "\n",
    "\n",
    "\n",
    "\n",
    "Given the state $\\rho$ the probability of measuring zero and one are\n",
    "$$\n",
    "\\begin{align}\n",
    "\\Pr(0|\\rho) &= {\\rm Tr}[\\rho \\Pi_0]\\\\\n",
    "\\Pr(1|\\rho) &= {\\rm Tr}[\\rho \\Pi_1]\n",
    "\\end{align}\n",
    "$$\n",
    "where the measurement operators $\\Pi_i$ are defined by $\\Pi_i = |i\\rangle \\langle i|$ for $i \\in \\{0, 1 \\}$.\n",
    "\n",
    "The relationship between the $Z$ expectation value and the coin bias is\n",
    "\n",
    "$$z:= \\langle Z \\rangle = {\\rm Tr}[Z \\rho] = 2 p -1.$$\n",
    "\n",
    "In this analogy the pure states $|0\\rangle$ and $|1\\rangle$ correspond to the coin biases $p=1$, $p=0$ and z expectation values $z=+1$, $z=-1$ respectively. All other (mixed) states are convex mixtures of these extremal points e.g. the fair coin, i.e. $p=1/2$, corresponds to $z = 0$ and the state  \n",
    "$$\n",
    "\\rho \n",
    "= \\begin{pmatrix} 0.5 & 0\\\\ 0 & 0.5\\end{pmatrix}. \n",
    "$$"
   ]
  },
  {
   "cell_type": "markdown",
   "metadata": {},
   "source": [
    "### Quantum state tomography of a single qubit\n",
    "\n",
    "The simplest quantum system to tomograph is a single qubit. Like before we parameterize the state with respect to a set of operators \n",
    "$$\\begin{align}\n",
    "\\rho \n",
    "&= \\frac{1}{2} (I+x X+ y Y +z Z)\\\\\n",
    "&=\\frac{1}{2} \\begin{pmatrix} 1+z & x+iy\\\\ x-iy & 1-z\\end{pmatrix},\n",
    "\\end{align}\n",
    "$$ \n",
    "where $x = \\langle X \\rangle$, $y = \\langle Y \\rangle$, and $z = \\langle Z \\rangle$. In the language of our classical coin we have three parameters we need to estimate that are constrained in the following way\n",
    "\n",
    "$$\n",
    "0\\le x \\le 1,\\\\\n",
    "0\\le y \\le 1,\\\\ \n",
    "0\\le z \\le 1,\\\\\n",
    "x^2 + y^2 +z^2 \\le 1.\n",
    "$$\n",
    "\n",
    "The physics of our system means that our default measurement gives us the Z basis statistics. We already constructed an estimator to go from the coin flip statistics to the Z expectation: $2p -1$. \n",
    "\n",
    "\n",
    "Now we need to measure the statistics of the operators X and Y. Essentially this means we must rotate our state after we prepare it but before it is measured (or equivalently rotate our measurement basis). If we rotate the state as $\\rho\\mapsto U\\rho U^\\dagger$ and then do our usual Z-basis measurement, then this is equivalent to rotating the measured observable as $Z \\mapsto U^\\dagger Z U$ and keeping our state $\\rho$ unchanged. This is the distinction between the [Heisenberg and Schrödinger pictures](https://en.wikipedia.org/wiki/Heisenberg_picture#Summary_comparison_of_evolution_in_all_pictures). The Heisenberg picture point of view then allows us to see that if we apply a rotation such as $R_y(\\alpha) = \\exp(-i \\alpha Y /2)$ for $\\alpha = -\\pi/2$ then this rotates the observable as $R_y(\\pi/2)ZR_y(-\\pi/2)=\\cos(\\pi/2) Z + \\sin(\\pi/2) X = X$. Similarly, we could rotate by $U=R_x(\\pi/2)$ to measure the Y observable.  \n"
   ]
  },
  {
   "cell_type": "markdown",
   "metadata": {},
   "source": [
    "### Quantum state tomography in general   \n",
    "In this section we closely follow the reference [PBT]. \n",
    "\n",
    "When thinking about tomography it is useful to introduce the notation of \"super kets\" $|O\\rangle \\rangle = {\\rm vec}(O)$  for an operator $O$.\n",
    "The dual vector is the corresponding \"super bra\" $\\langle\\langle O|$ and represents $O^\\dagger$. This vector space is equipped with the Hilbert-Schmidt inner product  $\\langle\\langle A | B \\rangle\\rangle = {\\rm Tr}[A^\\dagger B]$. For more information see [vec and unvec in superoperator_representations.md](../.././forest-benchmarking/docs/superoperator_representations.md) and the [superoperator_tools ipython notebook](superoperator_tools.ipynb).\n",
    "\n",
    "A quantum state matrix on $n$ qubits, a  $D =2^n$ dimensional Hilbert\n",
    "space, can be represented by \n",
    "$$\n",
    "    \\rho =  \\frac{1}{D} I + \\sum_{\\alpha=1}^{D^2-1}x_\\alpha B_\\alpha\n",
    "$$\n",
    "where the coefficents $x_\\alpha$ are defined by $x_\\alpha = \\langle\\langle B_\\alpha | \\rho \\rangle\\rangle$ for a basis of Hermitian operators\n",
    "$\\{ B_\\alpha \\}$ that is orthonormal under the Hilbert-Schmidt inner product\n",
    "$\\langle\\langle B_\\alpha | B_\\beta\\rangle\\rangle =\\delta_{\\alpha,\\beta}$.\n",
    "\n",
    "For many qubits, tensor products of Pauli matrices are the natural Hermitian basis. For two qubits define $B_5 = X \\otimes X$ and $B_6 = X \\otimes Y$ then $\\langle\\langle B_5 | B_6\\rangle\\rangle =0$. It is typical to choose $B_0 = I / \\sqrt {D}$ to be the only traceful element, where $I$ is the identity on $n$ qubits.\n",
    "\n",
    "State tomography involves estimating or measuring the expectation values of all the operators $\\{ B_\\alpha \\}$. If you can reconstruct all the operators $\\{ B_\\alpha \\}$ then your measurement is said to be **tomographically complete**. To measure these operators we need to do rotations, like in the single qubit case, on many qubits. This is depicted in Figure 2.\n",
    "<figure>\n",
    "  <img src=\"figs/state-tomo.png\" alt=\"Drawing\" style=\"width: 350px;\"/>\n",
    "  <figcaption>Figure 2. This upper half of this diagram shows a simple 2-qubit quantum program consisting of both qubits initialized in the ∣0⟩ state, then transformed to some other state via a process V and finally measured in the natural qubit basis.</figcaption>\n",
    "</figure>\n",
    "\n",
    "\n",
    "The operators that need to be estimated are programatically given by `itertools.product(['I', 'X', 'Y', 'Z'], repeat=n_qubits)`. From these measurements, we can reconstruct a density matrix $\\rho$ on `n_qubits`.\n",
    "\n",
    "\n",
    "Most research in quantum state tomography is to do with finding estimators with desirable properties, e.g. [Minimax tomography](https://arxiv.org/abs/1503.03100), although experiment design is also considered e.g. [adaptive quantum state tomography](https://arxiv.org/abs/1303.0436).  \n"
   ]
  },
  {
   "cell_type": "markdown",
   "metadata": {},
   "source": [
    "**More information**  \n",
    "See the following references:\n",
    "\n",
    "[QTW] [Quantum tomography wikipedia page](https://en.wikipedia.org/wiki/Quantum_tomography)\n",
    "\n",
    "[CWPHD] *Initialization and characterization of open quantum systems*  \n",
    "Christopher Wood,  \n",
    "Chapter 3, PhD Thesis, University of Waterloo (2015)  \n",
    "http://hdl.handle.net/10012/9557  \n",
    "\n",
    "\n",
    "[IGST]  *Introduction to Quantum Gate Set Tomography*  \n",
    "Daniel Greenbaum,  \n",
    "arXiv:1509.02921 (2015)    \n",
    "https://arxiv.org/abs/1509.02921  \n",
    "\n",
    "\n",
    "[PBT]  *Practical Bayesian Tomography*  \n",
    "Christopher Granade et al.  \n",
    "New J. Phys. 18, 033024 (2016)  \n",
    "https://dx.doi.org/10.1088/1367-2630/18/3/033024  \n",
    "https://arxiv.org/abs/1509.03770"
   ]
  },
  {
   "cell_type": "markdown",
   "metadata": {},
   "source": [
    "## Quantum state tomography in `forest.benchmarking`"
   ]
  },
  {
   "cell_type": "markdown",
   "metadata": {},
   "source": [
    "The basic workflow is:\n",
    "\n",
    "1. Prepare a state by specifying a pyQuil program.\n",
    "2. Construct a list of observables that are needed to estimate the state; we collect this into an object called an `ObservablesExperiment`.\n",
    "3. Acquire the data by running the program on a QVM or QPU.\n",
    "4. Apply an estimator to the data to obtain an estimate of the state.\n",
    "5. Compare the estimated state to the true state by a distance measure or visualization.\n",
    "\n",
    "\n",
    "Below we break these steps down into all their ghastly glory. "
   ]
  },
  {
   "cell_type": "markdown",
   "metadata": {},
   "source": [
    "## Step 1. Prepare a state with a `Program`\n",
    "We'll construct a two-qubit graph state by Hadamarding all qubits and then applying a controlled-Z operation across the edges of our graph. In the two-qubit case, there's only one edge. The vector we end up preparing is\n",
    "\n",
    "$$ |\\Psi\\rangle = \\frac{1}{2}\\begin{pmatrix} 1\\\\ 1 \\\\ 1\\\\ -1\\end{pmatrix}= {\\rm CZ}(0,1){\\rm H}(1){\\rm H}(0)|0,0\\rangle,$$\n",
    "\n",
    "which corresponds to the state matrix\n",
    "\n",
    "$$ \\rho_{\\rm true} = |\\Psi\\rangle\\langle \\Psi| = \\frac{1}{4}\\begin{pmatrix} 1 & 1 & 1 &-1\\\\ 1 & 1 & 1 &-1 \\\\ 1 & 1 & 1 &-1\\\\ -1 & -1 & -1 & 1\\end{pmatrix}.$$"
   ]
  },
  {
   "cell_type": "code",
   "execution_count": 2,
   "metadata": {},
   "outputs": [],
   "source": [
    "import numpy as np\n",
    "from pyquil import Program\n",
    "from pyquil.gates import *"
   ]
  },
  {
   "cell_type": "code",
   "execution_count": 3,
   "metadata": {},
   "outputs": [
    {
     "data": {
      "text/plain": [
       "array([[ 0.25,  0.25,  0.25, -0.25],\n",
       "       [ 0.25,  0.25,  0.25, -0.25],\n",
       "       [ 0.25,  0.25,  0.25, -0.25],\n",
       "       [-0.25, -0.25, -0.25,  0.25]])"
      ]
     },
     "execution_count": 3,
     "metadata": {},
     "output_type": "execute_result"
    }
   ],
   "source": [
    "# numerical representation of the true state\n",
    "Psi = (1/2) * np.array([1, 1, 1, -1])\n",
    "rho_true = np.outer(Psi, Psi.T.conj())\n",
    "\n",
    "rho_true"
   ]
  },
  {
   "cell_type": "code",
   "execution_count": 4,
   "metadata": {},
   "outputs": [
    {
     "name": "stdout",
     "output_type": "stream",
     "text": [
      "H 0\n",
      "H 1\n",
      "CZ 0 1\n",
      "\n"
     ]
    }
   ],
   "source": [
    "# construct the state preparation program\n",
    "\n",
    "qubits = [0, 1]\n",
    "state_prep_prog = Program()\n",
    "\n",
    "for qubit in qubits:\n",
    "    state_prep_prog += H(qubit)\n",
    "    \n",
    "state_prep_prog += CZ(qubits[0], qubits[1])\n",
    "\n",
    "print(state_prep_prog)"
   ]
  },
  {
   "cell_type": "markdown",
   "metadata": {},
   "source": [
    "## Step 2. Construct a `ObservablesExperiment` for state tomography\n",
    "\n",
    "We use the helper function `generate_state_tomography_experiment` to construct a tomographically complete set of measurements.\n",
    "\n",
    "We can print this out to see the 15 observables or operator measurements we will perform. Note that we could have included an additional observable `I0I1`, but since this trivially gives an expectation of 1 we instead omit this observable in experiment generation and include its contribution by hand in the estimation methods. Be mindful of this if generating your own settings."
   ]
  },
  {
   "cell_type": "code",
   "execution_count": 5,
   "metadata": {},
   "outputs": [
    {
     "name": "stdout",
     "output_type": "stream",
     "text": [
      "H 0; H 1; CZ 0 1\n",
      "0: Z0_0 * Z0_1→(1+0j)*X1\n",
      "1: Z0_0 * Z0_1→(1+0j)*Y1\n",
      "2: Z0_0 * Z0_1→(1+0j)*Z1\n",
      "3: Z0_0 * Z0_1→(1+0j)*X0\n",
      "4: Z0_0 * Z0_1→(1+0j)*X0X1\n",
      "5: Z0_0 * Z0_1→(1+0j)*X0Y1\n",
      "6: Z0_0 * Z0_1→(1+0j)*X0Z1\n",
      "7: Z0_0 * Z0_1→(1+0j)*Y0\n",
      "8: Z0_0 * Z0_1→(1+0j)*Y0X1\n",
      "9: Z0_0 * Z0_1→(1+0j)*Y0Y1\n",
      "10: Z0_0 * Z0_1→(1+0j)*Y0Z1\n",
      "11: Z0_0 * Z0_1→(1+0j)*Z0\n",
      "12: Z0_0 * Z0_1→(1+0j)*Z0X1\n",
      "13: Z0_0 * Z0_1→(1+0j)*Z0Y1\n",
      "14: Z0_0 * Z0_1→(1+0j)*Z0Z1\n"
     ]
    }
   ],
   "source": [
    "# import the generate_state_tomography_experiment function \n",
    "from forest.benchmarking.tomography import generate_state_tomography_experiment\n",
    "\n",
    "experiment = generate_state_tomography_experiment(program=state_prep_prog, qubits=qubits)\n",
    "\n",
    "print(experiment)"
   ]
  },
  {
   "cell_type": "code",
   "execution_count": 6,
   "metadata": {},
   "outputs": [
    {
     "name": "stdout",
     "output_type": "stream",
     "text": [
      "The object \"experiment\" is a:\n",
      "<class 'forest.benchmarking.observable_estimation.ObservablesExperiment'> \n",
      "\n",
      "It has a program attribute:\n",
      "H 0\n",
      "H 1\n",
      "CZ 0 1\n",
      "\n",
      "It also has a list of observables that need to be estimated:\n",
      "0: Z0_0 * Z0_1→(1+0j)*X1\n",
      "1: Z0_0 * Z0_1→(1+0j)*Y1\n",
      "2: Z0_0 * Z0_1→(1+0j)*Z1\n",
      "3: Z0_0 * Z0_1→(1+0j)*X0\n",
      "4: Z0_0 * Z0_1→(1+0j)*X0X1\n",
      "5: Z0_0 * Z0_1→(1+0j)*X0Y1\n",
      "6: Z0_0 * Z0_1→(1+0j)*X0Z1\n",
      "7: Z0_0 * Z0_1→(1+0j)*Y0\n",
      "8: Z0_0 * Z0_1→(1+0j)*Y0X1\n",
      "9: Z0_0 * Z0_1→(1+0j)*Y0Y1\n",
      "10: Z0_0 * Z0_1→(1+0j)*Y0Z1\n",
      "11: Z0_0 * Z0_1→(1+0j)*Z0\n",
      "12: Z0_0 * Z0_1→(1+0j)*Z0X1\n",
      "13: Z0_0 * Z0_1→(1+0j)*Z0Y1\n",
      "14: Z0_0 * Z0_1→(1+0j)*Z0Z1\n"
     ]
    }
   ],
   "source": [
    "# lets peek into the object\n",
    "print('The object \"experiment\" is a:')\n",
    "print(type(experiment),'\\n')\n",
    "print('It has a program attribute:')\n",
    "print(experiment.program)\n",
    "print('It also has a list of observables that need to be estimated:')\n",
    "print(experiment.settings_string())"
   ]
  },
  {
   "cell_type": "markdown",
   "metadata": {},
   "source": [
    "### Optional grouping\n",
    "We can simultaneously estimate some of these observables, this saves on run time."
   ]
  },
  {
   "cell_type": "code",
   "execution_count": 7,
   "metadata": {},
   "outputs": [
    {
     "name": "stdout",
     "output_type": "stream",
     "text": [
      "H 0; H 1; CZ 0 1\n",
      "0: Z0_0 * Z0_1→(1+0j)*X1, Z0_0 * Z0_1→(1+0j)*X0, Z0_0 * Z0_1→(1+0j)*X0X1\n",
      "1: Z0_0 * Z0_1→(1+0j)*Y1, Z0_0 * Z0_1→(1+0j)*X0Y1\n",
      "2: Z0_0 * Z0_1→(1+0j)*Z1, Z0_0 * Z0_1→(1+0j)*X0Z1\n",
      "3: Z0_0 * Z0_1→(1+0j)*Y0, Z0_0 * Z0_1→(1+0j)*Y0X1\n",
      "4: Z0_0 * Z0_1→(1+0j)*Y0Y1\n",
      "5: Z0_0 * Z0_1→(1+0j)*Y0Z1\n",
      "6: Z0_0 * Z0_1→(1+0j)*Z0, Z0_0 * Z0_1→(1+0j)*Z0X1\n",
      "7: Z0_0 * Z0_1→(1+0j)*Z0Y1\n",
      "8: Z0_0 * Z0_1→(1+0j)*Z0Z1\n"
     ]
    }
   ],
   "source": [
    "from forest.benchmarking.observable_estimation import group_settings\n",
    "print(group_settings(experiment))"
   ]
  },
  {
   "cell_type": "markdown",
   "metadata": {},
   "source": [
    "## Step 3. Acquire the data\n",
    "\n",
    "PyQuil will run the tomography programs.\n",
    "\n",
    "We will use the QVM but at this point you can use a QPU."
   ]
  },
  {
   "cell_type": "code",
   "execution_count": 8,
   "metadata": {},
   "outputs": [],
   "source": [
    "from pyquil import get_qc\n",
    "qc = get_qc('2q-qvm')"
   ]
  },
  {
   "cell_type": "markdown",
   "metadata": {},
   "source": [
    "The next step is to over-write full `quilc` compilation with a much more simple version that *only* substitutes gates to Rigetti-native gates.\n",
    "\n",
    "We do this because we don't want to accidentally compile away our tomography circuit or map to different qubits."
   ]
  },
  {
   "cell_type": "code",
   "execution_count": 9,
   "metadata": {},
   "outputs": [],
   "source": [
    "from forest.benchmarking.compilation import basic_compile\n",
    "qc.compiler.quil_to_native_quil = basic_compile"
   ]
  },
  {
   "cell_type": "markdown",
   "metadata": {},
   "source": [
    "Now get the data!"
   ]
  },
  {
   "cell_type": "code",
   "execution_count": 10,
   "metadata": {},
   "outputs": [
    {
     "name": "stdout",
     "output_type": "stream",
     "text": [
      "ExperimentResult[(input operators)→(output operator): \"mean\" +- \"standard error\"]\n"
     ]
    },
    {
     "data": {
      "text/plain": [
       "[ExperimentResult[Z0_0 * Z0_1→(1+0j)*X1: -0.06 +- 0.04464078852350168],\n",
       " ExperimentResult[Z0_0 * Z0_1→(1+0j)*Y1: 0.02 +- 0.04471241438347967],\n",
       " ExperimentResult[Z0_0 * Z0_1→(1+0j)*Z1: 0.016 +- 0.04471563484956912],\n",
       " ExperimentResult[Z0_0 * Z0_1→(1+0j)*X0: -0.024 +- 0.04470847794322683],\n",
       " ExperimentResult[Z0_0 * Z0_1→(1+0j)*X0X1: 0.008 +- 0.04471992844359213],\n",
       " ExperimentResult[Z0_0 * Z0_1→(1+0j)*X0Y1: 0.008 +- 0.04471992844359213],\n",
       " ExperimentResult[Z0_0 * Z0_1→(1+0j)*X0Z1: 1.0 +- 0.0],\n",
       " ExperimentResult[Z0_0 * Z0_1→(1+0j)*Y0: 0.008 +- 0.04471992844359213],\n",
       " ExperimentResult[Z0_0 * Z0_1→(1+0j)*Y0X1: -0.024 +- 0.04470847794322683],\n",
       " ExperimentResult[Z0_0 * Z0_1→(1+0j)*Y0Y1: 1.0 +- 0.0],\n",
       " ExperimentResult[Z0_0 * Z0_1→(1+0j)*Y0Z1: 0.02 +- 0.04471241438347967],\n",
       " ExperimentResult[Z0_0 * Z0_1→(1+0j)*Z0: -0.1 +- 0.04449719092257399],\n",
       " ExperimentResult[Z0_0 * Z0_1→(1+0j)*Z0X1: 1.0 +- 0.0],\n",
       " ExperimentResult[Z0_0 * Z0_1→(1+0j)*Z0Y1: -0.056 +- 0.044651181395344956],\n",
       " ExperimentResult[Z0_0 * Z0_1→(1+0j)*Z0Z1: -0.036 +- 0.044692370713579295]]"
      ]
     },
     "execution_count": 10,
     "metadata": {},
     "output_type": "execute_result"
    }
   ],
   "source": [
    "from forest.benchmarking.observable_estimation import estimate_observables\n",
    "\n",
    "results = list(estimate_observables(qc, experiment))\n",
    "\n",
    "print('ExperimentResult[(input operators)→(output operator): \"mean\" +- \"standard error\"]')\n",
    "results"
   ]
  },
  {
   "cell_type": "markdown",
   "metadata": {},
   "source": [
    "## Step 4. Apply some estimators to the data \"do tomography\""
   ]
  },
  {
   "cell_type": "markdown",
   "metadata": {},
   "source": [
    "### Linear inversion estimator"
   ]
  },
  {
   "cell_type": "code",
   "execution_count": 11,
   "metadata": {},
   "outputs": [
    {
     "name": "stdout",
     "output_type": "stream",
     "text": [
      "[[ 0.22 +0.j     0.235+0.009j  0.244-0.007j -0.248+0.004j]\n",
      " [ 0.235-0.009j  0.23 +0.j     0.252+0.008j -0.256+0.003j]\n",
      " [ 0.244+0.007j  0.252-0.008j  0.288-0.j    -0.265-0.019j]\n",
      " [-0.248-0.004j -0.256-0.003j -0.265+0.019j  0.262-0.j   ]]\n"
     ]
    }
   ],
   "source": [
    "from forest.benchmarking.tomography import linear_inv_state_estimate\n",
    "\n",
    "rho_est_linv = linear_inv_state_estimate(results, qubits=qubits)\n",
    "\n",
    "print(np.round(rho_est_linv, 3))"
   ]
  },
  {
   "cell_type": "markdown",
   "metadata": {},
   "source": [
    "### Linear inversion projected to closest physical state"
   ]
  },
  {
   "cell_type": "code",
   "execution_count": 12,
   "metadata": {},
   "outputs": [
    {
     "name": "stdout",
     "output_type": "stream",
     "text": [
      "[[ 0.222+0.j     0.228+0.002j  0.242-0.005j -0.242-0.001j]\n",
      " [ 0.228-0.002j  0.235+0.j     0.249-0.002j -0.246-0.j   ]\n",
      " [ 0.242+0.005j  0.249+0.002j  0.279-0.j    -0.264-0.011j]\n",
      " [-0.242+0.001j -0.246+0.j    -0.264+0.011j  0.264+0.j   ]]\n"
     ]
    }
   ],
   "source": [
    "from forest.benchmarking.operator_tools.project_state_matrix import project_state_matrix_to_physical\n",
    "\n",
    "rho_phys = project_state_matrix_to_physical(rho_est_linv)\n",
    "\n",
    "print(np.round(rho_phys, 3))"
   ]
  },
  {
   "cell_type": "markdown",
   "metadata": {},
   "source": [
    "### Maximum Liklihood Estimate (MLE) via diluted iterative method"
   ]
  },
  {
   "cell_type": "code",
   "execution_count": 13,
   "metadata": {},
   "outputs": [
    {
     "name": "stdout",
     "output_type": "stream",
     "text": [
      "[[ 0.232+0.j     0.237+0.j     0.249-0.003j -0.246-0.002j]\n",
      " [ 0.237-0.j     0.241-0.j     0.253-0.004j -0.25 -0.002j]\n",
      " [ 0.249+0.003j  0.253+0.004j  0.267-0.j    -0.263-0.005j]\n",
      " [-0.246+0.002j -0.25 +0.002j -0.263+0.005j  0.26 +0.j   ]]\n"
     ]
    }
   ],
   "source": [
    "from forest.benchmarking.tomography import iterative_mle_state_estimate\n",
    "\n",
    "rho_mle = iterative_mle_state_estimate(results=results, qubits=qubits)\n",
    "\n",
    "print(np.around(rho_mle, 3))"
   ]
  },
  {
   "cell_type": "markdown",
   "metadata": {},
   "source": [
    "### MLE with Max Entropy constraint"
   ]
  },
  {
   "cell_type": "code",
   "execution_count": 14,
   "metadata": {},
   "outputs": [
    {
     "name": "stdout",
     "output_type": "stream",
     "text": [
      "[[ 0.233+0.j     0.193+0.002j  0.202-0.003j -0.201-0.j   ]\n",
      " [ 0.193-0.002j  0.241+0.j     0.207-0.001j -0.205-0.j   ]\n",
      " [ 0.202+0.003j  0.207+0.001j  0.268-0.j    -0.215-0.007j]\n",
      " [-0.201+0.j    -0.205+0.j    -0.215+0.007j  0.258-0.j   ]]\n"
     ]
    }
   ],
   "source": [
    "rho_mle_maxent = iterative_mle_state_estimate(results=results, qubits=qubits, epsilon=0.1, entropy_penalty=0.05)\n",
    "\n",
    "print(np.around(rho_mle_maxent, 3))"
   ]
  },
  {
   "cell_type": "markdown",
   "metadata": {},
   "source": [
    "### MLE with Hedging parameter"
   ]
  },
  {
   "cell_type": "code",
   "execution_count": 15,
   "metadata": {},
   "outputs": [
    {
     "name": "stdout",
     "output_type": "stream",
     "text": [
      "[[ 0.232+0.j     0.236+0.j     0.248-0.003j -0.245-0.002j]\n",
      " [ 0.236-0.j     0.241+0.j     0.253-0.004j -0.25 -0.001j]\n",
      " [ 0.248+0.003j  0.253+0.004j  0.267-0.j    -0.263-0.005j]\n",
      " [-0.245+0.002j -0.25 +0.001j -0.263+0.005j  0.26 -0.j   ]]\n"
     ]
    }
   ],
   "source": [
    "rho_mle_hedge = iterative_mle_state_estimate(results=results, qubits=qubits, epsilon=.001, beta=.61)\n",
    "\n",
    "print(np.around(rho_mle_hedge, 3))"
   ]
  },
  {
   "cell_type": "markdown",
   "metadata": {},
   "source": [
    "## Step 5. Compare estimated state to the true state"
   ]
  },
  {
   "cell_type": "code",
   "execution_count": 16,
   "metadata": {},
   "outputs": [],
   "source": [
    "estimates = {\n",
    "    'True State': rho_true,\n",
    "    'Linear Inv': rho_est_linv,\n",
    "    'ProjLinInv': rho_phys,\n",
    "    'plain MLE': rho_mle,\n",
    "    'MLE MaxEnt': rho_mle_maxent,\n",
    "    'MLE Hedge': rho_mle_hedge}"
   ]
  },
  {
   "cell_type": "markdown",
   "metadata": {},
   "source": [
    "### Compare fidelity and Trace distance to the true state"
   ]
  },
  {
   "cell_type": "code",
   "execution_count": 17,
   "metadata": {},
   "outputs": [
    {
     "name": "stdout",
     "output_type": "stream",
     "text": [
      "Fidelity(True State, True State) = 1.0\n",
      "Fidelity(True State, Linear Inv) = 1.0\n",
      "Fidelity(True State, ProjLinInv) = 0.985\n",
      "Fidelity(True State, plain MLE) = 0.999\n",
      "Fidelity(True State, MLE MaxEnt) = 0.862\n",
      "Fidelity(True State, MLE Hedge) = 0.997\n"
     ]
    }
   ],
   "source": [
    "from forest.benchmarking.distance_measures import fidelity, trace_distance\n",
    "\n",
    "for key, rho_e in estimates.items():\n",
    "    fid = np.round(fidelity(rho_true, rho_e), 3)\n",
    "    print(f\"Fidelity(True State, {key}) = {fid}\")"
   ]
  },
  {
   "cell_type": "code",
   "execution_count": 18,
   "metadata": {},
   "outputs": [
    {
     "name": "stdout",
     "output_type": "stream",
     "text": [
      "Tr_dist(True State, True State) = 0.0\n",
      "Tr_dist(True State, Linear Inv) = 0.04\n",
      "Tr_dist(True State, ProjLinInv) = 0.034\n",
      "Tr_dist(True State, plain MLE) = 0.02\n",
      "Tr_dist(True State, MLE MaxEnt) = 0.085\n",
      "Tr_dist(True State, MLE Hedge) = 0.02\n"
     ]
    }
   ],
   "source": [
    "for key, rho_e in estimates.items():\n",
    "    fid = np.round(trace_distance(rho_true, rho_e), 3)\n",
    "    print(f\"Tr_dist(True State, {key}) = {fid}\")"
   ]
  },
  {
   "cell_type": "markdown",
   "metadata": {},
   "source": [
    "### Compare purities of estimates\n",
    "\n",
    "Notice how the Maximum entropy has a lower purity."
   ]
  },
  {
   "cell_type": "code",
   "execution_count": 19,
   "metadata": {},
   "outputs": [],
   "source": [
    "from forest.benchmarking.distance_measures import purity"
   ]
  },
  {
   "cell_type": "code",
   "execution_count": 20,
   "metadata": {},
   "outputs": [
    {
     "name": "stdout",
     "output_type": "stream",
     "text": [
      "True State estimates a purity of 1.0\n",
      "Linear Inv estimates a purity of 1.005\n",
      "ProjLinInv estimates a purity of 0.974\n",
      "plain MLE estimates a purity of 1.0\n",
      "MLE MaxEnt estimates a purity of 0.751\n",
      "MLE Hedge estimates a purity of 0.996\n"
     ]
    }
   ],
   "source": [
    "for key, rho_e in estimates.items():\n",
    "    p = np.round(purity(rho_e),3)\n",
    "    print(f\"{key} estimates a purity of {p}\")"
   ]
  },
  {
   "cell_type": "markdown",
   "metadata": {},
   "source": [
    "### Plot\n",
    "\n",
    "There are many different ways to visualize states and processes in forest.benchmarking, see [state_and_process_plots.ipynb](state_and_process_plots.ipynb) for more options."
   ]
  },
  {
   "cell_type": "code",
   "execution_count": 22,
   "metadata": {},
   "outputs": [
    {
     "data": {
      "image/png": "[encoded data removed]",
      "text/plain": [
       "<Figure size 432x288 with 2 Axes>"
      ]
     },
     "metadata": {},
     "output_type": "display_data"
    }
   ],
   "source": [
    "import matplotlib.pyplot as plt\n",
    "from forest.benchmarking.plotting.hinton import hinton\n",
    "\n",
    "fig, (ax1, ax2) = plt.subplots(1, 2)\n",
    "hinton(rho_true, ax=ax1)\n",
    "hinton(rho_mle_maxent, ax=ax2)\n",
    "ax1.set_title('True')\n",
    "ax2.set_title('Estimated via MLE MaxEnt')\n",
    "fig.tight_layout()"
   ]
  },
  {
   "cell_type": "markdown",
   "metadata": {},
   "source": [
    "Above we can't really see any difference. \n",
    "\n",
    "So lets try a more informative plot"
   ]
  },
  {
   "cell_type": "code",
   "execution_count": 23,
   "metadata": {},
   "outputs": [
    {
     "name": "stdout",
     "output_type": "stream",
     "text": [
      "Now we see a clear difference:\n"
     ]
    },
    {
     "data": {
      "image/png": "[encoded data removed]",
      "text/plain": [
       "<Figure size 720x360 with 2 Axes>"
      ]
     },
     "metadata": {
      "needs_background": "light"
     },
     "output_type": "display_data"
    }
   ],
   "source": [
    "from forest.benchmarking.utils import n_qubit_pauli_basis\n",
    "from forest.benchmarking.operator_tools.superoperator_transformations import vec, computational2pauli_basis_matrix\n",
    "from forest.benchmarking.plotting.state_process import plot_pauli_rep_of_state, plot_pauli_bar_rep_of_state\n",
    "\n",
    "# convert to pauli representation\n",
    "n_qubits = 2\n",
    "pl_basis = n_qubit_pauli_basis(n_qubits)\n",
    "c2p = computational2pauli_basis_matrix(2*n_qubits)\n",
    "\n",
    "\n",
    "rho_true_pauli = np.real(c2p @ vec(rho_true))\n",
    "\n",
    "rho_mle_maxent_pauli = np.real(c2p @ vec(rho_mle_maxent)) \n",
    "\n",
    "fig1, (ax3, ax4) = plt.subplots(1, 2, figsize=(10,5))\n",
    "plot_pauli_bar_rep_of_state(rho_true_pauli.flatten(), ax=ax3, labels=pl_basis.labels, title='True State')\n",
    "plot_pauli_bar_rep_of_state(rho_mle_maxent_pauli.flatten(), ax=ax4, labels=pl_basis.labels, title='Estimated via MLE MaxEnt')\n",
    "fig1.tight_layout()\n",
    "print('Now we see a clear difference:')"
   ]
  },
  {
   "cell_type": "markdown",
   "metadata": {},
   "source": [
    "## Advanced topics"
   ]
  },
  {
   "cell_type": "markdown",
   "metadata": {},
   "source": [
    "### Parallel state tomography"
   ]
  },
  {
   "cell_type": "code",
   "execution_count": 2,
   "metadata": {},
   "outputs": [],
   "source": [
    "#TODO"
   ]
  },
  {
   "cell_type": "markdown",
   "metadata": {},
   "source": [
    "### Lightweight Bootstrap for functionals of the state"
   ]
  },
  {
   "cell_type": "code",
   "execution_count": 24,
   "metadata": {},
   "outputs": [],
   "source": [
    "import forest.benchmarking.distance_measures as dm\n",
    "from forest.benchmarking.tomography import estimate_variance"
   ]
  },
  {
   "cell_type": "code",
   "execution_count": 25,
   "metadata": {},
   "outputs": [],
   "source": [
    "from functools import partial\n",
    "fast_tomo_est = partial(iterative_mle_state_estimate, epsilon=.0005, beta=.5, tol=1e-3)"
   ]
  },
  {
   "cell_type": "markdown",
   "metadata": {},
   "source": [
    "**Purity**"
   ]
  },
  {
   "cell_type": "code",
   "execution_count": 26,
   "metadata": {},
   "outputs": [
    {
     "name": "stdout",
     "output_type": "stream",
     "text": [
      "(mean, standard error)\n",
      "(0.9921854927040691, 4.630904963784856e-06)\n",
      "(0.956466918646775, 0.00019415365210126724)\n"
     ]
    }
   ],
   "source": [
    "mle_est = estimate_variance(results, qubits, fast_tomo_est, dm.purity,\n",
    "                            n_resamples=40, project_to_physical=True)\n",
    "lin_inv_est = estimate_variance(results, qubits, linear_inv_state_estimate, dm.purity,\n",
    "                                n_resamples=40, project_to_physical=True)\n",
    "print(\"(mean, standard error)\")\n",
    "print(mle_est)\n",
    "print(lin_inv_est)"
   ]
  },
  {
   "cell_type": "markdown",
   "metadata": {},
   "source": [
    "**Fidelity**"
   ]
  },
  {
   "cell_type": "code",
   "execution_count": 27,
   "metadata": {},
   "outputs": [
    {
     "name": "stdout",
     "output_type": "stream",
     "text": [
      "(mean, standard error)\n",
      "(0.9933553002948612, 2.7690620039996715e-06)\n",
      "(0.9729268273350122, 5.1585557474299336e-05)\n"
     ]
    }
   ],
   "source": [
    "mle_est = estimate_variance(results, qubits, fast_tomo_est, dm.fidelity,\n",
    "                            target_state=rho_true, n_resamples=40, project_to_physical=True)\n",
    "lin_inv_est = estimate_variance(results, qubits, linear_inv_state_estimate, dm.fidelity,\n",
    "                                target_state=rho_true, n_resamples=40, project_to_physical=True)\n",
    "\n",
    "print(\"(mean, standard error)\")\n",
    "print(mle_est)\n",
    "print(lin_inv_est)"
   ]
  },
  {
   "cell_type": "markdown",
   "metadata": {},
   "source": [
    "### Estimator accuracy for mixed state tomography\n",
    "\n",
    "As soon as [GH-920](https://github.com/rigetti/pyquil/pull/920) gets merged the cells below will work.\n",
    "\n"
   ]
  },
  {
   "cell_type": "code",
   "execution_count": 28,
   "metadata": {},
   "outputs": [],
   "source": [
    "# make an abstract compiler\n",
    "from pyquil.api._qac import AbstractCompiler\n",
    "\n",
    "class DummyCompiler(AbstractCompiler):\n",
    "    def get_version_info(self):\n",
    "        return {}\n",
    "    def quil_to_native_quil(self, program: Program):\n",
    "        return program\n",
    "    def native_quil_to_executable(self, nq_program: Program):\n",
    "        return nq_program"
   ]
  },
  {
   "cell_type": "code",
   "execution_count": 29,
   "metadata": {},
   "outputs": [],
   "source": [
    "#make a quantum computer object\n",
    "import networkx as nx\n",
    "from pyquil.device import NxDevice\n",
    "from pyquil.api import QVM, QuantumComputer\n",
    "from pyquil.pyqvm import PyQVM\n",
    "from pyquil.reference_simulator import ReferenceDensitySimulator\n",
    "\n",
    "device = NxDevice(nx.complete_graph(1))\n",
    "qc = QuantumComputer(name='testy!',\n",
    "                     qam=PyQVM(n_qubits=1,quantum_simulator_type=ReferenceDensitySimulator),\n",
    "                     device=device,\n",
    "                     compiler=DummyCompiler())"
   ]
  },
  {
   "cell_type": "code",
   "execution_count": 30,
   "metadata": {},
   "outputs": [],
   "source": [
    "n_shots_max = [400,1000,4000,16000,64000]\n",
    "number_of_states = 30"
   ]
  },
  {
   "cell_type": "code",
   "execution_count": 31,
   "metadata": {},
   "outputs": [
    {
     "name": "stdout",
     "output_type": "stream",
     "text": [
      "I 0\n",
      "0: Z0_0→(1+0j)*X0\n",
      "1: Z0_0→(1+0j)*Y0\n",
      "2: Z0_0→(1+0j)*Z0\n"
     ]
    }
   ],
   "source": [
    "program = Program(I(0))\n",
    "qubits = [0]\n",
    "experiment = generate_state_tomography_experiment(program=program, qubits=qubits)\n",
    "print(experiment)"
   ]
  },
  {
   "cell_type": "code",
   "execution_count": 33,
   "metadata": {},
   "outputs": [],
   "source": [
    "# NBVAL_SKIP\n",
    "\n",
    "import forest.benchmarking.operator_tools.random_operators as rand_ops\n",
    "from forest.benchmarking.distance_measures import infidelity\n",
    "infidn =[]\n",
    "trdn =[]\n",
    "for nshots in n_shots_max:\n",
    "    infid = []\n",
    "    trd = []\n",
    "    for _ in range(0,number_of_states):\n",
    "        # set the inital state of the simulator\n",
    "        rho_true = rand_ops.bures_measure_state_matrix(2)\n",
    "        qc.qam.wf_simulator.set_initial_state(rho_true).reset()\n",
    "        # gather data\n",
    "        resultsy = list(estimate_observables(qc=qc, obs_expt=experiment, num_shots=nshots))\n",
    "        # estimate\n",
    "        rho_est = iterative_mle_state_estimate(results=resultsy, qubits=[0],maxiter=100_000)\n",
    "        infid.append(infidelity(rho_true, rho_est))\n",
    "        trd.append(trace_distance(rho_true, rho_est))\n",
    "    infidn.append({'mean': np.mean(np.real(infid)), 'std': np.std(np.real_if_close(infid))})\n",
    "    trdn.append({'mean': np.mean(np.real(trd)), 'std': np.std(np.real_if_close(trd))})"
   ]
  },
  {
   "cell_type": "code",
   "execution_count": 35,
   "metadata": {},
   "outputs": [
    {
     "data": {
      "image/png": "[encoded data removed]",
      "text/plain": [
       "<Figure size 432x288 with 1 Axes>"
      ]
     },
     "metadata": {
      "needs_background": "light"
     },
     "output_type": "display_data"
    }
   ],
   "source": [
    "# NBVAL_SKIP\n",
    "\n",
    "import pandas as pd\n",
    "import matplotlib.pyplot as plt\n",
    "\n",
    "df = pd.DataFrame(infidn)\n",
    "dt = pd.DataFrame(trdn)\n",
    "plt.scatter(n_shots_max,df['mean'],label='1-Fidelity')\n",
    "plt.scatter(n_shots_max,dt['mean'],label='Trace Dist')\n",
    "plt.plot(n_shots_max,1/np.sqrt(n_shots_max),label='1/sqrt(N)')\n",
    "plt.yscale('log')\n",
    "plt.xscale('log')\n",
    "plt.ylim([0.0000051,0.1])\n",
    "plt.ylabel('Error')\n",
    "plt.xlabel('Number of Shots (N)')\n",
    "plt.title('Avg. error in estimating one Qubit states drawn from Bures measure')\n",
    "plt.legend()\n",
    "plt.show()"
   ]
  },
  {
   "cell_type": "code",
   "execution_count": null,
   "metadata": {},
   "outputs": [],
   "source": []
  }
 ],
 "metadata": {
  "kernelspec": {
   "display_name": "Python 3",
   "language": "python",
   "name": "python3"
  },
  "language_info": {
   "codemirror_mode": {
    "name": "ipython",
    "version": 3
   },
   "file_extension": ".py",
   "mimetype": "text/x-python",
   "name": "python",
   "nbconvert_exporter": "python",
   "pygments_lexer": "ipython3",
   "version": "3.7.3"
  }
 },
 "nbformat": 4,
 "nbformat_minor": 2
}
