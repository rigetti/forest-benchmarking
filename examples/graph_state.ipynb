{
 "cells": [
  {
   "cell_type": "markdown",
   "metadata": {},
   "source": [
    "# Graph State Example\n",
    "\n",
    "This example shows how to enact and measure a graph state on a set of connected qubits that form a graph with the qubits as nodes and pairs of coupled qubits as edges. "
   ]
  },
  {
   "cell_type": "markdown",
   "metadata": {},
   "source": [
    "## setup"
   ]
  },
  {
   "cell_type": "code",
   "execution_count": null,
   "metadata": {},
   "outputs": [],
   "source": [
    "import os\n",
    "from typing import List\n",
    "\n",
    "import networkx as nx\n",
    "import numpy as np\n",
    "import pandas as pd\n",
    "from matplotlib import pyplot as plt\n",
    "from pyquil.api import get_qc, QuantumComputer\n",
    "\n",
    "from forest.benchmarking.compilation import basic_compile\n",
    "from forest.benchmarking.graph_state import create_graph_state, measure_graph_state"
   ]
  },
  {
   "cell_type": "markdown",
   "metadata": {},
   "source": [
    "## graph state measurement and plotting functions"
   ]
  },
  {
   "cell_type": "markdown",
   "metadata": {},
   "source": [
    "Here, we make programs on a graph with qubits as nodes on a quantum device. "
   ]
  },
  {
   "cell_type": "code",
   "execution_count": null,
   "metadata": {},
   "outputs": [],
   "source": [
    "def run_graph_state(qc: QuantumComputer,\n",
    "                    nodes: List[int],\n",
    "                    graph: nx.classes.graph.Graph,\n",
    "                    n_shots: int = 1000):\n",
    "    assert all([node in qc.qubits() for node in nodes]), \"One or more nodes provided does not fall in the graph\"\n",
    "    \n",
    "    results = []\n",
    "    \n",
    "    for node in nodes:\n",
    "        print(f\"Running graph state on QC{node}\")\n",
    "        program = create_graph_state(graph)\n",
    "        measure_prog, c_addrs = measure_graph_state(graph, focal_node=node)\n",
    "        program += measure_prog\n",
    "        program = basic_compile(program)\n",
    "        program.wrap_in_numshots_loop(n_shots)\n",
    "        executable = qc.compile(program)\n",
    "\n",
    "        qc.qam.load(executable)\n",
    "        for theta in np.linspace(-np.pi, np.pi, 21):\n",
    "            qc.qam.write_memory(region_name='theta', value=theta)\n",
    "            bitstrings = qc.qam.run().wait().read_from_memory_region(region_name='ro')\n",
    "            parities = np.sum(bitstrings, axis=1) % 2\n",
    "            avg_parity = np.mean(parities)\n",
    "            results.append({\n",
    "                'focal_node': node,\n",
    "                'theta': theta,\n",
    "                'n_bitstrings': len(bitstrings),\n",
    "                'avg_parity': float(avg_parity),\n",
    "            })\n",
    "\n",
    "    pd.DataFrame(results).to_json('graph-state.json')"
   ]
  },
  {
   "cell_type": "code",
   "execution_count": null,
   "metadata": {},
   "outputs": [],
   "source": [
    "def plot_graph_state():\n",
    "    from matplotlib import pyplot as plt\n",
    "    df = pd.read_json('graph-state.json')\n",
    "    for focal_node in df['focal_node'].unique():\n",
    "        df2 = df[df['focal_node'] == focal_node].sort_values('theta')\n",
    "        plt.plot(df2['theta'], df2['avg_parity'], 'o-', label=f'{focal_node}')\n",
    "\n",
    "    plt.legend(loc='best')\n",
    "    plt.xlabel('theta')\n",
    "    plt.ylabel('parity')\n",
    "    plt.tight_layout()\n",
    "    plt.show()"
   ]
  },
  {
   "cell_type": "markdown",
   "metadata": {},
   "source": [
    "## creating a graph on a Rigetti lattice and running graph state measurements on it"
   ]
  },
  {
   "cell_type": "markdown",
   "metadata": {},
   "source": [
    "We start with some connected qubits. For a simple example, we'll take three qubits arranged in a line, forming a three-vertex path, which we can represent in avant-garde ASCII art as follows:\n",
    "\n",
    "    1 - 2 - 3\n",
    "    \n",
    "We define a graph with our qubits as nodes and pairs of coupled qubits as edges, so we have `[1, 2, 3]` as our nodes and `[(1, 2), (2, 3)]` as our edges. `networkx` has handy utilities for defining graphs from sets of edges and visualizing them so that we don't have to rely on my lackluster ASCII art. "
   ]
  },
  {
   "cell_type": "code",
   "execution_count": null,
   "metadata": {},
   "outputs": [],
   "source": [
    "# define the graph by its nodes and edges\n",
    "nodes = [1, 2, 3]\n",
    "graph = nx.from_edgelist([(1, 2), (2, 3)])\n",
    "\n",
    "# make a figure representing the graph\n",
    "nx.draw_networkx(graph)\n",
    "\n",
    "# hide axis labels and figure outline\n",
    "_ = plt.axis(\"off\")"
   ]
  },
  {
   "cell_type": "markdown",
   "metadata": {},
   "source": [
    "Now we can run the graph state measurement on each of the qubits in the simple, linear lattice we've specified. "
   ]
  },
  {
   "cell_type": "code",
   "execution_count": null,
   "metadata": {},
   "outputs": [],
   "source": [
    "nodes = [1, 2, 3]\n",
    "graph = nx.from_edgelist([(1, 2), (2, 3)])\n",
    "\n",
    "qc = get_qc('9q-square-qvm')\n",
    "\n",
    "if not os.path.exists('graph-state.json'):\n",
    "    run_graph_state(qc, nodes, graph)\n",
    "    \n",
    "plot_graph_state()"
   ]
  }
 ],
 "metadata": {
  "kernelspec": {
   "display_name": "Python 3",
   "language": "python",
   "name": "python3"
  },
  "language_info": {
   "codemirror_mode": {
    "name": "ipython",
    "version": 3
   },
   "file_extension": ".py",
   "mimetype": "text/x-python",
   "name": "python",
   "nbconvert_exporter": "python",
   "pygments_lexer": "ipython3",
   "version": "3.6.3"
  }
 },
 "nbformat": 4,
 "nbformat_minor": 2
}
