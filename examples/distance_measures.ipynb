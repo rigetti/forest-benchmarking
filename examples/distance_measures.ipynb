{
 "cells": [
  {
   "cell_type": "markdown",
   "metadata": {},
   "source": [
    "# Distance measures"
   ]
  },
  {
   "cell_type": "code",
   "execution_count": null,
   "metadata": {},
   "outputs": [],
   "source": [
    "import numpy as np\n",
    "import forest.benchmarking.random_operators as rand_ops\n",
    "import forest.benchmarking.distance_measures as dm"
   ]
  },
  {
   "cell_type": "markdown",
   "metadata": {},
   "source": [
    "## Purity"
   ]
  },
  {
   "cell_type": "code",
   "execution_count": null,
   "metadata": {},
   "outputs": [],
   "source": [
    "# make a random pure state and turn into a state matrix\n",
    "psi = rand_ops.haar_rand_state(2)\n",
    "rho_pure = np.matmul(psi,np.conjugate(psi.T))\n",
    "\n",
    "# maximally mixed state\n",
    "rho_max_mixed = np.eye(2)/2\n",
    "rho_qutrit_max_mixed = np.eye(3)/3\n",
    "\n",
    "# calculate purity without dimensional renormalization\n",
    "print(dm.purity(rho_pure, dim_renorm=False))\n",
    "print(dm.purity(rho_max_mixed, dim_renorm=False))\n",
    "print(dm.purity(rho_qutrit_max_mixed, dim_renorm=False))\n",
    "print(\"------------------\")\n",
    "\n",
    "# actually this is the default option\n",
    "print(dm.purity(rho_pure))\n",
    "print(dm.purity(rho_max_mixed))\n",
    "print(dm.purity(rho_qutrit_max_mixed))"
   ]
  },
  {
   "cell_type": "markdown",
   "metadata": {},
   "source": [
    "Now look at case with dimensional renormalization makes purity between [0,1].\n",
    "\n",
    "The maximally mixed state has purity = 0, independent of dimension D."
   ]
  },
  {
   "cell_type": "code",
   "execution_count": null,
   "metadata": {},
   "outputs": [],
   "source": [
    "# calculate purity WITH dimensional renormalization\n",
    "print(dm.purity(rho_pure, dim_renorm=True))\n",
    "print(dm.purity(rho_max_mixed, dim_renorm=True))\n",
    "print(dm.purity(rho_qutrit_max_mixed, dim_renorm=True))"
   ]
  },
  {
   "cell_type": "markdown",
   "metadata": {},
   "source": [
    "## Distance measures between quantum states"
   ]
  },
  {
   "cell_type": "code",
   "execution_count": null,
   "metadata": {},
   "outputs": [],
   "source": [
    "# random pure qubit state\n",
    "psi = rand_ops.haar_rand_state(2)\n",
    "rho = np.matmul(psi,np.conjugate(psi.T))\n",
    "\n",
    "# random mixed qubit state\n",
    "sigma = rand_ops.ginibre_state_matrix(2,2)"
   ]
  },
  {
   "cell_type": "markdown",
   "metadata": {},
   "source": [
    "## fidelity"
   ]
  },
  {
   "cell_type": "code",
   "execution_count": null,
   "metadata": {},
   "outputs": [],
   "source": [
    "dm.fidelity(rho, sigma)"
   ]
  },
  {
   "cell_type": "markdown",
   "metadata": {},
   "source": [
    "## trace distance"
   ]
  },
  {
   "cell_type": "code",
   "execution_count": null,
   "metadata": {},
   "outputs": [],
   "source": [
    "dm.trace_distance(rho, sigma)"
   ]
  },
  {
   "cell_type": "markdown",
   "metadata": {},
   "source": [
    "### Bures distance"
   ]
  },
  {
   "cell_type": "code",
   "execution_count": null,
   "metadata": {},
   "outputs": [],
   "source": [
    "dm.bures_distance(rho, sigma)"
   ]
  },
  {
   "cell_type": "markdown",
   "metadata": {},
   "source": [
    "## Bures angle"
   ]
  },
  {
   "cell_type": "code",
   "execution_count": null,
   "metadata": {},
   "outputs": [],
   "source": [
    "dm.bures_angle(rho, sigma)"
   ]
  },
  {
   "cell_type": "markdown",
   "metadata": {},
   "source": [
    "### Hilbert Schmidt IP"
   ]
  },
  {
   "cell_type": "code",
   "execution_count": null,
   "metadata": {},
   "outputs": [],
   "source": [
    "dm.hilbert_schmidt_ip(rho, sigma)"
   ]
  },
  {
   "cell_type": "markdown",
   "metadata": {},
   "source": [
    "## Quantum chernoff exponent"
   ]
  },
  {
   "cell_type": "code",
   "execution_count": null,
   "metadata": {},
   "outputs": [],
   "source": [
    "qcb_exp, s_opt = dm.quantum_chernoff_bound(rho,sigma)\n",
    "print(qcb_exp, s_opt)"
   ]
  },
  {
   "cell_type": "markdown",
   "metadata": {},
   "source": [
    "## Diamond norm AKA the completely bounded trace norm"
   ]
  },
  {
   "cell_type": "code",
   "execution_count": null,
   "metadata": {},
   "outputs": [],
   "source": [
    "# Related to test cases borrowed from qutip,\n",
    "# https://github.com/qutip/qutip/blob/master/qutip/tests/test_metrics.py\n",
    "# which were in turn generated using QuantumUtils for MATLAB\n",
    "# (https://goo.gl/oWXhO9) by C. Granade\n",
    "\n",
    "Id = np.asarray([[1, 0], [0, 1]])\n",
    "Xd = np.asarray([[0, 1], [1, 0]])\n",
    "\n",
    "from scipy.linalg import expm\n",
    "# Define unitary\n",
    "theta = 0.4\n",
    "Ud = expm(-theta*1j*Xd/2)\n",
    "# = cos(theta)Id + 1j sin(theta)X\n",
    "# This unitary is:\n",
    "# close to Id for theta small\n",
    "# close to X for theta np.pi (up to global phase -1j)\n",
    "print(Ud)"
   ]
  },
  {
   "cell_type": "code",
   "execution_count": null,
   "metadata": {},
   "outputs": [],
   "source": [
    "def _gate_to_superop(gate):\n",
    "    dim = gate.shape[0]\n",
    "    superop = np.outer(gate, gate.conj().T)\n",
    "    superop = np.reshape(superop, [dim]*4)\n",
    "    superop = np.transpose(superop, [0, 3, 1, 2])\n",
    "    return superop\n",
    "\n",
    "def _superop_to_choi(superop):\n",
    "    dim = superop.shape[0]\n",
    "    superop = np.transpose(superop, (0, 2, 1, 3))\n",
    "    choi = np.reshape(superop, [dim**2] * 2)\n",
    "    return choi\n",
    "\n",
    "def _gate_to_choi(gate):\n",
    "    return _superop_to_choi(_gate_to_superop(gate))"
   ]
  },
  {
   "cell_type": "code",
   "execution_count": null,
   "metadata": {},
   "outputs": [],
   "source": [
    "choi0 = _gate_to_choi(Id) \n",
    "choi1 = _gate_to_choi(Ud)\n",
    "choi2 = _gate_to_choi(Xd)"
   ]
  },
  {
   "cell_type": "code",
   "execution_count": null,
   "metadata": {},
   "outputs": [],
   "source": [
    "dnorm = dm.diamond_norm(choi0, choi1)\n",
    "print(\"This gate is close to the identity as the diamond norm is close to zero. Dnorm= \",dnorm)"
   ]
  },
  {
   "cell_type": "code",
   "execution_count": null,
   "metadata": {},
   "outputs": [],
   "source": [
    "dnorm = dm.diamond_norm(choi0, choi2)\n",
    "print(\"This gate is far from identity as diamond norm = \",dnorm)"
   ]
  },
  {
   "cell_type": "code",
   "execution_count": null,
   "metadata": {},
   "outputs": [],
   "source": []
  }
 ],
 "metadata": {
  "kernelspec": {
   "display_name": "Python 3",
   "language": "python",
   "name": "python3"
  },
  "language_info": {
   "codemirror_mode": {
    "name": "ipython",
    "version": 3
   },
   "file_extension": ".py",
   "mimetype": "text/x-python",
   "name": "python",
   "nbconvert_exporter": "python",
   "pygments_lexer": "ipython3",
   "version": "3.6.3"
  }
 },
 "nbformat": 4,
 "nbformat_minor": 2
}
