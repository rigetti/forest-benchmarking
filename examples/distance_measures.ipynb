{
 "cells": [
  {
   "cell_type": "markdown",
   "metadata": {},
   "source": [
    "# Distance measures\n",
    "\n",
    "It is often the case that that we wish to measure how close a an experimentally prepared quantum state is to the ideal. Or between an ideal quantum gate and it's experimental implementation. Distance measures between states or processes can be subtle.  We recomend thinking about the *operational intepretation* of each measure before using the measure. \n",
    "\n",
    "\n",
    "The following references are good starting points for further reading of the literature: \n",
    "\n",
    "*Quantum Computation and Quantum Information*  \n",
    "Michael A. Nielsen & Isaac L. Chuang  \n",
    "Cambridge: Cambridge University Press (2000)  \n",
    "             \n",
    "*Distinguishability and Accessible Information in Quantum Theory*  \n",
    "Christopher A. Fuchs  \n",
    "Ph.D. thesis, The University of New Mexico (1996)  \n",
    "https://arxiv.org/abs/quant-ph/9601020  \n",
    "\n",
    "*Distance measures to compare real and ideal quantum processes*  \n",
    "Alexei Gilchrist, Nathan K. Langford, Michael A. Nielsen  \n",
    "Phys. Rev. A 71, 062310 (2005)  \n",
    "https://doi.org/10.1103/PhysRevA.71.062310  \n",
    "https://arxiv.org/abs/quant-ph/0408063  \n",
    "\n",
    "*Characterizing Quantum Gates via Randomized Benchmarking*  \n",
    "Easwar Magesan, Jay M. Gambetta, and Joseph Emerson  \n",
    "Phys. Rev. A 85, 042311 (2012)  \n",
    "https://doi.org/10.1103/PhysRevA.85.042311  \n",
    "https://arxiv.org/abs/1109.6887  \n"
   ]
  },
  {
   "cell_type": "code",
   "execution_count": 1,
   "metadata": {},
   "outputs": [],
   "source": [
    "import numpy as np\n",
    "import forest.benchmarking.operator_tools.random_operators as rand_ops\n",
    "from forest.benchmarking.operator_tools.calculational import outer_product\n",
    "import forest.benchmarking.distance_measures as dm"
   ]
  },
  {
   "cell_type": "markdown",
   "metadata": {},
   "source": [
    "## Distance measures between quantum states"
   ]
  },
  {
   "cell_type": "code",
   "execution_count": 2,
   "metadata": {},
   "outputs": [],
   "source": [
    "# some pure states \n",
    "psi1 = rand_ops.haar_rand_state(2)\n",
    "rho_haar1 = outer_product(psi1,psi1)\n",
    "psi2 = rand_ops.haar_rand_state(2)\n",
    "rho_haar2 = outer_product(psi2,psi2)\n",
    "\n",
    "# some mixed states\n",
    "rho = rand_ops.bures_measure_state_matrix(2) \n",
    "sigma = rand_ops.bures_measure_state_matrix(2) "
   ]
  },
  {
   "cell_type": "markdown",
   "metadata": {},
   "source": [
    "The fidelity between $\\rho$ and $\\sigma$\n",
    "\n",
    "$$F(\\rho, \\sigma) = \\left(\\operatorname{Tr} \\sqrt{\\sqrt{\\rho} \\sigma \\sqrt{\\rho}}\\right)^2.$$  \n",
    "\n",
    "When $\\rho = |\\psi\\rangle \\langle \\psi|$ and $\\sigma= |\\phi\\rangle \\langle \\phi|$ are pure states, the definition reduces to the squared overlap between the states: $F(\\rho, \\sigma)=|\\langle\\psi|\\phi\\rangle|^2$. Here it is easy to see that the fidelity is a probablity.\n",
    "\n",
    "Be careful not to confuse this defintion with the **square root fidelity $\\sqrt{F}$**. "
   ]
  },
  {
   "cell_type": "code",
   "execution_count": 3,
   "metadata": {},
   "outputs": [
    {
     "data": {
      "text/plain": [
       "0.6520815389969493"
      ]
     },
     "execution_count": 3,
     "metadata": {},
     "output_type": "execute_result"
    }
   ],
   "source": [
    "dm.fidelity(rho, sigma)"
   ]
  },
  {
   "cell_type": "code",
   "execution_count": 4,
   "metadata": {},
   "outputs": [
    {
     "name": "stdout",
     "output_type": "stream",
     "text": [
      "Infidelity is 1 - fidelity: 0.3479184610030507\n"
     ]
    }
   ],
   "source": [
    "print('Infidelity is 1 - fidelity:', dm.infidelity(rho, sigma))"
   ]
  },
  {
   "cell_type": "code",
   "execution_count": 5,
   "metadata": {},
   "outputs": [
    {
     "data": {
      "text/plain": [
       "0.3402863160096079"
      ]
     },
     "execution_count": 5,
     "metadata": {},
     "output_type": "execute_result"
    }
   ],
   "source": [
    "dm.trace_distance(rho, sigma)"
   ]
  },
  {
   "cell_type": "code",
   "execution_count": 6,
   "metadata": {},
   "outputs": [
    {
     "data": {
      "text/plain": [
       "0.6204584455548694"
      ]
     },
     "execution_count": 6,
     "metadata": {},
     "output_type": "execute_result"
    }
   ],
   "source": [
    "dm.bures_distance(rho, sigma)"
   ]
  },
  {
   "cell_type": "code",
   "execution_count": 7,
   "metadata": {},
   "outputs": [
    {
     "data": {
      "text/plain": [
       "0.6308682842487863"
      ]
     },
     "execution_count": 7,
     "metadata": {},
     "output_type": "execute_result"
    }
   ],
   "source": [
    "dm.bures_angle(rho, sigma)"
   ]
  },
  {
   "cell_type": "code",
   "execution_count": 8,
   "metadata": {},
   "outputs": [
    {
     "data": {
      "text/plain": [
       "0.6386793328130461"
      ]
     },
     "execution_count": 8,
     "metadata": {},
     "output_type": "execute_result"
    }
   ],
   "source": [
    "dm.hilbert_schmidt_ip(rho, sigma)"
   ]
  },
  {
   "cell_type": "code",
   "execution_count": 9,
   "metadata": {},
   "outputs": [
    {
     "name": "stdout",
     "output_type": "stream",
     "text": [
      "The the non-logarithmic quantum Chernoff bound is: 0.7424472339623657\n",
      "The s achieving the minimum qcb_exp is: 0.677310028692339\n"
     ]
    }
   ],
   "source": [
    "qcb_exp, s_opt = dm.quantum_chernoff_bound(rho,sigma)\n",
    "print('The the non-logarithmic quantum Chernoff bound is:', qcb_exp)\n",
    "print('The s achieving the minimum qcb_exp is:', s_opt)"
   ]
  },
  {
   "cell_type": "markdown",
   "metadata": {},
   "source": [
    "Here we calculate the total variation distance (TVD) between the classical outcome distribuions associated with two random states in the Z basis."
   ]
  },
  {
   "cell_type": "code",
   "execution_count": 10,
   "metadata": {},
   "outputs": [
    {
     "data": {
      "text/plain": [
       "0.3898287392115576"
      ]
     },
     "execution_count": 10,
     "metadata": {},
     "output_type": "execute_result"
    }
   ],
   "source": [
    "Proj_zero = np.array([[1, 0], [0, 0]])\n",
    "\n",
    "# Pr(0|rho) = Tr[ rho * Proj_zero ]\n",
    "p = np.trace(rho_haar1 @ Proj_zero)\n",
    "q = np.trace(rho_haar2 @ Proj_zero)\n",
    "\n",
    "# Pr(Proj_one) = 1 - p or Pr(Proj_one) = 1 - q \n",
    "P = np.array([[p], [1-p]])\n",
    "Q = np.array([[q], [1-q]])\n",
    "\n",
    "dm.total_variation_distance(P,Q)"
   ]
  },
  {
   "cell_type": "markdown",
   "metadata": {},
   "source": [
    "The next two measures are not really measures between states; however you can think of them as a measure of how close (or how far, resp.) the given state is to a pure state."
   ]
  },
  {
   "cell_type": "code",
   "execution_count": 11,
   "metadata": {},
   "outputs": [
    {
     "name": "stdout",
     "output_type": "stream",
     "text": [
      "Pure states have purity P =  1.0000000000000004\n",
      "Mixed states have purity <=1. In this case P =  0.76 \n",
      "\n",
      "Pure states have impurity L = 1 - Purity =  -4.440892098500626e-16\n",
      "Mixed states have impurity >= 0. In this case L =  0.76\n"
     ]
    }
   ],
   "source": [
    "print('Pure states have purity P = ', dm.purity(rho_haar1))\n",
    "print('Mixed states have purity <=1. In this case P = ', np.round(dm.purity(rho),4), '\\n')\n",
    "\n",
    "print('Pure states have impurity L = 1 - Purity = ', dm.impurity(rho_haar1))\n",
    "print('Mixed states have impurity >= 0. In this case L = ', np.round(dm.purity(rho),4))"
   ]
  },
  {
   "cell_type": "markdown",
   "metadata": {},
   "source": [
    "Dimensional renormalization makes the purity lay between [0,1].\n",
    "\n",
    "The maximally mixed state has purity = 0, independent of dimension D."
   ]
  },
  {
   "cell_type": "code",
   "execution_count": 12,
   "metadata": {},
   "outputs": [
    {
     "name": "stdout",
     "output_type": "stream",
     "text": [
      "0.5200930246189173\n",
      "0.7600465123094586\n"
     ]
    }
   ],
   "source": [
    "# calculate purity WITH and WITHOUT dimensional renormalization\n",
    "print(dm.purity(rho, dim_renorm=True))\n",
    "print(dm.purity(rho, dim_renorm=False))"
   ]
  },
  {
   "cell_type": "markdown",
   "metadata": {},
   "source": [
    "## Distance measures between quantum processes"
   ]
  },
  {
   "cell_type": "markdown",
   "metadata": {},
   "source": [
    "The example is related to test cases borrowed from [qutip](https://github.com/qutip/qutip/blob/master/qutip/tests/test_metrics.py),\n",
    "which were in turn generated using [QuantumUtils for MATLAB](https://goo.gl/oWXhO9) by C. Granade."
   ]
  },
  {
   "cell_type": "code",
   "execution_count": 13,
   "metadata": {},
   "outputs": [
    {
     "name": "stdout",
     "output_type": "stream",
     "text": [
      "[[0.98006658+0.j         0.        -0.19866933j]\n",
      " [0.        -0.19866933j 0.98006658+0.j        ]]\n"
     ]
    }
   ],
   "source": [
    "Id = np.asarray([[1, 0], [0, 1]])\n",
    "Xd = np.asarray([[0, 1], [1, 0]])\n",
    "\n",
    "from scipy.linalg import expm\n",
    "\n",
    "# Define unitary\n",
    "theta = 0.4\n",
    "Ud = expm(-theta*1j*Xd/2)\n",
    "\n",
    "# This unitary is:\n",
    "# close to Id for theta small\n",
    "# close to X for theta np.pi (up to global phase -1j)\n",
    "print(Ud)"
   ]
  },
  {
   "cell_type": "markdown",
   "metadata": {},
   "source": [
    "**Process Fidelity between Pauli-Liouville matrices**"
   ]
  },
  {
   "cell_type": "code",
   "execution_count": 14,
   "metadata": {},
   "outputs": [],
   "source": [
    "from forest.benchmarking.operator_tools import kraus2pauli_liouville"
   ]
  },
  {
   "cell_type": "code",
   "execution_count": 15,
   "metadata": {},
   "outputs": [],
   "source": [
    "plio0 = kraus2pauli_liouville(Id) \n",
    "plio1 = kraus2pauli_liouville(Ud)\n",
    "plio2 = kraus2pauli_liouville(Xd)"
   ]
  },
  {
   "cell_type": "code",
   "execution_count": 16,
   "metadata": {},
   "outputs": [
    {
     "data": {
      "text/plain": [
       "0.9736869980009617"
      ]
     },
     "execution_count": 16,
     "metadata": {},
     "output_type": "execute_result"
    }
   ],
   "source": [
    "dm.process_fidelity(plio0, plio1)"
   ]
  },
  {
   "cell_type": "markdown",
   "metadata": {},
   "source": [
    "**Diamond norm distance between Choi matrices**"
   ]
  },
  {
   "cell_type": "code",
   "execution_count": 17,
   "metadata": {},
   "outputs": [],
   "source": [
    "from forest.benchmarking.operator_tools import kraus2choi"
   ]
  },
  {
   "cell_type": "code",
   "execution_count": 18,
   "metadata": {},
   "outputs": [],
   "source": [
    "choi0 = kraus2choi(Id) \n",
    "choi1 = kraus2choi(Ud)\n",
    "choi2 = kraus2choi(Xd)"
   ]
  },
  {
   "cell_type": "code",
   "execution_count": 19,
   "metadata": {},
   "outputs": [
    {
     "name": "stdout",
     "output_type": "stream",
     "text": [
      "WARN: m less than n, problem likely degenerate\n",
      "This gate is close to the identity as the diamond norm is close to zero. Dnorm=  inf\n"
     ]
    }
   ],
   "source": [
    "# NBVAL_SKIP\n",
    "# our build environment has problems with cvxpy so we skip this cell\n",
    "\n",
    "dnorm = dm.diamond_norm_distance(choi0, choi1)\n",
    "print(\"This gate is close to the identity as the diamond norm is close to zero. Dnorm= \",dnorm)"
   ]
  },
  {
   "cell_type": "code",
   "execution_count": 20,
   "metadata": {},
   "outputs": [
    {
     "name": "stdout",
     "output_type": "stream",
     "text": [
      "WARN: m less than n, problem likely degenerate\n",
      "This gate is far from identity as diamond norm =  inf\n"
     ]
    }
   ],
   "source": [
    "# NBVAL_SKIP\n",
    "\n",
    "dnorm = dm.diamond_norm_distance(choi0, choi2)\n",
    "print(\"This gate is far from identity as diamond norm = \",dnorm)"
   ]
  },
  {
   "cell_type": "code",
   "execution_count": 21,
   "metadata": {},
   "outputs": [
    {
     "data": {
      "text/plain": [
       "(0.3973386615901225, 1.58935464636049)"
      ]
     },
     "execution_count": 21,
     "metadata": {},
     "output_type": "execute_result"
    }
   ],
   "source": [
    "dm.watrous_bounds((choi0 - choi1)/2)"
   ]
  },
  {
   "cell_type": "code",
   "execution_count": null,
   "metadata": {},
   "outputs": [],
   "source": []
  }
 ],
 "metadata": {
  "kernelspec": {
   "display_name": "Python 3",
   "language": "python",
   "name": "python3"
  },
  "language_info": {
   "codemirror_mode": {
    "name": "ipython",
    "version": 3
   },
   "file_extension": ".py",
   "mimetype": "text/x-python",
   "name": "python",
   "nbconvert_exporter": "python",
   "pygments_lexer": "ipython3",
   "version": "3.7.3"
  }
 },
 "nbformat": 4,
 "nbformat_minor": 2
}
