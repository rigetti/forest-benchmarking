{
 "cells": [
  {
   "cell_type": "markdown",
   "metadata": {},
   "source": [
    "# Qubit spectroscopy: CZ Ramsey measurement example\n",
    "\n",
    "Similar to a $T_2^*$ Ramsey experiment, a CZ Ramsey experiment measures fringes resulting from induced Z rotations, which can result in non-unitary CZs. To rectify this non-unitarity, we determine the correction we need to apply to each qubit in the form of `RZ` rotations. If a CZ is perfectly unitary (or has been compensated for adequately with `RZ` pulses), a CZ Ramsey experiment should return 0 radians for each qubit. If, however, some correction is required, these angles will be non-zero. \n",
    "\n",
    "A sample QUIL program at one data point (specified by the equatorial Z rotation which maximizes excited state visibility when equal to the required `RZ` correction) between qubits 0 and 1 would look like \n",
    "\n",
    "    DECLARE ro BIT[1]\n",
    "    DECLARE theta REAL[1]\n",
    "    RX(pi/2) 0\n",
    "    CZ 0 1\n",
    "    RZ(theta) 0\n",
    "    RX(pi/2) 0\n",
    "    MEASURE 0 ro[0]\n",
    "    \n",
    "Since we can natively parameterize `RZ` rotations continuously on our hardware, we are able to make use of [Quil 2.0's parametric program compilation](https://pyquil.readthedocs.io/en/stable/migration3-declare.html?highlight=parametric%20program%20compilation#Parametric-compilation) using `DECLARE theta REAL[1]` and `RZ(theta) 0`. "
   ]
  },
  {
   "cell_type": "markdown",
   "metadata": {},
   "source": [
    "## setup"
   ]
  },
  {
   "cell_type": "code",
   "execution_count": null,
   "metadata": {},
   "outputs": [],
   "source": [
    "from typing import Tuple\n",
    "\n",
    "from matplotlib import pyplot as plt\n",
    "import numpy as np\n",
    "import pandas as pd\n",
    "\n",
    "from pyquil import Program\n",
    "from pyquil.api import get_qc, QuantumComputer\n",
    "from forest.benchmarking.qubit_spectroscopy import (generate_cz_phase_ramsey_experiment,\n",
    "                                                    acquire_cz_phase_ramsey_data,\n",
    "                                                    estimate_cz_phase_ramsey,\n",
    "                                                    plot_cz_phase_estimate_over_data)"
   ]
  },
  {
   "cell_type": "markdown",
   "metadata": {},
   "source": [
    "## measurement, analysis, and plotting\n",
    "\n",
    "This method takes in a `pandas.DataFrame` object with all the CZ Ramsey data, including the phases and qubits measured, and plots the CZ Ramsey fringes of each qubit with respect to increasing applied contrast phase. It fits to a sinusoid, evaluates the phases at which excited state visibility is maximized for each qubit, $\\theta_0$ and $\\theta_1$, and plots a vertical line at these maximum excited state visibility points over the experimental data. "
   ]
  },
  {
   "cell_type": "code",
   "execution_count": null,
   "metadata": {},
   "outputs": [],
   "source": [
    "#qc = get_qc('Aspen-1-15Q-A')\n",
    "#qc = get_qc('Aspen-3-14Q-A',as_qvm = True)\n",
    "#qc = get_qc('Aspen-3-14Q-A')\n",
    "qc = get_qc('2q-noisy-qvm') # will run on a QVM, but not meaningfully \n",
    "graph = qc.qubit_topology()\n",
    "edges = list(graph.edges())\n",
    "edges"
   ]
  },
  {
   "cell_type": "code",
   "execution_count": null,
   "metadata": {},
   "outputs": [],
   "source": [
    "#qc.device.specs"
   ]
  },
  {
   "cell_type": "markdown",
   "metadata": {},
   "source": [
    "**CZ Ramsey experiments**\n",
    "\n",
    "We can specify which qubits `edges`"
   ]
  },
  {
   "cell_type": "code",
   "execution_count": null,
   "metadata": {},
   "outputs": [],
   "source": [
    "exp_cz = generate_cz_phase_ramsey_experiment(edges)"
   ]
  },
  {
   "cell_type": "code",
   "execution_count": null,
   "metadata": {},
   "outputs": [],
   "source": [
    "exp_cz"
   ]
  },
  {
   "cell_type": "markdown",
   "metadata": {},
   "source": [
    "**Acquire data**\n",
    "\n",
    "Collect our Ramsey raw data using `acquire_cz_phase_ramsey_data`."
   ]
  },
  {
   "cell_type": "code",
   "execution_count": null,
   "metadata": {},
   "outputs": [],
   "source": [
    "result = acquire_cz_phase_ramsey_data(qc,exp_cz)"
   ]
  },
  {
   "cell_type": "code",
   "execution_count": null,
   "metadata": {},
   "outputs": [],
   "source": [
    "result"
   ]
  },
  {
   "cell_type": "markdown",
   "metadata": {},
   "source": [
    "**Use the results to produce estimates of Ramsey-acquired compensatory RZ phases**"
   ]
  },
  {
   "cell_type": "code",
   "execution_count": null,
   "metadata": {},
   "outputs": [],
   "source": [
    "est = estimate_cz_phase_ramsey(result)"
   ]
  },
  {
   "cell_type": "markdown",
   "metadata": {},
   "source": [
    "**Plot**"
   ]
  },
  {
   "cell_type": "code",
   "execution_count": null,
   "metadata": {},
   "outputs": [],
   "source": [
    "plot_cz_phase_estimate_over_data(result, est)"
   ]
  },
  {
   "cell_type": "code",
   "execution_count": null,
   "metadata": {},
   "outputs": [],
   "source": []
  }
 ],
 "metadata": {
  "kernelspec": {
   "display_name": "Python 3",
   "language": "python",
   "name": "python3"
  },
  "language_info": {
   "codemirror_mode": {
    "name": "ipython",
    "version": 3
   },
   "file_extension": ".py",
   "mimetype": "text/x-python",
   "name": "python",
   "nbconvert_exporter": "python",
   "pygments_lexer": "ipython3",
   "version": "3.6.3"
  }
 },
 "nbformat": 4,
 "nbformat_minor": 2
}
