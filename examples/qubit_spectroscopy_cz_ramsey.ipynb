{
 "cells": [
  {
   "cell_type": "markdown",
   "metadata": {},
   "source": [
    "# Qubit spectroscopy: CZ Ramsey measurement example\n",
    "\n",
    "Similar to a $T_2^*$ Ramsey experiment, a CZ Ramsey experiment measures fringes resulting from induced Z rotations, which can result in non-unitary CZs. To rectify this non-unitarity, we determine the correction we need to apply to each qubit in the form of `RZ` rotations. If a CZ is perfectly unitary (or has been compensated for adequately with `RZ` pulses), a CZ Ramsey experiment should return 0 radians for each qubit. If, however, some correction is required, these angles will be non-zero. \n",
    "\n",
    "A sample QUIL program at one data point (specified by the equatorial Z rotation which maximizes excited state visibility when equal to the required `RZ` correction) between qubits 0 and 1 would look like \n",
    "\n",
    "    DECLARE ro BIT[1]\n",
    "    DECLARE theta REAL[1]\n",
    "    RX(pi/2) 0\n",
    "    CZ 0 1\n",
    "    RZ(theta) 0\n",
    "    RX(pi/2) 0\n",
    "    MEASURE 0 ro[0]\n",
    "    \n",
    "Since we can natively parameterize `RZ` rotations continuously on our hardware, we are able to make use of [Quil 2.0's parametric program compilation](https://pyquil.readthedocs.io/en/stable/migration3-declare.html?highlight=parametric%20program%20compilation#Parametric-compilation) using `DECLARE theta REAL[1]` and `RZ(theta) 0`. "
   ]
  },
  {
   "cell_type": "markdown",
   "metadata": {},
   "source": [
    "## setup"
   ]
  },
  {
   "cell_type": "code",
   "execution_count": null,
   "metadata": {},
   "outputs": [],
   "source": [
    "from typing import Tuple\n",
    "\n",
    "from matplotlib import pyplot as plt\n",
    "import numpy as np\n",
    "\n",
    "from pyquil import Program\n",
    "from pyquil.api import get_qc, QuantumComputer\n",
    "from forest.benchmarking.qubit_spectroscopy import *"
   ]
  },
  {
   "cell_type": "markdown",
   "metadata": {},
   "source": [
    "## measurement, analysis, and plotting\n",
    "\n",
    "This method takes in a `pandas.DataFrame` object with all the CZ Ramsey data, including the phases and qubits measured, and plots the CZ Ramsey fringes of each qubit with respect to increasing applied contrast phase. It fits to a sinusoid, evaluates the phases at which excited state visibility is maximized for each qubit, $\\theta_0$ and $\\theta_1$, and plots a vertical line at these maximum excited state visibility points over the experimental data. "
   ]
  },
  {
   "cell_type": "code",
   "execution_count": null,
   "metadata": {},
   "outputs": [],
   "source": [
    "#qc = get_qc('Aspen-1-15Q-A')\n",
    "qc = get_qc('3q-noisy-qvm') # will run on a QVM, but not very meaningfully since there is no cross-talk.\n",
    "graph = qc.qubit_topology()\n",
    "edges = list(graph.edges())\n",
    "edges"
   ]
  },
  {
   "cell_type": "code",
   "execution_count": null,
   "metadata": {},
   "outputs": [],
   "source": [
    "#qc.device.specs"
   ]
  },
  {
   "cell_type": "markdown",
   "metadata": {},
   "source": [
    "**CZ Ramsey experiments**\n",
    "\n"
   ]
  },
  {
   "cell_type": "code",
   "execution_count": null,
   "metadata": {},
   "outputs": [],
   "source": [
    "import numpy as np\n",
    "from numpy import pi\n",
    "angles = np.linspace(0, 2*pi, 15)\n",
    "expts = [generate_cz_phase_ramsey_experiment(edge, measure_q, angles) for edge in edges for measure_q in edge]"
   ]
  },
  {
   "cell_type": "markdown",
   "metadata": {},
   "source": [
    "**Acquire data**\n",
    "\n",
    "Collect our Ramsey raw data using `acquire_cz_phase_ramsey_data`."
   ]
  },
  {
   "cell_type": "code",
   "execution_count": null,
   "metadata": {},
   "outputs": [],
   "source": [
    "# acquire results for a particular experiment\n",
    "results = acquire_cz_phase_ramsey_data(qc, expts[0], num_shots=500)"
   ]
  },
  {
   "cell_type": "markdown",
   "metadata": {},
   "source": [
    "**Use the results to produce estimates of Ramsey-acquired compensatory RZ phases**"
   ]
  },
  {
   "cell_type": "code",
   "execution_count": null,
   "metadata": {},
   "outputs": [],
   "source": [
    "from forest.benchmarking.analysis.fitting import make_figure\n",
    "\n",
    "stats_by_qubit = get_stats_by_qubit(results)\n",
    "for q, stats in stats_by_qubit.items():\n",
    "    fit = fit_cz_phase_ramsey_results(angles, stats_by_qubit[q]['expectation'],\n",
    "                         stats_by_qubit[q]['std_err'])\n",
    "    fig, axs = make_figure(fit, title=f'Q{q} Data and Fit',xlabel=\"RX angle [rad]\",\n",
    "                           ylabel=r\"Pr($|1\\rangle$)\")\n",
    "    frequency = fit.params['frequency'].value # ratio of actual angle over intended control angle\n",
    "    amplitude = fit.params['amplitude'].value # (P(1 given 1) - P(1 given 0)) / 2\n",
    "    baseline = fit.params['baseline'].value # amplitude + P(1 given 0)\n",
    "    offset = fit.params['offset'].value # effective imparted phase on the qubit from the CZ, relative to the true qubit frequency"
   ]
  },
  {
   "cell_type": "code",
   "execution_count": null,
   "metadata": {},
   "outputs": [],
   "source": []
  }
 ],
 "metadata": {
  "language_info": {
   "name": "python",
   "pygments_lexer": "ipython3"
  }
 },
 "nbformat": 4,
 "nbformat_minor": 2
}
