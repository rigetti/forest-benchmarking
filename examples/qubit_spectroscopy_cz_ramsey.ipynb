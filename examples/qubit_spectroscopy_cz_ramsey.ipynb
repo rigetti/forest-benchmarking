{
 "cells": [
  {
   "cell_type": "markdown",
   "metadata": {},
   "source": [
    "# Qubit spectroscopy: CZ Ramsey measurement example\n",
    "\n",
    "Similar to a $T_2^*$ Ramsey experiment, a CZ Ramsey experiment measures fringes resulting from induced Z rotations, which can result in non-unitary CZs. To rectify this non-unitarity, we determine the correction we need to apply to each qubit in the form of `RZ` rotations. If a CZ is perfectly unitary (or has been compensated for adequately with `RZ` pulses), a CZ Ramsey experiment should return 0 radians for each qubit. If, however, some correction is required, these angles will be non-zero. \n",
    "\n",
    "A sample QUIL program at one data point (specified by the equatorial Z rotation which maximizes excited state visibility when equal to the required `RZ` correction) between qubits 0 and 1 would look like \n",
    "\n",
    "    DECLARE ro BIT[1]\n",
    "    DECLARE theta REAL[1]\n",
    "    RX(pi/2) 0\n",
    "    CZ 0 1\n",
    "    RZ(theta) 0\n",
    "    RX(pi/2) 0\n",
    "    MEASURE 0 ro[0]\n",
    "    "
   ]
  },
  {
   "cell_type": "markdown",
   "metadata": {},
   "source": [
    "## setup"
   ]
  },
  {
   "cell_type": "code",
   "execution_count": null,
   "metadata": {},
   "outputs": [],
   "source": [
    "from typing import Tuple\n",
    "\n",
    "from matplotlib import pyplot as plt\n",
    "import numpy as np\n",
    "\n",
    "from pyquil import Program\n",
    "from pyquil.api import get_qc, QuantumComputer\n",
    "from forest.benchmarking.qubit_spectroscopy import *"
   ]
  },
  {
   "cell_type": "markdown",
   "metadata": {},
   "source": [
    "## measurement, analysis, and plotting"
   ]
  },
  {
   "cell_type": "code",
   "execution_count": null,
   "metadata": {},
   "outputs": [],
   "source": [
    "#qc = get_qc('Aspen-1-15Q-A')\n",
    "qc = get_qc('3q-noisy-qvm') # will run on a QVM, but not very meaningfully since there is no cross-talk.\n",
    "graph = qc.qubit_topology()\n",
    "edges = list(graph.edges())\n",
    "edges"
   ]
  },
  {
   "cell_type": "code",
   "execution_count": null,
   "metadata": {},
   "outputs": [],
   "source": [
    "# if you are on the QPU you can look at `qc.device.specs`\n",
    "# qc.device.specs"
   ]
  },
  {
   "cell_type": "markdown",
   "metadata": {},
   "source": [
    "**CZ Ramsey experiments**\n",
    "\n"
   ]
  },
  {
   "cell_type": "code",
   "execution_count": null,
   "metadata": {},
   "outputs": [],
   "source": [
    "import numpy as np\n",
    "from numpy import pi\n",
    "angles = np.linspace(0, 2*pi, 15)\n",
    "edge = (0, 1)\n",
    "# genereate a set of len(angles) experiments for each measurement qubit on edge (0, 1).\n",
    "edge_0_1_expts = [generate_cz_phase_ramsey_experiments(edge, measure_q, angles) for measure_q in edge]"
   ]
  },
  {
   "cell_type": "markdown",
   "metadata": {},
   "source": [
    "**Acquire data**\n",
    "\n",
    "Collect our Ramsey raw data using `estimate_observables`."
   ]
  },
  {
   "cell_type": "code",
   "execution_count": null,
   "metadata": {},
   "outputs": [],
   "source": [
    "from forest.benchmarking.observable_estimation import estimate_observables\n",
    "# acquire results for each measurement qubit on each edge.\n",
    "results = []\n",
    "for angle_expts in zip(*edge_0_1_expts):\n",
    "    angle_results = []\n",
    "    for meas_q_expt in angle_expts:\n",
    "        angle_results += estimate_observables(qc, meas_q_expt, num_shots=500)\n",
    "    results.append(angle_results)"
   ]
  },
  {
   "cell_type": "markdown",
   "metadata": {},
   "source": [
    "**Use the results to produce estimates of Ramsey-acquired compensatory RZ phases for this edge**\n",
    "\n",
    "In the cell below we first extract the expectation and std_err for each meausurement and store these results in lists separately for each qubit measured. For each qubit measured we then fit a sinusoid to the data from which we can determine the `offset` of the maximum excited state visibility, which tells us the effective imparted phase. Finally we plot the CZ Ramsey fringes for each qubit with respect to increasing applied contrast phase."
   ]
  },
  {
   "cell_type": "code",
   "execution_count": null,
   "metadata": {},
   "outputs": [],
   "source": [
    "from forest.benchmarking.plotting import plot_figure_for_fit\n",
    "\n",
    "stats_by_qubit = get_stats_by_qubit(results)\n",
    "for q, stats in stats_by_qubit.items():\n",
    "    fit = fit_cz_phase_ramsey_results(angles, stats['expectation'], stats['std_err'])\n",
    "    fig, axs = plot_figure_for_fit(fit, title=f'Q{q} Data and Fit', xlabel=\"RX angle [rad]\",\n",
    "                           ylabel=r\"Pr($|1\\rangle$)\")\n",
    "    frequency = fit.params['frequency'].value # ratio of actual angle over intended control angle\n",
    "    amplitude = fit.params['amplitude'].value # (P(1 given 1) - P(1 given 0)) / 2\n",
    "    baseline = fit.params['baseline'].value # amplitude + P(1 given 0)\n",
    "    offset = fit.params['offset'].value # effective imparted phase on the qubit from the CZ, relative to the true qubit frequency"
   ]
  },
  {
   "cell_type": "code",
   "execution_count": null,
   "metadata": {},
   "outputs": [],
   "source": []
  }
 ],
 "metadata": {
  "language_info": {
   "name": "python",
   "pygments_lexer": "ipython3"
  }
 },
 "nbformat": 4,
 "nbformat_minor": 2
}
