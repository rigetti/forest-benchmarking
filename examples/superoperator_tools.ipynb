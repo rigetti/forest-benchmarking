{
 "cells": [
  {
   "cell_type": "markdown",
   "metadata": {},
   "source": [
    "# Superoperator tools\n",
    "\n",
    "In this notebook we explore the submodules of `operator_tools` that enable easy manipulation of the various quantum channel representations.\n",
    "\n",
    "To summarize the functionality:\n",
    "- vectorization and conversions between different repesentations of quantum channels\n",
    "- apply quantum operations\n",
    "- compose quantum operations\n",
    "- validate that quantum channels are physical\n",
    "- project unphysical channels to physical channels"
   ]
  },
  {
   "cell_type": "markdown",
   "metadata": {},
   "source": [
    "## Breif motivation and introduction"
   ]
  },
  {
   "cell_type": "markdown",
   "metadata": {},
   "source": [
    "Perfect gates in **reversible classical computation** are described by permutation matricies, e.g. the [Toffoli gate](https://en.wikipedia.org/wiki/Toffoli_gate), while the input states are vectors. A noisy classical gate could be modeled as a perfect gate followed by a noise channel, e.g. [binary symmetric channel](https://en.wikipedia.org/wiki/Binary_symmetric_channel), on all the bits in the state vector.\n",
    "\n",
    "Perfect gates in **quantum computation** are described by unitary matricies and states are described by complex vectors, e.g.\n",
    "$$\n",
    "|\\psi\\rangle = U |\\psi_0\\rangle.\n",
    "$$\n",
    "\n",
    "Modeling **noisy quantum computation** often makes use of [mixed states](https://en.wikipedia.org/wiki/Density_matrix) and quantum operations or quantum noise channels.\n",
    "\n",
    "Interestingly there are a number of ways to represent quantum noise channels, and depending on your task some can be more convenient than others. The simplest case to illustrate this point is to consider a mixed initial state $\\rho$ undergoing unitary evolution\n",
    "\n",
    "$$ \\rho' = U \\rho U^\\dagger.$$\n",
    "\n",
    "The fact that the unitary has to act on both sides of the inital state means it is a [*superoperator*](https://en.wikipedia.org/wiki/Superoperator), that is an object that can act on operators like the state matrix. \n",
    "\n",
    "\n",
    "\n",
    "It turns out using a special matrix multiiplication identity we can write this as\n",
    "$$ |\\rho'\\rangle \\rangle = \\mathcal U |\\rho\\rangle\\rangle,\n",
    "$$\n",
    "where $\\mathcal U = U^*\\otimes U$ and $|\\rho\\rangle\\rangle =  {\\rm vec}(\\rho)$. The nice thing about this is it looks like the pure state case. This is because the operator (the state) has become a vector and the superoperator (the left right action of $U$) has become an operator. \n",
    "\n",
    "\n",
    "\n",
    "**More information**  \n",
    "Below we will assume that you are already an expert in these topics. If you are unfamilar with these topics we recomend the following references\n",
    "- chapter 8 of [Mike_N_Ike] which is on *Quantum noise and quantum operations*. \n",
    "- chapter 3 of John Preskill's lecture notes [Physics 219/Computer Science 219](http://www.theory.caltech.edu/people/preskill/ph219/chap3_15.pdf)\n",
    "- the file in `/docs/Superoperator representations.md` \n",
    "- for an intuitive but advanced treatment see [GRAPTN]\n",
    "\n",
    "\n",
    "\n",
    "[Mike_N_Ike] Quantum Computation and Quantum Information  \n",
    "             Michael A. Nielsen & Isaac L. Chuang  \n",
    "             Cambridge: Cambridge University Press (2000)   \n",
    "\n",
    "\n",
    "[GRAPTN] Tensor networks and graphical calculus for open quantum systems  \n",
    "         Christopher Wood et al.  \n",
    "         Quant. Inf. Comp. 15, 0579-0811 (2015)  \n",
    "         (no DOI)  \n",
    "         https://arxiv.org/abs/1111.6950  "
   ]
  },
  {
   "cell_type": "markdown",
   "metadata": {},
   "source": [
    "## Conversion between different descriptions of quantum channels\n",
    "\n",
    "We intentionally chose not to make quantum channels python objects with methods that would automatically transform between represtations. \n",
    "\n",
    "The functions to convert between different representations are called things like `kraus2chi`, `kraus2choi`, `pauli_liouville2choi` etc.\n",
    "\n",
    "This assumes the user does not do silly things like input a choi matrix to a function `chi2choi`."
   ]
  },
  {
   "cell_type": "code",
   "execution_count": null,
   "metadata": {},
   "outputs": [],
   "source": [
    "import numpy as np\n",
    "from pyquil.gate_matrices import I, X, Y, Z, H, CNOT"
   ]
  },
  {
   "cell_type": "markdown",
   "metadata": {},
   "source": [
    "Define some channels"
   ]
  },
  {
   "cell_type": "code",
   "execution_count": null,
   "metadata": {},
   "outputs": [],
   "source": [
    "def amplitude_damping_kraus(p):\n",
    "    Ad0 = np.asarray([[1, 0], [0, np.sqrt(1 - p)]])\n",
    "    Ad1 = np.asarray([[0, np.sqrt(p)], [0, 0]])\n",
    "    return [Ad0, Ad1]\n",
    "\n",
    "def bit_flip_kraus(p):\n",
    "    M0 = np.sqrt(1 - p) * I\n",
    "    M1 = np.sqrt(p) * X\n",
    "    return [M0, M1]"
   ]
  },
  {
   "cell_type": "markdown",
   "metadata": {},
   "source": [
    "Define some states"
   ]
  },
  {
   "cell_type": "code",
   "execution_count": null,
   "metadata": {},
   "outputs": [],
   "source": [
    "one_state = np.asarray([[0,0],[0,1]])\n",
    "zero_state = np.asarray([[1,0],[0,0]])\n",
    "rho_mixed = np.asarray([[0.9,0],[0,0.1]])"
   ]
  },
  {
   "cell_type": "markdown",
   "metadata": {},
   "source": [
    "### vec and unvec \n",
    "\n",
    "We can vectorize i.e. `vec` and unvec matricies.\n",
    "\n",
    "We chose a column stacking convention so that the matrix\n",
    "$$\n",
    "A = \\begin{pmatrix} 1 & 2\\\\ 3 & 4\\end{pmatrix}\n",
    "$$\n",
    "becomes\n",
    "$$\n",
    "|A\\rangle\\rangle = {\\rm vec}(A) = \\begin{pmatrix} 1\\\\ 3\\\\ 2\\\\ 4\\end{pmatrix}.\n",
    "$$\n",
    "\n",
    "Let's check that"
   ]
  },
  {
   "cell_type": "code",
   "execution_count": null,
   "metadata": {},
   "outputs": [],
   "source": [
    "from forest.benchmarking.operator_tools import vec, unvec"
   ]
  },
  {
   "cell_type": "code",
   "execution_count": null,
   "metadata": {},
   "outputs": [],
   "source": [
    "A = np.asarray([[1, 2], [3, 4]])"
   ]
  },
  {
   "cell_type": "code",
   "execution_count": null,
   "metadata": {},
   "outputs": [],
   "source": [
    "print(A)\n",
    "print(\" \")\n",
    "print(vec(A))\n",
    "print(\" \")\n",
    "print('Does the story check out? ', np.all(unvec(vec(A))==A))"
   ]
  },
  {
   "cell_type": "markdown",
   "metadata": {},
   "source": [
    "### Kraus to $\\chi$ matrix (aka chi or process matrix)"
   ]
  },
  {
   "cell_type": "code",
   "execution_count": null,
   "metadata": {},
   "outputs": [],
   "source": [
    "from forest.benchmarking.operator_tools import kraus2chi"
   ]
  },
  {
   "cell_type": "markdown",
   "metadata": {},
   "source": [
    "Lets do a unitary gate first, say the Hadamard"
   ]
  },
  {
   "cell_type": "code",
   "execution_count": null,
   "metadata": {},
   "outputs": [],
   "source": [
    "print('The Kraus operator is:\\n', np.round(H,3))\n",
    "print('\\n')\n",
    "print('The Chi matrix is:\\n', kraus2chi(H))"
   ]
  },
  {
   "cell_type": "markdown",
   "metadata": {},
   "source": [
    "Now consider the Amplitude damping channel"
   ]
  },
  {
   "cell_type": "code",
   "execution_count": null,
   "metadata": {},
   "outputs": [],
   "source": [
    "AD_kraus = amplitude_damping_kraus(0.1)\n",
    "\n",
    "print('The Kraus operators are:\\n', np.round(AD_kraus,3))\n",
    "print('\\n')\n",
    "print('The Chi matrix is:\\n', np.round(kraus2chi(AD_kraus),3))"
   ]
  },
  {
   "cell_type": "markdown",
   "metadata": {},
   "source": [
    "### Kraus to Pauli Liouville aka the \"Pauli Transfer Matrix\""
   ]
  },
  {
   "cell_type": "code",
   "execution_count": null,
   "metadata": {},
   "outputs": [],
   "source": [
    "from forest.benchmarking.operator_tools import kraus2pauli_liouville"
   ]
  },
  {
   "cell_type": "code",
   "execution_count": null,
   "metadata": {},
   "outputs": [],
   "source": [
    "Hpaulirep = kraus2pauli_liouville(H)\n",
    "Hpaulirep"
   ]
  },
  {
   "cell_type": "markdown",
   "metadata": {},
   "source": [
    "We can visualize this using the tools from the plotting module."
   ]
  },
  {
   "cell_type": "code",
   "execution_count": null,
   "metadata": {},
   "outputs": [],
   "source": [
    "from forest.benchmarking.plotting.state_process import plot_pauli_transfer_matrix\n",
    "import matplotlib.pyplot as plt"
   ]
  },
  {
   "cell_type": "code",
   "execution_count": null,
   "metadata": {},
   "outputs": [],
   "source": [
    "f, (ax1) = plt.subplots(1, 1, figsize=(5, 4.2))\n",
    "\n",
    "plot_pauli_transfer_matrix(Hpaulirep,ax=ax1)"
   ]
  },
  {
   "cell_type": "markdown",
   "metadata": {},
   "source": [
    "The above figure is a graphical representaiton of:\n",
    "    \n",
    "(out operator) = H (in operator) H\n",
    "\n",
    "Z = H X H  \n",
    "-Y = H Y H  \n",
    "X = H Z H  "
   ]
  },
  {
   "cell_type": "markdown",
   "metadata": {},
   "source": [
    "### Evolving states using quantum channels\n",
    "\n",
    "In many superoperator representations evolution coresponds to mutiplying the vec'ed state by the superoperator. E.g."
   ]
  },
  {
   "cell_type": "code",
   "execution_count": null,
   "metadata": {},
   "outputs": [],
   "source": [
    "from forest.benchmarking.superoperator_tools import kraus2superop\n",
    "\n",
    "zero_state_vec = vec(zero_state)\n",
    "\n",
    "answer_vec = np.matmul(kraus2superop([H]), zero_state_vec)\n",
    "\n",
    "print('The vec\\'ed answer is', answer_vec)\n",
    "print('\\n')\n",
    "print('The unvec\\'ed answer is\\n', np.real(unvec(answer_vec)))\n",
    "print('\\n')\n",
    "print('Let\\'s compare it to the normal calculation\\n', H @ zero_state @ H)"
   ]
  },
  {
   "cell_type": "markdown",
   "metadata": {},
   "source": [
    "For representations with this simple application there are no inbuilt functions in forest benchmarking. \n",
    "\n",
    "However applying a channel is more painful in the Choi and Kraus representation.\n",
    "\n",
    "Consider the amplitude damping channel where we need to perform the following calcualtion to find out put of channel \n",
    "$\\rho_{out} = A_0 \\rho A_0^\\dagger + A_1 \\rho A_1^\\dagger.$\n",
    "We provide helper functions to do these calculations."
   ]
  },
  {
   "cell_type": "code",
   "execution_count": null,
   "metadata": {},
   "outputs": [],
   "source": [
    "from forest.benchmarking.operator_tools import apply_kraus_ops_2_state, apply_choi_matrix_2_state, kraus2choi"
   ]
  },
  {
   "cell_type": "code",
   "execution_count": null,
   "metadata": {},
   "outputs": [],
   "source": [
    "apply_kraus_ops_2_state(AD_kraus, one_state)"
   ]
  },
  {
   "cell_type": "markdown",
   "metadata": {},
   "source": [
    "In the Choi representation we get the same answer:"
   ]
  },
  {
   "cell_type": "code",
   "execution_count": null,
   "metadata": {},
   "outputs": [],
   "source": [
    "AD_choi = kraus2choi(AD_kraus)\n",
    "\n",
    "apply_choi_matrix_2_state(AD_choi, one_state)"
   ]
  },
  {
   "cell_type": "markdown",
   "metadata": {},
   "source": [
    "### Compose quantum channels\n",
    "\n",
    "Composing channels is useful when describing larger circuits. In some representations e.g. in the superoperator  or Liouville representation it is just matrix multiplication e.g."
   ]
  },
  {
   "cell_type": "code",
   "execution_count": null,
   "metadata": {},
   "outputs": [],
   "source": [
    "from forest.benchmarking.operator_tools import superop2kraus, kraus2superop"
   ]
  },
  {
   "cell_type": "code",
   "execution_count": null,
   "metadata": {},
   "outputs": [],
   "source": [
    "H_super = kraus2superop(H)\n",
    "\n",
    "H_squared_super = H_super @ H_super\n",
    "\n",
    "print('Hadamard squared as a superoperator:\\n', np.round(H_squared_super,2))\n",
    "\n",
    "print('\\n As a Kraus operator:\\n', np.round(superop2kraus(H_squared_super),2))"
   ]
  },
  {
   "cell_type": "markdown",
   "metadata": {},
   "source": [
    "Composing channels in the Kraus represntaion is more difficult. Consider composing two channels $\\mathcal A$ (with Kraus operators $[A_0, A_1]$) and $\\mathcal B$ (with Kraus operators $[B_0, B_1]$). The composition is \n",
    "\n",
    "$$\\begin{align}\n",
    "\\mathcal B(\\mathcal A(\\rho)) & = \\sum_i \\sum_j B_j A_i \\rho A_i^\\dagger B_j^\\dagger \n",
    "\\end{align}\n",
    "$$"
   ]
  },
  {
   "cell_type": "code",
   "execution_count": null,
   "metadata": {},
   "outputs": [],
   "source": [
    "from forest.benchmarking.operator_tools import compose_channel_kraus, superop2kraus"
   ]
  },
  {
   "cell_type": "code",
   "execution_count": null,
   "metadata": {},
   "outputs": [],
   "source": [
    "BitFlip_kraus = bit_flip_kraus(0.2)\n",
    "\n",
    "kraus2superop(compose_channel_kraus(AD_kraus, BitFlip_kraus))"
   ]
  },
  {
   "cell_type": "markdown",
   "metadata": {},
   "source": [
    "This is the same as if we do"
   ]
  },
  {
   "cell_type": "code",
   "execution_count": null,
   "metadata": {},
   "outputs": [],
   "source": [
    "BitFlip_super = kraus2superop(BitFlip_kraus)\n",
    "AD_super = kraus2superop(AD_kraus)\n",
    "\n",
    "AD_super @ BitFlip_super"
   ]
  },
  {
   "cell_type": "markdown",
   "metadata": {},
   "source": [
    "We can also easily compose channels acting on independent spaces.\n",
    "\n",
    "Consider composing the same two channels as above, $\\mathcal A$ and $\\mathcal B$. However this time they act on different Hilbert spaces. With respect to the tensor product structure $H_2 \\otimes H_1$ the Kraus operators are $[A_0\\otimes I, A_1\\otimes I]$ and $[I \\otimes B_0, I \\otimes B_1]$.\n",
    "\n",
    "In this case the order of the operations commutes \n",
    "$$\\begin{align}\n",
    "\\mathcal A(\\mathcal B(\\rho))= \\mathcal B(\\mathcal A(\\rho)) & = \\sum_i \\sum_j  A_i\\otimes B_j \\rho A_i^\\dagger\\otimes B_j^\\dagger \n",
    "\\end{align}\n",
    "$$\n",
    "\n",
    "In forest benchmarking you can specify the two channels without the Identity tensored on and it will take care of it for you:"
   ]
  },
  {
   "cell_type": "code",
   "execution_count": null,
   "metadata": {},
   "outputs": [],
   "source": [
    "from forest.benchmarking.operator_tools import tensor_channel_kraus"
   ]
  },
  {
   "cell_type": "code",
   "execution_count": null,
   "metadata": {},
   "outputs": [],
   "source": [
    "np.round(tensor_channel_kraus(AD_kraus,BitFlip_kraus),3)"
   ]
  },
  {
   "cell_type": "markdown",
   "metadata": {},
   "source": [
    "### Validate quantum channels are physical\n",
    "\n",
    "When doing process tomography sometimes the estimates returned by various estimation methods can result in unphysical processes.\n",
    "\n",
    "The functions below can be used to check if the estimates are physical.\n"
   ]
  },
  {
   "cell_type": "markdown",
   "metadata": {},
   "source": [
    "As a starting point, we might want to check if a process specified by Kraus operators is valid. \n",
    "\n",
    "Unless a process is unitary you need more than one Kraus operator to be a valid quantum operation."
   ]
  },
  {
   "cell_type": "code",
   "execution_count": null,
   "metadata": {},
   "outputs": [],
   "source": [
    "from forest.benchmarking.operator_tools import kraus_operators_are_valid\n",
    "\n",
    "kraus_operators_are_valid(AD_kraus[0])"
   ]
  },
  {
   "cell_type": "markdown",
   "metadata": {},
   "source": [
    "However a full set is valid:"
   ]
  },
  {
   "cell_type": "code",
   "execution_count": null,
   "metadata": {},
   "outputs": [],
   "source": [
    "kraus_operators_are_valid(AD_kraus)"
   ]
  },
  {
   "cell_type": "markdown",
   "metadata": {},
   "source": [
    "We can also validate other properties of quantum channels such as completely positivity and trace preservation. This is done on the **Choi** representation, so you many need to convert your quantum operation to the Choi representaiton first.\n"
   ]
  },
  {
   "cell_type": "code",
   "execution_count": null,
   "metadata": {},
   "outputs": [],
   "source": [
    "from forest.benchmarking.operator_tools import (choi_is_unitary, \n",
    "                                                choi_is_unital, \n",
    "                                                choi_is_trace_preserving, \n",
    "                                                choi_is_completely_positive, \n",
    "                                                choi_is_cptp)"
   ]
  },
  {
   "cell_type": "code",
   "execution_count": null,
   "metadata": {},
   "outputs": [],
   "source": [
    "# amplitude damping is not unitary\n",
    "print(choi_is_unitary(AD_choi),'\\n')\n",
    "\n",
    "# amplitude damping is not unital\n",
    "print(choi_is_unital(AD_choi))"
   ]
  },
  {
   "cell_type": "code",
   "execution_count": null,
   "metadata": {},
   "outputs": [],
   "source": [
    "# amplitude damping is trace preserving (TP)\n",
    "print(choi_is_trace_preserving(AD_choi),'\\n')\n",
    "\n",
    "# amplitude damping is completely positive (CP)\n",
    "print(choi_is_completely_positive(AD_choi), '\\n')\n",
    "\n",
    "# amplitude damping is CPTP\n",
    "print(choi_is_cptp(AD_choi))"
   ]
  },
  {
   "cell_type": "markdown",
   "metadata": {},
   "source": [
    "### Project unphysical channels to physical channels\n",
    "\n",
    "When doing process tomography often the estimates returned by maximum likelihood estimation or linear inversion methods can result in unphysical processes.\n",
    "\n",
    "The functions below can be used to project the unphysical estimates back to physical estimates."
   ]
  },
  {
   "cell_type": "code",
   "execution_count": null,
   "metadata": {},
   "outputs": [],
   "source": [
    "from forest.benchmarking.operator_tools.project_superoperators import (proj_choi_to_completely_positive,\n",
    "                                                                       proj_choi_to_trace_non_increasing,\n",
    "                                                                       proj_choi_to_trace_preserving,\n",
    "                                                                       proj_choi_to_physical)"
   ]
  },
  {
   "cell_type": "code",
   "execution_count": null,
   "metadata": {},
   "outputs": [],
   "source": [
    "neg_Id_choi = -kraus2choi(I)"
   ]
  },
  {
   "cell_type": "code",
   "execution_count": null,
   "metadata": {},
   "outputs": [],
   "source": [
    "proj_choi_to_completely_positive(neg_Id_choi)"
   ]
  },
  {
   "cell_type": "code",
   "execution_count": null,
   "metadata": {},
   "outputs": [],
   "source": [
    "proj_choi_to_trace_non_increasing(neg_Id_choi)"
   ]
  },
  {
   "cell_type": "code",
   "execution_count": null,
   "metadata": {},
   "outputs": [],
   "source": [
    "proj_choi_to_trace_preserving(neg_Id_choi)"
   ]
  },
  {
   "cell_type": "code",
   "execution_count": null,
   "metadata": {},
   "outputs": [],
   "source": [
    "proj_choi_to_physical(neg_Id_choi)"
   ]
  },
  {
   "cell_type": "markdown",
   "metadata": {},
   "source": [
    "### Validate operators\n",
    "\n",
    "A lot of the work in validating the physicality of quantum channels comes down to validating properties of matricies:"
   ]
  },
  {
   "cell_type": "code",
   "execution_count": null,
   "metadata": {},
   "outputs": [],
   "source": [
    "from forest.benchmarking.operator_tools.validate_operator import (is_square_matrix, \n",
    "                                                                  is_identity_matrix, \n",
    "                                                                  is_idempotent_matrix, \n",
    "                                                                  is_unitary_matrix, \n",
    "                                                                  is_positive_semidefinite_matrix)"
   ]
  },
  {
   "cell_type": "code",
   "execution_count": null,
   "metadata": {},
   "outputs": [],
   "source": [
    "# a vector is not square\n",
    "is_square_matrix(np.array([[1], [0]]))"
   ]
  },
  {
   "cell_type": "code",
   "execution_count": null,
   "metadata": {},
   "outputs": [],
   "source": [
    "# NBVAL_RAISES_EXCEPTION\n",
    "# the line above is for testing purposes, do not remove.\n",
    "\n",
    "# a tensor is not a matrix\n",
    "\n",
    "tensor = np.ones(8).reshape(2,2,2)\n",
    "print(tensor)\n",
    "\n",
    "is_square_matrix(tensor)"
   ]
  },
  {
   "cell_type": "code",
   "execution_count": null,
   "metadata": {},
   "outputs": [],
   "source": [
    "is_identity_matrix(X)"
   ]
  },
  {
   "cell_type": "code",
   "execution_count": null,
   "metadata": {},
   "outputs": [],
   "source": [
    "projector_zero = np.array([[1, 0], [0, 0]])\n",
    "\n",
    "is_idempotent_matrix(projector_zero)"
   ]
  },
  {
   "cell_type": "code",
   "execution_count": null,
   "metadata": {},
   "outputs": [],
   "source": [
    "is_unitary_matrix(AD_kraus[0])"
   ]
  },
  {
   "cell_type": "code",
   "execution_count": null,
   "metadata": {},
   "outputs": [],
   "source": [
    "is_positive_semidefinite_matrix(I)"
   ]
  },
  {
   "cell_type": "code",
   "execution_count": null,
   "metadata": {},
   "outputs": [],
   "source": []
  }
 ],
 "metadata": {
  "language_info": {
   "name": "python",
   "pygments_lexer": "ipython3"
  }
 },
 "nbformat": 4,
 "nbformat_minor": 2
}
