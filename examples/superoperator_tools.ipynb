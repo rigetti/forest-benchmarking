{
 "cells": [
  {
   "cell_type": "markdown",
   "metadata": {},
   "source": [
    "# Superoperator tools\n",
    "\n",
    "In this notebook we explore the submodules of `operator_tools` that enable easy manipulation of the various quantum channel representations.\n",
    "\n",
    "To summarize the functionality:\n",
    "\n",
    "- vectorization and conversions between different representations of quantum channels\n",
    "- apply quantum operations\n",
    "- compose quantum operations\n",
    "- validate that quantum channels are physical\n",
    "- project unphysical channels to physical channels"
   ]
  },
  {
   "cell_type": "markdown",
   "metadata": {},
   "source": [
    "## Brief motivation and introduction"
   ]
  },
  {
   "cell_type": "markdown",
   "metadata": {},
   "source": [
    "Perfect gates in **reversible classical computation** are described by permutation matrices, e.g. the [Toffoli gate](https://en.wikipedia.org/wiki/Toffoli_gate), while the input states are vectors. A noisy classical gate could be modeled as a perfect gate followed by a noise channel, e.g. [binary symmetric channel](https://en.wikipedia.org/wiki/Binary_symmetric_channel), on all the bits in the state vector.\n",
    "\n",
    "Perfect gates in **quantum computation** are described by unitary matrices and states are described by complex vectors, e.g.\n",
    "\n",
    "$$|\\psi\\rangle = U |\\psi_0\\rangle$$\n",
    "\n",
    "Modeling **noisy quantum computation** often makes use of [mixed states](https://en.wikipedia.org/wiki/Density_matrix) and quantum operations or quantum noise channels.\n",
    "\n",
    "Interestingly there are a number of ways to represent quantum noise channels, and depending on your task some can be more convenient than others. The simplest case to illustrate this point is to consider a mixed initial state $\\rho$ undergoing unitary evolution\n",
    "\n",
    "$$\\rho' = U \\rho U^\\dagger$$\n",
    "\n",
    "The fact that the unitary has to act on both sides of the initial state means it is a [*superoperator*](https://en.wikipedia.org/wiki/Superoperator), that is an object that can act on operators like the state matrix. \n",
    "\n",
    "\n",
    "\n",
    "It turns out using a special matrix multiplication identity we can write this as\n",
    "\n",
    "$$|\\rho'\\rangle \\rangle = \\mathcal U |\\rho\\rangle\\rangle$$\n",
    "\n",
    "where $\\mathcal U = U^*\\otimes U$ and $|\\rho\\rangle\\rangle =  {\\rm vec}(\\rho)$. The nice thing about this is it looks like the pure state case. This is because the operator (the state) has become a vector and the superoperator (the left right action of $U$) has become an operator. \n",
    "\n",
    "\n",
    "**More information**  \n",
    "Below we will assume that you are already an expert in these topics. If you are unfamiliar with these topics we recommend the following references\n",
    "\n",
    "- chapter 8 of [Mike_N_Ike] which is on *Quantum noise and quantum operations*. \n",
    "- chapter 3 of John Preskill's lecture notes [Physics 219/Computer Science 219](http://www.theory.caltech.edu/people/preskill/ph219/chap3_15.pdf)\n",
    "- the [file](../docs/superoperator_representations.md) in `/docs/superoperator_representations.md` \n",
    "- for an intuitive but advanced treatment see [GRAPTN]\n",
    "\n",
    "\n",
    "\n",
    "| [Mike_N_Ike] *Quantum Computation and Quantum Information*.  \n",
    "|     Michael A. Nielsen & Isaac L. Chuang.  \n",
    "|     Cambridge: Cambridge University Press (2000).  \n",
    "\n",
    "\n",
    "| [GRAPTN] *Tensor networks and graphical calculus for open quantum systems*.  \n",
    "|     Christopher Wood et al.  \n",
    "|     Quant. Inf. Comp. 15, 0579-0811 (2015).  \n",
    "|     https://arxiv.org/abs/1111.6950  "
   ]
  },
  {
   "cell_type": "markdown",
   "metadata": {},
   "source": [
    "## Conversion between different descriptions of quantum channels\n",
    "\n",
    "We intentionally chose not to make quantum channels python objects with methods that would automatically transform between representations. \n",
    "\n",
    "The functions to convert between different representations are called things like `kraus2chi`, `kraus2choi`, `pauli_liouville2choi` etc.\n",
    "\n",
    "This assumes the user does not do silly things like input a Choi matrix to a function `chi2choi`."
   ]
  },
  {
   "cell_type": "code",
   "execution_count": 1,
   "metadata": {},
   "outputs": [],
   "source": [
    "import numpy as np\n",
    "from pyquil.gate_matrices import I, X, Y, Z, H, CNOT"
   ]
  },
  {
   "cell_type": "markdown",
   "metadata": {},
   "source": [
    "Define some channels"
   ]
  },
  {
   "cell_type": "code",
   "execution_count": 2,
   "metadata": {},
   "outputs": [],
   "source": [
    "def amplitude_damping_kraus(p):\n",
    "    Ad0 = np.asarray([[1, 0], [0, np.sqrt(1 - p)]])\n",
    "    Ad1 = np.asarray([[0, np.sqrt(p)], [0, 0]])\n",
    "    return [Ad0, Ad1]\n",
    "\n",
    "def bit_flip_kraus(p):\n",
    "    M0 = np.sqrt(1 - p) * I\n",
    "    M1 = np.sqrt(p) * X\n",
    "    return [M0, M1]"
   ]
  },
  {
   "cell_type": "markdown",
   "metadata": {},
   "source": [
    "Define some states"
   ]
  },
  {
   "cell_type": "code",
   "execution_count": 3,
   "metadata": {},
   "outputs": [],
   "source": [
    "one_state = np.asarray([[0,0],[0,1]])\n",
    "zero_state = np.asarray([[1,0],[0,0]])\n",
    "rho_mixed = np.asarray([[0.9,0],[0,0.1]])"
   ]
  },
  {
   "cell_type": "markdown",
   "metadata": {},
   "source": [
    "### vec and unvec \n",
    "\n",
    "We can vectorize i.e. `vec` and unvec matrices.\n",
    "\n",
    "We chose a column stacking convention so that the matrix\n",
    "\n",
    "$$A = \\begin{pmatrix} 1 & 2\\\\ 3 & 4\\end{pmatrix}$$\n",
    "\n",
    "becomes\n",
    "\n",
    "$$|A\\rangle\\rangle = {\\rm vec}(A) = \\begin{pmatrix} 1\\\\ 3\\\\ 2\\\\ 4\\end{pmatrix}$$\n",
    "\n",
    "Let's check that"
   ]
  },
  {
   "cell_type": "code",
   "execution_count": 4,
   "metadata": {},
   "outputs": [],
   "source": [
    "from forest.benchmarking.operator_tools import vec, unvec"
   ]
  },
  {
   "cell_type": "code",
   "execution_count": 5,
   "metadata": {},
   "outputs": [],
   "source": [
    "A = np.asarray([[1, 2], [3, 4]])"
   ]
  },
  {
   "cell_type": "code",
   "execution_count": 6,
   "metadata": {},
   "outputs": [
    {
     "name": "stdout",
     "output_type": "stream",
     "text": [
      "[[1 2]\n",
      " [3 4]]\n",
      " \n",
      "[[1]\n",
      " [3]\n",
      " [2]\n",
      " [4]]\n",
      " \n",
      "Does the story check out?  True\n"
     ]
    }
   ],
   "source": [
    "print(A)\n",
    "print(\" \")\n",
    "print(vec(A))\n",
    "print(\" \")\n",
    "print('Does the story check out? ', np.all(unvec(vec(A))==A))"
   ]
  },
  {
   "cell_type": "markdown",
   "metadata": {},
   "source": [
    "### Kraus to $\\chi$ matrix (aka chi or process matrix)"
   ]
  },
  {
   "cell_type": "code",
   "execution_count": 7,
   "metadata": {},
   "outputs": [],
   "source": [
    "from forest.benchmarking.operator_tools import kraus2chi"
   ]
  },
  {
   "cell_type": "markdown",
   "metadata": {},
   "source": [
    "Lets do a unitary gate first, say the Hadamard"
   ]
  },
  {
   "cell_type": "code",
   "execution_count": 8,
   "metadata": {},
   "outputs": [
    {
     "name": "stdout",
     "output_type": "stream",
     "text": [
      "The Kraus operator is:\n",
      " [[ 0.707  0.707]\n",
      " [ 0.707 -0.707]]\n",
      "\n",
      "\n",
      "The Chi matrix is:\n",
      " [[0. +0.j 0. +0.j 0. +0.j 0. +0.j]\n",
      " [0. +0.j 0.5+0.j 0. +0.j 0.5+0.j]\n",
      " [0. +0.j 0. +0.j 0. +0.j 0. +0.j]\n",
      " [0. +0.j 0.5+0.j 0. +0.j 0.5+0.j]]\n"
     ]
    }
   ],
   "source": [
    "print('The Kraus operator is:\\n', np.round(H,3))\n",
    "print('\\n')\n",
    "print('The Chi matrix is:\\n', kraus2chi(H))"
   ]
  },
  {
   "cell_type": "markdown",
   "metadata": {},
   "source": [
    "Now consider the Amplitude damping channel"
   ]
  },
  {
   "cell_type": "code",
   "execution_count": 9,
   "metadata": {},
   "outputs": [
    {
     "name": "stdout",
     "output_type": "stream",
     "text": [
      "The Kraus operators are:\n",
      " [[[1.    0.   ]\n",
      "  [0.    0.949]]\n",
      "\n",
      " [[0.    0.316]\n",
      "  [0.    0.   ]]]\n",
      "\n",
      "\n",
      "The Chi matrix is:\n",
      " [[0.949+0.j    0.   +0.j    0.   +0.j    0.025+0.j   ]\n",
      " [0.   +0.j    0.025+0.j    0.   -0.025j 0.   +0.j   ]\n",
      " [0.   +0.j    0.   +0.025j 0.025+0.j    0.   +0.j   ]\n",
      " [0.025+0.j    0.   +0.j    0.   +0.j    0.001+0.j   ]]\n"
     ]
    }
   ],
   "source": [
    "AD_kraus = amplitude_damping_kraus(0.1)\n",
    "\n",
    "print('The Kraus operators are:\\n', np.round(AD_kraus,3))\n",
    "print('\\n')\n",
    "print('The Chi matrix is:\\n', np.round(kraus2chi(AD_kraus),3))"
   ]
  },
  {
   "cell_type": "markdown",
   "metadata": {},
   "source": [
    "### Kraus to Pauli Liouville aka the \"Pauli Transfer Matrix\""
   ]
  },
  {
   "cell_type": "code",
   "execution_count": 10,
   "metadata": {},
   "outputs": [],
   "source": [
    "from forest.benchmarking.operator_tools import kraus2pauli_liouville"
   ]
  },
  {
   "cell_type": "code",
   "execution_count": 11,
   "metadata": {},
   "outputs": [
    {
     "data": {
      "text/plain": [
       "array([[ 1.+0.j,  0.+0.j,  0.+0.j,  0.+0.j],\n",
       "       [ 0.+0.j,  0.+0.j,  0.+0.j,  1.+0.j],\n",
       "       [ 0.+0.j,  0.+0.j, -1.+0.j,  0.+0.j],\n",
       "       [ 0.+0.j,  1.+0.j,  0.+0.j,  0.+0.j]])"
      ]
     },
     "execution_count": 11,
     "metadata": {},
     "output_type": "execute_result"
    }
   ],
   "source": [
    "Hpaulirep = kraus2pauli_liouville(H)\n",
    "Hpaulirep"
   ]
  },
  {
   "cell_type": "markdown",
   "metadata": {},
   "source": [
    "We can visualize this using the tools from the plotting module."
   ]
  },
  {
   "cell_type": "code",
   "execution_count": 12,
   "metadata": {},
   "outputs": [],
   "source": [
    "from forest.benchmarking.plotting.state_process import plot_pauli_transfer_matrix\n",
    "import matplotlib.pyplot as plt"
   ]
  },
  {
   "cell_type": "code",
   "execution_count": 13,
   "metadata": {},
   "outputs": [
    {
     "data": {
      "text/plain": [
       "<matplotlib.axes._subplots.AxesSubplot at 0x7f22d78fb0b8>"
      ]
     },
     "execution_count": 13,
     "metadata": {},
     "output_type": "execute_result"
    },
    {
     "data": {
      "image/png": "[encoded data removed]",
      "text/plain": [
       "<Figure size 360x302.4 with 2 Axes>"
      ]
     },
     "metadata": {},
     "output_type": "display_data"
    }
   ],
   "source": [
    "f, (ax1) = plt.subplots(1, 1, figsize=(5, 4.2))\n",
    "\n",
    "plot_pauli_transfer_matrix(Hpaulirep,ax=ax1)"
   ]
  },
  {
   "cell_type": "markdown",
   "metadata": {},
   "source": [
    "The above figure is a graphical representation of:\n",
    "    \n",
    "(out operator) = H (in operator) H\n",
    "\n",
    "Z = H X H  \n",
    "-Y = H Y H  \n",
    "X = H Z H  "
   ]
  },
  {
   "cell_type": "markdown",
   "metadata": {},
   "source": [
    "### Evolving states using quantum channels\n",
    "\n",
    "In many superoperator representations evolution corresponds to multiplying the vec'ed state by the superoperator. E.g."
   ]
  },
  {
   "cell_type": "code",
   "execution_count": 14,
   "metadata": {},
   "outputs": [
    {
     "name": "stdout",
     "output_type": "stream",
     "text": [
      "The vec'ed answer is [[0.5+0.j]\n",
      " [0.5+0.j]\n",
      " [0.5+0.j]\n",
      " [0.5+0.j]]\n",
      "\n",
      "\n",
      "The unvec'ed answer is\n",
      " [[0.5 0.5]\n",
      " [0.5 0.5]]\n",
      "\n",
      "\n",
      "Let's compare it to the normal calculation\n",
      " [[0.5 0.5]\n",
      " [0.5 0.5]]\n"
     ]
    }
   ],
   "source": [
    "from forest.benchmarking.operator_tools import kraus2superop\n",
    "\n",
    "zero_state_vec = vec(zero_state)\n",
    "\n",
    "answer_vec = np.matmul(kraus2superop([H]), zero_state_vec)\n",
    "\n",
    "print('The vec\\'ed answer is', answer_vec)\n",
    "print('\\n')\n",
    "print('The unvec\\'ed answer is\\n', np.real(unvec(answer_vec)))\n",
    "print('\\n')\n",
    "print('Let\\'s compare it to the normal calculation\\n', H @ zero_state @ H)"
   ]
  },
  {
   "cell_type": "markdown",
   "metadata": {},
   "source": [
    "For representations with this simple application there are no inbuilt functions in forest benchmarking. \n",
    "\n",
    "However applying a channel is more painful in the Choi and Kraus representation.\n",
    "\n",
    "Consider the amplitude damping channel where we need to perform the following calculation to find out put of channel \n",
    "$\\rho_{out} = A_0 \\rho A_0^\\dagger + A_1 \\rho A_1^\\dagger$.\n",
    "We provide helper functions to do these calculations."
   ]
  },
  {
   "cell_type": "code",
   "execution_count": 15,
   "metadata": {},
   "outputs": [],
   "source": [
    "from forest.benchmarking.operator_tools import apply_kraus_ops_2_state, apply_choi_matrix_2_state, kraus2choi"
   ]
  },
  {
   "cell_type": "code",
   "execution_count": 16,
   "metadata": {},
   "outputs": [
    {
     "data": {
      "text/plain": [
       "array([[0.1, 0. ],\n",
       "       [0. , 0.9]])"
      ]
     },
     "execution_count": 16,
     "metadata": {},
     "output_type": "execute_result"
    }
   ],
   "source": [
    "apply_kraus_ops_2_state(AD_kraus, one_state)"
   ]
  },
  {
   "cell_type": "markdown",
   "metadata": {},
   "source": [
    "In the Choi representation we get the same answer:"
   ]
  },
  {
   "cell_type": "code",
   "execution_count": 17,
   "metadata": {},
   "outputs": [
    {
     "data": {
      "text/plain": [
       "array([[0.1, 0. ],\n",
       "       [0. , 0.9]])"
      ]
     },
     "execution_count": 17,
     "metadata": {},
     "output_type": "execute_result"
    }
   ],
   "source": [
    "AD_choi = kraus2choi(AD_kraus)\n",
    "\n",
    "apply_choi_matrix_2_state(AD_choi, one_state)"
   ]
  },
  {
   "cell_type": "markdown",
   "metadata": {},
   "source": [
    "### Compose quantum channels\n",
    "\n",
    "Composing channels is useful when describing larger circuits. In some representations e.g. in the superoperator  or Liouville representation it is just matrix multiplication e.g."
   ]
  },
  {
   "cell_type": "code",
   "execution_count": 18,
   "metadata": {},
   "outputs": [],
   "source": [
    "from forest.benchmarking.operator_tools import superop2kraus, kraus2superop"
   ]
  },
  {
   "cell_type": "code",
   "execution_count": 19,
   "metadata": {},
   "outputs": [
    {
     "name": "stdout",
     "output_type": "stream",
     "text": [
      "Hadamard squared as a superoperator:\n",
      " [[ 1.+0.j -0.+0.j -0.+0.j  0.+0.j]\n",
      " [-0.+0.j  1.+0.j  0.+0.j -0.+0.j]\n",
      " [-0.+0.j  0.+0.j  1.+0.j -0.+0.j]\n",
      " [ 0.+0.j -0.+0.j -0.+0.j  1.+0.j]]\n",
      "\n",
      " As a Kraus operator:\n",
      " [[[ 1.+0.j -0.+0.j]\n",
      "  [ 0.+0.j  1.+0.j]]]\n"
     ]
    }
   ],
   "source": [
    "H_super = kraus2superop(H)\n",
    "\n",
    "H_squared_super = H_super @ H_super\n",
    "\n",
    "print('Hadamard squared as a superoperator:\\n', np.round(H_squared_super,2))\n",
    "\n",
    "print('\\n As a Kraus operator:\\n', np.round(superop2kraus(H_squared_super),2))"
   ]
  },
  {
   "cell_type": "markdown",
   "metadata": {},
   "source": [
    "Composing channels in the Kraus representation is more difficult. Consider composing two channels $\\mathcal A$ (with Kraus operators $[A_0, A_1]$) and $\\mathcal B$ (with Kraus operators $[B_0, B_1]$). The composition is \n",
    "\n",
    "$$\\begin{align}\n",
    "\\mathcal B(\\mathcal A(\\rho)) & = \\sum_i \\sum_j B_j A_i \\rho A_i^\\dagger B_j^\\dagger \n",
    "\\end{align}$$"
   ]
  },
  {
   "cell_type": "code",
   "execution_count": 20,
   "metadata": {},
   "outputs": [],
   "source": [
    "from forest.benchmarking.operator_tools import compose_channel_kraus, superop2kraus"
   ]
  },
  {
   "cell_type": "code",
   "execution_count": 21,
   "metadata": {},
   "outputs": [
    {
     "data": {
      "text/plain": [
       "array([[0.82      +0.j, 0.        +0.j, 0.        +0.j, 0.28      +0.j],\n",
       "       [0.        +0.j, 0.75894664+0.j, 0.18973666+0.j, 0.        +0.j],\n",
       "       [0.        +0.j, 0.18973666+0.j, 0.75894664+0.j, 0.        +0.j],\n",
       "       [0.18      +0.j, 0.        +0.j, 0.        +0.j, 0.72      +0.j]])"
      ]
     },
     "execution_count": 21,
     "metadata": {},
     "output_type": "execute_result"
    }
   ],
   "source": [
    "BitFlip_kraus = bit_flip_kraus(0.2)\n",
    "\n",
    "kraus2superop(compose_channel_kraus(AD_kraus, BitFlip_kraus))"
   ]
  },
  {
   "cell_type": "markdown",
   "metadata": {},
   "source": [
    "This is the same as if we do"
   ]
  },
  {
   "cell_type": "code",
   "execution_count": 22,
   "metadata": {},
   "outputs": [
    {
     "data": {
      "text/plain": [
       "array([[0.82      +0.j, 0.        +0.j, 0.        +0.j, 0.28      +0.j],\n",
       "       [0.        +0.j, 0.75894664+0.j, 0.18973666+0.j, 0.        +0.j],\n",
       "       [0.        +0.j, 0.18973666+0.j, 0.75894664+0.j, 0.        +0.j],\n",
       "       [0.18      +0.j, 0.        +0.j, 0.        +0.j, 0.72      +0.j]])"
      ]
     },
     "execution_count": 22,
     "metadata": {},
     "output_type": "execute_result"
    }
   ],
   "source": [
    "BitFlip_super = kraus2superop(BitFlip_kraus)\n",
    "AD_super = kraus2superop(AD_kraus)\n",
    "\n",
    "AD_super @ BitFlip_super"
   ]
  },
  {
   "cell_type": "markdown",
   "metadata": {},
   "source": [
    "We can also easily compose channels acting on independent spaces.\n",
    "\n",
    "Consider composing the same two channels as above, $\\mathcal A$ and $\\mathcal B$. However this time they act on different Hilbert spaces. With respect to the tensor product structure $H_2 \\otimes H_1$ the Kraus operators are $[A_0\\otimes I, A_1\\otimes I]$ and $[I \\otimes B_0, I \\otimes B_1]$.\n",
    "\n",
    "In this case the order of the operations commutes \n",
    "\n",
    "$$\\begin{align}\n",
    "\\mathcal A(\\mathcal B(\\rho))= \\mathcal B(\\mathcal A(\\rho)) & = \\sum_i \\sum_j  A_i\\otimes B_j \\rho A_i^\\dagger\\otimes B_j^\\dagger \n",
    "\\end{align}$$\n",
    "\n",
    "In forest benchmarking you can specify the two channels without the Identity tensored on and it will take care of it for you:"
   ]
  },
  {
   "cell_type": "code",
   "execution_count": 23,
   "metadata": {},
   "outputs": [],
   "source": [
    "from forest.benchmarking.operator_tools import tensor_channel_kraus"
   ]
  },
  {
   "cell_type": "code",
   "execution_count": 24,
   "metadata": {},
   "outputs": [
    {
     "data": {
      "text/plain": [
       "array([[[0.894, 0.   , 0.   , 0.   ],\n",
       "        [0.   , 0.894, 0.   , 0.   ],\n",
       "        [0.   , 0.   , 0.849, 0.   ],\n",
       "        [0.   , 0.   , 0.   , 0.849]],\n",
       "\n",
       "       [[0.   , 0.   , 0.283, 0.   ],\n",
       "        [0.   , 0.   , 0.   , 0.283],\n",
       "        [0.   , 0.   , 0.   , 0.   ],\n",
       "        [0.   , 0.   , 0.   , 0.   ]],\n",
       "\n",
       "       [[0.   , 0.447, 0.   , 0.   ],\n",
       "        [0.447, 0.   , 0.   , 0.   ],\n",
       "        [0.   , 0.   , 0.   , 0.424],\n",
       "        [0.   , 0.   , 0.424, 0.   ]],\n",
       "\n",
       "       [[0.   , 0.   , 0.   , 0.141],\n",
       "        [0.   , 0.   , 0.141, 0.   ],\n",
       "        [0.   , 0.   , 0.   , 0.   ],\n",
       "        [0.   , 0.   , 0.   , 0.   ]]])"
      ]
     },
     "execution_count": 24,
     "metadata": {},
     "output_type": "execute_result"
    }
   ],
   "source": [
    "np.round(tensor_channel_kraus(AD_kraus,BitFlip_kraus),3)"
   ]
  },
  {
   "cell_type": "markdown",
   "metadata": {},
   "source": [
    "### Validate quantum channels are physical\n",
    "\n",
    "When doing process tomography sometimes the estimates returned by various estimation methods can result in unphysical processes.\n",
    "\n",
    "The functions below can be used to check if the estimates are physical.\n"
   ]
  },
  {
   "cell_type": "markdown",
   "metadata": {},
   "source": [
    "As a starting point, we might want to check if a process specified by Kraus operators is valid. \n",
    "\n",
    "Unless a process is unitary you need more than one Kraus operator to be a valid quantum operation."
   ]
  },
  {
   "cell_type": "code",
   "execution_count": 25,
   "metadata": {},
   "outputs": [
    {
     "data": {
      "text/plain": [
       "False"
      ]
     },
     "execution_count": 25,
     "metadata": {},
     "output_type": "execute_result"
    }
   ],
   "source": [
    "from forest.benchmarking.operator_tools import kraus_operators_are_valid\n",
    "\n",
    "kraus_operators_are_valid(AD_kraus[0])"
   ]
  },
  {
   "cell_type": "markdown",
   "metadata": {},
   "source": [
    "However a full set is valid:"
   ]
  },
  {
   "cell_type": "code",
   "execution_count": 26,
   "metadata": {},
   "outputs": [
    {
     "data": {
      "text/plain": [
       "True"
      ]
     },
     "execution_count": 26,
     "metadata": {},
     "output_type": "execute_result"
    }
   ],
   "source": [
    "kraus_operators_are_valid(AD_kraus)"
   ]
  },
  {
   "cell_type": "markdown",
   "metadata": {},
   "source": [
    "We can also validate other properties of quantum channels such as completely positivity and trace preservation. This is done on the **Choi** representation, so you many need to convert your quantum operation to the Choi representation first.\n"
   ]
  },
  {
   "cell_type": "code",
   "execution_count": 27,
   "metadata": {},
   "outputs": [],
   "source": [
    "from forest.benchmarking.operator_tools import (choi_is_unitary, \n",
    "                                                choi_is_unital, \n",
    "                                                choi_is_trace_preserving, \n",
    "                                                choi_is_completely_positive, \n",
    "                                                choi_is_cptp)"
   ]
  },
  {
   "cell_type": "code",
   "execution_count": 28,
   "metadata": {},
   "outputs": [
    {
     "name": "stdout",
     "output_type": "stream",
     "text": [
      "False \n",
      "\n",
      "False\n"
     ]
    }
   ],
   "source": [
    "# amplitude damping is not unitary\n",
    "print(choi_is_unitary(AD_choi),'\\n')\n",
    "\n",
    "# amplitude damping is not unital\n",
    "print(choi_is_unital(AD_choi))"
   ]
  },
  {
   "cell_type": "code",
   "execution_count": 29,
   "metadata": {},
   "outputs": [
    {
     "name": "stdout",
     "output_type": "stream",
     "text": [
      "True \n",
      "\n",
      "True \n",
      "\n",
      "True\n"
     ]
    }
   ],
   "source": [
    "# amplitude damping is trace preserving (TP)\n",
    "print(choi_is_trace_preserving(AD_choi),'\\n')\n",
    "\n",
    "# amplitude damping is completely positive (CP)\n",
    "print(choi_is_completely_positive(AD_choi), '\\n')\n",
    "\n",
    "# amplitude damping is CPTP\n",
    "print(choi_is_cptp(AD_choi))"
   ]
  },
  {
   "cell_type": "markdown",
   "metadata": {},
   "source": [
    "### Project an unphysical state to the closest physical state"
   ]
  },
  {
   "cell_type": "code",
   "execution_count": 30,
   "metadata": {},
   "outputs": [],
   "source": [
    "from forest.benchmarking.operator_tools.project_state_matrix import project_state_matrix_to_physical"
   ]
  },
  {
   "cell_type": "code",
   "execution_count": 31,
   "metadata": {},
   "outputs": [
    {
     "data": {
      "text/plain": [
       "True"
      ]
     },
     "execution_count": 31,
     "metadata": {},
     "output_type": "execute_result"
    }
   ],
   "source": [
    "# Test the method. Example from fig 1 of maximum likelihood minimum effort \n",
    "# https://doi.org/10.1103/PhysRevLett.108.070502\n",
    "\n",
    "eigs = np.diag(np.array(list(reversed([3.0/5, 1.0/2, 7.0/20, 1.0/10, -11.0/20]))))\n",
    "phys = project_state_matrix_to_physical(eigs)\n",
    "np.allclose(phys, np.diag([0, 0, 1.0/5, 7.0/20, 9.0/20]))"
   ]
  },
  {
   "cell_type": "code",
   "execution_count": 32,
   "metadata": {},
   "outputs": [
    {
     "data": {
      "image/png": "[encoded data removed]",
      "text/plain": [
       "<Figure size 432x288 with 2 Axes>"
      ]
     },
     "metadata": {},
     "output_type": "display_data"
    }
   ],
   "source": [
    "from forest.benchmarking.plotting import hinton\n",
    "\n",
    "rho_unphys = np.random.uniform(-1, 1, (2, 2)) \\\n",
    "    * np.exp(1.j * np.random.uniform(-np.pi, np.pi, (2, 2)))\n",
    "rho_phys = project_state_matrix_to_physical(rho_unphys)\n",
    "\n",
    "fig, (ax1, ax2) = plt.subplots(1, 2)\n",
    "hinton(rho_unphys, ax=ax1)\n",
    "hinton(rho_phys, ax=ax2)\n",
    "ax1.set_title('Unphysical')\n",
    "ax2.set_title('Physical projection')\n",
    "fig.tight_layout()"
   ]
  },
  {
   "cell_type": "markdown",
   "metadata": {},
   "source": [
    "### Project unphysical channels to physical channels\n",
    "\n",
    "When doing process tomography often the estimates returned by maximum likelihood estimation or linear inversion methods can result in unphysical processes.\n",
    "\n",
    "The functions below can be used to project the unphysical estimates back to physical estimates."
   ]
  },
  {
   "cell_type": "code",
   "execution_count": 33,
   "metadata": {},
   "outputs": [],
   "source": [
    "from forest.benchmarking.operator_tools.project_superoperators import (proj_choi_to_completely_positive,\n",
    "                                                                       proj_choi_to_trace_non_increasing,\n",
    "                                                                       proj_choi_to_trace_preserving,\n",
    "                                                                       proj_choi_to_physical,\n",
    "                                                                       proj_choi_to_unitary)"
   ]
  },
  {
   "cell_type": "code",
   "execution_count": 34,
   "metadata": {},
   "outputs": [],
   "source": [
    "neg_Id_choi = -kraus2choi(I)"
   ]
  },
  {
   "cell_type": "code",
   "execution_count": 35,
   "metadata": {},
   "outputs": [
    {
     "data": {
      "text/plain": [
       "array([[0., 0., 0., 0.],\n",
       "       [0., 0., 0., 0.],\n",
       "       [0., 0., 0., 0.],\n",
       "       [0., 0., 0., 0.]])"
      ]
     },
     "execution_count": 35,
     "metadata": {},
     "output_type": "execute_result"
    }
   ],
   "source": [
    "proj_choi_to_completely_positive(neg_Id_choi)"
   ]
  },
  {
   "cell_type": "code",
   "execution_count": 36,
   "metadata": {},
   "outputs": [
    {
     "data": {
      "text/plain": [
       "array([[-1., -0., -0., -1.],\n",
       "       [-0., -0., -0., -0.],\n",
       "       [-0., -0., -0., -0.],\n",
       "       [-1., -0., -0., -1.]])"
      ]
     },
     "execution_count": 36,
     "metadata": {},
     "output_type": "execute_result"
    }
   ],
   "source": [
    "proj_choi_to_trace_non_increasing(neg_Id_choi)"
   ]
  },
  {
   "cell_type": "code",
   "execution_count": 37,
   "metadata": {},
   "outputs": [
    {
     "data": {
      "text/plain": [
       "array([[ 0.,  0., -0., -1.],\n",
       "       [ 0.,  1., -0., -0.],\n",
       "       [-0., -0.,  1.,  0.],\n",
       "       [-1., -0.,  0.,  0.]])"
      ]
     },
     "execution_count": 37,
     "metadata": {},
     "output_type": "execute_result"
    }
   ],
   "source": [
    "proj_choi_to_trace_preserving(neg_Id_choi)"
   ]
  },
  {
   "cell_type": "code",
   "execution_count": 38,
   "metadata": {},
   "outputs": [
    {
     "data": {
      "text/plain": [
       "array([[ 0.33398438,  0.        ,  0.        , -0.33203125],\n",
       "       [ 0.        ,  0.66601562,  0.        ,  0.        ],\n",
       "       [ 0.        ,  0.        ,  0.66601562,  0.        ],\n",
       "       [-0.33203125,  0.        ,  0.        ,  0.33398438]])"
      ]
     },
     "execution_count": 38,
     "metadata": {},
     "output_type": "execute_result"
    }
   ],
   "source": [
    "proj_choi_to_physical(neg_Id_choi)"
   ]
  },
  {
   "cell_type": "code",
   "execution_count": 39,
   "metadata": {},
   "outputs": [
    {
     "data": {
      "text/plain": [
       "array([[1.+0.j, 0.+0.j, 0.+0.j, 1.+0.j],\n",
       "       [0.+0.j, 0.+0.j, 0.+0.j, 0.+0.j],\n",
       "       [0.+0.j, 0.+0.j, 0.+0.j, 0.+0.j],\n",
       "       [1.+0.j, 0.+0.j, 0.+0.j, 1.+0.j]])"
      ]
     },
     "execution_count": 39,
     "metadata": {},
     "output_type": "execute_result"
    }
   ],
   "source": [
    "# closer to identity\n",
    "proj_choi_to_unitary(kraus2choi(bit_flip_kraus(0.1)))"
   ]
  },
  {
   "cell_type": "code",
   "execution_count": 40,
   "metadata": {},
   "outputs": [
    {
     "data": {
      "text/plain": [
       "array([[0.+0.j, 0.+0.j, 0.+0.j, 0.+0.j],\n",
       "       [0.+0.j, 1.+0.j, 1.+0.j, 0.+0.j],\n",
       "       [0.+0.j, 1.+0.j, 1.+0.j, 0.+0.j],\n",
       "       [0.+0.j, 0.+0.j, 0.+0.j, 0.+0.j]])"
      ]
     },
     "execution_count": 40,
     "metadata": {},
     "output_type": "execute_result"
    }
   ],
   "source": [
    "# closer to X gate\n",
    "proj_choi_to_unitary(kraus2choi(bit_flip_kraus(0.9)))"
   ]
  },
  {
   "cell_type": "markdown",
   "metadata": {},
   "source": [
    "### Validate operators\n",
    "\n",
    "A lot of the work in validating the physicality of quantum channels comes down to validating properties of matrices:"
   ]
  },
  {
   "cell_type": "code",
   "execution_count": 41,
   "metadata": {},
   "outputs": [],
   "source": [
    "from forest.benchmarking.operator_tools.validate_operator import (is_square_matrix, \n",
    "                                                                  is_identity_matrix, \n",
    "                                                                  is_idempotent_matrix, \n",
    "                                                                  is_unitary_matrix, \n",
    "                                                                  is_positive_semidefinite_matrix)"
   ]
  },
  {
   "cell_type": "code",
   "execution_count": 42,
   "metadata": {},
   "outputs": [
    {
     "data": {
      "text/plain": [
       "False"
      ]
     },
     "execution_count": 42,
     "metadata": {},
     "output_type": "execute_result"
    }
   ],
   "source": [
    "# a vector is not square\n",
    "is_square_matrix(np.array([[1], [0]]))"
   ]
  },
  {
   "cell_type": "code",
   "execution_count": 43,
   "metadata": {},
   "outputs": [
    {
     "name": "stdout",
     "output_type": "stream",
     "text": [
      "[[[1. 1.]\n",
      "  [1. 1.]]\n",
      "\n",
      " [[1. 1.]\n",
      "  [1. 1.]]]\n"
     ]
    },
    {
     "ename": "ValueError",
     "evalue": "The object is not a matrix.",
     "output_type": "error",
     "traceback": [
      "\u001b[0;31m--------------------------------------------------------------------------\u001b[0m",
      "\u001b[0;31mValueError\u001b[0m                               Traceback (most recent call last)",
      "\u001b[0;32m<ipython-input-43-2f65cbcac478>\u001b[0m in \u001b[0;36m<module>\u001b[0;34m()\u001b[0m\n\u001b[1;32m      7\u001b[0m \u001b[0mprint\u001b[0m\u001b[0;34m(\u001b[0m\u001b[0mtensor\u001b[0m\u001b[0;34m)\u001b[0m\u001b[0;34m\u001b[0m\u001b[0m\n\u001b[1;32m      8\u001b[0m \u001b[0;34m\u001b[0m\u001b[0m\n\u001b[0;32m----> 9\u001b[0;31m \u001b[0mis_square_matrix\u001b[0m\u001b[0;34m(\u001b[0m\u001b[0mtensor\u001b[0m\u001b[0;34m)\u001b[0m\u001b[0;34m\u001b[0m\u001b[0m\n\u001b[0m",
      "\u001b[0;32m~/forest-benchmarking/forest/benchmarking/operator_tools/validate_operator.py\u001b[0m in \u001b[0;36mis_square_matrix\u001b[0;34m(matrix)\u001b[0m\n\u001b[1;32m     14\u001b[0m     \"\"\"\n\u001b[1;32m     15\u001b[0m     \u001b[0;32mif\u001b[0m \u001b[0mlen\u001b[0m\u001b[0;34m(\u001b[0m\u001b[0mmatrix\u001b[0m\u001b[0;34m.\u001b[0m\u001b[0mshape\u001b[0m\u001b[0;34m)\u001b[0m \u001b[0;34m!=\u001b[0m \u001b[0;36m2\u001b[0m\u001b[0;34m:\u001b[0m\u001b[0;34m\u001b[0m\u001b[0m\n\u001b[0;32m---> 16\u001b[0;31m         \u001b[0;32mraise\u001b[0m \u001b[0mValueError\u001b[0m\u001b[0;34m(\u001b[0m\u001b[0;34m\"The object is not a matrix.\"\u001b[0m\u001b[0;34m)\u001b[0m\u001b[0;34m\u001b[0m\u001b[0m\n\u001b[0m\u001b[1;32m     17\u001b[0m     \u001b[0mrows\u001b[0m\u001b[0;34m,\u001b[0m \u001b[0mcols\u001b[0m \u001b[0;34m=\u001b[0m \u001b[0mmatrix\u001b[0m\u001b[0;34m.\u001b[0m\u001b[0mshape\u001b[0m\u001b[0;34m\u001b[0m\u001b[0m\n\u001b[1;32m     18\u001b[0m     \u001b[0;32mreturn\u001b[0m \u001b[0mrows\u001b[0m \u001b[0;34m==\u001b[0m \u001b[0mcols\u001b[0m\u001b[0;34m\u001b[0m\u001b[0m\n",
      "\u001b[0;31mValueError\u001b[0m: The object is not a matrix."
     ]
    }
   ],
   "source": [
    "# NBVAL_RAISES_EXCEPTION\n",
    "# the line above is for testing purposes, do not remove.\n",
    "\n",
    "# a tensor is not a matrix\n",
    "\n",
    "tensor = np.ones(8).reshape(2,2,2)\n",
    "print(tensor)\n",
    "\n",
    "is_square_matrix(tensor)"
   ]
  },
  {
   "cell_type": "code",
   "execution_count": 44,
   "metadata": {},
   "outputs": [
    {
     "data": {
      "text/plain": [
       "False"
      ]
     },
     "execution_count": 44,
     "metadata": {},
     "output_type": "execute_result"
    }
   ],
   "source": [
    "is_identity_matrix(X)"
   ]
  },
  {
   "cell_type": "code",
   "execution_count": 45,
   "metadata": {},
   "outputs": [
    {
     "data": {
      "text/plain": [
       "True"
      ]
     },
     "execution_count": 45,
     "metadata": {},
     "output_type": "execute_result"
    }
   ],
   "source": [
    "projector_zero = np.array([[1, 0], [0, 0]])\n",
    "\n",
    "is_idempotent_matrix(projector_zero)"
   ]
  },
  {
   "cell_type": "code",
   "execution_count": 46,
   "metadata": {},
   "outputs": [
    {
     "data": {
      "text/plain": [
       "False"
      ]
     },
     "execution_count": 46,
     "metadata": {},
     "output_type": "execute_result"
    }
   ],
   "source": [
    "is_unitary_matrix(AD_kraus[0])"
   ]
  },
  {
   "cell_type": "code",
   "execution_count": 47,
   "metadata": {},
   "outputs": [
    {
     "data": {
      "text/plain": [
       "True"
      ]
     },
     "execution_count": 47,
     "metadata": {},
     "output_type": "execute_result"
    }
   ],
   "source": [
    "is_positive_semidefinite_matrix(I)"
   ]
  },
  {
   "cell_type": "code",
   "execution_count": null,
   "metadata": {},
   "outputs": [],
   "source": []
  }
 ],
 "metadata": {
  "kernelspec": {
   "display_name": "Python 3",
   "language": "python",
   "name": "python3"
  },
  "language_info": {
   "codemirror_mode": {
    "name": "ipython",
    "version": 3
   },
   "file_extension": ".py",
   "mimetype": "text/x-python",
   "name": "python",
   "nbconvert_exporter": "python",
   "pygments_lexer": "ipython3",
   "version": "3.6.5"
  }
 },
 "nbformat": 4,
 "nbformat_minor": 2
}
