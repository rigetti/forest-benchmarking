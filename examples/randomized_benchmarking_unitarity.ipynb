{
 "cells": [
  {
   "cell_type": "markdown",
   "metadata": {},
   "source": [
    "# Randomized Benchmarking: Unitarity RB"
   ]
  },
  {
   "cell_type": "code",
   "execution_count": null,
   "metadata": {},
   "outputs": [],
   "source": [
    "# See rb_functions in examples folder for related usage\n",
    "# Needs in terminal:\n",
    "# $ quilc -S\n",
    "# $ qvm -S\n",
    "\n",
    "from forest.benchmarking.analysis.fitting import make_figure\n",
    "from forest.benchmarking.randomized_benchmarking import (rb_dataframe, add_unitarity_sequences_to_dataframe,\n",
    "    strip_inverse_from_sequences, run_unitarity_measurement, add_shifted_purities, \n",
    "    shifted_purities_by_qubits, fit_unitarity)\n",
    "\n",
    "from pyquil.api import get_benchmarker\n",
    "import numpy as np\n",
    "from typing import List, Tuple, Callable\n",
    "from pandas import DataFrame, Series\n",
    "from pyquil import Program, get_qc\n",
    "from pyquil import noise"
   ]
  },
  {
   "cell_type": "markdown",
   "metadata": {},
   "source": [
    "# Add functionality to inject understandable error into RB sequence"
   ]
  },
  {
   "cell_type": "code",
   "execution_count": null,
   "metadata": {},
   "outputs": [],
   "source": [
    "# similar methods found in tests/test_rb.py\n",
    "def insert_noise(programs: List[Program], qubits: Tuple, noise: Callable, *noise_args):\n",
    "    \"\"\"\n",
    "    Append noise channel to the end of each program in programs. This noise channel is implemented as a single noisy gate\n",
    "    acting on the provided qubits.\n",
    "    \n",
    "    :param list|program programs: A list of programs (i.e. a Clifford gate) onto each of which will be appended noise.\n",
    "    :param Tuple qubits: A tuple of the qubits on which each noisy gate should act.\n",
    "    :param noise: A function which generates the kraus operators of the desired noise.\n",
    "    :param noise_args: Additional parameters passed on to the noise function.\n",
    "    \"\"\"\n",
    "    for program in programs:\n",
    "        program.defgate(\"noise\", np.eye(2**len(qubits)))\n",
    "        program.define_noisy_gate(\"noise\", qubits, noise(*noise_args))\n",
    "        program.inst((\"noise\", *qubits))\n",
    "        \n",
    "def add_noise_to_sequences(df: DataFrame, qubits: Tuple, noise: Callable, *noise_args):\n",
    "    \"\"\"\n",
    "    Append the given noise to each clifford gate (sequence) \n",
    "    :param qubits: A tuple of the qubits on which each sequence of Cliffords acts\n",
    "    :param noise: Function which takes in a gate and appends the desired Krauss operators\n",
    "    :param noise_args: Additional parameters passed on to the noise function.\n",
    "    \"\"\"\n",
    "    new_df = df.copy()\n",
    "    for seq in new_df[\"Sequence\"].values:\n",
    "        insert_noise(seq, qubits, noise, *noise_args)\n",
    "    return new_df\n",
    "    \n",
    "def depolarizing_noise(num_qubits: int, p: float =.95):\n",
    "    \"\"\"\n",
    "    Generate the Kraus operators corresponding to a given unitary\n",
    "    single qubit gate followed by a depolarizing noise channel.\n",
    "\n",
    "    :params float num_qubits: either 1 or 2 qubit channel supported\n",
    "    :params float p: parameter in depolarizing channel as defined by: p $\\rho$ + (1-p)/d I\n",
    "    :return: A list, eg. [k0, k1, k2, k3], of the Kraus operators that parametrize the map.\n",
    "    :rtype: list\n",
    "    \"\"\"\n",
    "    num_of_operators = 4**num_qubits\n",
    "    probabilities = [p+(1.0-p)/num_of_operators] + [(1.0 - p)/num_of_operators]*(num_of_operators-1)\n",
    "    return noise.pauli_kraus_map(probabilities)\n",
    "\n",
    "bm = get_benchmarker()\n",
    "# establish a connection to a quantum device (in this case virtual)\n",
    "qc = get_qc(\"9q-square-noisy-qvm\")"
   ]
  },
  {
   "cell_type": "markdown",
   "metadata": {},
   "source": [
    "# Run unitarity RB (This is SLOW)"
   ]
  },
  {
   "cell_type": "code",
   "execution_count": null,
   "metadata": {},
   "outputs": [],
   "source": [
    "single_clifford_p = .95 #p parameter for the depolarizing channel applied to each clifford\n",
    "num_sequences_per_depth = 50\n",
    "num_trials_per_seq = 25\n",
    "depths = 2 * 2 ** np.arange(4, dtype=np.uint8) # depth = number of cliffords in a sequence\n",
    "subgraph = [(0,)] # [(0,1)] for two qubit; [(3,),(5,),(6,)] for simultaneous 1q\n",
    "\n",
    "# for convenience, produce label automatically from input subgraph\n",
    "num_qubits = len(subgraph[0])\n",
    "rb_type = \"sim-1q\" if num_qubits==1 else \"sim-2q\" \n",
    "\n",
    "# initialize dataframe\n",
    "df = rb_dataframe(rb_type=rb_type,\n",
    "                  subgraph = subgraph,\n",
    "                  depths = depths,\n",
    "                  num_sequences = num_sequences_per_depth)\n",
    "\n",
    "# populate dataframe with each sequence \n",
    "df = add_unitarity_sequences_to_dataframe(df, bm)\n",
    "# artificially insert noise on each clifford for simulation purposes\n",
    "df = add_noise_to_sequences(df, subgraph[0], depolarizing_noise, num_qubits, single_clifford_p) #add noise after each clifford\n",
    "\n",
    "# run num_trials_per_sequence indepedent measurements on the qc \n",
    "# for each sequence in the dataframe\n",
    "df = run_unitarity_measurement(df, qc, num_trials = num_trials_per_seq)\n",
    "\n",
    "# calculate and store purity statistics from the measurement results\n",
    "df = add_shifted_purities(df) \n",
    "\n",
    "# organize the statistics by the qubit(s) components in the subgraph (here only one)\n",
    "depths, purities, purity_errs = {}, {}, {} \n",
    "for qubits in subgraph:\n",
    "    depths[qubits], purities[qubits], purity_errs[qubits] = shifted_purities_by_qubits(df, qubits)\n",
    "\n",
    "# fit a model for the first (and only) component in the subgraph\n",
    "fit = fit_unitarity(depths[subgraph[0]], purities[subgraph[0]], weights= 1/purity_errs[subgraph[0]])\n",
    "\n",
    "# plot the raw data, point estimate error bars, and fit\n",
    "fig, axs = make_figure(fit, xlabel=\"Sequence Length [Cliffords]\", ylabel=\"Shifted Purity\")"
   ]
  },
  {
   "cell_type": "code",
   "execution_count": null,
   "metadata": {},
   "outputs": [],
   "source": [
    "unitarity = fit.params['unitarity'].value\n",
    "print(unitarity)\n",
    "err = fit.params['unitarity'].stderr\n",
    "print(err)"
   ]
  },
  {
   "cell_type": "code",
   "execution_count": null,
   "metadata": {},
   "outputs": [],
   "source": [
    "from forest.benchmarking.randomized_benchmarking import unitarity_to_RB_decay\n",
    "# Since noise is depolarizing, we expect this value to match the \n",
    "# input noise parameter single_clifford_p = .95 \n",
    "print(unitarity_to_RB_decay(unitarity, 2))\n",
    "print(unitarity_to_RB_decay(unitarity-err, 2))\n",
    "print(unitarity_to_RB_decay(unitarity+err, 2))"
   ]
  }
 ],
 "metadata": {
  "kernelspec": {
   "display_name": "Python 3",
   "language": "python",
   "name": "python3"
  },
  "language_info": {
   "codemirror_mode": {
    "name": "ipython",
    "version": 3
   },
   "file_extension": ".py",
   "mimetype": "text/x-python",
   "name": "python",
   "nbconvert_exporter": "python",
   "pygments_lexer": "ipython3",
   "version": "3.6.3"
  }
 },
 "nbformat": 4,
 "nbformat_minor": 2
}
