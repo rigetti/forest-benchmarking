{
 "cells": [
  {
   "cell_type": "markdown",
   "metadata": {},
   "source": [
    "# Randomized Benchmarking: Unitarity RB"
   ]
  },
  {
   "cell_type": "code",
   "execution_count": null,
   "metadata": {},
   "outputs": [],
   "source": [
    "# See rb_functions in examples folder for related usage\n",
    "# Needs in terminal:\n",
    "# $ quilc -S\n",
    "# $ qvm -S\n",
    "\n",
    "from forest.benchmarking.analysis.fitting import make_figure\n",
    "from forest.benchmarking.randomized_benchmarking import *\n",
    "\n",
    "from pyquil.api import get_benchmarker\n",
    "import numpy as np\n",
    "from typing import List, Tuple, Callable\n",
    "from pandas import DataFrame, Series\n",
    "from pyquil import Program, get_qc\n",
    "from pyquil import noise"
   ]
  },
  {
   "cell_type": "markdown",
   "metadata": {},
   "source": [
    "## Add functionality to inject understandable error into RB sequence"
   ]
  },
  {
   "cell_type": "code",
   "execution_count": null,
   "metadata": {},
   "outputs": [],
   "source": [
    "def add_noise_to_sequences(sequences, qubits, kraus_ops):\n",
    "    \"\"\"\n",
    "    Append the given noise to each clifford gate (sequence)\n",
    "    \"\"\"\n",
    "    for seq in sequences:\n",
    "        for program in seq:\n",
    "            program.defgate(\"noise\", np.eye(2 ** len(qubits)))\n",
    "            program.define_noisy_gate(\"noise\", qubits, kraus_ops)\n",
    "            program.inst((\"noise\", *qubits))\n",
    "    \n",
    "def depolarizing_noise(num_qubits: int, p: float =.95):\n",
    "    \"\"\"\n",
    "    Generate the Kraus operators corresponding to a given unitary\n",
    "    single qubit gate followed by a depolarizing noise channel.\n",
    "\n",
    "    :params float num_qubits: either 1 or 2 qubit channel supported\n",
    "    :params float p: parameter in depolarizing channel as defined by: p $\\rho$ + (1-p)/d I\n",
    "    :return: A list, eg. [k0, k1, k2, k3], of the Kraus operators that parametrize the map.\n",
    "    :rtype: list\n",
    "    \"\"\"\n",
    "    num_of_operators = 4**num_qubits\n",
    "    probabilities = [p+(1.0-p)/num_of_operators] + [(1.0 - p)/num_of_operators]*(num_of_operators-1)\n",
    "    return noise.pauli_kraus_map(probabilities)\n",
    "\n",
    "bm = get_benchmarker()\n",
    "# get an ideal and noisy qc\n",
    "qc = get_qc(\"9q-square-qvm\", noisy=False)\n",
    "noisy_qc = get_qc(\"4q-qvm\", noisy=True)"
   ]
  },
  {
   "cell_type": "markdown",
   "metadata": {},
   "source": [
    "## Run unitarity RB (This is SLOW)"
   ]
  },
  {
   "cell_type": "code",
   "execution_count": null,
   "metadata": {},
   "outputs": [],
   "source": [
    "qubits = (0,) # e.g. (3,4) for two qubits\n",
    "\n",
    "single_clifford_p = .95 #p parameter for the depolarizing channel applied to each clifford\n",
    "kraus_ops = depolarizing_noise(len(qubits), single_clifford_p)\n",
    "\n",
    "num_sequences_per_depth = 50\n",
    "num_shots = 25\n",
    "depths = 2 * 2 ** np.arange(4, dtype=np.uint8) # depth = number of cliffords in a sequence\n",
    "depths = [d for d in depths for _ in range(num_sequences_per_depth)]\n",
    "\n",
    "\n",
    "sequences = generate_rb_experiment_sequences(bm, qubits, depths, use_self_inv_seqs=False)\n",
    "add_noise_to_sequences(sequences, qubits, kraus_ops)\n",
    "\n",
    "expts = group_sequences_into_parallel_experiments([sequences], [qubits], is_unitarity_expt=True)\n",
    "\n",
    "results = acquire_rb_data(qc, expts, num_shots)\n",
    "\n",
    "stats = get_stats_by_qubit_group([qubits], results)[qubits]\n",
    "fit = fit_unitarity_results(depths, stats['expectation'], stats['std_err'])\n",
    "\n",
    "# plot the raw data, point estimate error bars, and fit\n",
    "fig, axs = make_figure(fit, xlabel=\"Sequence Length [Cliffords]\", ylabel=\"Shifted Purity\")"
   ]
  },
  {
   "cell_type": "code",
   "execution_count": null,
   "metadata": {},
   "outputs": [],
   "source": [
    "unitarity = fit.params['decay'].value\n",
    "print(unitarity)\n",
    "err = fit.params['decay'].stderr\n",
    "print(err)"
   ]
  },
  {
   "cell_type": "code",
   "execution_count": null,
   "metadata": {},
   "outputs": [],
   "source": [
    "from forest.benchmarking.randomized_benchmarking import unitarity_to_rb_decay\n",
    "# Since noise is depolarizing, we expect this value to match the \n",
    "# input noise parameter single_clifford_p = .95 \n",
    "print(unitarity_to_rb_decay(unitarity, 2))\n",
    "print(unitarity_to_rb_decay(unitarity-err, 2))\n",
    "print(unitarity_to_rb_decay(unitarity+err, 2))"
   ]
  },
  {
   "cell_type": "markdown",
   "metadata": {},
   "source": [
    "## If we don't need to alter the seqeuences (e.g. we don't care too much about a specific noise model or are running on a QPU) we can directly generate experiments. It is also easier to generate simulatneous unitarity experiments."
   ]
  },
  {
   "cell_type": "code",
   "execution_count": null,
   "metadata": {},
   "outputs": [],
   "source": [
    "qubit_groups = [(0,),(2,),(3,)]\n",
    "expts = generate_unitarity_experiments(bm, qubit_groups, depths)\n",
    "\n",
    "results = acquire_rb_data(noisy_qc, expts, num_shots)\n",
    "stats_by_group = get_stats_by_qubit_group(qubit_groups, results)\n",
    "fits = []\n",
    "for group in qubit_groups:\n",
    "    stats = stats_by_group[group]\n",
    "    fits.append(fit_unitarity_results(depths, stats['expectation'], stats['std_err']))"
   ]
  },
  {
   "cell_type": "code",
   "execution_count": null,
   "metadata": {},
   "outputs": [],
   "source": [
    "for fit, group in zip(fits, qubit_groups):\n",
    "    fig, axs = make_figure(fit, xlabel=\"Sequence Length [Cliffords]\", ylabel=\"Shifted Purity\", \n",
    "                           title='Qubit' + str(group[0]))"
   ]
  },
  {
   "cell_type": "code",
   "execution_count": null,
   "metadata": {},
   "outputs": [],
   "source": []
  }
 ],
 "metadata": {
  "language_info": {
   "name": "python",
   "pygments_lexer": "ipython3"
  }
 },
 "nbformat": 4,
 "nbformat_minor": 2
}
