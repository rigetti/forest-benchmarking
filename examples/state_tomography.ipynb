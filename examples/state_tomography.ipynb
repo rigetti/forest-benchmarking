{
 "cells": [
  {
   "cell_type": "markdown",
   "metadata": {},
   "source": [
    "# State tomography\n",
    "State tomography involves measuring a quantum state repeatedly in the bases given by `itertools.product(['X', 'Y', 'Z], repeat=n_qubits)`. From these measurements, we can reconstruct a density matrix $\\rho$."
   ]
  },
  {
   "cell_type": "code",
   "execution_count": 45,
   "metadata": {},
   "outputs": [],
   "source": [
    "import numpy as np\n",
    "from pyquil import Program, get_qc\n",
    "from pyquil.gates import *"
   ]
  },
  {
   "cell_type": "markdown",
   "metadata": {},
   "source": [
    "## Construct a state with a `Program`\n",
    "We'll construct a two-qubit graph state by Hadamarding all qubits and then applying a controlled-Z operation across edges of our graph. In the two-qubit case, there's only one edge. "
   ]
  },
  {
   "cell_type": "code",
   "execution_count": 46,
   "metadata": {},
   "outputs": [
    {
     "name": "stdout",
     "output_type": "stream",
     "text": [
      "H 0\n",
      "H 1\n",
      "CZ 0 1\n",
      "\n"
     ]
    }
   ],
   "source": [
    "qubits = [0, 1]\n",
    "program = Program()\n",
    "for qubit in qubits:\n",
    "    program += H(qubit)\n",
    "program += CZ(qubits[0], qubits[1])\n",
    "print(program)"
   ]
  },
  {
   "cell_type": "markdown",
   "metadata": {},
   "source": [
    "## Construct a `TomographyExperiment` for state tomography\n",
    "We can print this out to see the 16 measurements we will perform."
   ]
  },
  {
   "cell_type": "code",
   "execution_count": 47,
   "metadata": {},
   "outputs": [
    {
     "name": "stdout",
     "output_type": "stream",
     "text": [
      "H 0; H 1; CZ 0 1\n",
      "0: (1+0j)*I→(1+0j)*I\n",
      "1: (1+0j)*I→(1+0j)*X1\n",
      "2: (1+0j)*I→(1+0j)*Y1\n",
      "3: (1+0j)*I→(1+0j)*Z1\n",
      "4: (1+0j)*I→(1+0j)*X0\n",
      "5: (1+0j)*I→(1+0j)*X0X1\n",
      "6: (1+0j)*I→(1+0j)*X0Y1\n",
      "7: (1+0j)*I→(1+0j)*X0Z1\n",
      "8: (1+0j)*I→(1+0j)*Y0\n",
      "9: (1+0j)*I→(1+0j)*Y0X1\n",
      "10: (1+0j)*I→(1+0j)*Y0Y1\n",
      "11: (1+0j)*I→(1+0j)*Y0Z1\n",
      "12: (1+0j)*I→(1+0j)*Z0\n",
      "13: (1+0j)*I→(1+0j)*Z0X1\n",
      "14: (1+0j)*I→(1+0j)*Z0Y1\n",
      "15: (1+0j)*I→(1+0j)*Z0Z1\n"
     ]
    }
   ],
   "source": [
    "from forest_qcvv.tomography import generate_state_tomography_experiment\n",
    "experiment = generate_state_tomography_experiment(program=program, qubits=qubits)\n",
    "print(experiment)"
   ]
  },
  {
   "cell_type": "markdown",
   "metadata": {},
   "source": [
    "### Optional grouping\n",
    "We can simultaneously estimate some of these observables"
   ]
  },
  {
   "cell_type": "code",
   "execution_count": 48,
   "metadata": {},
   "outputs": [
    {
     "name": "stdout",
     "output_type": "stream",
     "text": [
      "H 0; H 1; CZ 0 1\n",
      "0: (1+0j)*I→(1+0j)*X1, (1+0j)*I→(1+0j)*Z0, (1+0j)*I→(1+0j)*Z0X1, (1+0j)*I→(1+0j)*I\n",
      "1: (1+0j)*I→(1+0j)*Y0, (1+0j)*I→(1+0j)*Y0Y1, (1+0j)*I→(1+0j)*Y1\n",
      "2: (1+0j)*I→(1+0j)*Z1, (1+0j)*I→(1+0j)*X0Z1, (1+0j)*I→(1+0j)*X0\n",
      "3: (1+0j)*I→(1+0j)*X0X1\n",
      "4: (1+0j)*I→(1+0j)*X0Y1\n",
      "5: (1+0j)*I→(1+0j)*Y0X1\n",
      "6: (1+0j)*I→(1+0j)*Y0Z1\n",
      "7: (1+0j)*I→(1+0j)*Z0Y1\n",
      "8: (1+0j)*I→(1+0j)*Z0Z1\n"
     ]
    }
   ],
   "source": [
    "from pyquil.operator_estimation import group_experiments\n",
    "print(group_experiments(experiment))"
   ]
  },
  {
   "cell_type": "markdown",
   "metadata": {},
   "source": [
    "## PyQuil will run the tomography programs"
   ]
  },
  {
   "cell_type": "code",
   "execution_count": 49,
   "metadata": {},
   "outputs": [
    {
     "data": {
      "text/plain": [
       "[ExperimentResult[(1+0j)*I→(1+0j)*I: 1.0 +- 0.0],\n",
       " ExperimentResult[(1+0j)*I→(1+0j)*X1: 0.001 +- 0.0031622760790291538],\n",
       " ExperimentResult[(1+0j)*I→(1+0j)*Y1: 0.00174 +- 0.003162272873108834],\n",
       " ExperimentResult[(1+0j)*I→(1+0j)*Z1: -0.00384 +- 0.0031622543452416983],\n",
       " ExperimentResult[(1+0j)*I→(1+0j)*X0: 0.00278 +- 0.003162265440471435],\n",
       " ExperimentResult[(1+0j)*I→(1+0j)*X0X1: 0.00256 +- 0.0031622672979999653],\n",
       " ExperimentResult[(1+0j)*I→(1+0j)*X0Y1: 0.00092 +- 0.0031622763218921903],\n",
       " ExperimentResult[(1+0j)*I→(1+0j)*X0Z1: 1.0 +- 0.0],\n",
       " ExperimentResult[(1+0j)*I→(1+0j)*Y0: -0.0005 +- 0.0031622772648836474],\n",
       " ExperimentResult[(1+0j)*I→(1+0j)*Y0X1: 0.00502 +- 0.0031622378145863728],\n",
       " ExperimentResult[(1+0j)*I→(1+0j)*Y0Y1: 1.0 +- 0.0],\n",
       " ExperimentResult[(1+0j)*I→(1+0j)*Y0Z1: -0.0011 +- 0.0031622757469898168],\n",
       " ExperimentResult[(1+0j)*I→(1+0j)*Z0: -0.005 +- 0.003162238131450571],\n",
       " ExperimentResult[(1+0j)*I→(1+0j)*Z0X1: 1.0 +- 0.0],\n",
       " ExperimentResult[(1+0j)*I→(1+0j)*Z0Y1: 0.00356 +- 0.003162257621383811],\n",
       " ExperimentResult[(1+0j)*I→(1+0j)*Z0Z1: 0.00388 +- 0.00316225385698239]]"
      ]
     },
     "execution_count": 49,
     "metadata": {},
     "output_type": "execute_result"
    }
   ],
   "source": [
    "from pyquil.operator_estimation import measure_observables\n",
    "\n",
    "qc = get_qc('2q-pyqvm')\n",
    "from forest_qcvv.compilation import basic_compile\n",
    "qc.compiler.quil_to_native_quil = basic_compile\n",
    "\n",
    "results = list(measure_observables(qc=qc, tomo_experiment=experiment, n_shots=100_000))\n",
    "results"
   ]
  },
  {
   "cell_type": "code",
   "execution_count": 50,
   "metadata": {},
   "outputs": [],
   "source": [
    "# Half-way between conversion\n",
    "from forest_qcvv.tomography import shim_pyquil_results_to_TomographyData\n",
    "data = shim_pyquil_results_to_TomographyData(program=program, qubits=qubits, counts=100_000, results=results)"
   ]
  },
  {
   "cell_type": "markdown",
   "metadata": {},
   "source": [
    "### We can look at a bunch of numbers..."
   ]
  },
  {
   "cell_type": "code",
   "execution_count": 51,
   "metadata": {},
   "outputs": [
    {
     "data": {
      "text/plain": [
       "array([[ 0.24876 +0.00000000e+00j,  0.25025 +1.32500000e-03j,\n",
       "         0.250695-4.00000000e-04j, -0.24936 +1.48500000e-03j],\n",
       "       [ 0.25025 -1.32500000e-03j,  0.24874 -7.99958545e-17j,\n",
       "         0.25064 +1.02500000e-03j, -0.249305+1.50000000e-04j],\n",
       "       [ 0.250695+4.00000000e-04j,  0.25064 -1.02500000e-03j,\n",
       "         0.24932 -3.95255719e-17j, -0.24975 -4.55000000e-04j],\n",
       "       [-0.24936 -1.48500000e-03j, -0.249305-1.50000000e-04j,\n",
       "        -0.24975 +4.55000000e-04j,  0.25318 +2.66736883e-18j]])"
      ]
     },
     "execution_count": 51,
     "metadata": {},
     "output_type": "execute_result"
    }
   ],
   "source": [
    "from forest_qcvv.tomography import linear_inv_state_estimate\n",
    "rho = linear_inv_state_estimate(data).estimate.state_point_est\n",
    "rho"
   ]
  },
  {
   "cell_type": "code",
   "execution_count": 52,
   "metadata": {},
   "outputs": [
    {
     "data": {
      "text/plain": [
       "array([[ 0.25,  0.25,  0.25, -0.25],\n",
       "       [ 0.25,  0.25,  0.25, -0.25],\n",
       "       [ 0.25,  0.25,  0.25, -0.25],\n",
       "       [-0.25, -0.25, -0.25,  0.25]])"
      ]
     },
     "execution_count": 52,
     "metadata": {},
     "output_type": "execute_result"
    }
   ],
   "source": [
    "psi = (1/2) * np.array([1, 1, 1, -1])\n",
    "rho_true = np.outer(psi, psi.T.conj())\n",
    "rho_true"
   ]
  },
  {
   "cell_type": "markdown",
   "metadata": {},
   "source": [
    "### Or visualize using Hinton plots"
   ]
  },
  {
   "cell_type": "code",
   "execution_count": 53,
   "metadata": {},
   "outputs": [
    {
     "data": {
      "image/png": "[encoded data removed]",
      "text/plain": [
       "<Figure size 432x288 with 2 Axes>"
      ]
     },
     "metadata": {},
     "output_type": "display_data"
    }
   ],
   "source": [
    "from matplotlib import pyplot as plt\n",
    "from forest_qcvv.plotting import hinton\n",
    "fig, (ax1, ax2) = plt.subplots(1, 2)\n",
    "hinton(rho_true, ax=ax1)\n",
    "hinton(rho, ax=ax2)\n",
    "ax1.set_title('Analytical')\n",
    "ax2.set_title('Estimated')\n",
    "fig.tight_layout()"
   ]
  },
  {
   "cell_type": "markdown",
   "metadata": {},
   "source": [
    "### Matrix norm between true and estimated is low"
   ]
  },
  {
   "cell_type": "code",
   "execution_count": 54,
   "metadata": {},
   "outputs": [
    {
     "data": {
      "text/plain": [
       "0.005321888762460097"
      ]
     },
     "execution_count": 54,
     "metadata": {},
     "output_type": "execute_result"
    }
   ],
   "source": [
    "np.linalg.norm(rho - rho_true)"
   ]
  },
  {
   "cell_type": "markdown",
   "metadata": {},
   "source": [
    "## Fun with plotting"
   ]
  },
  {
   "cell_type": "code",
   "execution_count": 55,
   "metadata": {},
   "outputs": [],
   "source": [
    "PROJ_ZERO = np.array([[1, 0], [0, 0]])\n",
    "PROJ_ONE = np.array([[0, 0], [0, 1]])\n",
    "ID = PROJ_ZERO + PROJ_ONE\n",
    "PLUS = np.array([[1], [1]]) / np.sqrt(2)\n",
    "PROJ_PLUS = PLUS @ PLUS.T.conj()\n",
    "PROJ_MINUS = ID - PROJ_PLUS\n",
    "Z_EFFECTS = [PROJ_ZERO, PROJ_ONE]\n",
    "X_EFFECTS = [PROJ_PLUS, PROJ_MINUS]\n",
    "X = PROJ_PLUS - PROJ_MINUS\n",
    "Y = 1j * PROJ_PLUS - 1j * PROJ_MINUS\n",
    "Z = PROJ_ZERO - PROJ_ONE\n",
    "\n",
    "# Two qubit defs\n",
    "P00 = np.kron(PROJ_ZERO, PROJ_ZERO)\n",
    "P01 = np.kron(PROJ_ZERO, PROJ_ONE)\n",
    "P10 = np.kron(PROJ_ONE, PROJ_ZERO)\n",
    "P11 = np.kron(PROJ_ONE, PROJ_ONE)\n",
    "ID_2Q = P00 + P01 + P10 + P11\n",
    "ZZ_EFFECTS = [P00, P01, P10, P11]"
   ]
  },
  {
   "cell_type": "code",
   "execution_count": 56,
   "metadata": {},
   "outputs": [
    {
     "data": {
      "image/png": "[encoded data removed]",
      "text/plain": [
       "<Figure size 432x288 with 1 Axes>"
      ]
     },
     "metadata": {},
     "output_type": "display_data"
    }
   ],
   "source": [
    "hinton(PROJ_ZERO, max_weight=1)"
   ]
  },
  {
   "cell_type": "code",
   "execution_count": 57,
   "metadata": {},
   "outputs": [
    {
     "data": {
      "image/png": "[encoded data removed]",
      "text/plain": [
       "<Figure size 432x288 with 1 Axes>"
      ]
     },
     "metadata": {},
     "output_type": "display_data"
    }
   ],
   "source": [
    "hinton(PROJ_ONE, max_weight=1)"
   ]
  },
  {
   "cell_type": "code",
   "execution_count": 58,
   "metadata": {},
   "outputs": [
    {
     "data": {
      "image/png": "[encoded data removed]",
      "text/plain": [
       "<Figure size 432x288 with 1 Axes>"
      ]
     },
     "metadata": {},
     "output_type": "display_data"
    }
   ],
   "source": [
    "hinton(PROJ_PLUS, max_weight=1)"
   ]
  },
  {
   "cell_type": "code",
   "execution_count": 59,
   "metadata": {},
   "outputs": [
    {
     "data": {
      "image/png": "[encoded data removed]",
      "text/plain": [
       "<Figure size 432x288 with 1 Axes>"
      ]
     },
     "metadata": {},
     "output_type": "display_data"
    }
   ],
   "source": [
    "hinton(PROJ_MINUS, max_weight=1)"
   ]
  },
  {
   "cell_type": "code",
   "execution_count": 60,
   "metadata": {},
   "outputs": [
    {
     "data": {
      "image/png": "[encoded data removed]",
      "text/plain": [
       "<Figure size 432x288 with 1 Axes>"
      ]
     },
     "metadata": {},
     "output_type": "display_data"
    }
   ],
   "source": [
    "hinton(X, max_weight=1)"
   ]
  },
  {
   "cell_type": "code",
   "execution_count": 61,
   "metadata": {},
   "outputs": [
    {
     "data": {
      "image/png": "[encoded data removed]",
      "text/plain": [
       "<Figure size 432x288 with 1 Axes>"
      ]
     },
     "metadata": {},
     "output_type": "display_data"
    }
   ],
   "source": [
    "hinton(Y, max_weight=1) # this seems wrong"
   ]
  },
  {
   "cell_type": "code",
   "execution_count": 62,
   "metadata": {},
   "outputs": [
    {
     "data": {
      "image/png": "[encoded data removed]",
      "text/plain": [
       "<Figure size 432x288 with 1 Axes>"
      ]
     },
     "metadata": {},
     "output_type": "display_data"
    }
   ],
   "source": [
    "hinton(Z, max_weight=1)"
   ]
  },
  {
   "cell_type": "markdown",
   "metadata": {},
   "source": [
    "## Linear inversion estimate"
   ]
  },
  {
   "cell_type": "code",
   "execution_count": 63,
   "metadata": {},
   "outputs": [
    {
     "name": "stdout",
     "output_type": "stream",
     "text": [
      "[[ 0.2488+0.j      0.2502+0.0013j  0.2507-0.0004j -0.2494+0.0015j]\n",
      " [ 0.2503-0.0013j  0.2487-0.j      0.2506+0.001j  -0.2493+0.0002j]\n",
      " [ 0.2507+0.0004j  0.2506-0.001j   0.2493-0.j     -0.2498-0.0005j]\n",
      " [-0.2494-0.0015j -0.2493-0.0002j -0.2498+0.0005j  0.2532+0.j    ]]\n",
      "Purity = (1.0000283225000002-2.3245294578089215e-16j)\n"
     ]
    },
    {
     "data": {
      "image/png": "[encoded data removed]",
      "text/plain": [
       "<Figure size 432x288 with 1 Axes>"
      ]
     },
     "metadata": {},
     "output_type": "display_data"
    }
   ],
   "source": [
    "from forest_qcvv.tomography import linear_inv_state_estimate\n",
    "rho = linear_inv_state_estimate(data).estimate.state_point_est\n",
    "\n",
    "print(np.round(rho, 4))\n",
    "print('Purity =', np.trace(rho @ rho))\n",
    "hinton(rho)"
   ]
  },
  {
   "cell_type": "markdown",
   "metadata": {},
   "source": [
    "## Maximum Liklihood Estimate (MLE) via diluted iterative method"
   ]
  },
  {
   "cell_type": "code",
   "execution_count": 64,
   "metadata": {},
   "outputs": [
    {
     "name": "stdout",
     "output_type": "stream",
     "text": [
      "[[ 0.2497-0.j      0.2497+0.j      0.2499+0.0001j -0.2501-0.0003j]\n",
      " [ 0.2497-0.j      0.2496-0.j      0.2499+0.j     -0.2501-0.0003j]\n",
      " [ 0.2499-0.0001j  0.2499-0.j      0.2501+0.j     -0.2503-0.0002j]\n",
      " [-0.2501+0.0003j -0.2501+0.0003j -0.2503+0.0002j  0.2505+0.j    ]]\n",
      "Purity = (0.9999999950036171+2.0328790734103208e-19j)\n"
     ]
    }
   ],
   "source": [
    "from forest_qcvv.tomography import iterative_mle_state_estimate\n",
    "est_mle, status = iterative_mle_state_estimate(data, dilution=0.5)\n",
    "rho = est_mle.estimate.state_point_est\n",
    "print(np.around(rho, decimals=4))\n",
    "print('Purity =', np.trace(rho @ rho))"
   ]
  },
  {
   "cell_type": "markdown",
   "metadata": {},
   "source": [
    "## MLE with Max Entropy constraint"
   ]
  },
  {
   "cell_type": "code",
   "execution_count": 65,
   "metadata": {},
   "outputs": [
    {
     "name": "stdout",
     "output_type": "stream",
     "text": [
      "[[ 0.2497-0.j      0.2497+0.j      0.2499+0.0001j -0.2501-0.0003j]\n",
      " [ 0.2497-0.j      0.2496+0.j      0.2499+0.j     -0.2501-0.0003j]\n",
      " [ 0.2499-0.0001j  0.2499-0.j      0.2501+0.j     -0.2503-0.0002j]\n",
      " [-0.2501+0.0003j -0.2501+0.0003j -0.2503+0.0002j  0.2505+0.j    ]]\n",
      "Purity = (0.9999999950035885-1.0164395367051604e-19j)\n"
     ]
    }
   ],
   "source": [
    "est_max_ent, stat = iterative_mle_state_estimate(data, dilution=0.5, entropy_penalty=0.005)\n",
    "rho = est_max_ent.estimate.state_point_est\n",
    "print(np.around(rho, decimals=4))\n",
    "print('Purity =', np.trace(rho @ rho))"
   ]
  },
  {
   "cell_type": "markdown",
   "metadata": {},
   "source": [
    "## MLE with Hedging parameter"
   ]
  },
  {
   "cell_type": "code",
   "execution_count": 66,
   "metadata": {},
   "outputs": [
    {
     "name": "stdout",
     "output_type": "stream",
     "text": [
      "[[ 0.2497-0.j      0.2497+0.j      0.2499+0.0001j -0.2501-0.0003j]\n",
      " [ 0.2497-0.j      0.2496+0.j      0.2499+0.j     -0.2501-0.0003j]\n",
      " [ 0.2499-0.0001j  0.2499-0.j      0.2501+0.j     -0.2503-0.0002j]\n",
      " [-0.2501+0.0003j -0.2501+0.0003j -0.2503+0.0002j  0.2505-0.j    ]]\n",
      "Purity =  (0.9999999949923233+4.607859233063394e-19j)\n"
     ]
    }
   ],
   "source": [
    "est_hedging, stat = iterative_mle_state_estimate(data, dilution=0.5, beta=.61)\n",
    "rho = est_hedging.estimate.state_point_est\n",
    "print(np.around(rho, decimals=4))\n",
    "print('Purity = ', np.trace(rho @ rho))"
   ]
  },
  {
   "cell_type": "markdown",
   "metadata": {},
   "source": [
    "## Project an unphysical state to the closest physical state"
   ]
  },
  {
   "cell_type": "code",
   "execution_count": 67,
   "metadata": {},
   "outputs": [
    {
     "data": {
      "image/png": "[encoded data removed]",
      "text/plain": [
       "<Figure size 432x288 with 2 Axes>"
      ]
     },
     "metadata": {},
     "output_type": "display_data"
    }
   ],
   "source": [
    "from forest_qcvv.tomography import project_density_matrix\n",
    "rho_unphys = np.array([[1.0, 0], [0, -0.75]])\n",
    "rho_phys = project_density_matrix(rho_unphys)\n",
    "\n",
    "fig, (ax1, ax2) = plt.subplots(1, 2)\n",
    "hinton(rho_unphys, ax=ax1)\n",
    "hinton(rho_phys, ax=ax2)\n",
    "ax1.set_title('Unphysical')\n",
    "ax2.set_title('Physical projection')\n",
    "fig.tight_layout()"
   ]
  },
  {
   "cell_type": "code",
   "execution_count": 68,
   "metadata": {},
   "outputs": [
    {
     "data": {
      "text/plain": [
       "True"
      ]
     },
     "execution_count": 68,
     "metadata": {},
     "output_type": "execute_result"
    }
   ],
   "source": [
    "# Test the wizard method. Example from fig 1 of maximum likelihood minimum effort \n",
    "# https://doi.org/10.1103/PhysRevLett.108.070502\n",
    "\n",
    "eigs = np.diag(np.array(list(reversed([3.0/5, 1.0/2, 7.0/20, 1.0/10, -11.0/20]))))\n",
    "phys = project_density_matrix(eigs)\n",
    "np.allclose(phys, np.diag([0, 0, 1.0/5, 7.0/20, 9.0/20]))"
   ]
  },
  {
   "cell_type": "markdown",
   "metadata": {},
   "source": [
    "# Lightweight Bootstrap for functionals of the state"
   ]
  },
  {
   "cell_type": "code",
   "execution_count": 69,
   "metadata": {},
   "outputs": [],
   "source": [
    "import forest_qcvv.distance_measures as dm\n",
    "from forest_qcvv.tomography import estimate_variance"
   ]
  },
  {
   "cell_type": "code",
   "execution_count": 70,
   "metadata": {},
   "outputs": [],
   "source": [
    "def my_mle_estimator(data):\n",
    "    return iterative_mle_state_estimate(data, dilution=0.5, entropy_penalty=0.0, beta=0.0)[0]"
   ]
  },
  {
   "cell_type": "markdown",
   "metadata": {},
   "source": [
    "**Purity**"
   ]
  },
  {
   "cell_type": "code",
   "execution_count": 71,
   "metadata": {},
   "outputs": [
    {
     "name": "stdout",
     "output_type": "stream",
     "text": [
      "(0.9999628309529021, 4.136212817438777e-10)\n",
      "(0.9955020846807209, 1.3929914952871658e-06)\n"
     ]
    }
   ],
   "source": [
    "mle_est = estimate_variance(data, my_mle_estimator, dm.purity, n_resamples=40, project_to_physical=True)\n",
    "lin_inv_est = estimate_variance(data, linear_inv_state_estimate, dm.purity, n_resamples=40, project_to_physical=True)\n",
    "print(mle_est)\n",
    "print(lin_inv_est)"
   ]
  },
  {
   "cell_type": "markdown",
   "metadata": {},
   "source": [
    "**Fidelity**"
   ]
  },
  {
   "cell_type": "code",
   "execution_count": 74,
   "metadata": {},
   "outputs": [
    {
     "name": "stdout",
     "output_type": "stream",
     "text": [
      "Failed to find a square root.\n",
      "Failed to find a square root.\n"
     ]
    },
    {
     "ename": "ValueError",
     "evalue": "array must not contain infs or NaNs",
     "output_type": "error",
     "traceback": [
      "\u001b[0;31m---------------------------------------------------------------------------\u001b[0m",
      "\u001b[0;31mValueError\u001b[0m                                Traceback (most recent call last)",
      "\u001b[0;32m<ipython-input-74-2f3dfc81b400>\u001b[0m in \u001b[0;36m<module>\u001b[0;34m\u001b[0m\n\u001b[0;32m----> 1\u001b[0;31m \u001b[0mmle_est\u001b[0m \u001b[0;34m=\u001b[0m \u001b[0mestimate_variance\u001b[0m\u001b[0;34m(\u001b[0m\u001b[0mdata\u001b[0m\u001b[0;34m,\u001b[0m \u001b[0mmy_mle_estimator\u001b[0m\u001b[0;34m,\u001b[0m \u001b[0mdm\u001b[0m\u001b[0;34m.\u001b[0m\u001b[0mfidelity\u001b[0m\u001b[0;34m,\u001b[0m \u001b[0mtarget_state\u001b[0m\u001b[0;34m=\u001b[0m\u001b[0mrho_true\u001b[0m\u001b[0;34m,\u001b[0m \u001b[0mn_resamples\u001b[0m\u001b[0;34m=\u001b[0m\u001b[0;36m40\u001b[0m\u001b[0;34m,\u001b[0m \u001b[0mproject_to_physical\u001b[0m\u001b[0;34m=\u001b[0m\u001b[0;32mTrue\u001b[0m\u001b[0;34m)\u001b[0m\u001b[0;34m\u001b[0m\u001b[0;34m\u001b[0m\u001b[0m\n\u001b[0m\u001b[1;32m      2\u001b[0m \u001b[0mlin_inv_est\u001b[0m \u001b[0;34m=\u001b[0m \u001b[0mestimate_variance\u001b[0m\u001b[0;34m(\u001b[0m\u001b[0mdata\u001b[0m\u001b[0;34m,\u001b[0m \u001b[0mlinear_inv_state_estimate\u001b[0m\u001b[0;34m,\u001b[0m \u001b[0mdm\u001b[0m\u001b[0;34m.\u001b[0m\u001b[0mfidelity\u001b[0m\u001b[0;34m,\u001b[0m \u001b[0mtarget_state\u001b[0m\u001b[0;34m=\u001b[0m\u001b[0mrho_true\u001b[0m\u001b[0;34m,\u001b[0m \u001b[0mn_resamples\u001b[0m\u001b[0;34m=\u001b[0m\u001b[0;36m40\u001b[0m\u001b[0;34m,\u001b[0m \u001b[0mproject_to_physical\u001b[0m\u001b[0;34m=\u001b[0m\u001b[0;32mTrue\u001b[0m\u001b[0;34m)\u001b[0m\u001b[0;34m\u001b[0m\u001b[0;34m\u001b[0m\u001b[0m\n\u001b[1;32m      3\u001b[0m \u001b[0mprint\u001b[0m\u001b[0;34m(\u001b[0m\u001b[0mmle_est\u001b[0m\u001b[0;34m)\u001b[0m\u001b[0;34m\u001b[0m\u001b[0;34m\u001b[0m\u001b[0m\n\u001b[1;32m      4\u001b[0m \u001b[0mprint\u001b[0m\u001b[0;34m(\u001b[0m\u001b[0mlin_inv_est\u001b[0m\u001b[0;34m)\u001b[0m\u001b[0;34m\u001b[0m\u001b[0;34m\u001b[0m\u001b[0m\n",
      "\u001b[0;32m~/forest-qcvv/forest-qcvv/forest_qcvv/tomography.py\u001b[0m in \u001b[0;36mestimate_variance\u001b[0;34m(exp_data, tomo_estimator, functional, target_state, n_resamples, project_to_physical)\u001b[0m\n\u001b[1;32m    885\u001b[0m     \u001b[0;32mreturn\u001b[0m \u001b[0mnp\u001b[0m\u001b[0;34m.\u001b[0m\u001b[0mmean\u001b[0m\u001b[0;34m(\u001b[0m\u001b[0msample_estimate\u001b[0m\u001b[0;34m)\u001b[0m\u001b[0;34m,\u001b[0m \u001b[0mnp\u001b[0m\u001b[0;34m.\u001b[0m\u001b[0mvar\u001b[0m\u001b[0;34m(\u001b[0m\u001b[0msample_estimate\u001b[0m\u001b[0;34m)\u001b[0m\u001b[0;34m\u001b[0m\u001b[0;34m\u001b[0m\u001b[0m\n\u001b[1;32m    886\u001b[0m \u001b[0;34m\u001b[0m\u001b[0m\n\u001b[0;32m--> 887\u001b[0;31m \u001b[0;34m\u001b[0m\u001b[0m\n\u001b[0m\u001b[1;32m    888\u001b[0m \u001b[0mTHREE_COLOR_MAP\u001b[0m \u001b[0;34m=\u001b[0m \u001b[0;34m[\u001b[0m\u001b[0;34m'#48737F'\u001b[0m\u001b[0;34m,\u001b[0m \u001b[0;34m'#FFFFFF'\u001b[0m\u001b[0;34m,\u001b[0m \u001b[0;34m'#D6619E'\u001b[0m\u001b[0;34m]\u001b[0m\u001b[0;34m\u001b[0m\u001b[0;34m\u001b[0m\u001b[0m\n\u001b[1;32m    889\u001b[0m \u001b[0mrigetti_3_color_cm\u001b[0m \u001b[0;34m=\u001b[0m \u001b[0mLinearSegmentedColormap\u001b[0m\u001b[0;34m.\u001b[0m\u001b[0mfrom_list\u001b[0m\u001b[0;34m(\u001b[0m\u001b[0;34m\"Rigetti\"\u001b[0m\u001b[0;34m,\u001b[0m \u001b[0mTHREE_COLOR_MAP\u001b[0m\u001b[0;34m[\u001b[0m\u001b[0;34m:\u001b[0m\u001b[0;34m:\u001b[0m\u001b[0;34m-\u001b[0m\u001b[0;36m1\u001b[0m\u001b[0;34m]\u001b[0m\u001b[0;34m,\u001b[0m \u001b[0mN\u001b[0m\u001b[0;34m=\u001b[0m\u001b[0;36m100\u001b[0m\u001b[0;34m)\u001b[0m\u001b[0;34m\u001b[0m\u001b[0;34m\u001b[0m\u001b[0m\n",
      "\u001b[0;32m~/forest-qcvv/forest-qcvv/forest_qcvv/distance_measures.py\u001b[0m in \u001b[0;36mfidelity\u001b[0;34m(rho, sigma)\u001b[0m\n\u001b[1;32m     44\u001b[0m     \u001b[0;34m:\u001b[0m\u001b[0;32mreturn\u001b[0m\u001b[0;34m:\u001b[0m \u001b[0mFidelity\u001b[0m \u001b[0mwhich\u001b[0m \u001b[0;32mis\u001b[0m \u001b[0ma\u001b[0m \u001b[0mscalar\u001b[0m\u001b[0;34m.\u001b[0m\u001b[0;34m\u001b[0m\u001b[0;34m\u001b[0m\u001b[0m\n\u001b[1;32m     45\u001b[0m     \"\"\"\n\u001b[0;32m---> 46\u001b[0;31m     \u001b[0;32mreturn\u001b[0m \u001b[0;34m(\u001b[0m\u001b[0mnp\u001b[0m\u001b[0;34m.\u001b[0m\u001b[0mtrace\u001b[0m\u001b[0;34m(\u001b[0m\u001b[0msqrtm\u001b[0m\u001b[0;34m(\u001b[0m\u001b[0mnp\u001b[0m\u001b[0;34m.\u001b[0m\u001b[0mmatmul\u001b[0m\u001b[0;34m(\u001b[0m\u001b[0mnp\u001b[0m\u001b[0;34m.\u001b[0m\u001b[0mmatmul\u001b[0m\u001b[0;34m(\u001b[0m\u001b[0msqrtm\u001b[0m\u001b[0;34m(\u001b[0m\u001b[0mrho\u001b[0m\u001b[0;34m)\u001b[0m\u001b[0;34m,\u001b[0m \u001b[0msigma\u001b[0m\u001b[0;34m)\u001b[0m\u001b[0;34m,\u001b[0m \u001b[0msqrtm\u001b[0m\u001b[0;34m(\u001b[0m\u001b[0mrho\u001b[0m\u001b[0;34m)\u001b[0m\u001b[0;34m)\u001b[0m\u001b[0;34m)\u001b[0m\u001b[0;34m)\u001b[0m\u001b[0;34m)\u001b[0m \u001b[0;34m**\u001b[0m \u001b[0;36m2\u001b[0m\u001b[0;34m\u001b[0m\u001b[0;34m\u001b[0m\u001b[0m\n\u001b[0m\u001b[1;32m     47\u001b[0m \u001b[0;34m\u001b[0m\u001b[0m\n\u001b[1;32m     48\u001b[0m \u001b[0;34m\u001b[0m\u001b[0m\n",
      "\u001b[0;32m~/forest-qcvv/env/lib/python3.7/site-packages/scipy/linalg/_matfuncs_sqrtm.py\u001b[0m in \u001b[0;36msqrtm\u001b[0;34m(A, disp, blocksize)\u001b[0m\n\u001b[1;32m    161\u001b[0m \u001b[0;34m\u001b[0m\u001b[0m\n\u001b[1;32m    162\u001b[0m     \"\"\"\n\u001b[0;32m--> 163\u001b[0;31m     \u001b[0mA\u001b[0m \u001b[0;34m=\u001b[0m \u001b[0m_asarray_validated\u001b[0m\u001b[0;34m(\u001b[0m\u001b[0mA\u001b[0m\u001b[0;34m,\u001b[0m \u001b[0mcheck_finite\u001b[0m\u001b[0;34m=\u001b[0m\u001b[0;32mTrue\u001b[0m\u001b[0;34m,\u001b[0m \u001b[0mas_inexact\u001b[0m\u001b[0;34m=\u001b[0m\u001b[0;32mTrue\u001b[0m\u001b[0;34m)\u001b[0m\u001b[0;34m\u001b[0m\u001b[0;34m\u001b[0m\u001b[0m\n\u001b[0m\u001b[1;32m    164\u001b[0m     \u001b[0;32mif\u001b[0m \u001b[0mlen\u001b[0m\u001b[0;34m(\u001b[0m\u001b[0mA\u001b[0m\u001b[0;34m.\u001b[0m\u001b[0mshape\u001b[0m\u001b[0;34m)\u001b[0m \u001b[0;34m!=\u001b[0m \u001b[0;36m2\u001b[0m\u001b[0;34m:\u001b[0m\u001b[0;34m\u001b[0m\u001b[0;34m\u001b[0m\u001b[0m\n\u001b[1;32m    165\u001b[0m         \u001b[0;32mraise\u001b[0m \u001b[0mValueError\u001b[0m\u001b[0;34m(\u001b[0m\u001b[0;34m\"Non-matrix input to matrix function.\"\u001b[0m\u001b[0;34m)\u001b[0m\u001b[0;34m\u001b[0m\u001b[0;34m\u001b[0m\u001b[0m\n",
      "\u001b[0;32m~/forest-qcvv/env/lib/python3.7/site-packages/scipy/_lib/_util.py\u001b[0m in \u001b[0;36m_asarray_validated\u001b[0;34m(a, check_finite, sparse_ok, objects_ok, mask_ok, as_inexact)\u001b[0m\n\u001b[1;32m    236\u001b[0m             \u001b[0;32mraise\u001b[0m \u001b[0mValueError\u001b[0m\u001b[0;34m(\u001b[0m\u001b[0;34m'masked arrays are not supported'\u001b[0m\u001b[0;34m)\u001b[0m\u001b[0;34m\u001b[0m\u001b[0;34m\u001b[0m\u001b[0m\n\u001b[1;32m    237\u001b[0m     \u001b[0mtoarray\u001b[0m \u001b[0;34m=\u001b[0m \u001b[0mnp\u001b[0m\u001b[0;34m.\u001b[0m\u001b[0masarray_chkfinite\u001b[0m \u001b[0;32mif\u001b[0m \u001b[0mcheck_finite\u001b[0m \u001b[0;32melse\u001b[0m \u001b[0mnp\u001b[0m\u001b[0;34m.\u001b[0m\u001b[0masarray\u001b[0m\u001b[0;34m\u001b[0m\u001b[0;34m\u001b[0m\u001b[0m\n\u001b[0;32m--> 238\u001b[0;31m     \u001b[0ma\u001b[0m \u001b[0;34m=\u001b[0m \u001b[0mtoarray\u001b[0m\u001b[0;34m(\u001b[0m\u001b[0ma\u001b[0m\u001b[0;34m)\u001b[0m\u001b[0;34m\u001b[0m\u001b[0;34m\u001b[0m\u001b[0m\n\u001b[0m\u001b[1;32m    239\u001b[0m     \u001b[0;32mif\u001b[0m \u001b[0;32mnot\u001b[0m \u001b[0mobjects_ok\u001b[0m\u001b[0;34m:\u001b[0m\u001b[0;34m\u001b[0m\u001b[0;34m\u001b[0m\u001b[0m\n\u001b[1;32m    240\u001b[0m         \u001b[0;32mif\u001b[0m \u001b[0ma\u001b[0m\u001b[0;34m.\u001b[0m\u001b[0mdtype\u001b[0m \u001b[0;32mis\u001b[0m \u001b[0mnp\u001b[0m\u001b[0;34m.\u001b[0m\u001b[0mdtype\u001b[0m\u001b[0;34m(\u001b[0m\u001b[0;34m'O'\u001b[0m\u001b[0;34m)\u001b[0m\u001b[0;34m:\u001b[0m\u001b[0;34m\u001b[0m\u001b[0;34m\u001b[0m\u001b[0m\n",
      "\u001b[0;32m~/forest-qcvv/env/lib/python3.7/site-packages/numpy/lib/function_base.py\u001b[0m in \u001b[0;36masarray_chkfinite\u001b[0;34m(a, dtype, order)\u001b[0m\n\u001b[1;32m    459\u001b[0m     \u001b[0;32mif\u001b[0m \u001b[0ma\u001b[0m\u001b[0;34m.\u001b[0m\u001b[0mdtype\u001b[0m\u001b[0;34m.\u001b[0m\u001b[0mchar\u001b[0m \u001b[0;32min\u001b[0m \u001b[0mtypecodes\u001b[0m\u001b[0;34m[\u001b[0m\u001b[0;34m'AllFloat'\u001b[0m\u001b[0;34m]\u001b[0m \u001b[0;32mand\u001b[0m \u001b[0;32mnot\u001b[0m \u001b[0mnp\u001b[0m\u001b[0;34m.\u001b[0m\u001b[0misfinite\u001b[0m\u001b[0;34m(\u001b[0m\u001b[0ma\u001b[0m\u001b[0;34m)\u001b[0m\u001b[0;34m.\u001b[0m\u001b[0mall\u001b[0m\u001b[0;34m(\u001b[0m\u001b[0;34m)\u001b[0m\u001b[0;34m:\u001b[0m\u001b[0;34m\u001b[0m\u001b[0;34m\u001b[0m\u001b[0m\n\u001b[1;32m    460\u001b[0m         raise ValueError(\n\u001b[0;32m--> 461\u001b[0;31m             \"array must not contain infs or NaNs\")\n\u001b[0m\u001b[1;32m    462\u001b[0m     \u001b[0;32mreturn\u001b[0m \u001b[0ma\u001b[0m\u001b[0;34m\u001b[0m\u001b[0;34m\u001b[0m\u001b[0m\n\u001b[1;32m    463\u001b[0m \u001b[0;34m\u001b[0m\u001b[0m\n",
      "\u001b[0;31mValueError\u001b[0m: array must not contain infs or NaNs"
     ]
    }
   ],
   "source": [
    "mle_est = estimate_variance(data, my_mle_estimator, dm.fidelity, target_state=rho_true, n_resamples=40, project_to_physical=True)\n",
    "lin_inv_est = estimate_variance(data, linear_inv_state_estimate, dm.fidelity, target_state=rho_true, n_resamples=40, project_to_physical=True)\n",
    "print(mle_est)\n",
    "print(lin_inv_est)"
   ]
  }
 ],
 "metadata": {
  "kernelspec": {
   "display_name": "Python 3",
   "language": "python",
   "name": "python3"
  },
  "language_info": {
   "codemirror_mode": {
    "name": "ipython",
    "version": 3
   },
   "file_extension": ".py",
   "mimetype": "text/x-python",
   "name": "python",
   "nbconvert_exporter": "python",
   "pygments_lexer": "ipython3",
   "version": "3.7.1"
  }
 },
 "nbformat": 4,
 "nbformat_minor": 2
}
