{
 "cells": [
  {
   "cell_type": "markdown",
   "metadata": {},
   "source": [
    "# CZ Ramsey measurement example\n",
    "\n",
    "Similar to a $T_2^*$ Ramsey experiment, a CZ Ramsey experiment measures fringes resulting from induced Z rotations, which can result in non-unitary CZs. To rectify this non-unitarity, we determine the correction we need to apply to each qubit in the form of `RZ` rotations. If a CZ is perfectly unitary (or has been compensated for adequately with `RZ` pulses), a CZ Ramsey experiment should return 0 radians for each qubit. If, however, some correction is required, these angles will be non-zero. \n",
    "\n",
    "A sample QUIL program at one data point (specified by the equatorial Z rotation which maximizes excited state visibility when equal to the required `RZ` correction) between qubits 0 and 1 would look like \n",
    "\n",
    "    DECLARE ro BIT[1]\n",
    "    DECLARE theta REAL[1]\n",
    "    RX(pi/2) 0\n",
    "    CZ 0 1\n",
    "    RZ(theta) 0\n",
    "    RX(pi/2) 0\n",
    "    MEASURE 0 ro[0]\n",
    "    \n",
    "Since we can natively parameterize `RZ` rotations continuously on our hardware, we are able to make use of [Quil 2.0's parametric program compilation](https://pyquil.readthedocs.io/en/stable/migration3-declare.html?highlight=parametric%20program%20compilation#Parametric-compilation) using `DECLARE theta REAL[1]` and `RZ(theta) 0`. "
   ]
  },
  {
   "cell_type": "markdown",
   "metadata": {},
   "source": [
    "## setup"
   ]
  },
  {
   "cell_type": "code",
   "execution_count": null,
   "metadata": {},
   "outputs": [],
   "source": [
    "from typing import Tuple\n",
    "\n",
    "from matplotlib import pyplot as plt\n",
    "import numpy as np\n",
    "import pandas as pd\n",
    "\n",
    "from pyquil.api import get_qc, QuantumComputer\n",
    "from forest_benchmarking.qubit_spectroscopy import (\n",
    "    fit_to_sinusoidal_waveform,\n",
    "    get_peak_from_fit_params,\n",
    "    run_cz_phase_ramsey,\n",
    "    sinusoidal_waveform)"
   ]
  },
  {
   "cell_type": "markdown",
   "metadata": {},
   "source": [
    "## measurement, analysis, and plotting\n",
    "\n",
    "This method takes in a `pandas.DataFrame` object with all the CZ Ramsey data, including the phases and qubits measured, and plots the CZ Ramsey fringes of each qubit with respect to increasing applied contrast phase. It fits to a sinusoid, evaluates the phases at which excited state visibility is maximized for each qubit, $\\theta_0$ and $\\theta_1$, and plots a vertical line at these maximum excited state visibility points over the experimental data. "
   ]
  },
  {
   "cell_type": "code",
   "execution_count": null,
   "metadata": {},
   "outputs": [],
   "source": [
    "def plot_cz_phase_ramsey_fringes(df: pd.DataFrame) -> Tuple[np.ndarray, np.ndarray]:\n",
    "    \"\"\"\n",
    "    Plot Ramsey experimental data, the fitted sinusoid, and the maximum of that sinusoid.\n",
    "\n",
    "    :param df: Experimental results to plot and fit exponential decay curve to.\n",
    "    :return: None\n",
    "    \"\"\"\n",
    "    fig, axes = plt.subplots(1, 2, figsize=(12, 5))\n",
    "\n",
    "    qubits = df['qubit'].unique()\n",
    "    for idx, qubit in enumerate(qubits):\n",
    "        qubit_df = df[df['qubit'] == qubit].sort_values('phase')\n",
    "        phases = qubit_df['phase']\n",
    "        excited_state_visibilities = qubit_df['avg']\n",
    "\n",
    "        # plot raw data\n",
    "        axes[idx].plot(phases, excited_state_visibilities, 'o', label=f\"QC{qubit} CZ Ramsey data\")\n",
    "\n",
    "        try:\n",
    "            # fit to sinusoid\n",
    "            fit_params, fit_params_errs = fit_to_sinusoidal_waveform(phases,\n",
    "                                                                     excited_state_visibilities)\n",
    "        except RuntimeError:\n",
    "            print(f\"Could not fit to experimental data for QC{qubit}\")\n",
    "        else:\n",
    "            # find max excited state visibility (ESV) and propagate error from fit params\n",
    "            max_ESV, max_ESV_err = get_peak_from_fit_params(fit_params, fit_params_errs)\n",
    "\n",
    "            # overlay fitted curve and vertical line at maximum ESV\n",
    "            axes[idx].plot(phases, sinusoidal_waveform(phases, *fit_params),\n",
    "                           label=f\"QC{qubit} fitted line\")\n",
    "            axes[idx].axvline(max_ESV,\n",
    "                              label=f\"QC{qubit} max ESV={max_ESV:.3f}+/-{max_ESV_err:.3f} rad\")\n",
    "\n",
    "        axes[idx].set_xlabel(\"Phase on second +X/2 pulse [rad]\")\n",
    "        axes[idx].set_ylabel(\"Excited State Visibility (ESV)\")\n",
    "        axes[idx].set_title(f\"CZ Phase Ramsey fringes on QC{qubit}\\n\"\n",
    "                            f\"due to CZ_{min(qubits)}_{max(qubits)} application\")\n",
    "        axes[idx].legend(loc='best')\n",
    "\n",
    "    plt.savefig('ramsey.png')\n",
    "    plt.show()\n",
    "\n",
    "    return fit_params, fit_params_errs"
   ]
  },
  {
   "cell_type": "code",
   "execution_count": null,
   "metadata": {},
   "outputs": [],
   "source": [
    "def main(qc: QuantumComputer):\n",
    "    qubits = qc.qubits()\n",
    "\n",
    "    start_phase = -1.5 * np.pi\n",
    "    stop_phase = 1.5 * np.pi\n",
    "    num_phases = 15\n",
    "    phases = np.linspace(start_phase, stop_phase, num_phases)\n",
    "\n",
    "    results = run_cz_phase_ramsey(qc, tuple(qubits[:2]),\n",
    "                                  start_phase, stop_phase, num_phases,\n",
    "                                  num_shots=1000, filename='ramsey.json')\n",
    "    plot_cz_phase_ramsey_fringes(results)"
   ]
  },
  {
   "cell_type": "code",
   "execution_count": null,
   "metadata": {},
   "outputs": [],
   "source": [
    "main(get_qc('9q-square-qvm'))"
   ]
  },
  {
   "cell_type": "code",
   "execution_count": null,
   "metadata": {},
   "outputs": [],
   "source": []
  }
 ],
 "metadata": {
  "language_info": {
   "name": "python",
   "pygments_lexer": "ipython3"
  }
 },
 "nbformat": 4,
 "nbformat_minor": 2
}
