{
 "cells": [
  {
   "cell_type": "markdown",
   "metadata": {},
   "source": [
    "# Quantum Volume\n",
    "\n",
    "The quantum volume is a holistic quantum computer performance measure [QVOL0, QVOL1, QVOL2].\n",
    "\n",
    "\n",
    "Roughly the logarithm (base 2) of quantum volume $V_Q$, quantifies the largest random circuit of equal width and depth that the computer successfully implements and is certifiably quantum.\n",
    "\n",
    "So if you have 64 qubits and the best log-QV you have measured is $\\log_2V_Q = 3$ then effectively you only have a 3 qubit device!\n",
    "\n",
    "\n",
    "\n",
    "The quantum volume metric accounts for all relevant hardware parameters, e.g.\n",
    "* coherence\n",
    "* calibration errors\n",
    "* crosstalk \n",
    "* spectator errors\n",
    "* gate fidelity, measurement fidelity, initialization fidelity\n",
    "* qubit connectivity \n",
    "* gate set"
   ]
  },
  {
   "cell_type": "markdown",
   "metadata": {},
   "source": [
    "### Some details\n",
    "\n",
    "A circuit that measures the quantum volume consists of layers of  a permutations of $n$ qubits followed by nearest neighbor two qubit Haar random unitaries. At the end we measure in the computational basis. See Figure 1.\n",
    "\n",
    "<figure>\n",
    "  <img src=\"figs/q-vol-from-arxiv-paper.png\" alt=\"Drawing\" style=\"width: 350px;\"/>\n",
    "  <figcaption>\n",
    "      Figure 1. from <a href=\"https://arxiv.org/abs/1811.12926\">Cross et al. [QVOL0]</a>.\n",
    "      A circuit to measure the quantum volume consists of a permuation gate on $n$ qubits denoted by $\\pi$ in the above figure. The gate ${\\rm SU}(4)$ denotes are two qubit gate drawn from the Haar measure on the <a href=\"https://en.wikipedia.org/wiki/Special_unitary_group\">special unitary group of degree 4</a>.\n",
    "  </figcaption>\n",
    "</figure>\n",
    "\n",
    "The certification of quantumness comes from the so called **Heavy Output Generation** problem and the **Quantum Threshold Assumption** see [HOG] for more details.\n"
   ]
  },
  {
   "cell_type": "markdown",
   "metadata": {},
   "source": [
    "    [QVOL0] Validating quantum computers using randomized model circuits\n",
    "            Cross et al.\n",
    "            arXiv:1811.12926 (2018)\n",
    "            https://arxiv.org/abs/1811.12926\n",
    "\n",
    "    [QVOL1] Quantum optimization using variational algorithms on near-term quantum devices\n",
    "            Moll et al.\n",
    "            Quantum Science and Technology 3, Number 3 2018\n",
    "            https://doi.org/10.1088/2058-9565/aab822\n",
    "            https://arxiv.org/abs/1710.01022\n",
    "\n",
    "    [QVOL2] Quantum Volume\n",
    "            Bishop et al.\n",
    "            (2017)\n",
    "            https://ibm.co/2NdyRvf\n",
    "        \n",
    "    [HOG] Complexity-Theoretic Foundations of Quantum Supremacy Experiments\n",
    "          Aaronson and Chen\n",
    "          32nd Computational Complexity Conference, vol 79 (CCC 2017)\n",
    "          https://doi.org/10.4230/LIPIcs.CCC.2017.22\n",
    "          https://arxiv.org/abs/1612.05903"
   ]
  },
  {
   "cell_type": "markdown",
   "metadata": {},
   "source": [
    "### Some imports"
   ]
  },
  {
   "cell_type": "code",
   "execution_count": 1,
   "metadata": {},
   "outputs": [],
   "source": [
    "import numpy as np\n",
    "import networkx as nx\n",
    "import matplotlib.pyplot as plt\n",
    "%matplotlib inline\n",
    "\n",
    "import logging\n",
    "logger = logging.getLogger()\n",
    "logger.setLevel(logging.INFO)\n",
    "show_progress_bar = True"
   ]
  },
  {
   "cell_type": "markdown",
   "metadata": {},
   "source": [
    "### Get noisy and ideal QVM"
   ]
  },
  {
   "cell_type": "code",
   "execution_count": 2,
   "metadata": {},
   "outputs": [],
   "source": [
    "from pyquil.api import get_qc"
   ]
  },
  {
   "cell_type": "code",
   "execution_count": 3,
   "metadata": {},
   "outputs": [
    {
     "name": "stdout",
     "output_type": "stream",
     "text": [
      "The qubits we will run on are [0, 1, 2, 3]\n"
     ]
    },
    {
     "name": "stderr",
     "output_type": "stream",
     "text": [
      "/anaconda3/lib/python3.7/site-packages/networkx/drawing/nx_pylab.py:611: MatplotlibDeprecationWarning: isinstance(..., numbers.Number)\n",
      "  if cb.is_numlike(alpha):\n"
     ]
    },
    {
     "data": {
      "image/png": "[encoded data removed]",
      "text/plain": [
       "<Figure size 432x288 with 1 Axes>"
      ]
     },
     "metadata": {},
     "output_type": "display_data"
    }
   ],
   "source": [
    "ideal_qc = get_qc('4q-qvm', noisy=False)\n",
    "noisy_qc = get_qc(\"4q-noisy-qvm\", noisy=True)\n",
    "\n",
    "qubits = ideal_qc.qubits()\n",
    "print('The qubits we will run on are', qubits)\n",
    "graph = ideal_qc.qubit_topology()\n",
    "nx.draw(graph, with_labels=True)"
   ]
  },
  {
   "cell_type": "markdown",
   "metadata": {},
   "source": [
    "## Measure the Quantum volume\n",
    "\n",
    "Here we will replicate Figure 2. of [QVOL0].\n",
    "\n",
    "\n",
    "### Start with noiseless QVM\n",
    "\n",
    "Caution, this is SLOW--it takes about 4 minutes."
   ]
  },
  {
   "cell_type": "code",
   "execution_count": 4,
   "metadata": {},
   "outputs": [],
   "source": [
    "from forest.benchmarking.quantum_volume import measure_quantum_volume"
   ]
  },
  {
   "cell_type": "code",
   "execution_count": 5,
   "metadata": {},
   "outputs": [
    {
     "name": "stderr",
     "output_type": "stream",
     "text": [
      "100%|██████████| 200/200 [00:43<00:00,  4.25it/s]\n",
      "100%|██████████| 200/200 [01:19<00:00,  2.52it/s]\n",
      "100%|██████████| 200/200 [03:42<00:00,  1.08s/it]\n"
     ]
    }
   ],
   "source": [
    "ideal_outcomes = measure_quantum_volume(ideal_qc, num_circuits=200, show_progress_bar=show_progress_bar)"
   ]
  },
  {
   "cell_type": "markdown",
   "metadata": {},
   "source": [
    "## Now use a noisy QVM\n",
    "\n",
    "This is SLOW--it takes about 5 minutes, even with half the number of shots from above."
   ]
  },
  {
   "cell_type": "code",
   "execution_count": 6,
   "metadata": {},
   "outputs": [
    {
     "name": "stderr",
     "output_type": "stream",
     "text": [
      "100%|██████████| 200/200 [00:46<00:00,  4.24it/s]\n",
      "100%|██████████| 200/200 [01:15<00:00,  2.50it/s]\n",
      "100%|██████████| 200/200 [03:21<00:00,  1.01it/s]\n"
     ]
    }
   ],
   "source": [
    "noisy_outcomes = measure_quantum_volume(noisy_qc, num_circuits=200, num_shots=500, show_progress_bar=show_progress_bar)"
   ]
  },
  {
   "cell_type": "code",
   "execution_count": 7,
   "metadata": {},
   "outputs": [
    {
     "data": {
      "image/png": "[encoded data removed]",
      "text/plain": [
       "<Figure size 432x288 with 1 Axes>"
      ]
     },
     "metadata": {
      "needs_background": "light"
     },
     "output_type": "display_data"
    }
   ],
   "source": [
    "depths = np.arange(2, 5)\n",
    "ideal_probs = [ideal_outcomes[depth][0] if depth in ideal_outcomes.keys() else 0 for depth in depths]\n",
    "noisy_probs = [noisy_outcomes[depth][0] if depth in noisy_outcomes.keys() else 0 for depth in depths]\n",
    "\n",
    "plt.axhline(.5 + np.log(2)/2, color='b', ls='--', label='ideal asymptote')\n",
    "plt.axhline(2/3, color='black', ls=':', label='achievable threshold')\n",
    "plt.scatter(np.array(depths) - .1, ideal_probs, color='b', label='ideal simulation')\n",
    "plt.scatter(depths, noisy_probs, color='r', label='noisy simulation')\n",
    "plt.ylabel(\"est. heavy output probability h_d\")\n",
    "plt.xlabel(\"width/depth of model circuit m=d\")\n",
    "plt.ylim(.4,1.0)\n",
    "plt.xlim(1.8, 4.2)\n",
    "plt.xticks(depths)\n",
    "plt.legend(loc='lower left')\n",
    "plt.show()"
   ]
  },
  {
   "cell_type": "markdown",
   "metadata": {},
   "source": [
    "## A QVM example with different topologies\n",
    "\n",
    "As explained in the references [QVOL0, QVOL1, QVOL2] the quantum volume is topology (or qubit conectivity) dependent. Here we show how to explore that dependence on the QVM."
   ]
  },
  {
   "cell_type": "code",
   "execution_count": 8,
   "metadata": {},
   "outputs": [],
   "source": [
    "n = 4\n",
    "path_graph = nx.path_graph(n)\n",
    "loop_graph = nx.cycle_graph(n)\n",
    "four_pointed_star = nx.star_graph(n)"
   ]
  },
  {
   "cell_type": "code",
   "execution_count": 9,
   "metadata": {},
   "outputs": [
    {
     "name": "stderr",
     "output_type": "stream",
     "text": [
      "/anaconda3/lib/python3.7/site-packages/networkx/drawing/nx_pylab.py:611: MatplotlibDeprecationWarning: isinstance(..., numbers.Number)\n",
      "  if cb.is_numlike(alpha):\n"
     ]
    },
    {
     "data": {
      "image/png": "[encoded data removed]",
      "text/plain": [
       "<Figure size 432x288 with 1 Axes>"
      ]
     },
     "metadata": {},
     "output_type": "display_data"
    }
   ],
   "source": [
    "nx.draw(path_graph, with_labels=True)"
   ]
  },
  {
   "cell_type": "code",
   "execution_count": 10,
   "metadata": {},
   "outputs": [
    {
     "data": {
      "image/png": "[encoded data removed]",
      "text/plain": [
       "<Figure size 432x288 with 1 Axes>"
      ]
     },
     "metadata": {},
     "output_type": "display_data"
    }
   ],
   "source": [
    "nx.draw(loop_graph, with_labels=True)"
   ]
  },
  {
   "cell_type": "code",
   "execution_count": 11,
   "metadata": {},
   "outputs": [
    {
     "data": {
      "image/png": "[encoded data removed]",
      "text/plain": [
       "<Figure size 432x288 with 1 Axes>"
      ]
     },
     "metadata": {},
     "output_type": "display_data"
    }
   ],
   "source": [
    "nx.draw(four_pointed_star, with_labels=True)"
   ]
  },
  {
   "cell_type": "code",
   "execution_count": 12,
   "metadata": {},
   "outputs": [],
   "source": [
    "from pyquil.api._quantum_computer import _get_qvm_with_topology\n",
    "path_qc = _get_qvm_with_topology(name='path', topology=path_graph, noisy=True)"
   ]
  },
  {
   "cell_type": "code",
   "execution_count": 13,
   "metadata": {},
   "outputs": [
    {
     "name": "stderr",
     "output_type": "stream",
     "text": [
      "100%|██████████| 200/200 [00:42<00:00,  4.81it/s]\n",
      "100%|██████████| 200/200 [01:21<00:00,  2.81it/s]\n",
      "100%|██████████| 200/200 [03:53<00:00,  1.18s/it]\n"
     ]
    }
   ],
   "source": [
    "path_outcomes = measure_quantum_volume(path_qc, num_circuits=200, num_shots=500, show_progress_bar=show_progress_bar)"
   ]
  },
  {
   "cell_type": "markdown",
   "metadata": {},
   "source": [
    "### Compare to noisy complete topology"
   ]
  },
  {
   "cell_type": "code",
   "execution_count": 14,
   "metadata": {},
   "outputs": [
    {
     "data": {
      "image/png": "[encoded data removed]",
      "text/plain": [
       "<Figure size 432x288 with 1 Axes>"
      ]
     },
     "metadata": {
      "needs_background": "light"
     },
     "output_type": "display_data"
    }
   ],
   "source": [
    "depths = np.arange(2, 5)\n",
    "ideal_probs = [ideal_outcomes[depth][0] if depth in ideal_outcomes.keys() else 0 for depth in depths]\n",
    "noisy_probs = [noisy_outcomes[depth][0] if depth in noisy_outcomes.keys() else 0 for depth in depths]\n",
    "path_probs = [path_outcomes[depth][0] if depth in path_outcomes.keys() else 0 for depth in depths]\n",
    "\n",
    "plt.axhline(.5 + np.log(2)/2, color='b', ls='--', label='ideal asymptote')\n",
    "plt.axhline(2/3, color='grey', ls=':', label='achievable threshold')\n",
    "plt.scatter(np.asarray(depths) - .1, ideal_probs, color='b', label='ideal simulation')\n",
    "plt.scatter(depths, noisy_probs, color='r', label='noisy complete simulation')\n",
    "plt.scatter(np.asarray(depths) + .1, path_probs, color='black', label='noisy path simulation')\n",
    "plt.ylabel(\"est. heavy output probability h_d\")\n",
    "plt.xlabel(\"width/depth of model circuit m=d\")\n",
    "plt.ylim(.4,1.0)\n",
    "plt.xlim(1.8, 4.2)\n",
    "plt.xticks(depths)\n",
    "plt.legend(loc='lower left')\n",
    "plt.show()"
   ]
  },
  {
   "cell_type": "markdown",
   "metadata": {},
   "source": [
    "## Run intermediate steps yourself"
   ]
  },
  {
   "cell_type": "code",
   "execution_count": 15,
   "metadata": {},
   "outputs": [],
   "source": [
    "from forest.benchmarking.quantum_volume import generate_abstract_qv_circuit, _naive_program_generator, collect_heavy_outputs\n",
    "from pyquil.numpy_simulator import NumpyWavefunctionSimulator\n",
    "from pyquil.gates import RESET\n",
    "import time\n",
    "\n",
    "def generate_circuits(depths):\n",
    "    for d in depths:\n",
    "        yield generate_abstract_qv_circuit(d)\n",
    "\n",
    "def convert_ckts_to_programs(qc, circuits, qubits=None):\n",
    "    for idx, ckt in enumerate(circuits):\n",
    "        if qubits is None:\n",
    "            d_qubits = qc.qubits()  # by default the program can act on any qubit in the computer\n",
    "        else:\n",
    "            d_qubits = qubits[idx]\n",
    "\n",
    "        yield _naive_program_generator(qc, d_qubits, *ckt)\n",
    "\n",
    "\n",
    "def acquire_quantum_volume_data(qc, programs, num_shots = 1000, use_active_reset = False):\n",
    "    for program in programs:\n",
    "        start = time.time()\n",
    "\n",
    "        if use_active_reset:\n",
    "            reset_measure_program = Program(RESET())\n",
    "            program = reset_measure_program + program\n",
    "\n",
    "        # run the program num_shots many times\n",
    "        program.wrap_in_numshots_loop(num_shots)\n",
    "        executable = qc.compiler.native_quil_to_executable(program)\n",
    "\n",
    "        results = qc.run(executable)\n",
    "\n",
    "        runtime = time.time() - start\n",
    "        yield results\n",
    "\n",
    "\n",
    "def acquire_heavy_hitters(abstract_circuits):\n",
    "    for ckt in abstract_circuits:\n",
    "        perms, gates = ckt\n",
    "        depth = len(perms)\n",
    "        wfn_sim = NumpyWavefunctionSimulator(depth)\n",
    "\n",
    "        start = time.time()\n",
    "        heavy_outputs = collect_heavy_outputs(wfn_sim, perms, gates)\n",
    "        runtime = time.time() - start\n",
    "\n",
    "        yield heavy_outputs\n"
   ]
  },
  {
   "cell_type": "markdown",
   "metadata": {},
   "source": [
    "Generate (len(unique_depths) x n_circuits) many \"Abstract Ckt\"s that describe each model circuit for each depth."
   ]
  },
  {
   "cell_type": "code",
   "execution_count": 16,
   "metadata": {},
   "outputs": [
    {
     "name": "stdout",
     "output_type": "stream",
     "text": [
      "([array([0, 1]), array([0, 1])], array([[[[-0.55144177-0.26647286j,  0.25608208-0.41848682j,\n",
      "           0.55437382+0.11126989j, -0.24805162+0.05435086j],\n",
      "         [ 0.41850421-0.03852132j, -0.53379603-0.51061081j,\n",
      "           0.26404218+0.40033292j,  0.15801984-0.15084347j],\n",
      "         [-0.40802791+0.31687703j,  0.01503824+0.24504135j,\n",
      "           0.17852483+0.25917974j,  0.57633624-0.49155065j],\n",
      "         [-0.37207091-0.20721954j, -0.28645198-0.26702623j,\n",
      "          -0.59009825-0.05516123j, -0.24902407-0.5019899j ]]],\n",
      "\n",
      "\n",
      "       [[[ 0.0721541 +0.2574555j ,  0.44139907+0.09559298j,\n",
      "           0.32209343+0.1954255j , -0.75505192-0.11180601j],\n",
      "         [-0.04215926+0.38005476j, -0.80331064+0.15558321j,\n",
      "           0.12962856+0.19247929j, -0.25682973+0.25387694j],\n",
      "         [ 0.41663853+0.49404772j, -0.10656293-0.23819313j,\n",
      "           0.2316722 -0.47365229j,  0.16001332-0.45892787j],\n",
      "         [-0.52792383+0.29311608j,  0.09861876+0.22067494j,\n",
      "          -0.34666698-0.63719413j, -0.19454456+0.11364139j]]]]))\n"
     ]
    }
   ],
   "source": [
    "n_circuits = 100\n",
    "unique_depths = [2,3]\n",
    "depths = [d for d in unique_depths for _ in range(n_circuits)]\n",
    "ckts = list(generate_circuits(depths))\n",
    "print(ckts[0])"
   ]
  },
  {
   "cell_type": "markdown",
   "metadata": {},
   "source": [
    "Use the _naive_program_generator to synthesize native pyquil programs that implement each ckt natively on the qc."
   ]
  },
  {
   "cell_type": "code",
   "execution_count": 17,
   "metadata": {},
   "outputs": [
    {
     "name": "stdout",
     "output_type": "stream",
     "text": [
      "DEFGATE LYR0_RAND0:\n",
      "    -0.5514417662847406-0.26647286492053557i, 0.2560820842110857-0.41848681651537906i, 0.5543738175381981+0.1112698861629722i, -0.24805162392092533+0.054350859591478944i\n",
      "    0.4185042068735709-0.03852132265800101i, -0.5337960273567897-0.5106108058052399i, 0.2640421819713798+0.4003329203692477i, 0.15801984183607665-0.15084346620705238i\n",
      "    -0.408027909392624+0.31687703157097785i, 0.015038238995869325+0.24504135402018049i, 0.17852483272191516+0.2591797410324012i, 0.576336243741776-0.49155064672617377i\n",
      "    -0.3720709110190956-0.20721953667663526i, -0.2864519762799716-0.2670262312865932i, -0.5900982511275752-0.0551612348120724i, -0.2490240699384845-0.5019899029508219i\n",
      "\n",
      "DEFGATE LYR1_RAND0:\n",
      "    0.07215410056104908+0.2574554986668327i, 0.4413990745932045+0.09559298457773703i, 0.3220934299476927+0.1954255019946097i, -0.7550519199163047-0.11180601062380173i\n",
      "    -0.042159261292436585+0.3800547644756522i, -0.8033106407885078+0.1555832106222027i, 0.12962856172382972+0.1924792878027942i, -0.25682973276907545+0.2538769382460382i\n",
      "    0.4166385333961749+0.4940477239306871i, -0.10656292914861569-0.23819313401134873i, 0.23167220332396365-0.4736522889207964i, 0.16001331852989328-0.4589278693974383i\n",
      "    -0.5279238273136544+0.29311607971581133i, 0.09861875864941838+0.2206749435250735i, -0.3466669757393113-0.6371941326204252i, -0.19454456276883078+0.11364138547262737i\n",
      "\n",
      "DECLARE ro BIT[2]\n",
      "RZ(2.0898316269517103) 0\n",
      "RX(pi/2) 0\n",
      "RZ(0.2148303072673171) 0\n",
      "RX(-pi/2) 0\n",
      "RZ(-0.23883646690441696) 1\n",
      "RX(pi/2) 1\n",
      "RZ(1.8782549380583435) 1\n",
      "RX(-pi/2) 1\n",
      "CZ 1 0\n",
      "RZ(1.2447911525773303) 0\n",
      "RX(pi/2) 0\n",
      "RZ(2.285972486228134) 0\n",
      "RX(-pi/2) 0\n",
      "RZ(-0.35540275892105777) 1\n",
      "RX(-pi/2) 1\n",
      "CZ 1 0\n",
      "RX(pi/2) 0\n",
      "RZ(-1.6322712380600009) 0\n",
      "RX(-pi/2) 0\n",
      "RZ(1.3075866603938913) 1\n",
      "RX(pi/2) 1\n",
      "CZ 1 0\n",
      "RZ(1.3229164049932685) 1\n",
      "RX(pi/2) 1\n",
      "RZ(1.6990043194770588) 1\n",
      "RX(-pi/2) 1\n",
      "RZ(-0.16226001867169515) 1\n",
      "MEASURE 1 ro[1]\n",
      "RZ(-1.9258675572360893) 0\n",
      "RX(pi/2) 0\n",
      "RZ(1.7031448860980343) 0\n",
      "RX(-pi/2) 0\n",
      "RZ(1.2850615639649021) 0\n",
      "MEASURE 0 ro[0]\n",
      "HALT\n",
      "\n"
     ]
    }
   ],
   "source": [
    "progs = list(convert_ckts_to_programs(noisy_qc, ckts))\n",
    "print(progs[0])"
   ]
  },
  {
   "cell_type": "markdown",
   "metadata": {},
   "source": [
    "Run the programs. This can be slow."
   ]
  },
  {
   "cell_type": "code",
   "execution_count": 18,
   "metadata": {},
   "outputs": [],
   "source": [
    "num_shots=10\n",
    "results = list(acquire_quantum_volume_data(noisy_qc, progs, num_shots=num_shots))"
   ]
  },
  {
   "cell_type": "markdown",
   "metadata": {},
   "source": [
    "Classically simulate the circuits to get heavy hitters, and record how many hh were sampled for each program run."
   ]
  },
  {
   "cell_type": "code",
   "execution_count": 19,
   "metadata": {},
   "outputs": [],
   "source": [
    "ckt_hhs = acquire_heavy_hitters(ckts)"
   ]
  },
  {
   "cell_type": "markdown",
   "metadata": {},
   "source": [
    "Count the number of heavy hitters that were sampled on the qc"
   ]
  },
  {
   "cell_type": "code",
   "execution_count": 20,
   "metadata": {},
   "outputs": [],
   "source": [
    "from forest.benchmarking.quantum_volume import count_heavy_hitters_sampled\n",
    "num_hh_sampled = count_heavy_hitters_sampled(results, ckt_hhs)"
   ]
  },
  {
   "cell_type": "markdown",
   "metadata": {},
   "source": [
    "Get estimates of the probability of sampling hh at each depth, and the lowerbound on that estimate"
   ]
  },
  {
   "cell_type": "code",
   "execution_count": 21,
   "metadata": {},
   "outputs": [
    {
     "data": {
      "text/plain": [
       "{2: (0.721, 0.6312984949959032), 3: (0.774, 0.6903521667943515)}"
      ]
     },
     "execution_count": 21,
     "metadata": {},
     "output_type": "execute_result"
    }
   ],
   "source": [
    "from forest.benchmarking.quantum_volume import get_prob_sample_heavy_by_depth\n",
    "\n",
    "results = get_prob_sample_heavy_by_depth(depths, num_hh_sampled, [num_shots for _ in depths])\n",
    "results"
   ]
  },
  {
   "cell_type": "markdown",
   "metadata": {},
   "source": [
    "Use the results to get a lower bound on the quantum volume"
   ]
  },
  {
   "cell_type": "code",
   "execution_count": 22,
   "metadata": {},
   "outputs": [
    {
     "data": {
      "text/plain": [
       "2"
      ]
     },
     "execution_count": 22,
     "metadata": {},
     "output_type": "execute_result"
    }
   ],
   "source": [
    "from forest.benchmarking.quantum_volume import extract_quantum_volume_from_results\n",
    "qv = extract_quantum_volume_from_results(results)\n",
    "qv"
   ]
  },
  {
   "cell_type": "code",
   "execution_count": null,
   "metadata": {},
   "outputs": [],
   "source": []
  }
 ],
 "metadata": {
  "kernelspec": {
   "display_name": "Python 3",
   "language": "python",
   "name": "python3"
  },
  "language_info": {
   "codemirror_mode": {
    "name": "ipython",
    "version": 3
   },
   "file_extension": ".py",
   "mimetype": "text/x-python",
   "name": "python",
   "nbconvert_exporter": "python",
   "pygments_lexer": "ipython3",
   "version": "3.7.3"
  }
 },
 "nbformat": 4,
 "nbformat_minor": 4
}
