{
 "cells": [
  {
   "cell_type": "code",
   "execution_count": null,
   "metadata": {},
   "outputs": [],
   "source": [
    "import numpy as np\n",
    "import networkx as nx\n",
    "import matplotlib.pyplot as plt\n",
    "%matplotlib inline\n",
    "\n",
    "from pyquil.api import get_qc\n",
    "\n",
    "ideal_qc = get_qc('4q-qvm', noisy=False)\n",
    "noisy_qc = get_qc(\"4q-noisy-qvm\", noisy=True)\n",
    "\n",
    "qubits = ideal_qc.qubits()\n",
    "print(qubits)\n",
    "graph = ideal_qc.qubit_topology()\n",
    "nx.draw_networkx(graph, with_labels=True)"
   ]
  },
  {
   "cell_type": "markdown",
   "metadata": {},
   "source": [
    "## Import and setup logging for info on progress."
   ]
  },
  {
   "cell_type": "code",
   "execution_count": null,
   "metadata": {},
   "outputs": [],
   "source": [
    "from forest_benchmarking.quantum_volume import measure_quantum_volume\n",
    "\n",
    "import logging\n",
    "logger = logging.getLogger()\n",
    "logger.setLevel(logging.INFO)\n",
    "show_progress_bar = True"
   ]
  },
  {
   "cell_type": "markdown",
   "metadata": {},
   "source": [
    "## Replicate FIG2. of [QVol]  (See forest_qcvv.quantum_volume for ref)"
   ]
  },
  {
   "cell_type": "markdown",
   "metadata": {},
   "source": [
    "This is SLOW--it takes about 4 minutes."
   ]
  },
  {
   "cell_type": "code",
   "execution_count": null,
   "metadata": {},
   "outputs": [],
   "source": [
    "ideal_outcomes = measure_quantum_volume(ideal_qc, num_circuits=200, show_progress_bar=show_progress_bar)"
   ]
  },
  {
   "cell_type": "markdown",
   "metadata": {},
   "source": [
    "## Now with noise"
   ]
  },
  {
   "cell_type": "markdown",
   "metadata": {},
   "source": [
    "This is SLOW--it takes about 5 minutes, even with half the number of shots from above."
   ]
  },
  {
   "cell_type": "code",
   "execution_count": null,
   "metadata": {},
   "outputs": [],
   "source": [
    "noisy_outcomes = measure_quantum_volume(noisy_qc, num_circuits=200, num_shots=500, show_progress_bar=show_progress_bar)"
   ]
  },
  {
   "cell_type": "code",
   "execution_count": null,
   "metadata": {},
   "outputs": [],
   "source": [
    "depths = np.arange(2, 5)\n",
    "ideal_probs = [val[1] for val in ideal_outcomes]\n",
    "noisy_probs = [val[1] for val in noisy_outcomes]\n",
    "\n",
    "plt.axhline(.5 + np.log(2)/2, color='b', ls='--', label='ideal asymptote')\n",
    "plt.axhline(2/3, color='black', ls=':', label='achievable threshold')\n",
    "plt.scatter(np.array(depths) - .1, ideal_probs, color='b', label='ideal simulation')\n",
    "plt.scatter(depths, noisy_probs, color='r', label='noisy simulation')\n",
    "plt.ylabel(\"est. heavy output probability h_d\")\n",
    "plt.xlabel(\"width/depth of model circuit m=d\")\n",
    "plt.ylim(.4,1.0)\n",
    "plt.xlim(1.8, 4.2)\n",
    "plt.xticks(depths)\n",
    "plt.legend(loc='lower left')\n",
    "plt.show()"
   ]
  },
  {
   "cell_type": "markdown",
   "metadata": {},
   "source": [
    "## Try a different topology"
   ]
  },
  {
   "cell_type": "code",
   "execution_count": null,
   "metadata": {},
   "outputs": [],
   "source": [
    "n = 4\n",
    "path_graph = nx.path_graph(n)\n",
    "loop_graph = nx.cycle_graph(n)\n",
    "four_pointed_star = nx.star_graph(n)"
   ]
  },
  {
   "cell_type": "code",
   "execution_count": null,
   "metadata": {},
   "outputs": [],
   "source": [
    "nx.draw_networkx(path_graph, with_labels=True)"
   ]
  },
  {
   "cell_type": "code",
   "execution_count": null,
   "metadata": {},
   "outputs": [],
   "source": [
    "nx.draw_networkx(loop_graph, with_labels=True)"
   ]
  },
  {
   "cell_type": "code",
   "execution_count": null,
   "metadata": {},
   "outputs": [],
   "source": [
    "nx.draw_networkx(four_pointed_star, with_labels=True)"
   ]
  },
  {
   "cell_type": "code",
   "execution_count": null,
   "metadata": {},
   "outputs": [],
   "source": [
    "from pyquil.api._quantum_computer import _get_qvm_with_topology\n",
    "path_qc = _get_qvm_with_topology(name='path', topology=path_graph, noisy=True)"
   ]
  },
  {
   "cell_type": "code",
   "execution_count": null,
   "metadata": {},
   "outputs": [],
   "source": [
    "path_outcomes = measure_quantum_volume(path_qc, num_circuits=200, num_shots=500, show_progress_bar=show_progress_bar)"
   ]
  },
  {
   "cell_type": "markdown",
   "metadata": {},
   "source": [
    "## Compare to noisy complete topology"
   ]
  },
  {
   "cell_type": "code",
   "execution_count": null,
   "metadata": {},
   "outputs": [],
   "source": [
    "depths = np.arange(2, 5)\n",
    "ideal_probs = [val[1] for val in ideal_outcomes]\n",
    "noisy_probs = [val[1] for val in noisy_outcomes]\n",
    "path_probs = [val[1] for val in path_outcomes]\n",
    "\n",
    "plt.axhline(.5 + np.log(2)/2, color='b', ls='--', label='ideal asymptote')\n",
    "plt.axhline(2/3, color='grey', ls=':', label='achievable threshold')\n",
    "plt.scatter(np.array(depths) - .1, ideal_probs, color='b', label='ideal simulation')\n",
    "plt.scatter(depths, noisy_probs, color='r', label='noisy complete simulation')\n",
    "plt.scatter(depths, path_probs, color='black', label='noisy path simulation')\n",
    "plt.ylabel(\"est. heavy output probability h_d\")\n",
    "plt.xlabel(\"width/depth of model circuit m=d\")\n",
    "plt.ylim(.4,1.0)\n",
    "plt.xlim(1.8, 4.2)\n",
    "plt.xticks(depths)\n",
    "plt.legend(loc='lower left')\n",
    "plt.show()"
   ]
  },
  {
   "cell_type": "code",
   "execution_count": null,
   "metadata": {},
   "outputs": [],
   "source": []
  }
 ],
 "metadata": {
  "language_info": {
   "name": "python",
   "pygments_lexer": "ipython3"
  }
 },
 "nbformat": 4,
 "nbformat_minor": 2
}
