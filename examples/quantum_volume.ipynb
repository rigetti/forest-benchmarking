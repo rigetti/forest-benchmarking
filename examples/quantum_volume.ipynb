{
 "cells": [
  {
   "cell_type": "code",
   "execution_count": null,
   "metadata": {},
   "outputs": [],
   "source": [
    "import numpy as np\n",
    "import networkx as nx\n",
    "import matplotlib.pyplot as plt\n",
    "%matplotlib inline\n",
    "\n",
    "from pyquil.api import get_qc\n",
    "\n",
    "ideal_qc = get_qc('4q-qvm', noisy=False)\n",
    "noisy_qc = get_qc(\"4q-noisy-qvm\", noisy=True)\n",
    "\n",
    "qubits = ideal_qc.qubits()\n",
    "print(qubits)\n",
    "graph = ideal_qc.qubit_topology()\n",
    "nx.draw_networkx(graph, with_labels=True)"
   ]
  },
  {
   "cell_type": "markdown",
   "metadata": {},
   "source": [
    "## Import and setup logging for info on progress."
   ]
  },
  {
   "cell_type": "code",
   "execution_count": null,
   "metadata": {},
   "outputs": [],
   "source": [
    "from forest.benchmarking.quantum_volume import measure_quantum_volume\n",
    "\n",
    "import logging\n",
    "logger = logging.getLogger()\n",
    "logger.setLevel(logging.INFO)\n",
    "show_progress_bar = True"
   ]
  },
  {
   "cell_type": "markdown",
   "metadata": {},
   "source": [
    "## Replicate FIG2. of [QVol]  (See forest_qcvv.quantum_volume for ref)"
   ]
  },
  {
   "cell_type": "markdown",
   "metadata": {},
   "source": [
    "This is SLOW--it takes about 4 minutes."
   ]
  },
  {
   "cell_type": "code",
   "execution_count": null,
   "metadata": {},
   "outputs": [],
   "source": [
    "ideal_outcomes = measure_quantum_volume(ideal_qc, num_circuits=200, show_progress_bar=show_progress_bar)"
   ]
  },
  {
   "cell_type": "markdown",
   "metadata": {},
   "source": [
    "## Now with noise"
   ]
  },
  {
   "cell_type": "markdown",
   "metadata": {},
   "source": [
    "This is SLOW--it takes about 5 minutes, even with half the number of shots from above."
   ]
  },
  {
   "cell_type": "code",
   "execution_count": null,
   "metadata": {},
   "outputs": [],
   "source": [
    "noisy_outcomes = measure_quantum_volume(noisy_qc, num_circuits=200, num_shots=500, show_progress_bar=show_progress_bar)"
   ]
  },
  {
   "cell_type": "code",
   "execution_count": null,
   "metadata": {},
   "outputs": [],
   "source": [
    "depths = np.arange(2, 5)\n",
    "ideal_probs = [ideal_outcomes[depth][0] if depth in ideal_outcomes.keys() else 0 for depth in depths]\n",
    "noisy_probs = [noisy_outcomes[depth][0] if depth in noisy_outcomes.keys() else 0 for depth in depths]\n",
    "\n",
    "plt.axhline(.5 + np.log(2)/2, color='b', ls='--', label='ideal asymptote')\n",
    "plt.axhline(2/3, color='black', ls=':', label='achievable threshold')\n",
    "plt.scatter(np.array(depths) - .1, ideal_probs, color='b', label='ideal simulation')\n",
    "plt.scatter(depths, noisy_probs, color='r', label='noisy simulation')\n",
    "plt.ylabel(\"est. heavy output probability h_d\")\n",
    "plt.xlabel(\"width/depth of model circuit m=d\")\n",
    "plt.ylim(.4,1.0)\n",
    "plt.xlim(1.8, 4.2)\n",
    "plt.xticks(depths)\n",
    "plt.legend(loc='lower left')\n",
    "plt.show()"
   ]
  },
  {
   "cell_type": "markdown",
   "metadata": {},
   "source": [
    "## Try a different topology"
   ]
  },
  {
   "cell_type": "code",
   "execution_count": null,
   "metadata": {},
   "outputs": [],
   "source": [
    "n = 4\n",
    "path_graph = nx.path_graph(n)\n",
    "loop_graph = nx.cycle_graph(n)\n",
    "four_pointed_star = nx.star_graph(n)"
   ]
  },
  {
   "cell_type": "code",
   "execution_count": null,
   "metadata": {},
   "outputs": [],
   "source": [
    "nx.draw_networkx(path_graph, with_labels=True)"
   ]
  },
  {
   "cell_type": "code",
   "execution_count": null,
   "metadata": {},
   "outputs": [],
   "source": [
    "nx.draw_networkx(loop_graph, with_labels=True)"
   ]
  },
  {
   "cell_type": "code",
   "execution_count": null,
   "metadata": {},
   "outputs": [],
   "source": [
    "nx.draw_networkx(four_pointed_star, with_labels=True)"
   ]
  },
  {
   "cell_type": "code",
   "execution_count": null,
   "metadata": {},
   "outputs": [],
   "source": [
    "from pyquil.api._quantum_computer import _get_qvm_with_topology\n",
    "path_qc = _get_qvm_with_topology(name='path', topology=path_graph, noisy=True)"
   ]
  },
  {
   "cell_type": "code",
   "execution_count": null,
   "metadata": {},
   "outputs": [],
   "source": [
    "path_outcomes = measure_quantum_volume(path_qc, num_circuits=200, num_shots=500, show_progress_bar=show_progress_bar)"
   ]
  },
  {
   "cell_type": "markdown",
   "metadata": {},
   "source": [
    "## Compare to noisy complete topology"
   ]
  },
  {
   "cell_type": "code",
   "execution_count": null,
   "metadata": {},
   "outputs": [],
   "source": [
    "depths = np.arange(2, 5)\n",
    "ideal_probs = [ideal_outcomes[depth][0] if depth in ideal_outcomes.keys() else 0 for depth in depths]\n",
    "noisy_probs = [noisy_outcomes[depth][0] if depth in noisy_outcomes.keys() else 0 for depth in depths]\n",
    "path_probs = [path_outcomes[depth][0] if depth in path_outcomes.keys() else 0 for depth in depths]\n",
    "\n",
    "plt.axhline(.5 + np.log(2)/2, color='b', ls='--', label='ideal asymptote')\n",
    "plt.axhline(2/3, color='grey', ls=':', label='achievable threshold')\n",
    "plt.scatter(np.asarray(depths) - .1, ideal_probs, color='b', label='ideal simulation')\n",
    "plt.scatter(depths, noisy_probs, color='r', label='noisy complete simulation')\n",
    "plt.scatter(np.asarray(depths) + .1, path_probs, color='black', label='noisy path simulation')\n",
    "plt.ylabel(\"est. heavy output probability h_d\")\n",
    "plt.xlabel(\"width/depth of model circuit m=d\")\n",
    "plt.ylim(.4,1.0)\n",
    "plt.xlim(1.8, 4.2)\n",
    "plt.xticks(depths)\n",
    "plt.legend(loc='lower left')\n",
    "plt.show()"
   ]
  },
  {
   "cell_type": "markdown",
   "metadata": {},
   "source": [
    "## Run intermediate steps yourself"
   ]
  },
  {
   "cell_type": "code",
   "execution_count": null,
   "metadata": {},
   "outputs": [],
   "source": [
    "from forest.benchmarking.quantum_volume import generate_abstract_qv_circuit, _naive_program_generator, collect_heavy_outputs\n",
    "from pyquil.numpy_simulator import NumpyWavefunctionSimulator\n",
    "from pyquil.gates import RESET\n",
    "import time\n",
    "\n",
    "def generate_circuits(depths):\n",
    "    for d in depths:\n",
    "        yield generate_abstract_qv_circuit(d)\n",
    "\n",
    "def convert_ckts_to_programs(qc, circuits, qubits=None):\n",
    "    for idx, ckt in enumerate(circuits):\n",
    "        if qubits is None:\n",
    "            d_qubits = qc.qubits()  # by default the program can act on any qubit in the computer\n",
    "        else:\n",
    "            d_qubits = qubits[idx]\n",
    "\n",
    "        yield _naive_program_generator(qc, d_qubits, *ckt)\n",
    "\n",
    "\n",
    "def acquire_quantum_volume_data(qc, programs, num_shots = 1000, use_active_reset = False):\n",
    "    for program in programs:\n",
    "        start = time.time()\n",
    "\n",
    "        if use_active_reset:\n",
    "            reset_measure_program = Program(RESET())\n",
    "            program = reset_measure_program + program\n",
    "\n",
    "        # run the program num_shots many times\n",
    "        program.wrap_in_numshots_loop(num_shots)\n",
    "        executable = qc.compiler.native_quil_to_executable(program)\n",
    "\n",
    "        results = qc.run(executable)\n",
    "\n",
    "        runtime = time.time() - start\n",
    "        yield results\n",
    "\n",
    "\n",
    "def acquire_heavy_hitters(abstract_circuits):\n",
    "    for ckt in abstract_circuits:\n",
    "        perms, gates = ckt\n",
    "        depth = len(perms)\n",
    "        wfn_sim = NumpyWavefunctionSimulator(depth)\n",
    "\n",
    "        start = time.time()\n",
    "        heavy_outputs = collect_heavy_outputs(wfn_sim, perms, gates)\n",
    "        runtime = time.time() - start\n",
    "\n",
    "        yield heavy_outputs\n"
   ]
  },
  {
   "cell_type": "markdown",
   "metadata": {},
   "source": [
    "Generate (len(unique_depths) x n_circuits) many \"Abstract Ckt\"s that describe each model circuit for each depth."
   ]
  },
  {
   "cell_type": "code",
   "execution_count": null,
   "metadata": {},
   "outputs": [],
   "source": [
    "n_circuits = 100\n",
    "unique_depths = [2,3]\n",
    "depths = [d for d in unique_depths for _ in range(n_circuits)]\n",
    "ckts = list(generate_circuits(depths))\n",
    "print(ckts[0])"
   ]
  },
  {
   "cell_type": "markdown",
   "metadata": {},
   "source": [
    "Use the _naive_program_generator to synthesize native pyquil programs that implement each ckt natively on the qc."
   ]
  },
  {
   "cell_type": "code",
   "execution_count": null,
   "metadata": {},
   "outputs": [],
   "source": [
    "progs = list(convert_ckts_to_programs(noisy_qc, ckts))\n",
    "print(progs[0])"
   ]
  },
  {
   "cell_type": "markdown",
   "metadata": {},
   "source": [
    "Run the programs. This can be slow."
   ]
  },
  {
   "cell_type": "code",
   "execution_count": null,
   "metadata": {},
   "outputs": [],
   "source": [
    "num_shots=10\n",
    "results = list(acquire_quantum_volume_data(noisy_qc, progs, num_shots=num_shots))"
   ]
  },
  {
   "cell_type": "markdown",
   "metadata": {},
   "source": [
    "Classically simulate the circuits to get heavy hitters, and record how many hh were sampled for each program run."
   ]
  },
  {
   "cell_type": "code",
   "execution_count": null,
   "metadata": {},
   "outputs": [],
   "source": [
    "ckt_hhs = acquire_heavy_hitters(ckts)"
   ]
  },
  {
   "cell_type": "markdown",
   "metadata": {},
   "source": [
    "Count the number of heavy hitters that were sampled on the qc"
   ]
  },
  {
   "cell_type": "code",
   "execution_count": null,
   "metadata": {},
   "outputs": [],
   "source": [
    "from forest.benchmarking.quantum_volume import count_heavy_hitters_sampled\n",
    "num_hh_sampled = count_heavy_hitters_sampled(results, ckt_hhs)"
   ]
  },
  {
   "cell_type": "markdown",
   "metadata": {},
   "source": [
    "Get estimates of the probability of sampling hh at each depth, and the lowerbound on that estimate"
   ]
  },
  {
   "cell_type": "code",
   "execution_count": null,
   "metadata": {},
   "outputs": [],
   "source": [
    "from forest.benchmarking.quantum_volume import get_prob_sample_heavy_by_depth\n",
    "\n",
    "results = get_prob_sample_heavy_by_depth(depths, num_hh_sampled, [num_shots for _ in depths])\n",
    "results"
   ]
  },
  {
   "cell_type": "markdown",
   "metadata": {},
   "source": [
    "Use the results to get a lower bound on the quantum volume"
   ]
  },
  {
   "cell_type": "code",
   "execution_count": null,
   "metadata": {},
   "outputs": [],
   "source": [
    "from forest.benchmarking.quantum_volume import extract_quantum_volume_from_results\n",
    "qv = extract_quantum_volume_from_results(results)\n",
    "qv"
   ]
  },
  {
   "cell_type": "code",
   "execution_count": null,
   "metadata": {},
   "outputs": [],
   "source": []
  }
 ],
 "metadata": {
  "language_info": {
   "name": "python",
   "pygments_lexer": "ipython3"
  }
 },
 "nbformat": 4,
 "nbformat_minor": 2
}
