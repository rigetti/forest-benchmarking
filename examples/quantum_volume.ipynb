{
 "cells": [
  {
   "cell_type": "code",
   "execution_count": 1,
   "metadata": {},
   "outputs": [
    {
     "name": "stdout",
     "output_type": "stream",
     "text": [
      "[0, 1, 2, 3, 4, 5, 6, 7, 8]\n"
     ]
    },
    {
     "data": {
      "image/png": "[encoded data removed]",
      "text/plain": [
       "<matplotlib.figure.Figure at 0x7f3b38580518>"
      ]
     },
     "metadata": {},
     "output_type": "display_data"
    }
   ],
   "source": [
    "import numpy as np\n",
    "import numpy.random as random\n",
    "\n",
    "from pyquil.api import get_qc\n",
    "from pyquil import Program\n",
    "from pyquil.gates import *\n",
    "\n",
    "from pyrethrum.random_operators import haar_rand_unitary\n",
    "\n",
    "import networkx as nx\n",
    "import matplotlib.pyplot as plt\n",
    "%matplotlib inline\n",
    "\n",
    "qc = get_qc(\"9q-square-noisy-qvm\", as_qvm=True, noisy=True)\n",
    "\n",
    "qubits = qc.qubits()\n",
    "print(qubits)\n",
    "graph = qc.qubit_topology()\n",
    "nx.draw_networkx(graph, with_labels=True)"
   ]
  },
  {
   "cell_type": "code",
   "execution_count": 2,
   "metadata": {},
   "outputs": [],
   "source": [
    "def bit_array_to_int(bit_array):\n",
    "    output = 0\n",
    "    for bit in bit_array:\n",
    "        output = (output << 1) | bit\n",
    "    return output"
   ]
  },
  {
   "cell_type": "code",
   "execution_count": 3,
   "metadata": {},
   "outputs": [],
   "source": [
    "from pyquil.quil import DefGate\n",
    "from pyquil.gates import I\n",
    "\n",
    "def naive_program_generator(permutations, gates):\n",
    "    depth = gates.shape[0]\n",
    "    num_gates_per_layer = gates.shape[1]\n",
    "    p = Program() # include all qubits in program\n",
    "    for idx, (perm, layer) in enumerate(zip(permutations, gates)):\n",
    "        for pair_idx, gate in enumerate(layer):\n",
    "\n",
    "            # get the Quil definition for the new gate\n",
    "            g_definition = DefGate(\"LYR\" + str(idx) + \"_RAND\" + str(pair_idx), gate)\n",
    "            # get the gate constructor\n",
    "            G = g_definition.get_constructor()\n",
    "            # add definition to program\n",
    "            p += g_definition\n",
    "            # add to program, acting on properly permuted qubits\n",
    "            p += G(int(perm[pair_idx]), int(perm[pair_idx+1]))\n",
    "    return p\n",
    "    "
   ]
  },
  {
   "cell_type": "code",
   "execution_count": 4,
   "metadata": {},
   "outputs": [],
   "source": [
    "from pyquil.api import WavefunctionSimulator\n",
    "\n",
    "def collect_heavy_outputs(program, qubits):\n",
    "    all_qubit_program = program.inst([I(int(q)) for q in qubits]) # ensures non-active qubits are reported\n",
    "    wfn_sim = WavefunctionSimulator()\n",
    "    wfn = wfn_sim.wavefunction(all_qubit_program)\n",
    "    prob_dict = wfn.get_outcome_probs()\n",
    "    \n",
    "    sorted_by_prob = sorted([(bitstring, prob_dict[bitstring]) for bitstring in prob_dict], key=lambda pair:pair[1])\n",
    "    heavy_outputs = [pair[0] for pair in sorted_by_prob][2**(len(qubits)-1):]\n",
    "    assert(len(heavy_outputs) == 2**(len(qubits)-1))\n",
    "    # convert heavy outputs to int\n",
    "    base = np.array([2 ** i for i in range(len(qubits))])\n",
    "    heavy_outputs = [np.sum(base * np.array([int(bit) for bit in output])) for output in heavy_outputs]\n",
    "    return heavy_outputs"
   ]
  },
  {
   "cell_type": "code",
   "execution_count": 7,
   "metadata": {},
   "outputs": [
    {
     "name": "stdout",
     "output_type": "stream",
     "text": [
      "0.6310128909637672\n",
      "False\n",
      "0.6604770344349515\n",
      "False\n",
      "0.5915570605156045\n",
      "False\n"
     ]
    }
   ],
   "source": [
    "num_shots = 500\n",
    "num_reps = 100\n",
    "\n",
    "for depth in range(2,5):\n",
    "    num_heavy = 0\n",
    "    for _ in range(num_reps):\n",
    "        qubits = np.arange(depth)\n",
    "        num_gates_per_layer = depth//2\n",
    "        permutations = [random.permutation(qubits) for layer in range(depth)]\n",
    "        gates = np.array([haar_rand_unitary(4) \n",
    "                          for layer in range(depth) \n",
    "                          for pair in range(num_gates_per_layer)]).reshape((depth, num_gates_per_layer, 4, 4))\n",
    "        program = naive_program_generator(permutations, gates)\n",
    "        heavy_outputs = collect_heavy_outputs(program, qubits)\n",
    "\n",
    "        ro = program.declare(\"ro\", \"BIT\", len(qubits))\n",
    "        for idx, qubit in enumerate(qubits):\n",
    "            program.measure(int(qubit), ro[idx])\n",
    "        program.wrap_in_numshots_loop(num_shots)\n",
    "        executable = qc.compile(program)\n",
    "        results = qc.run(executable)\n",
    "\n",
    "        for result in results:\n",
    "            # convert result to int for comparison with heavy outputs\n",
    "            output = bit_array_to_int(result)\n",
    "            if output in heavy_outputs:\n",
    "                num_heavy += 1\n",
    "    fraction = (num_heavy - 2 * np.sqrt(num_heavy * (num_shots - num_heavy/num_reps))) / (num_reps * num_shots)\n",
    "    is_acheivable = fraction > 2/3\n",
    "    print(fraction)\n",
    "    print(is_acheivable)\n",
    "\n"
   ]
  }
 ],
 "metadata": {
  "kernelspec": {
   "display_name": "Python 3",
   "language": "python",
   "name": "python3"
  },
  "language_info": {
   "codemirror_mode": {
    "name": "ipython",
    "version": 3
   },
   "file_extension": ".py",
   "mimetype": "text/x-python",
   "name": "python",
   "nbconvert_exporter": "python",
   "pygments_lexer": "ipython3",
   "version": "3.6.5"
  }
 },
 "nbformat": 4,
 "nbformat_minor": 2
}
