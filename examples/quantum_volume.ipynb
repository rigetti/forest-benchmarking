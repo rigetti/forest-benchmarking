{
 "cells": [
  {
   "cell_type": "code",
   "execution_count": null,
   "metadata": {},
   "outputs": [],
   "source": [
    "import numpy as np\n",
    "import networkx as nx\n",
    "import matplotlib.pyplot as plt\n",
    "%matplotlib inline\n",
    "\n",
    "from pyquil.api import get_qc\n",
    "\n",
    "ideal_qc = get_qc('4q-pyqvm')\n",
    "noisy_qc = get_qc(\"4q-noisy-qvm\", as_qvm=True, noisy=True)\n",
    "\n",
    "qubits = ideal_qc.qubits()\n",
    "print(qubits)\n",
    "graph = ideal_qc.qubit_topology()\n",
    "nx.draw_networkx(graph, with_labels=True)"
   ]
  },
  {
   "cell_type": "markdown",
   "metadata": {},
   "source": [
    "## Import and setup logging for info on progress."
   ]
  },
  {
   "cell_type": "code",
   "execution_count": null,
   "metadata": {},
   "outputs": [],
   "source": [
    "from forest_benchmarking.quantum_volume import measure_quantum_volume\n",
    "\n",
    "import logging\n",
    "logger = logging.getLogger()\n",
    "logger.setLevel(logging.INFO)\n",
    "show_progress_bar = True"
   ]
  },
  {
   "cell_type": "markdown",
   "metadata": {},
   "source": [
    "# Replicate FIG2. of [QVol]  (See forest_qcvv.quantum_volume for ref)"
   ]
  },
  {
   "cell_type": "markdown",
   "metadata": {},
   "source": [
    "## This is SLOW--it takes about 4 minutes."
   ]
  },
  {
   "cell_type": "code",
   "execution_count": null,
   "metadata": {},
   "outputs": [],
   "source": [
    "ideal_outcomes = measure_quantum_volume(ideal_qc, num_circuits=200, show_progress_bar=show_progress_bar)"
   ]
  },
  {
   "cell_type": "markdown",
   "metadata": {},
   "source": [
    "## Now with noise; this is SLOW--it takes about 5 minutes, even with half the shots"
   ]
  },
  {
   "cell_type": "code",
   "execution_count": null,
   "metadata": {},
   "outputs": [],
   "source": [
    "noisy_outcomes = measure_quantum_volume(noisy_qc, num_circuits=200, num_shots=500, show_progress_bar=show_progress_bar)"
   ]
  },
  {
   "cell_type": "code",
   "execution_count": null,
   "metadata": {},
   "outputs": [],
   "source": [
    "depths = np.arange(2, 5)\n",
    "ideal_probs = [val[1] for val in ideal_outcomes]\n",
    "noisy_probs = [val[1] for val in noisy_outcomes]\n",
    "\n",
    "xlims = (1.8, 4.2)\n",
    "plt.plot(xlims, [.5+np.log(2)/2]*2, color='b', ls='--')\n",
    "plt.plot(xlims, [2/3]*2, color='black', ls=':')\n",
    "plt.scatter(np.array(depths)-.1, ideal_probs, color='b')\n",
    "plt.scatter(depths, noisy_probs, color='r')\n",
    "plt.ylabel(\"est. heavy output probability h_d\")\n",
    "plt.xlabel(\"width/depth of model circuit m=d\")\n",
    "plt.ylim(.4,1.0)\n",
    "plt.xlim(*xlims)\n",
    "plt.xticks(depths)\n",
    "plt.legend(['ideal asymptote', 'achievable threshold', 'ideal simulation', 'noisy simulation'], loc=3)\n",
    "plt.show()"
   ]
  },
  {
   "cell_type": "code",
   "execution_count": null,
   "metadata": {},
   "outputs": [],
   "source": []
  }
 ],
 "metadata": {
  "language_info": {
   "name": "python",
   "pygments_lexer": "ipython3"
  }
 },
 "nbformat": 4,
 "nbformat_minor": 2
}
