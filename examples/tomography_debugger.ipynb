{
 "cells": [
  {
   "cell_type": "markdown",
   "metadata": {},
   "source": [
    "# Tomography Debugger\n",
    "State tomography involves measuring a quantum state repeatedly in the bases given by `itertools.product(['X', 'Y', 'Z], repeat=n_qubits)`. From these measurements, we can reconstruct a density matrix $\\rho$ using a varaiety of methods described in forest.benchmarking.tomography under the heading \"state tomography\". This is all done automaticly in using the forest.benchmarking.tomography.tomographize function allowing it to be use effectivly as a quantum debugger."
   ]
  },
  {
   "cell_type": "code",
   "execution_count": 1,
   "metadata": {},
   "outputs": [],
   "source": [
    "import numpy as np\n",
    "import time\n",
    "\n",
    "from pyquil import Program, get_qc\n",
    "from pyquil.gates import *\n",
    "from forest.benchmarking.tomography import tomographize"
   ]
  },
  {
   "cell_type": "markdown",
   "metadata": {},
   "source": [
    "## Construct a state with a `Program`\n",
    "We'll construct a two-qubit graph state by Hadamarding all qubits and then applying a controlled-Z operation across edges of our graph. In the two-qubit case, there's only one edge. "
   ]
  },
  {
   "cell_type": "code",
   "execution_count": 2,
   "metadata": {},
   "outputs": [
    {
     "name": "stdout",
     "output_type": "stream",
     "text": [
      "H 0\n",
      "H 1\n",
      "CZ 0 1\n",
      "RY(-pi/2) 0\n",
      "X 1\n",
      "CNOT 1 0\n",
      "\n"
     ]
    }
   ],
   "source": [
    "qubits = [0, 1]\n",
    "\n",
    "program = Program()\n",
    "for qubit in qubits:\n",
    "    program += H(qubit)\n",
    "program += CZ(qubits[0], qubits[1])\n",
    "program += RY(-np.pi/2, qubits[0])\n",
    "program += X(qubits[1])\n",
    "program += CNOT(qubits[1], qubits[0])\n",
    "\n",
    "print(program)"
   ]
  },
  {
   "cell_type": "markdown",
   "metadata": {},
   "source": [
    "## Run the tomography debugger and print output"
   ]
  },
  {
   "cell_type": "code",
   "execution_count": 3,
   "metadata": {},
   "outputs": [
    {
     "name": "stdout",
     "output_type": "stream",
     "text": [
      "Linear tomography took 0.460453s\n",
      "Recovered density matrix:\n",
      "\n",
      "[[ 3.50000000e-03-1.36512468e-18j  2.93058701e-19+1.50000000e-03j\n",
      "   4.50000000e-03-3.50000000e-03j  5.50000000e-03-5.00000000e-04j]\n",
      " [-2.74342100e-17-1.50000000e-03j -3.50000000e-03+2.14325778e-18j\n",
      "  -1.45000000e-02+5.00000000e-04j  4.50000000e-03+1.55000000e-02j]\n",
      " [ 4.50000000e-03+3.50000000e-03j -1.45000000e-02-5.00000000e-04j\n",
      "   4.96500000e-01+1.13981602e-18j  6.83320553e-19-5.00000000e-04j]\n",
      " [ 5.50000000e-03+5.00000000e-04j  4.50000000e-03-1.55000000e-02j\n",
      "  -6.83320553e-19+5.00000000e-04j  5.03500000e-01+5.30658834e-19j]]\n",
      "Compressed tomography took 0.499431s\n",
      "Recovered density matrix:\n",
      "\n",
      "[[-2.53127791e-08-3.50638546e-17j -8.70056892e-03-1.64999653e-02j\n",
      "   1.21925031e-08-4.21747408e-04j  8.39998555e-03+2.40000386e-02j]\n",
      " [-8.70056892e-03+1.64999653e-02j  4.71000042e-01+6.24351317e-18j\n",
      "   1.10522052e-02+2.00001772e-03j -5.00000056e-01-1.94216460e-02j]\n",
      " [ 1.21917260e-08+4.21747408e-04j  1.10522052e-02-2.00001772e-03j\n",
      "   3.82506459e-08+3.77619537e-16j -1.16478627e-02-5.50002269e-03j]\n",
      " [ 8.39998555e-03-2.40000386e-02j -5.00000056e-01+1.94216460e-02j\n",
      "  -1.16478627e-02+5.50002269e-03j  5.29000052e-01+7.61888035e-17j]]\n",
      "Compressed tomography took 0.483477s\n",
      "Recovered density matrix:\n",
      "\n",
      "[[ 3.44521584e-01+3.17512724e-17j  3.22732238e-03+2.82322119e-03j\n",
      "  -3.43649473e-01-1.89699327e-02j -1.18441881e-02+1.23272052e-02j]\n",
      " [ 3.22732238e-03-2.82322119e-03j  1.48123284e-01-4.03748157e-17j\n",
      "   3.35119267e-04+8.78427542e-03j -1.54915266e-01+4.86985721e-03j]\n",
      " [-3.43649473e-01+1.89699327e-02j  3.35119267e-04-8.78427542e-03j\n",
      "   3.44227157e-01+4.59209697e-17j  7.46896847e-03-6.41707610e-03j]\n",
      " [-1.18441881e-02-1.23272052e-02j -1.54915266e-01-4.86985721e-03j\n",
      "   7.46896847e-03+6.41707610e-03j  1.63110900e-01-4.77300410e-17j]]\n"
     ]
    }
   ],
   "source": [
    "qc = get_qc('%dq-qvm' % len(qubits))\n",
    "\n",
    "\n",
    "start_linear = time.time()\n",
    "m = 10\n",
    "rho_linear = tomographize(qc, program, qubits, pauli_num=10, t_type=\"linear_inv\")\n",
    "end_linear = time.time() - start_linear\n",
    "\n",
    "print(\"Linear tomography took %gs\" % end_linear)\n",
    "print(\"Recovered density matrix:\\n\")\n",
    "print(rho_linear)\n",
    "\n",
    "start_compressed = time.time()\n",
    "rho_compressed = tomographize(qc, program, qubits, pauli_num=10, t_type=\"compressed_sensing\")\n",
    "end_compressed = time.time() - start_compressed\n",
    "print(\"Compressed tomography took %gs\" % end_compressed)\n",
    "print(\"Recovered density matrix:\\n\")\n",
    "print(rho_compressed)\n",
    "\n",
    "start_lasso = time.time()\n",
    "rho_lasso = tomographize(qc, program, qubits, pauli_num=10, t_type=\"lasso\")\n",
    "end_lasso = time.time() - start_lasso\n",
    "print(\"Compressed tomography took %gs\" % end_lasso)\n",
    "print(\"Recovered density matrix:\\n\")\n",
    "print(rho_lasso)"
   ]
  },
  {
   "cell_type": "markdown",
   "metadata": {},
   "source": [
    "## Compare results to true output obtained using wavefunction simulator"
   ]
  },
  {
   "cell_type": "code",
   "execution_count": 4,
   "metadata": {},
   "outputs": [
    {
     "name": "stdout",
     "output_type": "stream",
     "text": [
      "[[ 0. +0.j -0. -0.j  0. +0.j  0. +0.j]\n",
      " [-0. +0.j  0.5+0.j -0. +0.j -0.5+0.j]\n",
      " [ 0. +0.j -0. -0.j  0. +0.j  0. +0.j]\n",
      " [ 0. +0.j -0.5-0.j  0. +0.j  0.5+0.j]]\n"
     ]
    }
   ],
   "source": [
    "from pyquil.api import WavefunctionSimulator\n",
    "wf_sim = WavefunctionSimulator()\n",
    "wf = wf_sim.wavefunction(program)\n",
    "psi = wf.amplitudes\n",
    "\n",
    "rho_true = np.outer(psi, psi.T.conj())\n",
    "print(np.around(rho_true, decimals=3))"
   ]
  },
  {
   "cell_type": "markdown",
   "metadata": {},
   "source": [
    "## Visualize using Hinton plots"
   ]
  },
  {
   "cell_type": "code",
   "execution_count": 5,
   "metadata": {},
   "outputs": [],
   "source": [
    "from matplotlib import pyplot as plt\n",
    "from forest.benchmarking.plotting import hinton\n",
    "fig, (ax1, ax2, ax3) = plt.subplots(1, 3)\n",
    "hinton(rho_true, ax=ax1)\n",
    "hinton(rho_linear, ax=ax2)\n",
    "hinton(rho_compressed, ax=ax3)\n",
    "ax1.set_title('Analytical Linear')\n",
    "ax2.set_title('Estimated Linear')\n",
    "ax3.set_title('Estimated Compressed')\n",
    "fig.tight_layout()"
   ]
  },
  {
   "cell_type": "markdown",
   "metadata": {},
   "source": [
    "## Calculate matrix norm between true and estimated rho"
   ]
  },
  {
   "cell_type": "code",
   "execution_count": 6,
   "metadata": {},
   "outputs": [
    {
     "name": "stdout",
     "output_type": "stream",
     "text": [
      "Linear norm:\n",
      "1.0050482575478652\n",
      "Compressed norm:\n",
      "0.07078083250036442\n",
      "Lasso norm:\n",
      "0.9749834380713842\n"
     ]
    }
   ],
   "source": [
    "print(\"Linear norm:\")\n",
    "print(np.linalg.norm(rho_linear - rho_true))\n",
    "print(\"Compressed norm:\")\n",
    "print(np.linalg.norm(rho_compressed - rho_true))\n",
    "print(\"Lasso norm:\")\n",
    "print(np.linalg.norm(rho_lasso - rho_true))"
   ]
  },
  {
   "cell_type": "markdown",
   "metadata": {},
   "source": [
    "## Plot graph of results for various measurement values"
   ]
  },
  {
   "cell_type": "code",
   "execution_count": 7,
   "metadata": {},
   "outputs": [
    {
     "name": "stdout",
     "output_type": "stream",
     "text": [
      "Analyzing performance of linear vs. compressed on program:\n",
      "H 0\n",
      "H 1\n",
      "CZ 0 1\n",
      "RY(-pi/2) 0\n",
      "X 1\n",
      "CNOT 1 0\n",
      "\n",
      "Running iteration 1/16\n",
      "Running iteration 2/16\n",
      "Running iteration 3/16\n",
      "Running iteration 4/16\n",
      "Running iteration 5/16\n",
      "Running iteration 6/16\n",
      "Running iteration 7/16\n",
      "Running iteration 8/16\n",
      "Running iteration 9/16\n",
      "Running iteration 10/16\n",
      "Running iteration 11/16\n",
      "Running iteration 12/16\n",
      "Running iteration 13/16\n",
      "Running iteration 14/16\n",
      "Running iteration 15/16\n"
     ]
    },
    {
     "data": {
      "image/png": "[encoded data removed]",
      "text/plain": [
       "<Figure size 432x288 with 1 Axes>"
      ]
     },
     "metadata": {
      "needs_background": "light"
     },
     "output_type": "display_data"
    }
   ],
   "source": [
    "import matplotlib.pyplot as plt\n",
    "\n",
    "max_pauli_num = 4 ** len(qubits)\n",
    "num_trials = 5\n",
    "\n",
    "linear_norms = []\n",
    "compressed_norms = []\n",
    "\n",
    "print(\"Analyzing performance of linear vs. compressed on program:\")\n",
    "print(program)\n",
    "\n",
    "for i in range(1, max_pauli_num):\n",
    "    print(\"Running iteration %d/%d\" % (i, max_pauli_num))\n",
    "    linear_norm_mean = 0.0\n",
    "    compressed_norm_mean = 0.0\n",
    "    for j in range(num_trials):\n",
    "        rho_linear = tomographize(qc, program, qubits, pauli_num=i, t_type=\"linear_inv\")\n",
    "        rho_compressed = tomographize(qc, program, qubits, pauli_num=i, t_type=\"compressed_sensing\")\n",
    "        linear_norm_mean += np.linalg.norm(rho_linear - rho_true)\n",
    "        compressed_norm_mean += np.linalg.norm(rho_compressed - rho_true)\n",
    "    \n",
    "    linear_norm_mean /= num_trials\n",
    "    compressed_norm_mean /= num_trials\n",
    "    \n",
    "    linear_norms.append(linear_norm_mean)\n",
    "    compressed_norms.append(compressed_norm_mean)\n",
    "\n",
    "plt.plot(linear_norms, label='linear')\n",
    "plt.plot(compressed_norms, label='compressed')\n",
    "plt.legend()\n",
    "plt.show()"
   ]
  },
  {
   "cell_type": "code",
   "execution_count": null,
   "metadata": {},
   "outputs": [],
   "source": []
  }
 ],
 "metadata": {
  "kernelspec": {
   "display_name": "Python 3",
   "language": "python",
   "name": "python3"
  },
  "language_info": {
   "codemirror_mode": {
    "name": "ipython",
    "version": 3
   },
   "file_extension": ".py",
   "mimetype": "text/x-python",
   "name": "python",
   "nbconvert_exporter": "python",
   "pygments_lexer": "ipython3",
   "version": "3.7.3"
  }
 },
 "nbformat": 4,
 "nbformat_minor": 2
}
