{
 "cells": [
  {
   "cell_type": "markdown",
   "metadata": {},
   "source": [
    "# Qubit spectroscopy: $T_1$ measurement example\n",
    "\n",
    "This notebook demonstrates how to assess the decoherence time, $T_1$, of one or more qubits on a real quantum device using pyQuil. A $T_1$ experiment consists of an X pulse, bringing the qubit to the excited state, followed by a delay of variable duration. We expect the state to decay exponentially with increasing time, and we characterize this decay by the time decay constant, which we call $T_1$ and refer to as the qubit's \"decoherence time.\" A sample QUIL program at one data point (specified by the duration of the DELAY pragma) for qubit 0 with a 10us wait would look like \n",
    "\n",
    "    DECLARE ro BIT[1]\n",
    "    RX(pi) 0\n",
    "    PRAGMA DELAY 0 \"1e-05\"\n",
    "    MEASURE 0 ro[0]\n",
    "\n",
    "**NB: Since decoherence and dephasing noise are only simulated on gates, and we make use of DELAY pragmas to simulate relaxation time, we cannot simulate decoherence on the QPU with this experiment as written. This notebook should only be run on a real quantum device.**"
   ]
  },
  {
   "cell_type": "markdown",
   "metadata": {},
   "source": [
    "## setup - imports and relevant units"
   ]
  },
  {
   "cell_type": "code",
   "execution_count": null,
   "metadata": {},
   "outputs": [],
   "source": [
    "import pandas as pd\n",
    "from matplotlib import pyplot as plt\n",
    "from pyquil.api import get_qc, QuantumComputer\n",
    "\n",
    "from forest_benchmarking.qubit_spectroscopy import (\n",
    "    exponential_decay_curve,\n",
    "    fit_to_exponential_decay_curve,\n",
    "    run_t1)"
   ]
  },
  {
   "cell_type": "markdown",
   "metadata": {},
   "source": [
    "We treat SI base units, such as the second, as dimensionless, unit quantities, so we define relative units, such as the microsecond, using scientific notation. "
   ]
  },
  {
   "cell_type": "code",
   "execution_count": null,
   "metadata": {},
   "outputs": [],
   "source": [
    "MICROSECOND = 1e-6"
   ]
  },
  {
   "cell_type": "markdown",
   "metadata": {},
   "source": [
    "## measurement, analysis, and plotting"
   ]
  },
  {
   "cell_type": "markdown",
   "metadata": {},
   "source": [
    "This method takes a `pandas.DataFrame` object with all the $T_1$ data, including the times and qubits measured and the resulting decay at each data point, and plots the decay of each qubit with respect to increasing delay duration. It also fits to an exponential decay curve, evaluates the fitted time decay constant, $T_1$, for each qubit, and plots the fitted curve on top of the experimental data so that a user can assess the fit if so desired. "
   ]
  },
  {
   "cell_type": "code",
   "execution_count": null,
   "metadata": {},
   "outputs": [],
   "source": [
    "def plot_fitted_exponential_decay_curve_over_data(df: pd.DataFrame,\n",
    "                                                  filename: str = None) -> None:\n",
    "    \"\"\"\n",
    "    Plot T1 experimental data and fitted exponential decay curve.\n",
    "\n",
    "    :param df: Experimental results to plot and fit exponential decay curve to.\n",
    "    :param qc_type: String indicating whether QVM or QPU was used to collect data.\n",
    "    :return: None\n",
    "    \"\"\"\n",
    "    for q in df['qubit'].unique():\n",
    "        df2 = df[df['qubit'] == q].sort_values('time')\n",
    "        x_data = df2['time']\n",
    "        y_data = df2['avg']\n",
    "\n",
    "        plt.plot(x_data, y_data, 'o-', label=f\"QC{q} T1 data\")\n",
    "\n",
    "        try:\n",
    "            fit_params, fit_params_errs = fit_to_exponential_decay_curve(x_data, y_data)\n",
    "        except RuntimeError:\n",
    "            print(f\"Could not fit to experimental data for QC{q}\")\n",
    "        else:\n",
    "            plt.plot(x_data, exponential_decay_curve(x_data, *fit_params),\n",
    "                     label=f\"QC{q} fit: T1={fit_params[1] / MICROSECOND:.2f}us\")\n",
    "\n",
    "    plt.xlabel(\"Time [s]\")\n",
    "    plt.ylabel(\"Excited state visibility\")\n",
    "    plt.title(\"T1 decay\")\n",
    "\n",
    "    plt.legend(loc='best')\n",
    "    plt.tight_layout()\n",
    "    if filename is not None:\n",
    "        plt.savefig(filename)\n",
    "    plt.show()"
   ]
  },
  {
   "cell_type": "markdown",
   "metadata": {},
   "source": [
    "First, we collect our $T_1$ raw data using `run_t1`. We can specify which qubits we want to measure using `qubits` and the maximum delay we'll use for each using `stop_time`. "
   ]
  },
  {
   "cell_type": "code",
   "execution_count": null,
   "metadata": {},
   "outputs": [],
   "source": [
    "# qc = get_qc('Aspen-1-3Q-A')\n",
    "qc = get_qc('2q-noisy-qvm') # will run on a QVM, but not meaningfully \n",
    "qubits = qc.qubits()\n",
    "\n",
    "df = run_t1(qc=qc, \n",
    "            qubits=qubits, \n",
    "            stop_time=60 * MICROSECOND,\n",
    "            filename=f't1.{qc.name}.json')"
   ]
  },
  {
   "cell_type": "markdown",
   "metadata": {},
   "source": [
    "Now we can use the above plotting method to measure $T_1$ on our lattice, `Aspen-1-3Q-A`. "
   ]
  },
  {
   "cell_type": "code",
   "execution_count": null,
   "metadata": {},
   "outputs": [],
   "source": [
    "plot_fitted_exponential_decay_curve_over_data(df, filename=f't1.{qc.name}.png')"
   ]
  },
  {
   "cell_type": "code",
   "execution_count": null,
   "metadata": {},
   "outputs": [],
   "source": []
  }
 ],
 "metadata": {
  "language_info": {
   "name": "python",
   "pygments_lexer": "ipython3"
  }
 },
 "nbformat": 4,
 "nbformat_minor": 2
}
