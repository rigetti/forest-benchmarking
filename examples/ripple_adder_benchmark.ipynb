{
 "cells": [
  {
   "cell_type": "markdown",
   "metadata": {},
   "source": [
    "# A simple ripple carry adder on the QPU\n",
    "\n",
    "In this notebook we implement a \"simple\" reversible binary adder. It is based on\n",
    "\n",
    "*A new quantum ripple-carry addition circuit*, by \n",
    "Cuccaro, Draper, Kutin, and Moulton. See\n",
    "https://arxiv.org/abs/quant-ph/0410184v1 .\n",
    "\n",
    "The whole circuit is classical in the sense that we start and end in computational basis states and all gates simply perform classical not, controlled not, or doublely controled not."
   ]
  },
  {
   "cell_type": "markdown",
   "metadata": {},
   "source": [
    "![alt txt](figs/binary_adder.png) Figures from Cuccaro et al. https://arxiv.org/abs/quant-ph/0410184v1"
   ]
  },
  {
   "cell_type": "code",
   "execution_count": null,
   "metadata": {},
   "outputs": [],
   "source": [
    "import numpy as np\n",
    "from pyquil.quil import Program\n",
    "\n",
    "from pyquil.gates import *\n",
    "from pyquil.api import get_qc\n",
    "from forest.benchmarking.classical_logic.ripple_carry_adder import *\n",
    "\n",
    "import matplotlib.pyplot as plt\n",
    "import networkx as nx"
   ]
  },
  {
   "cell_type": "code",
   "execution_count": null,
   "metadata": {},
   "outputs": [],
   "source": [
    "# noiseless QVM\n",
    "qc = get_qc(\"Aspen-1-15Q-A\", as_qvm=True, noisy=False)\n",
    "\n",
    "# noisy QVM\n",
    "noisy_qc = get_qc(\"9q-generic-noisy-qvm\", as_qvm=True, noisy=True)"
   ]
  },
  {
   "cell_type": "markdown",
   "metadata": {},
   "source": [
    "## Draw the noiseless qc topology"
   ]
  },
  {
   "cell_type": "code",
   "execution_count": null,
   "metadata": {},
   "outputs": [],
   "source": [
    "nx.draw(qc.qubit_topology(),with_labels=True)"
   ]
  },
  {
   "cell_type": "code",
   "execution_count": null,
   "metadata": {},
   "outputs": [],
   "source": [
    "nx.draw(qc.qubit_topology().subgraph([17,10,11,12]),with_labels=True)"
   ]
  },
  {
   "cell_type": "markdown",
   "metadata": {},
   "source": [
    "## One bit addtion: 1+1 = 10  i.e.  2"
   ]
  },
  {
   "cell_type": "markdown",
   "metadata": {},
   "source": [
    "Suppose you want to use Alexa's favorite qubits on Aspen 1 [17,10,11,12] to do one bit addtion. "
   ]
  },
  {
   "cell_type": "code",
   "execution_count": null,
   "metadata": {},
   "outputs": [],
   "source": [
    "# the input numbers\n",
    "num_a = [1]\n",
    "num_b = [1]\n",
    "\n",
    "reg_a, reg_b, c, z = assign_registers_to_line_or_cycle(17, qc.qubit_topology().subgraph([17,10,11,12]), len(num_a))\n",
    "\n",
    "# given the numbers and registers construct the circuit to add\n",
    "ckt = adder(num_a, num_b, reg_a, reg_b, c, z)\n",
    "exe = qc.compile(ckt)\n",
    "result = qc.run(exe)\n",
    "\n",
    "print('The answer of 1+1 is 10')\n",
    "print('The circuit gave: ', result)"
   ]
  },
  {
   "cell_type": "markdown",
   "metadata": {},
   "source": [
    "## Two bit addition"
   ]
  },
  {
   "cell_type": "markdown",
   "metadata": {},
   "source": [
    "We will start with 1+1=2 on a noiseless simulation.\n",
    "\n",
    "We choose to represent 1 (decimal) as a two digit binary number 01 so the addition becomes\n",
    "\n",
    "01 + 01 = 010 \n",
    "\n",
    "where the bits are ordered from most significant to least i.e. (MSB...LSB).\n",
    "The MSB is the carry bit.\n"
   ]
  },
  {
   "cell_type": "code",
   "execution_count": null,
   "metadata": {},
   "outputs": [],
   "source": [
    "# the input numbers\n",
    "num_a = [0,1]\n",
    "num_b = [0,1]\n",
    "\n",
    "# \n",
    "reg_a, reg_b, c, z = assign_registers_to_line_or_cycle(17, qc.qubit_topology(), len(num_a))\n",
    "\n",
    "# given the numbers and registers construct the circuit to add\n",
    "ckt = adder(num_a, num_b, reg_a, reg_b, c, z)\n",
    "exe = qc.compile(ckt)\n",
    "qc.run(exe)"
   ]
  },
  {
   "cell_type": "markdown",
   "metadata": {},
   "source": [
    "## Draw the noisy qc topology"
   ]
  },
  {
   "cell_type": "code",
   "execution_count": null,
   "metadata": {},
   "outputs": [],
   "source": [
    "nx.draw(noisy_qc.qubit_topology(),with_labels=True)"
   ]
  },
  {
   "cell_type": "markdown",
   "metadata": {},
   "source": [
    "## Now try 1+1=2 on a noisy qc"
   ]
  },
  {
   "cell_type": "code",
   "execution_count": null,
   "metadata": {},
   "outputs": [],
   "source": [
    "reg_a, reg_b, c, z = get_qubit_registers_for_adder(noisy_qc, len(num_a))\n",
    "ckt = adder(num_a, num_b, reg_a, reg_b, c, z)\n",
    "exe = noisy_qc.compile(ckt)\n",
    "noisy_qc.run(exe)"
   ]
  },
  {
   "cell_type": "markdown",
   "metadata": {},
   "source": [
    "## Get results for all summations of pairs of 2-bit strings"
   ]
  },
  {
   "cell_type": "markdown",
   "metadata": {},
   "source": [
    "Because binary addition is easy we can caculate the output of the circuit. In order to see how well the QPU excutes the circuit we average the circuit over all possible input strings. Here we look at two bit strings e.g.\n",
    "\n",
    "| Register a| Register b| a + b + carry|\n",
    "|-----------|-----------|--------------|\n",
    "| 00        | 00        | 000          |\n",
    "| 00        | 01        | 001          |\n",
    "| 00        | 10        | 010          |\n",
    "| 00        | 11        | 011          |\n",
    "| 01        | 00        | 001          |\n",
    "| $\\vdots$  | $\\vdots$  | $\\vdots$     |\n",
    "| 11        | 11        | 110          |\n",
    "\n",
    "\n",
    "The rough measure of goodness is the success probablity, which we define as number of times the QPU correctly returns the string listed in the (a+b+carry) column divided by the total number of trials.\n",
    "\n",
    "You might wonder how well you can do just by generating a random binary number and reporting that as the answer.\n",
    "Well if you are doing addition of two $n$ bit strings the probablity that you can get the correct answer by guessing \n",
    "\n",
    "$\\Pr({\\rm correct}|n)= 1/ 2^{n +1}$,\n",
    "\n",
    "explicilty $\\Pr({\\rm correct}|1)= 0.25$ and $\\Pr({\\rm correct}|2)= 0.125$.\n",
    "\n",
    "A zeroth order performance criterion is to do better than these numbers.\n"
   ]
  },
  {
   "cell_type": "code",
   "execution_count": null,
   "metadata": {},
   "outputs": [],
   "source": [
    "n_bits = 2\n",
    "nshots = 100\n",
    "results = get_n_bit_adder_results(noisy_qc, n_bits, use_param_program=False, num_shots = nshots)"
   ]
  },
  {
   "cell_type": "code",
   "execution_count": null,
   "metadata": {},
   "outputs": [],
   "source": [
    "# sucess probabilities of different input strings\n",
    "pr_correct = get_success_probabilities_from_results(results)\n",
    "print(pr_correct)"
   ]
  },
  {
   "cell_type": "code",
   "execution_count": null,
   "metadata": {},
   "outputs": [],
   "source": [
    "# did we do better than random ?\n",
    "np.asarray(pr_correct)> 1/2**(n_bits+1)"
   ]
  },
  {
   "cell_type": "markdown",
   "metadata": {},
   "source": [
    "## Get the distribution of the hamming weight of errors"
   ]
  },
  {
   "cell_type": "markdown",
   "metadata": {},
   "source": [
    "Even if the sucess probablity of the circuit is worse than random there might be a way in which the circuit is not absolutely random. That is the computation is actualling doing something. To look for such situations we consider the full distribution of errors.\n",
    "\n",
    "As an example consider 2-bit addition: 00 + 00 = 000 (including the carry bit).\n",
    "\n",
    "The output of our circuit is in the computational baiss so all errors manifest as bit flips from the actual answer. The number of bit you need to flip to transform one binary string $B_1$ to another binary string $B_2$ is called the Hamming distance or Hamming weight. The Hamming weight is denoted by ${\\rm wt}(B_1,B_2)$. E.g.\n",
    "\n",
    "${\\rm wt}(00000,00001) = 1$\n",
    "\n",
    "${\\rm wt}(00000,10001) = 2$\n",
    "\n",
    "${\\rm wt}(00000,10101) = 3$\n",
    "\n",
    "${\\rm wt}(00000,11111) = 5$\n",
    "\n",
    "In order to see if our near term devices are doing interesting things we calculate the Hamming weight distribution between the answer and data from the QPU. The entry corresponding to zero Hamming weight is the sucess probablity."
   ]
  },
  {
   "cell_type": "code",
   "execution_count": null,
   "metadata": {},
   "outputs": [],
   "source": [
    "distributions = get_error_hamming_distributions_from_results(results)"
   ]
  },
  {
   "cell_type": "markdown",
   "metadata": {},
   "source": [
    "## Plot distribution of 00+00 and 11+11 and compare to random"
   ]
  },
  {
   "cell_type": "code",
   "execution_count": null,
   "metadata": {},
   "outputs": [],
   "source": [
    "from scipy.special import comb\n",
    "\n",
    "zeros_distribution = distributions[0]\n",
    "\n",
    "rand_ans_distr = [comb(n_bits + 1, x)/2**(n_bits + 1) for x in range(len(zeros_distribution))]\n",
    "\n",
    "x_labels = np.arange(0, len(zeros_distribution))\n",
    "plt.bar(x_labels, zeros_distribution, width=0.61, align='center')\n",
    "plt.bar(x_labels, rand_ans_distr, width=0.31, align='center')\n",
    "plt.xticks(x_labels)\n",
    "plt.xlabel('Hamming Weight of Error')\n",
    "plt.ylabel('Relative Frequency of Occurence')\n",
    "plt.grid(axis='y', alpha=0.75)\n",
    "plt.legend(['data','random'])\n",
    "plt.title('Z basis Error Hamming Wt Distr for 00+00=000')\n",
    "#name = 'numbits'+str(n_bits) + '_basisZ' + '_shots' + str(nshots)\n",
    "#plt.savefig(name)\n",
    "plt.show()"
   ]
  },
  {
   "cell_type": "code",
   "execution_count": null,
   "metadata": {},
   "outputs": [],
   "source": [
    "from scipy.special import comb\n",
    "\n",
    "ones_distribution = distributions[-1]\n",
    "\n",
    "rand_ans_distr = [comb(n_bits + 1, x)/2**(n_bits + 1) for x in range(len(zeros_distribution))]\n",
    "\n",
    "x_labels = np.arange(0, len(ones_distribution))\n",
    "plt.bar(x_labels, ones_distribution, width=0.61, align='center')\n",
    "plt.bar(x_labels, rand_ans_distr, width=0.31, align='center')\n",
    "plt.xticks(x_labels)\n",
    "plt.xlabel('Hamming Weight of Error')\n",
    "plt.ylabel('Relative Frequency of Occurence')\n",
    "plt.grid(axis='y', alpha=0.75)\n",
    "plt.legend(['data','random'])\n",
    "plt.title('Z basis Error Hamming Wt Distr for 11+11=110')\n",
    "#name = 'numbits'+str(n_bits) + '_basisZ' + '_shots' + str(nshots)\n",
    "#plt.savefig(name)\n",
    "plt.show()"
   ]
  },
  {
   "cell_type": "markdown",
   "metadata": {},
   "source": [
    "## Plot average distribution over all summations; compare to random"
   ]
  },
  {
   "cell_type": "code",
   "execution_count": null,
   "metadata": {},
   "outputs": [],
   "source": [
    "from scipy.special import comb\n",
    "\n",
    "averaged_distr = np.mean(distributions, axis=0)\n",
    "\n",
    "rand_ans_distr = [comb(n_bits + 1, x)/2**(n_bits + 1) for x in range(len(averaged_distr))]\n",
    "\n",
    "x_labels = np.arange(0, len(averaged_distr))\n",
    "plt.bar(x_labels, averaged_distr, width=0.61, align='center')\n",
    "plt.bar(x_labels, rand_ans_distr, width=0.31, align='center')\n",
    "plt.xticks(x_labels)\n",
    "plt.xlabel('Hamming Weight of Error')\n",
    "plt.ylabel('Relative Frequency of Occurence')\n",
    "plt.grid(axis='y', alpha=0.75)\n",
    "plt.legend(['data','random'])\n",
    "plt.title('Z basis Error Hamming Wt Distr Avgd Over {}-bit Strings'.format(n_bits))\n",
    "#name = 'numbits'+str(n_bits) + '_basisZ' + '_shots' + str(nshots)\n",
    "#plt.savefig(name)\n",
    "plt.show()"
   ]
  },
  {
   "cell_type": "markdown",
   "metadata": {},
   "source": [
    "## Now do the same, but with addition in the X basis"
   ]
  },
  {
   "cell_type": "markdown",
   "metadata": {},
   "source": [
    "In this section we do classical logic in the X basis. This means the inputs to the circuits are no longer $|0\\rangle$ and $|1\\rangle$, instead they are $|+\\rangle = H|0\\rangle$ and $|-\\rangle = H|1\\rangle$.\n",
    "\n",
    "Originally all the logic was done with X, CNOT, and Toffoli gates. In this case we have to convert them to the corresponding gates in the X basis. E.g. \n",
    "\n",
    "CNOT = $|0\\rangle\\langle 0|\\otimes I + |1\\rangle\\langle 1|\\otimes X$ \n",
    "\n",
    "becomes\n",
    "\n",
    "CNOT_in_X_basis = $(H\\otimes I)$ CZ $(H\\otimes I)$ = $|+\\rangle\\langle +|\\otimes I + |-\\rangle\\langle -|\\otimes Z$. "
   ]
  },
  {
   "cell_type": "code",
   "execution_count": null,
   "metadata": {},
   "outputs": [],
   "source": [
    "n_bits = 2\n",
    "# set in_x_basis to true here\n",
    "results = get_n_bit_adder_results(noisy_qc, n_bits, in_x_basis=True)\n",
    "distributions = get_error_hamming_distributions_from_results(results)\n",
    "\n",
    "averaged_distr = np.mean(distributions, axis=0)\n",
    "x_labels = np.arange(0, len(averaged_distr))\n",
    "plt.bar(x_labels, averaged_distr, width=0.61, align='center')\n",
    "plt.bar(x_labels, rand_ans_distr, width=0.31, align='center')\n",
    "plt.xticks(x_labels)\n",
    "plt.xlabel('Hamming Weight of Error')\n",
    "plt.ylabel('Relative Frequency of Occurence')\n",
    "plt.grid(axis='y', alpha=0.75)\n",
    "plt.legend(['data','random'])\n",
    "plt.title('X basis Error Hamming Wt Distr Avgd Over {}-bit Strings'.format(n_bits))\n",
    "#name = 'numbits'+str(n_bits) + '_basisX' + '_shots' + str(nshots)\n",
    "#plt.savefig(name)\n",
    "plt.show()"
   ]
  },
  {
   "cell_type": "markdown",
   "metadata": {},
   "source": [
    "# Error probablity to random guess probablity as a function of number of added bits"
   ]
  },
  {
   "cell_type": "markdown",
   "metadata": {},
   "source": [
    "Here we compare the average probablity of the adder working as a function of input size (averaged over all possible input strings) to random guessing. To provide context we also compare this to the error probablity of the best input string (likely the all zero input string) and the worst input string (likely all ones)."
   ]
  },
  {
   "cell_type": "code",
   "execution_count": null,
   "metadata": {},
   "outputs": [],
   "source": [
    "summand_lengths = [1,2,3]\n",
    "avg_n = []\n",
    "med_n = []\n",
    "min_n = []\n",
    "max_n = []\n",
    "rand_n = []\n",
    "\n",
    "for n_bits in summand_lengths:\n",
    "    results = get_n_bit_adder_results(noisy_qc, n_bits)\n",
    "    output_len = n_bits + 1\n",
    "    # success probablity average over all input strings\n",
    "    avg_n.append(np.average(get_success_probabilities_from_results(results)))\n",
    "    # median success probablity average over all input strings\n",
    "    med_n.append(np.median(get_success_probabilities_from_results(results)))\n",
    "    # success probablity input bit string with most errors\n",
    "    min_n.append(np.min(get_success_probabilities_from_results(results)))\n",
    "    # success probablity input bit string with least errors\n",
    "    max_n.append(np.max(get_success_probabilities_from_results(results)))\n",
    "    # sucess probablity of randomly guessing the correct answer\n",
    "    rand_n.append(1 / 2**output_len)"
   ]
  },
  {
   "cell_type": "code",
   "execution_count": null,
   "metadata": {},
   "outputs": [],
   "source": [
    "plt.scatter(summand_lengths, avg_n, c='b', label='mean')\n",
    "plt.scatter(summand_lengths, rand_n, c='m', marker='D', label='random')\n",
    "plt.scatter(summand_lengths, min_n, c='r', marker='_', label='min/max')\n",
    "plt.scatter(summand_lengths, max_n, c='r', marker='_')\n",
    "plt.xticks(summand_lengths) #, [str(n_bits) for n_bits in summand_lengths])\n",
    "plt.xlabel('Number of bits added n (n+1 including carry bit)')\n",
    "plt.ylabel('Probablity of working')\n",
    "plt.legend()\n",
    "name = 'Pr_suc_fn_nbits' + '_basisZ' + '_shots' + str(nshots)\n",
    "plt.savefig(name)\n",
    "plt.show()"
   ]
  },
  {
   "cell_type": "code",
   "execution_count": null,
   "metadata": {},
   "outputs": [],
   "source": [
    "print('n bit:',  summand_lengths)\n",
    "print('average:',  avg_n)\n",
    "print('median:',  med_n)\n",
    "print('min:',  min_n)\n",
    "print('max:',  max_n)\n",
    "print('rand:',  rand_n)"
   ]
  }
 ],
 "metadata": {
  "kernelspec": {
   "display_name": "",
   "name": ""
  },
  "language_info": {
   "name": "python",
   "pygments_lexer": "ipython3"
  }
 },
 "nbformat": 4,
 "nbformat_minor": 2
}
