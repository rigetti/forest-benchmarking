{
 "cells": [
  {
   "cell_type": "markdown",
   "metadata": {},
   "source": [
    "# Qubit spectroscopy: Rabi measurement example\n",
    "This notebook demonstrates how to perform a Rabi experiment on a simulated or real quantum device. This experiment tests the calibration of the `RX` pulse by rotating through a full $2\\pi$ radians and evaluating the excited state visibility as a function of the angle of rotation, $\\theta$. The QUIL program for one data point for qubit 0 at, for example $\\theta=\\pi/2$, is\n",
    "\n",
    "    DECLARE ro BIT[1]\n",
    "    RX(pi/2) 0\n",
    "    MEASURE 0 ro[0]\n",
    "   \n",
    "We expect to see a characteristic \"Rabi flop\" by sweeping $\\theta$ over $[0, 2\\pi)$, thereby completing a full rotation around the Bloch sphere. It should look like $\\dfrac{1-\\cos(\\theta)}{2}$"
   ]
  },
  {
   "cell_type": "markdown",
   "metadata": {},
   "source": [
    "## setup"
   ]
  },
  {
   "cell_type": "code",
   "execution_count": null,
   "metadata": {},
   "outputs": [],
   "source": [
    "import pandas as pd\n",
    "from matplotlib import pyplot as plt\n",
    "from pyquil.api import get_qc, QuantumComputer\n",
    "\n",
    "from forest_benchmarking.qubit_spectroscopy import fit_to_sinusoidal_waveform, run_rabi, sinusoidal_waveform"
   ]
  },
  {
   "cell_type": "markdown",
   "metadata": {},
   "source": [
    "## measurement, analysis, and plotting"
   ]
  },
  {
   "cell_type": "markdown",
   "metadata": {},
   "source": [
    "This method takes a `pandas.DataFrame` object with all the Rabi data and plots the Rabi flop. It fits to a sinusoid and evaluates the period for each qubit (which should be $2\\pi$). "
   ]
  },
  {
   "cell_type": "code",
   "execution_count": null,
   "metadata": {},
   "outputs": [],
   "source": [
    "def plot_rabi_oscillations(df: pd.DataFrame) -> None:\n",
    "    \"\"\"\n",
    "    Plot the Rabi results.\n",
    "    \"\"\"\n",
    "    for q in df['qubit'].unique():\n",
    "        df2 = df[df['qubit'] == q].sort_values('angle')\n",
    "        angles = df2['angle']\n",
    "        excited_state_visibilities = df2['avg']\n",
    "\n",
    "        # plot raw data\n",
    "        plt.plot(angles, excited_state_visibilities, 'o-', label=f\"QC{q} Rabi data\")\n",
    "\n",
    "        try:\n",
    "            # fit to sinusoid\n",
    "            fit_params, _ = fit_to_sinusoidal_waveform(angles, excited_state_visibilities)\n",
    "        except RuntimeError:\n",
    "            # TODO: make into a warning rather than just printing it out\n",
    "            print(f\"Could not fit to experimental data for QC{q}\")\n",
    "        else:\n",
    "            # overlay fitted sinusoidal curve\n",
    "            plt.plot(angles, sinusoidal_waveform(angles, *fit_params),\n",
    "                     label=f\"QC{q} fitted line\")\n",
    "\n",
    "    plt.xlabel(\"RX angle [rad]\")\n",
    "    plt.ylabel(\"Excited state visibility\")\n",
    "    plt.title(\"Rabi flop\")\n",
    "\n",
    "    plt.legend(loc='best')\n",
    "    plt.tight_layout()\n",
    "    plt.savefig('rabi.png')\n",
    "    plt.show()"
   ]
  },
  {
   "cell_type": "code",
   "execution_count": null,
   "metadata": {},
   "outputs": [],
   "source": [
    "def main(qc: QuantumComputer):\n",
    "    qubits = qc.qubits()\n",
    "    \n",
    "    results = run_rabi(qc=qc,\n",
    "                       qubits=qubits,\n",
    "                       filename='rabi.json')\n",
    "    plot_rabi_oscillations(results)"
   ]
  },
  {
   "cell_type": "code",
   "execution_count": null,
   "metadata": {},
   "outputs": [],
   "source": [
    "main(get_qc('9q-square-qvm'))"
   ]
  }
 ],
 "metadata": {
  "language_info": {
   "name": "python",
   "pygments_lexer": "ipython3"
  }
 },
 "nbformat": 4,
 "nbformat_minor": 2
}
