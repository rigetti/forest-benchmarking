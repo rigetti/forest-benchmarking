{
 "cells": [
  {
   "cell_type": "markdown",
   "metadata": {},
   "source": [
    "# Qubit spectroscopy: Rabi measurement example\n",
    "This notebook demonstrates how to perform a Rabi experiment on a simulated or real quantum device. This experiment tests the calibration of the `RX` pulse by rotating through a full $2\\pi$ radians and evaluating the excited state visibility as a function of the angle of rotation, $\\theta$. The QUIL program for one data point for qubit 0 at, for example $\\theta=\\pi/2$, is\n",
    "\n",
    "    DECLARE ro BIT[1]\n",
    "    X 0\n",
    "    RX(pi/2) 0\n",
    "    MEASURE 0 ro[0]\n",
    "   \n",
    "The X 0 is simply to initialize the state to $|1\\rangle$. We expect to see a characteristic \"Rabi flop\" by sweeping $\\theta$ over $[0, 2\\pi)$, thereby completing a full rotation around the Bloch sphere. It should look like $\\dfrac{1-\\cos(\\theta)}{2}$"
   ]
  },
  {
   "cell_type": "markdown",
   "metadata": {},
   "source": [
    "## setup"
   ]
  },
  {
   "cell_type": "code",
   "execution_count": null,
   "metadata": {},
   "outputs": [],
   "source": [
    "from matplotlib import pyplot as plt\n",
    "from pyquil.api import get_qc, QuantumComputer\n",
    "\n",
    "from forest.benchmarking.qubit_spectroscopy import *"
   ]
  },
  {
   "cell_type": "markdown",
   "metadata": {},
   "source": [
    "## measurement, analysis, and plotting"
   ]
  },
  {
   "cell_type": "code",
   "execution_count": null,
   "metadata": {},
   "outputs": [],
   "source": [
    "#qc = get_qc('Aspen-1-15Q-A')\n",
    "qc = get_qc('2q-noisy-qvm') # will run on a QVM, but not meaningfully \n",
    "qubits = qc.qubits()\n",
    "qubits"
   ]
  },
  {
   "cell_type": "markdown",
   "metadata": {},
   "source": [
    "**Generate simultaneous Rabi experiments on all qubits**\n"
   ]
  },
  {
   "cell_type": "code",
   "execution_count": null,
   "metadata": {},
   "outputs": [],
   "source": [
    "import numpy as np\n",
    "from numpy import pi\n",
    "angles = np.linspace(0, 2*pi, 15)\n",
    "rabi_expts = generate_rabi_experiments(qubits, angles)"
   ]
  },
  {
   "cell_type": "markdown",
   "metadata": {},
   "source": [
    "**Acquire data**\n",
    "\n",
    "Collect our Rabi raw data using `acquire_qubit_spectroscopy_data`. "
   ]
  },
  {
   "cell_type": "code",
   "execution_count": null,
   "metadata": {},
   "outputs": [],
   "source": [
    "results = acquire_qubit_spectroscopy_data(qc, rabi_expts, num_shots=500)"
   ]
  },
  {
   "cell_type": "markdown",
   "metadata": {},
   "source": [
    "**Use the results to fit a Rabi curve and estimate parameters**\n",
    "\n",
    "In the cell below we first extract lists of expectations and std_errs from the results and store them separately by qubit. For each qubit we then fit to a sinusoid and evaluate the period (which should be $2\\pi$). Finally we plot the Rabi flop."
   ]
  },
  {
   "cell_type": "code",
   "execution_count": null,
   "metadata": {},
   "outputs": [],
   "source": [
    "from forest.benchmarking.plotting import plot_figure_for_fit\n",
    "\n",
    "stats_by_qubit = get_stats_by_qubit(results)\n",
    "for q, stats in stats_by_qubit.items():\n",
    "    fit = fit_rabi_results(angles, stats['expectation'], stats['std_err'])\n",
    "    fig, axs = plot_figure_for_fit(fit, title=f'Q{q} Data and Fit', xlabel=\"RX angle [rad]\",\n",
    "                           ylabel=r\"Pr($|1\\rangle$)\")\n",
    "    frequency = fit.params['frequency'].value # ratio of actual angle over intended control angle\n",
    "    amplitude = fit.params['amplitude'].value # (P(1 given 1) - P(1 given 0)) / 2\n",
    "    baseline = fit.params['baseline'].value # amplitude + p(1 given 0)"
   ]
  },
  {
   "cell_type": "code",
   "execution_count": null,
   "metadata": {},
   "outputs": [],
   "source": []
  }
 ],
 "metadata": {
  "language_info": {
   "name": "python",
   "pygments_lexer": "ipython3"
  }
 },
 "nbformat": 4,
 "nbformat_minor": 4
}
