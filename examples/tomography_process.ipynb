{
 "cells": [
  {
   "cell_type": "markdown",
   "metadata": {},
   "source": [
    "# Quantum process tomography\n",
    "\n",
    "In quantum computing process tomography is mostly used to experimentally measure the quality of gates. The quality is how close the experimental implementation of the gate is to the ideal gate."
   ]
  },
  {
   "cell_type": "markdown",
   "metadata": {},
   "source": [
    "### Classical \"process\" tomography \n",
    "\n",
    "On a single bit there are two processes (or gates or operations) one can perform, `identity`  and `not`, which we will denote as $I$ and $X$. The `identity` operation behaves as\n",
    "$I 0 = 0$ and $I 1 = 1$ while `not` behaves as $X 0 = 1$ and $X 1 = 0$, these are usually called truth tables. Thus to do classical process tomography we simply need to input a $0$ and $1$ into the circuit and compare the output to the truth table.\n",
    "\n",
    "However if logic gates can be faulty the situation becomes more complicated. The exact operation of the faulty gate can be captured by the probability of all output strings $j$ given all possible input strings $i$, i.e. $\\Pr({\\rm output\\ } j| {\\rm input\\ }i)$. It is convenient to collect these probabilites into a matrix which is called a [confusion matrix](https://en.wikipedia.org/wiki/Confusion_matrix). For a gate $G$ on single bit $ i,j \\in \\{0, 1 \\}$ it is\n",
    "\n",
    "$$\n",
    "C(G) =\n",
    "\\begin{pmatrix}\n",
    "\\Pr(0|0) &  \\Pr(0|1)\\\\\n",
    "\\Pr(1|0) &  \\Pr(1|1)\n",
    "\\end{pmatrix}.\n",
    "$$\n",
    "The ideal confusion matrix for `identity` is $ \\Pr( j | i ) = \\delta_{i,j} $ while for `not` it is  $ \\Pr( j | i ) = 1 -\\delta_{i,j} $."
   ]
  },
  {
   "cell_type": "markdown",
   "metadata": {},
   "source": [
    "### Quantum process tomography of a single qubit\n",
    "\n",
    "To motivate the additional complexity of quantum process tomography over classical process tomography consider the following.\n",
    "\n",
    "We would like to distinguish the following quantum processes\n",
    "$$\n",
    "H = \\frac{1}{2}\n",
    "\\begin{pmatrix}\n",
    "1 &  1\\\\\n",
    "1 &  -1\n",
    "\\end{pmatrix}.\n",
    "$$\n",
    "and \n",
    "$$\n",
    "R_Y(\\pi/2) = \\exp[-i (\\pi/2) Y/2].\n",
    "$$\n",
    "\n",
    "\n",
    "To distingiush these processes we estimate the confusion matrices in the standard basis (the Z basis). After many trials the probabilities obey \n",
    "\n",
    "$$\n",
    "\\Pr(j|G, \\rho_i) = {\\rm Tr}[G\\rho_i G^\\dagger \\Pi_j],\n",
    "$$ \n",
    "\n",
    "where $\\Pi_j= |j\\rangle \\langle j|$ is a measurement operator with $j\\in\\{ 0,1 \\}$, $\\rho_i=|i\\rangle \\langle i|$ is the input state with $i\\in\\{ 0,1 \\}$,  and $G$ is the quantum process ie $H$ or $R_Y$. \n",
    "\n",
    "Using the expression for $\\Pr(j|G, \\rho_i)$ we can construct the confusion matrices for each process. Unfortunately confusion matrices are identical\n",
    "$$\n",
    "C(H)= C\\big(R_Y(\\pi/2)\\big) = \\frac 1 2\n",
    "\\begin{pmatrix}\n",
    "1 &  1\\\\\n",
    "1 &  1\n",
    "\\end{pmatrix}.\n",
    "$$\n",
    "However, if we input the states $\\rho_+=|+\\rangle\\langle +|$ and $\\rho_-=|-\\rangle\\langle -|$ the confusion matrices become \n",
    "$$\n",
    "C(H) = \\frac 1 2\n",
    "\\begin{pmatrix}\n",
    "1 & 0\\\\\n",
    "0 &  1\n",
    "\\end{pmatrix} \n",
    "\\quad {\\rm and} \\quad\n",
    "C\\big(R_Y(\\pi/2)\\big) = \\frac 1 2\n",
    "\\begin{pmatrix}\n",
    "1 &  1\\\\\n",
    "1 &  1\n",
    "\\end{pmatrix}. \n",
    "$$\n",
    "Instead of using a different input state we could have measured in different bases. A rough way to think about quantum process tomography is you need to input a tomographically complete set of input states and measure the confusion matrix of those states in a tomographically complete basis.\n",
    "\n",
    "A *tomographically complete* set of operators is an operator basis on the Hilbert space of the system. For a single qubit this is the Pauli operators $\\{ I, X, Y, Z \\}$.\n"
   ]
  },
  {
   "cell_type": "markdown",
   "metadata": {},
   "source": [
    "### Quantum process tomography in general   \n",
    "\n",
    "The above analogy gets further stretched when we consider imperfect gates (non unitary processes). Indeed understanding quantum process tomography is beyond the scope of this notebook.\n",
    "\n",
    "\n",
    "Quantum process tomography involves\n",
    " - preparing a state\n",
    " - executing a process (the thing you are trying to estimate)\n",
    " - measuring in a basis\n",
    " \n",
    " <figure>\n",
    "  <img src=\"figs/process-tomo.png\" alt=\"Drawing\" style=\"width: 460px;\"/>\n",
    "  <figcaption>Figure 1. For process tomography, rotations must be prepended and appended to fully resolve the action of V on arbitrary initial states.</figcaption>\n",
    "</figure>\n",
    " \n",
    " \n",
    "The process is kept fixed, while the experimental settings (the preparation and measurement) are varied using pre and post rotations, see Figure 1. To estimate a quantum process matrix on $n$ qubits requires estimating $D^4-D^2$ parameters where $D=2^n$ is the dimension of the Hilbert space.\n",
    "\n",
    "\n",
    "\n",
    "Programmatically ((prep, measure) tuples) are varied. You first choose a suitable set of input states and measurement operators, and then run every `itertools.product` combination of settings.\n",
    "\n",
    "There are two choices of tomographically complete input states, *SIC* states and *Pauli* states.\n",
    "\n",
    "The SIC states are the states corresponding to the directions of a [SIC POVM](https://en.wikipedia.org/wiki/SIC-POVM). In this case there are only four states, but we still have to measure in the Pauli basis. The scaling of the number of experiments with respect to number of qubits is therefore $4^n 3^n$.\n",
    "\n",
    "The alternative is to use $\\pm$ eigenstates of the Pauli operators as our tomographically complete input states. In this case there are six input states, and we still have to measure in the Pauli basis. The scaling of the number of experiments with respect to number of qubits is therefore $6^n 3^n$."
   ]
  },
  {
   "cell_type": "markdown",
   "metadata": {},
   "source": [
    "**More information** \n",
    "\n",
    "\n",
    "When thinking about process tomography it is necessary to understand superoperators. For more information see [superoperator_representations.md](../.././forest-benchmarking/docs/superoperator_representations.md) and the [superoperator_tools ipython notebook](superoperator_tools.ipynb).\n",
    "\n",
    "Also see the following references:\n",
    "\n",
    "[CWPHD] *Initialization and characterization of open quantum systems*  \n",
    "Christopher Wood,  \n",
    "Chapter 3, PhD Thesis, University of Waterloo (2015)  \n",
    "http://hdl.handle.net/10012/9557  \n",
    "\n",
    "\n",
    "[IGST]  *Introduction to Quantum Gate Set Tomography*  \n",
    "Daniel Greenbaum,  \n",
    "arXiv:1509.02921 (2015)    \n",
    "https://arxiv.org/abs/1509.02921  \n",
    "\n",
    "\n",
    "[PBT]  *Practical Bayesian Tomography*  \n",
    "Christopher Granade et al.  \n",
    "New J. Phys. 18, 033024 (2016)  \n",
    "https://dx.doi.org/10.1088/1367-2630/18/3/033024  \n",
    "https://arxiv.org/abs/1509.03770\n",
    "\n",
    "\n",
    "[SCQPT] Self-Consistent Quantum Process Tomography  \n",
    "Seth T. Merkel et al.  \n",
    "Phys. Rev. A 87, 062119 (2013)  \n",
    "https://dx.doi.org/10.1103/PhysRevA.87.062119  \n",
    "https://arxiv.org/abs/1211.0322  "
   ]
  },
  {
   "cell_type": "markdown",
   "metadata": {},
   "source": [
    "## Quantum process tomography in `forest.benchmarking`\n",
    "\n",
    "Before reading this section make sure you are familiar with the [state tomography ipython notebook](tomography_state.ipynb)."
   ]
  },
  {
   "cell_type": "markdown",
   "metadata": {},
   "source": [
    "The basic workflow is:\n",
    "\n",
    "1. Prepare a process that you wish to estiamte by specifying a pyQuil program.\n",
    "2. Construct a list of input and output observables that are needed to estimate the state; we collect this into an object called an `ObservablesExperiment`.\n",
    "3. Acquire the data by running the program on a QVM or QPU.\n",
    "4. Apply an estimator to the data to obtain an estimate of the process.\n",
    "5. Compare the estimated state to the true state by a distance measure or visualization.\n",
    "\n",
    "\n",
    "Below we break these steps down in to all their ghastly glory. "
   ]
  },
  {
   "cell_type": "code",
   "execution_count": 6,
   "metadata": {},
   "outputs": [],
   "source": [
    "import numpy as np\n",
    "from pyquil import Program, get_qc\n",
    "from pyquil.gates import *\n",
    "qc = get_qc('2q-qvm')"
   ]
  },
  {
   "cell_type": "markdown",
   "metadata": {},
   "source": [
    "### Step 1. Construct a process\n",
    "Which is represented as a pyQuil `Program`"
   ]
  },
  {
   "cell_type": "code",
   "execution_count": null,
   "metadata": {},
   "outputs": [],
   "source": [
    "qubits = [0]\n",
    "process = Program(RX(np.pi, qubits[0]))\n",
    "print(process)"
   ]
  },
  {
   "cell_type": "markdown",
   "metadata": {},
   "source": [
    "## Construct a `TomographyExperiment` for process tomography\n",
    "The `I` basis measurements are redundant, and can be grouped with other terms (see below)."
   ]
  },
  {
   "cell_type": "code",
   "execution_count": null,
   "metadata": {},
   "outputs": [],
   "source": [
    "from forest.benchmarking.tomography import generate_process_tomography_experiment\n",
    "experiment = generate_process_tomography_experiment(process, qubits)\n",
    "print(experiment)"
   ]
  },
  {
   "cell_type": "markdown",
   "metadata": {},
   "source": [
    "## PyQuil will run the tomography programs"
   ]
  },
  {
   "cell_type": "code",
   "execution_count": null,
   "metadata": {},
   "outputs": [],
   "source": [
    "from forest.benchmarking.observable_estimation import estimate_observables\n",
    "results = list(estimate_observables(qc, experiment))\n",
    "results"
   ]
  },
  {
   "cell_type": "markdown",
   "metadata": {},
   "source": [
    "## Linear Inversion Estimate\n",
    "\n",
    "Sometimes the Linear Inversion Estimates can be unphysical. But we can use `proj_choi_to_physical` to force it to be physical."
   ]
  },
  {
   "cell_type": "code",
   "execution_count": 5,
   "metadata": {},
   "outputs": [
    {
     "name": "stdout",
     "output_type": "stream",
     "text": [
      "[[-0.03-0.j   -0.01-0.j   -0.01+0.j   -0.  +0.02j]\n",
      " [-0.01+0.j    1.03-0.j    1.  +0.j    0.01-0.01j]\n",
      " [-0.  -0.01j  1.  -0.j    0.97-0.j    0.02+0.02j]\n",
      " [ 0.  -0.02j  0.  +0.01j  0.02-0.02j  0.03-0.j  ]]\n",
      "\n",
      " Project the above estimate to a physical estimate:\n",
      "\n",
      "[[-0.  +0.j   -0.01+0.j   -0.01+0.j   -0.  +0.01j]\n",
      " [-0.01-0.j    1.  -0.j    0.99+0.j    0.01-0.j  ]\n",
      " [-0.01-0.j    0.99-0.j    0.97+0.j    0.02+0.01j]\n",
      " [-0.  -0.01j  0.01+0.j    0.02-0.01j  0.03-0.j  ]]\n"
     ]
    }
   ],
   "source": [
    "from forest.benchmarking.tomography import linear_inv_process_estimate\n",
    "from forest.benchmarking.superoperator_tools import proj_choi_to_physical\n",
    "\n",
    "process_choi_est_lin_inv = linear_inv_process_estimate(results, qubits)\n",
    "print(np.real_if_close(np.round(process_choi_est_lin_inv, 2)))\n",
    "\n",
    "\n",
    "print('\\n Project the above estimate to a physical estimate:\\n')\n",
    "print(np.real_if_close(np.round(proj_choi_to_physical(process_choi_est_lin_inv), 2)))"
   ]
  },
  {
   "cell_type": "markdown",
   "metadata": {},
   "source": [
    "## PGDB Estimate"
   ]
  },
  {
   "cell_type": "code",
   "execution_count": null,
   "metadata": {},
   "outputs": [],
   "source": [
    "from forest.benchmarking.tomography import pgdb_process_estimate\n",
    "process_choi_est = pgdb_process_estimate(results, qubits)\n",
    "np.real_if_close(np.round(process_choi_est, 2))"
   ]
  },
  {
   "cell_type": "markdown",
   "metadata": {},
   "source": [
    "Ideal Choi Matrix"
   ]
  },
  {
   "cell_type": "code",
   "execution_count": null,
   "metadata": {},
   "outputs": [],
   "source": [
    "from forest.benchmarking.superoperator_tools import kraus2choi\n",
    "from pyquil.gate_matrices import X as X_matrix\n",
    "process_choi_ideal = kraus2choi(X_matrix)\n",
    "np.real_if_close(np.round(process_choi_ideal))"
   ]
  },
  {
   "cell_type": "markdown",
   "metadata": {},
   "source": [
    "## Plot Pauli Transfer Matrix of Estimate"
   ]
  },
  {
   "cell_type": "code",
   "execution_count": null,
   "metadata": {},
   "outputs": [],
   "source": [
    "import matplotlib.pyplot as plt\n",
    "from forest.benchmarking.superoperator_tools import choi2pauli_liouville\n",
    "from forest.benchmarking.plotting.state_process import plot_pauli_transfer_matrix\n",
    "\n",
    "fig, (ax1, ax2, ax3) = plt.subplots(1, 3, figsize=(12,5))\n",
    "plot_pauli_transfer_matrix(np.real(choi2pauli_liouville(process_choi_ideal)), ax1, title='Ideal')\n",
    "plot_pauli_transfer_matrix(np.real(choi2pauli_liouville(process_choi_est_lin_inv)), ax2, title='Lin Inv Estimate')\n",
    "plot_pauli_transfer_matrix(np.real(choi2pauli_liouville(process_choi_est)), ax3, title='PGDB Estimate')\n",
    "plt.tight_layout()"
   ]
  },
  {
   "cell_type": "markdown",
   "metadata": {},
   "source": [
    "## Two qubit example - CNOT"
   ]
  },
  {
   "cell_type": "code",
   "execution_count": null,
   "metadata": {},
   "outputs": [],
   "source": [
    "qubits = [0, 1]\n",
    "process = Program(CNOT(qubits[0], qubits[1]))\n",
    "experiment = generate_process_tomography_experiment(process, qubits, in_basis='sic')\n",
    "print(experiment)"
   ]
  },
  {
   "cell_type": "code",
   "execution_count": null,
   "metadata": {},
   "outputs": [],
   "source": [
    "results = list(estimate_observables(qc, experiment))\n",
    "results[:10]"
   ]
  },
  {
   "cell_type": "code",
   "execution_count": null,
   "metadata": {},
   "outputs": [],
   "source": [
    "def _print_big_matrix(mat):\n",
    "    for row in mat:\n",
    "        for elem in row:\n",
    "            elem = np.real_if_close(np.round(elem, 3), tol=1e-1)\n",
    "            if not np.isclose(elem, 0., atol=1e-2):\n",
    "                print(f'{elem:.1f}', end=' ')\n",
    "            else:\n",
    "                print(' . ', end=' ')\n",
    "        print()"
   ]
  },
  {
   "cell_type": "code",
   "execution_count": null,
   "metadata": {},
   "outputs": [],
   "source": [
    "process_choi_est = pgdb_process_estimate(results, qubits)\n",
    "_print_big_matrix(process_choi_est)"
   ]
  },
  {
   "cell_type": "code",
   "execution_count": null,
   "metadata": {},
   "outputs": [],
   "source": [
    "from pyquil.gate_matrices import CNOT as CNOT_matrix\n",
    "process_choi_ideal = kraus2choi(CNOT_matrix)\n",
    "_print_big_matrix(process_choi_ideal)"
   ]
  },
  {
   "cell_type": "code",
   "execution_count": null,
   "metadata": {},
   "outputs": [],
   "source": [
    "fig, (ax1, ax2) = plt.subplots(1, 2, figsize=(12,5))\n",
    "ideal_ptm = choi2pauli_liouville(process_choi_ideal)\n",
    "est_ptm = choi2pauli_liouville(process_choi_est)\n",
    "plot_pauli_transfer_matrix(ideal_ptm, ax1, title='Ideal')\n",
    "plot_pauli_transfer_matrix(est_ptm, ax2, title='Estimate')\n",
    "plt.tight_layout()"
   ]
  },
  {
   "cell_type": "code",
   "execution_count": null,
   "metadata": {},
   "outputs": [],
   "source": []
  }
 ],
 "metadata": {
  "kernelspec": {
   "display_name": "Python 3",
   "language": "python",
   "name": "python3"
  },
  "language_info": {
   "codemirror_mode": {
    "name": "ipython",
    "version": 3
   },
   "file_extension": ".py",
   "mimetype": "text/x-python",
   "name": "python",
   "nbconvert_exporter": "python",
   "pygments_lexer": "ipython3",
   "version": "3.7.3"
  }
 },
 "nbformat": 4,
 "nbformat_minor": 2
}
