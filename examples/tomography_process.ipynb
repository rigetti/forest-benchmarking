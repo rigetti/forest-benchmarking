{
 "cells": [
  {
   "cell_type": "markdown",
   "metadata": {},
   "source": [
    "# Quantum process tomography\n",
    "\n",
    "In quantum computing process tomography is mostly used to experimentally measure the quality of gates. The quality is how close the experimental implementation of the gate is to the ideal gate."
   ]
  },
  {
   "cell_type": "markdown",
   "metadata": {},
   "source": [
    "### Classical \"process\" tomography \n",
    "\n",
    "On a single bit there are two processes (or gates or operations) one can perform, `identity`  and `not`, which we will denote as $I$ and $X$. The `identity` operation behaves as\n",
    "$I 0 = 0$ and $I 1 = 1$ while `not` behaves as $X 0 = 1$ and $X 1 = 0$. To do classical process tomography we simply need to input a $0$ and $1$ into the circuit implementing a particular operation and compare the output to what we ideally expect. \n",
    "\n",
    "The operation of a faulty classical gate can be captured by the probability of all output strings $j$ given all possible input strings $i$, i.e. $\\Pr({\\rm output\\ } j| {\\rm input\\ }i)$. It is convenient to collect these probabilities into a matrix which is called a [confusion matrix](https://en.wikipedia.org/wiki/Confusion_matrix). For a gate $G$ on single bit $ i,j \\in \\{0, 1 \\}$ it is\n",
    "\n",
    "$$\n",
    "C(G) =\n",
    "\\begin{pmatrix}\n",
    "\\Pr(0|0) &  \\Pr(0|1)\\\\\n",
    "\\Pr(1|0) &  \\Pr(1|1)\n",
    "\\end{pmatrix}.\n",
    "$$\n",
    "The ideal confusion matrix for `identity` is $ \\Pr( j | i ) = \\delta_{i,j} $ while for `not` it is  $ \\Pr( j | i ) = 1 -\\delta_{i,j} $."
   ]
  },
  {
   "cell_type": "markdown",
   "metadata": {},
   "source": [
    "### Quantum process tomography of a single qubit\n",
    "\n",
    "To motivate the additional complexity of quantum process tomography over classical process tomography consider the following.\n",
    "\n",
    "We would like to distinguish the following quantum processes\n",
    "$$\n",
    "H = \\frac{1}{\\sqrt{2}}\n",
    "\\begin{pmatrix}\n",
    "1 &  1\\\\\n",
    "1 &  -1\n",
    "\\end{pmatrix}.\n",
    "$$\n",
    "and \n",
    "$$\n",
    "R_Y(\\pi/2) = \\exp[-i (\\pi/2) Y/2].\n",
    "$$\n",
    "\n",
    "\n",
    "To distingiush these processes we estimate the confusion matrices in the standard basis (the Z basis). After many trials the probabilities obey \n",
    "\n",
    "$$\n",
    "\\Pr(j|G, \\rho_i) = {\\rm Tr}[G\\rho_i G^\\dagger \\Pi_j],\n",
    "$$ \n",
    "\n",
    "where $\\Pi_j= |j\\rangle \\langle j|$ is a measurement operator with $j\\in\\{ 0,1 \\}$, $\\rho_i=|i\\rangle \\langle i|$ is the input state with $i\\in\\{ 0,1 \\}$,  and $G$ is the quantum process ie $H$ or $R_Y$. \n",
    "\n",
    "Using the expression for $\\Pr(j|G, \\rho_i)$ we can construct the confusion matrices for each process. Unfortunately the two confusion matrices are identical\n",
    "$$\n",
    "C(H)= C\\big(R_Y(\\pi/2)\\big) = \\frac 1 2\n",
    "\\begin{pmatrix}\n",
    "1 &  1\\\\\n",
    "1 &  1\n",
    "\\end{pmatrix}.\n",
    "$$\n",
    "However, if we input the states $\\rho_+=|+\\rangle\\langle +|$ and $\\rho_-=|-\\rangle\\langle -|$ the confusion matrices become \n",
    "$$\n",
    "C(H) = \\frac 1 2\n",
    "\\begin{pmatrix}\n",
    "1 & 0\\\\\n",
    "0 &  1\n",
    "\\end{pmatrix} \n",
    "\\quad {\\rm and} \\quad\n",
    "C\\big(R_Y(\\pi/2)\\big) = \\frac 1 2\n",
    "\\begin{pmatrix}\n",
    "1 &  1\\\\\n",
    "1 &  1\n",
    "\\end{pmatrix}. \n",
    "$$\n",
    "Instead of using a different input state we could have measured in different bases. A rough way to think about quantum process tomography is you need to input a tomographically complete set of input states and measure the confusion matrix of those states in a tomographically complete basis.\n",
    "\n",
    "A *tomographically complete* set of operators is an operator basis on the Hilbert space of the system. For a single qubit this is the Pauli operators $\\{ I, X, Y, Z \\}$.\n"
   ]
  },
  {
   "cell_type": "markdown",
   "metadata": {},
   "source": [
    "### Quantum process tomography in general   \n",
    "\n",
    "The above analogy gets further stretched when we consider imperfect gates (non unitary processes). Indeed understanding quantum process tomography is beyond the scope of this notebook.\n",
    "\n",
    "\n",
    "Quantum process tomography involves\n",
    " - preparing a state\n",
    " - executing a process (the thing you are trying to estimate)\n",
    " - measuring in a basis\n",
    " \n",
    " <figure>\n",
    "  <img src=\"figs/process-tomo.png\" alt=\"Drawing\" style=\"width: 460px;\"/>\n",
    "  <figcaption>Figure 1. For process tomography, rotations must be prepended and appended to fully resolve the action of V on arbitrary initial states.</figcaption>\n",
    "</figure>\n",
    " \n",
    " \n",
    "The process is kept fixed, while the experimental settings (the preparation and measurement) are varied using pre and post rotations, see Figure 1. To estimate a quantum process matrix on $n$ qubits requires estimating $D^4-D^2$ parameters where $D=2^n$ is the dimension of the Hilbert space.\n",
    "\n",
    "\n",
    "\n",
    "Programmatically ((prep, measure) tuples) are varied. You first choose a suitable set of input states and measurement operators, and then run every `itertools.product` combination of settings.\n",
    "\n",
    "There are two choices of tomographically complete input states, *SIC* states and *Pauli* states.\n",
    "\n",
    "The SIC states are the states corresponding to the directions of a [SIC POVM](https://en.wikipedia.org/wiki/SIC-POVM). In this case there are only four states, but we still have to measure in the Pauli basis. The scaling of the number of experiments with respect to number of qubits is therefore $4^n 3^n$.\n",
    "\n",
    "The alternative is to use $\\pm$ eigenstates of the Pauli operators as our tomographically complete input states. In this case there are six input states, and we still have to measure in the Pauli basis. The scaling of the number of experiments with respect to number of qubits is therefore $6^n 3^n$."
   ]
  },
  {
   "cell_type": "markdown",
   "metadata": {},
   "source": [
    "**More information** \n",
    "\n",
    "\n",
    "When thinking about process tomography it is necessary to understand superoperators. For more information see [superoperator_representations.md](../.././forest-benchmarking/docs/superoperator_representations.md) and the [superoperator_tools ipython notebook](superoperator_tools.ipynb).\n",
    "\n",
    "Also see the following references:\n",
    "\n",
    "[CWPHD] *Initialization and characterization of open quantum systems*  \n",
    "Christopher Wood,  \n",
    "Chapter 3, PhD Thesis, University of Waterloo (2015)  \n",
    "http://hdl.handle.net/10012/9557  \n",
    "\n",
    "\n",
    "[IGST]  *Introduction to Quantum Gate Set Tomography*  \n",
    "Daniel Greenbaum,  \n",
    "arXiv:1509.02921 (2015)    \n",
    "https://arxiv.org/abs/1509.02921  \n",
    "\n",
    "\n",
    "[PBT]  *Practical Bayesian Tomography*  \n",
    "Christopher Granade et al.  \n",
    "New J. Phys. 18, 033024 (2016)  \n",
    "https://dx.doi.org/10.1088/1367-2630/18/3/033024  \n",
    "https://arxiv.org/abs/1509.03770\n",
    "\n",
    "\n",
    "[SCQPT] Self-Consistent Quantum Process Tomography  \n",
    "Seth T. Merkel et al.  \n",
    "Phys. Rev. A 87, 062119 (2013)  \n",
    "https://dx.doi.org/10.1103/PhysRevA.87.062119  \n",
    "https://arxiv.org/abs/1211.0322  "
   ]
  },
  {
   "cell_type": "markdown",
   "metadata": {},
   "source": [
    "## Quantum process tomography in `forest.benchmarking`\n",
    "\n",
    "Before reading this section make sure you are familiar with the [state tomography ipython notebook](tomography_state.ipynb)."
   ]
  },
  {
   "cell_type": "markdown",
   "metadata": {},
   "source": [
    "The basic workflow is:\n",
    "\n",
    "1. Prepare a process that you wish to estiamte by specifying a pyQuil program.\n",
    "2. Construct a list of input and output observables that are needed to estimate the state; we collect this into an object called an `ObservablesExperiment`.\n",
    "3. Acquire the data by running the program on a QVM or QPU.\n",
    "4. Apply an estimator to the data to obtain an estimate of the process.\n",
    "5. Compare the estimated state to the true state by a distance measure or visualization.\n",
    "\n",
    "\n",
    "Below we break these steps down into all their ghastly glory. "
   ]
  },
  {
   "cell_type": "markdown",
   "metadata": {},
   "source": [
    "## Step 1. Construct a process\n",
    "\n",
    "We choose an $RX(\\pi/2)$ which is represented as a pyQuil `Program`.\n",
    "\n",
    "The true process is \n",
    "\n",
    "$$\n",
    "RX(\\pi) \n",
    "=  \\exp[-i \\pi X /2] \n",
    "= \\begin{pmatrix}\n",
    "0 &  -i\\\\\n",
    "-i &  0\n",
    "\\end{pmatrix}.\n",
    "$$\n",
    "which is $X$ upto an irrelevant global phase."
   ]
  },
  {
   "cell_type": "code",
   "execution_count": 1,
   "metadata": {},
   "outputs": [],
   "source": [
    "#some imports\n",
    "import numpy as np\n",
    "from pyquil import Program, get_qc\n",
    "from pyquil.gates import *\n",
    "qc = get_qc('2q-qvm')"
   ]
  },
  {
   "cell_type": "code",
   "execution_count": 2,
   "metadata": {},
   "outputs": [
    {
     "name": "stdout",
     "output_type": "stream",
     "text": [
      "The Kraus representation is:\n",
      " [[0.+0.j 0.-1.j]\n",
      " [0.-1.j 0.+0.j]] \n",
      "\n",
      "The Choi representation is:\n",
      " [[0. 0. 0. 0.]\n",
      " [0. 1. 1. 0.]\n",
      " [0. 1. 1. 0.]\n",
      " [0. 0. 0. 0.]]\n",
      "\n",
      " The X gate choi matrix is:\n",
      " [[0. 0. 0. 0.]\n",
      " [0. 1. 1. 0.]\n",
      " [0. 1. 1. 0.]\n",
      " [0. 0. 0. 0.]]\n"
     ]
    }
   ],
   "source": [
    "# numerical representation of the true process\n",
    "\n",
    "from pyquil.gate_matrices import RX as RX_matrix\n",
    "from forest.benchmarking.operator_tools import kraus2choi\n",
    "\n",
    "kraus_true = RX_matrix(np.pi)\n",
    "print('The Kraus representation is:\\n', np.round(kraus_true, 2),'\\n')\n",
    "\n",
    "choi_true = kraus2choi(kraus_true)\n",
    "print('The Choi representation is:\\n', np.real_if_close(np.round(choi_true, 2)))\n",
    "\n",
    "from pyquil.gate_matrices import X as X_matrix\n",
    "choi_x_gate = kraus2choi(X_matrix)\n",
    "print('\\n The X gate choi matrix is:\\n', np.real_if_close(np.round(choi_x_gate)))"
   ]
  },
  {
   "cell_type": "code",
   "execution_count": 3,
   "metadata": {},
   "outputs": [
    {
     "name": "stdout",
     "output_type": "stream",
     "text": [
      "RX(pi) 0\n",
      "\n"
     ]
    }
   ],
   "source": [
    "# construct the process program\n",
    "\n",
    "qubits = [0]\n",
    "process = Program(RX(np.pi, qubits[0]))\n",
    "print(process)"
   ]
  },
  {
   "cell_type": "markdown",
   "metadata": {},
   "source": [
    "## Step 2. Construct a `ObservablesExperiment` for process tomography\n",
    "\n",
    "Note: An `I` measurement, though possible, is 'trivial' in the sense that we know the outcome is always 1; therefore, we omit the settings where I is 'measured'. Our estimators add in the contribution of this I term automatically, so be mindful of this if you are making your own settings. "
   ]
  },
  {
   "cell_type": "code",
   "execution_count": 4,
   "metadata": {},
   "outputs": [
    {
     "name": "stdout",
     "output_type": "stream",
     "text": [
      "RX(pi) 0\n",
      "0: X0_0→(1+0j)*X0\n",
      "1: X0_0→(1+0j)*Y0\n",
      "2: X0_0→(1+0j)*Z0\n",
      "3: X1_0→(1+0j)*X0\n",
      "4: X1_0→(1+0j)*Y0\n",
      "5: X1_0→(1+0j)*Z0\n",
      "6: Y0_0→(1+0j)*X0\n",
      "7: Y0_0→(1+0j)*Y0\n",
      "8: Y0_0→(1+0j)*Z0\n",
      "9: Y1_0→(1+0j)*X0\n",
      "10: Y1_0→(1+0j)*Y0\n",
      "11: Y1_0→(1+0j)*Z0\n",
      "12: Z0_0→(1+0j)*X0\n",
      "13: Z0_0→(1+0j)*Y0\n",
      "14: Z0_0→(1+0j)*Z0\n",
      "15: Z1_0→(1+0j)*X0\n",
      "16: Z1_0→(1+0j)*Y0\n",
      "17: Z1_0→(1+0j)*Z0\n"
     ]
    }
   ],
   "source": [
    "from forest.benchmarking.tomography import generate_process_tomography_experiment\n",
    "\n",
    "experiment = generate_process_tomography_experiment(process, qubits)\n",
    "print(experiment)"
   ]
  },
  {
   "cell_type": "markdown",
   "metadata": {},
   "source": [
    "## Step 3. Acquire the data\n",
    "\n",
    "PyQuil will run the tomography programs.\n",
    "\n",
    "We will use the QVM but at this point you can use a QPU."
   ]
  },
  {
   "cell_type": "code",
   "execution_count": 5,
   "metadata": {},
   "outputs": [
    {
     "data": {
      "text/plain": [
       "[ExperimentResult[X0_0→(1+0j)*X0: 1.0 +- 0.0],\n",
       " ExperimentResult[X0_0→(1+0j)*Y0: 0.028 +- 0.04470382533967311],\n",
       " ExperimentResult[X0_0→(1+0j)*Z0: 0.024 +- 0.04470847794322683],\n",
       " ExperimentResult[X1_0→(1+0j)*X0: -1.0 +- 0.0],\n",
       " ExperimentResult[X1_0→(1+0j)*Y0: 0.04 +- 0.044685568140060604],\n",
       " ExperimentResult[X1_0→(1+0j)*Z0: -0.012 +- 0.04471813949618208],\n",
       " ExperimentResult[Y0_0→(1+0j)*X0: 0.004 +- 0.04472100177768829],\n",
       " ExperimentResult[Y0_0→(1+0j)*Y0: -1.0 +- 0.0],\n",
       " ExperimentResult[Y0_0→(1+0j)*Z0: 0.0 +- 0.044721359549995794],\n",
       " ExperimentResult[Y1_0→(1+0j)*X0: -0.044 +- 0.0446780483011512],\n",
       " ExperimentResult[Y1_0→(1+0j)*Y0: 1.0 +- 0.0],\n",
       " ExperimentResult[Y1_0→(1+0j)*Z0: 0.108 +- 0.044459779576601605],\n",
       " ExperimentResult[Z0_0→(1+0j)*X0: -0.024 +- 0.04470847794322683],\n",
       " ExperimentResult[Z0_0→(1+0j)*Y0: -0.016 +- 0.04471563484956912],\n",
       " ExperimentResult[Z0_0→(1+0j)*Z0: -1.0 +- 0.0],\n",
       " ExperimentResult[Z1_0→(1+0j)*X0: -0.084 +- 0.04456330328869259],\n",
       " ExperimentResult[Z1_0→(1+0j)*Y0: 0.064 +- 0.044629676225578875],\n",
       " ExperimentResult[Z1_0→(1+0j)*Z0: 1.0 +- 0.0]]"
      ]
     },
     "execution_count": 5,
     "metadata": {},
     "output_type": "execute_result"
    }
   ],
   "source": [
    "from forest.benchmarking.observable_estimation import estimate_observables\n",
    "results = list(estimate_observables(qc, experiment))\n",
    "results"
   ]
  },
  {
   "cell_type": "markdown",
   "metadata": {},
   "source": [
    "## Step 4. Apply some estimators to the data \"do tomography\""
   ]
  },
  {
   "cell_type": "markdown",
   "metadata": {},
   "source": [
    "### Linear Inversion Estimate\n",
    "\n",
    "Sometimes the Linear Inversion Estimates can be unphysical. But we can use `proj_choi_to_physical` to force it to be physical."
   ]
  },
  {
   "cell_type": "code",
   "execution_count": 6,
   "metadata": {},
   "outputs": [
    {
     "name": "stdout",
     "output_type": "stream",
     "text": [
      "Linear inversion estimate:\n",
      "\n",
      "[[ 0.01-0.j    0.  +0.01j  0.01-0.03j -0.  +0.02j]\n",
      " [ 0.  -0.01j  0.99-0.j    1.  +0.01j -0.01+0.03j]\n",
      " [ 0.01+0.03j  1.  -0.01j  1.01-0.j   -0.03-0.03j]\n",
      " [ 0.  -0.02j -0.01-0.03j -0.03+0.03j -0.01-0.j  ]]\n",
      "\n",
      " Project the above estimate to a physical estimate:\n",
      "\n",
      "[[ 0.01-0.j    0.01+0.j    0.01-0.01j -0.01+0.j  ]\n",
      " [ 0.01-0.j    0.99+0.j    0.98+0.01j -0.01+0.01j]\n",
      " [ 0.01+0.01j  0.98-0.01j  0.99-0.j   -0.02-0.j  ]\n",
      " [-0.01-0.j   -0.01-0.01j -0.02+0.j    0.01+0.j  ]]\n"
     ]
    }
   ],
   "source": [
    "from forest.benchmarking.tomography import linear_inv_process_estimate\n",
    "from forest.benchmarking.superoperator_tools import proj_choi_to_physical\n",
    "\n",
    "print('Linear inversion estimate:\\n')\n",
    "choi_lin_inv_est = linear_inv_process_estimate(results, qubits)\n",
    "print(np.real_if_close(np.round(choi_lin_inv_est, 2)))\n",
    "\n",
    "print('\\n Project the above estimate to a physical estimate:\\n')\n",
    "choi_lin_inv_proj_phys_est = proj_choi_to_physical(choi_lin_inv_est)\n",
    "print(np.real_if_close(np.round(choi_lin_inv_proj_phys_est, 2)))"
   ]
  },
  {
   "cell_type": "markdown",
   "metadata": {},
   "source": [
    "### Maximum likelihood  Estimate \n",
    "\n",
    "Using the [PGDB algorithm](https://arxiv.org/abs/1803.10062)."
   ]
  },
  {
   "cell_type": "code",
   "execution_count": 7,
   "metadata": {},
   "outputs": [
    {
     "data": {
      "text/plain": [
       "array([[-0.  +0.j  ,  0.01-0.j  ,  0.01-0.j  , -0.  +0.j  ],\n",
       "       [ 0.01+0.j  ,  1.  -0.j  ,  1.01+0.01j, -0.01+0.j  ],\n",
       "       [ 0.01+0.j  ,  1.01-0.01j,  1.  -0.j  , -0.01+0.j  ],\n",
       "       [-0.  -0.j  , -0.01-0.j  , -0.01-0.j  , -0.  +0.j  ]])"
      ]
     },
     "execution_count": 7,
     "metadata": {},
     "output_type": "execute_result"
    }
   ],
   "source": [
    "from forest.benchmarking.tomography import pgdb_process_estimate\n",
    "\n",
    "choi_mle_est = pgdb_process_estimate(results, qubits)\n",
    "np.real_if_close(np.round(choi_mle_est, 2))"
   ]
  },
  {
   "cell_type": "markdown",
   "metadata": {},
   "source": [
    "## Step 5. Compare estimated process to the true process"
   ]
  },
  {
   "cell_type": "code",
   "execution_count": 8,
   "metadata": {},
   "outputs": [],
   "source": [
    "choi_estimates = {\n",
    "    'True Process': choi_true,\n",
    "    'Linear Inv': choi_lin_inv_est,\n",
    "    'ProjLinInv': choi_lin_inv_proj_phys_est,\n",
    "    'Plain MLE': choi_mle_est\n",
    "    }"
   ]
  },
  {
   "cell_type": "markdown",
   "metadata": {},
   "source": [
    "**Process fidelity**"
   ]
  },
  {
   "cell_type": "code",
   "execution_count": 9,
   "metadata": {},
   "outputs": [
    {
     "name": "stdout",
     "output_type": "stream",
     "text": [
      "Fidelity(True Process, True Process) = 1.0\n",
      "Fidelity(True Process, Linear Inv) = 1.0\n",
      "Fidelity(True Process, ProjLinInv) = 0.992\n",
      "Fidelity(True Process, Plain MLE) = 1.003\n"
     ]
    }
   ],
   "source": [
    "from forest.benchmarking.operator_tools import choi2pauli_liouville\n",
    "from forest.benchmarking.distance_measures import process_fidelity\n",
    "\n",
    "# process_fidelity uses  pauli liouville rep\n",
    "pl_true = choi2pauli_liouville(choi_true)\n",
    "\n",
    "for key, choi_e in choi_estimates.items():\n",
    "    pl_e = choi2pauli_liouville(choi_e)\n",
    "    fid = np.round(process_fidelity(pl_true, pl_e), 3)\n",
    "    print(f\"Fidelity(True Process, {key}) = {fid}\")"
   ]
  },
  {
   "cell_type": "markdown",
   "metadata": {},
   "source": [
    "**Diamond norm distance**"
   ]
  },
  {
   "cell_type": "code",
   "execution_count": 10,
   "metadata": {},
   "outputs": [
    {
     "name": "stdout",
     "output_type": "stream",
     "text": [
      "Diamond_norm_dist(True Process, True Process) = -0.0\n",
      "Diamond_norm_dist(True Process, Linear Inv) = 0.099\n",
      "Diamond_norm_dist(True Process, ProjLinInv) = 0.05\n",
      "Diamond_norm_dist(True Process, Plain MLE) = 0.022\n"
     ]
    }
   ],
   "source": [
    "from forest.benchmarking.distance_measures import diamond_norm_distance\n",
    "\n",
    "# diamond_norm_distance takes the choi rep\n",
    "for key, choi_e in choi_estimates.items():\n",
    "    fid = np.round(diamond_norm_distance(choi_true, choi_e), 3)\n",
    "    print(f\"Diamond_norm_dist(True Process, {key}) = {fid}\")"
   ]
  },
  {
   "cell_type": "markdown",
   "metadata": {},
   "source": [
    "## Plot Pauli Transfer Matrix of Estimate"
   ]
  },
  {
   "cell_type": "code",
   "execution_count": 12,
   "metadata": {},
   "outputs": [
    {
     "data": {
      "image/png": "[encoded data removed]",
      "text/plain": [
       "<Figure size 864x288 with 6 Axes>"
      ]
     },
     "metadata": {
      "needs_background": "light"
     },
     "output_type": "display_data"
    }
   ],
   "source": [
    "import matplotlib.pyplot as plt\n",
    "from forest.benchmarking.plotting.state_process import plot_pauli_transfer_matrix\n",
    "\n",
    "fig, (ax1, ax2, ax3) = plt.subplots(1, 3, figsize=(12,4))\n",
    "plot_pauli_transfer_matrix(np.real(choi2pauli_liouville(choi_true)), ax1, title='Ideal')\n",
    "plot_pauli_transfer_matrix(np.real(choi2pauli_liouville(choi_lin_inv_est)), ax2, title='Lin Inv Estimate')\n",
    "plot_pauli_transfer_matrix(np.real(choi2pauli_liouville(choi_mle_est)), ax3, title='MLE Estimate')\n",
    "plt.tight_layout()\n"
   ]
  },
  {
   "cell_type": "markdown",
   "metadata": {},
   "source": [
    "## Two qubit example - CNOT"
   ]
  },
  {
   "cell_type": "code",
   "execution_count": 14,
   "metadata": {},
   "outputs": [
    {
     "name": "stdout",
     "output_type": "stream",
     "text": [
      "CNOT 0 1\n",
      "0: SIC0_0 * SIC0_1→(1+0j)*X1\n",
      "1: SIC0_0 * SIC0_1→(1+0j)*Y1\n",
      "2: SIC0_0 * SIC0_1→(1+0j)*Z1\n",
      "3: SIC0_0 * SIC0_1→(1+0j)*X0\n",
      "4: SIC0_0 * SIC0_1→(1+0j)*X0X1\n",
      "5: SIC0_0 * SIC0_1→(1+0j)*X0Y1\n",
      "6: SIC0_0 * SIC0_1→(1+0j)*X0Z1\n",
      "7: SIC0_0 * SIC0_1→(1+0j)*Y0\n",
      "8: SIC0_0 * SIC0_1→(1+0j)*Y0X1\n",
      "9: SIC0_0 * SIC0_1→(1+0j)*Y0Y1\n",
      "... 220 not shown ...\n",
      "... use e.settings_string() for all ...\n",
      "230: SIC3_0 * SIC3_1→(1+0j)*X0Y1\n",
      "231: SIC3_0 * SIC3_1→(1+0j)*X0Z1\n",
      "232: SIC3_0 * SIC3_1→(1+0j)*Y0\n",
      "233: SIC3_0 * SIC3_1→(1+0j)*Y0X1\n",
      "234: SIC3_0 * SIC3_1→(1+0j)*Y0Y1\n",
      "235: SIC3_0 * SIC3_1→(1+0j)*Y0Z1\n",
      "236: SIC3_0 * SIC3_1→(1+0j)*Z0\n",
      "237: SIC3_0 * SIC3_1→(1+0j)*Z0X1\n",
      "238: SIC3_0 * SIC3_1→(1+0j)*Z0Y1\n",
      "239: SIC3_0 * SIC3_1→(1+0j)*Z0Z1\n"
     ]
    }
   ],
   "source": [
    "# the process\n",
    "qubits = [0, 1]\n",
    "process = Program(CNOT(qubits[0], qubits[1]))\n",
    "\n",
    "# the experiment object\n",
    "experiment = generate_process_tomography_experiment(process, qubits, in_basis='sic')\n",
    "print(experiment)"
   ]
  },
  {
   "cell_type": "code",
   "execution_count": 15,
   "metadata": {},
   "outputs": [
    {
     "data": {
      "text/plain": [
       "[ExperimentResult[SIC0_0 * SIC0_1→(1+0j)*X1: -0.036 +- 0.044692370713579295],\n",
       " ExperimentResult[SIC0_0 * SIC0_1→(1+0j)*Y1: 0.024 +- 0.04470847794322683],\n",
       " ExperimentResult[SIC0_0 * SIC0_1→(1+0j)*Z1: 1.0 +- 0.0],\n",
       " ExperimentResult[SIC0_0 * SIC0_1→(1+0j)*X0: -0.02 +- 0.04471241438347967],\n",
       " ExperimentResult[SIC0_0 * SIC0_1→(1+0j)*X0X1: -0.032 +- 0.04469845634918503],\n",
       " ExperimentResult[SIC0_0 * SIC0_1→(1+0j)*X0Y1: 0.028 +- 0.04470382533967311],\n",
       " ExperimentResult[SIC0_0 * SIC0_1→(1+0j)*X0Z1: -0.048 +- 0.04466981083461179],\n",
       " ExperimentResult[SIC0_0 * SIC0_1→(1+0j)*Y0: 0.032 +- 0.04469845634918503],\n",
       " ExperimentResult[SIC0_0 * SIC0_1→(1+0j)*Y0X1: 0.052 +- 0.0446608553433541],\n",
       " ExperimentResult[SIC0_0 * SIC0_1→(1+0j)*Y0Y1: -0.104 +- 0.04447884890596878]]"
      ]
     },
     "execution_count": 15,
     "metadata": {},
     "output_type": "execute_result"
    }
   ],
   "source": [
    "results = list(estimate_observables(qc, experiment))\n",
    "results[:10]"
   ]
  },
  {
   "cell_type": "code",
   "execution_count": 16,
   "metadata": {},
   "outputs": [],
   "source": [
    "def _print_big_matrix(mat):\n",
    "    for row in mat:\n",
    "        for elem in row:\n",
    "            elem = np.real_if_close(np.round(elem, 3), tol=1e-1)\n",
    "            if not np.isclose(elem, 0., atol=1e-2):\n",
    "                print(f'{elem:.1f}', end=' ')\n",
    "            else:\n",
    "                print(' . ', end=' ')\n",
    "        print()"
   ]
  },
  {
   "cell_type": "code",
   "execution_count": 17,
   "metadata": {},
   "outputs": [
    {
     "name": "stdout",
     "output_type": "stream",
     "text": [
      "1.0  .   .   .   .  1.0  .   .   .   .   .  1.0  .   .  1.0  .  \n",
      " .   .   .   .   .   .   .   .   .   .   .   .   .   .   .   .  \n",
      " .   .   .   .   .   .   .   .   .   .   .   .   .   .   .   .  \n",
      " .   .   .   .   .   .   .   .   .   .   .   .   .   .   .   .  \n",
      " .   .   .   .   .   .   .   .   .   .   .   .   .   .   .   .  \n",
      "1.0  .   .   .   .  1.0  .   .   .   .   .  1.0 0.0  .  1.0  .  \n",
      " .   .   .   .   .   .   .   .   .   .   .   .   .   .   .   .  \n",
      " .   .   .   .   .   .   .   .   .   .   .   .   .   .   .   .  \n",
      " .   .   .   .   .   .   .   .   .   .   .   .   .   .   .   .  \n",
      " .   .   .   .   .   .   .   .   .   .   .   .   .   .   .   .  \n",
      " .   .   .   .   .   .   .   .   .   .   .   .   .   .   .   .  \n",
      "1.0  .   .   .   .  1.0  .   .   .   .   .  1.0  .   .  1.0  .  \n",
      " .   .   .   .   .  0.0  .   .   .   .   .   .   .   .  0.0  .  \n",
      " .   .   .   .   .   .   .   .   .   .   .   .   .   .   .   .  \n",
      "1.0  .   .   .   .  1.0  .   .   .   .   .  1.0 0.0  .  1.0  .  \n",
      " .   .   .   .   .   .   .   .   .   .   .   .   .   .   .   .  \n"
     ]
    }
   ],
   "source": [
    "process_choi_est = pgdb_process_estimate(results, qubits)\n",
    "_print_big_matrix(process_choi_est)"
   ]
  },
  {
   "cell_type": "code",
   "execution_count": 18,
   "metadata": {},
   "outputs": [
    {
     "name": "stdout",
     "output_type": "stream",
     "text": [
      "1.0  .   .   .   .  1.0  .   .   .   .   .  1.0  .   .  1.0  .  \n",
      " .   .   .   .   .   .   .   .   .   .   .   .   .   .   .   .  \n",
      " .   .   .   .   .   .   .   .   .   .   .   .   .   .   .   .  \n",
      " .   .   .   .   .   .   .   .   .   .   .   .   .   .   .   .  \n",
      " .   .   .   .   .   .   .   .   .   .   .   .   .   .   .   .  \n",
      "1.0  .   .   .   .  1.0  .   .   .   .   .  1.0  .   .  1.0  .  \n",
      " .   .   .   .   .   .   .   .   .   .   .   .   .   .   .   .  \n",
      " .   .   .   .   .   .   .   .   .   .   .   .   .   .   .   .  \n",
      " .   .   .   .   .   .   .   .   .   .   .   .   .   .   .   .  \n",
      " .   .   .   .   .   .   .   .   .   .   .   .   .   .   .   .  \n",
      " .   .   .   .   .   .   .   .   .   .   .   .   .   .   .   .  \n",
      "1.0  .   .   .   .  1.0  .   .   .   .   .  1.0  .   .  1.0  .  \n",
      " .   .   .   .   .   .   .   .   .   .   .   .   .   .   .   .  \n",
      " .   .   .   .   .   .   .   .   .   .   .   .   .   .   .   .  \n",
      "1.0  .   .   .   .  1.0  .   .   .   .   .  1.0  .   .  1.0  .  \n",
      " .   .   .   .   .   .   .   .   .   .   .   .   .   .   .   .  \n"
     ]
    }
   ],
   "source": [
    "from pyquil.gate_matrices import CNOT as CNOT_matrix\n",
    "process_choi_ideal = kraus2choi(CNOT_matrix)\n",
    "_print_big_matrix(process_choi_ideal)"
   ]
  },
  {
   "cell_type": "code",
   "execution_count": 19,
   "metadata": {},
   "outputs": [
    {
     "data": {
      "image/png": "[encoded data removed]",
      "text/plain": [
       "<Figure size 864x360 with 4 Axes>"
      ]
     },
     "metadata": {
      "needs_background": "light"
     },
     "output_type": "display_data"
    }
   ],
   "source": [
    "fig, (ax1, ax2) = plt.subplots(1, 2, figsize=(12,5))\n",
    "ideal_ptm = choi2pauli_liouville(process_choi_ideal)\n",
    "est_ptm = choi2pauli_liouville(process_choi_est)\n",
    "plot_pauli_transfer_matrix(ideal_ptm, ax1, title='Ideal')\n",
    "plot_pauli_transfer_matrix(est_ptm, ax2, title='Estimate')\n",
    "plt.tight_layout()"
   ]
  },
  {
   "cell_type": "markdown",
   "metadata": {},
   "source": [
    "## Advanced topics: parallel process estimation"
   ]
  },
  {
   "cell_type": "code",
   "execution_count": 20,
   "metadata": {},
   "outputs": [],
   "source": [
    "#TODO"
   ]
  },
  {
   "cell_type": "code",
   "execution_count": null,
   "metadata": {},
   "outputs": [],
   "source": []
  }
 ],
 "metadata": {
  "kernelspec": {
   "display_name": "Python 3",
   "language": "python",
   "name": "python3"
  },
  "language_info": {
   "codemirror_mode": {
    "name": "ipython",
    "version": 3
   },
   "file_extension": ".py",
   "mimetype": "text/x-python",
   "name": "python",
   "nbconvert_exporter": "python",
   "pygments_lexer": "ipython3",
   "version": "3.7.3"
  }
 },
 "nbformat": 4,
 "nbformat_minor": 2
}
