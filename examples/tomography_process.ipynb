{
 "cells": [
  {
   "cell_type": "markdown",
   "metadata": {},
   "source": [
    "# Process tomography\n",
    "Quantum process tomography involves\n",
    " - preparing a state\n",
    " - executing a process\n",
    " - measuring in a basis\n",
    " \n",
    "The process is kept fixed, while the experimental settings ((prep, measure) tuples) are varied. You first choose a suitable set of input states and measurement operators, and then run every `itertools.product` combinations of settings.\n",
    "\n",
    "For input states, we choose the SIC basis comprised of four states, and wee measure in the Pauli basis. The scalling w.r.t. number of qubits is therefore $4^n 3^n$, which is very exponential. If you use the $\\pm$ eigenstates of the pauli operators, it scales as $6^n 3^n$."
   ]
  },
  {
   "cell_type": "code",
   "execution_count": null,
   "metadata": {},
   "outputs": [],
   "source": [
    "import numpy as np\n",
    "from pyquil import Program, get_qc\n",
    "from pyquil.gates import *\n",
    "qc = get_qc('2q-qvm')"
   ]
  },
  {
   "cell_type": "markdown",
   "metadata": {},
   "source": [
    "## Construct a process\n",
    "Which is represented as a pyQuil `Program`"
   ]
  },
  {
   "cell_type": "code",
   "execution_count": null,
   "metadata": {},
   "outputs": [],
   "source": [
    "qubits = [0]\n",
    "process = Program(RX(np.pi, qubits[0]))\n",
    "print(process)"
   ]
  },
  {
   "cell_type": "markdown",
   "metadata": {},
   "source": [
    "## Construct a `TomographyExperiment` for process tomography\n",
    "The `I` basis measurements are redundant, and can be grouped with other terms (see below)."
   ]
  },
  {
   "cell_type": "code",
   "execution_count": null,
   "metadata": {},
   "outputs": [],
   "source": [
    "from forest.benchmarking.tomography import generate_process_tomography_experiment\n",
    "experiment = generate_process_tomography_experiment(process, qubits)\n",
    "print(experiment)"
   ]
  },
  {
   "cell_type": "markdown",
   "metadata": {},
   "source": [
    "## PyQuil will run the tomography programs"
   ]
  },
  {
   "cell_type": "code",
   "execution_count": null,
   "metadata": {},
   "outputs": [],
   "source": [
    "from forest.benchmarking.observable_estimation import estimate_observables\n",
    "results = list(estimate_observables(qc, experiment))\n",
    "results"
   ]
  },
  {
   "cell_type": "markdown",
   "metadata": {},
   "source": [
    "## Linear Inversion Estimate\n",
    "\n",
    "Sometimes the Linear Inversion Estimates can be unphysical. But we can use `proj_choi_to_physical` to force it to be physical."
   ]
  },
  {
   "cell_type": "code",
   "execution_count": 5,
   "metadata": {},
   "outputs": [
    {
     "name": "stdout",
     "output_type": "stream",
     "text": [
      "[[-0.03-0.j   -0.01-0.j   -0.01+0.j   -0.  +0.02j]\n",
      " [-0.01+0.j    1.03-0.j    1.  +0.j    0.01-0.01j]\n",
      " [-0.  -0.01j  1.  -0.j    0.97-0.j    0.02+0.02j]\n",
      " [ 0.  -0.02j  0.  +0.01j  0.02-0.02j  0.03-0.j  ]]\n",
      "\n",
      " Project the above estimate to a physical estimate:\n",
      "\n",
      "[[-0.  +0.j   -0.01+0.j   -0.01+0.j   -0.  +0.01j]\n",
      " [-0.01-0.j    1.  -0.j    0.99+0.j    0.01-0.j  ]\n",
      " [-0.01-0.j    0.99-0.j    0.97+0.j    0.02+0.01j]\n",
      " [-0.  -0.01j  0.01+0.j    0.02-0.01j  0.03-0.j  ]]\n"
     ]
    }
   ],
   "source": [
    "from forest.benchmarking.tomography import linear_inv_process_estimate\n",
    "from forest.benchmarking.superoperator_tools import proj_choi_to_physical\n",
    "\n",
    "process_choi_est_lin_inv = linear_inv_process_estimate(results, qubits)\n",
    "print(np.real_if_close(np.round(process_choi_est_lin_inv, 2)))\n",
    "\n",
    "\n",
    "print('\\n Project the above estimate to a physical estimate:\\n')\n",
    "print(np.real_if_close(np.round(proj_choi_to_physical(process_choi_est_lin_inv), 2)))"
   ]
  },
  {
   "cell_type": "markdown",
   "metadata": {},
   "source": [
    "## PGDB Estimate"
   ]
  },
  {
   "cell_type": "code",
   "execution_count": null,
   "metadata": {},
   "outputs": [],
   "source": [
    "from forest.benchmarking.tomography import pgdb_process_estimate\n",
    "process_choi_est = pgdb_process_estimate(results, qubits)\n",
    "np.real_if_close(np.round(process_choi_est, 2))"
   ]
  },
  {
   "cell_type": "markdown",
   "metadata": {},
   "source": [
    "Ideal Choi Matrix"
   ]
  },
  {
   "cell_type": "code",
   "execution_count": null,
   "metadata": {},
   "outputs": [],
   "source": [
    "from forest.benchmarking.superoperator_tools import kraus2choi\n",
    "from pyquil.gate_matrices import X as X_matrix\n",
    "process_choi_ideal = kraus2choi(X_matrix)\n",
    "np.real_if_close(np.round(process_choi_ideal))"
   ]
  },
  {
   "cell_type": "markdown",
   "metadata": {},
   "source": [
    "## Plot Pauli Transfer Matrix of Estimate"
   ]
  },
  {
   "cell_type": "code",
   "execution_count": null,
   "metadata": {},
   "outputs": [],
   "source": [
    "import matplotlib.pyplot as plt\n",
    "from forest.benchmarking.superoperator_tools import choi2pauli_liouville\n",
    "from forest.benchmarking.plotting.state_process import plot_pauli_transfer_matrix\n",
    "\n",
    "fig, (ax1, ax2, ax3) = plt.subplots(1, 3, figsize=(12,5))\n",
    "plot_pauli_transfer_matrix(np.real(choi2pauli_liouville(process_choi_ideal)), ax1, title='Ideal')\n",
    "plot_pauli_transfer_matrix(np.real(choi2pauli_liouville(process_choi_est_lin_inv)), ax2, title='Lin Inv Estimate')\n",
    "plot_pauli_transfer_matrix(np.real(choi2pauli_liouville(process_choi_est)), ax3, title='PGDB Estimate')\n",
    "plt.tight_layout()"
   ]
  },
  {
   "cell_type": "markdown",
   "metadata": {},
   "source": [
    "## Two qubit example - CNOT"
   ]
  },
  {
   "cell_type": "code",
   "execution_count": null,
   "metadata": {},
   "outputs": [],
   "source": [
    "qubits = [0, 1]\n",
    "process = Program(CNOT(qubits[0], qubits[1]))\n",
    "experiment = generate_process_tomography_experiment(process, qubits, in_basis='sic')\n",
    "print(experiment)"
   ]
  },
  {
   "cell_type": "code",
   "execution_count": null,
   "metadata": {},
   "outputs": [],
   "source": [
    "results = list(estimate_observables(qc, experiment))\n",
    "results[:10]"
   ]
  },
  {
   "cell_type": "code",
   "execution_count": null,
   "metadata": {},
   "outputs": [],
   "source": [
    "def _print_big_matrix(mat):\n",
    "    for row in mat:\n",
    "        for elem in row:\n",
    "            elem = np.real_if_close(np.round(elem, 3), tol=1e-1)\n",
    "            if not np.isclose(elem, 0., atol=1e-2):\n",
    "                print(f'{elem:.1f}', end=' ')\n",
    "            else:\n",
    "                print(' . ', end=' ')\n",
    "        print()"
   ]
  },
  {
   "cell_type": "code",
   "execution_count": null,
   "metadata": {},
   "outputs": [],
   "source": [
    "process_choi_est = pgdb_process_estimate(results, qubits)\n",
    "_print_big_matrix(process_choi_est)"
   ]
  },
  {
   "cell_type": "code",
   "execution_count": null,
   "metadata": {},
   "outputs": [],
   "source": [
    "from pyquil.gate_matrices import CNOT as CNOT_matrix\n",
    "process_choi_ideal = kraus2choi(CNOT_matrix)\n",
    "_print_big_matrix(process_choi_ideal)"
   ]
  },
  {
   "cell_type": "code",
   "execution_count": null,
   "metadata": {},
   "outputs": [],
   "source": [
    "fig, (ax1, ax2) = plt.subplots(1, 2, figsize=(12,5))\n",
    "ideal_ptm = choi2pauli_liouville(process_choi_ideal)\n",
    "est_ptm = choi2pauli_liouville(process_choi_est)\n",
    "plot_pauli_transfer_matrix(ideal_ptm, ax1, title='Ideal')\n",
    "plot_pauli_transfer_matrix(est_ptm, ax2, title='Estimate')\n",
    "plt.tight_layout()"
   ]
  },
  {
   "cell_type": "code",
   "execution_count": null,
   "metadata": {},
   "outputs": [],
   "source": []
  }
 ],
 "metadata": {
  "language_info": {
   "name": "python",
   "pygments_lexer": "ipython3"
  }
 },
 "nbformat": 4,
 "nbformat_minor": 2
}
