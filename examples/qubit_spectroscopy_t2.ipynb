{
 "cells": [
  {
   "cell_type": "markdown",
   "metadata": {},
   "source": [
    "# Qubit spectroscopy: $T_2^*$ (Ramsey) and $T_2$-echo (Hahn echo)  measurement example\n",
    "\n",
    "This notebook demonstrates how to assess the dephasing time, $T_2^*$, and detuning of one or more qubits on a real quantum device using pyQuil. \n",
    "\n",
    "A $T_2^*$ Ramsey experiment measures the dephasing time, $T_2^*$, of a qubit and the qubit's detuning, which is a measure of the difference between the qubit's resonant frequency and the frequency of the rotation pulses being used to perform the $T_2^*$ Ramsey experiment. Ideally, this detuning would be 0, meaning our pulses are perfectly tailored to address each qubit without enacting any unintended interactions with neighboring qubits. Practically, however, qubits drift, and the pulse parameters need to be updated. We retune our qubits and pulses regularly, but if you want to assess how well tuned the pulses are to the qubits' frequencies for yourself, you can run a $T_2^*$ Ramsey experiment and see how big the qubit detuning is. \n",
    "\n",
    "To design a $T_2^*$ Ramsey experiment, we need to provide a conservative estimate for how big the detuning is. The Ramsey analysis assumes this simulated detuning value, sometimes referred to as TPPI in nuclear magnetic resonance (NMR), is less than the actual qubit detuning, so for a recently retuned chip, it's safe to make an estimate of a few megahertz (MHz). \n",
    "\n",
    "A $T_2^*$ Ramsey experiment consists of an X/2 pulse, bringing the qubit to the equator on the Bloch sphere, followed by a delay of variable duration, $t$, during which we expect the qubit to precess about the Z axis on the equator. We then apply a Z rotation through $2\\pi * t * \\text{detuning}$, where detuning is the simulated detuning. Finally, we apply another X/2 pulse, which, if the precession from the delay and the manual Z rotation offset each other perfectly, should land the qubit in the excited state. When the precession from the delay and the Z rotation do not offset each other perfectly, the qubit does not land perfectly in the excited state, so the excited state visibility oscillates sinusoidally in time, creating fringes. While this is happening, dephasing also causes the state to contract toward the center of the Bloch sphere, away from its surface. This causes the amplitude of the fringes to decay in time, so we expect an exponentially-decaying sinusoidal waveform as a function of the delay time. We calculate the time decay constant from these fringes, as in $T_1$ experiments, and call this quantity $T_2^*$. We also fit to the frequency of the Ramsey fringes to get our calculated detuning. \n",
    "\n",
    "A sample QUIL program at one data point (specified by the duration of the DELAY pragma) for qubit 0 with a 10us delay and 5 MHz of simulated detuning (so that $2\\pi * t * \\text{detuning} = 100\\pi$) would look like \n",
    "\n",
    "    DECLARE ro BIT[1]\n",
    "    RX(pi/2) 0\n",
    "    PRAGMA DELAY 0 \"1e-05\"\n",
    "    RZ(100*pi) 0\n",
    "    RX(pi/2) 0\n",
    "    MEASURE 0 ro[0]\n",
    "\n",
    "**NB: Since decoherence and dephasing noise are only simulated on gates, and we make use of DELAY pragmas to simulate relaxation time, we cannot simulate dephasing on the QPU with this experiment as written. This notebook should only be run on a real quantum device.**"
   ]
  },
  {
   "cell_type": "markdown",
   "metadata": {},
   "source": [
    "## setup - imports and relevant units"
   ]
  },
  {
   "cell_type": "code",
   "execution_count": null,
   "metadata": {},
   "outputs": [],
   "source": [
    "import pandas as pd\n",
    "from matplotlib import pyplot as plt\n",
    "from pyquil.api import get_qc, QuantumComputer\n",
    "\n",
    "from forest.benchmarking.qubit_spectroscopy import (\n",
    "    generate_t2_star_experiments,\n",
    "    generate_t2_echo_experiments,\n",
    "    acquire_t2_data,\n",
    "    estimate_t2,\n",
    "    plot_t2_estimate_over_data)"
   ]
  },
  {
   "cell_type": "markdown",
   "metadata": {},
   "source": [
    "We treat SI base units, such as the second, as dimensionless, unit quantities, so we define relative units, such as the microsecond, using scientific notation. "
   ]
  },
  {
   "cell_type": "code",
   "execution_count": null,
   "metadata": {},
   "outputs": [],
   "source": [
    "MHZ = 1e6\n",
    "MICROSECOND = 1e-6"
   ]
  },
  {
   "cell_type": "markdown",
   "metadata": {},
   "source": [
    "## measurement, analysis, and plotting"
   ]
  },
  {
   "cell_type": "markdown",
   "metadata": {},
   "source": [
    "This method takes in our simulated detuning frequency and a `pandas.DataFrame` object with all the $T_2^*$ data, including the times and qubits measured and the resulting decay at each data point, and plots the Ramsey fringes of each qubit with respect to increasing delay duration. It also fits to an exponentially-decay sinusoid, evaluates the fitted time decay constant, $T_2^*$, and fitted detuning for each qubit, and plots the fitted curve on top of the experimental data so that a user can assess the fit if so desired. "
   ]
  },
  {
   "cell_type": "markdown",
   "metadata": {},
   "source": [
    "**Get a quantum computer**"
   ]
  },
  {
   "cell_type": "code",
   "execution_count": null,
   "metadata": {},
   "outputs": [],
   "source": [
    "#qc = get_qc('Aspen-1-15Q-A')\n",
    "qc = get_qc('2q-noisy-qvm') # will run on a QVM, but not meaningfully \n",
    "qubits = qc.qubits()\n",
    "qubits"
   ]
  },
  {
   "cell_type": "markdown",
   "metadata": {},
   "source": [
    "# $T_2^*$ Experiment"
   ]
  },
  {
   "cell_type": "markdown",
   "metadata": {},
   "source": [
    "**Generate simultaneous $T_2^*$ experiments**\n",
    "\n",
    "We can specify which qubits we want to measure using `qubits` and the maximum delay we'll use for each using `stop_time`. "
   ]
  },
  {
   "cell_type": "code",
   "execution_count": null,
   "metadata": {},
   "outputs": [],
   "source": [
    "stop_time = 13 * MICROSECOND\n",
    "num_shots = 1000\n",
    "num_points = 30\n",
    "detune = 5e6\n",
    "#qubits = [0,1,2]\n",
    "t2_star_exp = generate_t2_star_experiments(qubits, stop_time, detune, num_shots, num_points)"
   ]
  },
  {
   "cell_type": "code",
   "execution_count": null,
   "metadata": {},
   "outputs": [],
   "source": [
    "t2_star_exp"
   ]
  },
  {
   "cell_type": "markdown",
   "metadata": {},
   "source": [
    "**Acquire data**\n",
    "\n",
    "Collect our $T_2^*$ raw data using `acquire_t2_data`. "
   ]
  },
  {
   "cell_type": "code",
   "execution_count": null,
   "metadata": {},
   "outputs": [],
   "source": [
    "results_t2_star = acquire_t2_data(qc, t2_star_exp)"
   ]
  },
  {
   "cell_type": "markdown",
   "metadata": {},
   "source": [
    "**Use the results to produce estimates of $T_2^*$**"
   ]
  },
  {
   "cell_type": "code",
   "execution_count": null,
   "metadata": {},
   "outputs": [],
   "source": [
    "est_star = estimate_t2(results_t2_star)"
   ]
  },
  {
   "cell_type": "markdown",
   "metadata": {},
   "source": [
    "**Now plot a subset with the fits**"
   ]
  },
  {
   "cell_type": "code",
   "execution_count": null,
   "metadata": {},
   "outputs": [],
   "source": [
    "plot_t2_estimate_over_data(results_t2_star, est_star, [0,1], t2_type='star')"
   ]
  },
  {
   "cell_type": "markdown",
   "metadata": {},
   "source": [
    "# $T_2$-echo experiment"
   ]
  },
  {
   "cell_type": "code",
   "execution_count": null,
   "metadata": {},
   "outputs": [],
   "source": [
    "t2_echo_exp = generate_t2_echo_experiments(qubits, stop_time, detune, num_shots, num_points)"
   ]
  },
  {
   "cell_type": "markdown",
   "metadata": {},
   "source": [
    "**Acquire data**\n",
    "\n",
    "Collect our $T_2$-echo raw data using `acquire_t2_data`."
   ]
  },
  {
   "cell_type": "code",
   "execution_count": null,
   "metadata": {},
   "outputs": [],
   "source": [
    "results_t2_echo = acquire_t2_data(qc, t2_echo_exp)"
   ]
  },
  {
   "cell_type": "markdown",
   "metadata": {},
   "source": [
    "**Use the results to produce estimates of $T_2$-echo**"
   ]
  },
  {
   "cell_type": "code",
   "execution_count": null,
   "metadata": {},
   "outputs": [],
   "source": [
    "est_echo = estimate_t2(results_t2_echo)"
   ]
  },
  {
   "cell_type": "markdown",
   "metadata": {},
   "source": [
    "**Now plot a subset with the fits**"
   ]
  },
  {
   "cell_type": "code",
   "execution_count": null,
   "metadata": {},
   "outputs": [],
   "source": [
    "plot_t2_estimate_over_data(results_t2_echo, est_echo,[0,1], t2_type='echo')"
   ]
  },
  {
   "cell_type": "code",
   "execution_count": null,
   "metadata": {},
   "outputs": [],
   "source": []
  }
 ],
 "metadata": {
  "kernelspec": {
   "display_name": "Python 3",
   "language": "python",
   "name": "python3"
  },
  "language_info": {
   "codemirror_mode": {
    "name": "ipython",
    "version": 3
   },
   "file_extension": ".py",
   "mimetype": "text/x-python",
   "name": "python",
   "nbconvert_exporter": "python",
   "pygments_lexer": "ipython3",
   "version": "3.6.3"
  }
 },
 "nbformat": 4,
 "nbformat_minor": 2
}
