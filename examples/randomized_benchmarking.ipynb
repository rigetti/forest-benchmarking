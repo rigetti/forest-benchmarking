{
 "cells": [
  {
   "cell_type": "markdown",
   "metadata": {},
   "source": [
    "# Randomized Benchmarking\n",
    "\n",
    "In this notebook we explore the subset of methods in `randomized_benchmarking.py` that are related specifically to standard randomized benchmarking. \n",
    "\n",
    "This includes \n",
    "\n",
    "- generating pyquil `Program`s that constitute a sequence of random Clifford gates.\n",
    "\n",
    "- grouping sequences on disjoint sets of qubits into 'simultaneous' or 'parallel' RB experiments\n",
    "\n",
    "- running these experiments on a quantum computer and isolating the relevant measurement results\n",
    "\n",
    "- fitting an exponential decay model to the data in order to estimate the RB decay parameter\n",
    "\n",
    "- converting the estimated RB decay parameter into an estimate of the average Clifford gate error on the given qubits\n",
    "\n",
    "\n",
    "For information and examples concerning specifically interleaved RB or unitarity RB please refer to the respective dedicated notebooks in `/examples/`\n",
    "\n",
    "\n"
   ]
  },
  {
   "cell_type": "markdown",
   "metadata": {},
   "source": [
    "## Motivation and Background\n",
    "\n",
    "Randomized benchmarking is a commonly used protocol for characterizing an 'average performance' for gates on a quantum computer. It exhibits efficient scaling in the number of qubits overwhich the characterized gateset acts and is robust to state preparation and measurement noise. The RB decay parameter which is estimated in this procedure can be related to an estimate of 'average gate error' to the ideal, although some care is needed in interpreting this quantity; in particular note that the estimated gate error is *not* the gate infidelity averaged over the *native gateset* for our QPU. \n",
    "\n",
    "The main idea of the protocol is to employ random sequences of gates where the ideal composite operation of the sequence is the identity. To produce such a sequence of depth `d`, each of the first `d-1` gates in the sequence are picked uniformly at random from the Clifford group. Using the group composition and inverse property the last gate is then uniquely determined as the Clifford element which inverts the composition of the previous `d-1` gates. In the presence of noise the actual sequence of Cliffords does not enact an identity operation, and instead there is some 'survival probability' `< 1` of measuring the initial state after enacting the sequence. After estimating this 'survival probability' over many independent random sequences of increasing depth one can fit an exponential decay of the form (under some assumptions):\n",
    "\n",
    "$$A_0 p^d + B_0$$\n",
    "\n",
    "The parameter $p$ estimated from this fit is the RB 'decay' which can be related to the average gate error $r$ by\n",
    "\n",
    "$$ r = 1 - p - (1 - p) / d $$\n",
    "\n",
    "A brief summary of the procedure follows:\n",
    "\n",
    "- Select some set of depths over which you expect the survival probability to decay significantly\n",
    "\n",
    "- Generate many random sequences for each depth\n",
    "\n",
    "- Estimate the 'survival probability' for each sequence by taking the fraction of outcomes matching the initial state over many shots. Here we use the `ObservablesExperiment` framework which estimates observable expectation values from which we can calculate the survival probability.\n",
    "\n",
    "- Fit an exponential decay model to the estimated survival probabilities. \n",
    "\n",
    "- Extract the decay parameter from the fit and convert to 'average gate error'\n",
    "\n",
    "\n",
    "Here is a starting point for more details:\n",
    "\n",
    "[RB] Scalable and Robust Randomized Benchmarking of Quantum Processes\n",
    "     Magesan et al.,\n",
    "     Phys. Rev. Lett. 106, 180504 (2011)\n",
    "     https://dx.doi.org/10.1103/PhysRevLett.106.180504\n",
    "     https://arxiv.org/abs/1009.3639\n"
   ]
  },
  {
   "cell_type": "markdown",
   "metadata": {},
   "source": [
    "## Diving into the code\n",
    "\n",
    "We'll start with importing the necessary methods from the `randomized_benchmarking.py` module and setting up a demo quantum computer object to characterize along with a benchmarker object that will generate our Clifford sequences.\n",
    "\n",
    "Since our demo is using a quantum virtual machine (QVM) you will need a qvm server. Additionally, we currently rely on a benchmarker object to generate the Clifford sequences, which requires a quilc server."
   ]
  },
  {
   "cell_type": "code",
   "execution_count": 1,
   "metadata": {},
   "outputs": [],
   "source": [
    "# Needs in terminal:\n",
    "# $ quilc -S\n",
    "# $ qvm -S\n",
    "\n",
    "import numpy as np\n",
    "\n",
    "from pyquil.api import get_benchmarker\n",
    "from forest.benchmarking.randomized_benchmarking import (generate_rb_sequence,\n",
    "                                                         generate_rb_experiments, acquire_rb_data,\n",
    "                                                        get_stats_by_qubit_group, fit_rb_results)\n",
    "\n",
    "%matplotlib inline"
   ]
  },
  {
   "cell_type": "code",
   "execution_count": 2,
   "metadata": {},
   "outputs": [],
   "source": [
    "from pyquil.api import get_qc, get_benchmarker\n",
    "qc = get_qc(\"9q-square-noisy-qvm\")\n",
    "bm = get_benchmarker()"
   ]
  },
  {
   "cell_type": "markdown",
   "metadata": {},
   "source": [
    " Let's start by generating a single sequence of 5 Clifford gates on qubit 0. (Note we won't have to actually call this individually to create a typical experiment)"
   ]
  },
  {
   "cell_type": "code",
   "execution_count": 3,
   "metadata": {},
   "outputs": [
    {
     "name": "stdout",
     "output_type": "stream",
     "text": [
      "RX(-pi/2) 0\n",
      "\n",
      "RZ(-pi) 0\n",
      "RX(-pi) 0\n",
      "\n",
      "RZ(pi/2) 0\n",
      "RX(pi/2) 0\n",
      "\n",
      "RX(-pi) 0\n",
      "\n",
      "RX(pi/2) 0\n",
      "RZ(pi/2) 0\n",
      "RX(-pi/2) 0\n",
      "\n"
     ]
    }
   ],
   "source": [
    "# the results are stochastic and can be seeded with random_seed = #\n",
    "sequence = generate_rb_sequence(bm, qubits=[0], depth=5)\n",
    "for gate in sequence:\n",
    "    print(gate) # each 'gate' is a separate pyquil Program"
   ]
  },
  {
   "cell_type": "markdown",
   "metadata": {},
   "source": [
    "Now let's start in on a full experiment on a single qubit. For the RB protocol we need to generate many sequences for many different depths, and we need to measure each sequence many times. We use the `ObservablesExperiment` framework, consistent with the rest of forest.benchmarking, to measure expectation of the `Z` observable, $E[Z]$, after running each sequence on our qubit; the survival probability will simply be $(E[Z] + 1)/2$.\n",
    "\n",
    "Since we will use the same experiment generation for 'simultaneous' rb experiments we will need to specify our qubit as belonging to an isolated single-qubit group."
   ]
  },
  {
   "cell_type": "code",
   "execution_count": 4,
   "metadata": {},
   "outputs": [
    {
     "name": "stdout",
     "output_type": "stream",
     "text": [
      "RX(pi/2) 2; RZ(pi/2) 2; RZ(-pi/2) 2; RX(-pi/2) 2\n",
      "0: Z0_2→(1+0j)*Z2\n"
     ]
    }
   ],
   "source": [
    "qubit_groups = [(2,)] # characterize the 1q gates on qubit 2\n",
    "num_sequences_per_depth = 10\n",
    "depths = [d for d in [2,25,50,125] for _ in range(num_sequences_per_depth)]  # specify the depth of each sequence\n",
    "\n",
    "experiments_1q = generate_rb_experiments(bm, qubit_groups, depths)\n",
    "print(experiments_1q[0])  \n",
    "# shows the overall sequence being generated \n",
    "# and that we'll be initializing qubit 2 to the zero state and measuring the Z observable. "
   ]
  },
  {
   "cell_type": "markdown",
   "metadata": {},
   "source": [
    "We can immediately acquire data for these experiments."
   ]
  },
  {
   "cell_type": "code",
   "execution_count": 5,
   "metadata": {},
   "outputs": [
    {
     "name": "stdout",
     "output_type": "stream",
     "text": [
      "[ExperimentResult[Z0_2→(1+0j)*Z2: 0.924 +- 0.01710111107501498]]\n"
     ]
    }
   ],
   "source": [
    "num_shots = 500\n",
    "# run the sequences on the qc object initialized above\n",
    "results_1q = acquire_rb_data(qc, experiments_1q, num_shots)\n",
    "print(results_1q[0])\n",
    "# shows the estimates for each observable on sequence 0\n",
    "# for now there's only one observable so we get a list of lenght 1"
   ]
  },
  {
   "cell_type": "markdown",
   "metadata": {},
   "source": [
    "We can unpack the results from each `ExperimentResult` and pass this into a fit. "
   ]
  },
  {
   "cell_type": "code",
   "execution_count": 6,
   "metadata": {},
   "outputs": [],
   "source": [
    "# in this case it is simple to unpack the results--there is one result per sequence\n",
    "expectations = [[res[0].expectation] for res in results_1q]\n",
    "std_errs = [[res[0].std_err] for res in results_1q]\n",
    "\n",
    "# we can also use a convenience method, which will be especially helpful with more complicated experiments\n",
    "stats_q2 = get_stats_by_qubit_group(qubit_groups, results_1q)[(2,)]\n",
    "\n",
    "# demonstrate equivalence\n",
    "np.testing.assert_array_equal(expectations, stats_q2['expectation'])\n",
    "np.testing.assert_array_equal(std_errs, stats_q2['std_err'])\n",
    "\n",
    "# fit the exponential decay model\n",
    "fit_1q = fit_rb_results(depths, expectations, std_errs, num_shots)"
   ]
  },
  {
   "cell_type": "markdown",
   "metadata": {},
   "source": [
    "This fit contains estimates for the rb decay from which we can get the gate error.\n",
    "\n",
    "We can also plot a figure "
   ]
  },
  {
   "cell_type": "code",
   "execution_count": 11,
   "metadata": {},
   "outputs": [
    {
     "name": "stdout",
     "output_type": "stream",
     "text": [
      "0.9983642178487215\n"
     ]
    },
    {
     "data": {
      "image/png": "[encoded data removed]",
      "text/plain": [
       "<matplotlib.figure.Figure at 0x7f2582cce908>"
      ]
     },
     "metadata": {},
     "output_type": "display_data"
    }
   ],
   "source": [
    "from forest.benchmarking.plotting import plot_figure_for_fit\n",
    "\n",
    "fig, ax = plot_figure_for_fit(fit_1q, xlabel=\"Sequence Length [Cliffords]\", ylabel=\"Survival Probability\", title='RB Decay for q2')\n",
    "rb_decay_q2 = fit_1q.params['decay'].value\n",
    "print(rb_decay_q2)"
   ]
  },
  {
   "cell_type": "markdown",
   "metadata": {},
   "source": [
    "## Simultaneous RB\n",
    "\n",
    "Running simultaneous experiments and multi-qubit experiments follows the same work flow. Here we'll demonstrate a 1q-simultnaeous experiment. 'Simultaneous' has to be qualified somewhat on a real QPU -- the physical action of gates is not gauranteed to occur in the order specified by a quil program (only the causal relationships). Further one sequence of gates may terminate before another 'simultaneous' sequence has. Measurement only occurs when all gates have executed. "
   ]
  },
  {
   "cell_type": "code",
   "execution_count": null,
   "metadata": {},
   "outputs": [],
   "source": []
  },
  {
   "cell_type": "markdown",
   "metadata": {},
   "source": [
    "## Generate a 2 qubit RB experiment"
   ]
  },
  {
   "cell_type": "code",
   "execution_count": null,
   "metadata": {},
   "outputs": [],
   "source": [
    "num_sequences_per_depth = 10\n",
    "depths = 3 * 2 ** np.arange(3, dtype=np.uint8)\n",
    "depths = [d for d in depths for _ in range(num_sequences_per_depth)]\n",
    "\n",
    "expts = generate_rb_experiments(bm, [(0, 2)], depths)"
   ]
  },
  {
   "cell_type": "markdown",
   "metadata": {},
   "source": [
    "## Run a single 2-qubit RB experiment on a QuantumComputer"
   ]
  },
  {
   "cell_type": "code",
   "execution_count": null,
   "metadata": {},
   "outputs": [],
   "source": [
    "expt_results = acquire_rb_data(qc, expts, num_shots=100)"
   ]
  },
  {
   "cell_type": "code",
   "execution_count": null,
   "metadata": {},
   "outputs": [],
   "source": [
    "expt_results[0]"
   ]
  },
  {
   "cell_type": "markdown",
   "metadata": {},
   "source": [
    "## Generate and run a simultaneous rb experiment on qubit 1 and qubits (0, 2)"
   ]
  },
  {
   "cell_type": "code",
   "execution_count": null,
   "metadata": {},
   "outputs": [],
   "source": [
    "qubits = [(1,), (0,2)]\n",
    "simult_expts = generate_rb_experiments(bm, qubits, depths)"
   ]
  },
  {
   "cell_type": "code",
   "execution_count": null,
   "metadata": {},
   "outputs": [],
   "source": [
    "num_shots = 100\n",
    "simult_results = acquire_rb_data(qc, simult_expts, num_shots=num_shots)"
   ]
  },
  {
   "cell_type": "markdown",
   "metadata": {},
   "source": [
    "## Organize the expectations and std_errs by qubit group (1,) and (0,2)"
   ]
  },
  {
   "cell_type": "code",
   "execution_count": null,
   "metadata": {},
   "outputs": [],
   "source": [
    "stats_by_group = get_stats_by_qubit_group(qubits, simult_results)\n",
    "assert len(stats_by_group[(1,)]['expectation']) == len(depths)"
   ]
  },
  {
   "cell_type": "markdown",
   "metadata": {},
   "source": [
    "## Fit the data separately for each group and plot."
   ]
  },
  {
   "cell_type": "code",
   "execution_count": null,
   "metadata": {},
   "outputs": [],
   "source": [
    "from forest.benchmarking.analysis.fitting import make_figure\n",
    "group = qubits[0]\n",
    "stats = stats_by_group[group]\n",
    "exps = stats['expectation']\n",
    "std_errs = stats['std_err']\n",
    "\n",
    "fit = fit_rb_results(depths, exps, std_errs)\n",
    "fig, axs = make_figure(fit, xlabel=\"Sequence Length [Cliffords]\", ylabel=\"Survival Probability\")\n",
    "rb_decay = fit.params['decay']"
   ]
  },
  {
   "cell_type": "code",
   "execution_count": null,
   "metadata": {},
   "outputs": [],
   "source": [
    "group = qubits[1]\n",
    "stats = stats_by_group[group]\n",
    "exps = stats['expectation']\n",
    "std_errs = stats['std_err']\n",
    "\n",
    "fit = fit_rb_results(depths, exps, std_errs, num_shots)\n",
    "fig, axs = make_figure(fit, xlabel=\"Sequence Length [Cliffords]\", ylabel=\"Survival Probability\")\n",
    "rb_decay = fit.params['decay']"
   ]
  },
  {
   "cell_type": "markdown",
   "metadata": {},
   "source": [
    "## Simultaneous unitarity"
   ]
  },
  {
   "cell_type": "code",
   "execution_count": null,
   "metadata": {},
   "outputs": [],
   "source": [
    "num_sequences = 10\n",
    "depths = 3 * 2 ** np.arange(3, dtype=np.uint8)\n",
    "depths = [d for d in depths for _ in range(num_sequences_per_depth)]\n",
    "qubits = [(1,), (5,)]\n",
    "\n",
    "uexpts = generate_unitarity_experiments(bm, qubits, depths)\n",
    "print(uexpts[0])\n",
    "simult_u_results = acquire_rb_data(qc, uexpts, num_shots=100)"
   ]
  },
  {
   "cell_type": "code",
   "execution_count": null,
   "metadata": {},
   "outputs": [],
   "source": [
    "from forest.benchmarking.analysis.fitting import make_figure\n",
    "stats_by_group = get_stats_by_qubit_group(qubits, simult_u_results)\n",
    "\n",
    "group = qubits[0]\n",
    "stats = stats_by_group[group]\n",
    "exps = stats['expectation']\n",
    "std_errs = stats['std_err']\n",
    "\n",
    "fit = fit_unitarity_results(depths, exps, std_errs)\n",
    "fig, axs = make_figure(fit, xlabel=\"Sequence Length [Cliffords]\", ylabel=\"Shifted Purity\")\n",
    "unitarity = fit.params['decay'].value"
   ]
  },
  {
   "cell_type": "code",
   "execution_count": null,
   "metadata": {},
   "outputs": [],
   "source": [
    "group = qubits[1]\n",
    "stats = stats_by_group[group]\n",
    "exps = stats['expectation']\n",
    "std_errs = stats['std_err']\n",
    "\n",
    "fit = fit_unitarity_results(depths, exps, std_errs)\n",
    "fig, axs = make_figure(fit, xlabel=\"Sequence Length [Cliffords]\", ylabel=\"Shifted Purity\")\n",
    "unitarity = fit.params['decay'].value"
   ]
  },
  {
   "cell_type": "code",
   "execution_count": null,
   "metadata": {},
   "outputs": [],
   "source": []
  }
 ],
 "metadata": {
  "kernelspec": {
   "display_name": "Python 3",
   "language": "python",
   "name": "python3"
  },
  "language_info": {
   "codemirror_mode": {
    "name": "ipython",
    "version": 3
   },
   "file_extension": ".py",
   "mimetype": "text/x-python",
   "name": "python",
   "nbconvert_exporter": "python",
   "pygments_lexer": "ipython3",
   "version": "3.6.5"
  }
 },
 "nbformat": 4,
 "nbformat_minor": 2
}
