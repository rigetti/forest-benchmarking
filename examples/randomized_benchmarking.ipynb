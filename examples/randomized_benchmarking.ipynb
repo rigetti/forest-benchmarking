{
 "cells": [
  {
   "cell_type": "markdown",
   "metadata": {},
   "source": [
    "# Randomized Benchmarking\n",
    "\n",
    "In this notebook we explore the subset of methods in `randomized_benchmarking.py` that are related specifically to standard randomized benchmarking. \n",
    "\n",
    "This includes \n",
    "\n",
    "- generating pyquil `Program`s that constitute a sequence of random Clifford gates.\n",
    "\n",
    "- grouping sequences on disjoint sets of qubits into 'simultaneous' or 'parallel' RB experiments\n",
    "\n",
    "- running these experiments on a quantum computer and isolating the relevant measurement results\n",
    "\n",
    "- fitting an exponential decay model to the data in order to estimate the RB decay parameter\n",
    "\n",
    "- converting the estimated RB decay parameter into an estimate of the average Clifford gate error on the given qubits\n",
    "\n",
    "\n",
    "For information and examples concerning specifically interleaved RB or unitarity RB please refer to the respective dedicated notebooks in `/examples/`\n",
    "\n",
    "\n"
   ]
  },
  {
   "cell_type": "markdown",
   "metadata": {},
   "source": [
    "## Motivation and Background\n",
    "\n",
    "Randomized benchmarking is a commonly used protocol for characterizing an 'average performance' for gates on a quantum computer. It exhibits efficient scaling in the number of qubits overwhich the characterized gateset acts and is robust to state preparation and measurement noise. The RB decay parameter which is estimated in this procedure can be related to an estimate of 'average gate error' to the ideal, although some care is needed in interpreting this quantity; in particular note that the estimated gate error is *not* the gate infidelity averaged over the *native gateset* for our QPU. When we say gate error below we refer to this more nuanced notion of average *Clifford* gate error. \n",
    "\n",
    "The main idea of the protocol is to employ random sequences of gates where the ideal composite operation of the sequence is the identity. To produce such a sequence of depth `d`, each of the first `d-1` gates in the sequence are picked uniformly at random from the Clifford group. Using the group composition and inverse property the last gate is then uniquely determined as the Clifford element which inverts the composition of the previous `d-1` gates. In the presence of noise the actual sequence of Cliffords does not enact an identity operation, and instead there is some 'survival probability' `< 1` of measuring the initial state after enacting the sequence. After estimating this 'survival probability' over many independent random sequences of increasing depth one can fit an exponential decay of the form (under some assumptions):\n",
    "\n",
    "$$A_0 p^d + B_0$$\n",
    "\n",
    "The parameter $p$ estimated from this fit is the RB 'decay' which can be related to the average gate error $r$ by\n",
    "\n",
    "$$ r = 1 - p - (1 - p) / \\textrm{dim} $$\n",
    "\n",
    "A brief summary of the procedure follows:\n",
    "\n",
    "- Select some set of depths over which you expect the survival probability to decay significantly\n",
    "\n",
    "- Generate many random sequences for each depth\n",
    "\n",
    "- Estimate the 'survival probability' for each sequence by taking the fraction of outcomes matching the initial state over many shots. Here we use the `ObservablesExperiment` framework which estimates observable expectation values from which we can calculate the survival probability.\n",
    "\n",
    "- Fit an exponential decay model to the estimated survival probabilities. \n",
    "\n",
    "- Extract the decay parameter from the fit and convert to 'average gate error'\n",
    "\n",
    "\n",
    "Here is a starting point for more details:\n",
    "\n",
    "    [RB] Scalable and Robust Randomized Benchmarking of Quantum Processes\n",
    "         Magesan et al.,\n",
    "         Phys. Rev. Lett. 106, 180504 (2011)\n",
    "         https://dx.doi.org/10.1103/PhysRevLett.106.180504\n",
    "         https://arxiv.org/abs/1009.3639\n"
   ]
  },
  {
   "cell_type": "markdown",
   "metadata": {},
   "source": [
    "## Diving into the code\n",
    "\n",
    "We'll start with importing the necessary methods from the `randomized_benchmarking.py` module and setting up a demo quantum computer object to characterize along with a benchmarker object that will generate our Clifford sequences.\n",
    "\n",
    "Since our demo is using a quantum virtual machine (QVM) you will need a qvm server. Additionally, we currently rely on a benchmarker object to generate the Clifford sequences, which requires a quilc server."
   ]
  },
  {
   "cell_type": "code",
   "execution_count": null,
   "metadata": {},
   "outputs": [],
   "source": [
    "# Needs in terminal:\n",
    "# $ quilc -S\n",
    "# $ qvm -S\n",
    "\n",
    "import numpy as np\n",
    "\n",
    "from pyquil.api import get_benchmarker\n",
    "from forest.benchmarking.randomized_benchmarking import (generate_rb_sequence,\n",
    "                                                         generate_rb_experiments, acquire_rb_data,\n",
    "                                                        get_stats_by_qubit_group, fit_rb_results)\n",
    "\n",
    "%matplotlib inline"
   ]
  },
  {
   "cell_type": "code",
   "execution_count": null,
   "metadata": {},
   "outputs": [],
   "source": [
    "from pyquil.api import get_qc, get_benchmarker\n",
    "qc = get_qc(\"9q-square-noisy-qvm\")\n",
    "bm = get_benchmarker()"
   ]
  },
  {
   "cell_type": "markdown",
   "metadata": {},
   "source": [
    "First we can generate a single sequence of 5 Clifford gates on qubit 0 to inspect. (Note we won't have to actually call this individually to create a typical experiment)"
   ]
  },
  {
   "cell_type": "code",
   "execution_count": null,
   "metadata": {},
   "outputs": [],
   "source": [
    "# the results are stochastic and can be seeded with random_seed = #\n",
    "sequence = generate_rb_sequence(bm, qubits=[0], depth=5)\n",
    "for gate in sequence:\n",
    "    print(gate) # each 'gate' is a separate pyquil Program"
   ]
  },
  {
   "cell_type": "markdown",
   "metadata": {},
   "source": [
    "Now let's start in on a full experiment on a single qubit. For the RB protocol we need to generate many sequences for many different depths, and we need to measure each sequence many times. We use the `ObservablesExperiment` framework, consistent with the rest of forest.benchmarking, to estimate the expectation of the `Z` observable, $E[Z]$, after running each sequence on our qubit; the survival probability will simply be $(E[Z] + 1)/2$.\n",
    "\n",
    "Since we will use the same experiment generation for 'simultaneous' rb experiments we will need to specify our qubit as belonging to an isolated single-qubit group."
   ]
  },
  {
   "cell_type": "code",
   "execution_count": null,
   "metadata": {},
   "outputs": [],
   "source": [
    "qubit_groups = [(2,)] # characterize the 1q gates on qubit 2\n",
    "num_sequences_per_depth = 10\n",
    "depths = [d for d in [2,25,50,125] for _ in range(num_sequences_per_depth)]  # specify the depth of each sequence\n",
    "\n",
    "experiments_1q = generate_rb_experiments(bm, qubit_groups, depths)\n",
    "print(experiments_1q[0])  \n",
    "# shows the overall sequence being generated \n",
    "# and that we'll be initializing qubit 2 to the zero state and measuring the Z observable. "
   ]
  },
  {
   "cell_type": "markdown",
   "metadata": {},
   "source": [
    "We can immediately acquire data for these experiments."
   ]
  },
  {
   "cell_type": "code",
   "execution_count": null,
   "metadata": {},
   "outputs": [],
   "source": [
    "num_shots = 500\n",
    "# run the sequences on the qc object initialized above\n",
    "results_1q = acquire_rb_data(qc, experiments_1q, num_shots, show_progress_bar=True)\n",
    "print(results_1q[0])\n",
    "# shows the estimates for each observable on sequence 0\n",
    "# for now there's only one observable so we get a list of lenght 1"
   ]
  },
  {
   "cell_type": "markdown",
   "metadata": {},
   "source": [
    "We can unpack the results from each `ExperimentResult` and pass this into a fit. "
   ]
  },
  {
   "cell_type": "code",
   "execution_count": null,
   "metadata": {},
   "outputs": [],
   "source": [
    "# in this case it is simple to unpack the results--there is one result per sequence\n",
    "expectations = [[res[0].expectation] for res in results_1q]\n",
    "std_errs = [[res[0].std_err] for res in results_1q]\n",
    "\n",
    "# we can also use a convenience method, which will be especially helpful with more complicated experiments\n",
    "stats_q2 = get_stats_by_qubit_group(qubit_groups, results_1q)[(2,)]\n",
    "\n",
    "# demonstrate equivalence\n",
    "np.testing.assert_array_equal(expectations, stats_q2['expectation'])\n",
    "np.testing.assert_array_equal(std_errs, stats_q2['std_err'])\n",
    "\n",
    "# fit the exponential decay model\n",
    "fit_1q = fit_rb_results(depths, expectations, std_errs, num_shots)"
   ]
  },
  {
   "cell_type": "markdown",
   "metadata": {},
   "source": [
    "This fit contains estimates for the rb decay from which we can get the gate error.\n",
    "\n",
    "We can also plot a figure "
   ]
  },
  {
   "cell_type": "code",
   "execution_count": null,
   "metadata": {},
   "outputs": [],
   "source": [
    "from forest.benchmarking.plotting import plot_figure_for_fit\n",
    "\n",
    "fig, ax = plot_figure_for_fit(fit_1q, xlabel=\"Sequence Length [Cliffords]\", ylabel=\"Survival Probability\", title='RB Decay for q2')\n",
    "rb_decay_q2 = fit_1q.params['decay'].value\n",
    "print(rb_decay_q2)"
   ]
  },
  {
   "cell_type": "markdown",
   "metadata": {},
   "source": [
    "## Simultaneous RB\n",
    "\n",
    "Running simultaneous experiments and multi-qubit experiments follows the same work flow. Here we'll demonstrate a 1q, 2q simultaneous experiment. 'Simultaneous' has to be qualified somewhat on a real QPU -- the physical action of gates is not gauranteed to occur in the order specified by a quil program (a quil program really only specifies causal relationships). Further one sequence of gates may terminate before another 'simultaneous' sequence has. Measurement only occurs when all gates have executed. "
   ]
  },
  {
   "cell_type": "code",
   "execution_count": null,
   "metadata": {},
   "outputs": [],
   "source": [
    "qubit_groups = [(2,), (4,5)] # characterize the 1q gates on qubit 2, and the 2q Cliffords on (4,5)\n",
    "num_sequences_per_depth = 10\n",
    "# specify the depth of each simultaneous sequence\n",
    "depths = [d for d in [2,25,50,125] for _ in range(num_sequences_per_depth)]  \n",
    "\n",
    "experiments_simult = generate_rb_experiments(bm, qubit_groups, depths)\n",
    "print(experiments_simult[0])  \n",
    "# note that this sequence consists of only 1q gates on qubit 2 \n",
    "# while qubits 4 and 5 should have some CZ gates"
   ]
  },
  {
   "cell_type": "markdown",
   "metadata": {},
   "source": [
    "Collecting this data on a QVM can take a few minutes"
   ]
  },
  {
   "cell_type": "code",
   "execution_count": null,
   "metadata": {},
   "outputs": [],
   "source": [
    "num_shots = 500\n",
    "# run the sequences on the qc object initialized above\n",
    "results_simult = acquire_rb_data(qc, experiments_simult, num_shots, show_progress_bar=True)\n",
    "print(results_simult[0])\n",
    "# shows the estimates for each observable on sequence 0\n",
    "# there is one observable on q2 and three on qubits (4,5)"
   ]
  },
  {
   "cell_type": "markdown",
   "metadata": {},
   "source": [
    "We plot each result. While the one qubit decay has a baseline (ideal horizontal asymptote) of .5, the two qubit decay has a baseline of .25."
   ]
  },
  {
   "cell_type": "code",
   "execution_count": null,
   "metadata": {},
   "outputs": [],
   "source": [
    "stats_simult = get_stats_by_qubit_group(qubit_groups, results_simult)\n",
    "\n",
    "fits = []\n",
    "for qubits, stats in stats_simult.items():\n",
    "    exps = stats['expectation']\n",
    "    std_errs = stats['std_err']\n",
    "    # fit the exponential decay model\n",
    "    fit = fit_rb_results(depths, exps, std_errs, num_shots)\n",
    "    fits.append(fit)\n",
    "    fig, ax = plot_figure_for_fit(fit, xlabel=\"Sequence Length [Cliffords]\", ylabel=\"Survival Probability\", title=f'RB Decay for qubits {qubits}')\n"
   ]
  },
  {
   "cell_type": "markdown",
   "metadata": {},
   "source": [
    "In general we expect that running a simultaneous RB experiment on a real QPU will result in smaller decay values due to effects such as cross-talk; this won't show up on a QVM unless you create a noise model that captures such effects."
   ]
  },
  {
   "cell_type": "markdown",
   "metadata": {},
   "source": [
    "## Advanced usage -- modifying the Clifford sequences\n",
    "\n",
    "We have broken down experiment generation into two steps if you wish to use the basic functionality provided in the RB module but want to modify the individual Clifford elements in each sequence, e.g. by replacing with a logical operation on logical qubits. "
   ]
  },
  {
   "cell_type": "code",
   "execution_count": null,
   "metadata": {},
   "outputs": [],
   "source": [
    "from forest.benchmarking.randomized_benchmarking import generate_rb_experiment_sequences\n",
    "# similar to generate_rb_experiments we need a benchmarker and the depths for each sequence. \n",
    "# unlike generate_rb_experiments we only specify a group of qubits rather than a list of simultaneous qubit groups\n",
    "qubits = (2,3)\n",
    "num_sequences_per_depth = 10\n",
    "depths = [d for d in [2,25,50,125] for _ in range(num_sequences_per_depth)]  # specify the depth of each sequence\n",
    "\n",
    "sequences_23 = generate_rb_experiment_sequences(bm, qubits, depths)\n",
    "print(sequences_23[0])\n",
    "# here we see that each sequence is given with the division into Clifford gates rather than as a single program\n",
    "# if we wished, we could modify these sequences at a Clifford-gate level."
   ]
  },
  {
   "cell_type": "code",
   "execution_count": null,
   "metadata": {},
   "outputs": [],
   "source": [
    "from forest.benchmarking.randomized_benchmarking import group_sequences_into_parallel_experiments\n",
    "# now we can collect our modified sequences into an experiment\n",
    "expt_2q_non_simult = group_sequences_into_parallel_experiments([sequences_23], [qubits])\n",
    "print(f'A 2q experiment on qubits {qubits}')\n",
    "print(expt_2q_non_simult[0])\n",
    "\n",
    "# this generalizes to simultaneous experiments\n",
    "sequences_01 = generate_rb_experiment_sequences(bm, (0,1), depths)\n",
    "expt_2q_simult = group_sequences_into_parallel_experiments([sequences_23, sequences_01], [qubits, (0,1)])\n",
    "print('\\nA simultaneous 2q experiment.')\n",
    "print(expt_2q_simult[0])"
   ]
  },
  {
   "cell_type": "markdown",
   "metadata": {},
   "source": [
    "## Advanced usage -- very fast RB by few point measurements\n",
    "\n",
    "If we have prior information (say by running RB earlier) that p=0.9 we may want to monitor the decay as a function of time to see if our experiment is drifting in time.\n",
    "\n",
    "A fisher information analysis shows that the optimal sequence length to sample given $p$ scales as\n",
    "$$\n",
    "d^{\\rm opt} \\sim - \\frac{1}{\\ln p}.\n",
    "$$\n",
    "\n",
    "Suppose the gate drifts with time and one has previously characterized the drift by doing repeated RB. Then one could imagine sampling at sequence lengths that correspond to the mean of the distribution of $\\langle p \\rangle$ and $\\langle p \\rangle \\pm {\\rm stdev}(p)$. For example if $\\langle p \\rangle = 0.9$ and ${\\rm stdev}(p) = 0.05$ then we might want to sample at $d = [6, 10, 19]$."
   ]
  },
  {
   "cell_type": "code",
   "execution_count": 16,
   "metadata": {},
   "outputs": [
    {
     "name": "stdout",
     "output_type": "stream",
     "text": [
      "[6, 6, 6, 6, 6, 6, 6, 6, 6, 6, 10, 10, 10, 10, 10, 10, 10, 10, 10, 10, 19, 19, 19, 19, 19, 19, 19, 19, 19, 19]\n"
     ]
    }
   ],
   "source": [
    "qubit_groups = [(2,)] # characterize the 1q gates on qubit 2\n",
    "num_sequences_per_depth = 10\n",
    "depths = [d for d in [6, 10, 19] for _ in range(num_sequences_per_depth)]  # specify the depth of each sequence\n",
    "print(depths)\n",
    "experiments_1q = generate_rb_experiments(bm, qubit_groups, depths)  "
   ]
  },
  {
   "cell_type": "code",
   "execution_count": 15,
   "metadata": {},
   "outputs": [
    {
     "name": "stderr",
     "output_type": "stream",
     "text": [
      "100%|██████████| 30/30 [00:05<00:00,  5.33it/s]\n"
     ]
    },
    {
     "name": "stdout",
     "output_type": "stream",
     "text": [
      "[ExperimentResult[Z0_2→(1+0j)*Z2: 0.952 +- 0.01368911976717276]]\n"
     ]
    },
    {
     "data": {
      "image/png": "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
      "text/plain": [
       "<Figure size 504x720 with 2 Axes>"
      ]
     },
     "metadata": {
      "needs_background": "light"
     },
     "output_type": "display_data"
    }
   ],
   "source": [
    "num_shots = 500\n",
    "# run the sequences on the qc object initialized above\n",
    "results_1q = acquire_rb_data(qc, experiments_1q, num_shots, show_progress_bar=True)\n",
    "print(results_1q[0])\n",
    "# in this case it is simple to unpack the results--there is one result per sequence\n",
    "expectations = [[res[0].expectation] for res in results_1q]\n",
    "std_errs = [[res[0].std_err] for res in results_1q]\n",
    "# fit the exponential decay model\n",
    "fit_1q = fit_rb_results(depths, expectations, std_errs, num_shots)\n",
    "fig, ax = plot_figure_for_fit(fit_1q, xlabel=\"Sequence Length [Cliffords]\", ylabel=\"Survival Probability\", title='RB Decay for q2')"
   ]
  },
  {
   "cell_type": "code",
   "execution_count": null,
   "metadata": {},
   "outputs": [],
   "source": []
  }
 ],
 "metadata": {
  "language_info": {
   "name": "python",
   "pygments_lexer": "ipython3"
  }
 },
 "nbformat": 4,
 "nbformat_minor": 2
}
