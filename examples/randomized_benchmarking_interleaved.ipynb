{
 "cells": [
  {
   "cell_type": "markdown",
   "metadata": {},
   "source": [
    "# Randomized Benchmarking: Interleaved RB"
   ]
  },
  {
   "cell_type": "code",
   "execution_count": null,
   "metadata": {},
   "outputs": [],
   "source": [
    "# Needs in terminal:\n",
    "# $ quilc -S\n",
    "# $ qvm -S\n",
    "\n",
    "import numpy as np\n",
    "\n",
    "from pyquil.api import get_benchmarker, get_qc\n",
    "from forest.benchmarking.randomized_benchmarking import *\n",
    "from forest.benchmarking.analysis.fitting import make_figure\n",
    "\n",
    "from pyquil.gates import *\n",
    "from pyquil import Program\n",
    "\n",
    "\n",
    "%matplotlib inline"
   ]
  },
  {
   "cell_type": "markdown",
   "metadata": {},
   "source": [
    "# You need a Quantum Computer and a Benchmarker"
   ]
  },
  {
   "cell_type": "code",
   "execution_count": null,
   "metadata": {},
   "outputs": [],
   "source": [
    "bm = get_benchmarker()\n",
    "qc = get_qc(\"9q-square-noisy-qvm\", noisy=True)"
   ]
  },
  {
   "cell_type": "markdown",
   "metadata": {},
   "source": [
    "# Setup Both RB experiments"
   ]
  },
  {
   "cell_type": "code",
   "execution_count": null,
   "metadata": {},
   "outputs": [],
   "source": [
    "# Choose your parameters\n",
    "qubit_groups = [(0, 1)]\n",
    "depths = 3 * 2 ** np.arange(4, dtype=np.uint8)\n",
    "num_sequences = 25\n",
    "depths = [d for d in depths for _ in range(num_sequences)]\n",
    "\n",
    "# Intialize and partially populate a DataFrame to summarize the experiment.\n",
    "rb_expts = generate_rb_experiments(bm, qubit_groups, depths)\n",
    "inter_expts = generate_rb_experiments(bm, qubit_groups, depths, interleaved_gate=Program(CNOT(0,1)))"
   ]
  },
  {
   "cell_type": "markdown",
   "metadata": {},
   "source": [
    "# Run Standard RB experiment"
   ]
  },
  {
   "cell_type": "code",
   "execution_count": null,
   "metadata": {},
   "outputs": [],
   "source": [
    "# Run the RB Sequences on a QuantumComputer\n",
    "num_shots=100\n",
    "rb_results = acquire_rb_data(qc, rb_expts, num_shots)\n",
    "\n",
    "# Calculate a fit to a decay curve\n",
    "stats = get_stats_by_qubit_group(qubit_groups, rb_results)[qubit_groups[0]]\n",
    "fit = fit_rb_results(depths, stats['expectation'], stats['std_err'], num_shots)\n",
    "\n",
    "# Extract rb decay parameter\n",
    "rb_decay = fit.params['decay'].value\n",
    "rb_decay_error = fit.params['decay'].stderr\n",
    "\n",
    "# Plot\n",
    "fig, axs = make_figure(fit, xlabel=\"Sequence Length [Cliffords]\", ylabel=\"Survival Probability\")"
   ]
  },
  {
   "cell_type": "markdown",
   "metadata": {},
   "source": [
    "# Run Interleaved RB experiment"
   ]
  },
  {
   "cell_type": "code",
   "execution_count": null,
   "metadata": {},
   "outputs": [],
   "source": [
    "# Run the RB Sequences on a QuantumComputer\n",
    "num_shots=100\n",
    "inter_results = acquire_rb_data(qc, inter_expts, num_shots)\n",
    "\n",
    "# Calculate a fit to a decay curve\n",
    "stats = get_stats_by_qubit_group(qubit_groups, inter_results)[qubit_groups[0]]\n",
    "fit = fit_rb_results(depths, stats['expectation'], stats['std_err'], num_shots)\n",
    "\n",
    "# Extract irb decay parameter\n",
    "irb_decay = fit.params['decay'].value\n",
    "irb_decay_error = fit.params['decay'].stderr\n",
    "\n",
    "# Plot\n",
    "fig, axs = make_figure(fit, xlabel=\"Sequence Length [Cliffords]\", ylabel=\"Survival Probability\")"
   ]
  },
  {
   "cell_type": "code",
   "execution_count": null,
   "metadata": {},
   "outputs": [],
   "source": [
    "print(rb_decay)\n",
    "print(irb_decay)"
   ]
  },
  {
   "cell_type": "markdown",
   "metadata": {},
   "source": [
    "# Average Clifford gate fidelity, and interleaved gate fidelity"
   ]
  },
  {
   "cell_type": "code",
   "execution_count": null,
   "metadata": {},
   "outputs": [],
   "source": [
    "print(rb_decay_to_gate_fidelity(rb_decay, 4))\n",
    "gate_fidelity = 1 - irb_decay_to_gate_infidelity(irb_decay, rb_decay, 4)\n",
    "print(gate_fidelity)"
   ]
  },
  {
   "cell_type": "markdown",
   "metadata": {},
   "source": [
    "# Interleaved gate fidelity bounds"
   ]
  },
  {
   "cell_type": "code",
   "execution_count": null,
   "metadata": {},
   "outputs": [],
   "source": [
    "bounds = interleaved_gate_fidelity_bounds(irb_decay, rb_decay, 4)\n",
    "print(bounds)"
   ]
  },
  {
   "cell_type": "code",
   "execution_count": null,
   "metadata": {},
   "outputs": [],
   "source": [
    "assert(bounds[0] < gate_fidelity and gate_fidelity < bounds[1])"
   ]
  },
  {
   "cell_type": "markdown",
   "metadata": {},
   "source": [
    "# Improve gate fidelity bounds with unitarity experiment. EXTREMELY SLOW"
   ]
  },
  {
   "cell_type": "code",
   "execution_count": null,
   "metadata": {},
   "outputs": [],
   "source": [
    "num_shots = 25\n",
    "\n",
    "expts = generate_unitarity_experiments(bm, qubit_groups, depths, num_sequences)\n",
    "\n",
    "results = acquire_rb_data(qc, expts, num_shots)\n",
    "stats = get_stats_by_qubit_group(qubit_groups, results)[qubit_groups[0]]\n",
    "fit = fit_unitarity_results(depths, stats['expectation'], stats['std_err'])\n",
    "\n",
    "# plot the raw data, point estimate error bars, and fit\n",
    "fig, axs = make_figure(fit, xlabel=\"Sequence Length [Cliffords]\", ylabel=\"Shifted Purity\")\n",
    "unitarity = fit.params['decay'].value"
   ]
  },
  {
   "cell_type": "markdown",
   "metadata": {},
   "source": [
    "## This may result in NaN depending on the outcome of the unitarity and difference between rb and irb decays. Getting better estimates of each helps prevent this"
   ]
  },
  {
   "cell_type": "code",
   "execution_count": null,
   "metadata": {},
   "outputs": [],
   "source": [
    "better_bounds = interleaved_gate_fidelity_bounds(irb_decay, rb_decay, 4, unitarity)\n",
    "print(better_bounds)"
   ]
  },
  {
   "cell_type": "code",
   "execution_count": null,
   "metadata": {},
   "outputs": [],
   "source": []
  }
 ],
 "metadata": {
  "language_info": {
   "name": "python",
   "pygments_lexer": "ipython3"
  }
 },
 "nbformat": 4,
 "nbformat_minor": 2
}
