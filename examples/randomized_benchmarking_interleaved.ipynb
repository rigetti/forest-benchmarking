{
 "cells": [
  {
   "cell_type": "markdown",
   "metadata": {},
   "source": [
    "# Randomized Benchmarking: Interleaved RB"
   ]
  },
  {
   "cell_type": "code",
   "execution_count": null,
   "metadata": {},
   "outputs": [],
   "source": [
    "# Needs in terminal:\n",
    "# $ quilc -S\n",
    "# $ qvm -S\n",
    "\n",
    "import numpy as np\n",
    "\n",
    "from pyquil.api import get_benchmarker, get_qc\n",
    "from forest.benchmarking.randomized_benchmarking import rb_dataframe, \\\n",
    "    add_sequences_to_dataframe, \\\n",
    "    run_rb_measurement, \\\n",
    "    add_survivals, \\\n",
    "    survivals_by_qubits, \\\n",
    "    fit_standard_rb\n",
    "from forest.benchmarking.analysis.fitting import make_figure\n",
    "\n",
    "from pyquil.gates import *\n",
    "from pyquil import Program\n",
    "\n",
    "\n",
    "%matplotlib inline"
   ]
  },
  {
   "cell_type": "markdown",
   "metadata": {},
   "source": [
    "# You need a Quantum Computer and a Benchmarker"
   ]
  },
  {
   "cell_type": "code",
   "execution_count": null,
   "metadata": {},
   "outputs": [],
   "source": [
    "bm = get_benchmarker()\n",
    "qc = get_qc(\"9q-square-qvm\")"
   ]
  },
  {
   "cell_type": "markdown",
   "metadata": {},
   "source": [
    "# Setup Both RB experiments"
   ]
  },
  {
   "cell_type": "code",
   "execution_count": null,
   "metadata": {},
   "outputs": [],
   "source": [
    "# Choose a subgraph\n",
    "subgraph = [(0, 1)]\n",
    "# Intialize and partially populate a DataFrame to summarize the experiment.\n",
    "df = rb_dataframe(rb_type=\"sim-2q\",\n",
    "                  subgraph=subgraph,\n",
    "                  depths=3 * 2 ** np.arange(4, dtype=np.uint8),\n",
    "                  num_sequences=25)\n",
    "# Generate standard RB sequences in new dataframe. This is slow!\n",
    "standard_rb_df = add_sequences_to_dataframe(df, bm)"
   ]
  },
  {
   "cell_type": "markdown",
   "metadata": {},
   "source": [
    "# Run Standard RB experiment"
   ]
  },
  {
   "cell_type": "code",
   "execution_count": null,
   "metadata": {},
   "outputs": [],
   "source": [
    "# Generate standard RB sequences in new dataframe. This is slow!\n",
    "standard_rb_df = add_sequences_to_dataframe(df, bm)\n",
    "\n",
    "# Run the RB Sequences on a QuantumComputer\n",
    "standard_rb_df = run_rb_measurement(standard_rb_df, qc, num_trials=100)\n",
    "\n",
    "# Calculate survival statistics and add these to the DataFrame\n",
    "standard_rb_df = add_survivals(standard_rb_df)\n",
    "\n",
    "# Extract the survival data into arrays keyed to each measured qubit or qubit-pair\n",
    "depths, survivals, survival_errs = {}, {}, {}\n",
    "for qubits in subgraph:\n",
    "    depths[qubits], survivals[qubits], survival_errs[qubits] = survivals_by_qubits(standard_rb_df, qubits)\n",
    "    \n",
    "# Fit the data\n",
    "fit = fit_standard_rb(depths[subgraph[0]], survivals[subgraph[0]], weights=1/survival_errs[subgraph[0]])\n",
    "\n",
    "# Plot\n",
    "fig, axs = make_figure(fit, xlabel=\"Sequence Length [Cliffords]\", ylabel=\"Survival Probability\")\n",
    "\n",
    "# Extract rb decay parameter\n",
    "rb_decay = fit.params['decay'].value"
   ]
  },
  {
   "cell_type": "markdown",
   "metadata": {},
   "source": [
    "# Run Interleaved RB experiment"
   ]
  },
  {
   "cell_type": "code",
   "execution_count": null,
   "metadata": {},
   "outputs": [],
   "source": [
    "# Generate interleaved RB sequences in new dataframe. This is slow!\n",
    "irb_df = add_sequences_to_dataframe(df, bm, interleaved_gate=Program(CNOT(0,1)))\n",
    "\n",
    "# Run the RB Sequences on a QuantumComputer\n",
    "irb_df = run_rb_measurement(irb_df, qc, num_trials=100)\n",
    "\n",
    "# Calculate survival statistics and add these to the DataFrame\n",
    "irb_df = add_survivals(irb_df)\n",
    "\n",
    "# Extract the survival data into arrays keyed to each measured qubit or qubit-pair\n",
    "depths, survivals, survival_errs = {}, {}, {}\n",
    "for qubits in subgraph:\n",
    "    depths[qubits], survivals[qubits], survival_errs[qubits] = survivals_by_qubits(irb_df, qubits)\n",
    "    \n",
    "# Fit the data\n",
    "fit = fit_standard_rb(depths[subgraph[0]], survivals[subgraph[0]], weights=1/survival_errs[subgraph[0]])\n",
    "\n",
    "# Plot\n",
    "fig, axs = make_figure(fit, xlabel=\"Sequence Length [Cliffords]\", ylabel=\"Survival Probability\")\n",
    "\n",
    "# Extract rb decay parameter\n",
    "irb_decay = fit.params['decay'].value\n"
   ]
  },
  {
   "cell_type": "code",
   "execution_count": null,
   "metadata": {},
   "outputs": [],
   "source": [
    "print(rb_decay)\n",
    "print(irb_decay)"
   ]
  },
  {
   "cell_type": "markdown",
   "metadata": {},
   "source": [
    "# Average Clifford gate fidelity, and interleaved gate fidelity"
   ]
  },
  {
   "cell_type": "code",
   "execution_count": null,
   "metadata": {},
   "outputs": [],
   "source": [
    "from forest.benchmarking.randomized_benchmarking import RB_decay_to_gate_fidelity, \\\n",
    "    irb_decay_to_gate_infidelity, \\\n",
    "    interleaved_gate_fidelity_bounds, \\\n",
    "    strip_inverse_from_sequences"
   ]
  },
  {
   "cell_type": "code",
   "execution_count": null,
   "metadata": {},
   "outputs": [],
   "source": [
    "print(RB_decay_to_gate_fidelity(rb_decay, 4))\n",
    "gate_fidelity = 1 - irb_decay_to_gate_infidelity(irb_decay, rb_decay, 4)\n",
    "print(gate_fidelity)"
   ]
  },
  {
   "cell_type": "markdown",
   "metadata": {},
   "source": [
    "# Interleaved gate fidelity bounds"
   ]
  },
  {
   "cell_type": "code",
   "execution_count": null,
   "metadata": {},
   "outputs": [],
   "source": [
    "bounds = interleaved_gate_fidelity_bounds(irb_decay, rb_decay, 4)\n",
    "print(bounds)"
   ]
  },
  {
   "cell_type": "code",
   "execution_count": null,
   "metadata": {},
   "outputs": [],
   "source": [
    "assert(bounds[0] < gate_fidelity and gate_fidelity < bounds[1])"
   ]
  },
  {
   "cell_type": "markdown",
   "metadata": {},
   "source": [
    "# Improve gate fidelity bounds with unitarity experiment. EXTREMELY SLOW"
   ]
  },
  {
   "cell_type": "code",
   "execution_count": null,
   "metadata": {},
   "outputs": [],
   "source": [
    "from forest.benchmarking.randomized_benchmarking import run_unitarity_measurement, \\\n",
    "    add_shifted_purities, \\\n",
    "    shifted_purities_by_qubits, \\\n",
    "    fit_unitarity"
   ]
  },
  {
   "cell_type": "code",
   "execution_count": null,
   "metadata": {},
   "outputs": [],
   "source": [
    "num_trials_per_seq = 25\n",
    "\n",
    "# populate dataframe with each sequence \n",
    "unitarity_df = strip_inverse_from_sequences(standard_rb_df)\n",
    "\n",
    "# run num_trials_per_sequence indepedent measurements on the qc \n",
    "# for each sequence in the dataframe\n",
    "unitarity_df = run_unitarity_measurement(unitarity_df, qc, num_trials = num_trials_per_seq)\n",
    "\n",
    "# calculate and store purity statistics from the measurement results\n",
    "unitarity_df = add_shifted_purities(unitarity_df) \n",
    "\n",
    "# organize the statistics by the qubit(s) components in the subgraph (here only one)\n",
    "depths, purities, purity_errs = {}, {}, {} \n",
    "for qubits in subgraph:\n",
    "    depths[qubits], purities[qubits], purity_errs[qubits] = shifted_purities_by_qubits(unitarity_df, qubits)\n",
    "\n",
    "# fit a model for the first (and only) component in the subgraph\n",
    "fit = fit_unitarity(depths[subgraph[0]], purities[subgraph[0]], weights= 1/purity_errs[subgraph[0]])\n",
    "\n",
    "# plot the raw data, point estimate error bars, and fit\n",
    "fig, axs = make_figure(fit, xlabel=\"Sequence Length [Cliffords]\", ylabel=\"Shifted Purity\")\n",
    "unitarity = fit.params['unitarity'].value"
   ]
  },
  {
   "cell_type": "markdown",
   "metadata": {},
   "source": [
    "## This may result in NaN depending on the outcome of the unitarity and difference between rb and irb decays. Getting better estimates of each helps prevent this"
   ]
  },
  {
   "cell_type": "code",
   "execution_count": null,
   "metadata": {},
   "outputs": [],
   "source": [
    "better_bounds = interleaved_gate_fidelity_bounds(irb_decay, rb_decay, 4, unitarity)\n",
    "print(better_bounds)"
   ]
  }
 ],
 "metadata": {
  "kernelspec": {
   "display_name": "Python 3",
   "language": "python",
   "name": "python3"
  },
  "language_info": {
   "codemirror_mode": {
    "name": "ipython",
    "version": 3
   },
   "file_extension": ".py",
   "mimetype": "text/x-python",
   "name": "python",
   "nbconvert_exporter": "python",
   "pygments_lexer": "ipython3",
   "version": "3.6.3"
  }
 },
 "nbformat": 4,
 "nbformat_minor": 2
}
