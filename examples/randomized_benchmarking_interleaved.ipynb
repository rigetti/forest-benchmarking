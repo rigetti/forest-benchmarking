{
 "cells": [
  {
   "cell_type": "markdown",
   "metadata": {},
   "source": [
    "# Randomized Benchmarking: Interleaved RB\n",
    "\n",
    "In this notebook we explore the subset of methods in `randomized_benchmarking.py` that are related specifically to interleaved randomized benchmarking (IRB). I suggest reviewing the notebook `examples/randomized_benchmarking.ipynb` first, since we will assume familiarity with its contents and treat IRB as a modification to the 'standard' RB protocol.\n",
    "\n",
    "In standard RB we are interested in characterizing the average impact of noise on our gates, and we estimate an average error rate per Clifford. Interleaved RB is designed to characterize a particular gate, which is 'interleaved' throughout the standard RB sequence. The protocol is a simple extension of standard RB which involves running sequences of random Cliffords with the gate of interest G interleaved after every Clifford. Specifically, we transform a standard RB sequence\n",
    "\n",
    "$$C_1, C_2, C_3, \\dots , C_{N-1}, C_{\\textrm{inverse}}$$\n",
    "\n",
    "into an 'interleaved' sequence\n",
    "\n",
    "$$C_1, G, C_2, G, C_3, G, \\dots , C_{N-1}, G, C'_{\\textrm{inverse}}$$\n",
    "\n",
    "where G is the gate we wish to characterize. Note that we still need to invert the sequence, so G must be an element of the Clifford group, and the final inverting gate must be updated to invert the entire sequence of gates including the G.\n",
    "\n",
    "\n",
    "The IRB protocol can be summarized as follows:\n",
    "\n",
    "- we want to characterize a gate G which acts on the set of qubits Q\n",
    "- run standard RB on the qubits Q and estimate an rb decay. \n",
    "- generate another set of sequences with the gate G interleaved in each sequence. Run these sequences exactly as you would for standard RB and estimate an rb decay, which we will call the irb decay. We expect this parameter to be smaller than the standard rb decay due to the effect of the extra applications of G. \n",
    "- use the two decay parameters to calculate the error on gate G. We can also get lower and upper bounds on the fidelity of G.\n",
    "- (Optional) run a unitarity experiment on the qubits Q and use this to improve the fidelity bounds from the last step.\n",
    "\n",
    "The following is a starting point for more information\n",
    "\n",
    "    [IRB] Efficient measurement of quantum gate error by interleaved randomized benchmarking\n",
    "        Magesan et al.,\n",
    "        Phys. Rev. Lett. 109, 080505 (2012)\n",
    "        https://dx.doi.org/10.1103/PhysRevLett.109.080505\n",
    "        https://arxiv.org/abs/1203.4550"
   ]
  },
  {
   "cell_type": "markdown",
   "metadata": {},
   "source": [
    "### The code\n",
    "The difference between an RB experiment and an IRB experiment is one flag in `generate_rb_experiments`, so we'll go through this quickly. Refer to `examples/randomized_benchmarking.ipynb` for a more careful breakdown. "
   ]
  },
  {
   "cell_type": "code",
   "execution_count": null,
   "metadata": {},
   "outputs": [],
   "source": [
    "# Needs in terminal:\n",
    "# $ quilc -S\n",
    "# $ qvm -S\n",
    "\n",
    "import numpy as np\n",
    "\n",
    "from pyquil.api import get_benchmarker, get_qc\n",
    "from forest.benchmarking.randomized_benchmarking import *\n",
    "from forest.benchmarking.plotting import plot_figure_for_fit\n",
    "\n",
    "from pyquil.gates import *\n",
    "from pyquil import Program\n",
    "\n",
    "\n",
    "%matplotlib inline"
   ]
  },
  {
   "cell_type": "markdown",
   "metadata": {},
   "source": [
    "Get a quantum computer and benchmarker object per usual"
   ]
  },
  {
   "cell_type": "code",
   "execution_count": null,
   "metadata": {},
   "outputs": [],
   "source": [
    "bm = get_benchmarker()\n",
    "qc = get_qc(\"9q-square-noisy-qvm\", noisy=True)"
   ]
  },
  {
   "cell_type": "markdown",
   "metadata": {},
   "source": [
    "We'll start be selecting our gate and hyperparameters. Then we generate two sets of experiments. The first set is the standard RB sequences and the second set has our gate interleaved in the sequences"
   ]
  },
  {
   "cell_type": "code",
   "execution_count": null,
   "metadata": {},
   "outputs": [],
   "source": [
    "# Choose your gate\n",
    "qubits = (0, 1)\n",
    "gate = Program(CNOT(*qubits))\n",
    "\n",
    "# Choose your parameters\n",
    "qubit_groups = [qubits]\n",
    "depths = [2, 15, 25, 30, 60]\n",
    "num_sequences = 25\n",
    "depths = [d for d in depths for _ in range(num_sequences)]\n",
    "\n",
    "rb_expts = generate_rb_experiments(bm, qubit_groups, depths)\n",
    "# provide the extra arg for the interleaved gate\n",
    "inter_expts = generate_rb_experiments(bm, qubit_groups, depths, interleaved_gate=gate)"
   ]
  },
  {
   "cell_type": "markdown",
   "metadata": {},
   "source": [
    "### Run the standard RB experiments\n",
    "\n",
    "This takes around a minute. We extract the estimated decay parameter and plot the results."
   ]
  },
  {
   "cell_type": "code",
   "execution_count": null,
   "metadata": {},
   "outputs": [],
   "source": [
    "# NBVAL_SKIP\n",
    "# tag this cell to be skipped during testing\n",
    "\n",
    "# Run the RB Sequences on a QuantumComputer\n",
    "num_shots=100\n",
    "rb_results = acquire_rb_data(qc, rb_expts, num_shots, show_progress_bar=True)\n",
    "\n",
    "# Calculate a fit to a decay curve\n",
    "stats = get_stats_by_qubit_group(qubit_groups, rb_results)[qubit_groups[0]]\n",
    "fit = fit_rb_results(depths, stats['expectation'], stats['std_err'], num_shots)\n",
    "\n",
    "# Extract rb decay parameter\n",
    "rb_decay = fit.params['decay'].value\n",
    "rb_decay_error = fit.params['decay'].stderr\n",
    "\n",
    "# Plot\n",
    "fig, axs = plot_figure_for_fit(fit, xlabel=\"Sequence Length [Cliffords]\", ylabel=\"Survival Probability\")"
   ]
  },
  {
   "cell_type": "markdown",
   "metadata": {},
   "source": [
    "### Now run the interleaved RB experiments\n",
    "\n",
    "This takes a bit longer than the last cell."
   ]
  },
  {
   "cell_type": "code",
   "execution_count": null,
   "metadata": {},
   "outputs": [],
   "source": [
    "# NBVAL_SKIP\n",
    "# tag this cell to be skipped during testing\n",
    "\n",
    "# Run the RB Sequences on a QuantumComputer\n",
    "num_shots=100\n",
    "inter_results = acquire_rb_data(qc, inter_expts, num_shots, show_progress_bar=True)\n",
    "\n",
    "# Calculate a fit to a decay curve\n",
    "stats = get_stats_by_qubit_group(qubit_groups, inter_results)[qubit_groups[0]]\n",
    "fit = fit_rb_results(depths, stats['expectation'], stats['std_err'], num_shots)\n",
    "\n",
    "# Extract irb decay parameter\n",
    "irb_decay = fit.params['decay'].value\n",
    "irb_decay_error = fit.params['decay'].stderr\n",
    "\n",
    "# Plot\n",
    "fig, axs = plot_figure_for_fit(fit, xlabel=\"Sequence Length [Cliffords]\", ylabel=\"Survival Probability\")"
   ]
  },
  {
   "cell_type": "markdown",
   "metadata": {},
   "source": [
    "We expect the irb_decay to be somewhat smaller due to the effect of the extra instances of the interleaved gate adding noise."
   ]
  },
  {
   "cell_type": "code",
   "execution_count": null,
   "metadata": {},
   "outputs": [],
   "source": [
    "print(rb_decay)\n",
    "print(irb_decay)"
   ]
  },
  {
   "cell_type": "markdown",
   "metadata": {},
   "source": [
    "Using these two decay values we can estimate the error on our chosen gate."
   ]
  },
  {
   "cell_type": "code",
   "execution_count": null,
   "metadata": {},
   "outputs": [],
   "source": [
    "dim = 2**len(qubits)\n",
    "print(rb_decay_to_gate_error(rb_decay, dim))\n",
    "gate_error = irb_decay_to_gate_error(irb_decay, rb_decay, dim)\n",
    "print(gate_error)"
   ]
  },
  {
   "cell_type": "markdown",
   "metadata": {},
   "source": [
    "We can also get bounds on our estimate using the two decay values. "
   ]
  },
  {
   "cell_type": "code",
   "execution_count": null,
   "metadata": {},
   "outputs": [],
   "source": [
    "bounds = interleaved_gate_fidelity_bounds(irb_decay, rb_decay, dim)\n",
    "print(bounds)"
   ]
  },
  {
   "cell_type": "code",
   "execution_count": null,
   "metadata": {},
   "outputs": [],
   "source": [
    "assert(bounds[0] < 1-gate_error and 1-gate_error < bounds[1])"
   ]
  },
  {
   "cell_type": "markdown",
   "metadata": {},
   "source": [
    "### Improving the bounds \n",
    "\n",
    "To get improved bounds we can run an additional unitarity experiment, following the method described in [U+IRB].\n",
    "\n",
    "See `examples/randomized_benchmarking_unitarity.ipynb` if unitarity RB is unfamiliar. This is particularly SLOW. \n",
    "\n",
    "    [U+IRB]  Efficiently characterizing the total error in quantum circuits\n",
    "             Dugas et al.,\n",
    "             arXiv:1610.05296 (2016)\n",
    "             https://arxiv.org/abs/1610.05296"
   ]
  },
  {
   "cell_type": "code",
   "execution_count": null,
   "metadata": {},
   "outputs": [],
   "source": [
    "# NBVAL_SKIP\n",
    "# tag this cell to be skipped during testing. It is particularly SLOW, around 6 minutes\n",
    "\n",
    "num_shots = 50\n",
    "\n",
    "expts = generate_unitarity_experiments(bm, qubit_groups, depths, num_sequences)\n",
    "\n",
    "results = acquire_rb_data(qc, expts, num_shots, show_progress_bar=True)\n",
    "stats = get_stats_by_qubit_group(qubit_groups, results)[qubit_groups[0]]\n",
    "fit = fit_unitarity_results(depths, stats['expectation'], stats['std_err'])\n",
    "\n",
    "# plot the raw data, point estimate error bars, and fit\n",
    "fig, axs = plot_figure_for_fit(fit, xlabel=\"Sequence Length [Cliffords]\", ylabel=\"Shifted Purity\")\n",
    "unitarity = fit.params['decay'].value"
   ]
  },
  {
   "cell_type": "markdown",
   "metadata": {},
   "source": [
    "Hopefully the `unitarity` can be incorporated to improve our bounds. However, the bounds might be `NaN` depending on the outcome of the unitarity and difference between rb and irb decays. Getting better estimates of each parameter helps prevent this."
   ]
  },
  {
   "cell_type": "code",
   "execution_count": null,
   "metadata": {},
   "outputs": [],
   "source": [
    "better_bounds = interleaved_gate_fidelity_bounds(irb_decay, rb_decay, dim, unitarity)\n",
    "print(better_bounds)"
   ]
  },
  {
   "cell_type": "code",
   "execution_count": null,
   "metadata": {},
   "outputs": [],
   "source": []
  }
 ],
 "metadata": {
  "language_info": {
   "name": "python",
   "pygments_lexer": "ipython3"
  }
 },
 "nbformat": 4,
 "nbformat_minor": 2
}
