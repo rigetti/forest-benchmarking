{
 "cells": [
  {
   "cell_type": "markdown",
   "metadata": {},
   "source": [
    "# Operator Estimation"
   ]
  },
  {
   "cell_type": "code",
   "execution_count": null,
   "metadata": {},
   "outputs": [],
   "source": [
    "import numpy as np\n",
    "from pyquil import Program, get_qc\n",
    "from pyquil.gates import *\n",
    "qc = get_qc('2q-qvm', noisy=True)"
   ]
  },
  {
   "cell_type": "markdown",
   "metadata": {},
   "source": [
    "## Construct a `ObservablesExperiment` and turn it into a list of `Programs`\n"
   ]
  },
  {
   "cell_type": "code",
   "execution_count": null,
   "metadata": {},
   "outputs": [],
   "source": [
    "from pyquil.paulis import *\n",
    "from forest.benchmarking.operator_estimation import ExperimentSetting, plusX, ObservablesExperiment, generate_experiment_programs\n",
    "q = 0\n",
    "# make ExperimentSettings for tomographing the plus state\n",
    "expt_settings = [ExperimentSetting(plusX(q), pt) for pt in [sX(q), sY(q), sZ(q)]]\n",
    "print('ExperimentSettings:\\n==================\\n',expt_settings,'\\n')\n",
    "\n",
    "# make an ObservablesExperiment\n",
    "obs_expt = ObservablesExperiment(expt_settings, program=Program())\n",
    "print('ObservablesExperiment:\\n======================\\n',obs_expt,'\\n')\n",
    "\n",
    "# convert it to a list of programs and a list of qubits for each program\n",
    "expt_progs, qubits = generate_experiment_programs(obs_expt)\n",
    "print('Programs and Qubits:\\n======================\\n')\n",
    "for prog, qs in zip(expt_progs, qubits):\n",
    "    print(prog, qs)\n"
   ]
  },
  {
   "cell_type": "markdown",
   "metadata": {},
   "source": [
    "## At this point we can run directly or first symmetrize"
   ]
  },
  {
   "cell_type": "markdown",
   "metadata": {},
   "source": [
    "## 1) run programs directly"
   ]
  },
  {
   "cell_type": "code",
   "execution_count": null,
   "metadata": {},
   "outputs": [],
   "source": [
    "from forest.benchmarking.operator_estimation import _measure_bitstrings\n",
    "# this is a simple wrapper that adds measure instructions for each qubit in qubits and runs each program.\n",
    "results = _measure_bitstrings(qc, expt_progs, qubits, num_shots=5)\n",
    "for bits in results:\n",
    "    print(bits)"
   ]
  },
  {
   "cell_type": "markdown",
   "metadata": {},
   "source": [
    "## 2) First symmetrize, then run"
   ]
  },
  {
   "cell_type": "markdown",
   "metadata": {},
   "source": [
    "A symmetrization method should return  \n",
    "1. a list of programs \n",
    "2. a list of measurement qubits associated with each program\n",
    "3. a list of bits/bools indicating which qubits where flipped before measurement for each program\n",
    "4. a list of ints indicating the group of results to which each program's outputs should be re-assigned after correction"
   ]
  },
  {
   "cell_type": "code",
   "execution_count": null,
   "metadata": {},
   "outputs": [],
   "source": [
    "from forest.benchmarking.operator_estimation import exhaustive_symmetrization, consolidate_symmetrization_outputs\n",
    "symm_progs, symm_qs, flip_arrays, groups = exhaustive_symmetrization(expt_progs, qubits)\n",
    "print('2 symmetrized programs for each original:\\n======================\\n')\n",
    "for prog in symm_progs:\n",
    "    print(prog)\n",
    "\n",
    "# now these programs can be run as above\n",
    "results = _measure_bitstrings(qc, symm_progs, symm_qs, num_shots=5)\n",
    "\n",
    "# we now need to consolidate these results using the information in flip_arrays and groups \n",
    "results = consolidate_symmetrization_outputs(results, flip_arrays, groups)\n",
    "\n",
    "print('After consolidating we have twice the number of (symmetrized) shots as above:\\n======================\\n')\n",
    "# we now have twice the number of symmetrized shots\n",
    "for bits in results:\n",
    "    print(bits)"
   ]
  },
  {
   "cell_type": "markdown",
   "metadata": {},
   "source": [
    "## Now we can translate our bitarray shots into ExperimentResults with expectation values"
   ]
  },
  {
   "cell_type": "code",
   "execution_count": null,
   "metadata": {},
   "outputs": [],
   "source": [
    "from forest.benchmarking.operator_estimation import shots_to_obs_moments, ExperimentResult\n",
    "\n",
    "expt_results_as_obs = []\n",
    "# we use the settings from the ObservableExperiment to label our results\n",
    "for bitarray, meas_qs, settings in zip(results, qubits, obs_expt):\n",
    "    # settings is a list of settings run simultaneously for a given program;\n",
    "    # in our case, we just had one setting per program so this isn't strictly uncessary\n",
    "    for setting in settings:\n",
    "        observable = setting.observable # get the PauliTerm\n",
    "        \n",
    "        # Obtain statistics from result of experiment\n",
    "        obs_mean, obs_var = shots_to_obs_moments(bitarray, meas_qs, observable)\n",
    "        \n",
    "        expt_results_as_obs.append(ExperimentResult(setting, obs_mean, std_err = np.sqrt(obs_var),\n",
    "                                                    total_counts = len(bitarray)))\n",
    "\n",
    "for res in expt_results_as_obs:\n",
    "    print(res)"
   ]
  },
  {
   "cell_type": "markdown",
   "metadata": {},
   "source": [
    "## All of the above is wrapped in a convenience function estimate_observables"
   ]
  },
  {
   "cell_type": "code",
   "execution_count": null,
   "metadata": {},
   "outputs": [],
   "source": [
    "from forest.benchmarking.operator_estimation import estimate_observables\n",
    "\n",
    "for res in estimate_observables(qc, obs_expt, num_shots=50, symmetrization_method = exhaustive_symmetrization):\n",
    "    print(res)\n"
   ]
  },
  {
   "cell_type": "markdown",
   "metadata": {},
   "source": [
    "## Finally after obtaining our results we can choose to calibrate our observables"
   ]
  },
  {
   "cell_type": "markdown",
   "metadata": {},
   "source": [
    "This uses essentially the same workflow as above except that the programs are generated for each observable via \n",
    "`get_calibration_program`. I'll only demonstrate the convience wrapper below."
   ]
  },
  {
   "cell_type": "code",
   "execution_count": null,
   "metadata": {},
   "outputs": [],
   "source": [
    "from forest.benchmarking.operator_estimation import calibrate_observable_estimates\n",
    "\n",
    "for cal_res in calibrate_observable_estimates(qc, expt_results_as_obs, \n",
    "                                              symmetrization_method=exhaustive_symmetrization,\n",
    "                                             num_shots=100):\n",
    "    print(cal_res)\n",
    "    print(f'Original expectation was {cal_res.raw_expectation}')\n",
    "    print(f'Observable cal expectation was {cal_res.calibration_expectation} \\n')"
   ]
  },
  {
   "cell_type": "code",
   "execution_count": null,
   "metadata": {},
   "outputs": [],
   "source": []
  },
  {
   "cell_type": "code",
   "execution_count": null,
   "metadata": {},
   "outputs": [],
   "source": []
  }
 ],
 "metadata": {
  "language_info": {
   "name": "python",
   "pygments_lexer": "ipython3"
  }
 },
 "nbformat": 4,
 "nbformat_minor": 2
}
