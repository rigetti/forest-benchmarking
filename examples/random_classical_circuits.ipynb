{
 "cells": [
  {
   "cell_type": "markdown",
   "metadata": {},
   "source": [
    "# Classical Random Circuits\n",
    "\n",
    "Here we use classical circuits to get a handle on error rates."
   ]
  },
  {
   "cell_type": "markdown",
   "metadata": {},
   "source": [
    "## setup"
   ]
  },
  {
   "cell_type": "code",
   "execution_count": 1,
   "metadata": {},
   "outputs": [],
   "source": [
    "import os\n",
    "import random\n",
    "from typing import List\n",
    "import itertools\n",
    "import networkx as nx\n",
    "import numpy as np\n",
    "import pandas as pd\n",
    "from matplotlib import pyplot as plt\n",
    "from pyquil.api import get_qc, QuantumComputer\n",
    "from pyquil.gates import CNOT, CCNOT, X, I, H, CZ, MEASURE, RESET\n",
    "from pyquil.quilbase import Pragma\n",
    "from scipy.spatial.distance import hamming\n",
    "\n",
    "from forest_benchmarking.compilation import basic_compile\n"
   ]
  },
  {
   "cell_type": "markdown",
   "metadata": {},
   "source": [
    "## graph state measurement and plotting functions"
   ]
  },
  {
   "cell_type": "code",
   "execution_count": 2,
   "metadata": {},
   "outputs": [],
   "source": [
    "#qc_perfect = get_qc(\"Aspen-1-15Q-A\", as_qvm=True, noisy=False)\n",
    "#qc_noisy = get_qc(\"Aspen-1-15Q-A\", as_qvm=True, noisy=True)\n",
    "\n",
    "qc_perfect = get_qc(\"9q-square-qvm\", as_qvm=True, noisy=False)\n",
    "qc_noisy = get_qc(\"9q-square-qvm\", as_qvm=True, noisy=True)"
   ]
  },
  {
   "cell_type": "code",
   "execution_count": 3,
   "metadata": {},
   "outputs": [
    {
     "data": {
      "image/png": "[encoded data removed]",
      "text/plain": [
       "<matplotlib.figure.Figure at 0x1258b47b8>"
      ]
     },
     "metadata": {},
     "output_type": "display_data"
    }
   ],
   "source": [
    "nx.draw(qc_perfect.qubit_topology(),with_labels=True)"
   ]
  },
  {
   "cell_type": "code",
   "execution_count": 4,
   "metadata": {},
   "outputs": [
    {
     "data": {
      "text/plain": [
       "['Aspen-3-2Q-A',\n",
       " 'Aspen-3-3Q-A',\n",
       " 'Aspen-3-4Q-A',\n",
       " 'Aspen-3-5Q-A',\n",
       " 'Aspen-3-6Q-A',\n",
       " 'Aspen-3-7Q-A',\n",
       " 'Aspen-3-8Q-A',\n",
       " 'Aspen-3-9Q-A',\n",
       " 'Aspen-3-10Q-A',\n",
       " 'Aspen-3-11Q-A',\n",
       " 'Aspen-3-12Q-A',\n",
       " 'Aspen-3-2Q-B',\n",
       " 'Aspen-3-14Q-A',\n",
       " 'Aspen-1-2Q-B',\n",
       " 'Aspen-1-3Q-B',\n",
       " 'Aspen-1-4Q-B',\n",
       " 'Aspen-1-5Q-B',\n",
       " 'Aspen-1-6Q-B',\n",
       " 'Aspen-1-7Q-B',\n",
       " 'Aspen-1-9Q-B',\n",
       " 'Aspen-1-15Q-A',\n",
       " 'Aspen-1-8Q-B',\n",
       " '9q-square-qvm',\n",
       " '9q-square-noisy-qvm']"
      ]
     },
     "execution_count": 4,
     "metadata": {},
     "output_type": "execute_result"
    }
   ],
   "source": [
    "from pyquil import *\n",
    "list_quantum_computers()"
   ]
  },
  {
   "cell_type": "code",
   "execution_count": 5,
   "metadata": {},
   "outputs": [],
   "source": [
    "def generate_connected_subgraphs(n_vert: int, G):\n",
    "    '''\n",
    "    \n",
    "    :params n_vert: number of verticies of connected subgraph.\n",
    "    :params G: networkx Graph\n",
    "    :returns: list of subgraphs with n_vert connected vertices\n",
    "    '''\n",
    "    target = nx.complete_graph(n_vert)\n",
    "    subgraph_list = []\n",
    "    for sub_nodes in itertools.combinations(G.nodes(),len(target.nodes())):\n",
    "        subg = G.subgraph(sub_nodes)\n",
    "        if nx.is_connected(subg):\n",
    "            subgraph_list.append(subg)\n",
    "    return subgraph_list"
   ]
  },
  {
   "cell_type": "code",
   "execution_count": 258,
   "metadata": {},
   "outputs": [
    {
     "data": {
      "text/plain": [
       "[9, 12, 22, 36, 49, 48, 32, 9, 1]"
      ]
     },
     "execution_count": 258,
     "metadata": {},
     "output_type": "execute_result"
    }
   ],
   "source": [
    "G = qc_perfect.qubit_topology()\n",
    "len(qc_perfect.qubit_topology())\n",
    "# districution of graph lenghts\n",
    "disty = []\n",
    "for gdx in range(1,len(G.nodes)+1):\n",
    "    listg = generate_connected_subgraphs(gdx, G)\n",
    "    disty.append(len(listg))\n",
    "\n",
    "disty"
   ]
  },
  {
   "cell_type": "code",
   "execution_count": 12,
   "metadata": {},
   "outputs": [],
   "source": [
    "def random_single_bit_gates(graph: nx.Graph):\n",
    "    \"\"\"Write a program to randomly place X gates on qubits according to the specified graph.\n",
    "\n",
    "    :param graph: The graph. Nodes are used as arguments to gates, so they should be qubit-like.\n",
    "    :return: A program that has randomly placed single qubit X gates.\n",
    "    \"\"\"\n",
    "    program = Program()\n",
    "    for q in graph.nodes:\n",
    "        if random.random()>0.5:\n",
    "            program += X(q)\n",
    "    return program"
   ]
  },
  {
   "cell_type": "code",
   "execution_count": 13,
   "metadata": {},
   "outputs": [],
   "source": [
    "def random_two_bit_gates(graph: nx.Graph):\n",
    "    \"\"\"Write a program to randomly place CNOT gates between qubits according to the specified graph.\n",
    "\n",
    "    :param graph: The graph. Nodes are used as arguments to gates, so they should be qubit-like.\n",
    "    :return: A program that has randomly placed single qubit X gates.\n",
    "    \"\"\"\n",
    "    program = Program()\n",
    "    program += Pragma('COMMUTING_BLOCKS')\n",
    "    for a, b in graph.edges:\n",
    "        if random.random()>0.5:\n",
    "            program += Pragma('BLOCK')\n",
    "            program += CNOT(a, b)\n",
    "            program += Pragma('END_BLOCK')\n",
    "    program += Pragma('END_COMMUTING_BLOCKS')\n",
    "    return program"
   ]
  },
  {
   "cell_type": "code",
   "execution_count": 14,
   "metadata": {},
   "outputs": [],
   "source": [
    "def generate_random_classial_circuit_with_depth(graph: nx.Graph, depth: int):\n",
    "    \"\"\"Generate a program to randomly places X gates and CNOTs on a specified graph with a certain depth.\n",
    "    \n",
    "    A depth one program contains one 'layer' of random single qubit gates on the vertices and 'layer' of \n",
    "    randomly placed two qubit gates. A depth two program would be two such layers.\n",
    "    \n",
    "    :param graph: The graph. Nodes are used as arguments to gates, so they should be qubit-like.\n",
    "    :param depth: The number of times a layer of single qubit gates and two qubit gates are in a pogram\n",
    "    :return: A program that has randomly placed single qubit and two qubit gates to some depth.\n",
    "    \"\"\"\n",
    "    prog = Program()\n",
    "    \n",
    "    # Install identity on all qubits so that we can find all the qubits from prog.get_qubits()\n",
    "    # if the circuit happens to be identity then you will get the empty set.\n",
    "    # Do not delete this!!\n",
    "    prog += [I(qubit) for qubit in list(graph.nodes)] \n",
    "    \n",
    "    for ddx in range(1,depth+1):\n",
    "        # random one qubit gates\n",
    "        prog += random_single_bit_gates(graph)\n",
    "        # random two qubit gates\n",
    "        prog += random_two_bit_gates(graph)\n",
    "    return prog"
   ]
  },
  {
   "cell_type": "code",
   "execution_count": 15,
   "metadata": {},
   "outputs": [],
   "source": [
    "def get_error_hamming_distance_from_results(perfect_bit_string,results):\n",
    "    \"\"\"\n",
    "    Get the hamming weight of the error vector (number of bits flipped\n",
    "    between output and expected answer).\n",
    "\n",
    "    :param perfect_bit_string: a np.ndarray with shape (1,number_of_bits)\n",
    "    :param results: a np.ndarray with shape (num_shots,number_of_bits)\n",
    "    :return: np.array containg the hamming weight\n",
    "    \"\"\"\n",
    "    num_shots, n_bits = results.shape\n",
    "    _, pn_bits = perfect_bit_string.shape\n",
    "    if n_bits != pn_bits:\n",
    "        raise ValueError(\"Bit strings are not equal length, check you are runing on the same graph\")\n",
    "    wt = []\n",
    "    # loop over all results\n",
    "    for shot in results:\n",
    "        wt.append(n_bits * hamming(perfect_bit_string, shot))\n",
    "    return wt"
   ]
  },
  {
   "cell_type": "code",
   "execution_count": 16,
   "metadata": {},
   "outputs": [],
   "source": [
    "def get_error_hamming_distributions_from_list(wt_list, n_bits):\n",
    "    \"\"\"\n",
    "    Get the distribution of the hamming weight of the error vector.\n",
    "\n",
    "    :param results: a list of results output \n",
    "    :return: the relative frequency of observing each hamming weight\n",
    "    \"\"\"\n",
    "    num_shots = len(wt_list)\n",
    "\n",
    "    hamming_wt_distrs = []\n",
    "    hamming_wt_distr = [0. for _ in range(n_bits+1)]\n",
    "    # record the fraction of shots that resulted in an error of the given weight\n",
    "    for wdx in range(n_bits):\n",
    "        hamming_wt_distr[int(wdx)] = wt_list.count(wdx)/num_shots\n",
    "    return hamming_wt_distr"
   ]
  },
  {
   "cell_type": "code",
   "execution_count": 17,
   "metadata": {},
   "outputs": [],
   "source": [
    "G = qc_perfect.qubit_topology()"
   ]
  },
  {
   "cell_type": "code",
   "execution_count": 77,
   "metadata": {},
   "outputs": [],
   "source": [
    "# check that the nodes are not\n",
    "num_shots_per_circuit = 10\n",
    "num_rand_subgraphs = 4\n",
    "num_rand_circuits_per_subgraph = 4\n",
    "depth = 6\n",
    "\n",
    "data = []\n",
    "# loop over different graph sizes\n",
    "for depth_idx,subgraph_size in itertools.product(range(1,depth+1),range(1,len(G.nodes)+1)):\n",
    "    list_of_graphs = generate_connected_subgraphs(subgraph_size, G)\n",
    "    wt = []\n",
    "    for kdx in range(1,num_rand_subgraphs+1):\n",
    "        # randomly choose a lattice from list\n",
    "        lattice = random.choice(list_of_graphs)\n",
    "        for jdx in range(1,num_rand_circuits_per_subgraph+1):\n",
    "            prog = generate_random_classial_circuit_with_depth(lattice, depth_idx)\n",
    "            # perfect \n",
    "            perfect_bitstring = qc_perfect.run_and_measure(prog, trials=1)\n",
    "            perfect_bitstring_array = np.vstack(perfect_bitstring[q] for q in prog.get_qubits()).T\n",
    "            # run on hardware or noisy QVM\n",
    "            actual_bitstring = qc_noisy.run_and_measure(prog, trials=3)\n",
    "            actual_bitstring_array = np.vstack(actual_bitstring[q] for q in prog.get_qubits()).T\n",
    "            wt.append(get_error_hamming_distance_from_results(perfect_bitstring_array,actual_bitstring_array))\n",
    "\n",
    "    # for each graph size flatten the results        \n",
    "    wt_flat = [item for sublist in wt for item in sublist]\n",
    "    hamming_wt_distr = get_error_hamming_distributions_from_list(wt_flat, subgraph_size)\n",
    "    # list of tuples. The tuple (depth,width,hamming_dist)\n",
    "    data.append((depth_idx,subgraph_size,hamming_wt_distr))"
   ]
  },
  {
   "cell_type": "code",
   "execution_count": 78,
   "metadata": {},
   "outputs": [
    {
     "data": {
      "text/plain": [
       "[(1, 1, [0.9166666666666666, 0.0]),\n",
       " (1, 2, [0.8958333333333334, 0.10416666666666667, 0.0]),\n",
       " (1, 3, [0.8333333333333334, 0.14583333333333334, 0.020833333333333332, 0.0]),\n",
       " (1,\n",
       "  4,\n",
       "  [0.7916666666666666, 0.16666666666666666, 0.041666666666666664, 0.0, 0.0]),\n",
       " (1, 5, [0.7083333333333334, 0.22916666666666666, 0.0625, 0.0, 0.0, 0.0]),\n",
       " (1, 6, [0.6875, 0.3125, 0.0, 0.0, 0.0, 0.0, 0.0]),\n",
       " (1,\n",
       "  7,\n",
       "  [0.6458333333333334,\n",
       "   0.2708333333333333,\n",
       "   0.08333333333333333,\n",
       "   0.0,\n",
       "   0.0,\n",
       "   0.0,\n",
       "   0.0,\n",
       "   0.0]),\n",
       " (1,\n",
       "  8,\n",
       "  [0.6875,\n",
       "   0.2708333333333333,\n",
       "   0.020833333333333332,\n",
       "   0.020833333333333332,\n",
       "   0.0,\n",
       "   0.0,\n",
       "   0.0,\n",
       "   0.0,\n",
       "   0.0]),\n",
       " (1,\n",
       "  9,\n",
       "  [0.6458333333333334,\n",
       "   0.2916666666666667,\n",
       "   0.041666666666666664,\n",
       "   0.020833333333333332,\n",
       "   0.0,\n",
       "   0.0,\n",
       "   0.0,\n",
       "   0.0,\n",
       "   0.0,\n",
       "   0.0]),\n",
       " (2, 1, [0.9375, 0.0]),\n",
       " (2, 2, [0.8541666666666666, 0.14583333333333334, 0.0]),\n",
       " (2, 3, [0.8541666666666666, 0.14583333333333334, 0.0, 0.0]),\n",
       " (2,\n",
       "  4,\n",
       "  [0.7916666666666666, 0.16666666666666666, 0.041666666666666664, 0.0, 0.0]),\n",
       " (2, 5, [0.75, 0.25, 0.0, 0.0, 0.0, 0.0]),\n",
       " (2, 6, [0.6041666666666666, 0.3333333333333333, 0.0625, 0.0, 0.0, 0.0, 0.0]),\n",
       " (2,\n",
       "  7,\n",
       "  [0.6666666666666666, 0.25, 0.08333333333333333, 0.0, 0.0, 0.0, 0.0, 0.0]),\n",
       " (2, 8, [0.625, 0.25, 0.125, 0.0, 0.0, 0.0, 0.0, 0.0, 0.0]),\n",
       " (2,\n",
       "  9,\n",
       "  [0.6666666666666666,\n",
       "   0.25,\n",
       "   0.0625,\n",
       "   0.020833333333333332,\n",
       "   0.0,\n",
       "   0.0,\n",
       "   0.0,\n",
       "   0.0,\n",
       "   0.0,\n",
       "   0.0]),\n",
       " (3, 1, [0.9583333333333334, 0.0]),\n",
       " (3, 2, [0.9166666666666666, 0.08333333333333333, 0.0]),\n",
       " (3, 3, [0.8333333333333334, 0.16666666666666666, 0.0, 0.0]),\n",
       " (3, 4, [0.6666666666666666, 0.3333333333333333, 0.0, 0.0, 0.0]),\n",
       " (3,\n",
       "  5,\n",
       "  [0.7083333333333334,\n",
       "   0.2708333333333333,\n",
       "   0.020833333333333332,\n",
       "   0.0,\n",
       "   0.0,\n",
       "   0.0]),\n",
       " (3,\n",
       "  6,\n",
       "  [0.7083333333333334,\n",
       "   0.2708333333333333,\n",
       "   0.020833333333333332,\n",
       "   0.0,\n",
       "   0.0,\n",
       "   0.0,\n",
       "   0.0]),\n",
       " (3,\n",
       "  7,\n",
       "  [0.6666666666666666,\n",
       "   0.22916666666666666,\n",
       "   0.08333333333333333,\n",
       "   0.0,\n",
       "   0.0,\n",
       "   0.020833333333333332,\n",
       "   0.0,\n",
       "   0.0]),\n",
       " (3,\n",
       "  8,\n",
       "  [0.5416666666666666,\n",
       "   0.3541666666666667,\n",
       "   0.041666666666666664,\n",
       "   0.0625,\n",
       "   0.0,\n",
       "   0.0,\n",
       "   0.0,\n",
       "   0.0,\n",
       "   0.0]),\n",
       " (3,\n",
       "  9,\n",
       "  [0.625,\n",
       "   0.2708333333333333,\n",
       "   0.10416666666666667,\n",
       "   0.0,\n",
       "   0.0,\n",
       "   0.0,\n",
       "   0.0,\n",
       "   0.0,\n",
       "   0.0,\n",
       "   0.0]),\n",
       " (4, 1, [0.9791666666666666, 0.0]),\n",
       " (4, 2, [0.8541666666666666, 0.14583333333333334, 0.0]),\n",
       " (4, 3, [0.7708333333333334, 0.22916666666666666, 0.0, 0.0]),\n",
       " (4,\n",
       "  4,\n",
       "  [0.6666666666666666, 0.22916666666666666, 0.10416666666666667, 0.0, 0.0]),\n",
       " (4, 5, [0.6666666666666666, 0.3125, 0.020833333333333332, 0.0, 0.0, 0.0]),\n",
       " (4,\n",
       "  6,\n",
       "  [0.5208333333333334,\n",
       "   0.375,\n",
       "   0.08333333333333333,\n",
       "   0.020833333333333332,\n",
       "   0.0,\n",
       "   0.0,\n",
       "   0.0]),\n",
       " (4,\n",
       "  7,\n",
       "  [0.6666666666666666, 0.2708333333333333, 0.0625, 0.0, 0.0, 0.0, 0.0, 0.0]),\n",
       " (4,\n",
       "  8,\n",
       "  [0.5,\n",
       "   0.3541666666666667,\n",
       "   0.08333333333333333,\n",
       "   0.041666666666666664,\n",
       "   0.020833333333333332,\n",
       "   0.0,\n",
       "   0.0,\n",
       "   0.0,\n",
       "   0.0]),\n",
       " (4,\n",
       "  9,\n",
       "  [0.6875,\n",
       "   0.25,\n",
       "   0.020833333333333332,\n",
       "   0.0,\n",
       "   0.041666666666666664,\n",
       "   0.0,\n",
       "   0.0,\n",
       "   0.0,\n",
       "   0.0,\n",
       "   0.0]),\n",
       " (5, 1, [0.8958333333333334, 0.0]),\n",
       " (5, 2, [0.8333333333333334, 0.14583333333333334, 0.0]),\n",
       " (5, 3, [0.7916666666666666, 0.1875, 0.020833333333333332, 0.0]),\n",
       " (5, 4, [0.8958333333333334, 0.10416666666666667, 0.0, 0.0, 0.0]),\n",
       " (5, 5, [0.6875, 0.2708333333333333, 0.041666666666666664, 0.0, 0.0, 0.0]),\n",
       " (5, 6, [0.75, 0.1875, 0.0625, 0.0, 0.0, 0.0, 0.0]),\n",
       " (5,\n",
       "  7,\n",
       "  [0.5, 0.4791666666666667, 0.020833333333333332, 0.0, 0.0, 0.0, 0.0, 0.0]),\n",
       " (5,\n",
       "  8,\n",
       "  [0.5416666666666666,\n",
       "   0.2708333333333333,\n",
       "   0.08333333333333333,\n",
       "   0.08333333333333333,\n",
       "   0.020833333333333332,\n",
       "   0.0,\n",
       "   0.0,\n",
       "   0.0,\n",
       "   0.0]),\n",
       " (5,\n",
       "  9,\n",
       "  [0.5833333333333334,\n",
       "   0.3333333333333333,\n",
       "   0.0625,\n",
       "   0.020833333333333332,\n",
       "   0.0,\n",
       "   0.0,\n",
       "   0.0,\n",
       "   0.0,\n",
       "   0.0,\n",
       "   0.0]),\n",
       " (6, 1, [0.9791666666666666, 0.0]),\n",
       " (6, 2, [0.9166666666666666, 0.08333333333333333, 0.0]),\n",
       " (6, 3, [0.8333333333333334, 0.14583333333333334, 0.020833333333333332, 0.0]),\n",
       " (6, 4, [0.8125, 0.125, 0.0625, 0.0, 0.0]),\n",
       " (6,\n",
       "  5,\n",
       "  [0.7291666666666666,\n",
       "   0.1875,\n",
       "   0.041666666666666664,\n",
       "   0.041666666666666664,\n",
       "   0.0,\n",
       "   0.0]),\n",
       " (6,\n",
       "  6,\n",
       "  [0.5625,\n",
       "   0.3125,\n",
       "   0.041666666666666664,\n",
       "   0.0625,\n",
       "   0.020833333333333332,\n",
       "   0.0,\n",
       "   0.0]),\n",
       " (6,\n",
       "  7,\n",
       "  [0.5416666666666666,\n",
       "   0.2916666666666667,\n",
       "   0.16666666666666666,\n",
       "   0.0,\n",
       "   0.0,\n",
       "   0.0,\n",
       "   0.0,\n",
       "   0.0]),\n",
       " (6,\n",
       "  8,\n",
       "  [0.5625,\n",
       "   0.22916666666666666,\n",
       "   0.10416666666666667,\n",
       "   0.0625,\n",
       "   0.0,\n",
       "   0.041666666666666664,\n",
       "   0.0,\n",
       "   0.0,\n",
       "   0.0]),\n",
       " (6,\n",
       "  9,\n",
       "  [0.4375,\n",
       "   0.3541666666666667,\n",
       "   0.08333333333333333,\n",
       "   0.0625,\n",
       "   0.041666666666666664,\n",
       "   0.020833333333333332,\n",
       "   0.0,\n",
       "   0.0,\n",
       "   0.0,\n",
       "   0.0])]"
      ]
     },
     "execution_count": 78,
     "metadata": {},
     "output_type": "execute_result"
    }
   ],
   "source": [
    "data"
   ]
  },
  {
   "cell_type": "code",
   "execution_count": null,
   "metadata": {},
   "outputs": [],
   "source": []
  },
  {
   "cell_type": "code",
   "execution_count": 79,
   "metadata": {},
   "outputs": [],
   "source": [
    "len(data)\n",
    "Pcheck = np.ndarray(shape=(depth,len(G.nodes)), dtype=float, order='C')\n",
    "\n",
    "for dslice in data:\n",
    "    depth_idx = dslice[0]-1\n",
    "    width_idx = dslice[1]-1\n",
    "    Pcheck[depth_idx,width_idx]= dslice[2][0]"
   ]
  },
  {
   "cell_type": "code",
   "execution_count": 80,
   "metadata": {},
   "outputs": [
    {
     "data": {
      "image/png": "[encoded data removed]",
      "text/plain": [
       "<matplotlib.figure.Figure at 0x128d0e358>"
      ]
     },
     "metadata": {},
     "output_type": "display_data"
    }
   ],
   "source": [
    "plt.imshow(Pcheck)\n",
    "plt.colorbar(orientation='vertical')\n",
    "plt.show()"
   ]
  },
  {
   "cell_type": "code",
   "execution_count": 81,
   "metadata": {},
   "outputs": [],
   "source": [
    "import matplotlib\n",
    "import numpy as np\n",
    "import matplotlib.cm as cm\n",
    "import matplotlib.pyplot as plt\n",
    "\n",
    "\n",
    "delta = 0.025\n",
    "x = np.arange(-3.0, 3.0, delta)\n",
    "y = np.arange(-2.0, 2.0, delta)\n",
    "X, Y = np.meshgrid(x, y)\n",
    "Z1 = np.exp(-X**2 - Y**2)\n",
    "Z2 = np.exp(-(X - 1)**2 - (Y - 1)**2)\n",
    "Z = (Z1 - Z2) * 2"
   ]
  },
  {
   "cell_type": "code",
   "execution_count": 82,
   "metadata": {},
   "outputs": [
    {
     "data": {
      "text/plain": [
       "Text(0.5,1,'Simplest default with labels')"
      ]
     },
     "execution_count": 82,
     "metadata": {},
     "output_type": "execute_result"
    },
    {
     "data": {
      "image/png": "[encoded data removed]",
      "text/plain": [
       "<matplotlib.figure.Figure at 0x1295e2e80>"
      ]
     },
     "metadata": {},
     "output_type": "display_data"
    }
   ],
   "source": [
    "fig, ax = plt.subplots()\n",
    "CS = ax.contour(X, Y, Z)\n",
    "ax.clabel(CS, inline=1, fontsize=10)\n",
    "ax.set_title('Simplest default with labels')"
   ]
  },
  {
   "cell_type": "code",
   "execution_count": 90,
   "metadata": {},
   "outputs": [],
   "source": [
    "depthvec = np.arange(1,depth+1,1)\n",
    "widthvec = np.arange(1,len(G.nodes)+1,1)"
   ]
  },
  {
   "cell_type": "code",
   "execution_count": 91,
   "metadata": {},
   "outputs": [],
   "source": [
    "X, Y = np.meshgrid(widthvec, depthvec)"
   ]
  },
  {
   "cell_type": "code",
   "execution_count": 96,
   "metadata": {},
   "outputs": [
    {
     "data": {
      "text/plain": [
       "Text(0.5,1,'Simplest default with labels')"
      ]
     },
     "execution_count": 96,
     "metadata": {},
     "output_type": "execute_result"
    },
    {
     "data": {
      "image/png": "[encoded data removed]",
      "text/plain": [
       "<matplotlib.figure.Figure at 0x128c6bfd0>"
      ]
     },
     "metadata": {},
     "output_type": "display_data"
    }
   ],
   "source": [
    "fig, ax = plt.subplots()\n",
    "CS = ax.contourf(X, Y, Pcheck)\n",
    "#ax.clabel(CS, inline=1, fontsize=10)\n",
    "ax.set_title('Simplest default with labels')"
   ]
  },
  {
   "cell_type": "code",
   "execution_count": 101,
   "metadata": {},
   "outputs": [
    {
     "data": {
      "image/png": "[encoded data removed]",
      "text/plain": [
       "<matplotlib.figure.Figure at 0x1296be470>"
      ]
     },
     "metadata": {},
     "output_type": "display_data"
    }
   ],
   "source": [
    "plt.imshow(Pcheck, interpolation='hamming', cmap='viridis')\n",
    "plt.colorbar(orientation='vertical')\n",
    "plt.show()"
   ]
  },
  {
   "cell_type": "code",
   "execution_count": 102,
   "metadata": {},
   "outputs": [
    {
     "data": {
      "image/png": "[encoded data removed]",
      "text/plain": [
       "<matplotlib.figure.Figure at 0x1258ed940>"
      ]
     },
     "metadata": {},
     "output_type": "display_data"
    }
   ],
   "source": [
    "plt.imshow(Pcheck, interpolation='none', cmap='viridis')\n",
    "plt.colorbar(orientation='vertical')\n",
    "plt.show()"
   ]
  },
  {
   "cell_type": "code",
   "execution_count": null,
   "metadata": {},
   "outputs": [],
   "source": []
  }
 ],
 "metadata": {
  "kernelspec": {
   "display_name": "Python 3",
   "language": "python",
   "name": "python3"
  },
  "language_info": {
   "codemirror_mode": {
    "name": "ipython",
    "version": 3
   },
   "file_extension": ".py",
   "mimetype": "text/x-python",
   "name": "python",
   "nbconvert_exporter": "python",
   "pygments_lexer": "ipython3",
   "version": "3.6.3"
  }
 },
 "nbformat": 4,
 "nbformat_minor": 2
}
