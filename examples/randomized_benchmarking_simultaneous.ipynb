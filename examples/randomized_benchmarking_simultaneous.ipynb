{
 "cells": [
  {
   "cell_type": "markdown",
   "metadata": {},
   "source": [
    "# Randomized Benchmarking: Simultaneous RB"
   ]
  },
  {
   "cell_type": "code",
   "execution_count": null,
   "metadata": {},
   "outputs": [],
   "source": [
    "# Needs in terminal:\n",
    "# $ quilc -S\n",
    "# $ qvm -S\n",
    "\n",
    "import numpy as np\n",
    "\n",
    "from pyquil.api import get_benchmarker\n",
    "from forest.benchmarking.randomized_benchmarking import *\n",
    "\n",
    "%matplotlib inline"
   ]
  },
  {
   "cell_type": "code",
   "execution_count": null,
   "metadata": {},
   "outputs": [],
   "source": [
    "from pyquil.api import get_qc, get_benchmarker\n",
    "qc = get_qc(\"9q-square-noisy-qvm\")\n",
    "bm = get_benchmarker()"
   ]
  },
  {
   "cell_type": "markdown",
   "metadata": {},
   "source": [
    "## Generate a 2 qubit RB experiment"
   ]
  },
  {
   "cell_type": "code",
   "execution_count": null,
   "metadata": {},
   "outputs": [],
   "source": [
    "num_sequences_per_depth = 10\n",
    "depths = 3 * 2 ** np.arange(3, dtype=np.uint8)\n",
    "depths = [d for d in depths for _ in range(num_sequences_per_depth)]\n",
    "\n",
    "expts = generate_rb_experiments(bm, [(0, 2)], depths)"
   ]
  },
  {
   "cell_type": "markdown",
   "metadata": {},
   "source": [
    "## Run a single 2-qubit RB experiment on a QuantumComputer"
   ]
  },
  {
   "cell_type": "code",
   "execution_count": null,
   "metadata": {},
   "outputs": [],
   "source": [
    "expt_results = acquire_rb_data(qc, expts, num_shots=100)"
   ]
  },
  {
   "cell_type": "code",
   "execution_count": null,
   "metadata": {},
   "outputs": [],
   "source": [
    "expt_results[0]"
   ]
  },
  {
   "cell_type": "markdown",
   "metadata": {},
   "source": [
    "## Generate and run a simultaneous rb experiment on qubit 1 and qubits (0, 2)"
   ]
  },
  {
   "cell_type": "code",
   "execution_count": null,
   "metadata": {},
   "outputs": [],
   "source": [
    "qubits = [(1,), (0,2)]\n",
    "simult_expts = generate_rb_experiments(bm, qubits, depths)"
   ]
  },
  {
   "cell_type": "code",
   "execution_count": null,
   "metadata": {},
   "outputs": [],
   "source": [
    "num_shots = 100\n",
    "simult_results = acquire_rb_data(qc, simult_expts, num_shots=num_shots)"
   ]
  },
  {
   "cell_type": "markdown",
   "metadata": {},
   "source": [
    "## Organize the expectations and std_errs by qubit group (1,) and (0,2)"
   ]
  },
  {
   "cell_type": "code",
   "execution_count": null,
   "metadata": {},
   "outputs": [],
   "source": [
    "stats_by_group = get_stats_by_qubit_group(qubits, simult_results)\n",
    "assert len(stats_by_group[(1,)]['expectation']) == len(depths)"
   ]
  },
  {
   "cell_type": "markdown",
   "metadata": {},
   "source": [
    "## Fit the data separately for each group and plot."
   ]
  },
  {
   "cell_type": "code",
   "execution_count": null,
   "metadata": {},
   "outputs": [],
   "source": [
    "from forest.benchmarking.analysis.fitting import make_figure\n",
    "group = qubits[0]\n",
    "stats = stats_by_group[group]\n",
    "exps = stats['expectation']\n",
    "std_errs = stats['std_err']\n",
    "\n",
    "fit = fit_rb_results(depths, exps, std_errs)\n",
    "fig, axs = make_figure(fit, xlabel=\"Sequence Length [Cliffords]\", ylabel=\"Survival Probability\")\n",
    "rb_decay = fit.params['decay']"
   ]
  },
  {
   "cell_type": "code",
   "execution_count": null,
   "metadata": {},
   "outputs": [],
   "source": [
    "group = qubits[1]\n",
    "stats = stats_by_group[group]\n",
    "exps = stats['expectation']\n",
    "std_errs = stats['std_err']\n",
    "\n",
    "fit = fit_rb_results(depths, exps, std_errs, num_shots)\n",
    "fig, axs = make_figure(fit, xlabel=\"Sequence Length [Cliffords]\", ylabel=\"Survival Probability\")\n",
    "rb_decay = fit.params['decay']"
   ]
  },
  {
   "cell_type": "markdown",
   "metadata": {},
   "source": [
    "## Simultaneous unitarity"
   ]
  },
  {
   "cell_type": "code",
   "execution_count": null,
   "metadata": {},
   "outputs": [],
   "source": [
    "num_sequences = 10\n",
    "depths = 3 * 2 ** np.arange(3, dtype=np.uint8)\n",
    "depths = [d for d in depths for _ in range(num_sequences_per_depth)]\n",
    "qubits = [(1,), (5,)]\n",
    "\n",
    "uexpts = generate_unitarity_experiments(bm, qubits, depths)\n",
    "print(uexpts[0])\n",
    "simult_u_results = acquire_rb_data(qc, uexpts, num_shots=100)"
   ]
  },
  {
   "cell_type": "code",
   "execution_count": null,
   "metadata": {},
   "outputs": [],
   "source": [
    "from forest.benchmarking.analysis.fitting import make_figure\n",
    "stats_by_group = get_stats_by_qubit_group(qubits, simult_u_results)\n",
    "\n",
    "group = qubits[0]\n",
    "stats = stats_by_group[group]\n",
    "exps = stats['expectation']\n",
    "std_errs = stats['std_err']\n",
    "\n",
    "fit = fit_unitarity_results(depths, exps, std_errs)\n",
    "fig, axs = make_figure(fit, xlabel=\"Sequence Length [Cliffords]\", ylabel=\"Shifted Purity\")\n",
    "unitarity = fit.params['decay'].value"
   ]
  },
  {
   "cell_type": "code",
   "execution_count": null,
   "metadata": {},
   "outputs": [],
   "source": [
    "group = qubits[1]\n",
    "stats = stats_by_group[group]\n",
    "exps = stats['expectation']\n",
    "std_errs = stats['std_err']\n",
    "\n",
    "fit = fit_unitarity_results(depths, exps, std_errs)\n",
    "fig, axs = make_figure(fit, xlabel=\"Sequence Length [Cliffords]\", ylabel=\"Shifted Purity\")\n",
    "unitarity = fit.params['decay'].value"
   ]
  },
  {
   "cell_type": "code",
   "execution_count": null,
   "metadata": {},
   "outputs": [],
   "source": []
  }
 ],
 "metadata": {
  "language_info": {
   "name": "python",
   "pygments_lexer": "ipython3"
  }
 },
 "nbformat": 4,
 "nbformat_minor": 2
}
