{
 "cells": [
  {
   "cell_type": "markdown",
   "metadata": {},
   "source": [
    "# Randomized Benchmarking: Simultaneous RB"
   ]
  },
  {
   "cell_type": "code",
   "execution_count": null,
   "metadata": {},
   "outputs": [],
   "source": [
    "# Needs in terminal:\n",
    "# $ quilc -S\n",
    "# $ qvm -S\n",
    "\n",
    "import numpy as np\n",
    "\n",
    "from pyquil.api import get_benchmarker\n",
    "from forest.benchmarking.randomized_benchmarking import (add_sequences_to_dataframe,\n",
    "                                                        add_survivals,\n",
    "                                                        generate_simultaneous_rb_sequence,\n",
    "                                                        rb_dataframe,\n",
    "                                                        run_rb_measurement,\n",
    "                                                        survivals_by_qubits)\n",
    "\n",
    "%matplotlib inline"
   ]
  },
  {
   "cell_type": "markdown",
   "metadata": {},
   "source": [
    "### You need a connection to the service for generating sequences"
   ]
  },
  {
   "cell_type": "code",
   "execution_count": null,
   "metadata": {},
   "outputs": [],
   "source": [
    "bm = get_benchmarker()"
   ]
  },
  {
   "cell_type": "markdown",
   "metadata": {},
   "source": [
    "# Simultaneous Sequence Generation"
   ]
  },
  {
   "cell_type": "code",
   "execution_count": null,
   "metadata": {},
   "outputs": [],
   "source": [
    "seq_1q = generate_simultaneous_rb_sequence(bm=bm, subgraph=[(0,), (1,), (2,), (3,)], depth=5)\n",
    "for idx, clifford_program in enumerate(seq_1q):\n",
    "    print(f\"Clifford {idx}:\")\n",
    "    print(clifford_program)"
   ]
  },
  {
   "cell_type": "code",
   "execution_count": null,
   "metadata": {},
   "outputs": [],
   "source": [
    "seq_2q = generate_simultaneous_rb_sequence(bm=bm, subgraph=[(0, 5), (1, 6)], depth=5)\n",
    "for idx, clifford_program in enumerate(seq_2q):\n",
    "    print(f\"Clifford {idx}:\")\n",
    "    print(clifford_program)"
   ]
  },
  {
   "cell_type": "markdown",
   "metadata": {},
   "source": [
    "# Run RB experiments"
   ]
  },
  {
   "cell_type": "markdown",
   "metadata": {},
   "source": [
    "## 1) Intialize and partially populate a DataFrame to summarize the experiment."
   ]
  },
  {
   "cell_type": "code",
   "execution_count": null,
   "metadata": {},
   "outputs": [],
   "source": [
    "df = rb_dataframe(rb_type=\"sim-2q\",\n",
    "                  subgraph=[(0, 5), (1, 6)],\n",
    "                  depths=3 * 2 ** np.arange(3, dtype=np.uint8),\n",
    "                  num_sequences=10)\n",
    "df"
   ]
  },
  {
   "cell_type": "markdown",
   "metadata": {},
   "source": [
    "## 2) Generate and add new RB sequences. This is slow!"
   ]
  },
  {
   "cell_type": "code",
   "execution_count": null,
   "metadata": {},
   "outputs": [],
   "source": [
    "df = add_sequences_to_dataframe(df, bm)\n",
    "df"
   ]
  },
  {
   "cell_type": "markdown",
   "metadata": {},
   "source": [
    "## 3) Run the RB Sequences on a QuantumComputer\n",
    "\n",
    "You can rerun this cell and get different results each time."
   ]
  },
  {
   "cell_type": "code",
   "execution_count": null,
   "metadata": {},
   "outputs": [],
   "source": [
    "from pyquil import get_qc\n",
    "qc = get_qc(\"9q-square-noisy-qvm\")\n",
    "\n",
    "df = run_rb_measurement(df, qc, num_trials=100)\n",
    "df "
   ]
  },
  {
   "cell_type": "markdown",
   "metadata": {},
   "source": [
    "# 4) Calculate survival statistics and add these to the DataFrame"
   ]
  },
  {
   "cell_type": "code",
   "execution_count": null,
   "metadata": {},
   "outputs": [],
   "source": [
    "df = add_survivals(df)\n",
    "df"
   ]
  },
  {
   "cell_type": "markdown",
   "metadata": {},
   "source": [
    "# 5) Extract the survival data into arrays keyed to each measured qubit or qubit-pair"
   ]
  },
  {
   "cell_type": "code",
   "execution_count": null,
   "metadata": {},
   "outputs": [],
   "source": [
    "subgraph = [(0, 5), (1, 6)]\n",
    "depths, survivals, survival_errs = {}, {}, {}\n",
    "for qubits in subgraph:\n",
    "    depths[qubits], survivals[qubits], survival_errs[qubits] = survivals_by_qubits(df, qubits)"
   ]
  },
  {
   "cell_type": "markdown",
   "metadata": {},
   "source": [
    "# 6) Fit the data"
   ]
  },
  {
   "cell_type": "code",
   "execution_count": null,
   "metadata": {},
   "outputs": [],
   "source": [
    "from forest.benchmarking.analysis.fitting import make_figure\n",
    "from forest.benchmarking.randomized_benchmarking import fit_standard_rb\n",
    "\n",
    "fit = fit_standard_rb(depths[(1, 6)], survivals[(1,6)], weights=1/survival_errs[(1, 6)])\n",
    "fig, axs = make_figure(fit, xlabel=\"Sequence Length [Cliffords]\", ylabel=\"Survival Probability\")\n",
    "rb_decay = fit.params['decay']"
   ]
  },
  {
   "cell_type": "code",
   "execution_count": null,
   "metadata": {},
   "outputs": [],
   "source": []
  }
 ],
 "metadata": {
  "kernelspec": {
   "display_name": "Python 3",
   "language": "python",
   "name": "python3"
  },
  "language_info": {
   "codemirror_mode": {
    "name": "ipython",
    "version": 3
   },
   "file_extension": ".py",
   "mimetype": "text/x-python",
   "name": "python",
   "nbconvert_exporter": "python",
   "pygments_lexer": "ipython3",
   "version": "3.6.3"
  }
 },
 "nbformat": 4,
 "nbformat_minor": 2
}
