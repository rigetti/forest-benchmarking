{
 "cells": [
  {
   "cell_type": "markdown",
   "metadata": {},
   "source": [
    "# Readout Fidelity Measurement \n",
    "\n",
    "In this notebook we explore the module `readout.py` that enables \n",
    "easy estimation of readout imperfections in the computational basis.\n",
    "\n",
    "The basic idea is to prepare all possible computational basis states \n",
    "and measure the resulting distribution over output strings. For \n",
    "input bit strings $i$ and measured output strings $j$ we want to learn all \n",
    "values of $\\Pr( {\\rm detected \\ } j\n",
    "| {\\rm prepared \\ } i)$. It is convenient to collect these probabilites \n",
    "into a matrix which is called a \n",
    "[confusion matrix](https://en.wikipedia.org/wiki/Confusion_matrix). \n",
    "For a single bit $ i,j \\in \\{0, 1 \\}$ it is\n",
    "\n",
    "$$\n",
    "C = \n",
    "\\begin{pmatrix}\n",
    "\\Pr(0|0) &  \\Pr(0|1)\\\\\n",
    "\\Pr(1|0) &  \\Pr(1|1)\n",
    "\\end{pmatrix}\n",
    "$$\n",
    "the ideal confusion matrix $ \\Pr( j | i ) = \\delta_{i,j} $ i.e.\n",
    "$$\n",
    "C_{\\rm ideal} = \n",
    "\\begin{pmatrix}\n",
    "1 &  0\\\\\n",
    "0 &  1\n",
    "\\end{pmatrix}.\n",
    "$$\n",
    "Imperfect measurements have $ \\Pr( j | i ) = C_{j,i} $  where $\\sum_j  \\Pr( j | i ) = 1$ for any $i$.  \n",
    "  \n",
    "  \n",
    "**In summary the functionality of `readout.py` is:**\n",
    "- estimation of a single qubit confusion matrix\n",
    "- estimation of the joint confusion matrix over `n` bits\n",
    "- marginalize a joint confusion matrix over `m` qubits to a smaller matrix over a subset of those qubits\n",
    "- estimate joint reset confusion matrix\n"
   ]
  },
  {
   "cell_type": "markdown",
   "metadata": {},
   "source": [
    "## More Details\n",
    "\n",
    "Some of the assumptions in the measurement of the confusion matrix\n",
    "are that the measurement error (aka classical misclassification error) is larger than:\n",
    "* the ground state preparation error (how thermal is the state)\n",
    "* the errors introduced by applying $X$ gates to prepare the bit strings\n",
    "* the quantum aspects of the measurement errors e.g. slightly wrong basis  \n",
    "\n",
    "\n",
    "When measuring `n` (qu)bits there are $d= 2^n$ possible input and \n",
    "output strings. Given perfect preparation of basis state $|k\\rangle$ the \n",
    "confusion matrix is\n",
    "\n",
    "$$\n",
    "C = \\begin{pmatrix}\n",
    "p(0 | 0)   & p(0 | 1)   & \\cdots & p(0 | {d-1})  \\\\\n",
    "p(1 | 0)   & p(1 | 1)   & \\cdots & p(1 | {d-1})  \\\\\n",
    "\\vdots       &              &        & \\vdots          \\\\\n",
    "p(d-1 | 0) & p(d-1 | 1) & \\cdots & p(d-1 | {d-1})\n",
    "\\end{pmatrix}.\n",
    "$$\n",
    "\n",
    "The trace of the confusion matrix divided by the number of states\n",
    "is the average probability to correctly report the input string\n",
    "\n",
    "$$\n",
    "F(C):=\\frac{\\mathrm{Tr}\\left( C\\right)}{d} = \\frac{1}{d} \\sum_{j=0}^{d-1} p(j|j)\n",
    "$$\n",
    "this is some times called the \"joint assignment fidelity\" or \"readout fidelity\" of our simultaneous qubit readout.\n",
    "\n",
    "This matrix can be related to the quantum measurement operators (well the [POVM](https://en.wikipedia.org/wiki/POVM)).\n",
    "Given the coefficients appearing in the confusion matrix the equivalent readout POVM is\n",
    "\n",
    "$$\n",
    "\\hat N_j := \\sum_{k=0}^{d-1} p(j | k) \\Pi_{k}\n",
    "$$\n",
    "\n",
    "where we have introduced the bitstring projectors\n",
    "$ \\Pi_{k}=|k\\rangle \\langle k|$. \n",
    "\n",
    "\n",
    "To be a valid POVM we must have \n",
    "1. $\\hat N_j\\ge 0$ for all $j$, and \n",
    "2. $\\sum_j\\hat N_j\\le I$, \n",
    "\n",
    "where $I$ is the identity operator. We can immediately see \n",
    "condition one is true. While condition two is easy to verify\n",
    "\n",
    "$$\n",
    "\\sum_{j=0}^{d-1}\\hat N_j \n",
    "= \\sum_{k=0}^{d-1} \\underbrace{\\sum_{j=0}^{d-1} p(j | k)}_{1} \\hat \\Pi_{k}\n",
    "= \\sum_{k=0}^{d-1} \\hat \\Pi_{k} = I.\n",
    "$$"
   ]
  },
  {
   "cell_type": "markdown",
   "metadata": {},
   "source": [
    "## Simple readout fidelity and confusion matrix estimation\n",
    "\n",
    "The simple example below should help understanding the more general code in `readout.py`."
   ]
  },
  {
   "cell_type": "code",
   "execution_count": 1,
   "metadata": {},
   "outputs": [],
   "source": [
    "import numpy as np\n",
    "\n",
    "from pyquil import get_qc\n",
    "from forest.benchmarking.readout import estimate_confusion_matrix\n",
    "\n",
    "qc_1q = get_qc('1q-qvm', noisy=True)"
   ]
  },
  {
   "cell_type": "markdown",
   "metadata": {},
   "source": [
    "`estimate_confusion_matrix` constructs and measures a program for a single qubit for each of the target prep states, either $| 0 \\rangle$ or $|1 \\rangle$. When $|0 \\rangle$ is targeted, we prepare a qubit in the ground state with an identity operation. Similarly, when $|1\\rangle$ is targeted, we prepare a qubit in the excited state with an `X` gate. To estimate the confusion matrix we measure each target state many times (default 1000). When we prepare the $|0\\rangle$ state we expect to measure the $|0\\rangle$ state, so the percentage of the time we do in fact measure $|0\\rangle$ gives us an estimate of `p(0|0)`; the remaining fraction of results where we instead measured $|1\\rangle$ after preparing $|0\\rangle$ gives us an estimate of `p(1|0)`."
   ]
  },
  {
   "cell_type": "code",
   "execution_count": 5,
   "metadata": {},
   "outputs": [
    {
     "name": "stdout",
     "output_type": "stream",
     "text": [
      "[[0.9767 0.0233]\n",
      " [0.0866 0.9134]]\n",
      "readout fidelity: 0.94505\n"
     ]
    }
   ],
   "source": [
    "confusion_matrix_q0 = estimate_confusion_matrix(qc_1q, 0)\n",
    "print(confusion_matrix_q0)\n",
    "print(f'readout fidelity: {np.trace(confusion_matrix_q0)/2}')"
   ]
  },
  {
   "cell_type": "markdown",
   "metadata": {},
   "source": [
    "### Generalizing to larger groups of qubits"
   ]
  },
  {
   "cell_type": "markdown",
   "metadata": {},
   "source": [
    "The readout module also includes a convenience function for estimating all $k$-qubit confusion matrices for a group of $n \\geq k$ qubits; this generalizes the above example, since one could use it to measure a 1-qubit confusion matrix for a group of 1 qubit."
   ]
  },
  {
   "cell_type": "code",
   "execution_count": 38,
   "metadata": {},
   "outputs": [],
   "source": [
    "from forest.benchmarking.readout import (estimate_joint_confusion_in_set, \n",
    "                                        estimate_joint_reset_confusion, \n",
    "                                        marginalize_confusion_matrix)\n",
    "\n",
    "qc = get_qc('9q-square-noisy-qvm')\n",
    "qubits = qc.qubits()"
   ]
  },
  {
   "cell_type": "markdown",
   "metadata": {},
   "source": [
    "### Convenient estimation of (possibly joint) confusion matrices for groups of qubits"
   ]
  },
  {
   "cell_type": "code",
   "execution_count": 21,
   "metadata": {},
   "outputs": [],
   "source": [
    "# get all single qubit confusion matrices\n",
    "one_q_ro_conf_matxs = estimate_joint_confusion_in_set(qc, use_active_reset=True)\n",
    "\n",
    "# get all pairwise confusion matrices from subset of qubits.\n",
    "subset = qubits[:4]  # only look at 4 qubits of interest, this will mean (4 choose 2) = 6 matrices\n",
    "\n",
    "two_q_ro_conf_matxs = estimate_joint_confusion_in_set(qc, qubits=subset, joint_group_size=2, use_active_reset=True)"
   ]
  },
  {
   "cell_type": "markdown",
   "metadata": {},
   "source": [
    "### Extract the one qubit readout (ro) fidelities "
   ]
  },
  {
   "cell_type": "code",
   "execution_count": 17,
   "metadata": {},
   "outputs": [
    {
     "name": "stdout",
     "output_type": "stream",
     "text": [
      "Qubit      Readout fidelity\n",
      "q0         0.933500\n",
      "q1         0.938000\n",
      "q2         0.934500\n",
      "q3         0.933000\n",
      "q4         0.936000\n",
      "q5         0.942000\n",
      "q6         0.936500\n",
      "q7         0.938000\n",
      "q8         0.939500\n"
     ]
    }
   ],
   "source": [
    "print('Qubit      Readout fidelity')\n",
    "for qubit in qubits:\n",
    "    conf_mat = one_q_ro_conf_matxs[(qubit,)]\n",
    "    ro_fidelity = np.trace(conf_mat)/2 # average P(0 | 0) and P(1 | 1)\n",
    "    print(f'q{qubit:<3d}{ro_fidelity:15f}')"
   ]
  },
  {
   "cell_type": "markdown",
   "metadata": {},
   "source": [
    "### Pick a single two qubit joint confusion matrix and compare marginal to one qubit confusion matrix"
   ]
  },
  {
   "cell_type": "markdown",
   "metadata": {},
   "source": [
    "Comparing a marginalized joint $n$-qubit matrix to the estimated $k$-qubit ($k<n$) matrices can help reveal correlated errors"
   ]
  },
  {
   "cell_type": "code",
   "execution_count": 31,
   "metadata": {},
   "outputs": [
    {
     "name": "stdout",
     "output_type": "stream",
     "text": [
      "Two qubit confusion matrix:\n",
      " [[0.944 0.022 0.032 0.002]\n",
      " [0.088 0.886 0.003 0.023]\n",
      " [0.106 0.004 0.872 0.018]\n",
      " [0.009 0.079 0.093 0.819]] \n",
      "\n",
      "Marginal confusion matrix:\n",
      " [[0.97  0.03 ]\n",
      " [0.099 0.901]] \n",
      "\n",
      "One qubit confusion matrix:\n",
      " [[0.972 0.028]\n",
      " [0.086 0.914]]\n"
     ]
    }
   ],
   "source": [
    "two_q_conf_mat = two_q_ro_conf_matxs[(subset[0],subset[-1])]\n",
    "print('Two qubit confusion matrix:\\n',two_q_conf_mat,'\\n')\n",
    "\n",
    "marginal = marginalize_confusion_matrix(two_q_conf_mat, [subset[0], subset[-1]], [subset[0]])\n",
    "\n",
    "print('Marginal confusion matrix:\\n',marginal,'\\n')\n",
    "\n",
    "print('One qubit confusion matrix:\\n', one_q_ro_conf_matxs[(subset[0],)])"
   ]
  },
  {
   "cell_type": "markdown",
   "metadata": {},
   "source": [
    "### Plot the confusion matrix\n",
    "\n",
    "Here we make up a two bit confusion matrix that might represent correlated readout errors, that is a kind of **measurement error crosstalk**.\n",
    "\n",
    "We can then marginalize and recombine to see how different the indepenent readout error model would look."
   ]
  },
  {
   "cell_type": "code",
   "execution_count": 39,
   "metadata": {},
   "outputs": [],
   "source": [
    "confusion_ideal = np.eye(4)\n",
    "\n",
    "# if the qubit is in |00> there is probablity to flip\n",
    "# to |01>, |10>, |11>.\n",
    "confusion_correlated_two_q_ro_errors = np.array(\n",
    "    [[0.925, 0.025, 0.025, 0.025],\n",
    "     [0.000, 1.000, 0.000, 0.000],\n",
    "     [0.000, 0.000, 1.000, 0.000],\n",
    "     [0.000, 0.000, 0.000, 1.000]])\n",
    "\n",
    "\n",
    "marginal1 = marginalize_confusion_matrix(confusion_correlated_two_q_ro_errors, [0, 1], [0])\n",
    "marginal2 = marginalize_confusion_matrix(confusion_correlated_two_q_ro_errors, [0, 1], [1])\n",
    "\n",
    "# take the two maringal confusion matricies and recombine\n",
    "recombine = np.kron(marginal1, marginal2)"
   ]
  },
  {
   "cell_type": "code",
   "execution_count": 40,
   "metadata": {},
   "outputs": [],
   "source": [
    "from forest.benchmarking.plotting.hinton import hinton_real\n",
    "import itertools\n",
    "import matplotlib.pyplot as plt"
   ]
  },
  {
   "cell_type": "code",
   "execution_count": 41,
   "metadata": {},
   "outputs": [],
   "source": [
    "one_bit_labels = ['0','1']\n",
    "two_bit_labels = [''.join(x) for x in itertools.product('01', repeat=2)]"
   ]
  },
  {
   "cell_type": "code",
   "execution_count": 42,
   "metadata": {},
   "outputs": [
    {
     "data": {
      "image/png": "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
      "text/plain": [
       "<Figure size 576x432 with 2 Axes>"
      ]
     },
     "metadata": {
      "needs_background": "light"
     },
     "output_type": "display_data"
    }
   ],
   "source": [
    "fig0, ax0 = hinton_real(confusion_ideal, xlabels=two_bit_labels, ylabels=two_bit_labels, title='Ideal Confusion matrix')\n",
    "ax0.set_xlabel(\"Input bit string\", fontsize=14)\n",
    "ax0.set_ylabel(\"Output bit string\", fontsize=14);"
   ]
  },
  {
   "cell_type": "code",
   "execution_count": 43,
   "metadata": {},
   "outputs": [
    {
     "data": {
      "image/png": "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
      "text/plain": [
       "<Figure size 576x432 with 2 Axes>"
      ]
     },
     "metadata": {
      "needs_background": "light"
     },
     "output_type": "display_data"
    }
   ],
   "source": [
    "fig1, ax1 = hinton_real(correlated_two_q_ro_errors, xlabels=two_bit_labels, ylabels=two_bit_labels, title='Correlated two bit error Confusion matrix')\n",
    "ax1.set_xlabel(\"Input bit string\", fontsize=14)\n",
    "ax1.set_ylabel(\"Output bit string\", fontsize=14);"
   ]
  },
  {
   "cell_type": "code",
   "execution_count": 44,
   "metadata": {},
   "outputs": [
    {
     "data": {
      "image/png": "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
      "text/plain": [
       "<Figure size 576x432 with 2 Axes>"
      ]
     },
     "metadata": {
      "needs_background": "light"
     },
     "output_type": "display_data"
    }
   ],
   "source": [
    "fig2, ax2 = hinton_real(marginal1, xlabels=one_bit_labels, ylabels=one_bit_labels, title='Marginal Confusion matrix')\n",
    "ax2.set_xlabel(\"Input bit string\", fontsize=14)\n",
    "ax2.set_ylabel(\"Output bit string\", fontsize=14);"
   ]
  },
  {
   "cell_type": "code",
   "execution_count": 45,
   "metadata": {},
   "outputs": [
    {
     "data": {
      "image/png": "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
      "text/plain": [
       "<Figure size 576x432 with 2 Axes>"
      ]
     },
     "metadata": {
      "needs_background": "light"
     },
     "output_type": "display_data"
    }
   ],
   "source": [
    "fig3, ax3 = hinton_real(recombine, xlabels=two_bit_labels, ylabels=two_bit_labels, title='Marginalized then recombined Confusion matrix')\n",
    "ax2.set_xlabel(\"Input bit string\", fontsize=14)\n",
    "ax2.set_ylabel(\"Output bit string\", fontsize=14);"
   ]
  },
  {
   "cell_type": "markdown",
   "metadata": {},
   "source": [
    "## Estimate confusion matrix for active reset error\n",
    "\n",
    "Similarly to readout, we can estimate a confusion matrix to see how well active reset is able to reset any given bitstring to the ground state ($|0\\dots 0\\rangle$). "
   ]
  },
  {
   "cell_type": "code",
   "execution_count": 32,
   "metadata": {},
   "outputs": [
    {
     "name": "stderr",
     "output_type": "stream",
     "text": [
      "100%|██████████| 16/16 [00:40<00:00,  2.61s/it]\n"
     ]
    }
   ],
   "source": [
    "subset = tuple(qubits[:4])\n",
    "subset_reset_conf_matx = estimate_joint_reset_confusion(qc, subset, \n",
    "                                                        joint_group_size=len(subset), \n",
    "                                                        show_progress_bar=True)"
   ]
  },
  {
   "cell_type": "code",
   "execution_count": 33,
   "metadata": {},
   "outputs": [
    {
     "name": "stdout",
     "output_type": "stream",
     "text": [
      "0.9999999999999999\n",
      "0.8999999999999999\n",
      "0.7999999999999999\n",
      "0.8999999999999999\n",
      "0.8999999999999999\n",
      "0.8999999999999999\n",
      "0.9999999999999999\n",
      "0.8999999999999999\n",
      "0.8999999999999999\n",
      "0.7999999999999999\n",
      "0.9999999999999999\n",
      "0.7999999999999999\n",
      "0.7999999999999999\n",
      "0.8999999999999999\n",
      "0.9999999999999999\n",
      "0.8999999999999999\n"
     ]
    }
   ],
   "source": [
    "for row in subset_reset_conf_matx[subset]:\n",
    "    pr_sucess = row[0]\n",
    "    print(pr_sucess)"
   ]
  },
  {
   "cell_type": "code",
   "execution_count": null,
   "metadata": {},
   "outputs": [],
   "source": []
  }
 ],
 "metadata": {
  "kernelspec": {
   "display_name": "Python 3",
   "language": "python",
   "name": "python3"
  },
  "language_info": {
   "codemirror_mode": {
    "name": "ipython",
    "version": 3
   },
   "file_extension": ".py",
   "mimetype": "text/x-python",
   "name": "python",
   "nbconvert_exporter": "python",
   "pygments_lexer": "ipython3",
   "version": "3.6.5"
  }
 },
 "nbformat": 4,
 "nbformat_minor": 2
}
