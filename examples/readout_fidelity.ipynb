{
 "cells": [
  {
   "cell_type": "markdown",
   "metadata": {},
   "source": [
    "# Readout Fidelity Measurement \n",
    "\n",
    "In this notebook we explore the module `readout.py` that enables \n",
    "easy estimation of readout imperfections in the computational basis.\n",
    "\n",
    "The basic idea is to prepare all possible computational basis states \n",
    "and measure the resulting distribution over output strings. For \n",
    "input bit strings $i$ and measured output strings $j$ we want to learn all \n",
    "values of $\\Pr( {\\rm detected\\ } j\n",
    "| {\\rm prepared\\ } i)$. It is convenient to collect these probabilites \n",
    "into a matrix which is called a \n",
    "[confusion matrix](https://en.wikipedia.org/wiki/Confusion_matrix). \n",
    "For a single bit $ i,j \\in \\{0, 1 \\}$ it is\n",
    "\n",
    "$$\n",
    "C = \n",
    "\\begin{pmatrix}\n",
    "\\Pr(0|0) &  \\Pr(0|1)\\\\\n",
    "\\Pr(1|0) &  \\Pr(1|1)\n",
    "\\end{pmatrix}\n",
    "$$\n",
    "the ideal confusion matrix $ \\Pr( j | i ) = \\delta_{i,j} $ i.e.\n",
    "$$\n",
    "C_{\\rm ideal} = \n",
    "\\begin{pmatrix}\n",
    "1 &  0\\\\\n",
    "0 &  1\n",
    "\\end{pmatrix}.\n",
    "$$\n",
    "Imperfect measurements have $ \\Pr( j | i ) = p_{j,i} $  where $\\sum_j  \\Pr( j | i ) = 1$ for any $i$.  \n",
    "  \n",
    "  \n",
    "**In summary the functionality of `readout.py` is:**\n",
    "- estimation of a single qubit confusion matrix\n",
    "- estimation of the joint confusion matrix over `n` bits\n",
    "- marginalize a joint confusion matrix over `m` qubits to a smaller matrix over a subset of those qubits\n",
    "- estimate joint reset confusion matrix\n"
   ]
  },
  {
   "cell_type": "markdown",
   "metadata": {},
   "source": [
    "## More Details\n",
    "\n",
    "Some of the assumptions in the measurement of the confusion matrix\n",
    "are that the measurement error (aka classical misclassification error) is larger than:\n",
    "* the ground state preparation error (how thermal is the state)\n",
    "* the errors introduced by applying $X$ gates to prepare the bit strings\n",
    "* the quantum aspects of the measurement errors e.g. slightly wrong basis  \n",
    "\n",
    "\n",
    "When measuring `n` (qu)bits there are $d= 2^n$ possible input and \n",
    "output strings. Given perfect preparation of basis state $|k\\rangle$ the \n",
    "confusion matrix is\n",
    "\n",
    "$$\n",
    "C = \\begin{pmatrix}\n",
    "p(0 | 0)   & p(0 | 1)   & \\cdots & p(0 | {d-1})  \\\\\n",
    "p(1 | 0)   & p(1 | 1)   & \\cdots & p(1 | {d-1})  \\\\\n",
    "\\vdots       &              &        & \\vdots          \\\\\n",
    "p(d-1 | 0) & p(d-1 | 1) & \\cdots & p(d-1 | {d-1})\n",
    "\\end{pmatrix}.\n",
    "$$\n",
    "\n",
    "The trace of the confusion matrix divided by the number of states\n",
    "is the average probability to correctly report the input string\n",
    "\n",
    "$$\n",
    "F(C):=\\frac{\\mathrm{Tr}\\left( C\\right)}{d} = \\frac{1}{d} \\sum_{j=0}^{d-1} p(j|j)\n",
    "$$\n",
    "this is some times called the \"joint assignment fidelity\" or \"readout fidelity\" of our simultaneous qubit readout.\n",
    "\n",
    "This matrix can be related to the quantum measurement operators (well the [POVM](https://en.wikipedia.org/wiki/POVM)).\n",
    "Given the coefficients appearing in the confusion matrix the equivalent readout POVM is\n",
    "\n",
    "$$\n",
    "\\hat N_j := \\sum_{k=0}^{d-1} p(j | k) \\Pi_{k}\n",
    "$$\n",
    "\n",
    "where we have introduced the bitstring projectors\n",
    "$ \\Pi_{k}=|k\\rangle \\langle k|$. \n",
    "\n",
    "\n",
    "To be a valid POVM we must have \n",
    "1. $\\hat N_j\\ge 0$ for all $j$, and \n",
    "2. $\\sum_j\\hat N_j\\le I$, \n",
    "\n",
    "where $I$ is the identity operator. We can immediately see \n",
    "condition one is true. While condition two is easy to verify\n",
    "\n",
    "$$\n",
    "\\sum_{j=0}^{d-1}\\hat N_j \n",
    "= \\sum_{k=0}^{d-1} \\underbrace{\\sum_{j=0}^{d-1} p(j | k)}_{1} \\hat \\Pi_{k}\n",
    "= \\sum_{k=0}^{d-1} \\hat \\Pi_{k} = I.\n",
    "$$"
   ]
  },
  {
   "cell_type": "markdown",
   "metadata": {},
   "source": [
    "## Simple readout fidelity and confusion matrix estimation\n",
    "\n",
    "The simple standalone function below should help understanding the more general code in `readout.py`."
   ]
  },
  {
   "cell_type": "code",
   "execution_count": 34,
   "metadata": {},
   "outputs": [],
   "source": [
    "from math import pi\n",
    "from typing import List\n",
    "\n",
    "import numpy as np\n",
    "\n",
    "from pyquil import Program, get_qc\n",
    "from pyquil.api import QuantumComputer\n",
    "from pyquil.gates import *"
   ]
  },
  {
   "cell_type": "markdown",
   "metadata": {},
   "source": [
    "`run_readout` constructs and measures a program for a single qubit depending on whether the $| 0 \\rangle$ state or the $|1 \\rangle$ state is targeted. When $|0 \\rangle$ is targeted, we prepare a qubit in the ground state with an identity operation. Similarly, when $|1\\rangle$ is targeted, we prepare a qubit in the excited state with an `X` gate. "
   ]
  },
  {
   "cell_type": "code",
   "execution_count": 35,
   "metadata": {},
   "outputs": [],
   "source": [
    "def run_readout(qc: QuantumComputer, qubit: int, target: int, n_shots: int = 1000):\n",
    "    \"\"\"\n",
    "    Measure a qubit. Optionally flip a bit first.\n",
    "\n",
    "    :param qc: The quantum computer to run on\n",
    "    :param qubit: The qubit to probe\n",
    "    :param target: What state we want. Either 0 or 1.\n",
    "    :param n_shots: The number of times to repeat the experiment\n",
    "    \"\"\"\n",
    "\n",
    "    # Step 2. Construct and compile your program\n",
    "    program = Program()\n",
    "    ro = program.declare('ro', 'BIT', 1)\n",
    "    # Uncomment to enable active reset\n",
    "    # program += RESET()\n",
    "    if target == 0:\n",
    "        program += I(qubit)\n",
    "    elif target == 1:\n",
    "        program += RX(pi, qubit)\n",
    "    else:\n",
    "        raise ValueError(\"Target should be 0 or 1\")\n",
    "\n",
    "    program += MEASURE(qubit, ro[0])\n",
    "    program = program.wrap_in_numshots_loop(n_shots)\n",
    "\n",
    "    nq_program = program\n",
    "    # Uncomment to test the quilc compiler\n",
    "    # nq_program = qc.compiler.quil_to_native_quil(program)\n",
    "    executable = qc.compiler.native_quil_to_executable(nq_program)\n",
    "\n",
    "    bitstrings = qc.run(executable)\n",
    "    return np.mean(bitstrings[:, 0])"
   ]
  },
  {
   "cell_type": "markdown",
   "metadata": {},
   "source": [
    "`run_readouts` is a wrapper for `run_readout` that runs on each qubit, targetting $\\left|0\\right>$ for many measurements (default 1000) and then $\\left|1\\right>$. When we prepare in the $\\left|0\\right>$ state, we expect to measure in the $\\left|0\\right>$ state, so the percentage of the time we do in fact measure $\\left|0\\right>$ gives us `p(0|0)`. We do the same for `p(1|1)` and print the results. "
   ]
  },
  {
   "cell_type": "code",
   "execution_count": 36,
   "metadata": {},
   "outputs": [],
   "source": [
    "def run_readouts(qc: QuantumComputer):\n",
    "    \"\"\"\n",
    "    Characterize readout on several qubits, one at a time.\n",
    "\n",
    "    This collects results and prints them out at the end because we\n",
    "    print the compiled and uncompiled programs within ``run_readout``.\n",
    "\n",
    "    :param qc: The QuantumComputer to run on\n",
    "    :param qubits: A list of qubits to characterize one at a time.\n",
    "    \"\"\"\n",
    "    results = []\n",
    "    for qubit in qc.qubits():\n",
    "        p0 = run_readout(qc=qc, qubit=qubit, target=0)\n",
    "        p1 = run_readout(qc=qc, qubit=qubit, target=1)\n",
    "        results += [(qubit, p0, p1)]\n",
    "\n",
    "    print('q     p(0|0)    p(1|1)    F')\n",
    "    for qubit, p0, p1 in results:\n",
    "        print(f'q{qubit:<3d}{1-p0:10f}{p1:10f}{(1-p0+p1)/2:10f}')"
   ]
  },
  {
   "cell_type": "code",
   "execution_count": 37,
   "metadata": {},
   "outputs": [
    {
     "name": "stdout",
     "output_type": "stream",
     "text": [
      "q     p(0|0)    p(1|1)    F\n",
      "q0    0.976000  0.917000  0.946500\n",
      "q1    0.973000  0.905000  0.939000\n",
      "q2    0.978000  0.902000  0.940000\n",
      "q3    0.976000  0.912000  0.944000\n",
      "q4    0.969000  0.925000  0.947000\n",
      "q5    0.980000  0.910000  0.945000\n",
      "q6    0.969000  0.912000  0.940500\n",
      "q7    0.970000  0.905000  0.937500\n",
      "q8    0.965000  0.894000  0.929500\n"
     ]
    }
   ],
   "source": [
    "run_readouts(qc=get_qc('9q-square-noisy-qvm'))"
   ]
  },
  {
   "cell_type": "markdown",
   "metadata": {},
   "source": [
    "## Using forest benchmarking's `readout.py`"
   ]
  },
  {
   "cell_type": "markdown",
   "metadata": {},
   "source": [
    "Forest-benchmarking also provides a readout module with convenience functions for estimating readout and reset confusion matrices for groups of qubits. "
   ]
  },
  {
   "cell_type": "code",
   "execution_count": 38,
   "metadata": {},
   "outputs": [],
   "source": [
    "from forest.benchmarking.readout import (estimate_joint_confusion_in_set, \n",
    "                                        estimate_joint_reset_confusion, \n",
    "                                        marginalize_confusion_matrix)\n",
    "\n",
    "qc = get_qc('9q-square-noisy-qvm')\n",
    "qubits = qc.qubits()"
   ]
  },
  {
   "cell_type": "markdown",
   "metadata": {},
   "source": [
    "### Convenient estimation of (possibly joint) confusion matrices for groups of qubits"
   ]
  },
  {
   "cell_type": "code",
   "execution_count": 21,
   "metadata": {},
   "outputs": [],
   "source": [
    "# get all single qubit confusion matrices\n",
    "one_q_ro_conf_matxs = estimate_joint_confusion_in_set(qc, use_active_reset=True)\n",
    "\n",
    "# get all pairwise confusion matrices from subset of qubits.\n",
    "subset = qubits[:4]  # only look at 4 qubits of interest, this will mean (4 choose 2) = 6 matrices\n",
    "\n",
    "two_q_ro_conf_matxs = estimate_joint_confusion_in_set(qc, qubits=subset, joint_group_size=2, use_active_reset=True)"
   ]
  },
  {
   "cell_type": "markdown",
   "metadata": {},
   "source": [
    "### Extract the one qubit readout (ro) fidelities "
   ]
  },
  {
   "cell_type": "code",
   "execution_count": 23,
   "metadata": {},
   "outputs": [
    {
     "name": "stdout",
     "output_type": "stream",
     "text": [
      "q0    0.943000\n",
      "q1    0.940500\n",
      "q2    0.942000\n",
      "q3    0.942000\n",
      "q4    0.945000\n",
      "q5    0.940000\n",
      "q6    0.947500\n",
      "q7    0.938000\n",
      "q8    0.939000\n"
     ]
    }
   ],
   "source": [
    "for qubit in qubits:\n",
    "    conf_mat = one_q_ro_conf_matxs[(qubit,)]\n",
    "    ro_fidelity = np.trace(conf_mat)/2 # average P(0 | 0) and P(1 | 1)\n",
    "    print(f'q{qubit:<3d}{ro_fidelity:10f}')"
   ]
  },
  {
   "cell_type": "markdown",
   "metadata": {},
   "source": [
    "### Pick a single two qubit joint confusion matrix and compare marginal to one qubit confusion matrix"
   ]
  },
  {
   "cell_type": "markdown",
   "metadata": {},
   "source": [
    "Comparing a joint n-qubit matrix to the estimated <n-qubit matrices can help reveal correlated errors"
   ]
  },
  {
   "cell_type": "code",
   "execution_count": 31,
   "metadata": {},
   "outputs": [
    {
     "name": "stdout",
     "output_type": "stream",
     "text": [
      "Two qubit confusion matrix:\n",
      " [[0.944 0.022 0.032 0.002]\n",
      " [0.088 0.886 0.003 0.023]\n",
      " [0.106 0.004 0.872 0.018]\n",
      " [0.009 0.079 0.093 0.819]] \n",
      "\n",
      "Marginal confusion matrix:\n",
      " [[0.97  0.03 ]\n",
      " [0.099 0.901]] \n",
      "\n",
      "One qubit confusion matrix:\n",
      " [[0.972 0.028]\n",
      " [0.086 0.914]]\n"
     ]
    }
   ],
   "source": [
    "two_q_conf_mat = two_q_ro_conf_matxs[(subset[0],subset[-1])]\n",
    "print('Two qubit confusion matrix:\\n',two_q_conf_mat,'\\n')\n",
    "\n",
    "marginal = marginalize_confusion_matrix(two_q_conf_mat, [subset[0], subset[-1]], [subset[0]])\n",
    "\n",
    "print('Marginal confusion matrix:\\n',marginal,'\\n')\n",
    "\n",
    "print('One qubit confusion matrix:\\n', one_q_ro_conf_matxs[(subset[0],)])"
   ]
  },
  {
   "cell_type": "markdown",
   "metadata": {},
   "source": [
    "## Estimate confusion matrix for active reset error"
   ]
  },
  {
   "cell_type": "code",
   "execution_count": 32,
   "metadata": {},
   "outputs": [
    {
     "name": "stderr",
     "output_type": "stream",
     "text": [
      "100%|██████████| 16/16 [00:40<00:00,  2.61s/it]\n"
     ]
    }
   ],
   "source": [
    "subset = tuple(qubits[:4])\n",
    "subset_reset_conf_matx = estimate_joint_reset_confusion(qc, subset, \n",
    "                                                        joint_group_size=len(subset), \n",
    "                                                        show_progress_bar=True)"
   ]
  },
  {
   "cell_type": "code",
   "execution_count": 33,
   "metadata": {},
   "outputs": [
    {
     "name": "stdout",
     "output_type": "stream",
     "text": [
      "0.9999999999999999\n",
      "0.8999999999999999\n",
      "0.7999999999999999\n",
      "0.8999999999999999\n",
      "0.8999999999999999\n",
      "0.8999999999999999\n",
      "0.9999999999999999\n",
      "0.8999999999999999\n",
      "0.8999999999999999\n",
      "0.7999999999999999\n",
      "0.9999999999999999\n",
      "0.7999999999999999\n",
      "0.7999999999999999\n",
      "0.8999999999999999\n",
      "0.9999999999999999\n",
      "0.8999999999999999\n"
     ]
    }
   ],
   "source": [
    "for row in subset_reset_conf_matx[subset]:\n",
    "    pr_sucess = row[0]\n",
    "    print(pr_sucess)"
   ]
  },
  {
   "cell_type": "code",
   "execution_count": null,
   "metadata": {},
   "outputs": [],
   "source": []
  }
 ],
 "metadata": {
  "kernelspec": {
   "display_name": "Python 3",
   "language": "python",
   "name": "python3"
  },
  "language_info": {
   "codemirror_mode": {
    "name": "ipython",
    "version": 3
   },
   "file_extension": ".py",
   "mimetype": "text/x-python",
   "name": "python",
   "nbconvert_exporter": "python",
   "pygments_lexer": "ipython3",
   "version": "3.7.3"
  }
 },
 "nbformat": 4,
 "nbformat_minor": 2
}
