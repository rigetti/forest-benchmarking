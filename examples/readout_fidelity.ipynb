{
 "cells": [
  {
   "cell_type": "markdown",
   "metadata": {},
   "source": [
    "# Simple Readout Fidelity Measurement \n",
    "\n",
    "Run an identity, `I`, or an `X` pulse to estimate readout fidelity. "
   ]
  },
  {
   "cell_type": "markdown",
   "metadata": {},
   "source": [
    "## setup"
   ]
  },
  {
   "cell_type": "code",
   "execution_count": null,
   "metadata": {},
   "outputs": [],
   "source": [
    "from math import pi\n",
    "from typing import List\n",
    "\n",
    "import numpy as np\n",
    "\n",
    "from pyquil import Program, get_qc\n",
    "from pyquil.api import QuantumComputer\n",
    "from pyquil.gates import *"
   ]
  },
  {
   "cell_type": "markdown",
   "metadata": {},
   "source": [
    "## measuring readout fidelity\n",
    "\n",
    "`run_readout` constructs and measures a program for a single qubit depending on whether the $\\left|0\\right>$ state or the $\\left|1\\right>$ state is targeted. When $\\left|0\\right>$ is targeted, we prepare a qubit in the ground state with an identity operation. Similarly, When $\\left|1\\right>$ is targeted, we prepare a qubit in the excited state with an `X` gate. "
   ]
  },
  {
   "cell_type": "code",
   "execution_count": null,
   "metadata": {},
   "outputs": [],
   "source": [
    "def run_readout(qc: QuantumComputer, qubit: int, target: int, n_shots: int = 1000):\n",
    "    \"\"\"\n",
    "    Measure a qubit. Optionally flip a bit first.\n",
    "\n",
    "    :param qc: The quantum computer to run on\n",
    "    :param qubit: The qubit to probe\n",
    "    :param target: What state we want. Either 0 or 1.\n",
    "    :param n_shots: The number of times to repeat the experiment\n",
    "    \"\"\"\n",
    "\n",
    "    # Step 2. Construct and compile your program\n",
    "    program = Program()\n",
    "    ro = program.declare('ro', 'BIT', 1)\n",
    "    # Uncomment to enable active reset\n",
    "    # program += RESET()\n",
    "    if target == 0:\n",
    "        program += I(qubit)\n",
    "    elif target == 1:\n",
    "        program += RX(pi, qubit)\n",
    "    else:\n",
    "        raise ValueError(\"Target should be 0 or 1\")\n",
    "\n",
    "    program += MEASURE(qubit, ro[0])\n",
    "    program = program.wrap_in_numshots_loop(n_shots)\n",
    "\n",
    "    nq_program = program\n",
    "    # Uncomment to test the quilc compiler\n",
    "    # nq_program = qc.compiler.quil_to_native_quil(program)\n",
    "    executable = qc.compiler.native_quil_to_executable(nq_program)\n",
    "\n",
    "    bitstrings = qc.run(executable)\n",
    "    return np.mean(bitstrings[:, 0])"
   ]
  },
  {
   "cell_type": "markdown",
   "metadata": {},
   "source": [
    "`run_readouts` is a wrapper for `run_readout` that runs on each qubit, targetting $\\left|0\\right>$ for many measurements (default 1000) and then $\\left|1\\right>$. When we prepare in the $\\left|0\\right>$ state, we expect to measure in the $\\left|0\\right>$ state, so the percentage of the time we do in fact measure $\\left|0\\right>$ gives us `p(0|0)`. We do the same for `p(1|1)` and print the results. "
   ]
  },
  {
   "cell_type": "code",
   "execution_count": null,
   "metadata": {},
   "outputs": [],
   "source": [
    "def run_readouts(qc: QuantumComputer):\n",
    "    \"\"\"\n",
    "    Characterize readout on several qubits, one at a time.\n",
    "\n",
    "    This collects results and prints them out at the end because we\n",
    "    print the compiled and uncompiled programs within ``run_readout``.\n",
    "\n",
    "    :param qc: The QuantumComputer to run on\n",
    "    :param qubits: A list of qubits to characterize one at a time.\n",
    "    \"\"\"\n",
    "    results = []\n",
    "    for qubit in qc.qubits():\n",
    "        p0 = run_readout(qc=qc, qubit=qubit, target=0)\n",
    "        p1 = run_readout(qc=qc, qubit=qubit, target=1)\n",
    "        results += [(qubit, p0, p1)]\n",
    "\n",
    "    print('q     p(0|0)    p(1|1)')\n",
    "    for qubit, p0, p1 in results:\n",
    "        print(f'q{qubit:<3d}{1-p0:10f}{p1:10f}')"
   ]
  },
  {
   "cell_type": "code",
   "execution_count": null,
   "metadata": {},
   "outputs": [],
   "source": [
    "run_readouts(qc=get_qc('9q-square-noisy-qvm'))"
   ]
  },
  {
   "cell_type": "markdown",
   "metadata": {},
   "source": [
    "## Using forest_benchmarking.readout.py"
   ]
  },
  {
   "cell_type": "markdown",
   "metadata": {},
   "source": [
    "Forest-benchmarking also provides a readout module with convenience functions for estimating readout and reset confusion matrices for groups of qubits. "
   ]
  },
  {
   "cell_type": "code",
   "execution_count": null,
   "metadata": {},
   "outputs": [],
   "source": [
    "from forest.benchmarking.readout import (estimate_joint_confusion_in_set, \n",
    "                                        estimate_joint_reset_confusion, \n",
    "                                        marginalize_confusion_matrix)\n",
    "qc = get_qc('9q-square-noisy-qvm')\n",
    "qubits = qc.qubits()"
   ]
  },
  {
   "cell_type": "markdown",
   "metadata": {},
   "source": [
    "## Convenient estimation of (possibly joint) confusion matrices for groups of qubits"
   ]
  },
  {
   "cell_type": "code",
   "execution_count": null,
   "metadata": {},
   "outputs": [],
   "source": [
    "# get all single qubit confusion matrices\n",
    "one_q_ro_conf_matxs = estimate_joint_confusion_in_set(qc, use_active_reset=True)\n",
    "\n",
    "# get all pairwise confusion matrices from subset of qubits.\n",
    "subset = qubits[:4]  # only look at 4 qubits of interest, this will mean (4 choose 2) = 6 matrices\n",
    "two_q_ro_conf_matxs = estimate_joint_confusion_in_set(qc, qubits=subset, joint_group_size=2, use_active_reset=True)"
   ]
  },
  {
   "cell_type": "markdown",
   "metadata": {},
   "source": [
    "## extract the 1q ro fidelities "
   ]
  },
  {
   "cell_type": "code",
   "execution_count": null,
   "metadata": {},
   "outputs": [],
   "source": [
    "for qubit in qubits:\n",
    "    conf_mat = one_q_ro_conf_matxs[(qubit,)]\n",
    "    ro_fidelity = np.trace(conf_mat)/2 # average P(0 | 0) and P(1 | 1)\n",
    "    print(f'q{qubit:<3d}{ro_fidelity:10f}')"
   ]
  },
  {
   "cell_type": "markdown",
   "metadata": {},
   "source": [
    "## Pick a 2q joint confusion matrix and compare marginal to 1q"
   ]
  },
  {
   "cell_type": "markdown",
   "metadata": {},
   "source": [
    "Comparing a joint n-qubit matrix to the estimated <n-qubit matrices can help reveal correlated errors"
   ]
  },
  {
   "cell_type": "code",
   "execution_count": null,
   "metadata": {},
   "outputs": [],
   "source": [
    "two_q_conf_mat = two_q_ro_conf_matxs[(subset[0],subset[-1])]\n",
    "print(two_q_conf_mat)\n",
    "print()\n",
    "marginal = marginalize_confusion_matrix(two_q_conf_mat, [subset[0], subset[-1]], [subset[0]])\n",
    "print(marginal)\n",
    "print(one_q_ro_conf_matxs[(subset[0],)])"
   ]
  },
  {
   "cell_type": "markdown",
   "metadata": {},
   "source": [
    "## Estimate confusion matrix for active reset error"
   ]
  },
  {
   "cell_type": "code",
   "execution_count": null,
   "metadata": {},
   "outputs": [],
   "source": [
    "subset = tuple(qubits[:4])\n",
    "subset_reset_conf_matx = estimate_joint_reset_confusion(qc, subset, \n",
    "                                                        joint_group_size=len(subset), \n",
    "                                                        show_progress_bar=True)"
   ]
  },
  {
   "cell_type": "code",
   "execution_count": null,
   "metadata": {},
   "outputs": [],
   "source": [
    "for row in subset_reset_conf_matx[subset]:\n",
    "    pr_sucess = row[0]\n",
    "    print(pr_sucess)"
   ]
  },
  {
   "cell_type": "code",
   "execution_count": null,
   "metadata": {},
   "outputs": [],
   "source": []
  }
 ],
 "metadata": {
  "kernelspec": {
   "display_name": "",
   "name": ""
  },
  "language_info": {
   "name": "python",
   "pygments_lexer": "ipython3"
  }
 },
 "nbformat": 4,
 "nbformat_minor": 2
}
