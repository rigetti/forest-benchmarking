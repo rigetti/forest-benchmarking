{
 "cells": [
  {
   "cell_type": "markdown",
   "metadata": {},
   "source": [
    "# Random Operators: examples of random states and channels"
   ]
  },
  {
   "cell_type": "code",
   "execution_count": null,
   "metadata": {},
   "outputs": [],
   "source": [
    "import numpy as np\n",
    "from sympy.combinatorics import Permutation\n",
    "import forest.benchmarking.random_operators as rand_ops\n",
    "import numpy.linalg"
   ]
  },
  {
   "cell_type": "markdown",
   "metadata": {},
   "source": [
    "## Complex Ginibre ensemble"
   ]
  },
  {
   "cell_type": "code",
   "execution_count": null,
   "metadata": {},
   "outputs": [],
   "source": [
    "rand_ops.ginibre_matrix_complex(2,2)"
   ]
  },
  {
   "cell_type": "markdown",
   "metadata": {},
   "source": [
    "## Haar random unitary"
   ]
  },
  {
   "cell_type": "code",
   "execution_count": null,
   "metadata": {},
   "outputs": [],
   "source": [
    "U = rand_ops.haar_rand_unitary(2)\n",
    "print(np.around(U.dot(np.transpose(np.conj(U))),decimals=15))\n",
    "print(np.around(U.dot(np.transpose(np.conj(U))),decimals=16))\n",
    "# only good to 16 decimal places..."
   ]
  },
  {
   "cell_type": "markdown",
   "metadata": {},
   "source": [
    "## Haar random pure state "
   ]
  },
  {
   "cell_type": "code",
   "execution_count": null,
   "metadata": {},
   "outputs": [],
   "source": [
    "psi = rand_ops.haar_rand_state(2)\n",
    "print(psi)"
   ]
  },
  {
   "cell_type": "markdown",
   "metadata": {},
   "source": [
    "## Ginibre State (mixed state with rank K)"
   ]
  },
  {
   "cell_type": "code",
   "execution_count": null,
   "metadata": {},
   "outputs": [],
   "source": [
    "# mixed single qubit state\n",
    "print(np.around(rand_ops.ginibre_state_matrix(2,2),4))\n",
    "print(\"----------------------\")\n",
    "# mixed two qubit state\n",
    "print(np.around(rand_ops.ginibre_state_matrix(4,2),4))"
   ]
  },
  {
   "cell_type": "code",
   "execution_count": null,
   "metadata": {},
   "outputs": [],
   "source": [
    "# you cant have Rank > Hilbert space Dim\n",
    "rand_ops.ginibre_state_matrix(2,3)"
   ]
  },
  {
   "cell_type": "markdown",
   "metadata": {},
   "source": [
    "## State from Bures measure"
   ]
  },
  {
   "cell_type": "code",
   "execution_count": null,
   "metadata": {},
   "outputs": [],
   "source": [
    "rand_ops.bures_measure_state_matrix(2)"
   ]
  },
  {
   "cell_type": "markdown",
   "metadata": {},
   "source": [
    "## Uniform ensemble of CPTP maps"
   ]
  },
  {
   "cell_type": "code",
   "execution_count": null,
   "metadata": {},
   "outputs": [],
   "source": [
    "# random quantum channel on one qubit in Choi form\n",
    "choi = rand_ops.rand_map_with_BCSZ_dist(2,2)\n",
    "choi"
   ]
  },
  {
   "cell_type": "code",
   "execution_count": null,
   "metadata": {},
   "outputs": [],
   "source": [
    "choi.shape"
   ]
  },
  {
   "cell_type": "markdown",
   "metadata": {},
   "source": [
    "## Permutations of operators on tensor product Hilbert spaces"
   ]
  },
  {
   "cell_type": "code",
   "execution_count": null,
   "metadata": {},
   "outputs": [],
   "source": [
    "# pick a hilbert space dimension\n",
    "D = 2\n",
    "# pick a way you want to permute the operators\n",
    "perm =[1,2,0]\n",
    "# Note: the number of elements in the permutation determines\n",
    "# the number of Hilbert spaces you are considering."
   ]
  },
  {
   "cell_type": "markdown",
   "metadata": {},
   "source": [
    "^^ here the Identity permutation is P = [0,1,2] which maps (a,b,c) to (a,b,c).\n",
    "The permutation P = [1,2,0] maps (a,b,c) to (b,c,a)."
   ]
  },
  {
   "cell_type": "markdown",
   "metadata": {},
   "source": [
    "### Create the basis states in the Hilbert space"
   ]
  },
  {
   "cell_type": "code",
   "execution_count": null,
   "metadata": {},
   "outputs": [],
   "source": [
    "basis = list(range(0,D))\n",
    "states = []\n",
    "for jdx in basis:\n",
    "    emptyvec = np.zeros((D,1))\n",
    "    emptyvec[jdx] =1\n",
    "    states.append(emptyvec)"
   ]
  },
  {
   "cell_type": "markdown",
   "metadata": {},
   "source": [
    "### Create inital state and answer after applying the permutation [1,2,0]"
   ]
  },
  {
   "cell_type": "code",
   "execution_count": null,
   "metadata": {},
   "outputs": [],
   "source": [
    "inital_vector = np.kron(np.kron(states[0],states[0]),states[1]) # before permuting anything\n",
    "perm_vector = np.kron(np.kron(states[0],states[1]),states[0]) # apply the permutation by hand"
   ]
  },
  {
   "cell_type": "markdown",
   "metadata": {},
   "source": [
    "### create permutation operator"
   ]
  },
  {
   "cell_type": "code",
   "execution_count": null,
   "metadata": {},
   "outputs": [],
   "source": [
    "P_120 = rand_ops.permute_tensor_factors(D, perm)"
   ]
  },
  {
   "cell_type": "markdown",
   "metadata": {},
   "source": [
    "### check the permutation operator applied to the intial vector gives the correct answer"
   ]
  },
  {
   "cell_type": "code",
   "execution_count": null,
   "metadata": {},
   "outputs": [],
   "source": [
    "answer = np.matmul(P_120,inital_vector)"
   ]
  },
  {
   "cell_type": "code",
   "execution_count": null,
   "metadata": {},
   "outputs": [],
   "source": [
    "np.matmul(perm_vector.T,answer)"
   ]
  },
  {
   "cell_type": "code",
   "execution_count": null,
   "metadata": {},
   "outputs": [],
   "source": []
  }
 ],
 "metadata": {
  "kernelspec": {
   "display_name": "",
   "name": ""
  },
  "language_info": {
   "name": "python",
   "pygments_lexer": "ipython3"
  }
 },
 "nbformat": 4,
 "nbformat_minor": 2
}
