{
 "cells": [
  {
   "cell_type": "markdown",
   "metadata": {},
   "source": [
    "# Robust Phase Estimation: one and two qubit examples"
   ]
  },
  {
   "cell_type": "code",
   "execution_count": null,
   "metadata": {},
   "outputs": [],
   "source": [
    "import numpy as np\n",
    "from numpy import pi\n",
    "from forest.benchmarking import robust_phase_estimation as rpe\n",
    "from pyquil import get_qc\n",
    "from pyquil.gates import RZ, RX, RY\n",
    "\n",
    "# get a qauntum computer object. Here we use a noisy qvm. \n",
    "qc = get_qc(\"9q-square\", as_qvm=True, noisy=True)\n",
    "\n",
    "# Below we provide alternative helper functions for more control over noise\n",
    "# If you want to use this approach to adding noise, start with a noiseless qvm:\n",
    "# qc = get_qc(\"9q-generic\", as_qvm=True, noisy=False)"
   ]
  },
  {
   "cell_type": "markdown",
   "metadata": {},
   "source": [
    "# (Helper Functions for Adding Custom Noise to Programs on Noisless QVM)"
   ]
  },
  {
   "cell_type": "code",
   "execution_count": null,
   "metadata": {},
   "outputs": [],
   "source": [
    "# from pyquil.noise import damping_after_dephasing\n",
    "# from pandas import Series\n",
    "# from pyquil import Program\n",
    "# from pyquil.quilbase import Measurement\n",
    "\n",
    "# def add_damping_dephasing_noise(prog, T1, T2, gate_time):        \n",
    "#     p = Program()\n",
    "#     p.defgate(\"noise\", np.eye(2))\n",
    "#     p.define_noisy_gate(\"noise\", [0] , damping_after_dephasing(T1, T2, gate_time))\n",
    "#     for elem in prog:\n",
    "#         p.inst(elem)\n",
    "#         if isinstance(elem, Measurement):\n",
    "#             continue # skip measurement\n",
    "#         p.inst((\"noise\", 0))\n",
    "#     return p\n",
    "\n",
    "# def add_noise_to_experiments(experiments, t1, t2, p00, p11):  \n",
    "#     gate_time = 200*10**(-9)\n",
    "#     experiments[\"Experiment\"] = Series([ \\\n",
    "#         add_damping_dephasing_noise(prog, t1, t2, gate_time).define_noisy_readout(0, p00, p11) \\\n",
    "#         for prog in experiments[\"Experiment\"].values])\n",
    "        \n",
    "    \n",
    "# # when running the rpe experiments\n",
    "# experiments=rpe.generate_rpe_experiments(RZ(angle, 0), num_depths)\n",
    "# T1 = 20*10**(-6.)\n",
    "# T2 = 10*10**(-6.)\n",
    "# add_noise_to_experiments(experiments, T1, T2, .90, .85)\n",
    "# experiments = rpe.acquire_rpe_data(experiments, qc, multiplicative_factor = factor, additive_error = add_error)\n"
   ]
  },
  {
   "cell_type": "markdown",
   "metadata": {},
   "source": [
    "# Generate a Dataframe with Experiments"
   ]
  },
  {
   "cell_type": "code",
   "execution_count": null,
   "metadata": {},
   "outputs": [],
   "source": [
    "# we start with determination of an angle of rotation about the Z axis\n",
    "num_depths = 6 # max depth of 2^(num_depths - 1)\n",
    "angle = 2 # radians\n",
    "rotation = RZ(angle, 0)\n",
    "experiments=rpe.generate_rpe_experiments(rotation, num_depths)"
   ]
  },
  {
   "cell_type": "markdown",
   "metadata": {},
   "source": [
    "# Acquire the Data"
   ]
  },
  {
   "cell_type": "code",
   "execution_count": null,
   "metadata": {},
   "outputs": [],
   "source": [
    "experiments = rpe.acquire_rpe_data(experiments, qc)"
   ]
  },
  {
   "cell_type": "markdown",
   "metadata": {},
   "source": [
    "# Compute the Estimate"
   ]
  },
  {
   "cell_type": "code",
   "execution_count": null,
   "metadata": {},
   "outputs": [],
   "source": [
    "xs, ys, x_stds, y_stds = rpe.find_expectation_values(experiments)\n",
    "observed = rpe.robust_phase_estimate(xs, ys, x_stds, y_stds)\n",
    "print(\"Expected: \", angle)\n",
    "print(\"Observed: \", observed)"
   ]
  },
  {
   "cell_type": "markdown",
   "metadata": {},
   "source": [
    "# Compute a Predicted Upper Bound on the Point Estimate Variance"
   ]
  },
  {
   "cell_type": "code",
   "execution_count": null,
   "metadata": {},
   "outputs": [],
   "source": [
    "var = rpe.get_variance_upper_bound(experiments)\n",
    "# difference between obs and actual should be less than predicted error \n",
    "print(np.abs(observed - angle), ' < ', np.sqrt(var))"
   ]
  },
  {
   "cell_type": "markdown",
   "metadata": {},
   "source": [
    "# 1q plot of RPE after each iteration"
   ]
  },
  {
   "cell_type": "code",
   "execution_count": null,
   "metadata": {},
   "outputs": [],
   "source": [
    "import matplotlib.pyplot as plt\n",
    "%matplotlib inline\n",
    "\n",
    "angle = pi/16\n",
    "num_depths = 6 # max depth of 2^(num_depths - 1)\n",
    "additive_error = .15 # assume noise model with some additive error\n",
    "\n",
    "experiments = rpe.generate_rpe_experiments(RZ(angle,0), num_depths)\n",
    "experiments = rpe.acquire_rpe_data(experiments, qc, multiplicative_factor = 100.0, additive_error = additive_error)\n",
    "xs, ys, x_stds, y_stds = rpe.find_expectation_values(experiments)\n",
    "observed = rpe.robust_phase_estimate(xs, ys, x_stds, y_stds)\n",
    "print(\"Expected: \", angle)\n",
    "print(\"Observed: \", observed)\n",
    "\n",
    "expected = [(1.0, angle*2**j) for j in range(num_depths)]\n",
    "ax = rpe.plot_RPE_iterations(experiments, expected)\n",
    "plt.show()"
   ]
  },
  {
   "cell_type": "markdown",
   "metadata": {},
   "source": [
    "# 1q phase estimation of RZ for various angles and hyperparameters (SLOW)"
   ]
  },
  {
   "cell_type": "code",
   "execution_count": null,
   "metadata": {},
   "outputs": [],
   "source": [
    "angles = pi*np.linspace(0,2.0,3)\n",
    "num_depths = 5 # max depth of 2^(num_depths - 1)\n",
    "multiplicative_factors = [1.0, 1000.] # Multiply the optimal number of shots by this factor for each experiment\n",
    "additive_errors = [None, .15] # Try to correct for this additivie error by increasing the number of shots in an optimal way\n",
    "\n",
    "#scan over angles and do RPE twice on each angle. The second result should agree more because there are more shots\n",
    "for angle in angles:\n",
    "    for add_error in additive_errors:\n",
    "        print(\"Assuming additive error of \" + str(add_error))\n",
    "        for factor in multiplicative_factors:\n",
    "            print(\"With multiplicative factor x\" + str(factor))\n",
    "            experiments=rpe.generate_rpe_experiments(RZ(angle, 0), num_depths)\n",
    "            experiments = rpe.acquire_rpe_data(experiments, qc, multiplicative_factor = factor, additive_error = add_error)\n",
    "            xs, ys, x_stds, y_stds = rpe.find_expectation_values(experiments)\n",
    "            observed = rpe.robust_phase_estimate(xs, ys, x_stds, y_stds)\n",
    "            print(\"Expected: \", angle)\n",
    "            print(\"Observed: \", observed)\n",
    "            print()\n",
    "    print()"
   ]
  },
  {
   "cell_type": "markdown",
   "metadata": {},
   "source": [
    "# 1q phase estimation of rotation around 'Hadamard Axis' for various angles (SLOW)"
   ]
  },
  {
   "cell_type": "code",
   "execution_count": null,
   "metadata": {},
   "outputs": [],
   "source": [
    "from pyquil import Program\n",
    "\n",
    "angles = pi*np.linspace(0,2.0,3)\n",
    "num_depths = 5 # max depth of 2^(num_depths - 1)\n",
    "mult_factor = 1.0 # Multiply the optimal number of shots by this factor for each experiment\n",
    "add_error = None # Try to correct for this additivie error by increasing the number of shots in an optimal way\n",
    " \n",
    "#scan over angles and do RPE twice on each angle. The second result should agree more because there are more shots\n",
    "for angle in angles:\n",
    "    RH = Program(RY(-pi/4,0)).inst(RZ(angle,0)).inst(RY(pi/4,0))\n",
    "    #specify axis by a tuple of (theta, phi) with the usual spherical coordinates\n",
    "    experiments=rpe.generate_rpe_experiments(RH, num_depths, axis = (pi/4,0))\n",
    "    experiments = rpe.acquire_rpe_data(experiments, qc, multiplicative_factor = mult_factor, additive_error = add_error)\n",
    "    xs, ys, x_stds, y_stds = rpe.find_expectation_values(experiments)\n",
    "    observed = rpe.robust_phase_estimate(xs, ys, x_stds, y_stds)\n",
    "    print(\"Expected: \", angle)\n",
    "    print(\"Observed: \", observed)\n",
    "    print()"
   ]
  },
  {
   "cell_type": "markdown",
   "metadata": {},
   "source": [
    "# Characterizing a universal 1q gateset with approximately orthogonal rotation axes (using simulated artificially imperfect gates)"
   ]
  },
  {
   "cell_type": "code",
   "execution_count": null,
   "metadata": {},
   "outputs": [],
   "source": [
    "from pyquil import Program\n",
    "from pyquil.quil import DefGate\n",
    "qc = get_qc(\"9q-square\", as_qvm=True, noisy=True)\n",
    "\n",
    "\n",
    "\"\"\"\n",
    "Procedure and notation follows Sections III A, B, and C in \n",
    "[RPE]  Robust Calibration of a Universal Single-Qubit Gate-Set via Robust Phase Estimation\n",
    "            Kimmel et al., Phys. Rev. A 92, 062315 (2015)\n",
    "            https://journals.aps.org/pra/abstract/10.1103/PhysRevA.92.062315\n",
    "\n",
    "\"\"\"    \n",
    "pauli_x = np.array([[0,1],[1,0]])\n",
    "pauli_z = np.array([[1,0],[0,-1]])\n",
    "\n",
    "alpha = .01\n",
    "epsilon = .02\n",
    "theta = .5\n",
    "\n",
    "# Section III A of [RPE]\n",
    "gate1 = RZ(pi/2 * (1 + alpha), 0) # assume some small over rotation alpha\n",
    "\n",
    "# let gate 2 be RX(pi/4) with over rotation epsilon,\n",
    "# and with a slight over-tilt of rotation axis by theta in X-Z plane\n",
    "mtrx = np.add(np.cos(pi/8 * (1 + epsilon)) * np.eye(2),\n",
    "                - 1j * np.sin(pi/8 * (1 + epsilon)) \\\n",
    "                * (np.add(np.cos(theta) * pauli_x, np.sin(theta) * pauli_z)))\n",
    "# Section III B of [RPE]\n",
    "\n",
    "# get Quil definition for simulated imperfect gate\n",
    "definition = DefGate('ImperfectRX', mtrx)\n",
    "# get gate constructor\n",
    "IRX = definition.get_constructor()\n",
    "# set gate as program with definition and instruction, compiled into native gateset\n",
    "gate2 = qc.compiler.quil_to_native_quil(Program([definition, IRX(0)]))\n",
    "\n",
    "# Section III B of [RPE], eq. III.3\n",
    "# construct the program used to estimate theta\n",
    "half = Program(gate1)\n",
    "for _ in range(4):\n",
    "    half.inst(IRX(0))\n",
    "half.inst(gate1)\n",
    "# compile into native gateset \n",
    "U_theta =  qc.compiler.quil_to_native_quil(Program([definition, half, half]))\n",
    "\n",
    "num_depths = 6 # max depth of 2^(num_depths - 1)\n",
    "\n",
    "results = []\n",
    "for idx, gate in enumerate([gate1, gate2, U_theta]):\n",
    "    axis = (pi/2,0) #gate2 and U_theta assumed to be rotations about X axis\n",
    "    if idx == 0:\n",
    "        axis = None\n",
    "    experiments = rpe.generate_rpe_experiments(gate, num_depths, axis=axis)\n",
    "    experiments = rpe.acquire_rpe_data(experiments, qc, multiplicative_factor = 10.0)\n",
    "    xs, ys, x_stds, y_stds = rpe.find_expectation_values(experiments)\n",
    "    result = rpe.robust_phase_estimate(xs, ys, x_stds, y_stds)\n",
    "    results += [result]\n",
    "    \n",
    "print(\"Expected Alpha: \" + str(alpha))\n",
    "print(\"Estimated Alpha: \" + str(results[0]/(pi/2) - 1))\n",
    "print()\n",
    "print(\"Expected Epsilon: \" + str(epsilon))\n",
    "epsilon_est = results[1]/(pi/4) - 1\n",
    "print(\"Estimated Epsilon: \" + str(epsilon_est))\n",
    "print()\n",
    "print(\"Expected Theta: \" + str(theta))\n",
    "print(\"Estimated Theta: \" + str(np.sin(results[2]/2)/(2*np.cos(epsilon_est * pi/2))))"
   ]
  },
  {
   "cell_type": "markdown",
   "metadata": {},
   "source": [
    "# 2q CZ calibration"
   ]
  },
  {
   "cell_type": "code",
   "execution_count": null,
   "metadata": {},
   "outputs": [],
   "source": [
    "from pyquil.gates import CZ\n",
    "num_depths = 5 # max depth of 2^(num_depths - 1)\n",
    "additive_error = .15\n",
    "\n",
    "EXP_TYPES = zip( ['+/0', '0/+', '+/1', '1/+'] , zip([0, 1, 0, 1], [False, False, True, True]))\n",
    "for label, exp_type in EXP_TYPES: \n",
    "    print(\"Experiment \" + label)\n",
    "    experiments = rpe.generate_rpe_experiments(Program(CZ(0, 1)), num_depths,measurement_qubit = exp_type[0],init_one = exp_type[1])\n",
    "    \n",
    "    if (label[0] == '1' or label[2] == '1'):\n",
    "        print(\"Expected Angle: \" + str(pi))\n",
    "              \n",
    "    if (label[0] == '0' or label[2] == '0'):\n",
    "            print(\"Expected Angle: \" + str(0))\n",
    "\n",
    "    experiments = rpe.acquire_rpe_data(experiments, qc, multiplicative_factor = 10.0, additive_error = additive_error)\n",
    "    xs, ys, x_stds, y_stds = rpe.find_expectation_values(experiments)\n",
    "    result = rpe.robust_phase_estimate(xs, ys, x_stds, y_stds)\n",
    "    print(\"Observerd: \" + str(result))\n",
    "    print()\n"
   ]
  },
  {
   "cell_type": "code",
   "execution_count": null,
   "metadata": {},
   "outputs": [],
   "source": []
  }
 ],
 "metadata": {
  "kernelspec": {
   "display_name": "Python 3",
   "language": "python",
   "name": "python3"
  },
  "language_info": {
   "codemirror_mode": {
    "name": "ipython",
    "version": 3
   },
   "file_extension": ".py",
   "mimetype": "text/x-python",
   "name": "python",
   "nbconvert_exporter": "python",
   "pygments_lexer": "ipython3",
   "version": "3.6.3"
  }
 },
 "nbformat": 4,
 "nbformat_minor": 2
}
