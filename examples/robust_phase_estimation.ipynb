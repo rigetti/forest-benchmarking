{
 "cells": [
  {
   "cell_type": "markdown",
   "metadata": {},
   "source": [
    "# Robust Phase Estimation: one and two qubit examples"
   ]
  },
  {
   "cell_type": "code",
   "execution_count": null,
   "metadata": {},
   "outputs": [],
   "source": [
    "import numpy as np\n",
    "from numpy import pi\n",
    "from forest.benchmarking import robust_phase_estimation as rpe\n",
    "from pyquil import get_qc, Program\n",
    "from pyquil.gates import *\n",
    "\n",
    "import matplotlib.pyplot as plt\n",
    "%matplotlib inline\n",
    "\n",
    "# get a qauntum computer object. Here we use a noisy qvm. \n",
    "qc = get_qc(\"9q-square\", as_qvm=True, noisy=True)"
   ]
  },
  {
   "cell_type": "markdown",
   "metadata": {},
   "source": [
    "## Generate a StratifiedExperiment to Estimate the Phase of RZ(angle, qubit)"
   ]
  },
  {
   "cell_type": "code",
   "execution_count": null,
   "metadata": {},
   "outputs": [],
   "source": [
    "# we start with determination of an angle of rotation about the Z axis\n",
    "rz_angle = 2 # we will use an ideal gate with phase of 2 radians\n",
    "qubit = 0\n",
    "rotation = RZ(rz_angle, qubit) \n",
    "# the rotation is about the Z axis; the eigenvectors are the computational basis states\n",
    "# therefore the change of basis is trivially the identity. \n",
    "cob = Program()\n",
    "rz_experiments = rpe.generate_rpe_experiments(rotation, *rpe.all_eigenvector_prep_meas_settings([qubit], cob))"
   ]
  },
  {
   "cell_type": "code",
   "execution_count": null,
   "metadata": {},
   "outputs": [],
   "source": [
    "print(rz_experiments)"
   ]
  },
  {
   "cell_type": "markdown",
   "metadata": {},
   "source": [
    "## Acquire the Data"
   ]
  },
  {
   "cell_type": "code",
   "execution_count": null,
   "metadata": {},
   "outputs": [],
   "source": [
    "rz_results = rpe.acquire_rpe_data(qc, rz_experiments)"
   ]
  },
  {
   "cell_type": "markdown",
   "metadata": {},
   "source": [
    "## Get the estimate of the phase"
   ]
  },
  {
   "cell_type": "markdown",
   "metadata": {},
   "source": [
    "We hope that the estimated phase is close to our choice for rz_angle=2"
   ]
  },
  {
   "cell_type": "code",
   "execution_count": null,
   "metadata": {},
   "outputs": [],
   "source": [
    "rpe.robust_phase_estimate([qubit], rz_results)"
   ]
  },
  {
   "cell_type": "markdown",
   "metadata": {},
   "source": [
    "## Now let's try a rotation around the +X axis"
   ]
  },
  {
   "cell_type": "code",
   "execution_count": null,
   "metadata": {},
   "outputs": [],
   "source": [
    "rx_angle = pi # radians; only x gates with phases in {-pi, -pi/2, pi/2, pi} are allowed\n",
    "qubit = 1 # let's use a different qubit\n",
    "rotation = RX(rx_angle, qubit)\n",
    "# the rotation has eigenvectors |+> and |->; \n",
    "# change of basis needs to rotate |0> to the plus state and |1> to the minus state\n",
    "cob = RY(pi/2, qubit)\n",
    "rx_experiments = rpe.generate_rpe_experiments(rotation, *rpe.all_eigenvector_prep_meas_settings([qubit], cob))"
   ]
  },
  {
   "cell_type": "code",
   "execution_count": null,
   "metadata": {},
   "outputs": [],
   "source": [
    "rx_results = rpe.acquire_rpe_data(qc, rx_experiments)\n",
    "# we hope this is close to rx_angle = pi\n",
    "rpe.robust_phase_estimate([qubit], rx_results)"
   ]
  },
  {
   "cell_type": "markdown",
   "metadata": {},
   "source": [
    "## Hadamard-like rotation"
   ]
  },
  {
   "cell_type": "markdown",
   "metadata": {},
   "source": [
    "We can do any rotation which is expressed in native gates (or, more generally, using gates included in basic_compile() in forest_benchmarking.compilation). There are helper functions to help determine the proper change of basis required to do such an experiment. Here, we use the fact that a Hadamard interchanges X and Z, and so must constitute a rotation about the axis (pi/4, 0) on the Bloch sphere. From this, we find the eigenvectors of an arbitrary rotation about this axis, and use those to find the change of basis matrix. Note that the change of basis need not be a program or gate; if a matrix is supplied then it will be translated to a program using a qc object's compiler. This can be done manually with a call to add_programs_to_rpe_dataframe(qc, expt) or automatically when acquire_rpe_data is called."
   ]
  },
  {
   "cell_type": "code",
   "execution_count": null,
   "metadata": {},
   "outputs": [],
   "source": [
    "# create a program implementing the rotation of a given angle about the \"Hadamard axis\" \n",
    "rh_angle = 1.5  # radians\n",
    "qubit = 0\n",
    "RH = Program(RY(-pi / 4, qubit)).inst(RZ(rh_angle, qubit)).inst(RY(pi / 4, qubit))\n",
    "\n",
    "# get the eigenvectors knowing the axis of rotation is pi/4, 0\n",
    "evecs = rpe.bloch_rotation_to_eigenvectors(pi / 4, 0)\n",
    "\n",
    "# get a ndarray representing the change of basis transformation\n",
    "cob_matrix = rpe.get_change_of_basis_from_eigvecs(evecs)\n",
    "# conver to quil using a qc object's compiler\n",
    "cob = rpe.change_of_basis_matrix_to_quil(qc, [qubit], cob_matrix)\n",
    "\n",
    "# create an experiment as usual\n",
    "rh_experiments = rpe.generate_rpe_experiments(RH, *rpe.all_eigenvector_prep_meas_settings([qubit], cob))\n",
    "\n",
    "# get the results per usual\n",
    "rh_results = rpe.acquire_rpe_data(qc, rh_experiments, multiplicative_factor=2)\n",
    "\n",
    "# the result should be close to our input rh_angle=1.5\n",
    "rpe.robust_phase_estimate([qubit], rh_results)"
   ]
  },
  {
   "cell_type": "markdown",
   "metadata": {},
   "source": [
    "## We can also group multiple experiments to run simultaneously"
   ]
  },
  {
   "cell_type": "markdown",
   "metadata": {},
   "source": [
    "This will lead to shorter data acquisition times on a QPU."
   ]
  },
  {
   "cell_type": "code",
   "execution_count": null,
   "metadata": {},
   "outputs": [],
   "source": [
    "from forest.benchmarking.observable_estimation import ObservablesExperiment\n",
    "def combine_experiments(expt1, expt2):\n",
    "    program = expt1.program + expt2.program\n",
    "    settings = [s1 + s2 for s1, s2 in zip(expt1, expt2)]\n",
    "    return ObservablesExperiment(settings, program)\n",
    "\n",
    "experiments = [combine_experiments(rz_expts, rx_expts) for rz_expts, rx_expts in zip(rz_experiments, rx_experiments)]"
   ]
  },
  {
   "cell_type": "code",
   "execution_count": null,
   "metadata": {},
   "outputs": [],
   "source": [
    "results = rpe.acquire_rpe_data(qc, experiments)"
   ]
  },
  {
   "cell_type": "markdown",
   "metadata": {},
   "source": [
    "Iterate through the group and check that the estimates agree with previous results"
   ]
  },
  {
   "cell_type": "code",
   "execution_count": null,
   "metadata": {},
   "outputs": [],
   "source": [
    "# we expect 2 for qubit 0 and pi for qubit 1\n",
    "print(rpe.robust_phase_estimate([0], results))\n",
    "print(rpe.robust_phase_estimate([1], results))"
   ]
  },
  {
   "cell_type": "markdown",
   "metadata": {},
   "source": [
    "## For a particular number of depths we can compute a predicted upper bound on the point estimate variance assuming standard parameters are used. "
   ]
  },
  {
   "cell_type": "code",
   "execution_count": null,
   "metadata": {},
   "outputs": [],
   "source": [
    "var = rpe.get_variance_upper_bound(num_depths=6)\n",
    "rx_estimate = rpe.robust_phase_estimate([1], results)\n",
    "\n",
    "# difference between obs and actual should be less than predicted error \n",
    "print(np.abs(rx_estimate - rx_angle), ' <? ', np.sqrt(var))"
   ]
  },
  {
   "cell_type": "markdown",
   "metadata": {},
   "source": [
    "## We can visualize the rotation at each depth by plotting x and y expectations"
   ]
  },
  {
   "cell_type": "markdown",
   "metadata": {},
   "source": [
    "This works best for small angles where there is less overlap at large depths"
   ]
  },
  {
   "cell_type": "code",
   "execution_count": null,
   "metadata": {},
   "outputs": [],
   "source": [
    "angle = pi/16\n",
    "num_depths = 6\n",
    "q = 0\n",
    "cob = Program()\n",
    "args = rpe.all_eigenvector_prep_meas_settings([q], cob)\n",
    "\n",
    "expts = rpe.generate_rpe_experiments(RZ(angle,q), *args, num_depths=num_depths)\n",
    "expt_res = rpe.acquire_rpe_data(qc, expts, multiplicative_factor = 100, additive_error = .1)\n",
    "observed = rpe.robust_phase_estimate([q], expt_res)\n",
    "print(\"Expected: \", angle)\n",
    "print(\"Observed: \", observed)\n",
    "\n",
    "expected = [(1.0, angle*2**j) for j in range(num_depths)]\n",
    "\n",
    "x_results = [res for depth in expt_res for res in depth if res.setting.observable[q] == 'X']\n",
    "y_results = [res for depth in expt_res for res in depth if res.setting.observable[q] == 'Y']\n",
    "x_exps = [res.expectation for res in x_results]\n",
    "y_exps = [res.expectation for res in y_results]\n",
    "x_errs = [res.std_err for res in x_results]\n",
    "y_errs = [res.std_err for res in y_results]\n",
    "        \n",
    "ax = rpe.plot_rpe_iterations(x_exps, y_exps, x_errs, y_errs, expected)\n",
    "plt.show()"
   ]
  },
  {
   "cell_type": "markdown",
   "metadata": {},
   "source": [
    "## We can also estimate the relative phases between eigenvectors of multi-qubit rotations"
   ]
  },
  {
   "cell_type": "markdown",
   "metadata": {},
   "source": [
    "Note that for a particular 2q gate there are only three free eigenvalues; the fourth is determined by the special unitary condition. If we let  \n",
    "$$\\text{rotation } = \\exp{(\\pi i \\text{ diag}(\\phi_0, \\phi_1, \\phi_2, \\phi_3))}$$ \n",
    "then the special unitary condition is $$\\sum_j\\phi_j = 0$$ \n",
    "Our experiment will return estimates\n",
    "$$ [(\\phi_2-\\phi_0), (\\phi_3-\\phi_1), (\\phi_1-\\phi_0), (\\phi_3-\\phi_2) ]$$\n",
    "from which each individual phases can be determined (indeed the system is over-determined).  \n",
    "\n",
    "In the example below we demonstrate this procedure for our native CZ gate. The ideal gate has phases\n",
    "$$(\\phi_0=0, \\phi_1=0, \\phi_2=0, \\phi_3=\\pi)$$ \n",
    "To enforce special unitarity we ought to factor out an overall phase; let us rather note that the ideal relative phases in the order listed about are given by \n",
    "$$ [0, \\pi, 0, \\pi]$$"
   ]
  },
  {
   "cell_type": "code",
   "execution_count": null,
   "metadata": {},
   "outputs": [],
   "source": [
    "from pyquil.gates import CZ\n",
    "\n",
    "qubits = [0, 1]\n",
    "rotation = CZ(*qubits)\n",
    "cob = Program()  # CZ is diagonal in computational basis, i.e. no need to change basis\n",
    "cz_expts = rpe.generate_rpe_experiments(rotation, *rpe.all_eigenvector_prep_meas_settings(qubits, cob), num_depths=7)\n",
    "cz_res = rpe.acquire_rpe_data(qc, cz_expts, multiplicative_factor = 50.0, additive_error=.1)\n",
    "results = rpe.robust_phase_estimate(qubits, cz_res)\n",
    "# we hope to match the ideal results (0, pi, 0, pi)\n",
    "print(results)"
   ]
  },
  {
   "cell_type": "markdown",
   "metadata": {},
   "source": [
    "We can also alter the experiment by indicating a preparation-and-post-selection state for some of our qubits. In this type of experiment we prepare the superposition between only a subset of the eigenvectors and so estimate only a subset of the possible relative phases. In the two qubit case below we specify that qubit 0 be prepared in the one state and that we throw out any results where qubit 0 is not measured in this state. Meanwhile, qubit 1 is still prepared in the |+> state. The preparation state is thus the superposition of eigenvectors indexed 2 and 3, and we correspondingly measure the relative phase $$\\phi_3 - \\phi_2  = \\pi$$ in the ideal case"
   ]
  },
  {
   "cell_type": "code",
   "execution_count": null,
   "metadata": {},
   "outputs": [],
   "source": [
    "fixed_qubit = 0\n",
    "fixed_qubit_state = 1\n",
    "free_rotation_qubit = 1\n",
    "post_select_args = rpe.pick_two_eigenvecs_prep_meas_settings((fixed_qubit, fixed_qubit_state), free_rotation_qubit)\n",
    "cz_single_phase = rpe.generate_rpe_experiments(rotation, *post_select_args, num_depths=7)\n",
    "cz_res = rpe.acquire_rpe_data(qc, cz_single_phase, multiplicative_factor = 50.0)\n",
    "single_result = rpe.robust_phase_estimate([0, 1], cz_res)\n",
    "# we hope the result is close to pi\n",
    "print(single_result)"
   ]
  },
  {
   "cell_type": "markdown",
   "metadata": {},
   "source": [
    "## Characterizing a universal 1q gateset with approximately orthogonal rotation axes (using simulated artificially imperfect gates)"
   ]
  },
  {
   "cell_type": "code",
   "execution_count": null,
   "metadata": {},
   "outputs": [],
   "source": [
    "from pyquil import Program\n",
    "from pyquil.quil import DefGate, Gate\n",
    "from pyquil.gate_matrices import X as x_mat, Y as y_mat, Z as z_mat\n",
    "\"\"\"\n",
    "Procedure and notation follows Sections III A, B, and C in \n",
    "[RPE]  Robust Calibration of a Universal Single-Qubit Gate-Set via Robust Phase Estimation\n",
    "            Kimmel et al., Phys. Rev. A 92, 062315 (2015)\n",
    "            https://journals.aps.org/pra/abstract/10.1103/PhysRevA.92.062315\n",
    "            arXiv:1502.02677\n",
    "\"\"\"    \n",
    "q = 0  # pick a qubit\n",
    "\n",
    "pauli_vector = np.array([x_mat, y_mat, z_mat])\n",
    "\n",
    "alpha = .01\n",
    "epsilon = .02\n",
    "theta = .5\n",
    "\n",
    "# Section III A of [RPE]\n",
    "gate1 = RZ(pi/2 * (1 + alpha), q) # assume some small over-rotation by fraction alpha\n",
    "\n",
    "# let gate 2 be RX(pi/4) with over-rotation by fraction epsilon,\n",
    "# and with a slight over-tilt of rotation axis by theta in X-Z plane\n",
    "rx_angle = pi/4 * (1 + epsilon)\n",
    "axis_unit_vector = np.array([np.cos(theta), 0, -np.sin(theta)])\n",
    "mtrx = np.add(np.cos(rx_angle / 2) * np.eye(2), \n",
    "              - 1j * np.sin(rx_angle / 2) * np.tensordot(axis_unit_vector, pauli_vector, axes=1))\n",
    "# Section III B of [RPE]\n",
    "\n",
    "# get Quil definition for simulated imperfect gate\n",
    "definition = DefGate('ImperfectRX', mtrx)\n",
    "# get gate constructor\n",
    "IRX = definition.get_constructor()\n",
    "# set gate as program with definition and instruction, compiled into native gateset\n",
    "gate2 = qc.compiler.quil_to_native_quil(Program([definition, IRX(q)]))\n",
    "gate2 = Program([inst for inst in gate2 if isinstance(inst, Gate)])\n",
    "\n",
    "# Section III B of [RPE], eq. III.3\n",
    "# construct the program used to estimate theta\n",
    "half = Program(gate1)\n",
    "for _ in range(4):\n",
    "    half.inst(IRX(q))\n",
    "half.inst(gate1)\n",
    "# compile into native gateset \n",
    "U_theta =  qc.compiler.quil_to_native_quil(Program([definition, half, half]))\n",
    "U_theta = Program([inst for inst in U_theta if isinstance(inst, Gate)])\n",
    "\n",
    "\n",
    "gates = [gate1, gate2, U_theta]\n",
    "cobs = [I(q), RY(pi/2, q), RY(pi/2, q)]\n",
    "expts = []\n",
    "for gate, cob in zip(gates, cobs):\n",
    "    args = rpe.all_eigenvector_prep_meas_settings([q], cob)\n",
    "    expts.append(rpe.generate_rpe_experiments(gate, *args))\n",
    "expts_results = [rpe.acquire_rpe_data(qc, expt, multiplicative_factor = 50.0, additive_error=.15) for expt in expts]\n",
    "\n",
    "results = []\n",
    "for ress in expts_results:\n",
    "    result = rpe.robust_phase_estimate([q], ress)\n",
    "    results += [result]\n",
    "    \n",
    "print(\"Expected Alpha: \" + str(alpha))\n",
    "print(\"Estimated Alpha: \" + str(results[0]/(pi/2) - 1))\n",
    "print()\n",
    "print(\"Expected Epsilon: \" + str(epsilon))\n",
    "epsilon_est = results[1]/(pi/4) - 1\n",
    "print(\"Estimated Epsilon: \" + str(epsilon_est))\n",
    "print()\n",
    "print(\"Expected Theta: \" + str(theta))\n",
    "print(\"Estimated Theta: \" + str(np.sin(results[2]/2)/(2*np.cos(epsilon_est * pi/2))))"
   ]
  },
  {
   "cell_type": "markdown",
   "metadata": {},
   "source": [
    "## Example with Different Noise Model"
   ]
  },
  {
   "cell_type": "code",
   "execution_count": null,
   "metadata": {},
   "outputs": [],
   "source": [
    "from pandas import Series\n",
    "from pyquil.noise import damping_after_dephasing\n",
    "from pyquil.quil import Measurement\n",
    "qc = get_qc(\"9q-square\", as_qvm=True, noisy=False)\n",
    "\n",
    "def add_damping_dephasing_noise(prog, T1, T2, gate_time):\n",
    "    p = Program()\n",
    "    p.defgate(\"noise\", np.eye(2))\n",
    "    p.define_noisy_gate(\"noise\", [0], damping_after_dephasing(T1, T2, gate_time))\n",
    "    for elem in prog:\n",
    "        p.inst(elem)\n",
    "        if isinstance(elem, Measurement):\n",
    "            continue  # skip measurement\n",
    "        p.inst((\"noise\", 0))\n",
    "    return p\n",
    "\n",
    "def add_noise_to_experiments(expt, t1, t2, p00, p11):\n",
    "    gate_time = 200 * 10 ** (-9)\n",
    "    for expt in expts:\n",
    "        expt.program = add_damping_dephasing_noise(expt.program, t1, t2, gate_time).define_noisy_readout(0, p00, p11)\n",
    "\n",
    "angle = 1\n",
    "q = 0\n",
    "RH = Program(RY(-pi / 4, q)).inst(RZ(angle, q)).inst(RY(pi / 4, q))\n",
    "evecs = rpe.bloch_rotation_to_eigenvectors(pi / 4, 0)\n",
    "# get a ndarray representing the change of basis transformation\n",
    "cob_matrix = rpe.get_change_of_basis_from_eigvecs(evecs)\n",
    "# convert to quil using a qc object's compiler\n",
    "cob = rpe.change_of_basis_matrix_to_quil(qc, [q], cob_matrix)\n",
    "# create an experiment as usual\n",
    "expts = rpe.generate_rpe_experiments(RH, *rpe.all_eigenvector_prep_meas_settings([q], cob), num_depths=7)\n",
    "# add noise to experiment with desired parameters\n",
    "add_noise_to_experiments(expts, 25 * 10 ** (-6.), 20 * 10 ** (-6.), .92, .87)\n",
    "res = rpe.acquire_rpe_data(qc, expts, multiplicative_factor=5., additive_error=.15)\n",
    "\n",
    "# we hope this is close to angle=1\n",
    "rpe.robust_phase_estimate([q], res)"
   ]
  },
  {
   "cell_type": "markdown",
   "metadata": {},
   "source": [
    "You can also change the noise model of the qvm directly"
   ]
  },
  {
   "cell_type": "code",
   "execution_count": null,
   "metadata": {},
   "outputs": [],
   "source": [
    "from pyquil.device import gates_in_isa\n",
    "from pyquil.noise import decoherence_noise_with_asymmetric_ro, _decoherence_noise_model\n",
    "# noise_model = decoherence_noise_with_asymmetric_ro(gates=gates_in_isa(qc.device.get_isa()), p00=0.92, p11=.87)\n",
    "T1=20e-6\n",
    "T2=10e-6\n",
    "noise_model = _decoherence_noise_model(gates=gates_in_isa(qc.device.get_isa()), T1=T1, T2=T2, ro_fidelity=1.)\n",
    "\n",
    "qc = get_qc(\"9q-square\", as_qvm=True, noisy=False)\n",
    "qc.qam.noise_model = noise_model\n",
    "\n",
    "decohere_expts = rpe.generate_rpe_experiments(RH, *rpe.all_eigenvector_prep_meas_settings([q], cob), num_depths=7)\n",
    "res = rpe.acquire_rpe_data(qc, decohere_expts, multiplicative_factor=5., additive_error=.15)\n",
    "rpe.robust_phase_estimate([q], res)"
   ]
  },
  {
   "cell_type": "code",
   "execution_count": null,
   "metadata": {},
   "outputs": [],
   "source": []
  }
 ],
 "metadata": {
  "language_info": {
   "name": "python",
   "pygments_lexer": "ipython3"
  }
 },
 "nbformat": 4,
 "nbformat_minor": 2
}
