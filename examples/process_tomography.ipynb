{
 "cells": [
  {
   "cell_type": "markdown",
   "metadata": {},
   "source": [
    "# Process tomography"
   ]
  },
  {
   "cell_type": "code",
   "execution_count": null,
   "metadata": {},
   "outputs": [],
   "source": [
    "import numpy as np\n",
    "from pyquil.api import get_qc\n",
    "from pyquil import Program\n",
    "from pyquil.gates import *\n",
    "\n",
    "from forest_benchmarking.tomography import *\n",
    "from forest_benchmarking.superop_conversion import choi2pauli_liouville, kraus2choi"
   ]
  },
  {
   "cell_type": "markdown",
   "metadata": {},
   "source": [
    "\n",
    "## Set the shots, the qubits of interest, the quantum device"
   ]
  },
  {
   "cell_type": "code",
   "execution_count": null,
   "metadata": {},
   "outputs": [],
   "source": [
    "qubits = [0]\n",
    "qvm = get_qc(\"9q-square-noisy-qvm\", as_qvm=True, noisy=True)"
   ]
  },
  {
   "cell_type": "markdown",
   "metadata": {},
   "source": [
    "# Create a Process"
   ]
  },
  {
   "cell_type": "code",
   "execution_count": null,
   "metadata": {},
   "outputs": [],
   "source": [
    "process = Program(RX(np.pi, qubits[0]))"
   ]
  },
  {
   "cell_type": "code",
   "execution_count": null,
   "metadata": {},
   "outputs": [],
   "source": [
    "exp_desc = generate_process_tomography_experiment(process)"
   ]
  },
  {
   "cell_type": "code",
   "execution_count": null,
   "metadata": {},
   "outputs": [],
   "source": [
    "print(exp_desc.program)"
   ]
  },
  {
   "cell_type": "code",
   "execution_count": null,
   "metadata": {},
   "outputs": [],
   "source": [
    "[str(exp_desc.out_ops[idx]) for idx in list(range(0,(2**len(qubits))**2 - 1))]"
   ]
  },
  {
   "cell_type": "markdown",
   "metadata": {},
   "source": [
    "# Acquire data"
   ]
  },
  {
   "cell_type": "code",
   "execution_count": null,
   "metadata": {},
   "outputs": [],
   "source": [
    "exp_data = acquire_tomography_data(exp_desc, qvm)"
   ]
  },
  {
   "cell_type": "code",
   "execution_count": null,
   "metadata": {},
   "outputs": [],
   "source": [
    "exp_data"
   ]
  },
  {
   "cell_type": "markdown",
   "metadata": {},
   "source": [
    "# PGDB Estimate"
   ]
  },
  {
   "cell_type": "code",
   "execution_count": null,
   "metadata": {},
   "outputs": [],
   "source": [
    "estimate = pgdb_process_estimate(exp_data)"
   ]
  },
  {
   "cell_type": "code",
   "execution_count": null,
   "metadata": {},
   "outputs": [],
   "source": [
    "print(np.real(np.round(estimate.estimate.process_choi_est, 2)))"
   ]
  },
  {
   "cell_type": "code",
   "execution_count": null,
   "metadata": {},
   "outputs": [],
   "source": [
    "ideal = np.array([[0.,0.,0.,0.],[0.,1.,1.,0.],[0.,1.,1.,0.],[0.,0.,0.,0.]])\n",
    "print(ideal)"
   ]
  },
  {
   "cell_type": "markdown",
   "metadata": {},
   "source": [
    "# Plot Pauli Transfer Matrix of Estimate"
   ]
  },
  {
   "cell_type": "code",
   "execution_count": null,
   "metadata": {},
   "outputs": [],
   "source": [
    "import matplotlib.pyplot as plt\n",
    "fig, ax = plt.subplots()\n",
    "ptm = choi2pauli_liouville(estimate.estimate.process_choi_est)\n",
    "labels = [op.pauli_string for op in estimate.out_ops]\n",
    "plot_pauli_transfer_matrix(ptm, ax, title='Estimate')"
   ]
  },
  {
   "cell_type": "code",
   "execution_count": null,
   "metadata": {},
   "outputs": [],
   "source": [
    "fig, ax = plt.subplots()\n",
    "ideal_ptm = choi2pauli_liouville(ideal)\n",
    "labels = [op.pauli_string for op in estimate.out_ops]\n",
    "plot_pauli_transfer_matrix(ideal_ptm, ax, title='Ideal')"
   ]
  },
  {
   "cell_type": "markdown",
   "metadata": {},
   "source": [
    "# Two qubit example (slow)"
   ]
  },
  {
   "cell_type": "code",
   "execution_count": null,
   "metadata": {},
   "outputs": [],
   "source": [
    "from scipy.linalg import expm\n",
    "from numpy import pi\n",
    "\n",
    "process = Program(CNOT(1,0))\n",
    "\n",
    "exp_desc = generate_process_tomography_experiment(process)\n",
    "exp_data = acquire_tomography_data(exp_desc, qvm)\n",
    "estimate = pgdb_process_estimate(exp_data)\n",
    "for row in estimate.estimate.process_choi_est:\n",
    "    print([abs(np.real(np.round(r,1))) for r in row])"
   ]
  },
  {
   "cell_type": "code",
   "execution_count": null,
   "metadata": {},
   "outputs": [],
   "source": [
    "ideal = kraus2choi(np.array([[1,0,0,0],[0,1,0,0],[0,0,0,1],[0,0,1,0]]))\n",
    "print(ideal)"
   ]
  },
  {
   "cell_type": "code",
   "execution_count": null,
   "metadata": {},
   "outputs": [],
   "source": [
    "fig, ax = plt.subplots()\n",
    "ptm = choi2pauli_liouville(estimate.estimate.process_choi_est)\n",
    "labels = [op.pauli_string for op in estimate.out_ops]\n",
    "plot_pauli_transfer_matrix(ptm, ax, title='Estimate')"
   ]
  },
  {
   "cell_type": "code",
   "execution_count": null,
   "metadata": {},
   "outputs": [],
   "source": [
    "fig, ax = plt.subplots()\n",
    "ideal_ptm = choi2pauli_liouville(ideal)\n",
    "labels = [op.pauli_string for op in estimate.out_ops]\n",
    "plot_pauli_transfer_matrix(ideal_ptm, ax, title='Ideal')"
   ]
  }
 ],
 "metadata": {
  "language_info": {
   "name": "python",
   "pygments_lexer": "ipython3"
  }
 },
 "nbformat": 4,
 "nbformat_minor": 2
}
