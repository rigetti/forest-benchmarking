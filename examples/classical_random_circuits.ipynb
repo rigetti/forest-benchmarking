{
 "cells": [
  {
   "cell_type": "markdown",
   "metadata": {},
   "source": [
    "# Classical Random Circuits\n",
    "\n",
    "Here we use classical circuits to get a handle on error rates."
   ]
  },
  {
   "cell_type": "markdown",
   "metadata": {},
   "source": [
    "## setup"
   ]
  },
  {
   "cell_type": "code",
   "execution_count": 1,
   "metadata": {},
   "outputs": [],
   "source": [
    "import os\n",
    "import random\n",
    "from typing import List\n",
    "import itertools\n",
    "import networkx as nx\n",
    "import numpy as np\n",
    "import pandas as pd\n",
    "from matplotlib import pyplot as plt\n",
    "from pyquil.api import get_qc, QuantumComputer\n",
    "from pyquil.gates import CNOT, CCNOT, X, I, H, CZ, MEASURE, RESET\n",
    "from pyquil.quilbase import Pragma\n",
    "from scipy.spatial.distance import hamming\n",
    "\n",
    "from forest_benchmarking.compilation import basic_compile\n",
    "\n",
    "from forest_benchmarking.classical_random_circuits import *"
   ]
  },
  {
   "cell_type": "markdown",
   "metadata": {},
   "source": [
    "## graph state measurement and plotting functions"
   ]
  },
  {
   "cell_type": "code",
   "execution_count": 2,
   "metadata": {},
   "outputs": [],
   "source": [
    "#qc_perfect = get_qc(\"Aspen-1-15Q-A\", as_qvm=True, noisy=False)\n",
    "#qc_noisy = get_qc(\"Aspen-1-15Q-A\", as_qvm=True, noisy=True)\n",
    "\n",
    "qc_perfect = get_qc(\"9q-square-qvm\", as_qvm=True, noisy=False)\n",
    "qc_noisy = get_qc(\"9q-square-qvm\", as_qvm=True, noisy=True)"
   ]
  },
  {
   "cell_type": "code",
   "execution_count": 3,
   "metadata": {},
   "outputs": [
    {
     "data": {
      "image/png": "[encoded data removed]",
      "text/plain": [
       "<matplotlib.figure.Figure at 0x11f0f3be0>"
      ]
     },
     "metadata": {},
     "output_type": "display_data"
    }
   ],
   "source": [
    "nx.draw(qc_perfect.qubit_topology(),with_labels=True)"
   ]
  },
  {
   "cell_type": "code",
   "execution_count": 4,
   "metadata": {},
   "outputs": [],
   "source": [
    "#from pyquil import *\n",
    "#list_quantum_computers()"
   ]
  },
  {
   "cell_type": "code",
   "execution_count": 5,
   "metadata": {},
   "outputs": [
    {
     "data": {
      "text/plain": [
       "[9, 12, 22, 36, 49, 48, 32, 9, 1]"
      ]
     },
     "execution_count": 5,
     "metadata": {},
     "output_type": "execute_result"
    }
   ],
   "source": [
    "G = qc_perfect.qubit_topology()\n",
    "len(qc_perfect.qubit_topology())\n",
    "# distribution of graph lengths\n",
    "disty = []\n",
    "for gdx in range(1,len(G.nodes)+1):\n",
    "    listg = generate_connected_subgraphs(G,gdx)\n",
    "    disty.append(len(listg))\n",
    "\n",
    "disty"
   ]
  },
  {
   "cell_type": "code",
   "execution_count": 6,
   "metadata": {},
   "outputs": [],
   "source": [
    "G = qc_perfect.qubit_topology()"
   ]
  },
  {
   "cell_type": "code",
   "execution_count": 7,
   "metadata": {},
   "outputs": [],
   "source": [
    "num_shots_per_circuit = 1\n",
    "num_rand_subgraphs = 2\n",
    "num_rand_circuits_per_subgraph = 2\n",
    "depth = 5\n",
    "widthy = 3 #max = len(G.nodes)\n",
    "in_x_basis = False"
   ]
  },
  {
   "cell_type": "code",
   "execution_count": 8,
   "metadata": {},
   "outputs": [],
   "source": [
    "data = []\n",
    "# loop over different graph sizes\n",
    "for depth_idx,subgraph_size in itertools.product(range(1,depth+1), range(1,widthy+1)):\n",
    "    list_of_graphs = generate_connected_subgraphs(G, subgraph_size)\n",
    "    wt = []\n",
    "    for kdx in range(1, num_rand_subgraphs+1):\n",
    "        # randomly choose a lattice from list\n",
    "        lattice = random.choice(list_of_graphs)\n",
    "        for jdx in range(1, num_rand_circuits_per_subgraph+1):\n",
    "            prog = generate_random_classial_circuit_with_depth(lattice, depth_idx, in_x_basis)\n",
    "            # perfect \n",
    "            perfect_bitstring = qc_perfect.run_and_measure(prog, trials=1)\n",
    "            perfect_bitstring_array = np.vstack(perfect_bitstring[q] for q in prog.get_qubits()).T\n",
    "            # run on hardware or noisy QVM\n",
    "            actual_bitstring = qc_noisy.run_and_measure(prog, trials=3)\n",
    "            actual_bitstring_array = np.vstack(actual_bitstring[q] for q in prog.get_qubits()).T\n",
    "            wt.append(get_error_hamming_distance_from_results(perfect_bitstring_array, actual_bitstring_array))\n",
    "\n",
    "    # for each graph size flatten the results        \n",
    "    wt_flat = [item for sublist in wt for item in sublist]\n",
    "    hamming_wt_distr = get_error_hamming_distributions_from_list(wt_flat, subgraph_size)\n",
    "    # list of dicts. The keys are (depth, width, hamming_dist)\n",
    "    data.append({'depth': depth_idx, 'width': subgraph_size, 'hamming_dist': hamming_wt_distr})"
   ]
  },
  {
   "cell_type": "code",
   "execution_count": 9,
   "metadata": {},
   "outputs": [
    {
     "data": {
      "text/html": [
       "<div>\n",
       "<style>\n",
       "    .dataframe thead tr:only-child th {\n",
       "        text-align: right;\n",
       "    }\n",
       "\n",
       "    .dataframe thead th {\n",
       "        text-align: left;\n",
       "    }\n",
       "\n",
       "    .dataframe tbody tr th {\n",
       "        vertical-align: top;\n",
       "    }\n",
       "</style>\n",
       "<table border=\"1\" class=\"dataframe\">\n",
       "  <thead>\n",
       "    <tr style=\"text-align: right;\">\n",
       "      <th></th>\n",
       "      <th>depth</th>\n",
       "      <th>hamming_dist</th>\n",
       "      <th>width</th>\n",
       "    </tr>\n",
       "  </thead>\n",
       "  <tbody>\n",
       "    <tr>\n",
       "      <th>0</th>\n",
       "      <td>1</td>\n",
       "      <td>[0.8333333333333334, 0.0]</td>\n",
       "      <td>1</td>\n",
       "    </tr>\n",
       "    <tr>\n",
       "      <th>1</th>\n",
       "      <td>1</td>\n",
       "      <td>[0.9166666666666666, 0.08333333333333333, 0.0]</td>\n",
       "      <td>2</td>\n",
       "    </tr>\n",
       "    <tr>\n",
       "      <th>2</th>\n",
       "      <td>1</td>\n",
       "      <td>[0.8333333333333334, 0.16666666666666666, 0.0,...</td>\n",
       "      <td>3</td>\n",
       "    </tr>\n",
       "    <tr>\n",
       "      <th>3</th>\n",
       "      <td>2</td>\n",
       "      <td>[0.8333333333333334, 0.0]</td>\n",
       "      <td>1</td>\n",
       "    </tr>\n",
       "    <tr>\n",
       "      <th>4</th>\n",
       "      <td>2</td>\n",
       "      <td>[0.8333333333333334, 0.16666666666666666, 0.0]</td>\n",
       "      <td>2</td>\n",
       "    </tr>\n",
       "    <tr>\n",
       "      <th>5</th>\n",
       "      <td>2</td>\n",
       "      <td>[0.5833333333333334, 0.4166666666666667, 0.0, ...</td>\n",
       "      <td>3</td>\n",
       "    </tr>\n",
       "    <tr>\n",
       "      <th>6</th>\n",
       "      <td>3</td>\n",
       "      <td>[1.0, 0.0]</td>\n",
       "      <td>1</td>\n",
       "    </tr>\n",
       "    <tr>\n",
       "      <th>7</th>\n",
       "      <td>3</td>\n",
       "      <td>[0.9166666666666666, 0.08333333333333333, 0.0]</td>\n",
       "      <td>2</td>\n",
       "    </tr>\n",
       "    <tr>\n",
       "      <th>8</th>\n",
       "      <td>3</td>\n",
       "      <td>[0.8333333333333334, 0.16666666666666666, 0.0,...</td>\n",
       "      <td>3</td>\n",
       "    </tr>\n",
       "    <tr>\n",
       "      <th>9</th>\n",
       "      <td>4</td>\n",
       "      <td>[0.8333333333333334, 0.0]</td>\n",
       "      <td>1</td>\n",
       "    </tr>\n",
       "    <tr>\n",
       "      <th>10</th>\n",
       "      <td>4</td>\n",
       "      <td>[0.8333333333333334, 0.16666666666666666, 0.0]</td>\n",
       "      <td>2</td>\n",
       "    </tr>\n",
       "    <tr>\n",
       "      <th>11</th>\n",
       "      <td>4</td>\n",
       "      <td>[1.0, 0.0, 0.0, 0.0]</td>\n",
       "      <td>3</td>\n",
       "    </tr>\n",
       "    <tr>\n",
       "      <th>12</th>\n",
       "      <td>5</td>\n",
       "      <td>[1.0, 0.0]</td>\n",
       "      <td>1</td>\n",
       "    </tr>\n",
       "    <tr>\n",
       "      <th>13</th>\n",
       "      <td>5</td>\n",
       "      <td>[0.75, 0.25, 0.0]</td>\n",
       "      <td>2</td>\n",
       "    </tr>\n",
       "    <tr>\n",
       "      <th>14</th>\n",
       "      <td>5</td>\n",
       "      <td>[0.75, 0.25, 0.0, 0.0]</td>\n",
       "      <td>3</td>\n",
       "    </tr>\n",
       "  </tbody>\n",
       "</table>\n",
       "</div>"
      ],
      "text/plain": [
       "    depth                                       hamming_dist  width\n",
       "0       1                          [0.8333333333333334, 0.0]      1\n",
       "1       1     [0.9166666666666666, 0.08333333333333333, 0.0]      2\n",
       "2       1  [0.8333333333333334, 0.16666666666666666, 0.0,...      3\n",
       "3       2                          [0.8333333333333334, 0.0]      1\n",
       "4       2     [0.8333333333333334, 0.16666666666666666, 0.0]      2\n",
       "5       2  [0.5833333333333334, 0.4166666666666667, 0.0, ...      3\n",
       "6       3                                         [1.0, 0.0]      1\n",
       "7       3     [0.9166666666666666, 0.08333333333333333, 0.0]      2\n",
       "8       3  [0.8333333333333334, 0.16666666666666666, 0.0,...      3\n",
       "9       4                          [0.8333333333333334, 0.0]      1\n",
       "10      4     [0.8333333333333334, 0.16666666666666666, 0.0]      2\n",
       "11      4                               [1.0, 0.0, 0.0, 0.0]      3\n",
       "12      5                                         [1.0, 0.0]      1\n",
       "13      5                                  [0.75, 0.25, 0.0]      2\n",
       "14      5                             [0.75, 0.25, 0.0, 0.0]      3"
      ]
     },
     "execution_count": 9,
     "metadata": {},
     "output_type": "execute_result"
    }
   ],
   "source": [
    "df = pd.DataFrame(data)\n",
    "df"
   ]
  },
  {
   "cell_type": "code",
   "execution_count": 10,
   "metadata": {},
   "outputs": [],
   "source": [
    "def get_hamming_dist(df: pd.DataFrame, depth_val: int, width_val: int):\n",
    "    idx = df.depth== depth_val\n",
    "    jdx = df.width== width_val\n",
    "    return df[idx&jdx].reset_index(drop=True)\n",
    "\n",
    "def get_hamming_dists_fn_width(df: pd.DataFrame, depth_val: int):\n",
    "    idx = df.depth== depth_val\n",
    "    return df[idx].reset_index(drop=True)\n",
    "\n",
    "def get_hamming_dists_fn_depth(df: pd.DataFrame, width_val: int):\n",
    "    jdx = df.width== width_val\n",
    "    return df[jdx].reset_index(drop=True)"
   ]
  },
  {
   "cell_type": "markdown",
   "metadata": {},
   "source": [
    "# Plot a particular depth and width"
   ]
  },
  {
   "cell_type": "code",
   "execution_count": 11,
   "metadata": {},
   "outputs": [],
   "source": [
    "dep = 2\n",
    "wid = 2\n",
    "distz = get_hamming_dist(df, dep, wid)"
   ]
  },
  {
   "cell_type": "code",
   "execution_count": 12,
   "metadata": {},
   "outputs": [
    {
     "data": {
      "image/png": "[encoded data removed]",
      "text/plain": [
       "<matplotlib.figure.Figure at 0x1224a41d0>"
      ]
     },
     "metadata": {},
     "output_type": "display_data"
    }
   ],
   "source": [
    "\n",
    "averaged_distr = distz['hamming_dist'][0]\n",
    "\n",
    "rand_ans_distr = hamming_dist_rand(wid,0)\n",
    "\n",
    "x_labels = np.arange(0, len(averaged_distr))\n",
    "plt.bar(x_labels, averaged_distr, width=0.61, align='center')\n",
    "plt.bar(x_labels, rand_ans_distr, width=0.31, align='center')\n",
    "plt.xticks(x_labels)\n",
    "plt.xlabel('Hamming Weight of Error')\n",
    "plt.ylabel('Relative Frequency of Occurence')\n",
    "plt.ylim([0,1])\n",
    "plt.grid(axis='y', alpha=0.75)\n",
    "plt.legend(['data','random'])\n",
    "plt.title('Depth = {}, Width = {}'.format(dep,wid))\n",
    "plt.show()"
   ]
  },
  {
   "cell_type": "markdown",
   "metadata": {},
   "source": [
    "# For a particular width plot all depths"
   ]
  },
  {
   "cell_type": "code",
   "execution_count": 13,
   "metadata": {},
   "outputs": [],
   "source": [
    "wid = 2\n",
    "hdis = get_hamming_dists_fn_depth(df, wid)"
   ]
  },
  {
   "cell_type": "code",
   "execution_count": 14,
   "metadata": {},
   "outputs": [
    {
     "data": {
      "image/png": "[encoded data removed]",
      "text/plain": [
       "<matplotlib.figure.Figure at 0x122427048>"
      ]
     },
     "metadata": {},
     "output_type": "display_data"
    }
   ],
   "source": [
    "for hdx in range(0, len(hdis)):\n",
    "    averaged_distr = hdis.iloc[hdx]['hamming_dist']\n",
    "    dep = hdis.iloc[hdx]['depth']\n",
    "    rand_ans_distr = hamming_dist_rand(wid,0)\n",
    "    x_labels = np.arange(0, len(averaged_distr))\n",
    "    plt.subplot(1,len(hdis),hdx+1)\n",
    "    plt.bar(x_labels, averaged_distr, width=0.61, align='center')\n",
    "    plt.bar(x_labels, rand_ans_distr, width=0.31, align='center')\n",
    "    plt.xticks(x_labels)\n",
    "    plt.xlabel('Hamming Weight of Error')\n",
    "    plt.ylabel('Relative Frequency of Occurence')\n",
    "    plt.ylim([0,1])\n",
    "    plt.grid(axis='y', alpha=0.75)\n",
    "    plt.legend(['data','random'])\n",
    "    plt.title('Depth = {}, Width = {}'.format(dep,wid))\n",
    "plt.subplots_adjust(bottom=0.1, right=3.2, top=0.9)\n",
    "plt.show()"
   ]
  },
  {
   "cell_type": "markdown",
   "metadata": {},
   "source": [
    "# Plot depth = width"
   ]
  },
  {
   "cell_type": "code",
   "execution_count": 15,
   "metadata": {},
   "outputs": [
    {
     "data": {
      "image/png": "[encoded data removed]",
      "text/plain": [
       "<matplotlib.figure.Figure at 0x12139c208>"
      ]
     },
     "metadata": {},
     "output_type": "display_data"
    }
   ],
   "source": [
    "max_idx = min([max(df['depth']),max(df['width'])])\n",
    "\n",
    "for idx in range(1,max_idx+1):\n",
    "    hdis = get_hamming_dist(df, idx, idx)\n",
    "    averaged_distr = hdis['hamming_dist'][0]\n",
    "    dep = hdis['depth'][0]\n",
    "    wid = hdis['width'][0]\n",
    "    rand_ans_distr = hamming_dist_rand(idx,0)\n",
    "    x_labels = np.arange(0, len(averaged_distr))\n",
    "    plt.subplot(1,max_idx,idx)\n",
    "    plt.bar(x_labels, averaged_distr, width=0.61, align='center')\n",
    "    plt.bar(x_labels, rand_ans_distr, width=0.31, align='center')\n",
    "    plt.xticks(x_labels)\n",
    "    plt.xlabel('Hamming Weight of Error')\n",
    "    plt.ylabel('Relative Frequency of Occurence')\n",
    "    plt.ylim([0,1])\n",
    "    plt.grid(axis='y', alpha=0.75)\n",
    "    plt.legend(['data','random'])\n",
    "    plt.title('Depth = {}, Width = {}'.format(dep,wid))\n",
    "plt.subplots_adjust(bottom=0.1, right=3.2, top=0.9)\n",
    "plt.show()\n",
    "    \n",
    "    \n",
    "    "
   ]
  },
  {
   "cell_type": "markdown",
   "metadata": {},
   "source": [
    "# Plot success probablity landscape"
   ]
  },
  {
   "cell_type": "code",
   "execution_count": 16,
   "metadata": {},
   "outputs": [],
   "source": [
    "def interpolate_2d_landscape(points, values, resolution=200, interp_method='nearest'):\n",
    "    \"\"\"\n",
    "    Convenience function for interpolating a list of points and corresponding list of values\n",
    "    onto a 2D meshgrid suitable for plotting.\n",
    "\n",
    "    See :py:func:`plot_2d_landscape`.\n",
    "\n",
    "    :param points: A numpy array where the first column is x values and the second column\n",
    "        is y values\n",
    "    :param values: The value at each point (z)\n",
    "    :param resolution: The number of points per side in the interpolated meshgrid\n",
    "    :param interp_method: The scheme used for interpolation. \"cubic\" or \"linear\" will give\n",
    "        you a prettier picture but \"nearest\" will prevent you from overconfidence.\n",
    "    :return: meshgrid arrays (xx, yy, zz) suitable for plotting.\n",
    "    \"\"\"\n",
    "    xx, yy = np.meshgrid(\n",
    "        np.linspace(np.min(points[:, 0]), np.max(points[:, 0]), resolution),\n",
    "        np.linspace(np.min(points[:, 1]), np.max(points[:, 1]), resolution),\n",
    "    )\n",
    "    zz = scipy.interpolate.griddata(points, values, (xx, yy), method=interp_method)\n",
    "    return xx, yy, zz"
   ]
  },
  {
   "cell_type": "code",
   "execution_count": 17,
   "metadata": {},
   "outputs": [
    {
     "data": {
      "text/plain": [
       "(15, 2)"
      ]
     },
     "execution_count": 17,
     "metadata": {},
     "output_type": "execute_result"
    }
   ],
   "source": [
    "points = np.vstack((df['depth'].values, df['width'].values)).T\n",
    "points.shape"
   ]
  },
  {
   "cell_type": "code",
   "execution_count": 25,
   "metadata": {},
   "outputs": [
    {
     "data": {
      "text/plain": [
       "array([0.83333333, 0.91666667, 0.83333333, 0.83333333, 0.83333333,\n",
       "       0.58333333, 1.        , 0.91666667, 0.83333333, 0.83333333,\n",
       "       0.83333333, 1.        , 1.        , 0.75      , 0.75      ])"
      ]
     },
     "execution_count": 25,
     "metadata": {},
     "output_type": "execute_result"
    }
   ],
   "source": [
    "import scipy.interpolate\n",
    "# df['hamming_dist'][0] returns the array\n",
    "# df['hamming_dist'][0][0] returns the first element of the array\n",
    "values = np.asarray([df['hamming_dist'][idx][0] for idx in df.index])\n",
    "values"
   ]
  },
  {
   "cell_type": "code",
   "execution_count": 31,
   "metadata": {},
   "outputs": [
    {
     "data": {
      "text/plain": [
       "(15,)"
      ]
     },
     "execution_count": 31,
     "metadata": {},
     "output_type": "execute_result"
    }
   ],
   "source": [
    "rand_width = [hamming_dist_rand(idx, 0)[0] for idx in range(1,widthy+1)]\n",
    "rand_width\n",
    "\n",
    "\n",
    "values_rand = np.asarray([item for sublist in [rand_width for ddx in range(1,depth+1)] for item in sublist])\n",
    "\n",
    "#values_rand = np.vstack((rand_width, rand_width, rand_width)).T\n",
    "values_rand.shape"
   ]
  },
  {
   "cell_type": "code",
   "execution_count": 32,
   "metadata": {},
   "outputs": [
    {
     "data": {
      "image/png": "[encoded data removed]",
      "text/plain": [
       "<matplotlib.figure.Figure at 0x122f1e400>"
      ]
     },
     "metadata": {},
     "output_type": "display_data"
    }
   ],
   "source": [
    "xx, yy, zz = interpolate_2d_landscape(points, values)\n",
    "\n",
    "ax = plt.gca()\n",
    "img = ax.imshow(zz, interpolation='none',\n",
    "                extent=(xx[0, 0], xx[0, -1], yy[0, 0], yy[-1, 0]),\n",
    "                cmap='viridis', origin='lowerleft', norm=plt.Normalize(None, None))\n",
    "plt.colorbar(img, ax=ax)\n",
    "plt.xlabel('Depth')\n",
    "plt.ylabel('Width')\n",
    "plt.title('Success Probability')\n",
    "plt.show()"
   ]
  },
  {
   "cell_type": "code",
   "execution_count": 33,
   "metadata": {},
   "outputs": [
    {
     "name": "stdout",
     "output_type": "stream",
     "text": [
      "(15, 2)\n"
     ]
    },
    {
     "data": {
      "image/png": "[encoded data removed]",
      "text/plain": [
       "<matplotlib.figure.Figure at 0x1227e9a20>"
      ]
     },
     "metadata": {},
     "output_type": "display_data"
    }
   ],
   "source": [
    "print(points.shape)\n",
    "xx, yy, zz = interpolate_2d_landscape(points, values_rand)\n",
    "\n",
    "ax = plt.gca()\n",
    "img = ax.imshow(zz, interpolation='none',\n",
    "                extent=(xx[0, 0], xx[0, -1], yy[0, 0], yy[-1, 0]),\n",
    "                cmap='viridis', origin='lowerleft', norm=plt.Normalize(None, None))\n",
    "plt.colorbar(img, ax=ax)\n",
    "plt.xlabel('Depth')\n",
    "plt.ylabel('Width')\n",
    "plt.title('Success Probability for Random guess')\n",
    "plt.show()"
   ]
  },
  {
   "cell_type": "markdown",
   "metadata": {},
   "source": [
    "# Error probablity decay"
   ]
  },
  {
   "cell_type": "code",
   "execution_count": null,
   "metadata": {},
   "outputs": [],
   "source": [
    "# one bit errors\n",
    "#values = [df['hamming_dist'][idx][0]+df['hamming_dist'][idx][1] for idx in df.index]"
   ]
  },
  {
   "cell_type": "code",
   "execution_count": null,
   "metadata": {},
   "outputs": [],
   "source": []
  }
 ],
 "metadata": {
  "kernelspec": {
   "display_name": "Python 3",
   "language": "python",
   "name": "python3"
  },
  "language_info": {
   "codemirror_mode": {
    "name": "ipython",
    "version": 3
   },
   "file_extension": ".py",
   "mimetype": "text/x-python",
   "name": "python",
   "nbconvert_exporter": "python",
   "pygments_lexer": "ipython3",
   "version": "3.6.3"
  }
 },
 "nbformat": 4,
 "nbformat_minor": 2
}
