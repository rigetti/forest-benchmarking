{
 "cells": [
  {
   "cell_type": "markdown",
   "metadata": {},
   "source": [
    "# Classical Random Circuits\n",
    "\n",
    "Here we use classical circuits to get a handle on error rates.\n",
    "\n",
    "This module that generates classical random circuits (that are not universal) on a graph which represents the QPU or QVM lattice. The basic idea is it will compute error rates of circuits as a function of depth and width.\n",
    "\n",
    "The `width` of the circuit is the number of connected vertices on a particular subgraph.\n",
    "\n",
    "The `depth` is defined in an unusual way. We consider a \"depth 1\" circuit to be a round of X gates randomly applied or not to a particular vertex AND a round of CNOTs randomly applied or not to each edge of the graph.\n",
    "\n",
    "The circuit can also be executed in the X basis."
   ]
  },
  {
   "cell_type": "markdown",
   "metadata": {},
   "source": [
    "## Imports"
   ]
  },
  {
   "cell_type": "code",
   "execution_count": 1,
   "metadata": {},
   "outputs": [],
   "source": [
    "import random\n",
    "import itertools\n",
    "import networkx as nx\n",
    "import numpy as np\n",
    "import pandas as pd\n",
    "import time\n",
    "from scipy.spatial.distance import hamming\n",
    "import scipy.interpolate\n",
    "\n",
    "from matplotlib import pyplot as plt\n",
    "from pyquil.api import get_qc, QuantumComputer\n",
    "from pyquil.gates import CNOT, CCNOT, X, I, H, CZ, MEASURE, RESET\n",
    "from pyquil.quilbase import Pragma\n",
    "\n",
    "from forest_benchmarking.classical_random_circuits import *"
   ]
  },
  {
   "cell_type": "markdown",
   "metadata": {},
   "source": [
    "## Get lattice"
   ]
  },
  {
   "cell_type": "code",
   "execution_count": 2,
   "metadata": {},
   "outputs": [],
   "source": [
    "# if you want to run on a \"real lattice\"\n",
    "#from pyquil import *\n",
    "#list_quantum_computers()\n",
    "#qc_perfect = get_qc(\"Aspen-1-15Q-A\", as_qvm=True, noisy=False)\n",
    "#qc_noisy = get_qc(\"Aspen-1-15Q-A\", as_qvm=True, noisy=True)\n",
    "\n",
    "qc_perfect = get_qc(\"9q-square-qvm\", as_qvm=True, noisy=False)\n",
    "qc_noisy = get_qc(\"9q-square-qvm\", as_qvm=True, noisy=True)"
   ]
  },
  {
   "cell_type": "code",
   "execution_count": 3,
   "metadata": {},
   "outputs": [
    {
     "data": {
      "image/png": "[encoded data removed]",
      "text/plain": [
       "<matplotlib.figure.Figure at 0x12e126d68>"
      ]
     },
     "metadata": {},
     "output_type": "display_data"
    }
   ],
   "source": [
    "nx.draw(qc_perfect.qubit_topology(),with_labels=True)"
   ]
  },
  {
   "cell_type": "markdown",
   "metadata": {},
   "source": [
    "# Plot the distribution of sublattice widths"
   ]
  },
  {
   "cell_type": "code",
   "execution_count": 4,
   "metadata": {},
   "outputs": [
    {
     "data": {
      "text/plain": [
       "[9, 12, 22, 36, 49, 48, 32, 9, 1]"
      ]
     },
     "execution_count": 4,
     "metadata": {},
     "output_type": "execute_result"
    },
    {
     "data": {
      "image/png": "[encoded data removed]",
      "text/plain": [
       "<matplotlib.figure.Figure at 0x12e2068d0>"
      ]
     },
     "metadata": {},
     "output_type": "display_data"
    }
   ],
   "source": [
    "G = qc_perfect.qubit_topology()\n",
    "len(qc_perfect.qubit_topology())\n",
    "# distribution of graph lengths\n",
    "disty = []\n",
    "for gdx in range(1,len(G.nodes)+1):\n",
    "    listg = generate_connected_subgraphs(G,gdx)\n",
    "    disty.append(len(listg))\n",
    "\n",
    "cir_wid = list(range(1,len(G.nodes)+1))\n",
    "plt.bar(cir_wid, disty, width=0.61, align='center')\n",
    "plt.xticks(cir_wid)\n",
    "plt.xlabel('sublattice / circuit width')\n",
    "plt.ylabel('Frequency of Occurence')\n",
    "plt.grid(axis='y', alpha=0.75)\n",
    "plt.title('Distribution of sublattice widths')\n",
    "disty"
   ]
  },
  {
   "cell_type": "markdown",
   "metadata": {},
   "source": [
    "# Acquire data"
   ]
  },
  {
   "cell_type": "code",
   "execution_count": 5,
   "metadata": {},
   "outputs": [],
   "source": [
    "# with these parameters the cell below takes about 2 minutes\n",
    "num_shots_per_circuit = 100\n",
    "num_rand_subgraphs = 6\n",
    "circuit_depth = 8\n",
    "circuit_width = 6 #max = len(G.nodes)\n",
    "in_x_basis = False\n",
    "use_active_reset = False"
   ]
  },
  {
   "cell_type": "code",
   "execution_count": 6,
   "metadata": {},
   "outputs": [
    {
     "name": "stdout",
     "output_type": "stream",
     "text": [
      "107.61140990257263\n"
     ]
    }
   ],
   "source": [
    "t0 = time.time()\n",
    "data = get_random_classical_circuit_results(qc_perfect, qc_noisy, circuit_depth, circuit_width, num_rand_subgraphs, num_shots_per_circuit)\n",
    "t1 = time.time()\n",
    "total = t1-t0\n",
    "print(total)"
   ]
  },
  {
   "cell_type": "markdown",
   "metadata": {},
   "source": [
    "Now put the data into a dataframe"
   ]
  },
  {
   "cell_type": "code",
   "execution_count": 7,
   "metadata": {},
   "outputs": [
    {
     "data": {
      "text/html": [
       "<div>\n",
       "<style>\n",
       "    .dataframe thead tr:only-child th {\n",
       "        text-align: right;\n",
       "    }\n",
       "\n",
       "    .dataframe thead th {\n",
       "        text-align: left;\n",
       "    }\n",
       "\n",
       "    .dataframe tbody tr th {\n",
       "        vertical-align: top;\n",
       "    }\n",
       "</style>\n",
       "<table border=\"1\" class=\"dataframe\">\n",
       "  <thead>\n",
       "    <tr style=\"text-align: right;\">\n",
       "      <th></th>\n",
       "      <th>depth</th>\n",
       "      <th>hamming_dist</th>\n",
       "      <th>width</th>\n",
       "    </tr>\n",
       "  </thead>\n",
       "  <tbody>\n",
       "    <tr>\n",
       "      <th>0</th>\n",
       "      <td>1</td>\n",
       "      <td>[0.93, 0.0]</td>\n",
       "      <td>1</td>\n",
       "    </tr>\n",
       "    <tr>\n",
       "      <th>1</th>\n",
       "      <td>1</td>\n",
       "      <td>[0.865, 0.13333333333333333, 0.0]</td>\n",
       "      <td>2</td>\n",
       "    </tr>\n",
       "    <tr>\n",
       "      <th>2</th>\n",
       "      <td>1</td>\n",
       "      <td>[0.8633333333333333, 0.13166666666666665, 0.00...</td>\n",
       "      <td>3</td>\n",
       "    </tr>\n",
       "    <tr>\n",
       "      <th>3</th>\n",
       "      <td>1</td>\n",
       "      <td>[0.7433333333333333, 0.23333333333333334, 0.02...</td>\n",
       "      <td>4</td>\n",
       "    </tr>\n",
       "    <tr>\n",
       "      <th>4</th>\n",
       "      <td>1</td>\n",
       "      <td>[0.7183333333333334, 0.24833333333333332, 0.03...</td>\n",
       "      <td>5</td>\n",
       "    </tr>\n",
       "    <tr>\n",
       "      <th>5</th>\n",
       "      <td>1</td>\n",
       "      <td>[0.6766666666666666, 0.2683333333333333, 0.046...</td>\n",
       "      <td>6</td>\n",
       "    </tr>\n",
       "    <tr>\n",
       "      <th>6</th>\n",
       "      <td>2</td>\n",
       "      <td>[0.9616666666666667, 0.0]</td>\n",
       "      <td>1</td>\n",
       "    </tr>\n",
       "    <tr>\n",
       "      <th>7</th>\n",
       "      <td>2</td>\n",
       "      <td>[0.8866666666666667, 0.10833333333333334, 0.0]</td>\n",
       "      <td>2</td>\n",
       "    </tr>\n",
       "    <tr>\n",
       "      <th>8</th>\n",
       "      <td>2</td>\n",
       "      <td>[0.7883333333333333, 0.20166666666666666, 0.01...</td>\n",
       "      <td>3</td>\n",
       "    </tr>\n",
       "    <tr>\n",
       "      <th>9</th>\n",
       "      <td>2</td>\n",
       "      <td>[0.7966666666666666, 0.185, 0.0183333333333333...</td>\n",
       "      <td>4</td>\n",
       "    </tr>\n",
       "    <tr>\n",
       "      <th>10</th>\n",
       "      <td>2</td>\n",
       "      <td>[0.7283333333333334, 0.235, 0.0316666666666666...</td>\n",
       "      <td>5</td>\n",
       "    </tr>\n",
       "    <tr>\n",
       "      <th>11</th>\n",
       "      <td>2</td>\n",
       "      <td>[0.7066666666666667, 0.23666666666666666, 0.05...</td>\n",
       "      <td>6</td>\n",
       "    </tr>\n",
       "    <tr>\n",
       "      <th>12</th>\n",
       "      <td>3</td>\n",
       "      <td>[0.93, 0.0]</td>\n",
       "      <td>1</td>\n",
       "    </tr>\n",
       "    <tr>\n",
       "      <th>13</th>\n",
       "      <td>3</td>\n",
       "      <td>[0.8566666666666667, 0.13333333333333333, 0.0]</td>\n",
       "      <td>2</td>\n",
       "    </tr>\n",
       "    <tr>\n",
       "      <th>14</th>\n",
       "      <td>3</td>\n",
       "      <td>[0.8466666666666667, 0.14333333333333334, 0.01...</td>\n",
       "      <td>3</td>\n",
       "    </tr>\n",
       "    <tr>\n",
       "      <th>15</th>\n",
       "      <td>3</td>\n",
       "      <td>[0.765, 0.21, 0.025, 0.0, 0.0]</td>\n",
       "      <td>4</td>\n",
       "    </tr>\n",
       "    <tr>\n",
       "      <th>16</th>\n",
       "      <td>3</td>\n",
       "      <td>[0.715, 0.24333333333333335, 0.036666666666666...</td>\n",
       "      <td>5</td>\n",
       "    </tr>\n",
       "    <tr>\n",
       "      <th>17</th>\n",
       "      <td>3</td>\n",
       "      <td>[0.67, 0.27666666666666667, 0.05, 0.0033333333...</td>\n",
       "      <td>6</td>\n",
       "    </tr>\n",
       "    <tr>\n",
       "      <th>18</th>\n",
       "      <td>4</td>\n",
       "      <td>[0.9633333333333334, 0.0]</td>\n",
       "      <td>1</td>\n",
       "    </tr>\n",
       "    <tr>\n",
       "      <th>19</th>\n",
       "      <td>4</td>\n",
       "      <td>[0.905, 0.095, 0.0]</td>\n",
       "      <td>2</td>\n",
       "    </tr>\n",
       "    <tr>\n",
       "      <th>20</th>\n",
       "      <td>4</td>\n",
       "      <td>[0.8633333333333333, 0.12166666666666667, 0.01...</td>\n",
       "      <td>3</td>\n",
       "    </tr>\n",
       "    <tr>\n",
       "      <th>21</th>\n",
       "      <td>4</td>\n",
       "      <td>[0.7483333333333333, 0.22166666666666668, 0.02...</td>\n",
       "      <td>4</td>\n",
       "    </tr>\n",
       "    <tr>\n",
       "      <th>22</th>\n",
       "      <td>4</td>\n",
       "      <td>[0.7733333333333333, 0.18833333333333332, 0.02...</td>\n",
       "      <td>5</td>\n",
       "    </tr>\n",
       "    <tr>\n",
       "      <th>23</th>\n",
       "      <td>4</td>\n",
       "      <td>[0.6133333333333333, 0.30333333333333334, 0.06...</td>\n",
       "      <td>6</td>\n",
       "    </tr>\n",
       "    <tr>\n",
       "      <th>24</th>\n",
       "      <td>5</td>\n",
       "      <td>[0.95, 0.0]</td>\n",
       "      <td>1</td>\n",
       "    </tr>\n",
       "    <tr>\n",
       "      <th>25</th>\n",
       "      <td>5</td>\n",
       "      <td>[0.88, 0.11666666666666667, 0.0]</td>\n",
       "      <td>2</td>\n",
       "    </tr>\n",
       "    <tr>\n",
       "      <th>26</th>\n",
       "      <td>5</td>\n",
       "      <td>[0.7666666666666667, 0.22333333333333333, 0.01...</td>\n",
       "      <td>3</td>\n",
       "    </tr>\n",
       "    <tr>\n",
       "      <th>27</th>\n",
       "      <td>5</td>\n",
       "      <td>[0.7733333333333333, 0.18833333333333332, 0.03...</td>\n",
       "      <td>4</td>\n",
       "    </tr>\n",
       "    <tr>\n",
       "      <th>28</th>\n",
       "      <td>5</td>\n",
       "      <td>[0.6883333333333334, 0.26, 0.05, 0.00166666666...</td>\n",
       "      <td>5</td>\n",
       "    </tr>\n",
       "    <tr>\n",
       "      <th>29</th>\n",
       "      <td>5</td>\n",
       "      <td>[0.6816666666666666, 0.255, 0.0433333333333333...</td>\n",
       "      <td>6</td>\n",
       "    </tr>\n",
       "    <tr>\n",
       "      <th>30</th>\n",
       "      <td>6</td>\n",
       "      <td>[0.95, 0.0]</td>\n",
       "      <td>1</td>\n",
       "    </tr>\n",
       "    <tr>\n",
       "      <th>31</th>\n",
       "      <td>6</td>\n",
       "      <td>[0.9, 0.09833333333333333, 0.0]</td>\n",
       "      <td>2</td>\n",
       "    </tr>\n",
       "    <tr>\n",
       "      <th>32</th>\n",
       "      <td>6</td>\n",
       "      <td>[0.81, 0.18333333333333332, 0.0066666666666666...</td>\n",
       "      <td>3</td>\n",
       "    </tr>\n",
       "    <tr>\n",
       "      <th>33</th>\n",
       "      <td>6</td>\n",
       "      <td>[0.76, 0.215, 0.02, 0.005, 0.0]</td>\n",
       "      <td>4</td>\n",
       "    </tr>\n",
       "    <tr>\n",
       "      <th>34</th>\n",
       "      <td>6</td>\n",
       "      <td>[0.6766666666666666, 0.265, 0.04, 0.0133333333...</td>\n",
       "      <td>5</td>\n",
       "    </tr>\n",
       "    <tr>\n",
       "      <th>35</th>\n",
       "      <td>6</td>\n",
       "      <td>[0.6416666666666667, 0.24833333333333332, 0.08...</td>\n",
       "      <td>6</td>\n",
       "    </tr>\n",
       "    <tr>\n",
       "      <th>36</th>\n",
       "      <td>7</td>\n",
       "      <td>[0.9516666666666667, 0.0]</td>\n",
       "      <td>1</td>\n",
       "    </tr>\n",
       "    <tr>\n",
       "      <th>37</th>\n",
       "      <td>7</td>\n",
       "      <td>[0.8966666666666666, 0.10333333333333333, 0.0]</td>\n",
       "      <td>2</td>\n",
       "    </tr>\n",
       "    <tr>\n",
       "      <th>38</th>\n",
       "      <td>7</td>\n",
       "      <td>[0.7933333333333333, 0.19333333333333333, 0.01...</td>\n",
       "      <td>3</td>\n",
       "    </tr>\n",
       "    <tr>\n",
       "      <th>39</th>\n",
       "      <td>7</td>\n",
       "      <td>[0.8133333333333334, 0.15666666666666668, 0.03...</td>\n",
       "      <td>4</td>\n",
       "    </tr>\n",
       "    <tr>\n",
       "      <th>40</th>\n",
       "      <td>7</td>\n",
       "      <td>[0.7, 0.22333333333333333, 0.055, 0.0166666666...</td>\n",
       "      <td>5</td>\n",
       "    </tr>\n",
       "    <tr>\n",
       "      <th>41</th>\n",
       "      <td>7</td>\n",
       "      <td>[0.6016666666666667, 0.2816666666666667, 0.08,...</td>\n",
       "      <td>6</td>\n",
       "    </tr>\n",
       "    <tr>\n",
       "      <th>42</th>\n",
       "      <td>8</td>\n",
       "      <td>[0.94, 0.0]</td>\n",
       "      <td>1</td>\n",
       "    </tr>\n",
       "    <tr>\n",
       "      <th>43</th>\n",
       "      <td>8</td>\n",
       "      <td>[0.9016666666666666, 0.09166666666666666, 0.0]</td>\n",
       "      <td>2</td>\n",
       "    </tr>\n",
       "    <tr>\n",
       "      <th>44</th>\n",
       "      <td>8</td>\n",
       "      <td>[0.855, 0.13833333333333334, 0.006666666666666...</td>\n",
       "      <td>3</td>\n",
       "    </tr>\n",
       "    <tr>\n",
       "      <th>45</th>\n",
       "      <td>8</td>\n",
       "      <td>[0.715, 0.245, 0.03833333333333333, 0.00166666...</td>\n",
       "      <td>4</td>\n",
       "    </tr>\n",
       "    <tr>\n",
       "      <th>46</th>\n",
       "      <td>8</td>\n",
       "      <td>[0.675, 0.24166666666666667, 0.065, 0.01666666...</td>\n",
       "      <td>5</td>\n",
       "    </tr>\n",
       "    <tr>\n",
       "      <th>47</th>\n",
       "      <td>8</td>\n",
       "      <td>[0.6633333333333333, 0.23, 0.08166666666666667...</td>\n",
       "      <td>6</td>\n",
       "    </tr>\n",
       "  </tbody>\n",
       "</table>\n",
       "</div>"
      ],
      "text/plain": [
       "    depth                                       hamming_dist  width\n",
       "0       1                                        [0.93, 0.0]      1\n",
       "1       1                  [0.865, 0.13333333333333333, 0.0]      2\n",
       "2       1  [0.8633333333333333, 0.13166666666666665, 0.00...      3\n",
       "3       1  [0.7433333333333333, 0.23333333333333334, 0.02...      4\n",
       "4       1  [0.7183333333333334, 0.24833333333333332, 0.03...      5\n",
       "5       1  [0.6766666666666666, 0.2683333333333333, 0.046...      6\n",
       "6       2                          [0.9616666666666667, 0.0]      1\n",
       "7       2     [0.8866666666666667, 0.10833333333333334, 0.0]      2\n",
       "8       2  [0.7883333333333333, 0.20166666666666666, 0.01...      3\n",
       "9       2  [0.7966666666666666, 0.185, 0.0183333333333333...      4\n",
       "10      2  [0.7283333333333334, 0.235, 0.0316666666666666...      5\n",
       "11      2  [0.7066666666666667, 0.23666666666666666, 0.05...      6\n",
       "12      3                                        [0.93, 0.0]      1\n",
       "13      3     [0.8566666666666667, 0.13333333333333333, 0.0]      2\n",
       "14      3  [0.8466666666666667, 0.14333333333333334, 0.01...      3\n",
       "15      3                     [0.765, 0.21, 0.025, 0.0, 0.0]      4\n",
       "16      3  [0.715, 0.24333333333333335, 0.036666666666666...      5\n",
       "17      3  [0.67, 0.27666666666666667, 0.05, 0.0033333333...      6\n",
       "18      4                          [0.9633333333333334, 0.0]      1\n",
       "19      4                                [0.905, 0.095, 0.0]      2\n",
       "20      4  [0.8633333333333333, 0.12166666666666667, 0.01...      3\n",
       "21      4  [0.7483333333333333, 0.22166666666666668, 0.02...      4\n",
       "22      4  [0.7733333333333333, 0.18833333333333332, 0.02...      5\n",
       "23      4  [0.6133333333333333, 0.30333333333333334, 0.06...      6\n",
       "24      5                                        [0.95, 0.0]      1\n",
       "25      5                   [0.88, 0.11666666666666667, 0.0]      2\n",
       "26      5  [0.7666666666666667, 0.22333333333333333, 0.01...      3\n",
       "27      5  [0.7733333333333333, 0.18833333333333332, 0.03...      4\n",
       "28      5  [0.6883333333333334, 0.26, 0.05, 0.00166666666...      5\n",
       "29      5  [0.6816666666666666, 0.255, 0.0433333333333333...      6\n",
       "30      6                                        [0.95, 0.0]      1\n",
       "31      6                    [0.9, 0.09833333333333333, 0.0]      2\n",
       "32      6  [0.81, 0.18333333333333332, 0.0066666666666666...      3\n",
       "33      6                    [0.76, 0.215, 0.02, 0.005, 0.0]      4\n",
       "34      6  [0.6766666666666666, 0.265, 0.04, 0.0133333333...      5\n",
       "35      6  [0.6416666666666667, 0.24833333333333332, 0.08...      6\n",
       "36      7                          [0.9516666666666667, 0.0]      1\n",
       "37      7     [0.8966666666666666, 0.10333333333333333, 0.0]      2\n",
       "38      7  [0.7933333333333333, 0.19333333333333333, 0.01...      3\n",
       "39      7  [0.8133333333333334, 0.15666666666666668, 0.03...      4\n",
       "40      7  [0.7, 0.22333333333333333, 0.055, 0.0166666666...      5\n",
       "41      7  [0.6016666666666667, 0.2816666666666667, 0.08,...      6\n",
       "42      8                                        [0.94, 0.0]      1\n",
       "43      8     [0.9016666666666666, 0.09166666666666666, 0.0]      2\n",
       "44      8  [0.855, 0.13833333333333334, 0.006666666666666...      3\n",
       "45      8  [0.715, 0.245, 0.03833333333333333, 0.00166666...      4\n",
       "46      8  [0.675, 0.24166666666666667, 0.065, 0.01666666...      5\n",
       "47      8  [0.6633333333333333, 0.23, 0.08166666666666667...      6"
      ]
     },
     "execution_count": 7,
     "metadata": {},
     "output_type": "execute_result"
    }
   ],
   "source": [
    "df = pd.DataFrame(data)\n",
    "df"
   ]
  },
  {
   "cell_type": "markdown",
   "metadata": {},
   "source": [
    "# Plot a particular depth and width"
   ]
  },
  {
   "cell_type": "code",
   "execution_count": 8,
   "metadata": {},
   "outputs": [],
   "source": [
    "dep = 2\n",
    "wid = 2\n",
    "\n",
    "distz = get_hamming_dist(df, dep, wid)\n",
    "averaged_distr = distz['hamming_dist'][0]\n",
    "rand_ans_distr = hamming_dist_rand(wid,0)"
   ]
  },
  {
   "cell_type": "code",
   "execution_count": 9,
   "metadata": {},
   "outputs": [
    {
     "data": {
      "image/png": "[encoded data removed]",
      "text/plain": [
       "<matplotlib.figure.Figure at 0x130552fd0>"
      ]
     },
     "metadata": {},
     "output_type": "display_data"
    }
   ],
   "source": [
    "x_labels = np.arange(0, len(averaged_distr))\n",
    "plt.bar(x_labels, averaged_distr, width=0.61, align='center')\n",
    "plt.bar(x_labels, rand_ans_distr, width=0.31, align='center')\n",
    "plt.xticks(x_labels)\n",
    "plt.xlabel('Hamming Weight of Error')\n",
    "plt.ylabel('Relative Frequency of Occurence')\n",
    "plt.ylim([0,1])\n",
    "plt.grid(axis='y', alpha=0.75)\n",
    "plt.legend(['data','random'])\n",
    "plt.title('Depth = {}, Width = {}'.format(dep,wid))\n",
    "plt.show()"
   ]
  },
  {
   "cell_type": "markdown",
   "metadata": {},
   "source": [
    "# For a particular width plot all depths"
   ]
  },
  {
   "cell_type": "code",
   "execution_count": 10,
   "metadata": {},
   "outputs": [],
   "source": [
    "wid = 4\n",
    "hdis = get_hamming_dists_fn_depth(df, wid)"
   ]
  },
  {
   "cell_type": "code",
   "execution_count": 11,
   "metadata": {},
   "outputs": [
    {
     "data": {
      "image/png": "[encoded data removed]",
      "text/plain": [
       "<matplotlib.figure.Figure at 0x13059e668>"
      ]
     },
     "metadata": {},
     "output_type": "display_data"
    }
   ],
   "source": [
    "for hdx in range(0, len(hdis)):\n",
    "    averaged_distr = hdis.iloc[hdx]['hamming_dist']\n",
    "    dep = hdis.iloc[hdx]['depth']\n",
    "    rand_ans_distr = hamming_dist_rand(wid,0)\n",
    "    x_labels = np.arange(0, len(averaged_distr))\n",
    "    plt.subplot(1,len(hdis),hdx+1)\n",
    "    plt.bar(x_labels, averaged_distr, width=0.61, align='center')\n",
    "    plt.bar(x_labels, rand_ans_distr, width=0.31, align='center')\n",
    "    plt.xticks(x_labels)\n",
    "    plt.xlabel('Hamming Weight of Error')\n",
    "    plt.ylabel('Relative Frequency of Occurence')\n",
    "    plt.ylim([0,1])\n",
    "    plt.grid(axis='y', alpha=0.75)\n",
    "    plt.legend(['data','random'])\n",
    "    plt.title('Depth = {}, Width = {}'.format(dep,wid))\n",
    "plt.subplots_adjust(bottom=0.1, right=3.2, top=0.9)\n",
    "plt.show()"
   ]
  },
  {
   "cell_type": "markdown",
   "metadata": {},
   "source": [
    "Now we can study the sucess probablity, i.e. the zero hamming weight entry above as a function of depth. We first need to extract the data fron the data frame."
   ]
  },
  {
   "cell_type": "code",
   "execution_count": 12,
   "metadata": {},
   "outputs": [],
   "source": [
    "num_bit_flips_allowed_from_answer = int(basement_function(np.log2(wid)-1))\n",
    "\n",
    "pcheck = []\n",
    "pcheck_rand = []\n",
    "depth_vec = []\n",
    "pcheck_log_errors = []\n",
    "rand_pcheck_log_errors = []\n",
    "\n",
    "for hdx in range(0, len(hdis)):\n",
    "    averaged_distr = hdis.iloc[hdx]['hamming_dist']\n",
    "    # probablity of getting the correct answer\n",
    "    pcheck.append(averaged_distr[0])\n",
    "    rand_ans_distr = hamming_dist_rand(wid,0)\n",
    "    # probablity of getting the correct by randomly guessing\n",
    "    pcheck_rand.append(rand_ans_distr[0])\n",
    "    # error when you allow for a logarithmic number of bit flips from the true answer\n",
    "    pcheck_log_errors.append(sum([averaged_distr[idx] for idx in range(0,num_bit_flips_allowed_from_answer+1)]))\n",
    "    rand_pcheck_log_errors.append(sum([rand_ans_distr[idx] for idx in range(0,num_bit_flips_allowed_from_answer+1)]))\n",
    "    dep = hdis.iloc[hdx]['depth']\n",
    "    depth_vec.append(dep)"
   ]
  },
  {
   "cell_type": "markdown",
   "metadata": {},
   "source": [
    "Next we will plot the sucess probablity of a circuit with a certain width as a function of depth. "
   ]
  },
  {
   "cell_type": "code",
   "execution_count": 13,
   "metadata": {},
   "outputs": [
    {
     "data": {
      "image/png": "[encoded data removed]",
      "text/plain": [
       "<matplotlib.figure.Figure at 0x130323eb8>"
      ]
     },
     "metadata": {},
     "output_type": "display_data"
    }
   ],
   "source": [
    "plt.scatter(depth_vec,pcheck,label='Sucess Probablity')\n",
    "plt.plot(depth_vec,pcheck_rand,label='random guess')\n",
    "plt.ylim([0,1.05])\n",
    "plt.xlabel('Depth')\n",
    "plt.ylabel('Pr(success)')\n",
    "plt.title('Pr(success) vs Depth for Width = {}'.format(wid))\n",
    "plt.legend()\n",
    "plt.show()"
   ]
  },
  {
   "cell_type": "markdown",
   "metadata": {},
   "source": [
    "Now we allow a logarithmic number of bits to flip from the correct answer and call all such instances \"success\". E.g.\n",
    "\n",
    "The logarithmic number of bits that we allow to flip is defined by the \"basement\" of \n",
    "\n",
    "$\\log_2 ({\\rm number\\ of\\ bits}) -1$\n",
    "\n",
    "where the basement of a number is ${\\rm basement(number)} = 0$ if number$<=0$ and ${\\rm basement(number)} = {\\rm floor (number)}$.\n",
    "\n",
    "\n",
    "Supose we have a circuit of width 4, this means correct string has four bits, e.g. 1010. Then a logarithmic number of flips is $\\log_2(4)-1 = 1$.\n",
    "\n",
    "So any string with hamming weight zero or one counts as a success.\n",
    "\n",
    "Such error metrics might be important in noisy near term algorithms where getting the exact answer is not vital."
   ]
  },
  {
   "cell_type": "code",
   "execution_count": 14,
   "metadata": {},
   "outputs": [
    {
     "data": {
      "image/png": "[encoded data removed]",
      "text/plain": [
       "<matplotlib.figure.Figure at 0x13049f2b0>"
      ]
     },
     "metadata": {},
     "output_type": "display_data"
    }
   ],
   "source": [
    "plt.figure()\n",
    "plt.scatter(depth_vec,pcheck_log_errors,label='Sucess Probablity + log errors')\n",
    "plt.plot(depth_vec,rand_pcheck_log_errors,label='random guess + log errors')\n",
    "plt.ylim([0,1.05])\n",
    "plt.xlabel('Depth')\n",
    "plt.ylabel('Pr(success+log errors)')\n",
    "plt.title('Pr(success+log errors) vs Depth for Width = {}'.format(wid))\n",
    "plt.legend()\n",
    "plt.show()"
   ]
  },
  {
   "cell_type": "markdown",
   "metadata": {},
   "source": [
    "# Plot depth = width"
   ]
  },
  {
   "cell_type": "code",
   "execution_count": 15,
   "metadata": {},
   "outputs": [
    {
     "data": {
      "image/png": "[encoded data removed]",
      "text/plain": [
       "<matplotlib.figure.Figure at 0x1319ff7f0>"
      ]
     },
     "metadata": {},
     "output_type": "display_data"
    }
   ],
   "source": [
    "max_idx = min([max(df['depth']),max(df['width'])])\n",
    "\n",
    "for idx in range(1,max_idx+1):\n",
    "    hdis = get_hamming_dist(df, idx, idx)\n",
    "    averaged_distr = hdis['hamming_dist'][0]\n",
    "    dep = hdis['depth'][0]\n",
    "    wid = hdis['width'][0]\n",
    "    rand_ans_distr = hamming_dist_rand(idx,0)\n",
    "    x_labels = np.arange(0, len(averaged_distr))\n",
    "    plt.subplot(1,max_idx,idx)\n",
    "    plt.bar(x_labels, averaged_distr, width=0.61, align='center')\n",
    "    plt.bar(x_labels, rand_ans_distr, width=0.31, align='center')\n",
    "    plt.xticks(x_labels)\n",
    "    plt.xlabel('Hamming Weight of Error')\n",
    "    plt.ylabel('Relative Frequency of Occurence')\n",
    "    plt.ylim([0,1])\n",
    "    plt.grid(axis='y', alpha=0.75)\n",
    "    plt.legend(['data','random'])\n",
    "    plt.title('Depth = {}, Width = {}'.format(dep,wid))\n",
    "plt.subplots_adjust(bottom=0.1, right=3.2, top=0.9)\n",
    "plt.show()"
   ]
  },
  {
   "cell_type": "markdown",
   "metadata": {},
   "source": [
    "# Plot success probablity landscape"
   ]
  },
  {
   "cell_type": "markdown",
   "metadata": {},
   "source": [
    "This is just the success probablity as a function of depth and width."
   ]
  },
  {
   "cell_type": "code",
   "execution_count": 16,
   "metadata": {},
   "outputs": [
    {
     "data": {
      "text/plain": [
       "(48, 2)"
      ]
     },
     "execution_count": 16,
     "metadata": {},
     "output_type": "execute_result"
    }
   ],
   "source": [
    "points = np.vstack((df['depth'].values, df['width'].values)).T\n",
    "points.shape"
   ]
  },
  {
   "cell_type": "code",
   "execution_count": 17,
   "metadata": {},
   "outputs": [
    {
     "data": {
      "text/plain": [
       "array([0.93      , 0.865     , 0.86333333, 0.74333333, 0.71833333,\n",
       "       0.67666667, 0.96166667, 0.88666667, 0.78833333, 0.79666667,\n",
       "       0.72833333, 0.70666667, 0.93      , 0.85666667, 0.84666667,\n",
       "       0.765     , 0.715     , 0.67      , 0.96333333, 0.905     ,\n",
       "       0.86333333, 0.74833333, 0.77333333, 0.61333333, 0.95      ,\n",
       "       0.88      , 0.76666667, 0.77333333, 0.68833333, 0.68166667,\n",
       "       0.95      , 0.9       , 0.81      , 0.76      , 0.67666667,\n",
       "       0.64166667, 0.95166667, 0.89666667, 0.79333333, 0.81333333,\n",
       "       0.7       , 0.60166667, 0.94      , 0.90166667, 0.855     ,\n",
       "       0.715     , 0.675     , 0.66333333])"
      ]
     },
     "execution_count": 17,
     "metadata": {},
     "output_type": "execute_result"
    }
   ],
   "source": [
    "# df['hamming_dist'][0] returns the array\n",
    "# df['hamming_dist'][0][0] returns the first element of the array\n",
    "values = np.asarray([df['hamming_dist'][idx][0] for idx in df.index])\n",
    "values"
   ]
  },
  {
   "cell_type": "code",
   "execution_count": 18,
   "metadata": {},
   "outputs": [
    {
     "data": {
      "text/plain": [
       "(48,)"
      ]
     },
     "execution_count": 18,
     "metadata": {},
     "output_type": "execute_result"
    }
   ],
   "source": [
    "rand_width = [hamming_dist_rand(idx, 0)[0] for idx in range(1,circuit_width+1)]\n",
    "rand_width\n",
    "\n",
    "values_rand = np.asarray([item for sublist in [rand_width for ddx in range(1,circuit_depth+1)] for item in sublist])\n",
    "values_rand.shape"
   ]
  },
  {
   "cell_type": "code",
   "execution_count": 19,
   "metadata": {},
   "outputs": [
    {
     "data": {
      "image/png": "[encoded data removed]",
      "text/plain": [
       "<matplotlib.figure.Figure at 0x130507b70>"
      ]
     },
     "metadata": {},
     "output_type": "display_data"
    }
   ],
   "source": [
    "xx, yy, zz = interpolate_2d_landscape(points, values)\n",
    "\n",
    "ax = plt.gca()\n",
    "img = ax.imshow(zz, interpolation='none',\n",
    "                extent=(xx[0, 0], xx[0, -1], yy[0, 0], yy[-1, 0]),\n",
    "                cmap='viridis', origin='lowerleft', norm=plt.Normalize(None, None))\n",
    "plt.colorbar(img, ax=ax)\n",
    "plt.xlabel('Depth')\n",
    "plt.ylabel('Width')\n",
    "plt.title('Success Probability')\n",
    "plt.show()"
   ]
  },
  {
   "cell_type": "code",
   "execution_count": 20,
   "metadata": {},
   "outputs": [
    {
     "name": "stdout",
     "output_type": "stream",
     "text": [
      "(48, 2)\n"
     ]
    },
    {
     "data": {
      "image/png": "[encoded data removed]",
      "text/plain": [
       "<matplotlib.figure.Figure at 0x1305a59e8>"
      ]
     },
     "metadata": {},
     "output_type": "display_data"
    }
   ],
   "source": [
    "print(points.shape)\n",
    "xx, yy, zz = interpolate_2d_landscape(points, values_rand)\n",
    "\n",
    "ax = plt.gca()\n",
    "img = ax.imshow(zz, interpolation='none',\n",
    "                extent=(xx[0, 0], xx[0, -1], yy[0, 0], yy[-1, 0]),\n",
    "                cmap='viridis', origin='lowerleft', norm=plt.Normalize(None, None))\n",
    "plt.colorbar(img, ax=ax)\n",
    "plt.xlabel('Depth')\n",
    "plt.ylabel('Width')\n",
    "plt.title('Success Probability for Random guess')\n",
    "plt.show()"
   ]
  },
  {
   "cell_type": "code",
   "execution_count": null,
   "metadata": {},
   "outputs": [],
   "source": []
  }
 ],
 "metadata": {
  "kernelspec": {
   "display_name": "Python 3",
   "language": "python",
   "name": "python3"
  },
  "language_info": {
   "codemirror_mode": {
    "name": "ipython",
    "version": 3
   },
   "file_extension": ".py",
   "mimetype": "text/x-python",
   "name": "python",
   "nbconvert_exporter": "python",
   "pygments_lexer": "ipython3",
   "version": "3.6.3"
  }
 },
 "nbformat": 4,
 "nbformat_minor": 2
}
