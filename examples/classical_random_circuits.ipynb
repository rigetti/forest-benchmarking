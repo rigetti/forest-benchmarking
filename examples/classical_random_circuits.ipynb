{
 "cells": [
  {
   "cell_type": "markdown",
   "metadata": {},
   "source": [
    "# Classical Random Circuits\n",
    "\n",
    "Here we use classical circuits to get a handle on error rates.\n",
    "\n",
    "This module that generates classical random circuits (that are not universal) on a graph which represents the QPU or QVM lattice. The basic idea is it will compute error rates of circuits as a function of depth and width.\n",
    "\n",
    "The `width` of the circuit is the number of connected vertices on a particular subgraph.\n",
    "\n",
    "The `depth` is defined in an unusual way. We consider a \"depth 1\" circuit to be a round of X gates randomly applied or not to a particular vertex AND a round of CNOTs randomly applied or not to each edge of the graph.\n",
    "\n",
    "The circuit can also be executed in the X basis."
   ]
  },
  {
   "cell_type": "markdown",
   "metadata": {},
   "source": [
    "## Imports"
   ]
  },
  {
   "cell_type": "code",
   "execution_count": null,
   "metadata": {},
   "outputs": [],
   "source": [
    "import random\n",
    "import itertools\n",
    "import networkx as nx\n",
    "import numpy as np\n",
    "import pandas as pd\n",
    "import time\n",
    "from scipy.spatial.distance import hamming\n",
    "import scipy.interpolate\n",
    "\n",
    "from matplotlib import pyplot as plt\n",
    "from pyquil.api import get_qc, QuantumComputer\n",
    "from pyquil.gates import CNOT, CCNOT, X, I, H, CZ, MEASURE, RESET\n",
    "from pyquil.quilbase import Pragma\n",
    "\n",
    "from forest_benchmarking.classical_random_circuits import *"
   ]
  },
  {
   "cell_type": "markdown",
   "metadata": {},
   "source": [
    "## Get lattice"
   ]
  },
  {
   "cell_type": "code",
   "execution_count": null,
   "metadata": {},
   "outputs": [],
   "source": [
    "# if you want to run on a \"real lattice\"\n",
    "#from pyquil import *\n",
    "#list_quantum_computers()\n",
    "qc_perfect = get_qc(\"Aspen-1-15Q-A\", as_qvm=True, noisy=False)\n",
    "#qc_noisy = get_qc(\"Aspen-1-15Q-A\") #, as_qvm=True, noisy=True)\n",
    "\n",
    "#qc_perfect = get_qc(\"9q-square-qvm\", as_qvm=True, noisy=False)\n",
    "#qc_noisy = get_qc(\"9q-square-qvm\", as_qvm=True, noisy=True)"
   ]
  },
  {
   "cell_type": "code",
   "execution_count": null,
   "metadata": {},
   "outputs": [],
   "source": [
    "nx.draw(qc_perfect.qubit_topology(),with_labels=True)"
   ]
  },
  {
   "cell_type": "code",
   "execution_count": null,
   "metadata": {},
   "outputs": [],
   "source": [
    "print(qc_noisy.qubits())\n",
    "len(qc_noisy.qubits())\n"
   ]
  },
  {
   "cell_type": "code",
   "execution_count": null,
   "metadata": {},
   "outputs": [],
   "source": [
    "aspen_1_specs = qc_noisy.device.get_specs()\n",
    "aspen_1_specs"
   ]
  },
  {
   "cell_type": "markdown",
   "metadata": {},
   "source": [
    "# Plot the distribution of sublattice widths"
   ]
  },
  {
   "cell_type": "code",
   "execution_count": null,
   "metadata": {},
   "outputs": [],
   "source": [
    "G = qc_perfect.qubit_topology()\n",
    "len(qc_perfect.qubit_topology())\n",
    "# distribution of graph lengths\n",
    "disty = []\n",
    "for gdx in range(1,len(G.nodes)+1):\n",
    "    listg = generate_connected_subgraphs(G,gdx)\n",
    "    disty.append(len(listg))\n",
    "\n",
    "cir_wid = list(range(1,len(G.nodes)+1))\n",
    "plt.bar(cir_wid, disty, width=0.61, align='center')\n",
    "plt.xticks(cir_wid)\n",
    "plt.xlabel('sublattice / circuit width')\n",
    "plt.ylabel('Frequency of Occurence')\n",
    "plt.grid(axis='y', alpha=0.75)\n",
    "plt.title('Distribution of sublattice widths')\n",
    "disty"
   ]
  },
  {
   "cell_type": "markdown",
   "metadata": {},
   "source": [
    "# Acquire data in Z basis"
   ]
  },
  {
   "cell_type": "code",
   "execution_count": null,
   "metadata": {},
   "outputs": [],
   "source": [
    "# with these parameters the cell below takes about 1 hour 40 minutes\n",
    "num_shots_per_circuit = 400\n",
    "num_rand_subgraphs = 16\n",
    "circuit_depth = 18\n",
    "circuit_width = 15 #max = len(G.nodes)\n",
    "x_basis = False\n",
    "active_reset = True"
   ]
  },
  {
   "cell_type": "code",
   "execution_count": null,
   "metadata": {},
   "outputs": [],
   "source": [
    "t0 = time.time()\n",
    "data_zbasis = get_random_classical_circuit_results(qc_perfect, qc_noisy, circuit_depth, circuit_width, num_rand_subgraphs, num_shots_per_circuit, use_active_reset=active_reset)\n",
    "t1 = time.time()\n",
    "total = t1-t0\n",
    "print(total)"
   ]
  },
  {
   "cell_type": "code",
   "execution_count": null,
   "metadata": {},
   "outputs": [],
   "source": [
    "6077/60"
   ]
  },
  {
   "cell_type": "code",
   "execution_count": null,
   "metadata": {},
   "outputs": [],
   "source": [
    "dfz = pd.DataFrame(data_zbasis)\n",
    "dfz.to_pickle(\"data_z_Aspen_1_15Q_A_2019_02_09.pkl\")"
   ]
  },
  {
   "cell_type": "code",
   "execution_count": null,
   "metadata": {},
   "outputs": [],
   "source": [
    "df = pd.read_pickle('data_z_Aspen_1_15Q_A_2019_02_09.pkl')"
   ]
  },
  {
   "cell_type": "markdown",
   "metadata": {},
   "source": [
    "# Acquire data in X basis"
   ]
  },
  {
   "cell_type": "code",
   "execution_count": null,
   "metadata": {},
   "outputs": [],
   "source": [
    "x_basis = True"
   ]
  },
  {
   "cell_type": "code",
   "execution_count": null,
   "metadata": {},
   "outputs": [],
   "source": [
    "t0x = time.time()\n",
    "data_xbasis = get_random_classical_circuit_results(qc_perfect, qc_noisy, circuit_depth, circuit_width, num_rand_subgraphs, num_shots_per_circuit, use_active_reset=active_reset,in_x_basis=x_basis)\n",
    "t1x = time.time()\n",
    "totalx = t1x-t0x\n",
    "print(totalx)"
   ]
  },
  {
   "cell_type": "code",
   "execution_count": null,
   "metadata": {},
   "outputs": [],
   "source": [
    "dfx = pd.DataFrame(data_xbasis)\n",
    "dfx.to_pickle(\"data_x_Aspen_1_15Q_A_2019_02_09.pkl\")"
   ]
  },
  {
   "cell_type": "markdown",
   "metadata": {},
   "source": [
    "Now put the data into a dataframe"
   ]
  },
  {
   "cell_type": "code",
   "execution_count": null,
   "metadata": {},
   "outputs": [],
   "source": []
  },
  {
   "cell_type": "code",
   "execution_count": null,
   "metadata": {},
   "outputs": [],
   "source": [
    "#df = pd.read_csv('something.csv')\n",
    "#df = pd.read_pickle('somethingelse_whichisthesame.p')"
   ]
  },
  {
   "cell_type": "markdown",
   "metadata": {},
   "source": [
    "# Plot a particular depth and width"
   ]
  },
  {
   "cell_type": "code",
   "execution_count": null,
   "metadata": {},
   "outputs": [],
   "source": [
    "dep = 18\n",
    "wid = 3\n",
    "\n",
    "distz = get_hamming_dist(df, dep, wid)\n",
    "averaged_distr = distz['hamming_dist'][0]\n",
    "rand_ans_distr = hamming_dist_rand(wid,0)"
   ]
  },
  {
   "cell_type": "code",
   "execution_count": null,
   "metadata": {},
   "outputs": [],
   "source": [
    "x_labels = np.arange(0, len(averaged_distr))\n",
    "plt.bar(x_labels, averaged_distr, width=0.61, align='center')\n",
    "plt.bar(x_labels, rand_ans_distr, width=0.31, align='center')\n",
    "plt.xticks(x_labels)\n",
    "plt.xlabel('Hamming Weight of Error')\n",
    "plt.ylabel('Relative Frequency of Occurence')\n",
    "plt.ylim([0,1])\n",
    "plt.grid(axis='y', alpha=0.75)\n",
    "plt.legend(['data','random'])\n",
    "plt.title('Depth = {}, Width = {}'.format(dep,wid))\n",
    "plt.show()"
   ]
  },
  {
   "cell_type": "markdown",
   "metadata": {},
   "source": [
    "# For a particular width plot all depths"
   ]
  },
  {
   "cell_type": "code",
   "execution_count": null,
   "metadata": {},
   "outputs": [],
   "source": [
    "wid = 4\n",
    "hdis = get_hamming_dists_fn_depth(df, wid)"
   ]
  },
  {
   "cell_type": "code",
   "execution_count": null,
   "metadata": {},
   "outputs": [],
   "source": [
    "for hdx in range(0, len(hdis)):\n",
    "    averaged_distr = hdis.iloc[hdx]['hamming_dist']\n",
    "    dep = hdis.iloc[hdx]['depth']\n",
    "    rand_ans_distr = hamming_dist_rand(wid,0)\n",
    "    x_labels = np.arange(0, len(averaged_distr))\n",
    "    plt.subplot(1,len(hdis),hdx+1)\n",
    "    plt.bar(x_labels, averaged_distr, width=0.61, align='center')\n",
    "    plt.bar(x_labels, rand_ans_distr, width=0.31, align='center')\n",
    "    plt.xticks(x_labels)\n",
    "    plt.xlabel('Hamming Weight of Error')\n",
    "    plt.ylabel('Relative Frequency of Occurence')\n",
    "    plt.ylim([0,1])\n",
    "    plt.grid(axis='y', alpha=0.75)\n",
    "    plt.legend(['data','random'])\n",
    "    plt.title('Depth = {}, Width = {}'.format(dep,wid))\n",
    "plt.subplots_adjust(bottom=0.1, right=3.2, top=0.9)\n",
    "plt.show()"
   ]
  },
  {
   "cell_type": "markdown",
   "metadata": {},
   "source": [
    "Now we can study the sucess probablity, i.e. the zero hamming weight entry above as a function of depth. We first need to extract the data fron the data frame."
   ]
  },
  {
   "cell_type": "code",
   "execution_count": null,
   "metadata": {},
   "outputs": [],
   "source": [
    "num_bit_flips_allowed_from_answer = int(basement_function(np.log2(wid)-1))\n",
    "\n",
    "pcheck = []\n",
    "pcheck_rand = []\n",
    "depth_vec = []\n",
    "pcheck_log_errors = []\n",
    "rand_pcheck_log_errors = []\n",
    "\n",
    "for hdx in range(0, len(hdis)):\n",
    "    averaged_distr = hdis.iloc[hdx]['hamming_dist']\n",
    "    # probablity of getting the correct answer\n",
    "    pcheck.append(averaged_distr[0])\n",
    "    rand_ans_distr = hamming_dist_rand(wid,0)\n",
    "    # probablity of getting the correct by randomly guessing\n",
    "    pcheck_rand.append(rand_ans_distr[0])\n",
    "    # error when you allow for a logarithmic number of bit flips from the true answer\n",
    "    pcheck_log_errors.append(sum([averaged_distr[idx] for idx in range(0,num_bit_flips_allowed_from_answer+1)]))\n",
    "    rand_pcheck_log_errors.append(sum([rand_ans_distr[idx] for idx in range(0,num_bit_flips_allowed_from_answer+1)]))\n",
    "    dep = hdis.iloc[hdx]['depth']\n",
    "    depth_vec.append(dep)"
   ]
  },
  {
   "cell_type": "markdown",
   "metadata": {},
   "source": [
    "Next we will plot the sucess probablity of a circuit with a certain width as a function of depth. "
   ]
  },
  {
   "cell_type": "code",
   "execution_count": null,
   "metadata": {},
   "outputs": [],
   "source": [
    "plt.scatter(depth_vec,pcheck,label='Sucess Probablity')\n",
    "plt.plot(depth_vec,pcheck_rand,label='random guess')\n",
    "plt.ylim([-0.05,1.05])\n",
    "plt.xlabel('Depth')\n",
    "plt.ylabel('Pr(success)')\n",
    "plt.title('Pr(success) vs Depth for Width = {}'.format(wid))\n",
    "plt.legend()\n",
    "plt.show()"
   ]
  },
  {
   "cell_type": "markdown",
   "metadata": {},
   "source": [
    "Now we allow a logarithmic number of bits to flip from the correct answer and call all such instances \"success\". E.g.\n",
    "\n",
    "The logarithmic number of bits that we allow to flip is defined by the \"basement\" of \n",
    "\n",
    "$\\log_2 ({\\rm number\\ of\\ bits}) -1$\n",
    "\n",
    "where the basement of a number is ${\\rm basement(number)} = 0$ if number$<=0$ and ${\\rm basement(number)} = {\\rm floor (number)}$.\n",
    "\n",
    "\n",
    "Supose we have a circuit of width 4, this means correct string has four bits, e.g. 1010. Then a logarithmic number of flips is $\\log_2(4)-1 = 1$.\n",
    "\n",
    "So any string with hamming weight zero or one counts as a success.\n",
    "\n",
    "Such error metrics might be important in noisy near term algorithms where getting the exact answer is not vital."
   ]
  },
  {
   "cell_type": "code",
   "execution_count": null,
   "metadata": {},
   "outputs": [],
   "source": [
    "plt.figure()\n",
    "plt.scatter(depth_vec,pcheck_log_errors,label='Sucess Probablity + log errors')\n",
    "plt.plot(depth_vec,rand_pcheck_log_errors,label='random guess + log errors')\n",
    "plt.ylim([-0.05,1.05])\n",
    "plt.xlabel('Depth')\n",
    "plt.ylabel('Pr(success+log errors)')\n",
    "plt.title('Pr(success+log errors) vs Depth for Width = {}'.format(wid))\n",
    "plt.legend()\n",
    "plt.show()"
   ]
  },
  {
   "cell_type": "markdown",
   "metadata": {},
   "source": [
    "# Plot depth = width"
   ]
  },
  {
   "cell_type": "code",
   "execution_count": null,
   "metadata": {},
   "outputs": [],
   "source": [
    "max_idx = min([max(df['depth']),max(df['width'])])\n",
    "\n",
    "for idx in range(1,max_idx+1):\n",
    "    hdis = get_hamming_dist(df, idx, idx)\n",
    "    averaged_distr = hdis['hamming_dist'][0]\n",
    "    dep = hdis['depth'][0]\n",
    "    wid = hdis['width'][0]\n",
    "    rand_ans_distr = hamming_dist_rand(idx,0)\n",
    "    x_labels = np.arange(0, len(averaged_distr))\n",
    "    plt.subplot(1,max_idx,idx)\n",
    "    plt.bar(x_labels, averaged_distr, width=0.61, align='center')\n",
    "    plt.bar(x_labels, rand_ans_distr, width=0.31, align='center')\n",
    "    plt.xticks(x_labels)\n",
    "    plt.xlabel('Hamming Weight of Error')\n",
    "    plt.ylabel('Relative Frequency of Occurence')\n",
    "    plt.ylim([0,1])\n",
    "    plt.grid(axis='y', alpha=0.75)\n",
    "    plt.legend(['data','random'])\n",
    "    plt.title('Depth = {}, Width = {}'.format(dep,wid))\n",
    "plt.subplots_adjust(bottom=0.1, right=3.2, top=0.9)\n",
    "plt.show()"
   ]
  },
  {
   "cell_type": "markdown",
   "metadata": {},
   "source": [
    "# Plot success probablity landscape"
   ]
  },
  {
   "cell_type": "markdown",
   "metadata": {},
   "source": [
    "This is just the success probablity as a function of depth and width."
   ]
  },
  {
   "cell_type": "code",
   "execution_count": null,
   "metadata": {},
   "outputs": [],
   "source": [
    "points = np.vstack((df['depth'].values, df['width'].values)).T\n",
    "points.shape"
   ]
  },
  {
   "cell_type": "code",
   "execution_count": null,
   "metadata": {},
   "outputs": [],
   "source": [
    "# df['hamming_dist'][0] returns the array\n",
    "# df['hamming_dist'][0][0] returns the first element of the array\n",
    "values = np.asarray([df['hamming_dist'][idx][0] for idx in df.index])\n",
    "values"
   ]
  },
  {
   "cell_type": "code",
   "execution_count": null,
   "metadata": {},
   "outputs": [],
   "source": [
    "rand_width = [hamming_dist_rand(idx, 0)[0] for idx in range(1,circuit_width+1)]\n",
    "rand_width\n",
    "\n",
    "values_rand = np.asarray([item for sublist in [rand_width for ddx in range(1,circuit_depth+1)] for item in sublist])\n",
    "values_rand.shape"
   ]
  },
  {
   "cell_type": "code",
   "execution_count": null,
   "metadata": {},
   "outputs": [],
   "source": [
    "depth_mesh, width_mesh, dataz_mesh = interpolate_2d_landscape(points, values)"
   ]
  },
  {
   "cell_type": "code",
   "execution_count": null,
   "metadata": {},
   "outputs": [],
   "source": [
    "plt.contourf(depth_mesh,width_mesh,dataz_mesh>0.5)"
   ]
  },
  {
   "cell_type": "code",
   "execution_count": null,
   "metadata": {},
   "outputs": [],
   "source": [
    "plt.contourf(depth_mesh,width_mesh,dataz_mesh)\n",
    "plt.xticks(list(range(1,circuit_depth+1)))\n",
    "plt.yticks(list(range(1,circuit_width+1)))\n",
    "#plt.grid()\n",
    "plt.colorbar()\n",
    "plt.show()"
   ]
  },
  {
   "cell_type": "code",
   "execution_count": null,
   "metadata": {},
   "outputs": [],
   "source": []
  },
  {
   "cell_type": "code",
   "execution_count": null,
   "metadata": {},
   "outputs": [],
   "source": [
    "\n",
    "ax = plt.gca()\n",
    "img = ax.imshow(dataz_mesh, interpolation='none',\n",
    "                extent=(depth_mesh[0, 0], depth_mesh[0, -1], width_mesh[0, 0], width_mesh[-1, 0]),\n",
    "                cmap='viridis', origin='lowerleft', norm=plt.Normalize(None, None))\n",
    "plt.colorbar(img, ax=ax)\n",
    "plt.xlabel('Depth')\n",
    "plt.ylabel('Width')\n",
    "plt.title('Success Probability')\n",
    "plt.show()"
   ]
  },
  {
   "cell_type": "code",
   "execution_count": null,
   "metadata": {},
   "outputs": [],
   "source": [
    "print(points.shape)\n",
    "xx_rand, yy_rand, zz_rand = interpolate_2d_landscape(points, values_rand)\n",
    "\n",
    "ax = plt.gca()\n",
    "img = ax.imshow(zz_rand, interpolation='none',\n",
    "                extent=(xx_rand[0, 0], xx_rand[0, -1], yy_rand[0, 0], yy_rand[-1, 0]),\n",
    "                cmap='viridis', origin='lowerleft', norm=plt.Normalize(None, None))\n",
    "plt.colorbar(img, ax=ax)\n",
    "plt.xlabel('Depth')\n",
    "plt.ylabel('Width')\n",
    "plt.title('Success Probability for Random guess')\n",
    "plt.show()"
   ]
  },
  {
   "cell_type": "markdown",
   "metadata": {},
   "source": [
    "# Data exploration"
   ]
  },
  {
   "cell_type": "code",
   "execution_count": null,
   "metadata": {},
   "outputs": [],
   "source": [
    "from scipy.optimize import curve_fit"
   ]
  },
  {
   "cell_type": "code",
   "execution_count": null,
   "metadata": {},
   "outputs": [],
   "source": [
    "size = width_mesh.shape\n",
    "width_1d = width_mesh.reshape((1,np.prod(size)))\n",
    "depth_1d = depth_mesh.reshape((1,np.prod(size)))"
   ]
  },
  {
   "cell_type": "code",
   "execution_count": null,
   "metadata": {},
   "outputs": [],
   "source": [
    "data_1d = dataz_mesh.reshape((1,np.prod(size)))\n",
    "data_1d.shape"
   ]
  },
  {
   "cell_type": "code",
   "execution_count": null,
   "metadata": {},
   "outputs": [],
   "source": [
    "xdata = np.vstack((width_1d, depth_1d))"
   ]
  },
  {
   "cell_type": "code",
   "execution_count": null,
   "metadata": {},
   "outputs": [],
   "source": [
    "xdata.shape"
   ]
  },
  {
   "cell_type": "code",
   "execution_count": null,
   "metadata": {},
   "outputs": [],
   "source": [
    "print(data_1d.shape)\n",
    "test = data_1d.ravel()\n",
    "print(test.shape)"
   ]
  },
  {
   "cell_type": "markdown",
   "metadata": {},
   "source": [
    "## Fitting models"
   ]
  },
  {
   "cell_type": "markdown",
   "metadata": {},
   "source": [
    "Two parameter model \n",
    "\n",
    "\n",
    "$f(W,D,p_W,p_D) =  (1-p_W)^W * (1-p_D)^D $\n",
    "\n",
    "The fidelity is proporional to $1 - p$"
   ]
  },
  {
   "cell_type": "code",
   "execution_count": null,
   "metadata": {},
   "outputs": [],
   "source": [
    "def two_param(x,pw,pd):\n",
    "    dim = int(np.sqrt(x[0].size))\n",
    "    width = x[0].reshape(dim,dim)\n",
    "    depth = x[1].reshape(dim,dim)\n",
    "    pcheck = (1-pw)**(width) * (1-pd)**depth\n",
    "    rpcheck = pcheck.reshape((1,dim*dim))\n",
    "    return rpcheck.ravel()"
   ]
  },
  {
   "cell_type": "markdown",
   "metadata": {},
   "source": [
    "One parameter model\n",
    "\n",
    "$f(W,D,p) =  (1-p)^{W * D} $"
   ]
  },
  {
   "cell_type": "code",
   "execution_count": null,
   "metadata": {},
   "outputs": [],
   "source": [
    "def one_param(x,p):\n",
    "    dim = int(np.sqrt(x[0].size))\n",
    "    width = x[0].reshape(dim,dim)\n",
    "    depth = x[1].reshape(dim,dim)\n",
    "    pcheck = (1-p)**(width*depth)\n",
    "    rpcheck = pcheck.reshape((1,dim*dim))\n",
    "    return rpcheck.ravel()"
   ]
  },
  {
   "cell_type": "markdown",
   "metadata": {},
   "source": [
    "From my prior work a better model to fit to is\n",
    "\n",
    "Pcheck$(W,D,p,a,b,c) = \\exp[ -(a p^2 + b p + c)* W*D] $\n"
   ]
  },
  {
   "cell_type": "code",
   "execution_count": null,
   "metadata": {},
   "outputs": [],
   "source": [
    "def two_param_exp(x,p,a,b):\n",
    "    dim = int(np.sqrt(x[0].size))\n",
    "    width = x[0].reshape(dim,dim)\n",
    "    depth = x[1].reshape(dim,dim)\n",
    "    pcheck = np.exp(-(a*p*p + b * p ) * width * depth)\n",
    "    rpcheck = pcheck.reshape((1,dim*dim))\n",
    "    return rpcheck.ravel()"
   ]
  },
  {
   "cell_type": "markdown",
   "metadata": {},
   "source": [
    "**Start with one paramter model**"
   ]
  },
  {
   "cell_type": "code",
   "execution_count": null,
   "metadata": {},
   "outputs": [],
   "source": [
    "pguess = 0.1\n",
    "popt, pcov = curve_fit(one_param, xdata, data_1d.ravel(), p0=pguess, bounds=(0, 1))"
   ]
  },
  {
   "cell_type": "code",
   "execution_count": null,
   "metadata": {},
   "outputs": [],
   "source": [
    "print('The estimated error is p = ', str(np.round(popt[0],4)))\n",
    "print('The estimated product of the one and two qubit fidelity is F = ', str(1-np.round(popt[0],4)))\n",
    "#print('The one standard deviation on the estimate is ', str(np.round(np.sqrt(np.diag(pcov)[0]),5)))"
   ]
  },
  {
   "cell_type": "code",
   "execution_count": null,
   "metadata": {},
   "outputs": [],
   "source": [
    "zfit = one_param(xdata,popt)\n",
    "Z_fit = zfit.reshape(size)"
   ]
  },
  {
   "cell_type": "code",
   "execution_count": null,
   "metadata": {},
   "outputs": [],
   "source": [
    "plt.pcolormesh(depth_mesh,width_mesh, Z_fit)\n",
    "plt.xticks(list(range(1,circuit_depth+1)))\n",
    "plt.yticks(list(range(1,circuit_width+1)))\n",
    "plt.colorbar()\n",
    "plt.show()"
   ]
  },
  {
   "cell_type": "code",
   "execution_count": null,
   "metadata": {},
   "outputs": [],
   "source": [
    "plt.contourf(depth_mesh,width_mesh,dataz_mesh)\n",
    "plt.xticks(list(range(1,circuit_depth+1)))\n",
    "plt.yticks(list(range(1,circuit_width+1)))\n",
    "plt.colorbar()\n",
    "plt.show()"
   ]
  },
  {
   "cell_type": "markdown",
   "metadata": {},
   "source": [
    "**Two parameter model**"
   ]
  },
  {
   "cell_type": "code",
   "execution_count": null,
   "metadata": {},
   "outputs": [],
   "source": [
    "pguess2d = [0.1, 0.1]"
   ]
  },
  {
   "cell_type": "code",
   "execution_count": null,
   "metadata": {},
   "outputs": [],
   "source": [
    "popt2d, pcov2d = curve_fit(two_param, xdata, data_1d.ravel(), p0=pguess2d , bounds=(0., 1))"
   ]
  },
  {
   "cell_type": "code",
   "execution_count": null,
   "metadata": {},
   "outputs": [],
   "source": [
    "popt2d"
   ]
  },
  {
   "cell_type": "code",
   "execution_count": null,
   "metadata": {},
   "outputs": [],
   "source": [
    "zfit2d = two_param(xdata,popt2d[0],popt2d[1])\n",
    "Z_fit2d = zfit2d.reshape(size)"
   ]
  },
  {
   "cell_type": "code",
   "execution_count": null,
   "metadata": {},
   "outputs": [],
   "source": [
    "plt.pcolormesh(depth_mesh,width_mesh, Z_fit2d)\n",
    "plt.xticks(list(range(1,circuit_depth+1)))\n",
    "plt.yticks(list(range(1,circuit_width+1)))\n",
    "plt.colorbar()\n",
    "plt.show()"
   ]
  },
  {
   "cell_type": "code",
   "execution_count": null,
   "metadata": {},
   "outputs": [],
   "source": []
  }
 ],
 "metadata": {
  "kernelspec": {
   "display_name": "Python 3",
   "language": "python",
   "name": "python3"
  },
  "language_info": {
   "codemirror_mode": {
    "name": "ipython",
    "version": 3
   },
   "file_extension": ".py",
   "mimetype": "text/x-python",
   "name": "python",
   "nbconvert_exporter": "python",
   "pygments_lexer": "ipython3",
   "version": "3.6.3"
  }
 },
 "nbformat": 4,
 "nbformat_minor": 2
}
