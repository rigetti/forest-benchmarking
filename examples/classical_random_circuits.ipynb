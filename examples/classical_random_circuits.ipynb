{
 "cells": [
  {
   "cell_type": "markdown",
   "metadata": {},
   "source": [
    "# Classical Random Circuits\n",
    "\n",
    "Here we use classical circuits to get a handle on error rates."
   ]
  },
  {
   "cell_type": "markdown",
   "metadata": {},
   "source": [
    "## setup"
   ]
  },
  {
   "cell_type": "code",
   "execution_count": 5,
   "metadata": {},
   "outputs": [],
   "source": [
    "import os\n",
    "import random\n",
    "from typing import List\n",
    "import itertools\n",
    "import networkx as nx\n",
    "import numpy as np\n",
    "import pandas as pd\n",
    "from matplotlib import pyplot as plt\n",
    "from pyquil.api import get_qc, QuantumComputer\n",
    "from pyquil.gates import CNOT, CCNOT, X, I, H, CZ, MEASURE, RESET\n",
    "from pyquil.quilbase import Pragma\n",
    "from scipy.spatial.distance import hamming\n",
    "\n",
    "from forest_benchmarking.compilation import basic_compile\n",
    "\n",
    "from forest_benchmarking.classical_random_circuits import *"
   ]
  },
  {
   "cell_type": "markdown",
   "metadata": {},
   "source": [
    "## graph state measurement and plotting functions"
   ]
  },
  {
   "cell_type": "code",
   "execution_count": 6,
   "metadata": {},
   "outputs": [],
   "source": [
    "#qc_perfect = get_qc(\"Aspen-1-15Q-A\", as_qvm=True, noisy=False)\n",
    "#qc_noisy = get_qc(\"Aspen-1-15Q-A\", as_qvm=True, noisy=True)\n",
    "\n",
    "qc_perfect = get_qc(\"9q-square-qvm\", as_qvm=True, noisy=False)\n",
    "qc_noisy = get_qc(\"9q-square-qvm\", as_qvm=True, noisy=True)"
   ]
  },
  {
   "cell_type": "code",
   "execution_count": 7,
   "metadata": {},
   "outputs": [
    {
     "data": {
      "image/png": "[encoded data removed]",
      "text/plain": [
       "<matplotlib.figure.Figure at 0x121b6aa90>"
      ]
     },
     "metadata": {},
     "output_type": "display_data"
    }
   ],
   "source": [
    "nx.draw(qc_perfect.qubit_topology(),with_labels=True)"
   ]
  },
  {
   "cell_type": "code",
   "execution_count": 4,
   "metadata": {},
   "outputs": [
    {
     "data": {
      "text/plain": [
       "['Aspen-3-2Q-A',\n",
       " 'Aspen-3-3Q-A',\n",
       " 'Aspen-3-4Q-A',\n",
       " 'Aspen-3-5Q-A',\n",
       " 'Aspen-3-6Q-A',\n",
       " 'Aspen-3-7Q-A',\n",
       " 'Aspen-3-8Q-A',\n",
       " 'Aspen-3-9Q-A',\n",
       " 'Aspen-3-10Q-A',\n",
       " 'Aspen-3-11Q-A',\n",
       " 'Aspen-3-12Q-A',\n",
       " 'Aspen-3-2Q-B',\n",
       " 'Aspen-3-14Q-A',\n",
       " 'Aspen-1-2Q-B',\n",
       " 'Aspen-1-3Q-B',\n",
       " 'Aspen-1-4Q-B',\n",
       " 'Aspen-1-5Q-B',\n",
       " 'Aspen-1-6Q-B',\n",
       " 'Aspen-1-7Q-B',\n",
       " 'Aspen-1-9Q-B',\n",
       " 'Aspen-1-15Q-A',\n",
       " 'Aspen-1-8Q-B',\n",
       " '9q-square-qvm',\n",
       " '9q-square-noisy-qvm']"
      ]
     },
     "execution_count": 4,
     "metadata": {},
     "output_type": "execute_result"
    }
   ],
   "source": [
    "from pyquil import *\n",
    "list_quantum_computers()"
   ]
  },
  {
   "cell_type": "code",
   "execution_count": 8,
   "metadata": {},
   "outputs": [
    {
     "data": {
      "text/plain": [
       "[9, 12, 22, 36, 49, 48, 32, 9, 1]"
      ]
     },
     "execution_count": 8,
     "metadata": {},
     "output_type": "execute_result"
    }
   ],
   "source": [
    "G = qc_perfect.qubit_topology()\n",
    "len(qc_perfect.qubit_topology())\n",
    "# distribution of graph lengths\n",
    "disty = []\n",
    "for gdx in range(1,len(G.nodes)+1):\n",
    "    listg = generate_connected_subgraphs(G,gdx)\n",
    "    disty.append(len(listg))\n",
    "\n",
    "disty"
   ]
  },
  {
   "cell_type": "code",
   "execution_count": 10,
   "metadata": {},
   "outputs": [],
   "source": [
    "G = qc_perfect.qubit_topology()"
   ]
  },
  {
   "cell_type": "code",
   "execution_count": 23,
   "metadata": {},
   "outputs": [],
   "source": [
    "num_shots_per_circuit = 1\n",
    "num_rand_subgraphs = 2\n",
    "num_rand_circuits_per_subgraph = 2\n",
    "depth = 5\n",
    "widthy = 3 #max = len(G.nodes)\n",
    "in_x_basis = False"
   ]
  },
  {
   "cell_type": "code",
   "execution_count": null,
   "metadata": {},
   "outputs": [],
   "source": []
  },
  {
   "cell_type": "code",
   "execution_count": 109,
   "metadata": {},
   "outputs": [],
   "source": [
    "# check that the nodes are not\n",
    "\n",
    "data = []\n",
    "# loop over different graph sizes\n",
    "for depth_idx,subgraph_size in itertools.product(range(1,depth+1), range(1,widthy+1)):\n",
    "    list_of_graphs = generate_connected_subgraphs(G, subgraph_size)\n",
    "    wt = []\n",
    "    for kdx in range(1, num_rand_subgraphs+1):\n",
    "        # randomly choose a lattice from list\n",
    "        lattice = random.choice(list_of_graphs)\n",
    "        for jdx in range(1, num_rand_circuits_per_subgraph+1):\n",
    "            prog = generate_random_classial_circuit_with_depth(lattice, depth_idx, in_x_basis)\n",
    "            # perfect \n",
    "            perfect_bitstring = qc_perfect.run_and_measure(prog, trials=1)\n",
    "            perfect_bitstring_array = np.vstack(perfect_bitstring[q] for q in prog.get_qubits()).T\n",
    "            # run on hardware or noisy QVM\n",
    "            actual_bitstring = qc_noisy.run_and_measure(prog, trials=3)\n",
    "            actual_bitstring_array = np.vstack(actual_bitstring[q] for q in prog.get_qubits()).T\n",
    "            wt.append(get_error_hamming_distance_from_results(perfect_bitstring_array, actual_bitstring_array))\n",
    "\n",
    "    # for each graph size flatten the results        \n",
    "    wt_flat = [item for sublist in wt for item in sublist]\n",
    "    hamming_wt_distr = get_error_hamming_distributions_from_list(wt_flat, subgraph_size)\n",
    "    # list of dicts. The keys are (depth, width, hamming_dist)\n",
    "    data.append({'depth': depth_idx, 'width': subgraph_size, 'hamming_dist': hamming_wt_distr})"
   ]
  },
  {
   "cell_type": "code",
   "execution_count": 110,
   "metadata": {},
   "outputs": [],
   "source": [
    "df = pd.DataFrame(data)"
   ]
  },
  {
   "cell_type": "code",
   "execution_count": 117,
   "metadata": {},
   "outputs": [
    {
     "data": {
      "text/plain": [
       "<matplotlib.axes._subplots.AxesSubplot at 0x1254f5ac8>"
      ]
     },
     "execution_count": 117,
     "metadata": {},
     "output_type": "execute_result"
    },
    {
     "data": {
      "image/png": "[encoded data removed]",
      "text/plain": [
       "<matplotlib.figure.Figure at 0x125839eb8>"
      ]
     },
     "metadata": {},
     "output_type": "display_data"
    }
   ],
   "source": [
    "idx = df.depth==1\n",
    "ka = df[idx]\n"
   ]
  },
  {
   "cell_type": "code",
   "execution_count": 26,
   "metadata": {},
   "outputs": [],
   "source": [
    "len(data)\n",
    "Pcheck = np.ndarray(shape=(depth,widthy), dtype=float, order='C')\n",
    "\n",
    "for dslice in data:\n",
    "    depth_idx = dslice[0]-1\n",
    "    width_idx = dslice[1]-1\n",
    "    Pcheck[depth_idx,width_idx]= dslice[2][0]"
   ]
  },
  {
   "cell_type": "code",
   "execution_count": 40,
   "metadata": {},
   "outputs": [
    {
     "data": {
      "image/png": "[encoded data removed]",
      "text/plain": [
       "<matplotlib.figure.Figure at 0x124182a58>"
      ]
     },
     "metadata": {},
     "output_type": "display_data"
    }
   ],
   "source": [
    "plt.imshow(Pcheck, interpolation='none', cmap='viridis')\n",
    "plt.colorbar(orientation='vertical')\n",
    "plt.show()"
   ]
  },
  {
   "cell_type": "code",
   "execution_count": 41,
   "metadata": {},
   "outputs": [
    {
     "data": {
      "image/png": "[encoded data removed]",
      "text/plain": [
       "<matplotlib.figure.Figure at 0x1254f5a20>"
      ]
     },
     "metadata": {},
     "output_type": "display_data"
    }
   ],
   "source": [
    "plt.imshow(Pcheck, interpolation='hamming', cmap='viridis')\n",
    "plt.colorbar(orientation='vertical')\n",
    "plt.show()"
   ]
  },
  {
   "cell_type": "code",
   "execution_count": null,
   "metadata": {},
   "outputs": [],
   "source": []
  },
  {
   "cell_type": "code",
   "execution_count": 42,
   "metadata": {},
   "outputs": [],
   "source": [
    "import matplotlib.cm as cm\n",
    "import matplotlib.pyplot as plt"
   ]
  },
  {
   "cell_type": "code",
   "execution_count": 43,
   "metadata": {},
   "outputs": [],
   "source": [
    "depthvec = np.arange(1,depth+1,1)\n",
    "widthvec = np.arange(1,widthy+1,1)"
   ]
  },
  {
   "cell_type": "code",
   "execution_count": 44,
   "metadata": {},
   "outputs": [],
   "source": [
    "X, Y = np.meshgrid(widthvec, depthvec)"
   ]
  },
  {
   "cell_type": "code",
   "execution_count": 45,
   "metadata": {},
   "outputs": [
    {
     "data": {
      "text/plain": [
       "Text(0.5,1,'Simplest default with labels')"
      ]
     },
     "execution_count": 45,
     "metadata": {},
     "output_type": "execute_result"
    },
    {
     "data": {
      "image/png": "[encoded data removed]",
      "text/plain": [
       "<matplotlib.figure.Figure at 0x121b3d320>"
      ]
     },
     "metadata": {},
     "output_type": "display_data"
    }
   ],
   "source": [
    "fig, ax = plt.subplots()\n",
    "CS = ax.contourf(X, Y, Pcheck)\n",
    "#ax.clabel(CS, inline=1, fontsize=10)\n",
    "ax.set_title('Simplest default with labels')"
   ]
  },
  {
   "cell_type": "code",
   "execution_count": null,
   "metadata": {},
   "outputs": [],
   "source": []
  },
  {
   "cell_type": "code",
   "execution_count": null,
   "metadata": {},
   "outputs": [],
   "source": [
    "## Probablity decay vectors"
   ]
  },
  {
   "cell_type": "code",
   "execution_count": null,
   "metadata": {},
   "outputs": [],
   "source": [
    "def decay_fun_width(data,depthy,widthy,depth):\n",
    "    decay = np.zeros(widthy)\n",
    "    for wdx in range(0,widthy):\n",
    "        dslice = data[depth-1+wdx]\n",
    "        decay[wdx] = dsliced\n",
    "    = np.array(shape=(depth,widthy), dtype=float, order='C')\n",
    "\n",
    "for dslice in data:\n",
    "    depth_idx = dslice[0]-1\n",
    "    width_idx = dslice[1]-1\n",
    "    Pcheck[depth_idx,width_idx]= dslice[2][0]"
   ]
  },
  {
   "cell_type": "code",
   "execution_count": 54,
   "metadata": {},
   "outputs": [
    {
     "data": {
      "text/plain": [
       "[0, 1, 2]"
      ]
     },
     "execution_count": 54,
     "metadata": {},
     "output_type": "execute_result"
    }
   ],
   "source": [
    "list(range(0,widthy))"
   ]
  },
  {
   "cell_type": "code",
   "execution_count": 50,
   "metadata": {},
   "outputs": [
    {
     "data": {
      "text/plain": [
       "3"
      ]
     },
     "execution_count": 50,
     "metadata": {},
     "output_type": "execute_result"
    }
   ],
   "source": [
    "widthy"
   ]
  },
  {
   "cell_type": "code",
   "execution_count": 55,
   "metadata": {},
   "outputs": [],
   "source": [
    "import pandas as pd"
   ]
  },
  {
   "cell_type": "code",
   "execution_count": 58,
   "metadata": {},
   "outputs": [
    {
     "data": {
      "text/plain": [
       "MultiIndex(levels=[[1, 2], ['blue', 'red']],\n",
       "           labels=[[0, 0, 1, 1], [1, 0, 1, 0]],\n",
       "           names=['number', 'color'])"
      ]
     },
     "execution_count": 58,
     "metadata": {},
     "output_type": "execute_result"
    }
   ],
   "source": [
    "tuples = [(1, u'red'), (1, u'blue'), (2, u'red'), (2, u'blue')]\n",
    "pd.MultiIndex.from_tuples(tuples, names=('number', 'color'))\n"
   ]
  },
  {
   "cell_type": "code",
   "execution_count": 80,
   "metadata": {},
   "outputs": [
    {
     "data": {
      "text/plain": [
       "MultiIndex(levels=[[1, 2, 3, 4, 5], [1, 2, 3], [(0.6666666666666666, 0.25, 0.08333333333333333, 0.0), (0.75, 0.0), (0.75, 0.25, 0.0), (0.8333333333333334, 0.16666666666666666, 0.0), (0.8333333333333334, 0.16666666666666666, 0.0, 0.0), (0.9166666666666666, 0.08333333333333333, 0.0), (0.9166666666666666, 0.08333333333333333, 0.0, 0.0), (1.0, 0.0)]],\n",
       "           labels=[[0, 0, 0, 1, 1, 1, 2, 2, 2, 3, 3, 3, 4, 4, 4], [0, 1, 2, 0, 1, 2, 0, 1, 2, 0, 1, 2, 0, 1, 2], [7, 5, 4, 1, 3, 4, 7, 2, 0, 7, 2, 6, 7, 3, 6]],\n",
       "           names=['depth', 'width', 'hamming dist'])"
      ]
     },
     "execution_count": 80,
     "metadata": {},
     "output_type": "execute_result"
    }
   ],
   "source": [
    "md_df = pd.MultiIndex.from_tuples(data,names=('depth','width','hamming dist'))\n",
    "md_df"
   ]
  },
  {
   "cell_type": "code",
   "execution_count": 69,
   "metadata": {},
   "outputs": [
    {
     "data": {
      "text/plain": [
       "[(1, 1, (1.0, 0.0)),\n",
       " (1, 2, (0.9166666666666666, 0.08333333333333333, 0.0)),\n",
       " (1, 3, (0.8333333333333334, 0.16666666666666666, 0.0, 0.0)),\n",
       " (2, 1, (0.75, 0.0)),\n",
       " (2, 2, (0.8333333333333334, 0.16666666666666666, 0.0)),\n",
       " (2, 3, (0.8333333333333334, 0.16666666666666666, 0.0, 0.0)),\n",
       " (3, 1, (1.0, 0.0)),\n",
       " (3, 2, (0.75, 0.25, 0.0)),\n",
       " (3, 3, (0.6666666666666666, 0.25, 0.08333333333333333, 0.0)),\n",
       " (4, 1, (1.0, 0.0)),\n",
       " (4, 2, (0.75, 0.25, 0.0)),\n",
       " (4, 3, (0.9166666666666666, 0.08333333333333333, 0.0, 0.0)),\n",
       " (5, 1, (1.0, 0.0)),\n",
       " (5, 2, (0.8333333333333334, 0.16666666666666666, 0.0)),\n",
       " (5, 3, (0.9166666666666666, 0.08333333333333333, 0.0, 0.0))]"
      ]
     },
     "execution_count": 69,
     "metadata": {},
     "output_type": "execute_result"
    }
   ],
   "source": [
    "data"
   ]
  },
  {
   "cell_type": "code",
   "execution_count": 91,
   "metadata": {},
   "outputs": [
    {
     "data": {
      "text/plain": [
       "Int64Index([1, 2, 3], dtype='int64', name='width')"
      ]
     },
     "execution_count": 91,
     "metadata": {},
     "output_type": "execute_result"
    }
   ],
   "source": [
    "md_df.levels[1]"
   ]
  },
  {
   "cell_type": "code",
   "execution_count": 76,
   "metadata": {},
   "outputs": [],
   "source": [
    "idx = md_df[md_df.name == 'depth']"
   ]
  },
  {
   "cell_type": "code",
   "execution_count": 77,
   "metadata": {},
   "outputs": [
    {
     "ename": "IndexError",
     "evalue": "too many indices for array",
     "output_type": "error",
     "traceback": [
      "\u001b[0;31m---------------------------------------------------------------------------\u001b[0m",
      "\u001b[0;31mIndexError\u001b[0m                                Traceback (most recent call last)",
      "\u001b[0;32m<ipython-input-77-b92ec93c84e7>\u001b[0m in \u001b[0;36m<module>\u001b[0;34m()\u001b[0m\n\u001b[0;32m----> 1\u001b[0;31m \u001b[0mmd_df\u001b[0m\u001b[0;34m[\u001b[0m\u001b[0midx\u001b[0m\u001b[0;34m]\u001b[0m\u001b[0;34m\u001b[0m\u001b[0m\n\u001b[0m",
      "\u001b[0;32m~/anaconda3/lib/python3.6/site-packages/pandas/core/indexes/multi.py\u001b[0m in \u001b[0;36m__getitem__\u001b[0;34m(self, key)\u001b[0m\n\u001b[1;32m   1379\u001b[0m                 \u001b[0msortorder\u001b[0m \u001b[0;34m=\u001b[0m \u001b[0;32mNone\u001b[0m\u001b[0;34m\u001b[0m\u001b[0m\n\u001b[1;32m   1380\u001b[0m \u001b[0;34m\u001b[0m\u001b[0m\n\u001b[0;32m-> 1381\u001b[0;31m             \u001b[0mnew_labels\u001b[0m \u001b[0;34m=\u001b[0m \u001b[0;34m[\u001b[0m\u001b[0mlab\u001b[0m\u001b[0;34m[\u001b[0m\u001b[0mkey\u001b[0m\u001b[0;34m]\u001b[0m \u001b[0;32mfor\u001b[0m \u001b[0mlab\u001b[0m \u001b[0;32min\u001b[0m \u001b[0mself\u001b[0m\u001b[0;34m.\u001b[0m\u001b[0mlabels\u001b[0m\u001b[0;34m]\u001b[0m\u001b[0;34m\u001b[0m\u001b[0m\n\u001b[0m\u001b[1;32m   1382\u001b[0m \u001b[0;34m\u001b[0m\u001b[0m\n\u001b[1;32m   1383\u001b[0m             return MultiIndex(levels=self.levels, labels=new_labels,\n",
      "\u001b[0;32m~/anaconda3/lib/python3.6/site-packages/pandas/core/indexes/multi.py\u001b[0m in \u001b[0;36m<listcomp>\u001b[0;34m(.0)\u001b[0m\n\u001b[1;32m   1379\u001b[0m                 \u001b[0msortorder\u001b[0m \u001b[0;34m=\u001b[0m \u001b[0;32mNone\u001b[0m\u001b[0;34m\u001b[0m\u001b[0m\n\u001b[1;32m   1380\u001b[0m \u001b[0;34m\u001b[0m\u001b[0m\n\u001b[0;32m-> 1381\u001b[0;31m             \u001b[0mnew_labels\u001b[0m \u001b[0;34m=\u001b[0m \u001b[0;34m[\u001b[0m\u001b[0mlab\u001b[0m\u001b[0;34m[\u001b[0m\u001b[0mkey\u001b[0m\u001b[0;34m]\u001b[0m \u001b[0;32mfor\u001b[0m \u001b[0mlab\u001b[0m \u001b[0;32min\u001b[0m \u001b[0mself\u001b[0m\u001b[0;34m.\u001b[0m\u001b[0mlabels\u001b[0m\u001b[0;34m]\u001b[0m\u001b[0;34m\u001b[0m\u001b[0m\n\u001b[0m\u001b[1;32m   1382\u001b[0m \u001b[0;34m\u001b[0m\u001b[0m\n\u001b[1;32m   1383\u001b[0m             return MultiIndex(levels=self.levels, labels=new_labels,\n",
      "\u001b[0;31mIndexError\u001b[0m: too many indices for array"
     ]
    }
   ],
   "source": [
    "md_df[idx]"
   ]
  },
  {
   "cell_type": "code",
   "execution_count": 98,
   "metadata": {},
   "outputs": [],
   "source": [
    "df = pd.DataFrame(\n",
    "{\"depth\" : [4 ,5, 6],\n",
    "\"width\" : [7, 8, 9],\n",
    "\"hamming dist\" : [10, 11, 12]},\n",
    ")"
   ]
  },
  {
   "cell_type": "code",
   "execution_count": 107,
   "metadata": {},
   "outputs": [],
   "source": [
    "asdf = [{'depth':1,'width':3,'hamming_dist':[0.9,0.1,0.0]},{'depth':4,'width':1}]"
   ]
  },
  {
   "cell_type": "code",
   "execution_count": 108,
   "metadata": {},
   "outputs": [
    {
     "data": {
      "text/html": [
       "<div>\n",
       "<style>\n",
       "    .dataframe thead tr:only-child th {\n",
       "        text-align: right;\n",
       "    }\n",
       "\n",
       "    .dataframe thead th {\n",
       "        text-align: left;\n",
       "    }\n",
       "\n",
       "    .dataframe tbody tr th {\n",
       "        vertical-align: top;\n",
       "    }\n",
       "</style>\n",
       "<table border=\"1\" class=\"dataframe\">\n",
       "  <thead>\n",
       "    <tr style=\"text-align: right;\">\n",
       "      <th></th>\n",
       "      <th>depth</th>\n",
       "      <th>hamming_dist</th>\n",
       "      <th>width</th>\n",
       "    </tr>\n",
       "  </thead>\n",
       "  <tbody>\n",
       "    <tr>\n",
       "      <th>0</th>\n",
       "      <td>1</td>\n",
       "      <td>[0.9, 0.1, 0.0]</td>\n",
       "      <td>3</td>\n",
       "    </tr>\n",
       "    <tr>\n",
       "      <th>1</th>\n",
       "      <td>4</td>\n",
       "      <td>NaN</td>\n",
       "      <td>1</td>\n",
       "    </tr>\n",
       "  </tbody>\n",
       "</table>\n",
       "</div>"
      ],
      "text/plain": [
       "   depth     hamming_dist  width\n",
       "0      1  [0.9, 0.1, 0.0]      3\n",
       "1      4              NaN      1"
      ]
     },
     "execution_count": 108,
     "metadata": {},
     "output_type": "execute_result"
    }
   ],
   "source": [
    "pd.DataFrame(asdf)"
   ]
  },
  {
   "cell_type": "code",
   "execution_count": 101,
   "metadata": {},
   "outputs": [
    {
     "name": "stdout",
     "output_type": "stream",
     "text": [
      "                   row\n",
      "0           Thanks You\n",
      "1  Its fine no problem\n",
      "2         Are you sure\n"
     ]
    }
   ],
   "source": [
    "L = ['Thanks You', 'Its fine no problem', 'Are you sure']\n",
    "\n",
    "#create new df \n",
    "df = pd.DataFrame({'row':L})\n",
    "print (df)"
   ]
  },
  {
   "cell_type": "code",
   "execution_count": null,
   "metadata": {},
   "outputs": [],
   "source": []
  }
 ],
 "metadata": {
  "kernelspec": {
   "display_name": "Python 3",
   "language": "python",
   "name": "python3"
  },
  "language_info": {
   "codemirror_mode": {
    "name": "ipython",
    "version": 3
   },
   "file_extension": ".py",
   "mimetype": "text/x-python",
   "name": "python",
   "nbconvert_exporter": "python",
   "pygments_lexer": "ipython3",
   "version": "3.6.3"
  }
 },
 "nbformat": 4,
 "nbformat_minor": 2
}
