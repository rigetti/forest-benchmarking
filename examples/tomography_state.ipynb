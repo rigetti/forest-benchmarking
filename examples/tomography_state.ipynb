{
 "cells": [
  {
   "cell_type": "markdown",
   "metadata": {},
   "source": [
    "# State tomography\n",
    "\n",
    "### Classical tomography \n",
    "The simplest classical analogy to estimating a quantum state using tomography is estimating the bias of a coin. The bias, denoted bias by $p$, is analogous to the quantum state in a way that will be explained shortly.\n",
    "\n",
    "If we have access to $n_{\\rm Tot}$ independent experiements (or measurements) and observe $n_{\\rm H}$ heads then maximum likelihood estimate for the bias of the coin is\n",
    "\n",
    "$$ p_{\\rm Max-Like} = \\frac{n_H}{n_{\\rm Tot}},$$\n",
    "\n",
    "and the variance of this estimator is $ {\\rm Var}[p_{\\rm Max-Like}] = p(1-p)/n_{\\rm Tot}$.\n",
    "\n",
    "The things to learn from this example are:\n",
    "* it takes many measurements to estiamte $p$, it can't be done in a single shot\n",
    "* $p_{\\rm Max-Like}$ is an estimator, there are other choices of estimators see e.g. [Beta distribution](https://en.wikipedia.org/wiki/Beta_distribution#Bayesian_inference) and [Bayes estimator](https://en.wikipedia.org/wiki/Bayes_estimator)\n",
    "\n",
    "\n",
    "Let's take the analogy a little further. Lets define a \"quantum\" state \n",
    "\n",
    "$$\\begin{align}\n",
    "\\rho \n",
    "&= \\begin{pmatrix} p & 0\\\\ 0 & 1-p\\end{pmatrix} \\\\\n",
    "&= \\frac{1}{2} (I +z Z)\\\\\n",
    "&=\\frac{1}{2} \\begin{pmatrix} 1+z & 0\\\\ 0 & 1-z\\end{pmatrix},\n",
    "\\end{align}\n",
    "$$ \n",
    "where $I$ and $Z$ are the identity and the Pauli-z matrix. This parameterizes the states along the z-axis of the Bloch sphere\n",
    "\n",
    "\n",
    "<img src=\"figs/bloch.png\" alt=\"Drawing\" style=\"width: 350px;\"/>\n",
    "\n",
    "\n",
    "\n",
    "The relationship between the $Z$ expectation value and the coin bias is\n",
    "\n",
    "$$z:= \\langle Z \\rangle = {\\rm Tr}[Z \\rho] = 2 p -1.$$\n",
    "\n",
    "In this analogy the pure states $|0\\rangle$ and $|1\\rangle$ corespond to the coin biases $p=1$, $p=0$ and z expectation values $z=+1$, $z=-1$ respectively. All other (mixed) states are convex mixtures of these extremal points e.g. the fair coin, i.e. $p=1/2$, corresponds to $z = 0$ and the state  \n",
    "$$\n",
    "\\rho \n",
    "= \\begin{pmatrix} 0.5 & 0\\\\ 0 & 0.5\\end{pmatrix}. \n",
    "$$"
   ]
  },
  {
   "cell_type": "markdown",
   "metadata": {},
   "source": [
    "### Quantum tomography of a single qubit\n",
    "\n",
    "The simplest quantum system to tomograph is a single qubit. Like before we parameterize the state with respect to a set of operators \n",
    "$$\\begin{align}\n",
    "\\rho \n",
    "&= \\frac{1}{2} (I+x X+ y Y +z Z)\\\\\n",
    "&=\\frac{1}{2} \\begin{pmatrix} 1+z & x+iy\\\\ x-iy & 1-z\\end{pmatrix},\n",
    "\\end{align}\n",
    "$$ \n",
    "where $x = \\langle X \\rangle$, $y = \\langle Y \\rangle$, and $z = \\langle Z \\rangle$. In the language of our classical coin we have three parameters we need to estimate that are constrained in the following way\n",
    "\n",
    "$$\n",
    "0\\le x \\le 1\\\\\n",
    "0\\le y \\le 1\\\\ \n",
    "0\\le z \\le 1\\\\\n",
    "x^2 + y^2 +z^2 \\le 1.\n",
    "$$\n",
    "\n",
    "The physics of our system means that our default our measurement gives us the Z basis statistics. We already constructed an estimator to go from the coin flip statistics to the Z expectation: $2p -1$. \n",
    "\n",
    "\n",
    "Now we need to, measure the statistics of the operators X and Y. Essentially this means we must rotate our state after we prepare it but before it is measured (or equivalently rotate our measurement basis). If we rotate the state as $\\rho\\mapsto U\\rho U^\\dagger$ and then do our usual Z-basis measurement, then this is equivalent to rotating the measured observable as $Z \\mapsto U^\\dagger Z U$ and keeping our state $\\rho$ unchanged. This is the disticntion between the [Heisenberg and Schrödinger pictures](https://en.wikipedia.org/wiki/Heisenberg_picture#Summary_comparison_of_evolution_in_all_pictures). The Heisenberg picture point of view then allows us to see that if we apply a rotation such as $R_y(\\alpha) = \\exp(-i \\alpha Y /2)$ for $\\alpha = -\\pi/2$ then this rotates the observable as $R_y(\\pi/2)ZR_y(-\\pi/2)=\\cos(\\pi/2) Z + \\sin(\\pi/2) X = X$. Similarly, we could rotate by $U=R_x(\\pi/2)$ to measure the Y observable.  \n"
   ]
  },
  {
   "cell_type": "markdown",
   "metadata": {},
   "source": [
    "### Quantum state tomography in general   \n",
    "In this section we closely follow the reference [PBT]. \n",
    "\n",
    "When thinking about tomography it is useful to introduce the notation of \"super kets\" $|O\\rangle \\rangle = {\\rm vec}(O)$  for an operator $O$.\n",
    "The dual vector is the corresponding \"super bra\" $\\langle\\langle O|$ and represents $O^\\dagger$. This vector space has is equiped with the Hilbert-Schmidt inner product  $\\langle\\langle A | B \\rangle\\rangle = {\\rm Tr}[A^\\dagger B]$. For more information see [vec and unvec in superoperator_representations.md](../.././forest-benchmarking/docs/superoperator_representations.md) and the [superoperator_tools ipython notebook](superoperator_tools.ipynb).\n",
    "\n",
    "A quantum state matrix on $n$ qubits, a  $D =2^n$ dimensional Hilbert\n",
    "space, can be represented by \n",
    "$$\n",
    "    \\rho =  \\frac{1}{D} I + \\sum_{\\alpha=1}^{D^2-1}x_\\alpha B_\\alpha\n",
    "$$\n",
    "where the coefficents $x_\\alpha$ are defined by $x_\\alpha = \\langle\\langle B_\\alpha | \\rho \\rangle\\rangle$ for a basis of Hermitian operators\n",
    "$\\{ B_\\alpha \\}$ that is orthonormal under the Hilbert-Schmidt inner product\n",
    "$\\langle\\langle B_\\alpha | B_\\beta\\rangle\\rangle =\\delta_{\\alpha,\\beta}$.\n",
    "\n",
    "For many qubits, tensor products of Pauli matrices \n",
    "matrices are the natural Hermitian basis. For two qubits define $B_5 = X \\otimes X$ and $B_6 = X \\otimes Y$ then $\\langle\\langle B_5 | B_6\\rangle\\rangle =0$. It is typical to choose $B_0 = I / \\sqrt {D}$ to be the only traceful element.\n",
    "\n",
    "State tomography involves estimating or measuring the expectation values of all the operators $\\{ B_\\alpha \\}$. If you can reconstruct all the operators $\\{ B_\\alpha \\}$ then your measurement is said to be **tomographically complete**. The operators that need to be estimatated are programatically given by `itertools.product(['I', 'X', 'Y', 'Z'], repeat=n_qubits)`. From these measurements, we can reconstruct a density matrix $\\rho$ on `n_qubits`.\n",
    "\n",
    "\n",
    "Most research in quantum state tomography is to do with finding estimators with desirable properties, e.g. [Minimax tomography](https://arxiv.org/abs/1503.03100), although experiment design is also considered e.g. [adaptive quantum state tomography](https://arxiv.org/abs/1303.0436).  \n"
   ]
  },
  {
   "cell_type": "markdown",
   "metadata": {},
   "source": [
    "**More information**  \n",
    "See the following references:\n",
    "\n",
    "[QTW] [Quantum tomography wikipedia page](https://en.wikipedia.org/wiki/Quantum_tomography)\n",
    "\n",
    "[CWPHD] *Initialization and characterization of open quantum systems*  \n",
    "Christopher Wood,  \n",
    "Chapter 3, PhD Thesis, University of Waterloo (2015)  \n",
    "http://hdl.handle.net/10012/9557  \n",
    "\n",
    "\n",
    "[IGST]  *Introduction to Quantum Gate Set Tomography*  \n",
    "Daniel Greenbaum,  \n",
    "arXiv:1509.02921 (2015)    \n",
    "https://arxiv.org/abs/1509.02921  \n",
    "\n",
    "\n",
    "[PBT]  *Practical Bayesian Tomography*  \n",
    "Christopher Granade et al.  \n",
    "New J. Phys. 18, 033024 (2016)  \n",
    "https://dx.doi.org/10.1088/1367-2630/18/3/033024  \n",
    "https://arxiv.org/abs/1509.03770"
   ]
  },
  {
   "cell_type": "markdown",
   "metadata": {},
   "source": [
    "## Quantum state tomography in `forest.benchmarking`"
   ]
  },
  {
   "cell_type": "markdown",
   "metadata": {},
   "source": [
    "The basic workflow is:\n",
    "\n",
    "1. prepare a state by specifying a pyQuil program\n",
    "2. construct a list of observables that are needed to estimate the state; we collect this into an object called an `ObservablesExperiment`.\n",
    "3. Aquire the data by running the program on a QVM or QPU.\n",
    "4. Apply an estimator to the data to obtain an estimate of the state\n",
    "5. Compare the estimated state to the true state by a distance measure or visualization\n",
    "\n",
    "\n",
    "Below we break these steps down in to all their gastly glory, before providing a packaged function."
   ]
  },
  {
   "cell_type": "markdown",
   "metadata": {},
   "source": [
    "## Step 1. Prepare a state with a `Program`\n",
    "We'll construct a two-qubit graph state by Hadamarding all qubits and then applying a controlled-Z operation across edges of our graph. In the two-qubit case, there's only one edge. The vector we end up preparing is\n",
    "\n",
    "$$ |\\Psi\\rangle = \\frac{1}{2}\\begin{pmatrix} 1\\\\ 1 \\\\ 1\\\\ -1\\end{pmatrix}= {\\rm CZ}(0,1){\\rm H}(1){\\rm H}(0)|0,0\\rangle,$$\n",
    "\n",
    "which corresponds to the state matrix\n",
    "\n",
    "$$ \\rho_{\\rm true} = |\\Psi\\rangle\\langle \\Psi| = \\frac{1}{4}\\begin{pmatrix} 1 & 1 & 1 &-1\\\\ 1 & 1 & 1 &-1 \\\\ 1 & 1 & 1 &-1\\\\ -1 & -1 & -1 & 1\\end{pmatrix}.$$"
   ]
  },
  {
   "cell_type": "code",
   "execution_count": 1,
   "metadata": {},
   "outputs": [],
   "source": [
    "import numpy as np\n",
    "from pyquil import Program\n",
    "from pyquil.gates import *"
   ]
  },
  {
   "cell_type": "code",
   "execution_count": 2,
   "metadata": {},
   "outputs": [
    {
     "data": {
      "text/plain": [
       "array([[ 0.25,  0.25,  0.25, -0.25],\n",
       "       [ 0.25,  0.25,  0.25, -0.25],\n",
       "       [ 0.25,  0.25,  0.25, -0.25],\n",
       "       [-0.25, -0.25, -0.25,  0.25]])"
      ]
     },
     "execution_count": 2,
     "metadata": {},
     "output_type": "execute_result"
    }
   ],
   "source": [
    "# numerical representation of the true state\n",
    "Psi = (1/2) * np.array([1, 1, 1, -1])\n",
    "rho_true = np.outer(Psi, Psi.T.conj())\n",
    "\n",
    "rho_true"
   ]
  },
  {
   "cell_type": "code",
   "execution_count": 3,
   "metadata": {},
   "outputs": [
    {
     "name": "stdout",
     "output_type": "stream",
     "text": [
      "H 0\n",
      "H 1\n",
      "CZ 0 1\n",
      "\n"
     ]
    }
   ],
   "source": [
    "# construct the state preparation program\n",
    "\n",
    "qubits = [0, 1]\n",
    "state_prep_prog = Program()\n",
    "\n",
    "for qubit in qubits:\n",
    "    state_prep_prog += H(qubit)\n",
    "    \n",
    "state_prep_prog += CZ(qubits[0], qubits[1])\n",
    "\n",
    "print(state_prep_prog)"
   ]
  },
  {
   "cell_type": "markdown",
   "metadata": {},
   "source": [
    "## Step 2. Construct a `ObservablesExperiment` for state tomography\n",
    "\n",
    "We use the helper function `generate_state_tomography_experiment` to construct a tomographically complete set of measurements.\n",
    "\n",
    "We can print this out to see the 16 observables or operator measurements we will perform."
   ]
  },
  {
   "cell_type": "code",
   "execution_count": 4,
   "metadata": {},
   "outputs": [
    {
     "name": "stdout",
     "output_type": "stream",
     "text": [
      "H 0; H 1; CZ 0 1\n",
      "0: Z0_0 * Z0_1→(1+0j)*X1\n",
      "1: Z0_0 * Z0_1→(1+0j)*Y1\n",
      "2: Z0_0 * Z0_1→(1+0j)*Z1\n",
      "3: Z0_0 * Z0_1→(1+0j)*X0\n",
      "4: Z0_0 * Z0_1→(1+0j)*X0X1\n",
      "5: Z0_0 * Z0_1→(1+0j)*X0Y1\n",
      "6: Z0_0 * Z0_1→(1+0j)*X0Z1\n",
      "7: Z0_0 * Z0_1→(1+0j)*Y0\n",
      "8: Z0_0 * Z0_1→(1+0j)*Y0X1\n",
      "9: Z0_0 * Z0_1→(1+0j)*Y0Y1\n",
      "10: Z0_0 * Z0_1→(1+0j)*Y0Z1\n",
      "11: Z0_0 * Z0_1→(1+0j)*Z0\n",
      "12: Z0_0 * Z0_1→(1+0j)*Z0X1\n",
      "13: Z0_0 * Z0_1→(1+0j)*Z0Y1\n",
      "14: Z0_0 * Z0_1→(1+0j)*Z0Z1\n"
     ]
    }
   ],
   "source": [
    "# import the generate_state_tomography_experiment function \n",
    "from forest.benchmarking.tomography import generate_state_tomography_experiment\n",
    "\n",
    "experiment = generate_state_tomography_experiment(program=state_prep_prog, qubits=qubits)\n",
    "\n",
    "print(experiment)"
   ]
  },
  {
   "cell_type": "code",
   "execution_count": 5,
   "metadata": {},
   "outputs": [
    {
     "name": "stdout",
     "output_type": "stream",
     "text": [
      "The object \"experiment\" is a:\n",
      "<class 'forest.benchmarking.observable_estimation.ObservablesExperiment'> \n",
      "\n",
      "It has a program attribute:\n",
      "H 0\n",
      "H 1\n",
      "CZ 0 1\n",
      "\n",
      "It also has a list of observables that need to be estimated:\n",
      "0: Z0_0 * Z0_1→(1+0j)*X1\n",
      "1: Z0_0 * Z0_1→(1+0j)*Y1\n",
      "2: Z0_0 * Z0_1→(1+0j)*Z1\n",
      "3: Z0_0 * Z0_1→(1+0j)*X0\n",
      "4: Z0_0 * Z0_1→(1+0j)*X0X1\n",
      "5: Z0_0 * Z0_1→(1+0j)*X0Y1\n",
      "6: Z0_0 * Z0_1→(1+0j)*X0Z1\n",
      "7: Z0_0 * Z0_1→(1+0j)*Y0\n",
      "8: Z0_0 * Z0_1→(1+0j)*Y0X1\n",
      "9: Z0_0 * Z0_1→(1+0j)*Y0Y1\n",
      "10: Z0_0 * Z0_1→(1+0j)*Y0Z1\n",
      "11: Z0_0 * Z0_1→(1+0j)*Z0\n",
      "12: Z0_0 * Z0_1→(1+0j)*Z0X1\n",
      "13: Z0_0 * Z0_1→(1+0j)*Z0Y1\n",
      "14: Z0_0 * Z0_1→(1+0j)*Z0Z1\n"
     ]
    }
   ],
   "source": [
    "# lets peek into the object\n",
    "print('The object \"experiment\" is a:')\n",
    "print(type(experiment),'\\n')\n",
    "print('It has a program attribute:')\n",
    "print(experiment.program)\n",
    "print('It also has a list of observables that need to be estimated:')\n",
    "print(experiment.settings_string())"
   ]
  },
  {
   "cell_type": "markdown",
   "metadata": {},
   "source": [
    "### Optional grouping\n",
    "We can simultaneously estimate some of these observables, this saves on run time."
   ]
  },
  {
   "cell_type": "code",
   "execution_count": 6,
   "metadata": {},
   "outputs": [
    {
     "name": "stdout",
     "output_type": "stream",
     "text": [
      "H 0; H 1; CZ 0 1\n",
      "0: Z0_0 * Z0_1→(1+0j)*X1, Z0_0 * Z0_1→(1+0j)*X0, Z0_0 * Z0_1→(1+0j)*X0X1\n",
      "1: Z0_0 * Z0_1→(1+0j)*Y1, Z0_0 * Z0_1→(1+0j)*X0Y1\n",
      "2: Z0_0 * Z0_1→(1+0j)*Z1, Z0_0 * Z0_1→(1+0j)*X0Z1\n",
      "3: Z0_0 * Z0_1→(1+0j)*Y0, Z0_0 * Z0_1→(1+0j)*Y0X1\n",
      "4: Z0_0 * Z0_1→(1+0j)*Y0Y1\n",
      "5: Z0_0 * Z0_1→(1+0j)*Y0Z1\n",
      "6: Z0_0 * Z0_1→(1+0j)*Z0, Z0_0 * Z0_1→(1+0j)*Z0X1\n",
      "7: Z0_0 * Z0_1→(1+0j)*Z0Y1\n",
      "8: Z0_0 * Z0_1→(1+0j)*Z0Z1\n"
     ]
    }
   ],
   "source": [
    "from forest.benchmarking.observable_estimation import group_settings\n",
    "print(group_settings(experiment))"
   ]
  },
  {
   "cell_type": "markdown",
   "metadata": {},
   "source": [
    "## Step 3. Aquire the data\n",
    "\n",
    "PyQuil will run the tomography programs.\n",
    "\n",
    "We will use the QVM but at this point you can use a QPU."
   ]
  },
  {
   "cell_type": "code",
   "execution_count": 7,
   "metadata": {},
   "outputs": [],
   "source": [
    "from pyquil import get_qc\n",
    "qc = get_qc('2q-qvm')"
   ]
  },
  {
   "cell_type": "markdown",
   "metadata": {},
   "source": [
    "The next step is to over-write full `quilc` compilation with a much more simple version that *only* substitutes gates to Rigetti-native gates.\n",
    "\n",
    "We do this because, we don't want to accidentally compile away our tomography circuit or map to different qubits."
   ]
  },
  {
   "cell_type": "code",
   "execution_count": 8,
   "metadata": {},
   "outputs": [],
   "source": [
    "from forest.benchmarking.compilation import basic_compile\n",
    "qc.compiler.quil_to_native_quil = basic_compile"
   ]
  },
  {
   "cell_type": "markdown",
   "metadata": {},
   "source": [
    "Now get the data!"
   ]
  },
  {
   "cell_type": "code",
   "execution_count": 9,
   "metadata": {},
   "outputs": [
    {
     "name": "stdout",
     "output_type": "stream",
     "text": [
      "ExperimentResult[(input operators)→(output operator): \"mean\" +- \"standard error\"]\n"
     ]
    },
    {
     "data": {
      "text/plain": [
       "[ExperimentResult[Z0_0 * Z0_1→(1+0j)*X1: -0.008 +- 0.04471992844359213],\n",
       " ExperimentResult[Z0_0 * Z0_1→(1+0j)*Y1: 0.016 +- 0.04471563484956912],\n",
       " ExperimentResult[Z0_0 * Z0_1→(1+0j)*Z1: -0.02 +- 0.04471241438347967],\n",
       " ExperimentResult[Z0_0 * Z0_1→(1+0j)*X0: 0.056 +- 0.044651181395344956],\n",
       " ExperimentResult[Z0_0 * Z0_1→(1+0j)*X0X1: -0.036 +- 0.044692370713579295],\n",
       " ExperimentResult[Z0_0 * Z0_1→(1+0j)*X0Y1: 0.028 +- 0.04470382533967311],\n",
       " ExperimentResult[Z0_0 * Z0_1→(1+0j)*X0Z1: 1.0 +- 0.0],\n",
       " ExperimentResult[Z0_0 * Z0_1→(1+0j)*Y0: -0.044 +- 0.0446780483011512],\n",
       " ExperimentResult[Z0_0 * Z0_1→(1+0j)*Y0X1: 0.004 +- 0.04472100177768829],\n",
       " ExperimentResult[Z0_0 * Z0_1→(1+0j)*Y0Y1: 1.0 +- 0.0],\n",
       " ExperimentResult[Z0_0 * Z0_1→(1+0j)*Y0Z1: 0.036 +- 0.044692370713579295],\n",
       " ExperimentResult[Z0_0 * Z0_1→(1+0j)*Z0: 0.064 +- 0.044629676225578875],\n",
       " ExperimentResult[Z0_0 * Z0_1→(1+0j)*Z0X1: 1.0 +- 0.0],\n",
       " ExperimentResult[Z0_0 * Z0_1→(1+0j)*Z0Y1: 0.004 +- 0.04472100177768829],\n",
       " ExperimentResult[Z0_0 * Z0_1→(1+0j)*Z0Z1: -0.028 +- 0.04470382533967311]]"
      ]
     },
     "execution_count": 9,
     "metadata": {},
     "output_type": "execute_result"
    }
   ],
   "source": [
    "from forest.benchmarking.observable_estimation import estimate_observables\n",
    "\n",
    "results = list(estimate_observables(qc, experiment))\n",
    "\n",
    "print('ExperimentResult[(input operators)→(output operator): \"mean\" +- \"standard error\"]')\n",
    "results"
   ]
  },
  {
   "cell_type": "markdown",
   "metadata": {},
   "source": [
    "## Step 4. Apply some estimators to the data \"do tomography\""
   ]
  },
  {
   "cell_type": "markdown",
   "metadata": {},
   "source": [
    "### Linear inversion estimator"
   ]
  },
  {
   "cell_type": "code",
   "execution_count": 10,
   "metadata": {},
   "outputs": [
    {
     "name": "stdout",
     "output_type": "stream",
     "text": [
      "[[ 0.254-0.j     0.248-0.005j  0.264+0.002j -0.259-0.008j]\n",
      " [ 0.248+0.005j  0.278+0.j     0.241+0.006j -0.236+0.02j ]\n",
      " [ 0.264-0.002j  0.241-0.006j  0.236-0.j    -0.252-0.003j]\n",
      " [-0.259+0.008j -0.236-0.02j  -0.252+0.003j  0.232-0.j   ]]\n"
     ]
    }
   ],
   "source": [
    "from forest.benchmarking.tomography import linear_inv_state_estimate\n",
    "\n",
    "rho_est_linv = linear_inv_state_estimate(results, qubits=qubits)\n",
    "\n",
    "print(np.round(rho_est_linv, 3))"
   ]
  },
  {
   "cell_type": "markdown",
   "metadata": {},
   "source": [
    "### Linear inversion projected to closest physical state"
   ]
  },
  {
   "cell_type": "code",
   "execution_count": 11,
   "metadata": {},
   "outputs": [
    {
     "name": "stdout",
     "output_type": "stream",
     "text": [
      "[[ 0.259+0.j     0.246+0.001j  0.251+0.003j -0.246-0.002j]\n",
      " [ 0.246-0.001j  0.26 +0.j     0.239+0.001j -0.235+0.009j]\n",
      " [ 0.251-0.003j  0.239-0.001j  0.243+0.j    -0.239+0.001j]\n",
      " [-0.246+0.002j -0.235-0.009j -0.239-0.001j  0.238-0.j   ]]\n"
     ]
    }
   ],
   "source": [
    "from forest.benchmarking.operator_tools.project_state_matrix import project_state_matrix_to_physical\n",
    "\n",
    "rho_phys = project_state_matrix_to_physical(rho_est_linv)\n",
    "\n",
    "print(np.round(rho_phys, 3))"
   ]
  },
  {
   "cell_type": "markdown",
   "metadata": {},
   "source": [
    "### Maximum Liklihood Estimate (MLE) via diluted iterative method"
   ]
  },
  {
   "cell_type": "code",
   "execution_count": 12,
   "metadata": {},
   "outputs": [
    {
     "name": "stdout",
     "output_type": "stream",
     "text": [
      "[[ 0.258-0.j     0.255+0.002j  0.253+0.002j -0.251+0.001j]\n",
      " [ 0.255-0.002j  0.251-0.j     0.249-0.001j -0.247+0.003j]\n",
      " [ 0.253-0.002j  0.249+0.001j  0.248+0.j    -0.245+0.002j]\n",
      " [-0.251-0.001j -0.247-0.003j -0.245-0.002j  0.243+0.j   ]]\n"
     ]
    }
   ],
   "source": [
    "from forest.benchmarking.tomography import iterative_mle_state_estimate\n",
    "\n",
    "rho_mle = iterative_mle_state_estimate(results=results, qubits=qubits)\n",
    "\n",
    "print(np.around(rho_mle, 3))"
   ]
  },
  {
   "cell_type": "markdown",
   "metadata": {},
   "source": [
    "### MLE with Max Entropy constraint"
   ]
  },
  {
   "cell_type": "code",
   "execution_count": 13,
   "metadata": {},
   "outputs": [
    {
     "name": "stdout",
     "output_type": "stream",
     "text": [
      "[[ 0.256+0.j     0.206+0.j     0.209+0.001j -0.206-0.001j]\n",
      " [ 0.206-0.j     0.256+0.j     0.202+0.001j -0.199+0.006j]\n",
      " [ 0.209-0.001j  0.202-0.001j  0.246-0.j    -0.202+0.001j]\n",
      " [-0.206+0.001j -0.199-0.006j -0.202-0.001j  0.242+0.j   ]]\n"
     ]
    }
   ],
   "source": [
    "rho_mle_maxent = iterative_mle_state_estimate(results=results, qubits=qubits, epsilon=0.05, entropy_penalty=0.05)\n",
    "\n",
    "print(np.around(rho_mle_maxent, 3))"
   ]
  },
  {
   "cell_type": "markdown",
   "metadata": {},
   "source": [
    "### MLE with Hedging parameter"
   ]
  },
  {
   "cell_type": "code",
   "execution_count": 14,
   "metadata": {},
   "outputs": [
    {
     "name": "stdout",
     "output_type": "stream",
     "text": [
      "[[ 0.258+0.j     0.254+0.002j  0.252+0.002j -0.25 +0.001j]\n",
      " [ 0.254-0.002j  0.251-0.j     0.249-0.001j -0.246+0.003j]\n",
      " [ 0.252-0.002j  0.249+0.001j  0.248-0.j    -0.245+0.002j]\n",
      " [-0.25 -0.001j -0.246-0.003j -0.245-0.002j  0.243+0.j   ]]\n"
     ]
    }
   ],
   "source": [
    "rho_mle_hedge = iterative_mle_state_estimate(results=results, qubits=qubits, epsilon=.001, beta=.61)\n",
    "\n",
    "print(np.around(rho_mle_hedge, 3))"
   ]
  },
  {
   "cell_type": "markdown",
   "metadata": {},
   "source": [
    "## Step 5. Compare estimated state to the true state"
   ]
  },
  {
   "cell_type": "markdown",
   "metadata": {},
   "source": [
    "### Or visualize using Hinton plots"
   ]
  },
  {
   "cell_type": "markdown",
   "metadata": {},
   "source": [
    "Compare purities of estimates"
   ]
  },
  {
   "cell_type": "code",
   "execution_count": 15,
   "metadata": {},
   "outputs": [],
   "source": [
    "estimates = {\n",
    "    'True State': rho_true,\n",
    "    'Linear Inv': rho_est_linv,\n",
    "    'Proj Linear Inv': rho_phys,\n",
    "    'MLE': rho_mle,\n",
    "    'MLE + MaxEnt': rho_mle_maxent,\n",
    "    'MLE + Hedge': rho_mle_hedge}"
   ]
  },
  {
   "cell_type": "code",
   "execution_count": 16,
   "metadata": {},
   "outputs": [],
   "source": [
    "from forest.benchmarking.distance_measures import purity"
   ]
  },
  {
   "cell_type": "code",
   "execution_count": 17,
   "metadata": {},
   "outputs": [
    {
     "data": {
      "text/plain": [
       "<function forest.benchmarking.distance_measures.purity(rho, dim_renorm=False)>"
      ]
     },
     "execution_count": 17,
     "metadata": {},
     "output_type": "execute_result"
    }
   ],
   "source": [
    "purity"
   ]
  },
  {
   "cell_type": "code",
   "execution_count": 19,
   "metadata": {},
   "outputs": [
    {
     "name": "stdout",
     "output_type": "stream",
     "text": [
      "True State estimates a purity of 1.0.\n",
      "Linear Inv estimates a purity of (1.004+0j).\n",
      "Proj Linear Inv estimates a purity of (0.958-0j).\n",
      "MLE estimates a purity of (1+0j).\n",
      "MLE + MaxEnt estimates a purity of (0.749+0j).\n",
      "MLE + Hedge estimates a purity of (0.996+0j).\n"
     ]
    }
   ],
   "source": [
    "\n",
    "for key, rho_e in estimates.items():\n",
    "    p = np.round(purity(rho_e),3)\n",
    "    print(f\"{key} estimates a purity of {p}.\")"
   ]
  },
  {
   "cell_type": "code",
   "execution_count": null,
   "metadata": {},
   "outputs": [],
   "source": []
  },
  {
   "cell_type": "code",
   "execution_count": 79,
   "metadata": {},
   "outputs": [],
   "source": [
    "from matplotlib import pyplot as plt\n",
    "from forest.benchmarking.plotting import hinton\n",
    "fig, (ax1, ax2) = plt.subplots(1, 2)\n",
    "hinton(rho_true, ax=ax1)\n",
    "hinton(rho, ax=ax2)\n",
    "ax1.set_title('Analytical')\n",
    "ax2.set_title('Estimated')\n",
    "fig.tight_layout()"
   ]
  },
  {
   "cell_type": "markdown",
   "metadata": {},
   "source": [
    "### Matrix norm between true and estimated is low"
   ]
  },
  {
   "cell_type": "code",
   "execution_count": null,
   "metadata": {},
   "outputs": [],
   "source": [
    "np.linalg.norm(rho - rho_true)"
   ]
  },
  {
   "cell_type": "markdown",
   "metadata": {},
   "source": [
    "## Linear inversion estimate"
   ]
  },
  {
   "cell_type": "code",
   "execution_count": null,
   "metadata": {},
   "outputs": [],
   "source": [
    "from forest.benchmarking.tomography import linear_inv_state_estimate\n",
    "rho = linear_inv_state_estimate(results, qubits=qubits)\n",
    "\n",
    "print(np.round(rho, 4))\n",
    "print('Purity =', np.trace(rho @ rho))\n",
    "hinton(rho)"
   ]
  },
  {
   "cell_type": "markdown",
   "metadata": {},
   "source": [
    "## Project Linear inversion estimate to the closest physical state"
   ]
  },
  {
   "cell_type": "code",
   "execution_count": 80,
   "metadata": {},
   "outputs": [
    {
     "data": {
      "image/png": "[encoded data removed]",
      "text/plain": [
       "<Figure size 432x288 with 2 Axes>"
      ]
     },
     "metadata": {},
     "output_type": "display_data"
    }
   ],
   "source": [
    "from forest.benchmarking.operator_tools.project_state_matrix import project_state_matrix_to_physical\n",
    "\n",
    "rho_phys = project_state_matrix_to_physical(rho_unphys)\n",
    "\n",
    "fig, (ax1, ax2) = plt.subplots(1, 2)\n",
    "hinton(rho_unphys, ax=ax1)\n",
    "hinton(rho_phys, ax=ax2)\n",
    "ax1.set_title('Unphysical')\n",
    "ax2.set_title('Physical projection')\n",
    "fig.tight_layout()"
   ]
  },
  {
   "cell_type": "code",
   "execution_count": null,
   "metadata": {},
   "outputs": [],
   "source": [
    "# Test the wizard method. Example from fig 1 of maximum likelihood minimum effort \n",
    "# https://doi.org/10.1103/PhysRevLett.108.070502\n",
    "\n",
    "eigs = np.diag(np.array(list(reversed([3.0/5, 1.0/2, 7.0/20, 1.0/10, -11.0/20]))))\n",
    "phys = project_state_matrix_to_physical(eigs)\n",
    "np.allclose(phys, np.diag([0, 0, 1.0/5, 7.0/20, 9.0/20]))"
   ]
  },
  {
   "cell_type": "markdown",
   "metadata": {},
   "source": [
    "# Lightweight Bootstrap for functionals of the state"
   ]
  },
  {
   "cell_type": "code",
   "execution_count": 91,
   "metadata": {},
   "outputs": [],
   "source": [
    "import forest.benchmarking.distance_measures as dm\n",
    "from forest.benchmarking.tomography import estimate_variance"
   ]
  },
  {
   "cell_type": "code",
   "execution_count": 92,
   "metadata": {},
   "outputs": [],
   "source": [
    "from functools import partial\n",
    "fast_tomo_est = partial(iterative_mle_state_estimate, epsilon=.0001, beta=.5, tol=1e-3)"
   ]
  },
  {
   "cell_type": "markdown",
   "metadata": {},
   "source": [
    "**Purity**"
   ]
  },
  {
   "cell_type": "code",
   "execution_count": 93,
   "metadata": {},
   "outputs": [
    {
     "name": "stdout",
     "output_type": "stream",
     "text": [
      "(0.976366671390057, 8.096610769504756e-06)\n",
      "(0.9551345210316053, 0.00013453288014556413)\n"
     ]
    }
   ],
   "source": [
    "mle_est = estimate_variance(results, qubits, fast_tomo_est, dm.purity,\n",
    "                            n_resamples=40, project_to_physical=True)\n",
    "lin_inv_est = estimate_variance(results, qubits, linear_inv_state_estimate, dm.purity,\n",
    "                                n_resamples=40, project_to_physical=True)\n",
    "print(mle_est)\n",
    "print(lin_inv_est)"
   ]
  },
  {
   "cell_type": "markdown",
   "metadata": {},
   "source": [
    "**Fidelity**"
   ]
  },
  {
   "cell_type": "code",
   "execution_count": 95,
   "metadata": {},
   "outputs": [
    {
     "name": "stdout",
     "output_type": "stream",
     "text": [
      "Failed to find a square root.\n",
      "Failed to find a square root.\n"
     ]
    },
    {
     "ename": "ValueError",
     "evalue": "array must not contain infs or NaNs",
     "output_type": "error",
     "traceback": [
      "\u001b[0;31m---------------------------------------------------------------------------\u001b[0m",
      "\u001b[0;31mValueError\u001b[0m                                Traceback (most recent call last)",
      "\u001b[0;32m<ipython-input-95-20e32c80bfa1>\u001b[0m in \u001b[0;36m<module>\u001b[0;34m\u001b[0m\n\u001b[1;32m      1\u001b[0m mle_est = estimate_variance(results, qubits, fast_tomo_est, dm.fidelity,\n\u001b[0;32m----> 2\u001b[0;31m                             target_state=rho_true, n_resamples=40, project_to_physical=True)\n\u001b[0m\u001b[1;32m      3\u001b[0m lin_inv_est = estimate_variance(results, qubits, linear_inv_state_estimate, dm.fidelity,\n\u001b[1;32m      4\u001b[0m                                 target_state=rho_true, n_resamples=40, project_to_physical=True)\n\u001b[1;32m      5\u001b[0m \u001b[0mprint\u001b[0m\u001b[0;34m(\u001b[0m\u001b[0mmle_est\u001b[0m\u001b[0;34m)\u001b[0m\u001b[0;34m\u001b[0m\u001b[0;34m\u001b[0m\u001b[0m\n",
      "\u001b[0;32m~/forest-benchmarking/forest/benchmarking/tomography.py\u001b[0m in \u001b[0;36mestimate_variance\u001b[0;34m(results, qubits, tomo_estimator, functional, target_state, n_resamples, project_to_physical)\u001b[0m\n\u001b[1;32m    426\u001b[0m             \u001b[0msample_estimate\u001b[0m\u001b[0;34m.\u001b[0m\u001b[0mappend\u001b[0m\u001b[0;34m(\u001b[0m\u001b[0mnp\u001b[0m\u001b[0;34m.\u001b[0m\u001b[0mreal\u001b[0m\u001b[0;34m(\u001b[0m\u001b[0mdm\u001b[0m\u001b[0;34m.\u001b[0m\u001b[0mpurity\u001b[0m\u001b[0;34m(\u001b[0m\u001b[0mrho\u001b[0m\u001b[0;34m,\u001b[0m \u001b[0mdim_renorm\u001b[0m\u001b[0;34m=\u001b[0m\u001b[0;32mFalse\u001b[0m\u001b[0;34m)\u001b[0m\u001b[0;34m)\u001b[0m\u001b[0;34m)\u001b[0m\u001b[0;34m\u001b[0m\u001b[0;34m\u001b[0m\u001b[0m\n\u001b[1;32m    427\u001b[0m         \u001b[0;32melse\u001b[0m\u001b[0;34m:\u001b[0m\u001b[0;34m\u001b[0m\u001b[0;34m\u001b[0m\u001b[0m\n\u001b[0;32m--> 428\u001b[0;31m             \u001b[0msample_estimate\u001b[0m\u001b[0;34m.\u001b[0m\u001b[0mappend\u001b[0m\u001b[0;34m(\u001b[0m\u001b[0mnp\u001b[0m\u001b[0;34m.\u001b[0m\u001b[0mreal\u001b[0m\u001b[0;34m(\u001b[0m\u001b[0mfunctional\u001b[0m\u001b[0;34m(\u001b[0m\u001b[0mtarget_state\u001b[0m\u001b[0;34m,\u001b[0m \u001b[0mrho\u001b[0m\u001b[0;34m)\u001b[0m\u001b[0;34m)\u001b[0m\u001b[0;34m)\u001b[0m\u001b[0;34m\u001b[0m\u001b[0;34m\u001b[0m\u001b[0m\n\u001b[0m\u001b[1;32m    429\u001b[0m \u001b[0;34m\u001b[0m\u001b[0m\n\u001b[1;32m    430\u001b[0m     \u001b[0;32mreturn\u001b[0m \u001b[0mnp\u001b[0m\u001b[0;34m.\u001b[0m\u001b[0mmean\u001b[0m\u001b[0;34m(\u001b[0m\u001b[0msample_estimate\u001b[0m\u001b[0;34m)\u001b[0m\u001b[0;34m,\u001b[0m \u001b[0mnp\u001b[0m\u001b[0;34m.\u001b[0m\u001b[0mvar\u001b[0m\u001b[0;34m(\u001b[0m\u001b[0msample_estimate\u001b[0m\u001b[0;34m)\u001b[0m\u001b[0;34m\u001b[0m\u001b[0;34m\u001b[0m\u001b[0m\n",
      "\u001b[0;32m~/forest-benchmarking/forest/benchmarking/distance_measures.py\u001b[0m in \u001b[0;36mfidelity\u001b[0;34m(rho, sigma)\u001b[0m\n\u001b[1;32m     50\u001b[0m     \u001b[0;34m:\u001b[0m\u001b[0;32mreturn\u001b[0m\u001b[0;34m:\u001b[0m \u001b[0mFidelity\u001b[0m \u001b[0mwhich\u001b[0m \u001b[0;32mis\u001b[0m \u001b[0ma\u001b[0m \u001b[0mscalar\u001b[0m\u001b[0;34m.\u001b[0m\u001b[0;34m\u001b[0m\u001b[0;34m\u001b[0m\u001b[0m\n\u001b[1;32m     51\u001b[0m     \"\"\"\n\u001b[0;32m---> 52\u001b[0;31m     \u001b[0;32mreturn\u001b[0m \u001b[0;34m(\u001b[0m\u001b[0mnp\u001b[0m\u001b[0;34m.\u001b[0m\u001b[0mtrace\u001b[0m\u001b[0;34m(\u001b[0m\u001b[0msqrtm\u001b[0m\u001b[0;34m(\u001b[0m\u001b[0mnp\u001b[0m\u001b[0;34m.\u001b[0m\u001b[0mmatmul\u001b[0m\u001b[0;34m(\u001b[0m\u001b[0mnp\u001b[0m\u001b[0;34m.\u001b[0m\u001b[0mmatmul\u001b[0m\u001b[0;34m(\u001b[0m\u001b[0msqrtm\u001b[0m\u001b[0;34m(\u001b[0m\u001b[0mrho\u001b[0m\u001b[0;34m)\u001b[0m\u001b[0;34m,\u001b[0m \u001b[0msigma\u001b[0m\u001b[0;34m)\u001b[0m\u001b[0;34m,\u001b[0m \u001b[0msqrtm\u001b[0m\u001b[0;34m(\u001b[0m\u001b[0mrho\u001b[0m\u001b[0;34m)\u001b[0m\u001b[0;34m)\u001b[0m\u001b[0;34m)\u001b[0m\u001b[0;34m)\u001b[0m\u001b[0;34m)\u001b[0m \u001b[0;34m**\u001b[0m \u001b[0;36m2\u001b[0m\u001b[0;34m\u001b[0m\u001b[0;34m\u001b[0m\u001b[0m\n\u001b[0m\u001b[1;32m     53\u001b[0m \u001b[0;34m\u001b[0m\u001b[0m\n\u001b[1;32m     54\u001b[0m \u001b[0;34m\u001b[0m\u001b[0m\n",
      "\u001b[0;32m/anaconda3/lib/python3.7/site-packages/scipy/linalg/_matfuncs_sqrtm.py\u001b[0m in \u001b[0;36msqrtm\u001b[0;34m(A, disp, blocksize)\u001b[0m\n\u001b[1;32m    161\u001b[0m \u001b[0;34m\u001b[0m\u001b[0m\n\u001b[1;32m    162\u001b[0m     \"\"\"\n\u001b[0;32m--> 163\u001b[0;31m     \u001b[0mA\u001b[0m \u001b[0;34m=\u001b[0m \u001b[0m_asarray_validated\u001b[0m\u001b[0;34m(\u001b[0m\u001b[0mA\u001b[0m\u001b[0;34m,\u001b[0m \u001b[0mcheck_finite\u001b[0m\u001b[0;34m=\u001b[0m\u001b[0;32mTrue\u001b[0m\u001b[0;34m,\u001b[0m \u001b[0mas_inexact\u001b[0m\u001b[0;34m=\u001b[0m\u001b[0;32mTrue\u001b[0m\u001b[0;34m)\u001b[0m\u001b[0;34m\u001b[0m\u001b[0;34m\u001b[0m\u001b[0m\n\u001b[0m\u001b[1;32m    164\u001b[0m     \u001b[0;32mif\u001b[0m \u001b[0mlen\u001b[0m\u001b[0;34m(\u001b[0m\u001b[0mA\u001b[0m\u001b[0;34m.\u001b[0m\u001b[0mshape\u001b[0m\u001b[0;34m)\u001b[0m \u001b[0;34m!=\u001b[0m \u001b[0;36m2\u001b[0m\u001b[0;34m:\u001b[0m\u001b[0;34m\u001b[0m\u001b[0;34m\u001b[0m\u001b[0m\n\u001b[1;32m    165\u001b[0m         \u001b[0;32mraise\u001b[0m \u001b[0mValueError\u001b[0m\u001b[0;34m(\u001b[0m\u001b[0;34m\"Non-matrix input to matrix function.\"\u001b[0m\u001b[0;34m)\u001b[0m\u001b[0;34m\u001b[0m\u001b[0;34m\u001b[0m\u001b[0m\n",
      "\u001b[0;32m/anaconda3/lib/python3.7/site-packages/scipy/_lib/_util.py\u001b[0m in \u001b[0;36m_asarray_validated\u001b[0;34m(a, check_finite, sparse_ok, objects_ok, mask_ok, as_inexact)\u001b[0m\n\u001b[1;32m    237\u001b[0m             \u001b[0;32mraise\u001b[0m \u001b[0mValueError\u001b[0m\u001b[0;34m(\u001b[0m\u001b[0;34m'masked arrays are not supported'\u001b[0m\u001b[0;34m)\u001b[0m\u001b[0;34m\u001b[0m\u001b[0;34m\u001b[0m\u001b[0m\n\u001b[1;32m    238\u001b[0m     \u001b[0mtoarray\u001b[0m \u001b[0;34m=\u001b[0m \u001b[0mnp\u001b[0m\u001b[0;34m.\u001b[0m\u001b[0masarray_chkfinite\u001b[0m \u001b[0;32mif\u001b[0m \u001b[0mcheck_finite\u001b[0m \u001b[0;32melse\u001b[0m \u001b[0mnp\u001b[0m\u001b[0;34m.\u001b[0m\u001b[0masarray\u001b[0m\u001b[0;34m\u001b[0m\u001b[0;34m\u001b[0m\u001b[0m\n\u001b[0;32m--> 239\u001b[0;31m     \u001b[0ma\u001b[0m \u001b[0;34m=\u001b[0m \u001b[0mtoarray\u001b[0m\u001b[0;34m(\u001b[0m\u001b[0ma\u001b[0m\u001b[0;34m)\u001b[0m\u001b[0;34m\u001b[0m\u001b[0;34m\u001b[0m\u001b[0m\n\u001b[0m\u001b[1;32m    240\u001b[0m     \u001b[0;32mif\u001b[0m \u001b[0;32mnot\u001b[0m \u001b[0mobjects_ok\u001b[0m\u001b[0;34m:\u001b[0m\u001b[0;34m\u001b[0m\u001b[0;34m\u001b[0m\u001b[0m\n\u001b[1;32m    241\u001b[0m         \u001b[0;32mif\u001b[0m \u001b[0ma\u001b[0m\u001b[0;34m.\u001b[0m\u001b[0mdtype\u001b[0m \u001b[0;32mis\u001b[0m \u001b[0mnp\u001b[0m\u001b[0;34m.\u001b[0m\u001b[0mdtype\u001b[0m\u001b[0;34m(\u001b[0m\u001b[0;34m'O'\u001b[0m\u001b[0;34m)\u001b[0m\u001b[0;34m:\u001b[0m\u001b[0;34m\u001b[0m\u001b[0;34m\u001b[0m\u001b[0m\n",
      "\u001b[0;32m/anaconda3/lib/python3.7/site-packages/numpy/lib/function_base.py\u001b[0m in \u001b[0;36masarray_chkfinite\u001b[0;34m(a, dtype, order)\u001b[0m\n\u001b[1;32m    496\u001b[0m     \u001b[0;32mif\u001b[0m \u001b[0ma\u001b[0m\u001b[0;34m.\u001b[0m\u001b[0mdtype\u001b[0m\u001b[0;34m.\u001b[0m\u001b[0mchar\u001b[0m \u001b[0;32min\u001b[0m \u001b[0mtypecodes\u001b[0m\u001b[0;34m[\u001b[0m\u001b[0;34m'AllFloat'\u001b[0m\u001b[0;34m]\u001b[0m \u001b[0;32mand\u001b[0m \u001b[0;32mnot\u001b[0m \u001b[0mnp\u001b[0m\u001b[0;34m.\u001b[0m\u001b[0misfinite\u001b[0m\u001b[0;34m(\u001b[0m\u001b[0ma\u001b[0m\u001b[0;34m)\u001b[0m\u001b[0;34m.\u001b[0m\u001b[0mall\u001b[0m\u001b[0;34m(\u001b[0m\u001b[0;34m)\u001b[0m\u001b[0;34m:\u001b[0m\u001b[0;34m\u001b[0m\u001b[0;34m\u001b[0m\u001b[0m\n\u001b[1;32m    497\u001b[0m         raise ValueError(\n\u001b[0;32m--> 498\u001b[0;31m             \"array must not contain infs or NaNs\")\n\u001b[0m\u001b[1;32m    499\u001b[0m     \u001b[0;32mreturn\u001b[0m \u001b[0ma\u001b[0m\u001b[0;34m\u001b[0m\u001b[0;34m\u001b[0m\u001b[0m\n\u001b[1;32m    500\u001b[0m \u001b[0;34m\u001b[0m\u001b[0m\n",
      "\u001b[0;31mValueError\u001b[0m: array must not contain infs or NaNs"
     ]
    }
   ],
   "source": [
    "mle_est = estimate_variance(results, qubits, fast_tomo_est, dm.fidelity,\n",
    "                            target_state=rho_true, n_resamples=40, project_to_physical=True)\n",
    "lin_inv_est = estimate_variance(results, qubits, linear_inv_state_estimate, dm.fidelity,\n",
    "                                target_state=rho_true, n_resamples=40, project_to_physical=True)\n",
    "print(mle_est)\n",
    "print(lin_inv_est)"
   ]
  },
  {
   "cell_type": "markdown",
   "metadata": {},
   "source": [
    "## Advanced topics"
   ]
  },
  {
   "cell_type": "code",
   "execution_count": null,
   "metadata": {},
   "outputs": [],
   "source": []
  }
 ],
 "metadata": {
  "kernelspec": {
   "display_name": "Python 3",
   "language": "python",
   "name": "python3"
  },
  "language_info": {
   "codemirror_mode": {
    "name": "ipython",
    "version": 3
   },
   "file_extension": ".py",
   "mimetype": "text/x-python",
   "name": "python",
   "nbconvert_exporter": "python",
   "pygments_lexer": "ipython3",
   "version": "3.7.3"
  }
 },
 "nbformat": 4,
 "nbformat_minor": 2
}
