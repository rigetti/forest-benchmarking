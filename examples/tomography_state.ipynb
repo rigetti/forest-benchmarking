{
 "cells": [
  {
   "cell_type": "markdown",
   "metadata": {},
   "source": [
    "# State tomography\n",
    "State tomography involves measuring a quantum state repeatedly in the bases given by `itertools.product(['X', 'Y', 'Z], repeat=n_qubits)`. From these measurements, we can reconstruct a density matrix $\\rho$."
   ]
  },
  {
   "cell_type": "code",
   "execution_count": null,
   "metadata": {},
   "outputs": [],
   "source": [
    "import numpy as np\n",
    "from pyquil import Program, get_qc\n",
    "from pyquil.gates import *"
   ]
  },
  {
   "cell_type": "markdown",
   "metadata": {},
   "source": [
    "## Construct a state with a `Program`\n",
    "We'll construct a two-qubit graph state by Hadamarding all qubits and then applying a controlled-Z operation across edges of our graph. In the two-qubit case, there's only one edge. "
   ]
  },
  {
   "cell_type": "code",
   "execution_count": null,
   "metadata": {},
   "outputs": [],
   "source": [
    "qubits = [0, 1]\n",
    "program = Program()\n",
    "for qubit in qubits:\n",
    "    program += H(qubit)\n",
    "program += CZ(qubits[0], qubits[1])\n",
    "print(program)"
   ]
  },
  {
   "cell_type": "markdown",
   "metadata": {},
   "source": [
    "## Construct a `ObservablesExperiment` for state tomography\n",
    "We can print this out to see the 16 measurements we will perform."
   ]
  },
  {
   "cell_type": "code",
   "execution_count": null,
   "metadata": {},
   "outputs": [],
   "source": [
    "from forest.benchmarking.tomography import generate_state_tomography_experiment\n",
    "experiment = generate_state_tomography_experiment(program=program, qubits=qubits)\n",
    "print(experiment)"
   ]
  },
  {
   "cell_type": "markdown",
   "metadata": {},
   "source": [
    "### Optional grouping\n",
    "We can simultaneously estimate some of these observables"
   ]
  },
  {
   "cell_type": "code",
   "execution_count": null,
   "metadata": {},
   "outputs": [],
   "source": [
    "from forest.benchmarking.observable_estimation import group_settings\n",
    "print(group_settings(experiment))"
   ]
  },
  {
   "cell_type": "markdown",
   "metadata": {},
   "source": [
    "## PyQuil will run the tomography programs"
   ]
  },
  {
   "cell_type": "code",
   "execution_count": null,
   "metadata": {},
   "outputs": [],
   "source": [
    "from forest.benchmarking.observable_estimation import estimate_observables\n",
    "\n",
    "qc = get_qc('2q-qvm')\n",
    "# Over-write full quilc compilation with a much more simple\n",
    "# version that *only* substitutes gates to Rigetti-native gates.\n",
    "# We don't want to accidentally compile away our tomography circuit\n",
    "# or map to different qubits.\n",
    "from forest.benchmarking.compilation import basic_compile\n",
    "qc.compiler.quil_to_native_quil = basic_compile\n",
    "\n",
    "results = list(estimate_observables(qc, experiment))\n",
    "results"
   ]
  },
  {
   "cell_type": "markdown",
   "metadata": {},
   "source": [
    "### We can look at a bunch of numbers..."
   ]
  },
  {
   "cell_type": "code",
   "execution_count": null,
   "metadata": {},
   "outputs": [],
   "source": [
    "from forest.benchmarking.tomography import linear_inv_state_estimate\n",
    "rho = linear_inv_state_estimate(results, qubits=qubits)\n",
    "np.round(rho, 3)"
   ]
  },
  {
   "cell_type": "code",
   "execution_count": null,
   "metadata": {},
   "outputs": [],
   "source": [
    "psi = (1/2) * np.array([1, 1, 1, -1])\n",
    "rho_true = np.outer(psi, psi.T.conj())\n",
    "rho_true"
   ]
  },
  {
   "cell_type": "markdown",
   "metadata": {},
   "source": [
    "### Or visualize using Hinton plots"
   ]
  },
  {
   "cell_type": "code",
   "execution_count": null,
   "metadata": {},
   "outputs": [],
   "source": [
    "from matplotlib import pyplot as plt\n",
    "from forest.benchmarking.plotting import hinton\n",
    "fig, (ax1, ax2) = plt.subplots(1, 2)\n",
    "hinton(rho_true, ax=ax1)\n",
    "hinton(rho, ax=ax2)\n",
    "ax1.set_title('Analytical')\n",
    "ax2.set_title('Estimated')\n",
    "fig.tight_layout()"
   ]
  },
  {
   "cell_type": "markdown",
   "metadata": {},
   "source": [
    "### Matrix norm between true and estimated is low"
   ]
  },
  {
   "cell_type": "code",
   "execution_count": null,
   "metadata": {},
   "outputs": [],
   "source": [
    "np.linalg.norm(rho - rho_true)"
   ]
  },
  {
   "cell_type": "markdown",
   "metadata": {},
   "source": [
    "## Linear inversion estimate"
   ]
  },
  {
   "cell_type": "code",
   "execution_count": null,
   "metadata": {},
   "outputs": [],
   "source": [
    "from forest.benchmarking.tomography import linear_inv_state_estimate\n",
    "rho = linear_inv_state_estimate(results, qubits=qubits)\n",
    "\n",
    "print(np.round(rho, 4))\n",
    "print('Purity =', np.trace(rho @ rho))\n",
    "hinton(rho)"
   ]
  },
  {
   "cell_type": "markdown",
   "metadata": {},
   "source": [
    "## Maximum Liklihood Estimate (MLE) via diluted iterative method"
   ]
  },
  {
   "cell_type": "code",
   "execution_count": null,
   "metadata": {},
   "outputs": [],
   "source": [
    "from forest.benchmarking.tomography import iterative_mle_state_estimate\n",
    "rho = iterative_mle_state_estimate(results=results, qubits=qubits)\n",
    "print(np.around(rho, decimals=4))\n",
    "print('Purity =', np.trace(rho @ rho))\n",
    "hinton(rho)"
   ]
  },
  {
   "cell_type": "markdown",
   "metadata": {},
   "source": [
    "## MLE with Max Entropy constraint"
   ]
  },
  {
   "cell_type": "code",
   "execution_count": null,
   "metadata": {},
   "outputs": [],
   "source": [
    "rho = iterative_mle_state_estimate(results=results, qubits=qubits, epsilon=0.5, entropy_penalty=0.005)\n",
    "print(np.around(rho, decimals=4))\n",
    "print('Purity =', np.trace(rho @ rho))\n",
    "hinton(rho)"
   ]
  },
  {
   "cell_type": "markdown",
   "metadata": {},
   "source": [
    "## MLE with Hedging parameter"
   ]
  },
  {
   "cell_type": "code",
   "execution_count": null,
   "metadata": {},
   "outputs": [],
   "source": [
    "rho = iterative_mle_state_estimate(results=results, qubits=qubits, epsilon=.0001, beta=.61)\n",
    "print(np.around(rho, decimals=4))\n",
    "print('Purity = ', np.trace(rho @ rho))\n",
    "hinton(rho)"
   ]
  },
  {
   "cell_type": "markdown",
   "metadata": {},
   "source": [
    "## Project an unphysical state to the closest physical state"
   ]
  },
  {
   "cell_type": "code",
   "execution_count": null,
   "metadata": {},
   "outputs": [],
   "source": [
    "from forest.benchmarking.operator_tools.project_state_matrix import project_state_matrix_to_physical\n",
    "rho_unphys = np.random.uniform(-1, 1, (2, 2)) \\\n",
    "    * np.exp(1.j * np.random.uniform(-np.pi, np.pi, (2, 2)))\n",
    "rho_phys = project_state_matrix_to_physical(rho_unphys)\n",
    "\n",
    "fig, (ax1, ax2) = plt.subplots(1, 2)\n",
    "hinton(rho_unphys, ax=ax1)\n",
    "hinton(rho_phys, ax=ax2)\n",
    "ax1.set_title('Unphysical')\n",
    "ax2.set_title('Physical projection')\n",
    "fig.tight_layout()"
   ]
  },
  {
   "cell_type": "code",
   "execution_count": null,
   "metadata": {},
   "outputs": [],
   "source": [
    "# Test the wizard method. Example from fig 1 of maximum likelihood minimum effort \n",
    "# https://doi.org/10.1103/PhysRevLett.108.070502\n",
    "\n",
    "eigs = np.diag(np.array(list(reversed([3.0/5, 1.0/2, 7.0/20, 1.0/10, -11.0/20]))))\n",
    "phys = project_state_matrix_to_physical(eigs)\n",
    "np.allclose(phys, np.diag([0, 0, 1.0/5, 7.0/20, 9.0/20]))"
   ]
  },
  {
   "cell_type": "markdown",
   "metadata": {},
   "source": [
    "# Lightweight Bootstrap for functionals of the state"
   ]
  },
  {
   "cell_type": "code",
   "execution_count": null,
   "metadata": {},
   "outputs": [],
   "source": [
    "import forest.benchmarking.distance_measures as dm\n",
    "from forest.benchmarking.tomography import estimate_variance"
   ]
  },
  {
   "cell_type": "code",
   "execution_count": null,
   "metadata": {},
   "outputs": [],
   "source": [
    "from functools import partial\n",
    "fast_tomo_est = partial(iterative_mle_state_estimate, epsilon=.0001, beta=.5, tol=1e-3)"
   ]
  },
  {
   "cell_type": "markdown",
   "metadata": {},
   "source": [
    "**Purity**"
   ]
  },
  {
   "cell_type": "code",
   "execution_count": null,
   "metadata": {},
   "outputs": [],
   "source": [
    "mle_est = estimate_variance(results, qubits, fast_tomo_est, dm.purity,\n",
    "                            n_resamples=40, project_to_physical=True)\n",
    "lin_inv_est = estimate_variance(results, qubits, linear_inv_state_estimate, dm.purity,\n",
    "                                n_resamples=40, project_to_physical=True)\n",
    "print(mle_est)\n",
    "print(lin_inv_est)"
   ]
  },
  {
   "cell_type": "markdown",
   "metadata": {},
   "source": [
    "**Fidelity**"
   ]
  },
  {
   "cell_type": "code",
   "execution_count": null,
   "metadata": {},
   "outputs": [],
   "source": [
    "mle_est = estimate_variance(results, qubits, fast_tomo_est, dm.fidelity,\n",
    "                            target_state=rho_true, n_resamples=40, project_to_physical=True)\n",
    "lin_inv_est = estimate_variance(results, qubits, linear_inv_state_estimate, dm.fidelity,\n",
    "                                target_state=rho_true, n_resamples=40, project_to_physical=True)\n",
    "print(mle_est)\n",
    "print(lin_inv_est)"
   ]
  },
  {
   "cell_type": "code",
   "execution_count": null,
   "metadata": {},
   "outputs": [],
   "source": []
  }
 ],
 "metadata": {
  "language_info": {
   "name": "python",
   "pygments_lexer": "ipython3"
  }
 },
 "nbformat": 4,
 "nbformat_minor": 2
}
