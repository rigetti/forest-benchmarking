{
 "cells": [
  {
   "cell_type": "markdown",
   "metadata": {},
   "source": [
    "# Direct Fidelity Estimation example"
   ]
  },
  {
   "cell_type": "code",
   "execution_count": 1,
   "metadata": {},
   "outputs": [],
   "source": [
    "from pyquil.paulis import ID\n",
    "from pyquil.gates import I, X, MEASURE, H, CZ, RY\n",
    "from pyquil import Program, get_qc\n",
    "from pyquil.api import get_benchmarker\n",
    "from forest.benchmarking.direct_fidelity_estimation import ( generate_exhaustive_state_dfe_experiment, \n",
    "                                                             generate_exhaustive_process_dfe_experiment,\n",
    "                                                             generate_monte_carlo_state_dfe_experiment, \n",
    "                                                             generate_monte_carlo_process_dfe_experiment,\n",
    "                                                             acquire_dfe_data,\n",
    "                                                             estimate_dfe )\n",
    "\n",
    "import numpy as np\n",
    "from matplotlib import pyplot"
   ]
  },
  {
   "cell_type": "code",
   "execution_count": 2,
   "metadata": {},
   "outputs": [],
   "source": [
    "# noiseless QVM\n",
    "qvm = get_qc(\"9q-generic-qvm\", as_qvm=True, noisy=False)\n",
    "\n",
    "# noisy QVM\n",
    "noisy_qvm = get_qc(\"9q-generic-qvm\", as_qvm=True, noisy=True)\n",
    "\n",
    "bm = get_benchmarker()"
   ]
  },
  {
   "cell_type": "markdown",
   "metadata": {},
   "source": [
    "### State prep (thing we will do DFE on)"
   ]
  },
  {
   "cell_type": "code",
   "execution_count": 3,
   "metadata": {},
   "outputs": [
    {
     "name": "stdout",
     "output_type": "stream",
     "text": [
      "CZ 0 1\n",
      "\n"
     ]
    }
   ],
   "source": [
    "p = Program()\n",
    "prep_prog = p.inst(CZ(0,1))\n",
    "print(prep_prog)"
   ]
  },
  {
   "cell_type": "markdown",
   "metadata": {},
   "source": [
    "### Get things required for a DFE experiment ... aka experiment object"
   ]
  },
  {
   "cell_type": "markdown",
   "metadata": {},
   "source": [
    "Namely return a namedtuple consisiting of \n",
    "- pauli_in, \n",
    "- prog, \n",
    "- pauli_out."
   ]
  },
  {
   "cell_type": "code",
   "execution_count": 4,
   "metadata": {},
   "outputs": [],
   "source": [
    "# state dfe\n",
    "state_exp = generate_exhaustive_state_dfe_experiment(prep_prog,[0,1],bm)\n",
    "\n",
    "# process dfe\n",
    "process_exp = generate_exhaustive_process_dfe_experiment(prep_prog,[0,1],bm)"
   ]
  },
  {
   "cell_type": "markdown",
   "metadata": {},
   "source": [
    "### Acquire DFE data (noiseless)"
   ]
  },
  {
   "cell_type": "markdown",
   "metadata": {},
   "source": [
    "Returns dfe data 'data' and calibration data 'cal' namedtuple separately"
   ]
  },
  {
   "cell_type": "code",
   "execution_count": 5,
   "metadata": {},
   "outputs": [
    {
     "name": "stdout",
     "output_type": "stream",
     "text": [
      "================================\n",
      "[1. 1. 1. 1. 1. 1. 1. 1. 1. 1. 1. 1. 1. 1. 1. 1. 1. 1. 1. 1. 1. 1. 1. 1.\n",
      " 1. 1. 1. 1. 1. 1. 1. 1. 1. 1. 1. 1. 1. 1. 1. 1. 1. 1. 1. 1. 1. 1. 1. 1.]\n",
      "================================\n",
      "[1. 1. 1. 1. 1. 1. 1. 1. 1. 1. 1. 1. 1. 1. 1. 1. 1. 1. 1. 1. 1. 1. 1. 1.\n",
      " 1. 1. 1. 1. 1. 1. 1. 1. 1. 1. 1. 1. 1. 1. 1. 1. 1. 1. 1. 1. 1. 1. 1. 1.]\n"
     ]
    }
   ],
   "source": [
    "data = acquire_dfe_data(qvm, process_exp)\n",
    "print(\"================================\")\n",
    "print(data.pauli_point_est)\n",
    "print(\"================================\")\n",
    "print(data.cal_point_est)"
   ]
  },
  {
   "cell_type": "markdown",
   "metadata": {},
   "source": [
    "### Acquire DFE data (noisy QVM)"
   ]
  },
  {
   "cell_type": "code",
   "execution_count": 6,
   "metadata": {},
   "outputs": [
    {
     "name": "stdout",
     "output_type": "stream",
     "text": [
      "================================\n",
      "[0.98817481 0.97697951 0.99414907 0.98038716 1.002487   0.9894287\n",
      " 1.00516262 0.9747191  0.96943673 0.97831079 0.97637795 1.00022712\n",
      " 0.9799775  0.99486785 0.98226501 0.9763921  0.97687564 0.97402931\n",
      " 0.98370672 0.97881451 1.01321244 0.96901194 0.98203746 0.98805287\n",
      " 0.98426213 0.97891431 0.98739874 0.99872155 0.96299094 0.98989375\n",
      " 1.00541656 0.9703855  0.98508812 1.         1.00158228 0.98754247\n",
      " 0.97993688 0.98655424 0.98962328 0.98318471 0.98150025 0.99955016\n",
      " 0.99026048 0.98956443 0.98820059 0.99300542 0.98778315 1.00772002]\n",
      "================================\n",
      "[0.778  0.7906 0.7862 0.7852 0.8846 0.8892 0.7748 0.7832 0.7918 0.7838\n",
      " 0.7874 0.8806 0.889  0.7794 0.7894 0.7794 0.7784 0.7778 0.8838 0.8874\n",
      " 0.772  0.7874 0.7794 0.7868 0.7752 0.8916 0.8888 0.7822 0.7944 0.7718\n",
      " 0.7754 0.7834 0.8852 0.8802 0.8848 0.883  0.8872 0.8776 0.8866 0.785\n",
      " 0.7892 0.8892 0.883  0.8816 0.8814 0.8864 0.7858 0.7772]\n"
     ]
    }
   ],
   "source": [
    "n_data = acquire_dfe_data(noisy_qvm, process_exp)\n",
    "print(\"================================\")\n",
    "print(n_data.pauli_point_est)\n",
    "print(\"================================\")\n",
    "print(n_data.cal_point_est)"
   ]
  },
  {
   "cell_type": "markdown",
   "metadata": {},
   "source": [
    "### Estimate fidelity (noiseless QVM)"
   ]
  },
  {
   "cell_type": "code",
   "execution_count": 7,
   "metadata": {},
   "outputs": [
    {
     "name": "stdout",
     "output_type": "stream",
     "text": [
      "==================================================\n",
      "Fidelity point estimate is 1.0\n",
      "The standard error of the fidelity point estimate is 0.0\n",
      "==================================================\n"
     ]
    }
   ],
   "source": [
    "est = estimate_dfe(data,'process')\n",
    "print(\"==================================================\")\n",
    "print('Fidelity point estimate is', est.fid_point_est)\n",
    "print('The standard error of the fidelity point estimate is', est.fid_std_err)\n",
    "print(\"==================================================\")"
   ]
  },
  {
   "cell_type": "markdown",
   "metadata": {},
   "source": [
    "### Estimate fidelity (noisy QVM)"
   ]
  },
  {
   "cell_type": "code",
   "execution_count": 8,
   "metadata": {},
   "outputs": [
    {
     "name": "stdout",
     "output_type": "stream",
     "text": [
      "DFEEstimate(dimension=4, qubits=[0, 1], fid_point_est=0.9896190019901285, fid_std_err=0.0011444942205558928)\n",
      "==================================================\n",
      "Fidelity point estimate is 0.9896190019901285\n",
      "The std error of the fidelity point estimate is 0.0011444942205558928\n",
      "==================================================\n"
     ]
    }
   ],
   "source": [
    "nest = estimate_dfe(n_data,'process')\n",
    "print(nest)\n",
    "print(\"==================================================\")\n",
    "print('Fidelity point estimate is', nest.fid_point_est)\n",
    "print('The std error of the fidelity point estimate is', nest.fid_std_err)\n",
    "print(\"==================================================\")"
   ]
  },
  {
   "cell_type": "markdown",
   "metadata": {},
   "source": [
    "## State fidelity between $\\left|0\\right\\rangle$ and $R_y(\\theta)\\left|0\\right\\rangle$"
   ]
  },
  {
   "cell_type": "code",
   "execution_count": 4,
   "metadata": {},
   "outputs": [
    {
     "name": "stdout",
     "output_type": "stream",
     "text": [
      "CPU times: user 17.8 ms, sys: 5.61 ms, total: 23.4 ms\n",
      "Wall time: 106 ms\n"
     ]
    }
   ],
   "source": [
    "%%time\n",
    "p = Program(I(0),I(1))\n",
    "zz_state = generate_exhaustive_state_dfe_experiment(p, [0,1], bm)\n",
    "zz_state_mc = generate_monte_carlo_state_dfe_experiment(p, [0,1], bm, n_terms=32)"
   ]
  },
  {
   "cell_type": "markdown",
   "metadata": {},
   "source": [
    "### Exhaustive"
   ]
  },
  {
   "cell_type": "code",
   "execution_count": 21,
   "metadata": {},
   "outputs": [],
   "source": [
    "points = 10\n",
    "res = np.zeros(points)\n",
    "res_std_err = np.zeros(points)\n",
    "for (i,theta) in enumerate(np.linspace(0, np.pi, points)): \n",
    "    zz_state.program = Program(RY(theta,0),RY(theta,1))\n",
    "    zz_state_data = acquire_dfe_data(qvm,zz_state,n_shots=1000)\n",
    "    est = estimate_dfe(zz_state_data, 'state')\n",
    "    res[i] = est.fid_point_est\n",
    "    res_std_err[i] = est.fid_std_err"
   ]
  },
  {
   "cell_type": "code",
   "execution_count": 22,
   "metadata": {},
   "outputs": [
    {
     "data": {
      "text/plain": [
       "Text(0.5, 1.0, 'State fidelity between $\\\\left|0\\\\right\\\\rangle$ and $R_y(\\\\theta)\\\\left|0\\\\right\\\\rangle$')"
      ]
     },
     "execution_count": 22,
     "metadata": {},
     "output_type": "execute_result"
    },
    {
     "data": {
      "image/png": "[encoded data removed]",
      "text/plain": [
       "<Figure size 432x288 with 1 Axes>"
      ]
     },
     "metadata": {
      "needs_background": "light"
     },
     "output_type": "display_data"
    }
   ],
   "source": [
    "pyplot.errorbar(np.linspace(0, np.pi, points), res, res_std_err, fmt=\".\", label=\"Simulation\")\n",
    "pyplot.plot(np.linspace(0, np.pi, points), (1/2+1/2*np.cos(np.linspace(0, np.pi, points)))**2, label=\"Theory\")\n",
    "pyplot.xlabel(r\"$\\theta$\")\n",
    "pyplot.ylabel(\"Fidelity\")\n",
    "pyplot.legend()\n",
    "pyplot.title(r\"State fidelity between $\\left|0\\right\\rangle$ and $R_y(\\theta)\\left|0\\right\\rangle$\")"
   ]
  },
  {
   "cell_type": "markdown",
   "metadata": {},
   "source": [
    "### Monte-Carlo"
   ]
  },
  {
   "cell_type": "code",
   "execution_count": 23,
   "metadata": {},
   "outputs": [],
   "source": [
    "points = 10\n",
    "res = np.zeros(points)\n",
    "res_std_err = np.zeros(points)\n",
    "for (i,theta) in enumerate(np.linspace(0, np.pi, points)):\n",
    "    zz_state_mc = generate_monte_carlo_state_dfe_experiment(p, [0,1], bm, n_terms=32)\n",
    "    zz_state_mc.program = Program(RY(theta,0),RY(theta,1))\n",
    "    zz_state_mc_data = acquire_dfe_data(qvm,zz_state_mc,n_shots=1000)\n",
    "    est = estimate_dfe(zz_state_mc_data, 'state')\n",
    "    res[i] = est.fid_point_est\n",
    "    res_std_err[i] = est.fid_std_err"
   ]
  },
  {
   "cell_type": "code",
   "execution_count": 24,
   "metadata": {},
   "outputs": [
    {
     "data": {
      "text/plain": [
       "Text(0.5, 1.0, 'State fidelity between $\\\\left|0\\\\right\\\\rangle$ and $R_y(\\\\theta)\\\\left|0\\\\right\\\\rangle$')"
      ]
     },
     "execution_count": 24,
     "metadata": {},
     "output_type": "execute_result"
    },
    {
     "data": {
      "image/png": "[encoded data removed]",
      "text/plain": [
       "<Figure size 432x288 with 1 Axes>"
      ]
     },
     "metadata": {
      "needs_background": "light"
     },
     "output_type": "display_data"
    }
   ],
   "source": [
    "pyplot.errorbar(np.linspace(0, np.pi, points), res, res_std_err, fmt=\".\", label=\"Simulation\")\n",
    "pyplot.plot(np.linspace(0, np.pi, points), (1/2+1/2*np.cos(np.linspace(0, np.pi, points)))**2, label=\"Theory\")\n",
    "pyplot.xlabel(r\"$\\theta$\")\n",
    "pyplot.ylabel(\"Fidelity\")\n",
    "pyplot.legend()\n",
    "pyplot.title(r\"State fidelity between $\\left|0\\right\\rangle$ and $R_y(\\theta)\\left|0\\right\\rangle$\")"
   ]
  },
  {
   "cell_type": "markdown",
   "metadata": {},
   "source": [
    "## State fidelity between $\\left|0\\right\\rangle\\left|0\\right\\rangle$ and $R_y(\\theta)\\otimes R_y(2\\theta)\\left|0\\right\\rangle\\left|0\\right\\rangle$"
   ]
  },
  {
   "cell_type": "markdown",
   "metadata": {},
   "source": [
    "### Exhaustive"
   ]
  },
  {
   "cell_type": "code",
   "execution_count": 9,
   "metadata": {},
   "outputs": [],
   "source": [
    "points = 20\n",
    "res = np.zeros(points)\n",
    "res_std_err = np.zeros(points)\n",
    "for (i,theta) in enumerate(np.linspace(0, np.pi, points)): \n",
    "    zz_state.program = Program(RY(theta,0),RY(2*theta,1))\n",
    "    zz_state_data = acquire_dfe_data(qvm,zz_state,n_shots=10_000)\n",
    "    est = estimate_dfe(zz_state_data, 'state')\n",
    "    res[i] = est.fid_point_est\n",
    "    res_std_err[i] = est.fid_std_err"
   ]
  },
  {
   "cell_type": "code",
   "execution_count": 10,
   "metadata": {},
   "outputs": [
    {
     "data": {
      "image/png": "[encoded data removed]",
      "text/plain": [
       "<Figure size 432x288 with 1 Axes>"
      ]
     },
     "metadata": {
      "needs_background": "light"
     },
     "output_type": "display_data"
    }
   ],
   "source": [
    "pyplot.errorbar(np.linspace(0, np.pi, points), res, res_std_err, fmt=\".\", label=\"simulation\")\n",
    "pyplot.plot(np.linspace(0, np.pi, points), \n",
    "            (1/2+1/2*np.cos(np.linspace(0, np.pi, points)))*(1/2+1/2*np.cos(2*np.linspace(0, np.pi, points))),\n",
    "            label=\"theory\")\n",
    "pyplot.xlabel(r\"$\\theta$\")\n",
    "pyplot.ylabel(\"Fidelity\")\n",
    "pyplot.legend()\n",
    "pyplot.title(r\"State fidelity between $\\left|0\\right\\rangle\\left|0\\right\\rangle$ and $R_y(\\theta)\\otimes R_y(2\\theta)\\left|0\\right\\rangle\\left|0\\right\\rangle$\");"
   ]
  },
  {
   "cell_type": "markdown",
   "metadata": {},
   "source": [
    "### Monte Carlo"
   ]
  },
  {
   "cell_type": "code",
   "execution_count": 18,
   "metadata": {},
   "outputs": [],
   "source": [
    "points = 20\n",
    "res = np.zeros(points)\n",
    "res_std_err = np.zeros(points)\n",
    "for (i,theta) in enumerate(np.linspace(0, np.pi, points)): \n",
    "    zz_state_mc = generate_monte_carlo_state_dfe_experiment(p, [0,1], bm, n_terms=32)\n",
    "    zz_state_mc.program = Program(RY(theta,0),RY(2*theta,1))\n",
    "    zz_state_mc_data = acquire_dfe_data(qvm,zz_state_mc,n_shots=10_000)\n",
    "    est = estimate_dfe(zz_state_mc_data, 'state')\n",
    "    res[i] = est.fid_point_est\n",
    "    res_std_err[i] = est.fid_std_err"
   ]
  },
  {
   "cell_type": "code",
   "execution_count": 19,
   "metadata": {},
   "outputs": [
    {
     "data": {
      "text/plain": [
       "Text(0.5, 1.0, 'State fidelity between $\\\\left|0\\\\right\\\\rangle\\\\left|0\\\\right\\\\rangle$ and $R_y(\\\\theta)\\\\otimes R_y(2\\\\theta)\\\\left|0\\\\right\\\\rangle\\\\left|0\\\\right\\\\rangle$')"
      ]
     },
     "execution_count": 19,
     "metadata": {},
     "output_type": "execute_result"
    },
    {
     "data": {
      "image/png": "[encoded data removed]",
      "text/plain": [
       "<Figure size 432x288 with 1 Axes>"
      ]
     },
     "metadata": {
      "needs_background": "light"
     },
     "output_type": "display_data"
    }
   ],
   "source": [
    "pyplot.errorbar(np.linspace(0, np.pi, points), res, res_std_err, fmt=\".\", label=\"simulation\")\n",
    "pyplot.plot(np.linspace(0, np.pi, points), \n",
    "            (1/2+1/2*np.cos(np.linspace(0, np.pi, points)))*(1/2+1/2*np.cos(2*np.linspace(0, np.pi, points))),\n",
    "            label=\"theory\")\n",
    "pyplot.xlabel(r\"$\\theta$\")\n",
    "pyplot.ylabel(\"Fidelity\")\n",
    "pyplot.legend()\n",
    "pyplot.title(r\"State fidelity between $\\left|0\\right\\rangle\\left|0\\right\\rangle$ and $R_y(\\theta)\\otimes R_y(2\\theta)\\left|0\\right\\rangle\\left|0\\right\\rangle$\")"
   ]
  },
  {
   "cell_type": "markdown",
   "metadata": {},
   "source": [
    "## Process fidelity between $I\\otimes I$ and $R_y(\\theta)\\otimes I$"
   ]
  },
  {
   "cell_type": "code",
   "execution_count": 25,
   "metadata": {},
   "outputs": [
    {
     "name": "stdout",
     "output_type": "stream",
     "text": [
      "CPU times: user 15.8 ms, sys: 4.78 ms, total: 20.6 ms\n",
      "Wall time: 113 ms\n"
     ]
    }
   ],
   "source": [
    "%%time\n",
    "p = Program(I(0))\n",
    "ii_proc = generate_exhaustive_process_dfe_experiment(p, [0], bm)\n",
    "ii_proc_mc = generate_monte_carlo_process_dfe_experiment(p, [0], bm, n_terms=32)"
   ]
  },
  {
   "cell_type": "markdown",
   "metadata": {},
   "source": [
    "### Exhaustive"
   ]
  },
  {
   "cell_type": "code",
   "execution_count": 26,
   "metadata": {},
   "outputs": [],
   "source": [
    "points = 20\n",
    "res = np.zeros(points)\n",
    "res_std_err = np.zeros(points)\n",
    "for (i,theta) in enumerate(np.linspace(0, np.pi, points)): \n",
    "    ii_proc.program = Program(RY(theta,0))\n",
    "    ii_proc_data = acquire_dfe_data(qvm,ii_proc,n_shots=500)\n",
    "    est = estimate_dfe(ii_proc_data, 'process')\n",
    "    res[i] = est.fid_point_est\n",
    "    res_std_err[i] = est.fid_std_err"
   ]
  },
  {
   "cell_type": "code",
   "execution_count": 27,
   "metadata": {},
   "outputs": [
    {
     "data": {
      "text/plain": [
       "Text(0.5, 1.0, 'Process fidelity between $I\\\\otimes I$ and $R_y(\\\\theta)\\\\otimes I$')"
      ]
     },
     "execution_count": 27,
     "metadata": {},
     "output_type": "execute_result"
    },
    {
     "data": {
      "image/png": "[encoded data removed]",
      "text/plain": [
       "<Figure size 432x288 with 1 Axes>"
      ]
     },
     "metadata": {
      "needs_background": "light"
     },
     "output_type": "display_data"
    }
   ],
   "source": [
    "pyplot.errorbar(np.linspace(0, np.pi, points), res, res_std_err, fmt=\".\", label=\"data\")\n",
    "pyplot.plot(np.linspace(0, np.pi, points), \n",
    "            (4*np.cos(np.linspace(0, np.pi, points)/2)**2+2)/6,\n",
    "            label=\"theory\")\n",
    "#pyplot.axhline(0.2380952380952381+0.1, color=\"red\", ls=\"--\")\n",
    "pyplot.legend()\n",
    "pyplot.ylim(0,1.25)\n",
    "pyplot.title(r\"Process fidelity between $I\\otimes I$ and $R_y(\\theta)\\otimes I$\")"
   ]
  },
  {
   "cell_type": "markdown",
   "metadata": {},
   "source": [
    "### Monte Carlo"
   ]
  },
  {
   "cell_type": "code",
   "execution_count": 28,
   "metadata": {},
   "outputs": [],
   "source": [
    "points = 20\n",
    "res = np.zeros(points)\n",
    "res_std_err = np.zeros(points)\n",
    "for (i,theta) in enumerate(np.linspace(0, np.pi, points)): \n",
    "    ii_proc_mc = generate_monte_carlo_process_dfe_experiment(p, [0], bm, n_terms=32)\n",
    "    ii_proc_mc.program = Program(RY(theta,0))\n",
    "    ii_proc_mc_data = acquire_dfe_data(qvm, ii_proc_mc, n_shots=500)\n",
    "    est = estimate_dfe(ii_proc_mc_data, 'process')\n",
    "    res[i] = est.fid_point_est\n",
    "    res_std_err[i] = est.fid_std_err"
   ]
  },
  {
   "cell_type": "code",
   "execution_count": 29,
   "metadata": {},
   "outputs": [
    {
     "data": {
      "text/plain": [
       "Text(0.5, 1.0, 'Process fidelity between $I\\\\otimes I$ and $R_y(\\\\theta)\\\\otimes I$')"
      ]
     },
     "execution_count": 29,
     "metadata": {},
     "output_type": "execute_result"
    },
    {
     "data": {
      "image/png": "[encoded data removed]",
      "text/plain": [
       "<Figure size 432x288 with 1 Axes>"
      ]
     },
     "metadata": {
      "needs_background": "light"
     },
     "output_type": "display_data"
    }
   ],
   "source": [
    "pyplot.errorbar(np.linspace(0, np.pi, points), res, res_std_err, fmt=\".\", label=\"data\")\n",
    "pyplot.plot(np.linspace(0, np.pi, points), \n",
    "            (4*np.cos(np.linspace(0, np.pi, points)/2)**2+2)/6,\n",
    "            label=\"theory\")\n",
    "pyplot.legend()\n",
    "pyplot.ylim(0,1.25)\n",
    "pyplot.title(r\"Process fidelity between $I\\otimes I$ and $R_y(\\theta)\\otimes I$\")"
   ]
  },
  {
   "cell_type": "code",
   "execution_count": null,
   "metadata": {},
   "outputs": [],
   "source": []
  }
 ],
 "metadata": {
  "kernelspec": {
   "display_name": "Python 3",
   "language": "python",
   "name": "python3"
  },
  "language_info": {
   "codemirror_mode": {
    "name": "ipython",
    "version": 3
   },
   "file_extension": ".py",
   "mimetype": "text/x-python",
   "name": "python",
   "nbconvert_exporter": "python",
   "pygments_lexer": "ipython3",
   "version": "3.6.7"
  }
 },
 "nbformat": 4,
 "nbformat_minor": 2
}
