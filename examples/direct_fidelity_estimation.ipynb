{
 "cells": [
  {
   "cell_type": "markdown",
   "metadata": {},
   "source": [
    "# Direct Fidelity Estimation example"
   ]
  },
  {
   "cell_type": "code",
   "execution_count": 1,
   "metadata": {},
   "outputs": [],
   "source": [
    "from pyquil.paulis import ID\n",
    "from pyquil.gates import X, MEASURE, H, CZ\n",
    "from pyquil import Program, get_qc\n",
    "from pyquil.api import get_benchmarker\n",
    "from forest.benchmarking.direct_fidelity_estimation import ( generate_exhaustive_state_dfe_experiment, \n",
    "                                                             generate_exhaustive_process_dfe_experiment,\n",
    "                                                             acquire_dfe_data,\n",
    "                                                             estimate_dfe )"
   ]
  },
  {
   "cell_type": "code",
   "execution_count": 2,
   "metadata": {},
   "outputs": [],
   "source": [
    "# noiseless QVM\n",
    "qvm = get_qc(\"9q-generic-qvm\", as_qvm=True, noisy=False)\n",
    "\n",
    "# noisy QVM\n",
    "noisy_qvm = get_qc(\"9q-generic-qvm\", as_qvm=True, noisy=True)\n",
    "\n",
    "bm = get_benchmarker()"
   ]
  },
  {
   "cell_type": "markdown",
   "metadata": {},
   "source": [
    "### State prep (thing we will do DFE on)"
   ]
  },
  {
   "cell_type": "code",
   "execution_count": 3,
   "metadata": {},
   "outputs": [
    {
     "name": "stdout",
     "output_type": "stream",
     "text": [
      "CZ 0 1\n",
      "\n"
     ]
    }
   ],
   "source": [
    "p = Program()\n",
    "prep_prog = p.inst(CZ(0,1))\n",
    "print(prep_prog)"
   ]
  },
  {
   "cell_type": "markdown",
   "metadata": {},
   "source": [
    "### Get things required for a DFE experiment ... aka experiment object"
   ]
  },
  {
   "cell_type": "markdown",
   "metadata": {},
   "source": [
    "Namely return a namedtuple consisiting of \n",
    "- pauli_in, \n",
    "- prog, \n",
    "- pauli_out."
   ]
  },
  {
   "cell_type": "code",
   "execution_count": 4,
   "metadata": {},
   "outputs": [],
   "source": [
    "# state dfe\n",
    "state_exp = generate_exhaustive_state_dfe_experiment(prep_prog,[0,1],bm)\n",
    "\n",
    "# process dfe\n",
    "process_exp = generate_exhaustive_process_dfe_experiment(prep_prog,[0,1],bm)"
   ]
  },
  {
   "cell_type": "code",
   "execution_count": 5,
   "metadata": {},
   "outputs": [
    {
     "name": "stdout",
     "output_type": "stream",
     "text": [
      "Experiments to obtain an estimate of fidelity via DFE\n"
     ]
    }
   ],
   "source": [
    "print(process_exp.__doc__)"
   ]
  },
  {
   "cell_type": "code",
   "execution_count": 6,
   "metadata": {},
   "outputs": [
    {
     "data": {
      "text/plain": [
       "DFEExperiment(experiments=<pyquil.operator_estimation.TomographyExperiment object at 0x10f82e390>, kind='exhaustive, process')"
      ]
     },
     "execution_count": 6,
     "metadata": {},
     "output_type": "execute_result"
    }
   ],
   "source": [
    "process_exp"
   ]
  },
  {
   "cell_type": "markdown",
   "metadata": {},
   "source": [
    "### Acquire DFE data (noiseless)"
   ]
  },
  {
   "cell_type": "markdown",
   "metadata": {},
   "source": [
    "Returns dfe data 'data' and calibration data 'cal' namedtuple separately"
   ]
  },
  {
   "cell_type": "code",
   "execution_count": 7,
   "metadata": {},
   "outputs": [
    {
     "name": "stdout",
     "output_type": "stream",
     "text": [
      "================================\n",
      "[1. 1. 1. 1. 1. 1. 1. 1. 1. 1. 1. 1. 1. 1. 1. 1. 1. 1. 1. 1. 1. 1. 1. 1.\n",
      " 1. 1. 1. 1. 1. 1. 1. 1. 1. 1. 1. 1. 1. 1. 1. 1. 1. 1. 1. 1. 1. 1. 1. 1.]\n",
      "================================\n",
      "[1. 1. 1. 1. 1. 1. 1. 1. 1. 1. 1. 1. 1. 1. 1. 1. 1. 1. 1. 1. 1. 1. 1. 1.\n",
      " 1. 1. 1. 1. 1. 1. 1. 1. 1. 1. 1. 1. 1. 1. 1. 1. 1. 1. 1. 1. 1. 1. 1. 1.]\n"
     ]
    }
   ],
   "source": [
    "data = acquire_dfe_data(qvm, process_exp)\n",
    "print(\"================================\")\n",
    "print(data.pauli_point_est)\n",
    "print(\"================================\")\n",
    "print(data.cal_point_est)"
   ]
  },
  {
   "cell_type": "markdown",
   "metadata": {},
   "source": [
    "### Acquire DFE data (noisy QVM)"
   ]
  },
  {
   "cell_type": "code",
   "execution_count": 8,
   "metadata": {},
   "outputs": [
    {
     "name": "stdout",
     "output_type": "stream",
     "text": [
      "================================\n",
      "[0.99103484 0.99817898 0.99413116 1.00769428 1.00749149 0.9909788\n",
      " 0.99023136 0.99297607 0.9882021  0.97099622 0.97657841 0.9905448\n",
      " 0.97558791 0.98027664 0.97430679 1.00751101 0.97747632 0.98002049\n",
      " 0.98691926 0.9909788  0.97964967 0.98550349 0.98370257 0.97302799\n",
      " 0.99126413 0.9947644  0.99773191 1.00206239 1.00723701 0.97693491\n",
      " 0.99128205 0.9828117  0.97671294 0.98652896 1.00090498 0.98954545\n",
      " 0.98145216 1.00686185 0.9859665  1.00076375 0.98582278 0.99325084\n",
      " 1.0059415  0.97864209 0.98630137 0.99748801 1.01809721 0.9989648 ]\n",
      "================================\n",
      "[0.7808 0.7688 0.7838 0.7798 0.881  0.8868 0.778  0.7688 0.7798 0.793\n",
      " 0.7856 0.8884 0.893  0.7808 0.7862 0.7722 0.7814 0.7808 0.8868 0.8868\n",
      " 0.7764 0.7726 0.7854 0.786  0.7784 0.8786 0.8818 0.7758 0.7738 0.7804\n",
      " 0.78   0.7796 0.8932 0.8908 0.884  0.88   0.8842 0.8744 0.8836 0.7856\n",
      " 0.79   0.889  0.8752 0.8896 0.8906 0.8758 0.7736 0.7728]\n"
     ]
    }
   ],
   "source": [
    "n_data = acquire_dfe_data(noisy_qvm, process_exp)\n",
    "print(\"================================\")\n",
    "print(n_data.pauli_point_est)\n",
    "print(\"================================\")\n",
    "print(n_data.cal_point_est)"
   ]
  },
  {
   "cell_type": "code",
   "execution_count": 9,
   "metadata": {},
   "outputs": [
    {
     "name": "stdout",
     "output_type": "stream",
     "text": [
      "Experimental data from a DFE experiment\n"
     ]
    }
   ],
   "source": [
    "print(n_data.__doc__)"
   ]
  },
  {
   "cell_type": "markdown",
   "metadata": {},
   "source": [
    "### Estimate fidelity (noiseless QVM)"
   ]
  },
  {
   "cell_type": "code",
   "execution_count": 11,
   "metadata": {},
   "outputs": [
    {
     "name": "stdout",
     "output_type": "stream",
     "text": [
      "==================================================\n",
      "Fidelity point estimate is 1.0\n",
      "The variance of Fidelity point estimate is 0.0\n",
      "==================================================\n"
     ]
    }
   ],
   "source": [
    "est = estimate_dfe(data)\n",
    "print(\"==================================================\")\n",
    "print('Fidelity point estimate is', est.fid_point_est)\n",
    "print('The variance of Fidelity point estimate is', est.fid_std_err)\n",
    "print(\"==================================================\")"
   ]
  },
  {
   "cell_type": "markdown",
   "metadata": {},
   "source": [
    "### Estimate fidelity (noisy QVM)"
   ]
  },
  {
   "cell_type": "code",
   "execution_count": 13,
   "metadata": {},
   "outputs": [
    {
     "name": "stdout",
     "output_type": "stream",
     "text": [
      "DFEEstimate(dimension=4, qubits=[0, 1], fid_point_est=0.9921888856346573, fid_std_err=0.0011514285309063522)\n",
      "==================================================\n",
      "Fidelity point estimate is 0.9921888856346573\n",
      "The variance of Fidelity point estimate is 0.0011514285309063522\n",
      "==================================================\n"
     ]
    }
   ],
   "source": [
    "nest = estimate_dfe(n_data)\n",
    "print(nest)\n",
    "print(\"==================================================\")\n",
    "print('Fidelity point estimate is', nest.fid_point_est)\n",
    "print('The variance of Fidelity point estimate is', nest.fid_std_err)\n",
    "print(\"==================================================\")"
   ]
  },
  {
   "cell_type": "code",
   "execution_count": null,
   "metadata": {},
   "outputs": [],
   "source": []
  }
 ],
 "metadata": {
  "kernelspec": {
   "display_name": "Python 3",
   "language": "python",
   "name": "python3"
  },
  "language_info": {
   "codemirror_mode": {
    "name": "ipython",
    "version": 3
   },
   "file_extension": ".py",
   "mimetype": "text/x-python",
   "name": "python",
   "nbconvert_exporter": "python",
   "pygments_lexer": "ipython3",
   "version": "3.6.7"
  }
 },
 "nbformat": 4,
 "nbformat_minor": 2
}
