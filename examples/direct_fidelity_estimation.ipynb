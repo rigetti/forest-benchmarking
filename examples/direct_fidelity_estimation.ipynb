{
 "cells": [
  {
   "cell_type": "markdown",
   "metadata": {},
   "source": [
    "# Direct Fidelity Estimation example"
   ]
  },
  {
   "cell_type": "code",
   "execution_count": 1,
   "metadata": {},
   "outputs": [],
   "source": [
    "from pyquil.paulis import ID\n",
    "from pyquil.gates import X, MEASURE, H, CZ\n",
    "from pyquil import Program, get_qc\n",
    "from pyquil.api import get_benchmarker\n",
    "from forest.benchmarking.direct_fidelity_estimation import ( generate_exhaustive_state_dfe_experiment, \n",
    "                                                             generate_exhaustive_process_dfe_experiment,\n",
    "                                                             acquire_dfe_data,\n",
    "                                                             estimate_dfe )"
   ]
  },
  {
   "cell_type": "code",
   "execution_count": 2,
   "metadata": {},
   "outputs": [],
   "source": [
    "# noiseless QVM\n",
    "qvm = get_qc(\"9q-generic-qvm\", as_qvm=True, noisy=False)\n",
    "\n",
    "# noisy QVM\n",
    "noisy_qvm = get_qc(\"9q-generic-qvm\", as_qvm=True, noisy=True)\n",
    "\n",
    "bm = get_benchmarker()"
   ]
  },
  {
   "cell_type": "markdown",
   "metadata": {},
   "source": [
    "### State prep (thing we will do DFE on)"
   ]
  },
  {
   "cell_type": "code",
   "execution_count": 3,
   "metadata": {},
   "outputs": [
    {
     "name": "stdout",
     "output_type": "stream",
     "text": [
      "CZ 0 1\n",
      "\n"
     ]
    }
   ],
   "source": [
    "p = Program()\n",
    "prep_prog = p.inst(CZ(0,1))\n",
    "print(prep_prog)"
   ]
  },
  {
   "cell_type": "markdown",
   "metadata": {},
   "source": [
    "### Get things required for a DFE experiment ... aka experiment object"
   ]
  },
  {
   "cell_type": "markdown",
   "metadata": {},
   "source": [
    "Namely return a namedtuple consisiting of \n",
    "- pauli_in, \n",
    "- prog, \n",
    "- pauli_out."
   ]
  },
  {
   "cell_type": "code",
   "execution_count": 4,
   "metadata": {},
   "outputs": [],
   "source": [
    "# state dfe\n",
    "state_exp = generate_exhaustive_state_dfe_experiment(prep_prog,[0,1],bm)\n",
    "\n",
    "# process dfe\n",
    "process_exp = generate_exhaustive_process_dfe_experiment(prep_prog,[0,1],bm)"
   ]
  },
  {
   "cell_type": "code",
   "execution_count": 5,
   "metadata": {},
   "outputs": [
    {
     "name": "stdout",
     "output_type": "stream",
     "text": [
      "\n",
      "    A tomography-like experiment.\n",
      "\n",
      "    Many near-term quantum algorithms involve:\n",
      "\n",
      "     - some limited state preparation\n",
      "     - enacting a quantum process (like in tomography) or preparing a variational ansatz state\n",
      "       (like in VQE)\n",
      "     - measuring observables of the state.\n",
      "\n",
      "    Where we typically use a large number of (state_prep, measure) pairs but keep the ansatz\n",
      "    program consistent. This class stores the ansatz program as a :py:class:`~pyquil.Program`\n",
      "    and maintains a list of :py:class:`ExperimentSetting` objects which each represent a\n",
      "    (state_prep, measure) pair.\n",
      "\n",
      "    Settings diagonalized by a shared tensor product basis (TPB) can (optionally) be estimated\n",
      "    simultaneously. Therefore, this class is backed by a list of list of ExperimentSettings.\n",
      "    Settings sharing an inner list will be estimated simultaneously. If you don't want this,\n",
      "    provide a list of length-1-lists. As a convenience, if you pass a 1D list to the constructor\n",
      "    will expand it to a list of length-1-lists.\n",
      "\n",
      "    This class will not group settings for you. Please see :py:func:`group_experiments` for\n",
      "    a function that will automatically process a TomographyExperiment to group Experiments sharing\n",
      "    a TPB.\n",
      "    \n"
     ]
    }
   ],
   "source": [
    "print(process_exp.__doc__)"
   ]
  },
  {
   "cell_type": "code",
   "execution_count": 6,
   "metadata": {},
   "outputs": [
    {
     "data": {
      "text/plain": [
       "<pyquil.operator_estimation.TomographyExperiment at 0x11849b128>"
      ]
     },
     "execution_count": 6,
     "metadata": {},
     "output_type": "execute_result"
    }
   ],
   "source": [
    "process_exp"
   ]
  },
  {
   "cell_type": "markdown",
   "metadata": {},
   "source": [
    "### Acquire DFE data (noiseless)"
   ]
  },
  {
   "cell_type": "markdown",
   "metadata": {},
   "source": [
    "Returns dfe data 'data' and calibration data 'cal' namedtuple separately"
   ]
  },
  {
   "cell_type": "code",
   "execution_count": 7,
   "metadata": {},
   "outputs": [
    {
     "name": "stdout",
     "output_type": "stream",
     "text": [
      "================================\n",
      "[1. 1. 1. 1. 1. 1. 1. 1. 1. 1. 1. 1. 1. 1. 1. 1. 1. 1. 1. 1. 1. 1. 1. 1.\n",
      " 1. 1. 1. 1. 1. 1. 1. 1. 1. 1. 1. 1. 1. 1. 1. 1. 1. 1. 1. 1. 1. 1. 1. 1.]\n",
      "================================\n",
      "[1. 1. 1. 1. 1. 1. 1. 1. 1. 1. 1. 1. 1. 1. 1. 1. 1. 1. 1. 1. 1. 1. 1. 1.\n",
      " 1. 1. 1. 1. 1. 1. 1. 1. 1. 1. 1. 1. 1. 1. 1. 1. 1. 1. 1. 1. 1. 1. 1. 1.]\n"
     ]
    }
   ],
   "source": [
    "data = acquire_dfe_data(qvm, process_exp)\n",
    "print(\"================================\")\n",
    "print(data.pauli_point_est)\n",
    "print(\"================================\")\n",
    "print(data.cal_point_est)"
   ]
  },
  {
   "cell_type": "markdown",
   "metadata": {},
   "source": [
    "### Acquire DFE data (noisy QVM)"
   ]
  },
  {
   "cell_type": "code",
   "execution_count": 8,
   "metadata": {},
   "outputs": [
    {
     "name": "stdout",
     "output_type": "stream",
     "text": [
      "================================\n",
      "[0.98029308 0.98001012 0.97378468 0.99085598 0.98838767 1.00748809\n",
      " 0.97850822 0.98642766 0.9776593  0.98562628 0.98527893 0.98557584\n",
      " 0.98268496 0.99482669 0.98694985 0.98298629 0.97859327 0.9756962\n",
      " 0.98036561 0.98685403 0.98770807 0.97604485 0.97252607 0.97601429\n",
      " 1.00386797 0.98053858 0.99253563 0.98502918 0.99072404 0.99025641\n",
      " 0.99502878 0.98411885 0.99251531 0.97861805 1.00547445 0.98779385\n",
      " 0.99682396 1.003861   1.00272727 1.0200052  1.         0.99484536\n",
      " 0.99229898 0.99437064 0.99477985 0.99774521 1.00384813 1.00175924]\n",
      "================================\n",
      "[0.7916 0.7904 0.7858 0.7874 0.8956 0.8814 0.791  0.781  0.7878 0.7792\n",
      " 0.7744 0.8874 0.8894 0.7732 0.7816 0.7876 0.7848 0.79   0.8862 0.8824\n",
      " 0.781  0.7848 0.7862 0.7838 0.7756 0.8838 0.8842 0.7882 0.7762 0.78\n",
      " 0.7644 0.7808 0.8818 0.8886 0.8768 0.8848 0.8816 0.8806 0.88   0.7698\n",
      " 0.784  0.8924 0.883  0.8882 0.8812 0.887  0.7796 0.7958]\n"
     ]
    }
   ],
   "source": [
    "n_data = acquire_dfe_data(noisy_qvm, process_exp)\n",
    "print(\"================================\")\n",
    "print(n_data.pauli_point_est)\n",
    "print(\"================================\")\n",
    "print(n_data.cal_point_est)"
   ]
  },
  {
   "cell_type": "code",
   "execution_count": 9,
   "metadata": {},
   "outputs": [
    {
     "name": "stdout",
     "output_type": "stream",
     "text": [
      "Experimental data from a DFE experiment\n"
     ]
    }
   ],
   "source": [
    "print(n_data.__doc__)"
   ]
  },
  {
   "cell_type": "markdown",
   "metadata": {},
   "source": [
    "### Estimate fidelity (noiseless QVM)"
   ]
  },
  {
   "cell_type": "code",
   "execution_count": 12,
   "metadata": {},
   "outputs": [
    {
     "name": "stdout",
     "output_type": "stream",
     "text": [
      "==================================================\n",
      "Fidelity point estimate is 1.0\n",
      "The standard error of the fidelity point estimate is 0.0\n",
      "==================================================\n"
     ]
    }
   ],
   "source": [
    "est = estimate_dfe(data,'process')\n",
    "print(\"==================================================\")\n",
    "print('Fidelity point estimate is', est.fid_point_est)\n",
    "print('The standard error of the fidelity point estimate is', est.fid_std_err)\n",
    "print(\"==================================================\")"
   ]
  },
  {
   "cell_type": "markdown",
   "metadata": {},
   "source": [
    "### Estimate fidelity (noisy QVM)"
   ]
  },
  {
   "cell_type": "code",
   "execution_count": 13,
   "metadata": {},
   "outputs": [
    {
     "name": "stdout",
     "output_type": "stream",
     "text": [
      "DFEEstimate(dimension=4, qubits=[0, 1], fid_point_est=0.9915118660759432, fid_std_err=0.0011427903817137557)\n",
      "==================================================\n",
      "Fidelity point estimate is 0.9915118660759432\n",
      "The std error of the fidelity point estimate is 0.0011427903817137557\n",
      "==================================================\n"
     ]
    }
   ],
   "source": [
    "nest = estimate_dfe(n_data,'process')\n",
    "print(nest)\n",
    "print(\"==================================================\")\n",
    "print('Fidelity point estimate is', nest.fid_point_est)\n",
    "print('The std error of the fidelity point estimate is', nest.fid_std_err)\n",
    "print(\"==================================================\")"
   ]
  },
  {
   "cell_type": "code",
   "execution_count": null,
   "metadata": {},
   "outputs": [],
   "source": []
  },
  {
   "cell_type": "code",
   "execution_count": null,
   "metadata": {},
   "outputs": [],
   "source": []
  }
 ],
 "metadata": {
  "kernelspec": {
   "display_name": "Python 3",
   "language": "python",
   "name": "python3"
  },
  "language_info": {
   "codemirror_mode": {
    "name": "ipython",
    "version": 3
   },
   "file_extension": ".py",
   "mimetype": "text/x-python",
   "name": "python",
   "nbconvert_exporter": "python",
   "pygments_lexer": "ipython3",
   "version": "3.6.7"
  }
 },
 "nbformat": 4,
 "nbformat_minor": 2
}
