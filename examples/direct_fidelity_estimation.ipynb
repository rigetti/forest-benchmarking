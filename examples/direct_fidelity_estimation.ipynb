{
 "cells": [
  {
   "cell_type": "markdown",
   "metadata": {},
   "source": [
    "# Direct Fidelity Estimation example"
   ]
  },
  {
   "cell_type": "code",
   "execution_count": null,
   "metadata": {},
   "outputs": [],
   "source": [
    "from pyquil.paulis import ID\n",
    "from pyquil.gates import I, X, MEASURE, H, CZ, RY\n",
    "from pyquil import Program, get_qc\n",
    "from pyquil.api import get_benchmarker\n",
    "from forest.benchmarking.direct_fidelity_estimation import ( generate_exhaustive_state_dfe_experiment, \n",
    "                                                             generate_exhaustive_process_dfe_experiment,\n",
    "                                                             generate_monte_carlo_state_dfe_experiment, \n",
    "                                                             generate_monte_carlo_process_dfe_experiment,\n",
    "                                                             acquire_dfe_data,\n",
    "                                                             estimate_dfe )\n",
    "\n",
    "import numpy as np\n",
    "from matplotlib import pyplot"
   ]
  },
  {
   "cell_type": "code",
   "execution_count": null,
   "metadata": {},
   "outputs": [],
   "source": [
    "# noiseless QVM\n",
    "qvm = get_qc(\"9q-generic-qvm\", as_qvm=True, noisy=False)\n",
    "\n",
    "# noisy QVM\n",
    "noisy_qvm = get_qc(\"9q-generic-qvm\", as_qvm=True, noisy=True)\n",
    "\n",
    "bm = get_benchmarker()"
   ]
  },
  {
   "cell_type": "markdown",
   "metadata": {},
   "source": [
    "### State prep (thing we will do DFE on)"
   ]
  },
  {
   "cell_type": "code",
   "execution_count": null,
   "metadata": {},
   "outputs": [],
   "source": [
    "p = Program()\n",
    "prep_prog = p.inst(CZ(0,1))\n",
    "print(prep_prog)"
   ]
  },
  {
   "cell_type": "markdown",
   "metadata": {},
   "source": [
    "### Get things required for a DFE experiment ... aka experiment object"
   ]
  },
  {
   "cell_type": "markdown",
   "metadata": {},
   "source": [
    "Namely return a namedtuple consisiting of \n",
    "- pauli_in, \n",
    "- prog, \n",
    "- pauli_out."
   ]
  },
  {
   "cell_type": "code",
   "execution_count": null,
   "metadata": {},
   "outputs": [],
   "source": [
    "# state dfe\n",
    "state_exp = generate_exhaustive_state_dfe_experiment(prep_prog,[0,1],bm)\n",
    "\n",
    "# process dfe\n",
    "process_exp = generate_exhaustive_process_dfe_experiment(prep_prog,[0,1],bm)"
   ]
  },
  {
   "cell_type": "markdown",
   "metadata": {},
   "source": [
    "### Acquire DFE data (noiseless)"
   ]
  },
  {
   "cell_type": "markdown",
   "metadata": {},
   "source": [
    "Returns dfe data 'data' and calibration data 'cal' namedtuple separately"
   ]
  },
  {
   "cell_type": "code",
   "execution_count": null,
   "metadata": {},
   "outputs": [],
   "source": [
    "results = acquire_dfe_data(qvm, process_exp, num_shots=1000)\n",
    "print(\"================================\")\n",
    "print([res.expectation for res in results])\n",
    "print(\"================================\")\n",
    "print([res.calibration_expectation for res in results])"
   ]
  },
  {
   "cell_type": "markdown",
   "metadata": {},
   "source": [
    "### Acquire DFE data (noisy QVM)"
   ]
  },
  {
   "cell_type": "code",
   "execution_count": null,
   "metadata": {},
   "outputs": [],
   "source": [
    "n_results = acquire_dfe_data(noisy_qvm, process_exp, num_shots=1000)\n",
    "print(\"================================\")\n",
    "print([res.expectation for res in n_results])\n",
    "print(\"================================\")\n",
    "print([res.calibration_expectation for res in n_results])"
   ]
  },
  {
   "cell_type": "markdown",
   "metadata": {},
   "source": [
    "### Estimate fidelity (noiseless QVM)"
   ]
  },
  {
   "cell_type": "code",
   "execution_count": null,
   "metadata": {},
   "outputs": [],
   "source": [
    "fid_est, fid_std_err = estimate_dfe(results,'process')\n",
    "print(\"==================================================\")\n",
    "print('Fidelity point estimate is',fid_est)\n",
    "print('The standard error of the fidelity point estimate is', fid_std_err)\n",
    "print(\"==================================================\")"
   ]
  },
  {
   "cell_type": "markdown",
   "metadata": {},
   "source": [
    "### Estimate fidelity (noisy QVM)"
   ]
  },
  {
   "cell_type": "code",
   "execution_count": null,
   "metadata": {},
   "outputs": [],
   "source": [
    "nfid_est, nfid_std_err = estimate_dfe(n_results,'process')\n",
    "print(\"==================================================\")\n",
    "print('Fidelity point estimate is', nfid_est)\n",
    "print('The std error of the fidelity point estimate is', nfid_std_err)\n",
    "print(\"==================================================\")"
   ]
  },
  {
   "cell_type": "markdown",
   "metadata": {},
   "source": [
    "## State fidelity between $\\left|0\\right\\rangle$ and $R_y(\\theta)\\left|0\\right\\rangle$"
   ]
  },
  {
   "cell_type": "code",
   "execution_count": null,
   "metadata": {},
   "outputs": [],
   "source": [
    "%%time\n",
    "p = Program(I(0),I(1))\n",
    "zz_state = generate_exhaustive_state_dfe_experiment(p, [0,1], bm)\n",
    "zz_state_mc = generate_monte_carlo_state_dfe_experiment(p, [0,1], bm, n_terms=32)\n",
    "print(zz_state)\n",
    "print(zz_state_mc)"
   ]
  },
  {
   "cell_type": "markdown",
   "metadata": {},
   "source": [
    "### Exhaustive"
   ]
  },
  {
   "cell_type": "code",
   "execution_count": null,
   "metadata": {},
   "outputs": [],
   "source": [
    "points = 10\n",
    "res = []\n",
    "res_std_err = []\n",
    "for theta in np.linspace(0, np.pi, points): \n",
    "    zz_state.program = Program(RY(theta,0),RY(theta,1))\n",
    "    zz_state_data = acquire_dfe_data(qvm,zz_state,num_shots=1000)\n",
    "    fid_est, fid_std_err = estimate_dfe(zz_state_data, 'state')\n",
    "    res.append(fid_est)\n",
    "    res_std_err.append(fid_std_err)"
   ]
  },
  {
   "cell_type": "code",
   "execution_count": null,
   "metadata": {},
   "outputs": [],
   "source": [
    "pyplot.errorbar(np.linspace(0, np.pi, points), res, res_std_err, fmt=\".\", label=\"Simulation\")\n",
    "pyplot.plot(np.linspace(0, np.pi, points), (1/2+1/2*np.cos(np.linspace(0, np.pi, points)))**2, label=\"Theory\")\n",
    "pyplot.xlabel(r\"$\\theta$\")\n",
    "pyplot.ylabel(\"Fidelity\")\n",
    "pyplot.legend()\n",
    "pyplot.title(r\"State fidelity between $\\left|0\\right\\rangle$ and $R_y(\\theta)\\left|0\\right\\rangle$\")"
   ]
  },
  {
   "cell_type": "markdown",
   "metadata": {},
   "source": [
    "### Monte-Carlo"
   ]
  },
  {
   "cell_type": "code",
   "execution_count": null,
   "metadata": {},
   "outputs": [],
   "source": [
    "points = 10\n",
    "res = []\n",
    "res_std_err = []\n",
    "for theta in np.linspace(0, np.pi, points): \n",
    "    zz_state_mc.program = Program(RY(theta,0),RY(theta,1))\n",
    "    zz_state_mc_data = acquire_dfe_data(qvm, zz_state_mc, num_shots=1000)\n",
    "    fid_est, fid_std_err = estimate_dfe(zz_state_mc_data, 'state')\n",
    "    res.append(fid_est)\n",
    "    res_std_err.append(fid_std_err)"
   ]
  },
  {
   "cell_type": "code",
   "execution_count": null,
   "metadata": {},
   "outputs": [],
   "source": [
    "pyplot.errorbar(np.linspace(0, np.pi, points), res, res_std_err, fmt=\".\", label=\"Simulation\")\n",
    "pyplot.plot(np.linspace(0, np.pi, points), (1/2+1/2*np.cos(np.linspace(0, np.pi, points)))**2, label=\"Theory\")\n",
    "pyplot.xlabel(r\"$\\theta$\")\n",
    "pyplot.ylabel(\"Fidelity\")\n",
    "pyplot.legend()\n",
    "pyplot.title(r\"State fidelity between $\\left|0\\right\\rangle$ and $R_y(\\theta)\\left|0\\right\\rangle$\")"
   ]
  },
  {
   "cell_type": "markdown",
   "metadata": {},
   "source": [
    "## State fidelity between $\\left|0\\right\\rangle\\left|0\\right\\rangle$ and $R_y(\\theta)\\otimes R_y(2\\theta)\\left|0\\right\\rangle\\left|0\\right\\rangle$"
   ]
  },
  {
   "cell_type": "markdown",
   "metadata": {},
   "source": [
    "### Exhaustive"
   ]
  },
  {
   "cell_type": "code",
   "execution_count": null,
   "metadata": {},
   "outputs": [],
   "source": [
    "points = 10\n",
    "res = []\n",
    "res_std_err = []\n",
    "for theta in np.linspace(0, np.pi, points): \n",
    "    zz_state.program = Program(RY(theta,0),RY(2*theta,1))\n",
    "    zz_state_data = acquire_dfe_data(qvm,zz_state,num_shots=1_000)\n",
    "    fid_est, fid_std_err = estimate_dfe(zz_state_data, 'state')\n",
    "    res.append(fid_est)\n",
    "    res_std_err.append(fid_std_err)"
   ]
  },
  {
   "cell_type": "code",
   "execution_count": null,
   "metadata": {},
   "outputs": [],
   "source": [
    "pyplot.errorbar(np.linspace(0, np.pi, points), res, res_std_err, fmt=\".\", label=\"simulation\")\n",
    "pyplot.plot(np.linspace(0, np.pi, points), \n",
    "            (1/2+1/2*np.cos(np.linspace(0, np.pi, points)))*(1/2+1/2*np.cos(2*np.linspace(0, np.pi, points))),\n",
    "            label=\"theory\")\n",
    "pyplot.xlabel(r\"$\\theta$\")\n",
    "pyplot.ylabel(\"Fidelity\")\n",
    "pyplot.legend()\n",
    "pyplot.title(r\"State fidelity between $\\left|0\\right\\rangle\\left|0\\right\\rangle$ and $R_y(\\theta)\\otimes R_y(2\\theta)\\left|0\\right\\rangle\\left|0\\right\\rangle$\");"
   ]
  },
  {
   "cell_type": "markdown",
   "metadata": {},
   "source": [
    "### Monte Carlo"
   ]
  },
  {
   "cell_type": "code",
   "execution_count": null,
   "metadata": {},
   "outputs": [],
   "source": [
    "points = 10\n",
    "res = []\n",
    "res_std_err = []\n",
    "for theta in np.linspace(0, np.pi, points): \n",
    "    zz_state_mc.program = Program(RY(theta,0),RY(2*theta,1))\n",
    "    zz_state_mc_data = acquire_dfe_data(qvm,zz_state_mc,num_shots=1_000)\n",
    "    fid_est, fid_std_err = estimate_dfe(zz_state_mc_data, 'state')\n",
    "    res.append(fid_est)\n",
    "    res_std_err.append(fid_std_err)"
   ]
  },
  {
   "cell_type": "code",
   "execution_count": null,
   "metadata": {},
   "outputs": [],
   "source": [
    "pyplot.errorbar(np.linspace(0, np.pi, points), res, res_std_err, fmt=\".\", label=\"simulation\")\n",
    "pyplot.plot(np.linspace(0, np.pi, points), \n",
    "            (1/2+1/2*np.cos(np.linspace(0, np.pi, points)))*(1/2+1/2*np.cos(2*np.linspace(0, np.pi, points))),\n",
    "            label=\"theory\")\n",
    "pyplot.xlabel(r\"$\\theta$\")\n",
    "pyplot.ylabel(\"Fidelity\")\n",
    "pyplot.legend()\n",
    "pyplot.title(r\"State fidelity between $\\left|0\\right\\rangle\\left|0\\right\\rangle$ and $R_y(\\theta)\\otimes R_y(2\\theta)\\left|0\\right\\rangle\\left|0\\right\\rangle$\")"
   ]
  },
  {
   "cell_type": "markdown",
   "metadata": {},
   "source": [
    "## Process fidelity between $I$ and $R_y(\\theta)$"
   ]
  },
  {
   "cell_type": "code",
   "execution_count": null,
   "metadata": {},
   "outputs": [],
   "source": [
    "%%time\n",
    "p = Program(I(0))\n",
    "qubits = [0]\n",
    "ii_proc = generate_exhaustive_process_dfe_experiment(p, qubits, bm)\n",
    "ii_proc_mc = generate_monte_carlo_process_dfe_experiment(p, qubits, bm, n_terms=32)"
   ]
  },
  {
   "cell_type": "markdown",
   "metadata": {},
   "source": [
    "### Exhaustive"
   ]
  },
  {
   "cell_type": "code",
   "execution_count": null,
   "metadata": {},
   "outputs": [],
   "source": [
    "points = 10\n",
    "res = []\n",
    "res_std_err = []\n",
    "for theta in np.linspace(0, np.pi, points): \n",
    "    ii_proc.program = Program(RY(theta,0))\n",
    "    ii_proc_data = acquire_dfe_data(qvm,ii_proc,num_shots=500)\n",
    "    fid_est, fid_std_err = estimate_dfe(ii_proc_data, 'process')\n",
    "    res.append(fid_est)\n",
    "    res_std_err.append(fid_std_err)"
   ]
  },
  {
   "cell_type": "code",
   "execution_count": null,
   "metadata": {},
   "outputs": [],
   "source": [
    "pyplot.errorbar(np.linspace(0, np.pi, points), res, res_std_err, fmt=\".\", label=\"data\")\n",
    "pyplot.plot(np.linspace(0, np.pi, points), \n",
    "            (4*np.cos(np.linspace(0, np.pi, points)/2)**2+2)/6,\n",
    "            label=\"theory\")\n",
    "#pyplot.axhline(0.2380952380952381+0.1, color=\"red\", ls=\"--\")\n",
    "pyplot.legend()\n",
    "pyplot.ylim(0,1.25)\n",
    "pyplot.title(r\"Process fidelity between $I$ and $R_y(\\theta)$\")"
   ]
  },
  {
   "cell_type": "markdown",
   "metadata": {},
   "source": [
    "### Monte Carlo"
   ]
  },
  {
   "cell_type": "code",
   "execution_count": null,
   "metadata": {},
   "outputs": [],
   "source": [
    "points = 10\n",
    "res = []\n",
    "res_std_err = []\n",
    "for theta in np.linspace(0, np.pi, points): \n",
    "    ii_proc_mc.program = Program(RY(theta,0))\n",
    "    ii_proc_mc_data = acquire_dfe_data(qvm, ii_proc_mc, num_shots=500)\n",
    "    fid_est, fid_std_err = estimate_dfe(ii_proc_mc_data, 'process')\n",
    "    res.append(fid_est)\n",
    "    res_std_err.append(fid_std_err)"
   ]
  },
  {
   "cell_type": "code",
   "execution_count": null,
   "metadata": {},
   "outputs": [],
   "source": [
    "pyplot.errorbar(np.linspace(0, np.pi, points), res, res_std_err, fmt=\".\", label=\"data\")\n",
    "pyplot.plot(np.linspace(0, np.pi, points), \n",
    "            (4*np.cos(np.linspace(0, np.pi, points)/2)**2+2)/6,\n",
    "            label=\"theory\")\n",
    "pyplot.legend()\n",
    "pyplot.ylim(0,1.25)\n",
    "pyplot.title(r\"Process fidelity between $I$ and $R_y(\\theta)$\")"
   ]
  },
  {
   "cell_type": "code",
   "execution_count": null,
   "metadata": {},
   "outputs": [],
   "source": []
  }
 ],
 "metadata": {
  "language_info": {
   "name": "python",
   "pygments_lexer": "ipython3"
  }
 },
 "nbformat": 4,
 "nbformat_minor": 2
}
