{
 "cells": [
  {
   "cell_type": "markdown",
   "metadata": {},
   "source": [
    "# Superoperator conversion: example conversion between representations"
   ]
  },
  {
   "cell_type": "code",
   "execution_count": null,
   "metadata": {},
   "outputs": [],
   "source": [
    "import numpy as np\n",
    "from forest.benchmarking.superoperator_conversion import vec, unvec"
   ]
  },
  {
   "cell_type": "code",
   "execution_count": null,
   "metadata": {},
   "outputs": [],
   "source": [
    "I = np.asarray([[1, 0], [0, 1]])\n",
    "X = np.asarray([[0, 1], [1, 0]])\n",
    "Y = np.asarray([[0, -1.0j], [1.0j, 0]])\n",
    "Z = np.asarray([[1, 0], [0, -1]])\n",
    "H = np.asarray([[1, 1], [1, -1]]) / np.sqrt(2)\n",
    "CNOT = np.array([[1,0,0,0],[0,1,0,0],[0,0,0,1],[0,0,1,0]])\n",
    "one_state = np.asarray([[0,0],[0,1]])\n",
    "zero_state = np.asarray([[1,0],[0,0]])"
   ]
  },
  {
   "cell_type": "markdown",
   "metadata": {},
   "source": [
    "# vec and unvec "
   ]
  },
  {
   "cell_type": "code",
   "execution_count": null,
   "metadata": {},
   "outputs": [],
   "source": [
    "A = np.asarray([[1, 2], [3, 4]])"
   ]
  },
  {
   "cell_type": "code",
   "execution_count": null,
   "metadata": {},
   "outputs": [],
   "source": [
    "print(A)\n",
    "print(\" \")\n",
    "print(vec(A))\n",
    "print(\" \")\n",
    "print(unvec(vec(A))==A)"
   ]
  },
  {
   "cell_type": "markdown",
   "metadata": {},
   "source": [
    "# Apply Kraus operators to the excited state"
   ]
  },
  {
   "cell_type": "code",
   "execution_count": null,
   "metadata": {},
   "outputs": [],
   "source": [
    "one_state = np.asarray([[0,0],[0,1]])\n",
    "one = vec(one_state)\n",
    "Ad0 = np.asarray([[1, 0], [0, np.sqrt(1-0.1)]])\n",
    "Ad1 = np.asarray([[0, np.sqrt(0.1)], [0, 0]])\n",
    "ko = [Ad0, Ad1]\n",
    "print(ko)\n",
    "# check kraus ops sum to ID\n",
    "np.matmul(Ad0.transpose(), Ad0) + np.matmul(Ad1.transpose(), Ad1)"
   ]
  },
  {
   "cell_type": "markdown",
   "metadata": {},
   "source": [
    "Use Kraus operators to find out put of channel i.e.\n",
    "\n",
    "$\\rho_{out} = A_0 \\rho A_0^\\dagger + A_1 \\rho A_1^\\dagger$\n",
    "\n",
    "Except we only transpose as these matrices have real entries"
   ]
  },
  {
   "cell_type": "code",
   "execution_count": null,
   "metadata": {},
   "outputs": [],
   "source": [
    "rho_out = np.matmul(np.matmul(Ad0, one_state), Ad0.transpose()) \\\n",
    "    + np.matmul(np.matmul(Ad1, one_state), Ad1.transpose())\n",
    "print(rho_out)"
   ]
  },
  {
   "cell_type": "markdown",
   "metadata": {},
   "source": [
    "## Kraus to superoperator"
   ]
  },
  {
   "cell_type": "markdown",
   "metadata": {},
   "source": [
    "Do the case of one Kraus operator i.e. a unitary."
   ]
  },
  {
   "cell_type": "code",
   "execution_count": null,
   "metadata": {},
   "outputs": [],
   "source": [
    "from forest.benchmarking.superoperator_conversion import kraus2superop"
   ]
  },
  {
   "cell_type": "code",
   "execution_count": null,
   "metadata": {},
   "outputs": [],
   "source": [
    "zero_state_vec = vec(zero_state)\n",
    "print(zero_state)\n",
    "print(\"\")\n",
    "print(zero_state_vec)"
   ]
  },
  {
   "cell_type": "code",
   "execution_count": null,
   "metadata": {},
   "outputs": [],
   "source": [
    "# Hadamard * |0>\n",
    "unvec(np.matmul(kraus2superop([H]), zero_state_vec))"
   ]
  },
  {
   "cell_type": "markdown",
   "metadata": {},
   "source": [
    "Do the case of amplitude damping i.e. two Kraus operators."
   ]
  },
  {
   "cell_type": "code",
   "execution_count": null,
   "metadata": {},
   "outputs": [],
   "source": [
    "# super op makes sense\n",
    "one_state_vec = vec(one_state) \n",
    "print(\"vec'ed version \\n\", np.matmul(kraus2superop(ko), one_state_vec))\n",
    "print(\" \")\n",
    "print(\"unvec'ed i.e. rho_out \\n\", unvec(np.matmul(kraus2superop(ko), one_state_vec)))"
   ]
  },
  {
   "cell_type": "code",
   "execution_count": null,
   "metadata": {},
   "outputs": [],
   "source": [
    "print(kraus2superop([X]))"
   ]
  },
  {
   "cell_type": "markdown",
   "metadata": {},
   "source": [
    "# Kraus to Choi"
   ]
  },
  {
   "cell_type": "code",
   "execution_count": null,
   "metadata": {},
   "outputs": [],
   "source": [
    "from scipy.linalg import expm\n",
    "from forest.benchmarking.superoperator_conversion import kraus2choi\n",
    "from forest.benchmarking.utils import partial_trace"
   ]
  },
  {
   "cell_type": "code",
   "execution_count": null,
   "metadata": {},
   "outputs": [],
   "source": [
    "choi = kraus2choi(ko)\n",
    "print(choi)"
   ]
  },
  {
   "cell_type": "code",
   "execution_count": null,
   "metadata": {},
   "outputs": [],
   "source": [
    "prody = np.matmul(choi, np.kron(one_state.transpose(),I) )\n",
    "print(partial_trace(prody, [1], [2,2]))\n",
    "print(\"\\n which is the same as rho_out\")\n"
   ]
  },
  {
   "cell_type": "code",
   "execution_count": null,
   "metadata": {},
   "outputs": [],
   "source": [
    "choiCNOT = kraus2choi([CNOT])\n",
    "print(choiCNOT)"
   ]
  },
  {
   "cell_type": "code",
   "execution_count": null,
   "metadata": {},
   "outputs": [],
   "source": [
    "two_q_id = np.kron(I,I)\n",
    "\n",
    "print(\"Lets see if the CNOT action is correct\")\n",
    "print(\" \")\n",
    "\n",
    "print(\"one one state\")\n",
    "input_state = np.kron(one_state, one_state)\n",
    "prody = np.matmul(choiCNOT, np.kron(two_q_id, input_state.transpose()))\n",
    "print(partial_trace(prody, [0,1], [2,2,2,2]))\n",
    "\n",
    "print(\"one zero state\")\n",
    "input_stated = np.kron(one_state, zero_state)\n",
    "prody = np.matmul(choiCNOT, np.kron(two_q_id, input_stated.transpose()))\n",
    "print(partial_trace(prody, [0,1], [2,2,2,2]))\n",
    "\n",
    "print(\"zero one state\")\n",
    "input_stated = np.kron(zero_state,one_state)\n",
    "prody = np.matmul(choiCNOT, np.kron(two_q_id, input_stated.transpose()))\n",
    "print(partial_trace(prody, [0,1], [2,2,2,2]))\n",
    "\n",
    "print(\"zero zero state\")\n",
    "input_stated = np.kron(zero_state, zero_state)\n",
    "prody = np.matmul(choiCNOT, np.kron(two_q_id, input_stated.transpose()))\n",
    "print(partial_trace(prody, [0,1], [2,2,2,2]))\n",
    "\n",
    "print(\"\\n Story checks out.\")"
   ]
  }
 ],
 "metadata": {
  "kernelspec": {
   "display_name": "Python 3",
   "language": "python",
   "name": "python3"
  },
  "language_info": {
   "codemirror_mode": {
    "name": "ipython",
    "version": 3
   },
   "file_extension": ".py",
   "mimetype": "text/x-python",
   "name": "python",
   "nbconvert_exporter": "python",
   "pygments_lexer": "ipython3",
   "version": "3.6.3"
  }
 },
 "nbformat": 4,
 "nbformat_minor": 2
}
